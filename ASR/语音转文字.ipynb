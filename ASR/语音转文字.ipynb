{
 "cells": [
  {
   "cell_type": "code",
   "execution_count": null,
   "id": "0e04cac9",
   "metadata": {},
   "outputs": [],
   "source": [
    "from funasr import AutoModel\n",
    "from funasr.utils.postprocess_utils import rich_transcription_postprocess\n"
   ]
  },
  {
   "cell_type": "code",
   "execution_count": null,
   "id": "04f4e3f2",
   "metadata": {},
   "outputs": [],
   "source": [
    "\n",
    "model_dir = \"FunAudioLLM/SenseVoiceSmall\"\n",
    "\n",
    "\n",
    "model = AutoModel(\n",
    "    model=model_dir,\n",
    "    vad_model=\"fsmn-vad\",\n",
    "    vad_kwargs={\"max_single_segment_time\": 30000},\n",
    "    device=\"cuda:0\",\n",
    "    hub=\"hf\",\n",
    ")\n"
   ]
  },
  {
   "cell_type": "code",
   "execution_count": null,
   "id": "3537ca57",
   "metadata": {},
   "outputs": [],
   "source": [
    "model.model_path"
   ]
  },
  {
   "cell_type": "code",
   "execution_count": null,
   "id": "d718ba79",
   "metadata": {},
   "outputs": [],
   "source": [
    "import os\n",
    "\n",
    "# 指定文件夹路径\n",
    "folder_path = 'D:\\code\\competiton\\饿了么智慧点餐\\ASR\\B\\dataset_b'  # 替换为你的文件夹路径\n",
    "\n",
    "# 获取文件夹下的所有文件名\n",
    "file_names = os.listdir(folder_path)\n",
    "\n",
    "# 打印文件名\n",
    "len(file_names)"
   ]
  },
  {
   "cell_type": "code",
   "execution_count": 9,
   "id": "2e695996",
   "metadata": {},
   "outputs": [
    {
     "name": "stderr",
     "output_type": "stream",
     "text": [
      "\n",
      "\n",
      "\n",
      "\u001b[A\u001b[A\u001b[A\n",
      "\n",
      "\n",
      "rtf_avg: 0.016: 100%|\u001b[34m██████████\u001b[0m| 1/1 [00:00<00:00, 12.29it/s]\n",
      "\n",
      "\n",
      "rtf_avg: 0.018, time_speech:  4.720, time_escape: 0.085: 100%|\u001b[31m██████████\u001b[0m| 1/1 [00:00<00:00, 11.26it/s]\n"
     ]
    },
    {
     "name": "stdout",
     "output_type": "stream",
     "text": [
      "3622 天猫精灵来份老火慢炖的牛肉汤吧。 e6f4a110-752d-4192-9071-4aec66d0d1c7.wav\n"
     ]
    },
    {
     "name": "stderr",
     "output_type": "stream",
     "text": [
      "\n",
      "\n",
      "\u001b[A\u001b[A\n",
      "\n",
      "\u001b[A\u001b[A\n",
      "\n",
      "rtf_avg: 0.007: 100%|\u001b[34m██████████\u001b[0m| 1/1 [00:00<00:00, 30.90it/s]\n",
      "\n",
      "\n",
      "\u001b[A\u001b[A\n",
      "\n",
      "\n",
      "\u001b[A\u001b[A\u001b[A\n",
      "\n",
      "\n",
      "\u001b[A\u001b[A\u001b[A\n",
      "\n",
      "\n",
      "rtf_avg: 0.017: 100%|\u001b[34m██████████\u001b[0m| 1/1 [00:00<00:00, 13.15it/s]\n",
      "\n",
      "\n",
      "rtf_avg: 0.020, time_speech:  4.190, time_escape: 0.082: 100%|\u001b[31m██████████\u001b[0m| 1/1 [00:00<00:00, 11.66it/s]\n"
     ]
    },
    {
     "name": "stdout",
     "output_type": "stream",
     "text": [
      "3623 天猫精灵要个素菜小丸子汤吧。 e7069963-a486-4226-8482-32f426688938.wav\n"
     ]
    },
    {
     "name": "stderr",
     "output_type": "stream",
     "text": [
      "\n",
      "\n",
      "\u001b[A\u001b[A\n",
      "\n",
      "\u001b[A\u001b[A\n",
      "\n",
      "rtf_avg: 0.006: 100%|\u001b[34m██████████\u001b[0m| 1/1 [00:00<00:00, 23.66it/s]\n",
      "\n",
      "\n",
      "\u001b[A\u001b[A\n",
      "\n",
      "\n",
      "\u001b[A\u001b[A\u001b[A\n",
      "\n",
      "\n",
      "\u001b[A\u001b[A\u001b[A\n",
      "\n",
      "\n",
      "rtf_avg: 0.011: 100%|\u001b[34m██████████\u001b[0m| 1/1 [00:00<00:00, 13.51it/s]\n",
      "\n",
      "\n",
      "rtf_avg: 0.012, time_speech:  6.580, time_escape: 0.080: 100%|\u001b[31m██████████\u001b[0m| 1/1 [00:00<00:00, 12.04it/s]\n"
     ]
    },
    {
     "name": "stdout",
     "output_type": "stream",
     "text": [
      "3624 天猫精灵4500乘以0.15。 e720e9bb-0f02-44c2-a0c0-b345ddd62b17.wav\n"
     ]
    },
    {
     "name": "stderr",
     "output_type": "stream",
     "text": [
      "\n",
      "\n",
      "\u001b[A\u001b[A\n",
      "\n",
      "\u001b[A\u001b[A\n",
      "\n",
      "rtf_avg: 0.010: 100%|\u001b[34m██████████\u001b[0m| 1/1 [00:00<00:00, 33.75it/s]\n",
      "\n",
      "\n",
      "\u001b[A\u001b[A\n",
      "\n",
      "\n",
      "\u001b[A\u001b[A\u001b[A\n",
      "\n",
      "\n",
      "\u001b[A\u001b[A\u001b[A\n",
      "\n",
      "\n",
      "rtf_avg: 0.029: 100%|\u001b[34m██████████\u001b[0m| 1/1 [00:00<00:00, 13.09it/s]\n",
      "\n",
      "\n",
      "rtf_avg: 0.032, time_speech:  2.516, time_escape: 0.081: 100%|\u001b[31m██████████\u001b[0m| 1/1 [00:00<00:00, 12.05it/s]\n"
     ]
    },
    {
     "name": "stdout",
     "output_type": "stream",
     "text": [
      "3625 可以的那那以后再聊吧。 e723deae-0bef-4fdd-b86f-f0d3cadfe92d.wav\n"
     ]
    },
    {
     "name": "stderr",
     "output_type": "stream",
     "text": [
      "\n",
      "\n",
      "\u001b[A\u001b[A\n",
      "\n",
      "\u001b[A\u001b[A\n",
      "\n",
      "rtf_avg: 0.007: 100%|\u001b[34m██████████\u001b[0m| 1/1 [00:00<00:00, 38.13it/s]\n",
      "\n",
      "\n",
      "\u001b[A\u001b[A\n",
      "\n",
      "\n",
      "\u001b[A\u001b[A\u001b[A\n",
      "\n",
      "\n",
      "\u001b[A\u001b[A\u001b[A\n",
      "\n",
      "\n",
      "rtf_avg: 0.026: 100%|\u001b[34m██████████\u001b[0m| 1/1 [00:00<00:00, 11.99it/s]\n",
      "\n",
      "\n",
      "rtf_avg: 0.028, time_speech:  3.210, time_escape: 0.091: 100%|\u001b[31m██████████\u001b[0m| 1/1 [00:00<00:00, 10.71it/s]\n"
     ]
    },
    {
     "name": "stdout",
     "output_type": "stream",
     "text": [
      "3626 来份韭菜香煎蛋吧。 e744e89f-4847-4a4c-90d5-c1dd248928c4.wav\n"
     ]
    },
    {
     "name": "stderr",
     "output_type": "stream",
     "text": [
      "\n",
      "\n",
      "\u001b[A\u001b[A\n",
      "\n",
      "\u001b[A\u001b[A\n",
      "\n",
      "rtf_avg: 0.007: 100%|\u001b[34m██████████\u001b[0m| 1/1 [00:00<00:00, 33.37it/s]\n",
      "\n",
      "\n",
      "\u001b[A\u001b[A\n",
      "\n",
      "\n",
      "\u001b[A\u001b[A\u001b[A\n",
      "\n",
      "\n",
      "\u001b[A\u001b[A\u001b[A\n",
      "\n",
      "\n",
      "rtf_avg: 0.019: 100%|\u001b[34m██████████\u001b[0m| 1/1 [00:00<00:00, 13.33it/s]\n",
      "\n",
      "\n",
      "rtf_avg: 0.021, time_speech:  3.860, time_escape: 0.082: 100%|\u001b[31m██████████\u001b[0m| 1/1 [00:00<00:00, 11.97it/s]\n"
     ]
    },
    {
     "name": "stdout",
     "output_type": "stream",
     "text": [
      "3627 要给咸汤煮定炖娃娃车吧。 e74b3745-9056-4cd1-974e-902d4ee989ab.wav\n"
     ]
    },
    {
     "name": "stderr",
     "output_type": "stream",
     "text": [
      "\n",
      "\n",
      "\u001b[A\u001b[A\n",
      "\n",
      "\u001b[A\u001b[A\n",
      "\n",
      "rtf_avg: 0.006: 100%|\u001b[34m██████████\u001b[0m| 1/1 [00:00<00:00, 34.84it/s]\n",
      "\n",
      "\n",
      "\u001b[A\u001b[A\n",
      "\n",
      "\n",
      "\u001b[A\u001b[A\u001b[A\n",
      "\n",
      "\n",
      "\u001b[A\u001b[A\u001b[A\n",
      "\n",
      "\n",
      "rtf_avg: 0.023: 100%|\u001b[34m██████████\u001b[0m| 1/1 [00:00<00:00, 11.26it/s]\n",
      "\n",
      "\n",
      "rtf_avg: 0.025, time_speech:  3.820, time_escape: 0.096: 100%|\u001b[31m██████████\u001b[0m| 1/1 [00:00<00:00, 10.04it/s]\n"
     ]
    },
    {
     "name": "stdout",
     "output_type": "stream",
     "text": [
      "3628 天猫精灵来份乡村冷淡吧。 e7671c6c-41d7-4103-8cae-fa4338aa452d.wav\n"
     ]
    },
    {
     "name": "stderr",
     "output_type": "stream",
     "text": [
      "\n",
      "\n",
      "\u001b[A\u001b[A\n",
      "\n",
      "\u001b[A\u001b[A\n",
      "\n",
      "rtf_avg: 0.006: 100%|\u001b[34m██████████\u001b[0m| 1/1 [00:00<00:00, 28.08it/s]\n",
      "\n",
      "\n",
      "\u001b[A\u001b[A\n",
      "\n",
      "\n",
      "\u001b[A\u001b[A\u001b[A\n",
      "\n",
      "\n",
      "\u001b[A\u001b[A\u001b[A\n",
      "\n",
      "\n",
      "rtf_avg: 0.014: 100%|\u001b[34m██████████\u001b[0m| 1/1 [00:00<00:00, 12.28it/s]\n",
      "\n",
      "\n",
      "rtf_avg: 0.015, time_speech:  5.880, time_escape: 0.086: 100%|\u001b[31m██████████\u001b[0m| 1/1 [00:00<00:00, 11.21it/s]\n"
     ]
    },
    {
     "name": "stdout",
     "output_type": "stream",
     "text": [
      "3629 天猫精灵今天上有什么好看？ e778553b-0187-442a-ae67-239ce0b01f6b.wav\n"
     ]
    },
    {
     "name": "stderr",
     "output_type": "stream",
     "text": [
      "\n",
      "\n",
      "\u001b[A\u001b[A\n",
      "\n",
      "\u001b[A\u001b[A\n",
      "\n",
      "rtf_avg: 0.008: 100%|\u001b[34m██████████\u001b[0m| 1/1 [00:00<00:00, 33.89it/s]\n",
      "\n",
      "\n",
      "\u001b[A\u001b[A\n",
      "\n",
      "\n",
      "\u001b[A\u001b[A\u001b[A\n",
      "\n",
      "\n",
      "\u001b[A\u001b[A\u001b[A\n",
      "\n",
      "\n",
      "rtf_avg: 0.026: 100%|\u001b[34m██████████\u001b[0m| 1/1 [00:00<00:00, 12.44it/s]\n",
      "\n",
      "\n",
      "rtf_avg: 0.029, time_speech:  3.030, time_escape: 0.086: 100%|\u001b[31m██████████\u001b[0m| 1/1 [00:00<00:00, 11.31it/s]\n"
     ]
    },
    {
     "name": "stdout",
     "output_type": "stream",
     "text": [
      "3630 要分冬瓜冻排骨，热乎的。 e7acd19e-9802-4275-80df-d6fd79a4facc.wav\n"
     ]
    },
    {
     "name": "stderr",
     "output_type": "stream",
     "text": [
      "\n",
      "\n",
      "\u001b[A\u001b[A\n",
      "\n",
      "\u001b[A\u001b[A\n",
      "\n",
      "rtf_avg: 0.007: 100%|\u001b[34m██████████\u001b[0m| 1/1 [00:00<00:00, 34.87it/s]\n",
      "\n",
      "\n",
      "\u001b[A\u001b[A\n",
      "\n",
      "\n",
      "\u001b[A\u001b[A\u001b[A\n",
      "\n",
      "\n",
      "\u001b[A\u001b[A\u001b[A\n",
      "\n",
      "\n",
      "rtf_avg: 0.021: 100%|\u001b[34m██████████\u001b[0m| 1/1 [00:00<00:00, 14.21it/s]\n",
      "\n",
      "\n",
      "rtf_avg: 0.023, time_speech:  3.280, time_escape: 0.077: 100%|\u001b[31m██████████\u001b[0m| 1/1 [00:00<00:00, 12.67it/s]\n"
     ]
    },
    {
     "name": "stdout",
     "output_type": "stream",
     "text": [
      "3631 要碗热乎香浓的皮蛋瘦肉粥。 e7bb5dff-3d73-47fc-a989-b74ce02381ac.wav\n"
     ]
    },
    {
     "name": "stderr",
     "output_type": "stream",
     "text": [
      "\n",
      "\n",
      "\u001b[A\u001b[A\n",
      "\n",
      "\u001b[A\u001b[A\n",
      "\n",
      "rtf_avg: 0.007: 100%|\u001b[34m██████████\u001b[0m| 1/1 [00:00<00:00, 35.88it/s]\n",
      "\n",
      "\n",
      "\u001b[A\u001b[A\n",
      "\n",
      "\n",
      "\u001b[A\u001b[A\u001b[A\n",
      "\n",
      "\n",
      "\u001b[A\u001b[A\u001b[A\n",
      "\n",
      "\n",
      "rtf_avg: 0.024: 100%|\u001b[34m██████████\u001b[0m| 1/1 [00:00<00:00, 11.33it/s]\n",
      "\n",
      "\n",
      "rtf_avg: 0.028, time_speech:  3.420, time_escape: 0.094: 100%|\u001b[31m██████████\u001b[0m| 1/1 [00:00<00:00, 10.38it/s]\n"
     ]
    },
    {
     "name": "stdout",
     "output_type": "stream",
     "text": [
      "3632 天猫精灵要个丝瓜蛋花汤吧。 e7d8b6a8-6168-465d-be0a-0ca0898ed986.wav\n"
     ]
    },
    {
     "name": "stderr",
     "output_type": "stream",
     "text": [
      "\n",
      "\n",
      "\u001b[A\u001b[A\n",
      "\n",
      "\u001b[A\u001b[A\n",
      "\n",
      "rtf_avg: 0.007: 100%|\u001b[34m██████████\u001b[0m| 1/1 [00:00<00:00, 34.89it/s]\n",
      "\n",
      "\n",
      "\u001b[A\u001b[A\n",
      "\n",
      "\n",
      "\u001b[A\u001b[A\u001b[A\n",
      "\n",
      "\n",
      "\u001b[A\u001b[A\u001b[A\n",
      "\n",
      "\n",
      "rtf_avg: 0.022: 100%|\u001b[34m██████████\u001b[0m| 1/1 [00:00<00:00, 12.76it/s]\n",
      "\n",
      "\n",
      "rtf_avg: 0.024, time_speech:  3.570, time_escape: 0.085: 100%|\u001b[31m██████████\u001b[0m| 1/1 [00:00<00:00, 11.44it/s]\n"
     ]
    },
    {
     "name": "stdout",
     "output_type": "stream",
     "text": [
      "3633 来碗热乎软糯的黑米粥。 e7e76eba-7098-46a1-9e8f-90760f877eb0.wav\n"
     ]
    },
    {
     "name": "stderr",
     "output_type": "stream",
     "text": [
      "\n",
      "\n",
      "\u001b[A\u001b[A\n",
      "\n",
      "\u001b[A\u001b[A\n",
      "\n",
      "rtf_avg: 0.006: 100%|\u001b[34m██████████\u001b[0m| 1/1 [00:00<00:00, 27.03it/s]\n",
      "\n",
      "\n",
      "\u001b[A\u001b[A\n",
      "\n",
      "\n",
      "\u001b[A\u001b[A\u001b[A\n",
      "\n",
      "\n",
      "\u001b[A\u001b[A\u001b[A\n",
      "\n",
      "\n",
      "rtf_avg: 0.015: 100%|\u001b[34m██████████\u001b[0m| 1/1 [00:00<00:00, 12.37it/s]\n",
      "\n",
      "\n",
      "rtf_avg: 0.017, time_speech:  5.030, time_escape: 0.086: 100%|\u001b[31m██████████\u001b[0m| 1/1 [00:00<00:00, 11.31it/s]\n"
     ]
    },
    {
     "name": "stdout",
     "output_type": "stream",
     "text": [
      "3634 天猫精灵来碗玉米南瓜甜粥榜。 e7f3ece3-2514-4158-a8e4-7db979a51e5b.wav\n"
     ]
    },
    {
     "name": "stderr",
     "output_type": "stream",
     "text": [
      "\n",
      "\n",
      "\u001b[A\u001b[A\n",
      "\n",
      "\u001b[A\u001b[A\n",
      "\n",
      "rtf_avg: 0.005: 100%|\u001b[34m██████████\u001b[0m| 1/1 [00:00<00:00, 26.06it/s]\n",
      "\n",
      "\n",
      "\u001b[A\u001b[A\n",
      "\n",
      "\n",
      "\u001b[A\u001b[A\u001b[A\n",
      "\n",
      "\n",
      "\u001b[A\u001b[A\u001b[A\n",
      "\n",
      "\n",
      "rtf_avg: 0.011: 100%|\u001b[34m██████████\u001b[0m| 1/1 [00:00<00:00, 13.49it/s]\n",
      "\n",
      "\n",
      "rtf_avg: 0.012, time_speech:  6.680, time_escape: 0.078: 100%|\u001b[31m██████████\u001b[0m| 1/1 [00:00<00:00, 12.38it/s]\n"
     ]
    },
    {
     "name": "stdout",
     "output_type": "stream",
     "text": [
      "3635 天猫精灵给我这给我播放小兔子乖乖大宝抱。 e7ffe142-dfe9-4e9b-ac96-b55578c5ecda.wav\n"
     ]
    },
    {
     "name": "stderr",
     "output_type": "stream",
     "text": [
      "\n",
      "\n",
      "\u001b[A\u001b[A\n",
      "\n",
      "\u001b[A\u001b[A\n",
      "\n",
      "rtf_avg: 0.006: 100%|\u001b[34m██████████\u001b[0m| 1/1 [00:00<00:00, 31.64it/s]\n",
      "\n",
      "\n",
      "\u001b[A\u001b[A\n",
      "\n",
      "\n",
      "\u001b[A\u001b[A\u001b[A\n",
      "\n",
      "\n",
      "\u001b[A\u001b[A\u001b[A\n",
      "\n",
      "\n",
      "rtf_avg: 0.017: 100%|\u001b[34m██████████\u001b[0m| 1/1 [00:00<00:00, 12.52it/s]\n",
      "\n",
      "\n",
      "rtf_avg: 0.017, time_speech:  4.840, time_escape: 0.084: 100%|\u001b[31m██████████\u001b[0m| 1/1 [00:00<00:00, 11.48it/s]\n"
     ]
    },
    {
     "name": "stdout",
     "output_type": "stream",
     "text": [
      "3636 继续包规则外传开局化身壁刀战神第200。 e800444f-1457-4db1-bc92-6a9b18b0e254.wav\n"
     ]
    },
    {
     "name": "stderr",
     "output_type": "stream",
     "text": [
      "\n",
      "\n",
      "\u001b[A\u001b[A\n",
      "\n",
      "\u001b[A\u001b[A\n",
      "\n",
      "rtf_avg: 0.007: 100%|\u001b[34m██████████\u001b[0m| 1/1 [00:00<00:00, 28.42it/s]\n",
      "\n",
      "\n",
      "\u001b[A\u001b[A\n",
      "\n",
      "\n",
      "\u001b[A\u001b[A\u001b[A\n",
      "\n",
      "\n",
      "\u001b[A\u001b[A\u001b[A\n",
      "\n",
      "\n",
      "rtf_avg: 0.017: 100%|\u001b[34m██████████\u001b[0m| 1/1 [00:00<00:00, 13.59it/s]\n",
      "\n",
      "\n",
      "rtf_avg: 0.019, time_speech:  4.180, time_escape: 0.079: 100%|\u001b[31m██████████\u001b[0m| 1/1 [00:00<00:00, 12.28it/s]\n"
     ]
    },
    {
     "name": "stdout",
     "output_type": "stream",
     "text": [
      "3637 天猫精灵来份肉片炒小娃娃菜吧。 e8214c63-5b94-4e3a-ab93-80131680f17c.wav\n"
     ]
    },
    {
     "name": "stderr",
     "output_type": "stream",
     "text": [
      "\n",
      "\n",
      "\u001b[A\u001b[A\n",
      "\n",
      "\u001b[A\u001b[A\n",
      "\n",
      "rtf_avg: 0.007: 100%|\u001b[34m██████████\u001b[0m| 1/1 [00:00<00:00, 36.40it/s]\n",
      "\n",
      "\n",
      "\u001b[A\u001b[A\n",
      "\n",
      "\n",
      "\u001b[A\u001b[A\u001b[A\n",
      "\n",
      "\n",
      "\u001b[A\u001b[A\u001b[A\n",
      "\n",
      "\n",
      "rtf_avg: 0.021: 100%|\u001b[34m██████████\u001b[0m| 1/1 [00:00<00:00, 13.88it/s]\n",
      "\n",
      "\n",
      "rtf_avg: 0.022, time_speech:  3.380, time_escape: 0.076: 100%|\u001b[31m██████████\u001b[0m| 1/1 [00:00<00:00, 12.48it/s]\n"
     ]
    },
    {
     "name": "stdout",
     "output_type": "stream",
     "text": [
      "3638 来碗热乎的红枣应儿粥吧。 e834709c-cc9a-4ef2-8a9f-0e34581ef2fd.wav\n"
     ]
    },
    {
     "name": "stderr",
     "output_type": "stream",
     "text": [
      "\n",
      "\n",
      "\u001b[A\u001b[A\n",
      "\n",
      "\u001b[A\u001b[A\n",
      "\n",
      "rtf_avg: 0.008: 100%|\u001b[34m██████████\u001b[0m| 1/1 [00:00<00:00, 22.48it/s]\n",
      "\n",
      "\n",
      "\u001b[A\u001b[A\n",
      "\n",
      "\n",
      "\u001b[A\u001b[A\u001b[A\n",
      "\n",
      "\n",
      "\u001b[A\u001b[A\u001b[A\n",
      "\n",
      "\n",
      "rtf_avg: 0.013: 100%|\u001b[34m██████████\u001b[0m| 1/1 [00:00<00:00, 13.77it/s]\n",
      "\n",
      "\n",
      "rtf_avg: 0.016, time_speech:  5.140, time_escape: 0.080: 100%|\u001b[31m██████████\u001b[0m| 1/1 [00:00<00:00, 12.07it/s]\n"
     ]
    },
    {
     "name": "stdout",
     "output_type": "stream",
     "text": [
      "3639 天猫精灵放个公鸡大的声音。 e83b4633-16e0-4fd1-9622-8f35f0a369f2.wav\n"
     ]
    },
    {
     "name": "stderr",
     "output_type": "stream",
     "text": [
      "\n",
      "\n",
      "\u001b[A\u001b[A\n",
      "\n",
      "\u001b[A\u001b[A\n",
      "\n",
      "rtf_avg: 0.006: 100%|\u001b[34m██████████\u001b[0m| 1/1 [00:00<00:00, 29.27it/s]\n",
      "\n",
      "\n",
      "\u001b[A\u001b[A\n",
      "\n",
      "\n",
      "\u001b[A\u001b[A\u001b[A\n",
      "\n",
      "\n",
      "\u001b[A\u001b[A\u001b[A\n",
      "\n",
      "\n",
      "rtf_avg: 0.017: 100%|\u001b[34m██████████\u001b[0m| 1/1 [00:00<00:00, 11.42it/s]\n",
      "\n",
      "\n",
      "rtf_avg: 0.019, time_speech:  4.970, time_escape: 0.094: 100%|\u001b[31m██████████\u001b[0m| 1/1 [00:00<00:00, 10.44it/s]\n"
     ]
    },
    {
     "name": "stdout",
     "output_type": "stream",
     "text": [
      "3640 天猫精灵来份暖心养胃的土鸡汤吧。 e85ef8a8-fb0b-42e1-8493-ac395528054a.wav\n"
     ]
    },
    {
     "name": "stderr",
     "output_type": "stream",
     "text": [
      "\n",
      "\n",
      "\u001b[A\u001b[A\n",
      "\n",
      "\u001b[A\u001b[A\n",
      "\n",
      "rtf_avg: 0.006: 100%|\u001b[34m██████████\u001b[0m| 1/1 [00:00<00:00, 36.56it/s]\n",
      "\n",
      "\n",
      "\u001b[A\u001b[A\n",
      "\n",
      "\n",
      "\u001b[A\u001b[A\u001b[A\n",
      "\n",
      "\n",
      "\u001b[A\u001b[A\u001b[A\n",
      "\n",
      "\n",
      "rtf_avg: 0.021: 100%|\u001b[34m██████████\u001b[0m| 1/1 [00:00<00:00, 12.73it/s]\n",
      "\n",
      "\n",
      "rtf_avg: 0.023, time_speech:  3.720, time_escape: 0.085: 100%|\u001b[31m██████████\u001b[0m| 1/1 [00:00<00:00, 11.45it/s]\n"
     ]
    },
    {
     "name": "stdout",
     "output_type": "stream",
     "text": [
      "3641 要个韭菜豆芽炒粉吧。 e85f3554-9c4f-4884-8126-3904ef0839cd.wav\n"
     ]
    },
    {
     "name": "stderr",
     "output_type": "stream",
     "text": [
      "\n",
      "\n",
      "\u001b[A\u001b[A\n",
      "\n",
      "\u001b[A\u001b[A\n",
      "\n",
      "rtf_avg: 0.005: 100%|\u001b[34m██████████\u001b[0m| 1/1 [00:00<00:00, 24.49it/s]\n",
      "\n",
      "\n",
      "\u001b[A\u001b[A\n",
      "\n",
      "\n",
      "\u001b[A\u001b[A\u001b[A\n",
      "\n",
      "\n",
      "\u001b[A\u001b[A\u001b[A\n",
      "\n",
      "\n",
      "rtf_avg: 0.013: 100%|\u001b[34m██████████\u001b[0m| 1/1 [00:00<00:00, 12.98it/s]\n",
      "\n",
      "\n",
      "rtf_avg: 0.012, time_speech:  6.860, time_escape: 0.081: 100%|\u001b[31m██████████\u001b[0m| 1/1 [00:00<00:00, 11.76it/s]\n"
     ]
    },
    {
     "name": "stdout",
     "output_type": "stream",
     "text": [
      "3642 天猫精灵926除以100。 e86713ef-6c1b-48c0-97d1-9f6e42be0278.wav\n"
     ]
    },
    {
     "name": "stderr",
     "output_type": "stream",
     "text": [
      "\n",
      "\n",
      "\u001b[A\u001b[A\n",
      "\n",
      "\u001b[A\u001b[A\n",
      "\n",
      "rtf_avg: 0.004: 100%|\u001b[34m██████████\u001b[0m| 1/1 [00:00<00:00, 23.84it/s]\n",
      "\n",
      "\n",
      "\u001b[A\u001b[A\n",
      "\n",
      "\n",
      "\u001b[A\u001b[A\u001b[A\n",
      "\n",
      "\n",
      "\u001b[A\u001b[A\u001b[A\n",
      "\n",
      "\n",
      "rtf_avg: 0.009: 100%|\u001b[34m██████████\u001b[0m| 1/1 [00:00<00:00, 12.07it/s]\n",
      "\n",
      "\n",
      "rtf_avg: 0.010, time_speech:  8.855, time_escape: 0.087: 100%|\u001b[31m██████████\u001b[0m| 1/1 [00:00<00:00, 11.06it/s]\n"
     ]
    },
    {
     "name": "stdout",
     "output_type": "stream",
     "text": [
      "3643 ，帮我来一颗蓝湖洋山芋同步浓汤，味道烧得透点啊，汤里像骨头酥透种。 e86b53a1-7294-4b32-bde1-f434c67d58dc.wav\n"
     ]
    },
    {
     "name": "stderr",
     "output_type": "stream",
     "text": [
      "\n",
      "\n",
      "\u001b[A\u001b[A\n",
      "\n",
      "\u001b[A\u001b[A\n",
      "\n",
      "rtf_avg: 0.006: 100%|\u001b[34m██████████\u001b[0m| 1/1 [00:00<00:00, 33.16it/s]\n",
      "\n",
      "\n",
      "\u001b[A\u001b[A\n",
      "\n",
      "\n",
      "\u001b[A\u001b[A\u001b[A\n",
      "\n",
      "\n",
      "\u001b[A\u001b[A\u001b[A\n",
      "\n",
      "\n",
      "rtf_avg: 0.017: 100%|\u001b[34m██████████\u001b[0m| 1/1 [00:00<00:00, 13.61it/s]\n",
      "\n",
      "\n",
      "rtf_avg: 0.018, time_speech:  4.350, time_escape: 0.078: 100%|\u001b[31m██████████\u001b[0m| 1/1 [00:00<00:00, 12.32it/s]\n"
     ]
    },
    {
     "name": "stdout",
     "output_type": "stream",
     "text": [
      "3644 天猫精灵来问之9对比是车吧。 e875d4ab-03ce-49a0-bd96-625b8ef836ef.wav\n"
     ]
    },
    {
     "name": "stderr",
     "output_type": "stream",
     "text": [
      "\n",
      "\n",
      "\u001b[A\u001b[A\n",
      "\n",
      "\u001b[A\u001b[A\n",
      "\n",
      "rtf_avg: 0.004: 100%|\u001b[34m██████████\u001b[0m| 1/1 [00:00<00:00, 23.34it/s]\n",
      "\n",
      "\n",
      "\u001b[A\u001b[A\n",
      "\n",
      "\n",
      "\u001b[A\u001b[A\u001b[A\n",
      "\n",
      "\n",
      "\u001b[A\u001b[A\u001b[A\n",
      "\n",
      "\n",
      "rtf_avg: 0.009: 100%|\u001b[34m██████████\u001b[0m| 1/1 [00:00<00:00, 12.52it/s]\n",
      "\n",
      "\n",
      "rtf_avg: 0.009, time_speech:  9.188, time_escape: 0.085: 100%|\u001b[31m██████████\u001b[0m| 1/1 [00:00<00:00, 11.22it/s]\n"
     ]
    },
    {
     "name": "stdout",
     "output_type": "stream",
     "text": [
      "3645 天猫精灵178除以3乘以30。 e88ffc25-d8bd-41ed-a8e3-d56cc20c606f.wav\n"
     ]
    },
    {
     "name": "stderr",
     "output_type": "stream",
     "text": [
      "\n",
      "\n",
      "\u001b[A\u001b[A\n",
      "\n",
      "\u001b[A\u001b[A\n",
      "\n",
      "rtf_avg: 0.007: 100%|\u001b[34m██████████\u001b[0m| 1/1 [00:00<00:00, 37.25it/s]\n",
      "\n",
      "\n",
      "\u001b[A\u001b[A\n",
      "\n",
      "\n",
      "\u001b[A\u001b[A\u001b[A\n",
      "\n",
      "\n",
      "\u001b[A\u001b[A\u001b[A\n",
      "\n",
      "\n",
      "rtf_avg: 0.024: 100%|\u001b[34m██████████\u001b[0m| 1/1 [00:00<00:00, 13.06it/s]\n",
      "\n",
      "\n",
      "rtf_avg: 0.027, time_speech:  3.115, time_escape: 0.083: 100%|\u001b[31m██████████\u001b[0m| 1/1 [00:00<00:00, 11.66it/s]\n"
     ]
    },
    {
     "name": "stdout",
     "output_type": "stream",
     "text": [
      "3646 我想听晚不醒的，如果我是他。 e8996f41-0907-4a96-a276-d6e96e23cdaa.wav\n"
     ]
    },
    {
     "name": "stderr",
     "output_type": "stream",
     "text": [
      "\n",
      "\n",
      "\u001b[A\u001b[A\n",
      "\n",
      "\u001b[A\u001b[A\n",
      "\n",
      "rtf_avg: 0.006: 100%|\u001b[34m██████████\u001b[0m| 1/1 [00:00<00:00, 32.25it/s]\n",
      "\n",
      "\n",
      "\u001b[A\u001b[A\n",
      "\n",
      "\n",
      "\u001b[A\u001b[A\u001b[A\n",
      "\n",
      "\n",
      "\u001b[A\u001b[A\u001b[A\n",
      "\n",
      "\n",
      "rtf_avg: 0.016: 100%|\u001b[34m██████████\u001b[0m| 1/1 [00:00<00:00, 13.92it/s]\n",
      "\n",
      "\n",
      "rtf_avg: 0.018, time_speech:  4.250, time_escape: 0.078: 100%|\u001b[31m██████████\u001b[0m| 1/1 [00:00<00:00, 12.40it/s]\n"
     ]
    },
    {
     "name": "stdout",
     "output_type": "stream",
     "text": [
      "3647 天猫精灵来碗鲜贝瘦肉热粥吧。 e89fd5e8-9787-43b1-9ea7-0274a6a9ca3d.wav\n"
     ]
    },
    {
     "name": "stderr",
     "output_type": "stream",
     "text": [
      "\n",
      "\n",
      "\u001b[A\u001b[A\n",
      "\n",
      "\u001b[A\u001b[A\n",
      "\n",
      "rtf_avg: 0.007: 100%|\u001b[34m██████████\u001b[0m| 1/1 [00:00<00:00, 28.85it/s]\n",
      "\n",
      "\n",
      "\u001b[A\u001b[A\n",
      "\n",
      "\n",
      "\u001b[A\u001b[A\u001b[A\n",
      "\n",
      "\n",
      "\u001b[A\u001b[A\u001b[A\n",
      "\n",
      "\n",
      "rtf_avg: 0.016: 100%|\u001b[34m██████████\u001b[0m| 1/1 [00:00<00:00, 13.77it/s]\n",
      "\n",
      "\n",
      "rtf_avg: 0.018, time_speech:  4.410, time_escape: 0.080: 100%|\u001b[31m██████████\u001b[0m| 1/1 [00:00<00:00, 12.24it/s]\n"
     ]
    },
    {
     "name": "stdout",
     "output_type": "stream",
     "text": [
      "3648 天猫精灵来粉子部烙牙糖吧。 e8d52b4d-6308-4949-a99d-e0f9caa8eb71.wav\n"
     ]
    },
    {
     "name": "stderr",
     "output_type": "stream",
     "text": [
      "\n",
      "\n",
      "\u001b[A\u001b[A\n",
      "\n",
      "\u001b[A\u001b[A\n",
      "\n",
      "rtf_avg: 0.005: 100%|\u001b[34m██████████\u001b[0m| 1/1 [00:00<00:00, 26.37it/s]\n",
      "\n",
      "\n",
      "\u001b[A\u001b[A\n",
      "\n",
      "\n",
      "\u001b[A\u001b[A\u001b[A\n",
      "\n",
      "\n",
      "\u001b[A\u001b[A\u001b[A\n",
      "\n",
      "\n",
      "rtf_avg: 0.014: 100%|\u001b[34m██████████\u001b[0m| 1/1 [00:00<00:00, 10.28it/s]\n",
      "\n",
      "\n",
      "\u001b[A\u001b[A\n",
      "\n",
      "rtf_avg: 0.016, time_speech:  6.640, time_escape: 0.103: 100%|\u001b[31m██████████\u001b[0m| 1/1 [00:00<00:00,  9.34it/s]\n"
     ]
    },
    {
     "name": "stdout",
     "output_type": "stream",
     "text": [
      "3649 天猫精灵可以给可以放屁的声音吗？ e8e71c35-bba5-4324-9b34-9bc9a8bad747.wav\n"
     ]
    },
    {
     "name": "stderr",
     "output_type": "stream",
     "text": [
      "\n",
      "\n",
      "\u001b[A\u001b[A\n",
      "\n",
      "\u001b[A\u001b[A\n",
      "\n",
      "rtf_avg: 0.006: 100%|\u001b[34m██████████\u001b[0m| 1/1 [00:00<00:00, 30.26it/s]\n",
      "\n",
      "\n",
      "\u001b[A\u001b[A\n",
      "\n",
      "\n",
      "\u001b[A\u001b[A\u001b[A\n",
      "\n",
      "\n",
      "\u001b[A\u001b[A\u001b[A\n",
      "\n",
      "\n",
      "rtf_avg: 0.019: 100%|\u001b[34m██████████\u001b[0m| 1/1 [00:00<00:00, 13.31it/s]\n",
      "\n",
      "\n",
      "rtf_avg: 0.016, time_speech:  4.880, time_escape: 0.080: 100%|\u001b[31m██████████\u001b[0m| 1/1 [00:00<00:00, 12.02it/s]\n"
     ]
    },
    {
     "name": "stdout",
     "output_type": "stream",
     "text": [
      "3650 对的，所以我不要天光地影的，我要小爱同学。 e8f176e8-ae30-414e-9225-d20f5e2a740e.wav\n"
     ]
    },
    {
     "name": "stderr",
     "output_type": "stream",
     "text": [
      "\n",
      "\n",
      "\u001b[A\u001b[A\n",
      "\n",
      "\u001b[A\u001b[A\n",
      "\n",
      "rtf_avg: 0.006: 100%|\u001b[34m██████████\u001b[0m| 1/1 [00:00<00:00, 32.31it/s]\n",
      "\n",
      "\n",
      "\u001b[A\u001b[A\n",
      "\n",
      "\n",
      "\u001b[A\u001b[A\u001b[A\n",
      "\n",
      "\n",
      "\u001b[A\u001b[A\u001b[A\n",
      "\n",
      "\n",
      "rtf_avg: 0.017: 100%|\u001b[34m██████████\u001b[0m| 1/1 [00:00<00:00, 13.71it/s]\n",
      "\n",
      "\n",
      "rtf_avg: 0.019, time_speech:  4.270, time_escape: 0.079: 100%|\u001b[31m██████████\u001b[0m| 1/1 [00:00<00:00, 12.30it/s]\n"
     ]
    },
    {
     "name": "stdout",
     "output_type": "stream",
     "text": [
      "3651 天猫精灵来碗热乎的牛肉别菜粉丝包。 e8f78d20-31fb-45ba-b412-463367e7efe4.wav\n"
     ]
    },
    {
     "name": "stderr",
     "output_type": "stream",
     "text": [
      "\n",
      "\n",
      "\u001b[A\u001b[A\n",
      "\n",
      "\u001b[A\u001b[A\n",
      "\n",
      "rtf_avg: 0.005: 100%|\u001b[34m██████████\u001b[0m| 1/1 [00:00<00:00, 29.65it/s]\n",
      "\n",
      "\n",
      "\u001b[A\u001b[A\n",
      "\n",
      "\n",
      "\u001b[A\u001b[A\u001b[A\n",
      "\n",
      "\n",
      "\u001b[A\u001b[A\u001b[A\n",
      "\n",
      "\n",
      "rtf_avg: 0.013: 100%|\u001b[34m██████████\u001b[0m| 1/1 [00:00<00:00, 13.27it/s]\n",
      "\n",
      "\n",
      "rtf_avg: 0.014, time_speech:  5.740, time_escape: 0.081: 100%|\u001b[31m██████████\u001b[0m| 1/1 [00:00<00:00, 12.00it/s]\n"
     ]
    },
    {
     "name": "stdout",
     "output_type": "stream",
     "text": [
      "3652 天猫精灵温度调整为26度。 e901ea50-e641-4d9b-979e-aa7654556a15.wav\n"
     ]
    },
    {
     "name": "stderr",
     "output_type": "stream",
     "text": [
      "\n",
      "\n",
      "\u001b[A\u001b[A\n",
      "\n",
      "\u001b[A\u001b[A\n",
      "\n",
      "rtf_avg: 0.005: 100%|\u001b[34m██████████\u001b[0m| 1/1 [00:00<00:00, 25.71it/s]\n",
      "\n",
      "\n",
      "\u001b[A\u001b[A\n",
      "\n",
      "\n",
      "\u001b[A\u001b[A\u001b[A\n",
      "\n",
      "\n",
      "\u001b[A\u001b[A\u001b[A\n",
      "\n",
      "\n",
      "rtf_avg: 0.011: 100%|\u001b[34m██████████\u001b[0m| 1/1 [00:00<00:00, 13.51it/s]\n",
      "\n",
      "\n",
      "rtf_avg: 0.013, time_speech:  6.280, time_escape: 0.082: 100%|\u001b[31m██████████\u001b[0m| 1/1 [00:00<00:00, 11.97it/s]\n"
     ]
    },
    {
     "name": "stdout",
     "output_type": "stream",
     "text": [
      "3653 天猫精灵，我现在在休息，你现在在干啥？😊 e91e9325-f2bf-4581-bf0b-d579dbc3f71d.wav\n"
     ]
    },
    {
     "name": "stderr",
     "output_type": "stream",
     "text": [
      "\n",
      "\n",
      "\u001b[A\u001b[A\n",
      "\n",
      "\u001b[A\u001b[A\n",
      "\n",
      "rtf_avg: 0.007: 100%|\u001b[34m██████████\u001b[0m| 1/1 [00:00<00:00, 38.59it/s]\n",
      "\n",
      "\n",
      "\u001b[A\u001b[A\n",
      "\n",
      "\n",
      "\u001b[A\u001b[A\u001b[A\n",
      "\n",
      "\n",
      "\u001b[A\u001b[A\u001b[A\n",
      "\n",
      "\n",
      "rtf_avg: 0.025: 100%|\u001b[34m██████████\u001b[0m| 1/1 [00:00<00:00, 12.66it/s]\n",
      "\n",
      "\n",
      "rtf_avg: 0.027, time_speech:  3.180, time_escape: 0.085: 100%|\u001b[31m██████████\u001b[0m| 1/1 [00:00<00:00, 11.48it/s]\n"
     ]
    },
    {
     "name": "stdout",
     "output_type": "stream",
     "text": [
      "3654 天猫精灵白份西红柿炒蛋吧。 e92e7c4c-ba8d-43e7-a82f-18f8b2d1de72.wav\n"
     ]
    },
    {
     "name": "stderr",
     "output_type": "stream",
     "text": [
      "\n",
      "\n",
      "\u001b[A\u001b[A\n",
      "\n",
      "\u001b[A\u001b[A\n",
      "\n",
      "rtf_avg: 0.005: 100%|\u001b[34m██████████\u001b[0m| 1/1 [00:00<00:00, 25.99it/s]\n",
      "\n",
      "\n",
      "\u001b[A\u001b[A\n",
      "\n",
      "\n",
      "\u001b[A\u001b[A\u001b[A\n",
      "\n",
      "\n",
      "\u001b[A\u001b[A\u001b[A\n",
      "\n",
      "\n",
      "rtf_avg: 0.010: 100%|\u001b[34m██████████\u001b[0m| 1/1 [00:00<00:00, 13.46it/s]\n",
      "\n",
      "\n",
      "rtf_avg: 0.011, time_speech:  7.044, time_escape: 0.080: 100%|\u001b[31m██████████\u001b[0m| 1/1 [00:00<00:00, 11.99it/s]\n"
     ]
    },
    {
     "name": "stdout",
     "output_type": "stream",
     "text": [
      "3655 天猫精灵69减63.8等于多少？ e94b48ec-bed9-4da2-856e-444b8b24dbaa.wav\n"
     ]
    },
    {
     "name": "stderr",
     "output_type": "stream",
     "text": [
      "\n",
      "\n",
      "\u001b[A\u001b[A\n",
      "\n",
      "\u001b[A\u001b[A\n",
      "\n",
      "rtf_avg: 0.005: 100%|\u001b[34m██████████\u001b[0m| 1/1 [00:00<00:00, 22.77it/s]\n",
      "\n",
      "\n",
      "\u001b[A\u001b[A\n",
      "\n",
      "\n",
      "\u001b[A\u001b[A\u001b[A\n",
      "\n",
      "\n",
      "\u001b[A\u001b[A\u001b[A\n",
      "\n",
      "\n",
      "rtf_avg: 0.009: 100%|\u001b[34m██████████\u001b[0m| 1/1 [00:00<00:00, 13.01it/s]\n",
      "\n",
      "\n",
      "rtf_avg: 0.010, time_speech:  8.200, time_escape: 0.082: 100%|\u001b[31m██████████\u001b[0m| 1/1 [00:00<00:00, 11.93it/s]\n"
     ]
    },
    {
     "name": "stdout",
     "output_type": "stream",
     "text": [
      "3656 和天猫精灵收藏人之初和和那四个太阳。 e962ae85-d440-406c-8ff3-015e7fc6d565.wav\n"
     ]
    },
    {
     "name": "stderr",
     "output_type": "stream",
     "text": [
      "\n",
      "\n",
      "\u001b[A\u001b[A\n",
      "\n",
      "\u001b[A\u001b[A\n",
      "\n",
      "rtf_avg: 0.006: 100%|\u001b[34m██████████\u001b[0m| 1/1 [00:00<00:00, 29.59it/s]\n",
      "\n",
      "\n",
      "\u001b[A\u001b[A\n",
      "\n",
      "\n",
      "\u001b[A\u001b[A\u001b[A\n",
      "\n",
      "\n",
      "\u001b[A\u001b[A\u001b[A\n",
      "\n",
      "\n",
      "rtf_avg: 0.021: 100%|\u001b[34m██████████\u001b[0m| 1/1 [00:00<00:00, 13.66it/s]\n",
      "\n",
      "\n",
      "rtf_avg: 0.017, time_speech:  4.750, time_escape: 0.079: 100%|\u001b[31m██████████\u001b[0m| 1/1 [00:00<00:00, 12.23it/s]\n"
     ]
    },
    {
     "name": "stdout",
     "output_type": "stream",
     "text": [
      "3657 🎼我要唱青池的我追逐你勿念。 e964de0b-f9cc-4dbb-bb01-77299999263f.wav\n"
     ]
    },
    {
     "name": "stderr",
     "output_type": "stream",
     "text": [
      "\n",
      "\n",
      "\u001b[A\u001b[A\n",
      "\n",
      "\u001b[A\u001b[A\n",
      "\n",
      "rtf_avg: 0.005: 100%|\u001b[34m██████████\u001b[0m| 1/1 [00:00<00:00, 26.48it/s]\n",
      "\n",
      "\n",
      "\u001b[A\u001b[A\n",
      "\n",
      "\n",
      "\u001b[A\u001b[A\u001b[A\n",
      "\n",
      "\n",
      "\u001b[A\u001b[A\u001b[A\n",
      "\n",
      "\n",
      "rtf_avg: 0.011: 100%|\u001b[34m██████████\u001b[0m| 1/1 [00:00<00:00, 12.99it/s]\n",
      "\n",
      "\n",
      "rtf_avg: 0.012, time_speech:  6.960, time_escape: 0.082: 100%|\u001b[31m██████████\u001b[0m| 1/1 [00:00<00:00, 11.90it/s]\n"
     ]
    },
    {
     "name": "stdout",
     "output_type": "stream",
     "text": [
      "3658 天猫精灵煮鸡蛋冷水煮还是热水煮？ e98c969c-e1ba-4f13-8b98-a235c0b12703.wav\n"
     ]
    },
    {
     "name": "stderr",
     "output_type": "stream",
     "text": [
      "\n",
      "\n",
      "\u001b[A\u001b[A\n",
      "\n",
      "\u001b[A\u001b[A\n",
      "\n",
      "rtf_avg: 0.009: 100%|\u001b[34m██████████\u001b[0m| 1/1 [00:00<00:00, 35.73it/s]\n",
      "\n",
      "\n",
      "\u001b[A\u001b[A\n",
      "\n",
      "\n",
      "\u001b[A\u001b[A\u001b[A\n",
      "\n",
      "\n",
      "\u001b[A\u001b[A\u001b[A\n",
      "\n",
      "\n",
      "rtf_avg: 0.034: 100%|\u001b[34m██████████\u001b[0m| 1/1 [00:00<00:00, 11.04it/s]\n",
      "\n",
      "\n",
      "rtf_avg: 0.036, time_speech:  2.650, time_escape: 0.096: 100%|\u001b[31m██████████\u001b[0m| 1/1 [00:00<00:00, 10.13it/s]\n"
     ]
    },
    {
     "name": "stdout",
     "output_type": "stream",
     "text": [
      "3659 来玩乱线八宝粥吧。 e99a58aa-6a52-4314-b408-246cfe217ef7.wav\n"
     ]
    },
    {
     "name": "stderr",
     "output_type": "stream",
     "text": [
      "\n",
      "\n",
      "\u001b[A\u001b[A\n",
      "\n",
      "\u001b[A\u001b[A\n",
      "\n",
      "rtf_avg: 0.005: 100%|\u001b[34m██████████\u001b[0m| 1/1 [00:00<00:00, 29.22it/s]\n",
      "\n",
      "\n",
      "\u001b[A\u001b[A\n",
      "\n",
      "\n",
      "\u001b[A\u001b[A\u001b[A\n",
      "\n",
      "\n",
      "\u001b[A\u001b[A\u001b[A\n",
      "\n",
      "\n",
      "rtf_avg: 0.049: 100%|\u001b[34m██████████\u001b[0m| 1/1 [00:00<00:00, 12.41it/s]\n",
      "\n",
      "\n",
      "rtf_avg: 0.016, time_speech:  5.460, time_escape: 0.085: 100%|\u001b[31m██████████\u001b[0m| 1/1 [00:00<00:00, 11.44it/s]\n"
     ]
    },
    {
     "name": "stdout",
     "output_type": "stream",
     "text": [
      "3660 我说了你一句。😊 e9ab953b-fb9c-4f0d-8241-81eb342bb5fe.wav\n"
     ]
    },
    {
     "name": "stderr",
     "output_type": "stream",
     "text": [
      "\n",
      "\n",
      "\u001b[A\u001b[A\n",
      "\n",
      "\u001b[A\u001b[A\n",
      "\n",
      "rtf_avg: 0.006: 100%|\u001b[34m██████████\u001b[0m| 1/1 [00:00<00:00, 30.23it/s]\n",
      "\n",
      "\n",
      "\u001b[A\u001b[A\n",
      "\n",
      "\n",
      "\u001b[A\u001b[A\u001b[A\n",
      "\n",
      "\n",
      "\u001b[A\u001b[A\u001b[A\n",
      "\n",
      "\n",
      "rtf_avg: 0.015: 100%|\u001b[34m██████████\u001b[0m| 1/1 [00:00<00:00, 13.38it/s]\n",
      "\n",
      "\n",
      "rtf_avg: 0.016, time_speech:  4.840, time_escape: 0.080: 100%|\u001b[31m██████████\u001b[0m| 1/1 [00:00<00:00, 12.24it/s]\n"
     ]
    },
    {
     "name": "stdout",
     "output_type": "stream",
     "text": [
      "3661 想听天猫精灵，我就不给了，继续播放。😊 e9b0568d-9cd7-4077-b04b-ae4b3529d5fa.wav\n"
     ]
    },
    {
     "name": "stderr",
     "output_type": "stream",
     "text": [
      "\n",
      "\n",
      "\u001b[A\u001b[A\n",
      "\n",
      "\u001b[A\u001b[A\n",
      "\n",
      "rtf_avg: 0.007: 100%|\u001b[34m██████████\u001b[0m| 1/1 [00:00<00:00, 33.02it/s]\n",
      "\n",
      "\n",
      "\u001b[A\u001b[A\n",
      "\n",
      "\n",
      "\u001b[A\u001b[A\u001b[A\n",
      "\n",
      "\n",
      "\u001b[A\u001b[A\u001b[A\n",
      "\n",
      "\n",
      "rtf_avg: 0.022: 100%|\u001b[34m██████████\u001b[0m| 1/1 [00:00<00:00, 12.67it/s]\n",
      "\n",
      "\n",
      "rtf_avg: 0.023, time_speech:  3.590, time_escape: 0.084: 100%|\u001b[31m██████████\u001b[0m| 1/1 [00:00<00:00, 11.63it/s]\n"
     ]
    },
    {
     "name": "stdout",
     "output_type": "stream",
     "text": [
      "3662 嚟碗蕃茄鸡蛋盖饭吧。 e9c9d438-93e2-4bbf-89e8-0c16fad9674c.wav\n"
     ]
    },
    {
     "name": "stderr",
     "output_type": "stream",
     "text": [
      "\n",
      "\n",
      "\u001b[A\u001b[A\n",
      "\n",
      "\u001b[A\u001b[A\n",
      "\n",
      "rtf_avg: 0.006: 100%|\u001b[34m██████████\u001b[0m| 1/1 [00:00<00:00, 34.16it/s]\n",
      "\n",
      "\n",
      "\u001b[A\u001b[A\n",
      "\n",
      "\n",
      "\u001b[A\u001b[A\u001b[A\n",
      "\n",
      "\n",
      "\u001b[A\u001b[A\u001b[A\n",
      "\n",
      "\n",
      "rtf_avg: 0.024: 100%|\u001b[34m██████████\u001b[0m| 1/1 [00:00<00:00, 10.18it/s]\n",
      "\n",
      "\n",
      "\u001b[A\u001b[A\n",
      "\n",
      "rtf_avg: 0.025, time_speech:  4.180, time_escape: 0.103: 100%|\u001b[31m██████████\u001b[0m| 1/1 [00:00<00:00,  9.24it/s]\n"
     ]
    },
    {
     "name": "stdout",
     "output_type": "stream",
     "text": [
      "3663 天猫精灵来碗香菇炖排骨粥。 e9cc603a-8a09-4bbd-b609-7a013e64321c.wav\n"
     ]
    },
    {
     "name": "stderr",
     "output_type": "stream",
     "text": [
      "\n",
      "\n",
      "\u001b[A\u001b[A\n",
      "\n",
      "\u001b[A\u001b[A\n",
      "\n",
      "rtf_avg: 0.009: 100%|\u001b[34m██████████\u001b[0m| 1/1 [00:00<00:00, 29.29it/s]\n",
      "\n",
      "\n",
      "\u001b[A\u001b[A\n",
      "\n",
      "\n",
      "\u001b[A\u001b[A\u001b[A\n",
      "\n",
      "\n",
      "\u001b[A\u001b[A\u001b[A\n",
      "\n",
      "\n",
      "rtf_avg: 0.020: 100%|\u001b[34m██████████\u001b[0m| 1/1 [00:00<00:00, 13.88it/s]\n",
      "\n",
      "\n",
      "rtf_avg: 0.022, time_speech:  3.440, time_escape: 0.077: 100%|\u001b[31m██████████\u001b[0m| 1/1 [00:00<00:00, 12.41it/s]\n"
     ]
    },
    {
     "name": "stdout",
     "output_type": "stream",
     "text": [
      "3664 天猫精灵要弯山岳入墨洲吧。😡 e9cf9b85-5578-46b7-8443-2f573c6966f4.wav\n"
     ]
    },
    {
     "name": "stderr",
     "output_type": "stream",
     "text": [
      "\n",
      "\n",
      "\u001b[A\u001b[A\n",
      "\n",
      "\u001b[A\u001b[A\n",
      "\n",
      "rtf_avg: 0.006: 100%|\u001b[34m██████████\u001b[0m| 1/1 [00:00<00:00, 33.63it/s]\n",
      "\n",
      "\n",
      "\u001b[A\u001b[A\n",
      "\n",
      "\n",
      "\u001b[A\u001b[A\u001b[A\n",
      "\n",
      "\n",
      "\u001b[A\u001b[A\u001b[A\n",
      "\n",
      "\n",
      "rtf_avg: 0.017: 100%|\u001b[34m██████████\u001b[0m| 1/1 [00:00<00:00, 13.71it/s]\n",
      "\n",
      "\n",
      "rtf_avg: 0.019, time_speech:  4.250, time_escape: 0.079: 100%|\u001b[31m██████████\u001b[0m| 1/1 [00:00<00:00, 12.28it/s]\n"
     ]
    },
    {
     "name": "stdout",
     "output_type": "stream",
     "text": [
      "3665 天猫精灵来份麻将拌有美菜。 e9e11259-6891-48ef-b90b-8af5bb3d1310.wav\n"
     ]
    },
    {
     "name": "stderr",
     "output_type": "stream",
     "text": [
      "\n",
      "\n",
      "\u001b[A\u001b[A\n",
      "\n",
      "\u001b[A\u001b[A\n",
      "\n",
      "rtf_avg: 0.005: 100%|\u001b[34m██████████\u001b[0m| 1/1 [00:00<00:00, 24.71it/s]\n",
      "\n",
      "\n",
      "\u001b[A\u001b[A\n",
      "\n",
      "\n",
      "\u001b[A\u001b[A\u001b[A\n",
      "\n",
      "\n",
      "\u001b[A\u001b[A\u001b[A\n",
      "\n",
      "\n",
      "rtf_avg: 0.011: 100%|\u001b[34m██████████\u001b[0m| 1/1 [00:00<00:00, 12.66it/s]\n",
      "\n",
      "\n",
      "rtf_avg: 0.012, time_speech:  7.180, time_escape: 0.085: 100%|\u001b[31m██████████\u001b[0m| 1/1 [00:00<00:00, 11.46it/s]\n"
     ]
    },
    {
     "name": "stdout",
     "output_type": "stream",
     "text": [
      "3666 天猫精灵挂断对世间缘的通话。 e9e68fd2-945b-4961-87a7-b6c381dfac11.wav\n"
     ]
    },
    {
     "name": "stderr",
     "output_type": "stream",
     "text": [
      "\n",
      "\n",
      "\u001b[A\u001b[A\n",
      "\n",
      "\u001b[A\u001b[A\n",
      "\n",
      "rtf_avg: 0.008: 100%|\u001b[34m██████████\u001b[0m| 1/1 [00:00<00:00, 28.78it/s]\n",
      "\n",
      "\n",
      "\u001b[A\u001b[A\n",
      "\n",
      "\n",
      "\u001b[A\u001b[A\u001b[A\n",
      "\n",
      "\n",
      "\u001b[A\u001b[A\u001b[A\n",
      "\n",
      "\n",
      "rtf_avg: 0.023: 100%|\u001b[34m██████████\u001b[0m| 1/1 [00:00<00:00, 13.24it/s]\n",
      "\n",
      "\n",
      "rtf_avg: 0.021, time_speech:  3.850, time_escape: 0.081: 100%|\u001b[31m██████████\u001b[0m| 1/1 [00:00<00:00, 12.05it/s]\n"
     ]
    },
    {
     "name": "stdout",
     "output_type": "stream",
     "text": [
      "3667 天猫精灵来份热的菌菇豆腐汤。 e9ef4bea-eb6c-4571-a040-15477a6019d7.wav\n"
     ]
    },
    {
     "name": "stderr",
     "output_type": "stream",
     "text": [
      "\n",
      "\n",
      "\u001b[A\u001b[A\n",
      "\n",
      "\u001b[A\u001b[A\n",
      "\n",
      "rtf_avg: 0.005: 100%|\u001b[34m██████████\u001b[0m| 1/1 [00:00<00:00, 29.33it/s]\n",
      "\n",
      "\n",
      "\u001b[A\u001b[A\n",
      "\n",
      "\n",
      "\u001b[A\u001b[A\u001b[A\n",
      "\n",
      "\n",
      "\u001b[A\u001b[A\u001b[A\n",
      "\n",
      "\n",
      "rtf_avg: 0.013: 100%|\u001b[34m██████████\u001b[0m| 1/1 [00:00<00:00, 12.39it/s]\n",
      "\n",
      "\n",
      "rtf_avg: 0.013, time_speech:  6.380, time_escape: 0.085: 100%|\u001b[31m██████████\u001b[0m| 1/1 [00:00<00:00, 11.45it/s]\n"
     ]
    },
    {
     "name": "stdout",
     "output_type": "stream",
     "text": [
      "3668 是的，天猫精灵唱唱播放半壶纱。 ea220c07-84bb-415b-b069-08f1de60b715.wav\n"
     ]
    },
    {
     "name": "stderr",
     "output_type": "stream",
     "text": [
      "\n",
      "\n",
      "\u001b[A\u001b[A\n",
      "\n",
      "\u001b[A\u001b[A\n",
      "\n",
      "rtf_avg: 0.007: 100%|\u001b[34m██████████\u001b[0m| 1/1 [00:00<00:00, 37.99it/s]\n",
      "\n",
      "\n",
      "\u001b[A\u001b[A\n",
      "\n",
      "\n",
      "\u001b[A\u001b[A\u001b[A\n",
      "\n",
      "\n",
      "\u001b[A\u001b[A\u001b[A\n",
      "\n",
      "\n",
      "rtf_avg: 0.028: 100%|\u001b[34m██████████\u001b[0m| 1/1 [00:00<00:00, 10.98it/s]\n",
      "\n",
      "\n",
      "rtf_avg: 0.030, time_speech:  3.290, time_escape: 0.097: 100%|\u001b[31m██████████\u001b[0m| 1/1 [00:00<00:00, 10.09it/s]\n"
     ]
    },
    {
     "name": "stdout",
     "output_type": "stream",
     "text": [
      "3669 天猫精灵来份萝卜炖排骨汤吧。 ea4ffb41-00de-4c49-ba83-cef8313ecc9b.wav\n"
     ]
    },
    {
     "name": "stderr",
     "output_type": "stream",
     "text": [
      "\n",
      "\n",
      "\u001b[A\u001b[A\n",
      "\n",
      "\u001b[A\u001b[A\n",
      "\n",
      "rtf_avg: 0.005: 100%|\u001b[34m██████████\u001b[0m| 1/1 [00:00<00:00, 29.56it/s]\n",
      "\n",
      "\n",
      "\u001b[A\u001b[A\n",
      "\n",
      "\n",
      "\u001b[A\u001b[A\u001b[A\n",
      "\n",
      "\n",
      "\u001b[A\u001b[A\u001b[A\n",
      "\n",
      "\n",
      "rtf_avg: 0.011: 100%|\u001b[34m██████████\u001b[0m| 1/1 [00:00<00:00, 13.67it/s]\n",
      "\n",
      "\n",
      "rtf_avg: 0.013, time_speech:  6.120, time_escape: 0.077: 100%|\u001b[31m██████████\u001b[0m| 1/1 [00:00<00:00, 12.59it/s]\n"
     ]
    },
    {
     "name": "stdout",
     "output_type": "stream",
     "text": [
      "3670 天猫精灵播放一笑江湖100遍。 ea626c86-b093-4c9a-887b-55af49d5cb92.wav\n"
     ]
    },
    {
     "name": "stderr",
     "output_type": "stream",
     "text": [
      "\n",
      "\n",
      "\u001b[A\u001b[A\n",
      "\n",
      "\u001b[A\u001b[A\n",
      "\n",
      "rtf_avg: 0.006: 100%|\u001b[34m██████████\u001b[0m| 1/1 [00:00<00:00, 26.28it/s]\n",
      "\n",
      "\n",
      "\u001b[A\u001b[A\n",
      "\n",
      "\n",
      "\u001b[A\u001b[A\u001b[A\n",
      "\n",
      "\n",
      "\u001b[A\u001b[A\u001b[A\n",
      "\n",
      "\n",
      "rtf_avg: 0.013: 100%|\u001b[34m██████████\u001b[0m| 1/1 [00:00<00:00, 12.81it/s]\n",
      "\n",
      "\n",
      "rtf_avg: 0.014, time_speech:  5.840, time_escape: 0.084: 100%|\u001b[31m██████████\u001b[0m| 1/1 [00:00<00:00, 11.67it/s]\n"
     ]
    },
    {
     "name": "stdout",
     "output_type": "stream",
     "text": [
      "3671 天猫精灵啊声音降50%。 ea638bc3-565e-4537-a0ca-4dd779545241.wav\n"
     ]
    },
    {
     "name": "stderr",
     "output_type": "stream",
     "text": [
      "\n",
      "\n",
      "\u001b[A\u001b[A\n",
      "\n",
      "\u001b[A\u001b[A\n",
      "\n",
      "rtf_avg: 0.008: 100%|\u001b[34m██████████\u001b[0m| 1/1 [00:00<00:00, 31.37it/s]\n",
      "\n",
      "\n",
      "\u001b[A\u001b[A\n",
      "\n",
      "\n",
      "\u001b[A\u001b[A\u001b[A\n",
      "\n",
      "\n",
      "\u001b[A\u001b[A\u001b[A\n",
      "\n",
      "\n",
      "rtf_avg: 0.022: 100%|\u001b[34m██████████\u001b[0m| 1/1 [00:00<00:00, 13.43it/s]\n",
      "\n",
      "\n",
      "rtf_avg: 0.022, time_speech:  3.610, time_escape: 0.079: 100%|\u001b[31m██████████\u001b[0m| 1/1 [00:00<00:00, 12.28it/s]\n"
     ]
    },
    {
     "name": "stdout",
     "output_type": "stream",
     "text": [
      "3672 天猫精灵来点好笑话的。 ea745702-f4f6-466c-bb7f-f3d478ed4fd2.wav\n"
     ]
    },
    {
     "name": "stderr",
     "output_type": "stream",
     "text": [
      "\n",
      "\n",
      "\u001b[A\u001b[A\n",
      "\n",
      "\u001b[A\u001b[A\n",
      "\n",
      "rtf_avg: 0.006: 100%|\u001b[34m██████████\u001b[0m| 1/1 [00:00<00:00, 32.69it/s]\n",
      "\n",
      "\n",
      "\u001b[A\u001b[A\n",
      "\n",
      "\n",
      "\u001b[A\u001b[A\u001b[A\n",
      "\n",
      "\n",
      "\u001b[A\u001b[A\u001b[A\n",
      "\n",
      "\n",
      "rtf_avg: 0.018: 100%|\u001b[34m██████████\u001b[0m| 1/1 [00:00<00:00, 12.57it/s]\n",
      "\n",
      "\n",
      "rtf_avg: 0.020, time_speech:  4.160, time_escape: 0.084: 100%|\u001b[31m██████████\u001b[0m| 1/1 [00:00<00:00, 11.52it/s]\n"
     ]
    },
    {
     "name": "stdout",
     "output_type": "stream",
     "text": [
      "3673 天猫精灵调个家常手撕包菜吧。 ea9b30bf-b38c-4aaa-ba02-c502f77091d9.wav\n"
     ]
    },
    {
     "name": "stderr",
     "output_type": "stream",
     "text": [
      "\n",
      "\n",
      "\u001b[A\u001b[A\n",
      "\n",
      "\u001b[A\u001b[A\n",
      "\n",
      "rtf_avg: 0.008: 100%|\u001b[34m██████████\u001b[0m| 1/1 [00:00<00:00, 37.54it/s]\n",
      "\n",
      "\n",
      "\u001b[A\u001b[A\n",
      "\n",
      "\n",
      "\u001b[A\u001b[A\u001b[A\n",
      "\n",
      "\n",
      "\u001b[A\u001b[A\u001b[A\n",
      "\n",
      "\n",
      "rtf_avg: 0.025: 100%|\u001b[34m██████████\u001b[0m| 1/1 [00:00<00:00, 13.68it/s]\n",
      "\n",
      "\n",
      "rtf_avg: 0.027, time_speech:  2.950, time_escape: 0.079: 100%|\u001b[31m██████████\u001b[0m| 1/1 [00:00<00:00, 12.27it/s]\n"
     ]
    },
    {
     "name": "stdout",
     "output_type": "stream",
     "text": [
      "3674 要的粉吃鸡蛋解婚吧。 eaa32a1e-cbf9-4e8d-aae0-931f2482266b.wav\n"
     ]
    },
    {
     "name": "stderr",
     "output_type": "stream",
     "text": [
      "\n",
      "\n",
      "\u001b[A\u001b[A\n",
      "\n",
      "\u001b[A\u001b[A\n",
      "\n",
      "rtf_avg: 0.005: 100%|\u001b[34m██████████\u001b[0m| 1/1 [00:00<00:00, 24.89it/s]\n",
      "\n",
      "\n",
      "\u001b[A\u001b[A\n",
      "\n",
      "\n",
      "\u001b[A\u001b[A\u001b[A\n",
      "\n",
      "\n",
      "\u001b[A\u001b[A\u001b[A\n",
      "\n",
      "\n",
      "rtf_avg: 0.009: 100%|\u001b[34m██████████\u001b[0m| 1/1 [00:00<00:00, 13.53it/s]\n",
      "\n",
      "\n",
      "rtf_avg: 0.010, time_speech:  7.880, time_escape: 0.078: 100%|\u001b[31m██████████\u001b[0m| 1/1 [00:00<00:00, 12.34it/s]\n"
     ]
    },
    {
     "name": "stdout",
     "output_type": "stream",
     "text": [
      "3675 天猫精播放周深的少管我。 eabd2224-6952-4b06-928b-3d57b69b0848.wav\n"
     ]
    },
    {
     "name": "stderr",
     "output_type": "stream",
     "text": [
      "\n",
      "\n",
      "\u001b[A\u001b[A\n",
      "\n",
      "\u001b[A\u001b[A\n",
      "\n",
      "rtf_avg: 0.005: 100%|\u001b[34m██████████\u001b[0m| 1/1 [00:00<00:00, 25.50it/s]\n",
      "\n",
      "\n",
      "\u001b[A\u001b[A\n",
      "\n",
      "\n",
      "\u001b[A\u001b[A\u001b[A\n",
      "\n",
      "\n",
      "\u001b[A\u001b[A\u001b[A\n",
      "\n",
      "\n",
      "rtf_avg: 0.010: 100%|\u001b[34m██████████\u001b[0m| 1/1 [00:00<00:00, 14.75it/s]\n",
      "\n",
      "\n",
      "rtf_avg: 0.012, time_speech:  6.280, time_escape: 0.073: 100%|\u001b[31m██████████\u001b[0m| 1/1 [00:00<00:00, 13.18it/s]\n"
     ]
    },
    {
     "name": "stdout",
     "output_type": "stream",
     "text": [
      "3676 怎么精灵请放风云九君的歌曲。 eabff563-b493-4cfa-8349-3f6fbd5af01e.wav\n"
     ]
    },
    {
     "name": "stderr",
     "output_type": "stream",
     "text": [
      "\n",
      "\n",
      "\u001b[A\u001b[A\n",
      "\n",
      "\u001b[A\u001b[A\n",
      "\n",
      "rtf_avg: 0.005: 100%|\u001b[34m██████████\u001b[0m| 1/1 [00:00<00:00, 26.77it/s]\n",
      "\n",
      "\n",
      "\u001b[A\u001b[A\n",
      "\n",
      "\n",
      "\u001b[A\u001b[A\u001b[A\n",
      "\n",
      "\n",
      "\u001b[A\u001b[A\u001b[A\n",
      "\n",
      "\n",
      "rtf_avg: 0.011: 100%|\u001b[34m██████████\u001b[0m| 1/1 [00:00<00:00, 13.33it/s]\n",
      "\n",
      "\n",
      "rtf_avg: 0.012, time_speech:  6.700, time_escape: 0.079: 100%|\u001b[31m██████████\u001b[0m| 1/1 [00:00<00:00, 12.19it/s]\n"
     ]
    },
    {
     "name": "stdout",
     "output_type": "stream",
     "text": [
      "3677 天猫精灵播播放侧田的30日。 ead4b240-2576-43cf-be64-1889e9654db4.wav\n"
     ]
    },
    {
     "name": "stderr",
     "output_type": "stream",
     "text": [
      "\n",
      "\n",
      "\u001b[A\u001b[A\n",
      "\n",
      "\u001b[A\u001b[A\n",
      "\n",
      "rtf_avg: 0.005: 100%|\u001b[34m██████████\u001b[0m| 1/1 [00:00<00:00, 27.65it/s]\n",
      "\n",
      "\n",
      "\u001b[A\u001b[A\n",
      "\n",
      "\n",
      "\u001b[A\u001b[A\u001b[A\n",
      "\n",
      "\n",
      "\u001b[A\u001b[A\u001b[A\n",
      "\n",
      "\n",
      "rtf_avg: 0.011: 100%|\u001b[34m██████████\u001b[0m| 1/1 [00:00<00:00, 13.96it/s]\n",
      "\n",
      "\n",
      "rtf_avg: 0.011, time_speech:  6.700, time_escape: 0.077: 100%|\u001b[31m██████████\u001b[0m| 1/1 [00:00<00:00, 12.53it/s]\n"
     ]
    },
    {
     "name": "stdout",
     "output_type": "stream",
     "text": [
      "3678 天猫精灵请播放天堂岛之歌。😊 eadf15cd-0b00-4209-89fd-175105d346f2.wav\n"
     ]
    },
    {
     "name": "stderr",
     "output_type": "stream",
     "text": [
      "\n",
      "\n",
      "\u001b[A\u001b[A\n",
      "\n",
      "\u001b[A\u001b[A\n",
      "\n",
      "rtf_avg: 0.006: 100%|\u001b[34m██████████\u001b[0m| 1/1 [00:00<00:00, 30.45it/s]\n",
      "\n",
      "\n",
      "\u001b[A\u001b[A\n",
      "\n",
      "\n",
      "\u001b[A\u001b[A\u001b[A\n",
      "\n",
      "\n",
      "\u001b[A\u001b[A\u001b[A\n",
      "\n",
      "\n",
      "rtf_avg: 0.018: 100%|\u001b[34m██████████\u001b[0m| 1/1 [00:00<00:00, 11.01it/s]\n",
      "\n",
      "\n",
      "rtf_avg: 0.020, time_speech:  4.740, time_escape: 0.095: 100%|\u001b[31m██████████\u001b[0m| 1/1 [00:00<00:00, 10.22it/s]\n"
     ]
    },
    {
     "name": "stdout",
     "output_type": "stream",
     "text": [
      "3679 天猫精灵要的茄子土豆炖一锅吧。 eae679cc-491d-4dd8-a372-573c3142c197.wav\n"
     ]
    },
    {
     "name": "stderr",
     "output_type": "stream",
     "text": [
      "\n",
      "\n",
      "\u001b[A\u001b[A\n",
      "\n",
      "\u001b[A\u001b[A\n",
      "\n",
      "rtf_avg: 0.006: 100%|\u001b[34m██████████\u001b[0m| 1/1 [00:00<00:00, 30.98it/s]\n",
      "\n",
      "\n",
      "\u001b[A\u001b[A\n",
      "\n",
      "\n",
      "\u001b[A\u001b[A\u001b[A\n",
      "\n",
      "\n",
      "\u001b[A\u001b[A\u001b[A\n",
      "\n",
      "\n",
      "rtf_avg: 0.018: 100%|\u001b[34m██████████\u001b[0m| 1/1 [00:00<00:00, 12.32it/s]\n",
      "\n",
      "\n",
      "rtf_avg: 0.020, time_speech:  4.270, time_escape: 0.085: 100%|\u001b[31m██████████\u001b[0m| 1/1 [00:00<00:00, 11.39it/s]\n"
     ]
    },
    {
     "name": "stdout",
     "output_type": "stream",
     "text": [
      "3680 麻烦来碗燕猫小米养生粥吧。 eb2e04f4-56a6-47a2-8d06-a8eac08fd993.wav\n"
     ]
    },
    {
     "name": "stderr",
     "output_type": "stream",
     "text": [
      "\n",
      "\n",
      "\u001b[A\u001b[A\n",
      "\n",
      "\u001b[A\u001b[A\n",
      "\n",
      "rtf_avg: 0.004: 100%|\u001b[34m██████████\u001b[0m| 1/1 [00:00<00:00, 23.21it/s]\n",
      "\n",
      "\n",
      "\u001b[A\u001b[A\n",
      "\n",
      "\n",
      "\u001b[A\u001b[A\u001b[A\n",
      "\n",
      "\n",
      "\u001b[A\u001b[A\u001b[A\n",
      "\n",
      "\n",
      "rtf_avg: 0.008: 100%|\u001b[34m██████████\u001b[0m| 1/1 [00:00<00:00, 12.97it/s]\n",
      "\n",
      "\n",
      "rtf_avg: 0.009, time_speech:  9.028, time_escape: 0.081: 100%|\u001b[31m██████████\u001b[0m| 1/1 [00:00<00:00, 11.89it/s]\n"
     ]
    },
    {
     "name": "stdout",
     "output_type": "stream",
     "text": [
      "3681 天猫精灵253加264等于几？ eb2e9363-de56-42ca-93bb-0bb24337bd9e.wav\n"
     ]
    },
    {
     "name": "stderr",
     "output_type": "stream",
     "text": [
      "\n",
      "\n",
      "\u001b[A\u001b[A\n",
      "\n",
      "\u001b[A\u001b[A\n",
      "\n",
      "rtf_avg: 0.006: 100%|\u001b[34m██████████\u001b[0m| 1/1 [00:00<00:00, 29.00it/s]\n",
      "\n",
      "\n",
      "\u001b[A\u001b[A\n",
      "\n",
      "\n",
      "\u001b[A\u001b[A\u001b[A\n",
      "\n",
      "\n",
      "\u001b[A\u001b[A\u001b[A\n",
      "\n",
      "\n",
      "rtf_avg: 0.014: 100%|\u001b[34m██████████\u001b[0m| 1/1 [00:00<00:00, 12.83it/s]\n",
      "\n",
      "\n",
      "rtf_avg: 0.016, time_speech:  5.260, time_escape: 0.084: 100%|\u001b[31m██████████\u001b[0m| 1/1 [00:00<00:00, 11.61it/s]\n"
     ]
    },
    {
     "name": "stdout",
     "output_type": "stream",
     "text": [
      "3682 感受一下天猫精灵，我想听周深的歌。 eb44280d-8af5-46c1-b6f6-064c3b044d60.wav\n"
     ]
    },
    {
     "name": "stderr",
     "output_type": "stream",
     "text": [
      "\n",
      "\n",
      "\u001b[A\u001b[A\n",
      "\n",
      "\u001b[A\u001b[A\n",
      "\n",
      "rtf_avg: 0.004: 100%|\u001b[34m██████████\u001b[0m| 1/1 [00:00<00:00, 23.90it/s]\n",
      "\n",
      "\n",
      "\u001b[A\u001b[A\n",
      "\n",
      "\n",
      "\u001b[A\u001b[A\u001b[A\n",
      "\n",
      "\n",
      "\u001b[A\u001b[A\u001b[A\n",
      "\n",
      "\n",
      "rtf_avg: 0.008: 100%|\u001b[34m██████████\u001b[0m| 1/1 [00:00<00:00, 13.27it/s]\n",
      "\n",
      "\n",
      "rtf_avg: 0.009, time_speech:  9.000, time_escape: 0.080: 100%|\u001b[31m██████████\u001b[0m| 1/1 [00:00<00:00, 11.91it/s]\n"
     ]
    },
    {
     "name": "stdout",
     "output_type": "stream",
     "text": [
      "3683 天猫精灵84减49等于多少？ eb58bfaa-4d9f-4b9a-87c7-b84f62307883.wav\n"
     ]
    },
    {
     "name": "stderr",
     "output_type": "stream",
     "text": [
      "\n",
      "\n",
      "\u001b[A\u001b[A\n",
      "\n",
      "\u001b[A\u001b[A\n",
      "\n",
      "rtf_avg: 0.006: 100%|\u001b[34m██████████\u001b[0m| 1/1 [00:00<00:00, 20.83it/s]\n",
      "\n",
      "\n",
      "\u001b[A\u001b[A\n",
      "\n",
      "\n",
      "\u001b[A\u001b[A\u001b[A\n",
      "\n",
      "\n",
      "\u001b[A\u001b[A\u001b[A\n",
      "\n",
      "\n",
      "rtf_avg: 0.012: 100%|\u001b[34m██████████\u001b[0m| 1/1 [00:00<00:00, 11.52it/s]\n",
      "\n",
      "\n",
      "rtf_avg: 0.013, time_speech:  7.240, time_escape: 0.094: 100%|\u001b[31m██████████\u001b[0m| 1/1 [00:00<00:00, 10.39it/s]\n"
     ]
    },
    {
     "name": "stdout",
     "output_type": "stream",
     "text": [
      "3684 天猫精灵机顶盒调到第十频道。 eb7a5f9e-fe16-4be1-9deb-74fe95b8210a.wav\n"
     ]
    },
    {
     "name": "stderr",
     "output_type": "stream",
     "text": [
      "\n",
      "\n",
      "\u001b[A\u001b[A\n",
      "\n",
      "\u001b[A\u001b[A\n",
      "\n",
      "rtf_avg: 0.006: 100%|\u001b[34m██████████\u001b[0m| 1/1 [00:00<00:00, 26.92it/s]\n",
      "\n",
      "\n",
      "\u001b[A\u001b[A\n",
      "\n",
      "\n",
      "\u001b[A\u001b[A\u001b[A\n",
      "\n",
      "\n",
      "\u001b[A\u001b[A\u001b[A\n",
      "\n",
      "\n",
      "rtf_avg: 0.013: 100%|\u001b[34m██████████\u001b[0m| 1/1 [00:00<00:00, 14.10it/s]\n",
      "\n",
      "\n",
      "rtf_avg: 0.014, time_speech:  5.300, time_escape: 0.077: 100%|\u001b[31m██████████\u001b[0m| 1/1 [00:00<00:00, 12.69it/s]\n"
     ]
    },
    {
     "name": "stdout",
     "output_type": "stream",
     "text": [
      "3685 天猫精灵160乘0.3等于多少？ eba66b60-6051-4ed4-ba6c-e9e65b8bd96d.wav\n"
     ]
    },
    {
     "name": "stderr",
     "output_type": "stream",
     "text": [
      "\n",
      "\n",
      "\u001b[A\u001b[A\n",
      "\n",
      "\u001b[A\u001b[A\n",
      "\n",
      "rtf_avg: 0.005: 100%|\u001b[34m██████████\u001b[0m| 1/1 [00:00<00:00, 30.53it/s]\n",
      "\n",
      "\n",
      "\u001b[A\u001b[A\n",
      "\n",
      "\n",
      "\u001b[A\u001b[A\u001b[A\n",
      "\n",
      "\n",
      "\u001b[A\u001b[A\u001b[A\n",
      "\n",
      "\n",
      "rtf_avg: 0.012: 100%|\u001b[34m██████████\u001b[0m| 1/1 [00:00<00:00, 14.43it/s]\n",
      "\n",
      "\n",
      "rtf_avg: 0.013, time_speech:  5.640, time_escape: 0.074: 100%|\u001b[31m██████████\u001b[0m| 1/1 [00:00<00:00, 13.12it/s]\n"
     ]
    },
    {
     "name": "stdout",
     "output_type": "stream",
     "text": [
      "3686 天猫精灵来碗热乎的番茄牛肉粥吧。 ebba059c-8d3c-48a1-984a-f13f835ce10c.wav\n"
     ]
    },
    {
     "name": "stderr",
     "output_type": "stream",
     "text": [
      "\n",
      "\n",
      "\u001b[A\u001b[A\n",
      "\n",
      "\u001b[A\u001b[A\n",
      "\n",
      "rtf_avg: 0.006: 100%|\u001b[34m██████████\u001b[0m| 1/1 [00:00<00:00, 32.52it/s]\n",
      "\n",
      "\n",
      "\u001b[A\u001b[A\n",
      "\n",
      "\n",
      "\u001b[A\u001b[A\u001b[A\n",
      "\n",
      "\n",
      "\u001b[A\u001b[A\u001b[A\n",
      "\n",
      "\n",
      "rtf_avg: 0.020: 100%|\u001b[34m██████████\u001b[0m| 1/1 [00:00<00:00, 11.90it/s]\n",
      "\n",
      "\n",
      "rtf_avg: 0.022, time_speech:  4.190, time_escape: 0.090: 100%|\u001b[31m██████████\u001b[0m| 1/1 [00:00<00:00, 10.73it/s]\n"
     ]
    },
    {
     "name": "stdout",
     "output_type": "stream",
     "text": [
      "3687 天猫精灵来份青椒炒蛋盖浇饭吧。 ebbeefe6-8578-4536-b87f-d90c635bb0fd.wav\n"
     ]
    },
    {
     "name": "stderr",
     "output_type": "stream",
     "text": [
      "\n",
      "\n",
      "\u001b[A\u001b[A\n",
      "\n",
      "\u001b[A\u001b[A\n",
      "\n",
      "rtf_avg: 0.007: 100%|\u001b[34m██████████\u001b[0m| 1/1 [00:00<00:00, 35.69it/s]\n",
      "\n",
      "\n",
      "\u001b[A\u001b[A\n",
      "\n",
      "\n",
      "\u001b[A\u001b[A\u001b[A\n",
      "\n",
      "\n",
      "\u001b[A\u001b[A\u001b[A\n",
      "\n",
      "\n",
      "rtf_avg: 0.021: 100%|\u001b[34m██████████\u001b[0m| 1/1 [00:00<00:00, 13.67it/s]\n",
      "\n",
      "\n",
      "rtf_avg: 0.024, time_speech:  3.350, time_escape: 0.079: 100%|\u001b[31m██████████\u001b[0m| 1/1 [00:00<00:00, 12.33it/s]\n"
     ]
    },
    {
     "name": "stdout",
     "output_type": "stream",
     "text": [
      "3688 要一份热乎的皮蛋瘦肉粥。 ebc7d008-e211-4993-b165-5c1b46160bf2.wav\n"
     ]
    },
    {
     "name": "stderr",
     "output_type": "stream",
     "text": [
      "\n",
      "\n",
      "\u001b[A\u001b[A\n",
      "\n",
      "\u001b[A\u001b[A\n",
      "\n",
      "rtf_avg: 0.007: 100%|\u001b[34m██████████\u001b[0m| 1/1 [00:00<00:00, 24.58it/s]\n",
      "\n",
      "\n",
      "\u001b[A\u001b[A\n",
      "\n",
      "\n",
      "\u001b[A\u001b[A\u001b[A\n",
      "\n",
      "\n",
      "\u001b[A\u001b[A\u001b[A\n",
      "\n",
      "\n",
      "rtf_avg: 0.017: 100%|\u001b[34m██████████\u001b[0m| 1/1 [00:00<00:00, 12.31it/s]\n",
      "\n",
      "\n",
      "rtf_avg: 0.019, time_speech:  4.860, time_escape: 0.090: 100%|\u001b[31m██████████\u001b[0m| 1/1 [00:00<00:00, 10.72it/s]\n"
     ]
    },
    {
     "name": "stdout",
     "output_type": "stream",
     "text": [
      "3689 天猫精灵来碗叶乌的番茄蛋汤吧。 ebdbf37e-3520-4036-a8d5-473426745c08.wav\n"
     ]
    },
    {
     "name": "stderr",
     "output_type": "stream",
     "text": [
      "\n",
      "\n",
      "\u001b[A\u001b[A\n",
      "\n",
      "\u001b[A\u001b[A\n",
      "\n",
      "rtf_avg: 0.006: 100%|\u001b[34m██████████\u001b[0m| 1/1 [00:00<00:00, 35.09it/s]\n",
      "\n",
      "\n",
      "\u001b[A\u001b[A\n",
      "\n",
      "\n",
      "\u001b[A\u001b[A\u001b[A\n",
      "\n",
      "\n",
      "\u001b[A\u001b[A\u001b[A\n",
      "\n",
      "\n",
      "rtf_avg: 0.019: 100%|\u001b[34m██████████\u001b[0m| 1/1 [00:00<00:00, 12.51it/s]\n",
      "\n",
      "\n",
      "rtf_avg: 0.021, time_speech:  4.050, time_escape: 0.086: 100%|\u001b[31m██████████\u001b[0m| 1/1 [00:00<00:00, 11.28it/s]\n"
     ]
    },
    {
     "name": "stdout",
     "output_type": "stream",
     "text": [
      "3690 天猫精灵摩耳炒鸡蛋来一份吧。 ebf30da1-1ec5-4e48-8382-4d4c22ab6d07.wav\n"
     ]
    },
    {
     "name": "stderr",
     "output_type": "stream",
     "text": [
      "\n",
      "\n",
      "\u001b[A\u001b[A\n",
      "\n",
      "\u001b[A\u001b[A\n",
      "\n",
      "rtf_avg: 0.006: 100%|\u001b[34m██████████\u001b[0m| 1/1 [00:00<00:00, 34.20it/s]\n",
      "\n",
      "\n",
      "\u001b[A\u001b[A\n",
      "\n",
      "\n",
      "\u001b[A\u001b[A\u001b[A\n",
      "\n",
      "\n",
      "\u001b[A\u001b[A\u001b[A\n",
      "\n",
      "\n",
      "rtf_avg: 0.019: 100%|\u001b[34m██████████\u001b[0m| 1/1 [00:00<00:00, 12.77it/s]\n",
      "\n",
      "\n",
      "rtf_avg: 0.021, time_speech:  3.910, time_escape: 0.083: 100%|\u001b[31m██████████\u001b[0m| 1/1 [00:00<00:00, 11.76it/s]\n"
     ]
    },
    {
     "name": "stdout",
     "output_type": "stream",
     "text": [
      "3691 要石果豆腐配香米饭。 ec3cd60d-d9ec-42b3-92f3-70ec4a64c5ca.wav\n"
     ]
    },
    {
     "name": "stderr",
     "output_type": "stream",
     "text": [
      "\n",
      "\n",
      "\u001b[A\u001b[A\n",
      "\n",
      "\u001b[A\u001b[A\n",
      "\n",
      "rtf_avg: 0.006: 100%|\u001b[34m██████████\u001b[0m| 1/1 [00:00<00:00, 34.73it/s]\n",
      "\n",
      "\n",
      "\u001b[A\u001b[A\n",
      "\n",
      "\n",
      "\u001b[A\u001b[A\u001b[A\n",
      "\n",
      "\n",
      "\u001b[A\u001b[A\u001b[A\n",
      "\n",
      "\n",
      "rtf_avg: 0.020: 100%|\u001b[34m██████████\u001b[0m| 1/1 [00:00<00:00, 13.01it/s]\n",
      "\n",
      "\n",
      "rtf_avg: 0.022, time_speech:  3.710, time_escape: 0.081: 100%|\u001b[31m██████████\u001b[0m| 1/1 [00:00<00:00, 12.07it/s]\n"
     ]
    },
    {
     "name": "stdout",
     "output_type": "stream",
     "text": [
      "3692 天猫精灵来碗甜丝丝南瓜粥吧。 ec54030f-06bc-49fe-83c2-be3d11457953.wav\n"
     ]
    },
    {
     "name": "stderr",
     "output_type": "stream",
     "text": [
      "\n",
      "\n",
      "\u001b[A\u001b[A\n",
      "\n",
      "\u001b[A\u001b[A\n",
      "\n",
      "rtf_avg: 0.008: 100%|\u001b[34m██████████\u001b[0m| 1/1 [00:00<00:00, 36.84it/s]\n",
      "\n",
      "\n",
      "\u001b[A\u001b[A\n",
      "\n",
      "\n",
      "\u001b[A\u001b[A\u001b[A\n",
      "\n",
      "\n",
      "\u001b[A\u001b[A\u001b[A\n",
      "\n",
      "\n",
      "rtf_avg: 0.027: 100%|\u001b[34m██████████\u001b[0m| 1/1 [00:00<00:00, 13.90it/s]\n",
      "\n",
      "\n",
      "rtf_avg: 0.026, time_speech:  2.944, time_escape: 0.078: 100%|\u001b[31m██████████\u001b[0m| 1/1 [00:00<00:00, 12.05it/s]\n"
     ]
    },
    {
     "name": "stdout",
     "output_type": "stream",
     "text": [
      "3693 我想听小兵的片尾曲。 ec605a57-6fdb-4f58-9153-d4e8e17273d7.wav\n"
     ]
    },
    {
     "name": "stderr",
     "output_type": "stream",
     "text": [
      "\n",
      "\n",
      "\u001b[A\u001b[A\n",
      "\n",
      "\u001b[A\u001b[A\n",
      "\n",
      "rtf_avg: 0.005: 100%|\u001b[34m██████████\u001b[0m| 1/1 [00:00<00:00, 29.10it/s]\n",
      "\n",
      "\n",
      "\u001b[A\u001b[A\n",
      "\n",
      "\n",
      "\u001b[A\u001b[A\u001b[A\n",
      "\n",
      "\n",
      "\u001b[A\u001b[A\u001b[A\n",
      "\n",
      "\n",
      "rtf_avg: 0.012: 100%|\u001b[34m██████████\u001b[0m| 1/1 [00:00<00:00, 13.08it/s]\n",
      "\n",
      "\n",
      "rtf_avg: 0.014, time_speech:  5.870, time_escape: 0.082: 100%|\u001b[31m██████████\u001b[0m| 1/1 [00:00<00:00, 11.94it/s]\n"
     ]
    },
    {
     "name": "stdout",
     "output_type": "stream",
     "text": [
      "3694 天猫精灵来玩暖暖的红枣粑宝粥吧。 ec66ffa9-3c88-4f29-b4ca-b28a01823e86.wav\n"
     ]
    },
    {
     "name": "stderr",
     "output_type": "stream",
     "text": [
      "\n",
      "\n",
      "\u001b[A\u001b[A\n",
      "\n",
      "\u001b[A\u001b[A\n",
      "\n",
      "rtf_avg: 0.005: 100%|\u001b[34m██████████\u001b[0m| 1/1 [00:00<00:00, 28.68it/s]\n",
      "\n",
      "\n",
      "\u001b[A\u001b[A\n",
      "\n",
      "\n",
      "\u001b[A\u001b[A\u001b[A\n",
      "\n",
      "\n",
      "\u001b[A\u001b[A\u001b[A\n",
      "\n",
      "\n",
      "rtf_avg: 0.012: 100%|\u001b[34m██████████\u001b[0m| 1/1 [00:00<00:00, 13.24it/s]\n",
      "\n",
      "\n",
      "rtf_avg: 0.014, time_speech:  5.880, time_escape: 0.080: 100%|\u001b[31m██████████\u001b[0m| 1/1 [00:00<00:00, 12.04it/s]\n"
     ]
    },
    {
     "name": "stdout",
     "output_type": "stream",
     "text": [
      "3695 天猫精灵扫地机器人返回充电。 ec7e1fd6-8631-4fcf-b76e-76920580f5d5.wav\n"
     ]
    },
    {
     "name": "stderr",
     "output_type": "stream",
     "text": [
      "\n",
      "\n",
      "\u001b[A\u001b[A\n",
      "\n",
      "\u001b[A\u001b[A\n",
      "\n",
      "rtf_avg: 0.009: 100%|\u001b[34m██████████\u001b[0m| 1/1 [00:00<00:00, 33.39it/s]\n",
      "\n",
      "\n",
      "\u001b[A\u001b[A\n",
      "\n",
      "\n",
      "\u001b[A\u001b[A\u001b[A\n",
      "\n",
      "\n",
      "\u001b[A\u001b[A\u001b[A\n",
      "\n",
      "\n",
      "rtf_avg: 0.030: 100%|\u001b[34m██████████\u001b[0m| 1/1 [00:00<00:00, 13.87it/s]\n",
      "\n",
      "\n",
      "rtf_avg: 0.028, time_speech:  2.833, time_escape: 0.079: 100%|\u001b[31m██████████\u001b[0m| 1/1 [00:00<00:00, 12.32it/s]\n"
     ]
    },
    {
     "name": "stdout",
     "output_type": "stream",
     "text": [
      "3696 🎼放一下周深畅的祝福。 ec857a2f-2303-40cb-b886-700c1c36fcf3.wav\n"
     ]
    },
    {
     "name": "stderr",
     "output_type": "stream",
     "text": [
      "\n",
      "\n",
      "\u001b[A\u001b[A\n",
      "\n",
      "\u001b[A\u001b[A\n",
      "\n",
      "rtf_avg: 0.005: 100%|\u001b[34m██████████\u001b[0m| 1/1 [00:00<00:00, 27.91it/s]\n",
      "\n",
      "\n",
      "\u001b[A\u001b[A\n",
      "\n",
      "\n",
      "\u001b[A\u001b[A\u001b[A\n",
      "\n",
      "\n",
      "\u001b[A\u001b[A\u001b[A\n",
      "\n",
      "\n",
      "rtf_avg: 0.011: 100%|\u001b[34m██████████\u001b[0m| 1/1 [00:00<00:00, 14.27it/s]\n",
      "\n",
      "\n",
      "rtf_avg: 0.013, time_speech:  6.020, time_escape: 0.078: 100%|\u001b[31m██████████\u001b[0m| 1/1 [00:00<00:00, 12.17it/s]\n"
     ]
    },
    {
     "name": "stdout",
     "output_type": "stream",
     "text": [
      "3697 天猫精灵来一碗鲜花灌杯养生粥。 ec93f11c-6068-47bd-b0d0-8f46730e313c.wav\n"
     ]
    },
    {
     "name": "stderr",
     "output_type": "stream",
     "text": [
      "\n",
      "\n",
      "\u001b[A\u001b[A\n",
      "\n",
      "\u001b[A\u001b[A\n",
      "\n",
      "rtf_avg: 0.006: 100%|\u001b[34m██████████\u001b[0m| 1/1 [00:00<00:00, 30.46it/s]\n",
      "\n",
      "\n",
      "\u001b[A\u001b[A\n",
      "\n",
      "\n",
      "\u001b[A\u001b[A\u001b[A\n",
      "\n",
      "\n",
      "\u001b[A\u001b[A\u001b[A\n",
      "\n",
      "\n",
      "rtf_avg: 0.015: 100%|\u001b[34m██████████\u001b[0m| 1/1 [00:00<00:00, 12.42it/s]\n",
      "\n",
      "\n",
      "rtf_avg: 0.017, time_speech:  5.040, time_escape: 0.085: 100%|\u001b[31m██████████\u001b[0m| 1/1 [00:00<00:00, 11.29it/s]\n"
     ]
    },
    {
     "name": "stdout",
     "output_type": "stream",
     "text": [
      "3698 天猫精灵音量达到60%啊。 ec9b4a02-5175-4406-9a1d-38b3bac412cc.wav\n"
     ]
    },
    {
     "name": "stderr",
     "output_type": "stream",
     "text": [
      "\n",
      "\n",
      "\u001b[A\u001b[A\n",
      "\n",
      "\u001b[A\u001b[A\n",
      "\n",
      "rtf_avg: 0.007: 100%|\u001b[34m██████████\u001b[0m| 1/1 [00:00<00:00, 34.26it/s]\n",
      "\n",
      "\n",
      "\u001b[A\u001b[A\n",
      "\n",
      "\n",
      "\u001b[A\u001b[A\u001b[A\n",
      "\n",
      "\n",
      "\u001b[A\u001b[A\u001b[A\n",
      "\n",
      "\n",
      "rtf_avg: 0.023: 100%|\u001b[34m██████████\u001b[0m| 1/1 [00:00<00:00, 12.42it/s]\n",
      "\n",
      "\n",
      "rtf_avg: 0.025, time_speech:  3.510, time_escape: 0.089: 100%|\u001b[31m██████████\u001b[0m| 1/1 [00:00<00:00, 10.83it/s]\n"
     ]
    },
    {
     "name": "stdout",
     "output_type": "stream",
     "text": [
      "3699 要个热乎的白菜豆腐包吧。 ecadef0e-35dd-4c63-b19d-debda1315d8b.wav\n"
     ]
    },
    {
     "name": "stderr",
     "output_type": "stream",
     "text": [
      "\n",
      "\n",
      "\u001b[A\u001b[A\n",
      "\n",
      "\u001b[A\u001b[A\n",
      "\n",
      "rtf_avg: 0.007: 100%|\u001b[34m██████████\u001b[0m| 1/1 [00:00<00:00, 32.05it/s]\n",
      "\n",
      "\n",
      "\u001b[A\u001b[A\n",
      "\n",
      "\n",
      "\u001b[A\u001b[A\u001b[A\n",
      "\n",
      "\n",
      "\u001b[A\u001b[A\u001b[A\n",
      "\n",
      "\n",
      "rtf_avg: 0.018: 100%|\u001b[34m██████████\u001b[0m| 1/1 [00:00<00:00, 14.25it/s]\n",
      "\n",
      "\n",
      "rtf_avg: 0.019, time_speech:  3.820, time_escape: 0.074: 100%|\u001b[31m██████████\u001b[0m| 1/1 [00:00<00:00, 12.95it/s]\n"
     ]
    },
    {
     "name": "stdout",
     "output_type": "stream",
     "text": [
      "3700 天猫精灵来份清清爽爽空心菜。 eccf6139-17d4-4de7-bf49-23c05daf9e85.wav\n"
     ]
    },
    {
     "name": "stderr",
     "output_type": "stream",
     "text": [
      "\n",
      "\n",
      "\u001b[A\u001b[A\n",
      "\n",
      "\u001b[A\u001b[A\n",
      "\n",
      "rtf_avg: 0.005: 100%|\u001b[34m██████████\u001b[0m| 1/1 [00:00<00:00, 30.69it/s]\n",
      "\n",
      "\n",
      "\u001b[A\u001b[A\n",
      "\n",
      "\n",
      "\u001b[A\u001b[A\u001b[A\n",
      "\n",
      "\n",
      "\u001b[A\u001b[A\u001b[A\n",
      "\n",
      "\n",
      "rtf_avg: 0.013: 100%|\u001b[34m██████████\u001b[0m| 1/1 [00:00<00:00, 12.28it/s]\n",
      "\n",
      "\n",
      "rtf_avg: 0.015, time_speech:  5.760, time_escape: 0.086: 100%|\u001b[31m██████████\u001b[0m| 1/1 [00:00<00:00, 11.12it/s]\n"
     ]
    },
    {
     "name": "stdout",
     "output_type": "stream",
     "text": [
      "3701 天猫精灵打开所有灯光调到最亮。 ecd2ca37-2875-4094-b4d6-31ffbfc8d10e.wav\n"
     ]
    },
    {
     "name": "stderr",
     "output_type": "stream",
     "text": [
      "\n",
      "\n",
      "\u001b[A\u001b[A\n",
      "\n",
      "\u001b[A\u001b[A\n",
      "\n",
      "rtf_avg: 0.006: 100%|\u001b[34m██████████\u001b[0m| 1/1 [00:00<00:00, 23.42it/s]\n",
      "\n",
      "\n",
      "\u001b[A\u001b[A\n",
      "\n",
      "\n",
      "\u001b[A\u001b[A\u001b[A\n",
      "\n",
      "\n",
      "\u001b[A\u001b[A\u001b[A\n",
      "\n",
      "\n",
      "rtf_avg: 0.011: 100%|\u001b[34m██████████\u001b[0m| 1/1 [00:00<00:00, 13.82it/s]\n",
      "\n",
      "\n",
      "rtf_avg: 0.012, time_speech:  6.308, time_escape: 0.077: 100%|\u001b[31m██████████\u001b[0m| 1/1 [00:00<00:00, 12.30it/s]\n"
     ]
    },
    {
     "name": "stdout",
     "output_type": "stream",
     "text": [
      "3702 天猫精灵，请播放吃饼干的声音。 ecdf7881-29d2-44e7-b9c3-776fe931f369.wav\n"
     ]
    },
    {
     "name": "stderr",
     "output_type": "stream",
     "text": [
      "\n",
      "\n",
      "\u001b[A\u001b[A\n",
      "\n",
      "\u001b[A\u001b[A\n",
      "\n",
      "rtf_avg: 0.007: 100%|\u001b[34m██████████\u001b[0m| 1/1 [00:00<00:00, 33.43it/s]\n",
      "\n",
      "\n",
      "\u001b[A\u001b[A\n",
      "\n",
      "\n",
      "\u001b[A\u001b[A\u001b[A\n",
      "\n",
      "\n",
      "\u001b[A\u001b[A\u001b[A\n",
      "\n",
      "\n",
      "rtf_avg: 0.018: 100%|\u001b[34m██████████\u001b[0m| 1/1 [00:00<00:00, 13.80it/s]\n",
      "\n",
      "\n",
      "rtf_avg: 0.020, time_speech:  3.920, time_escape: 0.077: 100%|\u001b[31m██████████\u001b[0m| 1/1 [00:00<00:00, 12.42it/s]\n"
     ]
    },
    {
     "name": "stdout",
     "output_type": "stream",
     "text": [
      "3703 天猫精灵1一份暖心养胃的八宝粥吧。 ece2041b-115f-41b3-b856-3b2db139435d.wav\n"
     ]
    },
    {
     "name": "stderr",
     "output_type": "stream",
     "text": [
      "\n",
      "\n",
      "\u001b[A\u001b[A\n",
      "\n",
      "\u001b[A\u001b[A\n",
      "\n",
      "rtf_avg: 0.005: 100%|\u001b[34m██████████\u001b[0m| 1/1 [00:00<00:00, 23.81it/s]\n",
      "\n",
      "\n",
      "\u001b[A\u001b[A\n",
      "\n",
      "\n",
      "\u001b[A\u001b[A\u001b[A\n",
      "\n",
      "\n",
      "\u001b[A\u001b[A\u001b[A\n",
      "\n",
      "\n",
      "rtf_avg: 0.010: 100%|\u001b[34m██████████\u001b[0m| 1/1 [00:00<00:00, 12.28it/s]\n",
      "\n",
      "\n",
      "rtf_avg: 0.012, time_speech:  7.380, time_escape: 0.087: 100%|\u001b[31m██████████\u001b[0m| 1/1 [00:00<00:00, 11.24it/s]\n"
     ]
    },
    {
     "name": "stdout",
     "output_type": "stream",
     "text": [
      "3704 天猫精灵48.5除以2.3104等于。 ece4fd27-1b44-4732-b9c1-82f4f06443d3.wav\n"
     ]
    },
    {
     "name": "stderr",
     "output_type": "stream",
     "text": [
      "\n",
      "\n",
      "\u001b[A\u001b[A\n",
      "\n",
      "\u001b[A\u001b[A\n",
      "\n",
      "rtf_avg: 0.004: 100%|\u001b[34m██████████\u001b[0m| 1/1 [00:00<00:00, 21.18it/s]\n",
      "\n",
      "\n",
      "\u001b[A\u001b[A\n",
      "\n",
      "\n",
      "\u001b[A\u001b[A\u001b[A\n",
      "\n",
      "\n",
      "\u001b[A\u001b[A\u001b[A\n",
      "\n",
      "\n",
      "rtf_avg: 0.008: 100%|\u001b[34m██████████\u001b[0m| 1/1 [00:00<00:00, 11.84it/s]\n",
      "\n",
      "\n",
      "rtf_avg: 0.009, time_speech:  9.910, time_escape: 0.089: 100%|\u001b[31m██████████\u001b[0m| 1/1 [00:00<00:00, 10.76it/s]\n"
     ]
    },
    {
     "name": "stdout",
     "output_type": "stream",
     "text": [
      "3705 天猫精灵拉今朝想点只男性皮蛋瘦肉粥，好，捏烫烫水水味道老灵光。 ece96322-e42f-42ec-baa0-ecf8ef8fe77e.wav\n"
     ]
    },
    {
     "name": "stderr",
     "output_type": "stream",
     "text": [
      "\n",
      "\n",
      "\u001b[A\u001b[A\n",
      "\n",
      "\u001b[A\u001b[A\n",
      "\n",
      "rtf_avg: 0.005: 100%|\u001b[34m██████████\u001b[0m| 1/1 [00:00<00:00, 27.15it/s]\n",
      "\n",
      "\n",
      "\u001b[A\u001b[A\n",
      "\n",
      "\n",
      "\u001b[A\u001b[A\u001b[A\n",
      "\n",
      "\n",
      "\u001b[A\u001b[A\u001b[A\n",
      "\n",
      "\n",
      "rtf_avg: 0.114: 100%|\u001b[34m██████████\u001b[0m| 1/1 [00:00<00:00, 12.68it/s]\n",
      "\n",
      "\n",
      "rtf_avg: 0.014, time_speech:  6.120, time_escape: 0.083: 100%|\u001b[31m██████████\u001b[0m| 1/1 [00:00<00:00, 11.64it/s]\n"
     ]
    },
    {
     "name": "stdout",
     "output_type": "stream",
     "text": [
      "3706 欢音。 ecf2856c-3001-4145-a25c-6c8dd7d47ae1.wav\n"
     ]
    },
    {
     "name": "stderr",
     "output_type": "stream",
     "text": [
      "\n",
      "\n",
      "\u001b[A\u001b[A\n",
      "\n",
      "\u001b[A\u001b[A\n",
      "\n",
      "rtf_avg: 0.006: 100%|\u001b[34m██████████\u001b[0m| 1/1 [00:00<00:00, 22.29it/s]\n",
      "\n",
      "\n",
      "\u001b[A\u001b[A\n",
      "\n",
      "\n",
      "\u001b[A\u001b[A\u001b[A\n",
      "\n",
      "\n",
      "\u001b[A\u001b[A\u001b[A\n",
      "\n",
      "\n",
      "rtf_avg: 0.015: 100%|\u001b[34m██████████\u001b[0m| 1/1 [00:00<00:00, 13.25it/s]\n",
      "\n",
      "\n",
      "rtf_avg: 0.012, time_speech:  6.460, time_escape: 0.081: 100%|\u001b[31m██████████\u001b[0m| 1/1 [00:00<00:00, 12.09it/s]\n"
     ]
    },
    {
     "name": "stdout",
     "output_type": "stream",
     "text": [
      "3707 天猫精灵来份酸香油麦菜。 ecf94a5a-9992-40d5-953d-7e68b2036a15.wav\n"
     ]
    },
    {
     "name": "stderr",
     "output_type": "stream",
     "text": [
      "\n",
      "\n",
      "\u001b[A\u001b[A\n",
      "\n",
      "\u001b[A\u001b[A\n",
      "\n",
      "rtf_avg: 0.006: 100%|\u001b[34m██████████\u001b[0m| 1/1 [00:00<00:00, 28.04it/s]\n",
      "\n",
      "\n",
      "\u001b[A\u001b[A\n",
      "\n",
      "\n",
      "\u001b[A\u001b[A\u001b[A\n",
      "\n",
      "\n",
      "\u001b[A\u001b[A\u001b[A\n",
      "\n",
      "\n",
      "\u001b[A\u001b[A\u001b[A\n",
      "\n",
      "\n",
      "rtf_avg: 0.019: 100%|\u001b[34m██████████\u001b[0m| 1/1 [00:00<00:00,  8.88it/s]\n",
      "\n",
      "\n",
      "\u001b[A\u001b[A\n",
      "\n",
      "rtf_avg: 0.021, time_speech:  5.640, time_escape: 0.118: 100%|\u001b[31m██████████\u001b[0m| 1/1 [00:00<00:00,  8.17it/s]\n"
     ]
    },
    {
     "name": "stdout",
     "output_type": "stream",
     "text": [
      "3708 天猫精灵播放乐队的夏天里面的歌曲。 ecfa52ec-a9ab-420e-8cf9-f5f94d3dca50.wav\n"
     ]
    },
    {
     "name": "stderr",
     "output_type": "stream",
     "text": [
      "\n",
      "\n",
      "\u001b[A\u001b[A\n",
      "\n",
      "\u001b[A\u001b[A\n",
      "\n",
      "rtf_avg: 0.009: 100%|\u001b[34m██████████\u001b[0m| 1/1 [00:00<00:00, 35.77it/s]\n",
      "\n",
      "\n",
      "\u001b[A\u001b[A\n",
      "\n",
      "\n",
      "\u001b[A\u001b[A\u001b[A\n",
      "\n",
      "\n",
      "\u001b[A\u001b[A\u001b[A\n",
      "\n",
      "\n",
      "rtf_avg: 0.035: 100%|\u001b[34m██████████\u001b[0m| 1/1 [00:00<00:00, 13.60it/s]\n",
      "\n",
      "\n",
      "rtf_avg: 0.031, time_speech:  2.560, time_escape: 0.080: 100%|\u001b[31m██████████\u001b[0m| 1/1 [00:00<00:00, 12.12it/s]\n"
     ]
    },
    {
     "name": "stdout",
     "output_type": "stream",
     "text": [
      "3709 🎼帮我推荐淘木点纸。 ed13f375-817f-4e37-bd68-f8938ff19f8f.wav\n"
     ]
    },
    {
     "name": "stderr",
     "output_type": "stream",
     "text": [
      "\n",
      "\n",
      "\u001b[A\u001b[A\n",
      "\n",
      "\u001b[A\u001b[A\n",
      "\n",
      "rtf_avg: 0.005: 100%|\u001b[34m██████████\u001b[0m| 1/1 [00:00<00:00, 23.50it/s]\n",
      "\n",
      "\n",
      "\u001b[A\u001b[A\n",
      "\n",
      "\n",
      "\u001b[A\u001b[A\u001b[A\n",
      "\n",
      "\n",
      "\u001b[A\u001b[A\u001b[A\n",
      "\n",
      "\n",
      "rtf_avg: 0.032: 100%|\u001b[34m██████████\u001b[0m| 1/1 [00:00<00:00, 11.96it/s]\n",
      "\n",
      "\n",
      "rtf_avg: 0.011, time_speech:  7.960, time_escape: 0.089: 100%|\u001b[31m██████████\u001b[0m| 1/1 [00:00<00:00, 10.86it/s]\n"
     ]
    },
    {
     "name": "stdout",
     "output_type": "stream",
     "text": [
      "3710 那真有。 ed15a9c0-b95c-4750-ab41-1c5008d1bb63.wav\n"
     ]
    },
    {
     "name": "stderr",
     "output_type": "stream",
     "text": [
      "\n",
      "\n",
      "\u001b[A\u001b[A\n",
      "\n",
      "\u001b[A\u001b[A\n",
      "\n",
      "rtf_avg: 0.015: 100%|\u001b[34m██████████\u001b[0m| 1/1 [00:00<00:00, 23.95it/s]\n",
      "\n",
      "\n",
      "\u001b[A\u001b[A\n",
      "\n",
      "\n",
      "\u001b[A\u001b[A\u001b[A\n",
      "\n",
      "\n",
      "\u001b[A\u001b[A\u001b[A\n",
      "\n",
      "\n",
      "rtf_avg: 0.033: 100%|\u001b[34m██████████\u001b[0m| 1/1 [00:00<00:00, 12.71it/s]\n",
      "\n",
      "\n",
      "rtf_avg: 0.036, time_speech:  2.370, time_escape: 0.084: 100%|\u001b[31m██████████\u001b[0m| 1/1 [00:00<00:00, 11.60it/s]\n"
     ]
    },
    {
     "name": "stdout",
     "output_type": "stream",
     "text": [
      "3711 有没有不会亚的？😡 ed3c357e-3967-471f-980c-ab7a947fdfaa.wav\n"
     ]
    },
    {
     "name": "stderr",
     "output_type": "stream",
     "text": [
      "\n",
      "\n",
      "\u001b[A\u001b[A\n",
      "\n",
      "\u001b[A\u001b[A\n",
      "\n",
      "rtf_avg: 0.005: 100%|\u001b[34m██████████\u001b[0m| 1/1 [00:00<00:00, 23.75it/s]\n",
      "\n",
      "\n",
      "\u001b[A\u001b[A\n",
      "\n",
      "\n",
      "\u001b[A\u001b[A\u001b[A\n",
      "\n",
      "\n",
      "\u001b[A\u001b[A\u001b[A\n",
      "\n",
      "\n",
      "rtf_avg: 0.009: 100%|\u001b[34m██████████\u001b[0m| 1/1 [00:00<00:00, 12.50it/s]\n",
      "\n",
      "\n",
      "rtf_avg: 0.010, time_speech:  8.400, time_escape: 0.087: 100%|\u001b[31m██████████\u001b[0m| 1/1 [00:00<00:00, 11.15it/s]\n"
     ]
    },
    {
     "name": "stdout",
     "output_type": "stream",
     "text": [
      "3712 天猫精灵声音调到最最最最最最最小。 ed3e54b0-7cc9-472c-8dea-63fb9d941b14.wav\n"
     ]
    },
    {
     "name": "stderr",
     "output_type": "stream",
     "text": [
      "\n",
      "\n",
      "\u001b[A\u001b[A\n",
      "\n",
      "\u001b[A\u001b[A\n",
      "\n",
      "rtf_avg: 0.007: 100%|\u001b[34m██████████\u001b[0m| 1/1 [00:00<00:00, 21.77it/s]\n",
      "\n",
      "\n",
      "\u001b[A\u001b[A\n",
      "\n",
      "\n",
      "\u001b[A\u001b[A\u001b[A\n",
      "\n",
      "\n",
      "\u001b[A\u001b[A\u001b[A\n",
      "\n",
      "\n",
      "rtf_avg: 0.011: 100%|\u001b[34m██████████\u001b[0m| 1/1 [00:00<00:00, 13.35it/s]\n",
      "\n",
      "\n",
      "rtf_avg: 0.013, time_speech:  6.160, time_escape: 0.079: 100%|\u001b[31m██████████\u001b[0m| 1/1 [00:00<00:00, 12.18it/s]\n"
     ]
    },
    {
     "name": "stdout",
     "output_type": "stream",
     "text": [
      "3713 天猫精灵280乘20等于多少？ ed70921c-44ee-49fa-ad3d-768d8d5964da.wav\n"
     ]
    },
    {
     "name": "stderr",
     "output_type": "stream",
     "text": [
      "\n",
      "\n",
      "\u001b[A\u001b[A\n",
      "\n",
      "\u001b[A\u001b[A\n",
      "\n",
      "rtf_avg: 0.006: 100%|\u001b[34m██████████\u001b[0m| 1/1 [00:00<00:00, 29.24it/s]\n",
      "\n",
      "\n",
      "\u001b[A\u001b[A\n",
      "\n",
      "\n",
      "\u001b[A\u001b[A\u001b[A\n",
      "\n",
      "\n",
      "\u001b[A\u001b[A\u001b[A\n",
      "\n",
      "\n",
      "rtf_avg: 0.015: 100%|\u001b[34m██████████\u001b[0m| 1/1 [00:00<00:00, 12.56it/s]\n",
      "\n",
      "\n",
      "rtf_avg: 0.016, time_speech:  5.120, time_escape: 0.084: 100%|\u001b[31m██████████\u001b[0m| 1/1 [00:00<00:00, 11.54it/s]\n"
     ]
    },
    {
     "name": "stdout",
     "output_type": "stream",
     "text": [
      "3714 天猫精灵来碗桂圆竹杞养肾粥吧。 ed714b49-22a7-4225-8276-04d8916da1c0.wav\n"
     ]
    },
    {
     "name": "stderr",
     "output_type": "stream",
     "text": [
      "\n",
      "\n",
      "\u001b[A\u001b[A\n",
      "\n",
      "\u001b[A\u001b[A\n",
      "\n",
      "rtf_avg: 0.005: 100%|\u001b[34m██████████\u001b[0m| 1/1 [00:00<00:00, 27.60it/s]\n",
      "\n",
      "\n",
      "\u001b[A\u001b[A\n",
      "\n",
      "\n",
      "\u001b[A\u001b[A\u001b[A\n",
      "\n",
      "\n",
      "\u001b[A\u001b[A\u001b[A\n",
      "\n",
      "\n",
      "rtf_avg: 0.012: 100%|\u001b[34m██████████\u001b[0m| 1/1 [00:00<00:00, 12.34it/s]\n",
      "\n",
      "\n",
      "rtf_avg: 0.013, time_speech:  6.740, time_escape: 0.088: 100%|\u001b[31m██████████\u001b[0m| 1/1 [00:00<00:00, 10.97it/s]\n"
     ]
    },
    {
     "name": "stdout",
     "output_type": "stream",
     "text": [
      "3715 天猫精灵51减几等于30？ edeeda73-09b8-4296-a047-d19e47f29c3d.wav\n"
     ]
    },
    {
     "name": "stderr",
     "output_type": "stream",
     "text": [
      "\n",
      "\n",
      "\u001b[A\u001b[A\n",
      "\n",
      "\u001b[A\u001b[A\n",
      "\n",
      "rtf_avg: 0.007: 100%|\u001b[34m██████████\u001b[0m| 1/1 [00:00<00:00, 29.39it/s]\n",
      "\n",
      "\n",
      "\u001b[A\u001b[A\n",
      "\n",
      "\n",
      "\u001b[A\u001b[A\u001b[A\n",
      "\n",
      "\n",
      "\u001b[A\u001b[A\u001b[A\n",
      "\n",
      "\n",
      "rtf_avg: 0.019: 100%|\u001b[34m██████████\u001b[0m| 1/1 [00:00<00:00, 11.45it/s]\n",
      "\n",
      "\n",
      "rtf_avg: 0.020, time_speech:  4.580, time_escape: 0.091: 100%|\u001b[31m██████████\u001b[0m| 1/1 [00:00<00:00, 10.60it/s]\n"
     ]
    },
    {
     "name": "stdout",
     "output_type": "stream",
     "text": [
      "3716 天猫精灵要份番茄炒蛋盖饭吧。 edfef78f-1af1-49eb-84f1-a9fd3e674a7e.wav\n"
     ]
    },
    {
     "name": "stderr",
     "output_type": "stream",
     "text": [
      "\n",
      "\n",
      "\u001b[A\u001b[A\n",
      "\n",
      "\u001b[A\u001b[A\n",
      "\n",
      "rtf_avg: 0.008: 100%|\u001b[34m██████████\u001b[0m| 1/1 [00:00<00:00, 17.09it/s]\n",
      "\n",
      "\n",
      "\u001b[A\u001b[A\n",
      "\n",
      "\n",
      "\u001b[A\u001b[A\u001b[A\n",
      "\n",
      "\n",
      "\u001b[A\u001b[A\u001b[A\n",
      "\n",
      "\n",
      "rtf_avg: 0.012: 100%|\u001b[34m██████████\u001b[0m| 1/1 [00:00<00:00, 12.16it/s]\n",
      "\n",
      "\n",
      "rtf_avg: 0.014, time_speech:  6.564, time_escape: 0.092: 100%|\u001b[31m██████████\u001b[0m| 1/1 [00:00<00:00, 10.49it/s]\n"
     ]
    },
    {
     "name": "stdout",
     "output_type": "stream",
     "text": [
      "3717 天猫精灵27除以36等于多少？ ee012283-c3be-4828-9f15-11381b0f2628.wav\n"
     ]
    },
    {
     "name": "stderr",
     "output_type": "stream",
     "text": [
      "\n",
      "\n",
      "\u001b[A\u001b[A\n",
      "\n",
      "\u001b[A\u001b[A\n",
      "\n",
      "rtf_avg: 0.005: 100%|\u001b[34m██████████\u001b[0m| 1/1 [00:00<00:00, 27.89it/s]\n",
      "\n",
      "\n",
      "\u001b[A\u001b[A\n",
      "\n",
      "\n",
      "\u001b[A\u001b[A\u001b[A\n",
      "\n",
      "\n",
      "\u001b[A\u001b[A\u001b[A\n",
      "\n",
      "\n",
      "rtf_avg: 0.012: 100%|\u001b[34m██████████\u001b[0m| 1/1 [00:00<00:00, 13.04it/s]\n",
      "\n",
      "\n",
      "rtf_avg: 0.014, time_speech:  6.060, time_escape: 0.083: 100%|\u001b[31m██████████\u001b[0m| 1/1 [00:00<00:00, 11.66it/s]\n"
     ]
    },
    {
     "name": "stdout",
     "output_type": "stream",
     "text": [
      "3718 天猫精灵播放周深天空音歌单。 ee035d4a-460f-4e0c-a08f-8efbd2279792.wav\n"
     ]
    },
    {
     "name": "stderr",
     "output_type": "stream",
     "text": [
      "\n",
      "\n",
      "\u001b[A\u001b[A\n",
      "\n",
      "\u001b[A\u001b[A\n",
      "\n",
      "rtf_avg: 0.007: 100%|\u001b[34m██████████\u001b[0m| 1/1 [00:00<00:00, 27.59it/s]\n",
      "\n",
      "\n",
      "\u001b[A\u001b[A\n",
      "\n",
      "\n",
      "\u001b[A\u001b[A\u001b[A\n",
      "\n",
      "\n",
      "\u001b[A\u001b[A\u001b[A\n",
      "\n",
      "\n",
      "rtf_avg: 0.018: 100%|\u001b[34m██████████\u001b[0m| 1/1 [00:00<00:00, 12.52it/s]\n",
      "\n",
      "\n",
      "rtf_avg: 0.020, time_speech:  4.360, time_escape: 0.086: 100%|\u001b[31m██████████\u001b[0m| 1/1 [00:00<00:00, 11.39it/s]\n"
     ]
    },
    {
     "name": "stdout",
     "output_type": "stream",
     "text": [
      "3719 你就是你好，天猫精灵回到儿童模式。 ee094bbd-1dc3-4493-b944-23b9d59b2e92.wav\n"
     ]
    },
    {
     "name": "stderr",
     "output_type": "stream",
     "text": [
      "\n",
      "\n",
      "\u001b[A\u001b[A\n",
      "\n",
      "\u001b[A\u001b[A\n",
      "\n",
      "rtf_avg: 0.006: 100%|\u001b[34m██████████\u001b[0m| 1/1 [00:00<00:00, 28.57it/s]\n",
      "\n",
      "\n",
      "\u001b[A\u001b[A\n",
      "\n",
      "\n",
      "\u001b[A\u001b[A\u001b[A\n",
      "\n",
      "\n",
      "\u001b[A\u001b[A\u001b[A\n",
      "\n",
      "\n",
      "rtf_avg: 0.013: 100%|\u001b[34m██████████\u001b[0m| 1/1 [00:00<00:00, 12.66it/s]\n",
      "\n",
      "\n",
      "rtf_avg: 0.015, time_speech:  5.620, time_escape: 0.085: 100%|\u001b[31m██████████\u001b[0m| 1/1 [00:00<00:00, 11.57it/s]\n"
     ]
    },
    {
     "name": "stdout",
     "output_type": "stream",
     "text": [
      "3720 天猫精灵26.5除以38等于多少？ ee182915-3ffa-46a9-96f8-bd578f3e99b9.wav\n"
     ]
    },
    {
     "name": "stderr",
     "output_type": "stream",
     "text": [
      "\n",
      "\n",
      "\u001b[A\u001b[A\n",
      "\n",
      "\u001b[A\u001b[A\n",
      "\n",
      "rtf_avg: 0.005: 100%|\u001b[34m██████████\u001b[0m| 1/1 [00:00<00:00, 33.01it/s]\n",
      "\n",
      "\n",
      "\u001b[A\u001b[A\n",
      "\n",
      "\n",
      "\u001b[A\u001b[A\u001b[A\n",
      "\n",
      "\n",
      "\u001b[A\u001b[A\u001b[A\n",
      "\n",
      "\n",
      "rtf_avg: 0.016: 100%|\u001b[34m██████████\u001b[0m| 1/1 [00:00<00:00, 11.77it/s]\n",
      "\n",
      "\n",
      "rtf_avg: 0.018, time_speech:  5.230, time_escape: 0.092: 100%|\u001b[31m██████████\u001b[0m| 1/1 [00:00<00:00, 10.64it/s]\n"
     ]
    },
    {
     "name": "stdout",
     "output_type": "stream",
     "text": [
      "3721 天猫精灵，要粉天马两只无鸡杨肾烫吧。 ee19a61b-3a4f-44a4-91c4-77b49ecd242d.wav\n"
     ]
    },
    {
     "name": "stderr",
     "output_type": "stream",
     "text": [
      "\n",
      "\n",
      "\u001b[A\u001b[A\n",
      "\n",
      "\u001b[A\u001b[A\n",
      "\n",
      "rtf_avg: 0.007: 100%|\u001b[34m██████████\u001b[0m| 1/1 [00:00<00:00, 33.08it/s]\n",
      "\n",
      "\n",
      "\u001b[A\u001b[A\n",
      "\n",
      "\n",
      "\u001b[A\u001b[A\u001b[A\n",
      "\n",
      "\n",
      "\u001b[A\u001b[A\u001b[A\n",
      "\n",
      "\n",
      "rtf_avg: 0.021: 100%|\u001b[34m██████████\u001b[0m| 1/1 [00:00<00:00, 12.30it/s]\n",
      "\n",
      "\n",
      "rtf_avg: 0.023, time_speech:  3.780, time_escape: 0.088: 100%|\u001b[31m██████████\u001b[0m| 1/1 [00:00<00:00, 11.09it/s]\n"
     ]
    },
    {
     "name": "stdout",
     "output_type": "stream",
     "text": [
      "3722 天猫精灵要玩热火的皮蛋瘦肉粥吧。 ee1fa4d7-2125-4e72-871b-803ef264488f.wav\n"
     ]
    },
    {
     "name": "stderr",
     "output_type": "stream",
     "text": [
      "\n",
      "\n",
      "\u001b[A\u001b[A\n",
      "\n",
      "\u001b[A\u001b[A\n",
      "\n",
      "rtf_avg: 0.005: 100%|\u001b[34m██████████\u001b[0m| 1/1 [00:00<00:00, 21.62it/s]\n",
      "\n",
      "\n",
      "\u001b[A\u001b[A\n",
      "\n",
      "\n",
      "\u001b[A\u001b[A\u001b[A\n",
      "\n",
      "\n",
      "\u001b[A\u001b[A\u001b[A\n",
      "\n",
      "\n",
      "rtf_avg: 0.009: 100%|\u001b[34m██████████\u001b[0m| 1/1 [00:00<00:00, 12.22it/s]\n",
      "\n",
      "\n",
      "rtf_avg: 0.010, time_speech:  9.190, time_escape: 0.088: 100%|\u001b[31m██████████\u001b[0m| 1/1 [00:00<00:00, 11.13it/s]\n"
     ]
    },
    {
     "name": "stdout",
     "output_type": "stream",
     "text": [
      "3723 天猫精灵拨我来一份三一得牛肉味道老嗲粥好，粥要稍得侬点，我牙齿勿大灵光，谢谢啦。 ee402796-e1c4-4101-b40b-2e293c3294a5.wav\n"
     ]
    },
    {
     "name": "stderr",
     "output_type": "stream",
     "text": [
      "\n",
      "\n",
      "\u001b[A\u001b[A\n",
      "\n",
      "\u001b[A\u001b[A\n",
      "\n",
      "rtf_avg: 0.006: 100%|\u001b[34m██████████\u001b[0m| 1/1 [00:00<00:00, 16.18it/s]\n",
      "\n",
      "\n",
      "\u001b[A\u001b[A\n",
      "\n",
      "\n",
      "\u001b[A\u001b[A\u001b[A\n",
      "\n",
      "\n",
      "\u001b[A\u001b[A\u001b[A\n",
      "\n",
      "\n",
      "rtf_avg: 0.008: 100%|\u001b[34m██████████\u001b[0m| 1/1 [00:00<00:00, 11.91it/s]\n",
      "\n",
      "\n",
      "rtf_avg: 0.009, time_speech:  10.200, time_escape: 0.089: 100%|\u001b[31m██████████\u001b[0m| 1/1 [00:00<00:00, 10.83it/s]\n"
     ]
    },
    {
     "name": "stdout",
     "output_type": "stream",
     "text": [
      "3724 天猫精灵播放和和灰太狼学狼嚎。😊 ee50a0c2-ef00-4d9c-8a2c-364fdad0c876.wav\n"
     ]
    },
    {
     "name": "stderr",
     "output_type": "stream",
     "text": [
      "\n",
      "\n",
      "\u001b[A\u001b[A\n",
      "\n",
      "\u001b[A\u001b[A\n",
      "\n",
      "rtf_avg: 0.005: 100%|\u001b[34m██████████\u001b[0m| 1/1 [00:00<00:00, 27.17it/s]\n",
      "\n",
      "\n",
      "\u001b[A\u001b[A\n",
      "\n",
      "\n",
      "\u001b[A\u001b[A\u001b[A\n",
      "\n",
      "\n",
      "\u001b[A\u001b[A\u001b[A\n",
      "\n",
      "\n",
      "rtf_avg: 0.012: 100%|\u001b[34m██████████\u001b[0m| 1/1 [00:00<00:00, 12.93it/s]\n",
      "\n",
      "\n",
      "rtf_avg: 0.013, time_speech:  6.116, time_escape: 0.082: 100%|\u001b[31m██████████\u001b[0m| 1/1 [00:00<00:00, 11.72it/s]\n"
     ]
    },
    {
     "name": "stdout",
     "output_type": "stream",
     "text": [
      "3725 天猫精灵把落地灯的亮度调到最大。 ee5dc34f-f9b9-474f-85b3-ab98748c4227.wav\n"
     ]
    },
    {
     "name": "stderr",
     "output_type": "stream",
     "text": [
      "\n",
      "\n",
      "\u001b[A\u001b[A\n",
      "\n",
      "\u001b[A\u001b[A\n",
      "\n",
      "rtf_avg: 0.010: 100%|\u001b[34m██████████\u001b[0m| 1/1 [00:00<00:00, 33.00it/s]\n",
      "\n",
      "\n",
      "\u001b[A\u001b[A\n",
      "\n",
      "\n",
      "\u001b[A\u001b[A\u001b[A\n",
      "\n",
      "\n",
      "\u001b[A\u001b[A\u001b[A\n",
      "\n",
      "\n",
      "rtf_avg: 0.031: 100%|\u001b[34m██████████\u001b[0m| 1/1 [00:00<00:00, 12.31it/s]\n",
      "\n",
      "\n",
      "rtf_avg: 0.036, time_speech:  2.560, time_escape: 0.091: 100%|\u001b[31m██████████\u001b[0m| 1/1 [00:00<00:00, 10.55it/s]\n"
     ]
    },
    {
     "name": "stdout",
     "output_type": "stream",
     "text": [
      "3726 播放印花洗手液。 ee661e4b-4781-4e05-830b-d191b7242364.wav\n"
     ]
    },
    {
     "name": "stderr",
     "output_type": "stream",
     "text": [
      "\n",
      "\n",
      "\u001b[A\u001b[A\n",
      "\n",
      "\u001b[A\u001b[A\n",
      "\n",
      "rtf_avg: 0.006: 100%|\u001b[34m██████████\u001b[0m| 1/1 [00:00<00:00, 30.72it/s]\n",
      "\n",
      "\n",
      "\u001b[A\u001b[A\n",
      "\n",
      "\n",
      "\u001b[A\u001b[A\u001b[A\n",
      "\n",
      "\n",
      "\u001b[A\u001b[A\u001b[A\n",
      "\n",
      "\n",
      "rtf_avg: 0.017: 100%|\u001b[34m██████████\u001b[0m| 1/1 [00:00<00:00, 12.84it/s]\n",
      "\n",
      "\n",
      "rtf_avg: 0.018, time_speech:  4.510, time_escape: 0.083: 100%|\u001b[31m██████████\u001b[0m| 1/1 [00:00<00:00, 11.76it/s]\n"
     ]
    },
    {
     "name": "stdout",
     "output_type": "stream",
     "text": [
      "3727 天猫精灵来碗乐乎的百合莲子粥吧。 eeb139f5-dbae-4438-946a-c9c7c58d9c2b.wav\n"
     ]
    },
    {
     "name": "stderr",
     "output_type": "stream",
     "text": [
      "\n",
      "\n",
      "\u001b[A\u001b[A\n",
      "\n",
      "\u001b[A\u001b[A\n",
      "\n",
      "rtf_avg: 0.008: 100%|\u001b[34m██████████\u001b[0m| 1/1 [00:00<00:00, 34.60it/s]\n",
      "\n",
      "\n",
      "\u001b[A\u001b[A\n",
      "\n",
      "\n",
      "\u001b[A\u001b[A\u001b[A\n",
      "\n",
      "\n",
      "\u001b[A\u001b[A\u001b[A\n",
      "\n",
      "\n",
      "rtf_avg: 0.024: 100%|\u001b[34m██████████\u001b[0m| 1/1 [00:00<00:00, 12.93it/s]\n",
      "\n",
      "\n",
      "rtf_avg: 0.026, time_speech:  3.160, time_escape: 0.083: 100%|\u001b[31m██████████\u001b[0m| 1/1 [00:00<00:00, 11.65it/s]\n"
     ]
    },
    {
     "name": "stdout",
     "output_type": "stream",
     "text": [
      "3728 天猫精灵来份外部菜炒蛋吧。 eed5b894-461a-4c73-8dcd-23048d6ee79d.wav\n"
     ]
    },
    {
     "name": "stderr",
     "output_type": "stream",
     "text": [
      "\n",
      "\n",
      "\u001b[A\u001b[A\n",
      "\n",
      "\u001b[A\u001b[A\n",
      "\n",
      "rtf_avg: 0.006: 100%|\u001b[34m██████████\u001b[0m| 1/1 [00:00<00:00, 34.29it/s]\n",
      "\n",
      "\n",
      "\u001b[A\u001b[A\n",
      "\n",
      "\n",
      "\u001b[A\u001b[A\u001b[A\n",
      "\n",
      "\n",
      "\u001b[A\u001b[A\u001b[A\n",
      "\n",
      "\n",
      "rtf_avg: 0.026: 100%|\u001b[34m██████████\u001b[0m| 1/1 [00:00<00:00, 12.35it/s]\n",
      "\n",
      "\n",
      "rtf_avg: 0.023, time_speech:  3.730, time_escape: 0.087: 100%|\u001b[31m██████████\u001b[0m| 1/1 [00:00<00:00, 11.24it/s]\n"
     ]
    },
    {
     "name": "stdout",
     "output_type": "stream",
     "text": [
      "3729 天猫精灵奶份清炒小型菜。 ef070538-b581-46ad-a39b-a67c2755fed0.wav\n"
     ]
    },
    {
     "name": "stderr",
     "output_type": "stream",
     "text": [
      "\n",
      "\n",
      "\u001b[A\u001b[A\n",
      "\n",
      "\u001b[A\u001b[A\n",
      "\n",
      "rtf_avg: 0.005: 100%|\u001b[34m██████████\u001b[0m| 1/1 [00:00<00:00, 32.17it/s]\n",
      "\n",
      "\n",
      "\u001b[A\u001b[A\n",
      "\n",
      "\n",
      "\u001b[A\u001b[A\u001b[A\n",
      "\n",
      "\n",
      "\u001b[A\u001b[A\u001b[A\n",
      "\n",
      "\n",
      "rtf_avg: 0.016: 100%|\u001b[34m██████████\u001b[0m| 1/1 [00:00<00:00, 12.40it/s]\n",
      "\n",
      "\n",
      "rtf_avg: 0.017, time_speech:  5.000, time_escape: 0.086: 100%|\u001b[31m██████████\u001b[0m| 1/1 [00:00<00:00, 11.03it/s]\n"
     ]
    },
    {
     "name": "stdout",
     "output_type": "stream",
     "text": [
      "3730 天猫精灵，你可以买只小狗吗？ ef191cb4-166d-4e06-8448-657d9e96f761.wav\n"
     ]
    },
    {
     "name": "stderr",
     "output_type": "stream",
     "text": [
      "\n",
      "\n",
      "\u001b[A\u001b[A\n",
      "\n",
      "\u001b[A\u001b[A\n",
      "\n",
      "rtf_avg: 0.008: 100%|\u001b[34m██████████\u001b[0m| 1/1 [00:00<00:00, 36.19it/s]\n",
      "\n",
      "\n",
      "\u001b[A\u001b[A\n",
      "\n",
      "\n",
      "\u001b[A\u001b[A\u001b[A\n",
      "\n",
      "\n",
      "\u001b[A\u001b[A\u001b[A\n",
      "\n",
      "\n",
      "rtf_avg: 0.026: 100%|\u001b[34m██████████\u001b[0m| 1/1 [00:00<00:00, 12.59it/s]\n",
      "\n",
      "\n",
      "rtf_avg: 0.029, time_speech:  2.960, time_escape: 0.085: 100%|\u001b[31m██████████\u001b[0m| 1/1 [00:00<00:00, 11.31it/s]\n"
     ]
    },
    {
     "name": "stdout",
     "output_type": "stream",
     "text": [
      "3731 我要唱宋平的含情脉脉。 ef22569d-7159-41d6-95d3-19b6e213bf33.wav\n"
     ]
    },
    {
     "name": "stderr",
     "output_type": "stream",
     "text": [
      "\n",
      "\n",
      "\u001b[A\u001b[A\n",
      "\n",
      "\u001b[A\u001b[A\n",
      "\n",
      "rtf_avg: 0.006: 100%|\u001b[34m██████████\u001b[0m| 1/1 [00:00<00:00, 25.34it/s]\n",
      "\n",
      "\n",
      "\u001b[A\u001b[A\n",
      "\n",
      "\n",
      "\u001b[A\u001b[A\u001b[A\n",
      "\n",
      "\n",
      "\u001b[A\u001b[A\u001b[A\n",
      "\n",
      "\n",
      "\u001b[A\u001b[A\u001b[A\n",
      "\n",
      "\n",
      "rtf_avg: 0.021: 100%|\u001b[34m██████████\u001b[0m| 1/1 [00:00<00:00,  9.39it/s]\n",
      "\n",
      "\n",
      "\u001b[A\u001b[A\n",
      "\n",
      "rtf_avg: 0.022, time_speech:  5.100, time_escape: 0.112: 100%|\u001b[31m██████████\u001b[0m| 1/1 [00:00<00:00,  8.65it/s]\n"
     ]
    },
    {
     "name": "stdout",
     "output_type": "stream",
     "text": [
      "3732 天猫精灵维碗番茄蛋花面疙瘩吧。 ef2ac350-f0d4-4711-84f0-0d6997903948.wav\n"
     ]
    },
    {
     "name": "stderr",
     "output_type": "stream",
     "text": [
      "\n",
      "\n",
      "\u001b[A\u001b[A\n",
      "\n",
      "\u001b[A\u001b[A\n",
      "\n",
      "rtf_avg: 0.006: 100%|\u001b[34m██████████\u001b[0m| 1/1 [00:00<00:00, 20.99it/s]\n",
      "\n",
      "\n",
      "\u001b[A\u001b[A\n",
      "\n",
      "\n",
      "\u001b[A\u001b[A\u001b[A\n",
      "\n",
      "\n",
      "\u001b[A\u001b[A\u001b[A\n",
      "\n",
      "\n",
      "rtf_avg: 0.012: 100%|\u001b[34m██████████\u001b[0m| 1/1 [00:00<00:00, 11.34it/s]\n",
      "\n",
      "\n",
      "rtf_avg: 0.014, time_speech:  6.900, time_escape: 0.093: 100%|\u001b[31m██████████\u001b[0m| 1/1 [00:00<00:00, 10.34it/s]\n"
     ]
    },
    {
     "name": "stdout",
     "output_type": "stream",
     "text": [
      "3733 天猫精灵播放一首好听的音乐，遇见。 ef433f62-4b10-422e-9a4e-6d02e9294a7e.wav\n"
     ]
    },
    {
     "name": "stderr",
     "output_type": "stream",
     "text": [
      "\n",
      "\n",
      "\u001b[A\u001b[A\n",
      "\n",
      "\u001b[A\u001b[A\n",
      "\n",
      "rtf_avg: 0.007: 100%|\u001b[34m██████████\u001b[0m| 1/1 [00:00<00:00, 36.84it/s]\n",
      "\n",
      "\n",
      "\u001b[A\u001b[A\n",
      "\n",
      "\n",
      "\u001b[A\u001b[A\u001b[A\n",
      "\n",
      "\n",
      "\u001b[A\u001b[A\u001b[A\n",
      "\n",
      "\n",
      "rtf_avg: 0.026: 100%|\u001b[34m██████████\u001b[0m| 1/1 [00:00<00:00, 11.63it/s]\n",
      "\n",
      "\n",
      "rtf_avg: 0.028, time_speech:  3.230, time_escape: 0.092: 100%|\u001b[31m██████████\u001b[0m| 1/1 [00:00<00:00, 10.64it/s]\n"
     ]
    },
    {
     "name": "stdout",
     "output_type": "stream",
     "text": [
      "3734 天猫精灵来碗热乎的绿豆粥。 ef5552e9-6435-43ac-b8cb-fadaaf2aeec4.wav\n"
     ]
    },
    {
     "name": "stderr",
     "output_type": "stream",
     "text": [
      "\n",
      "\n",
      "\u001b[A\u001b[A\n",
      "\n",
      "\u001b[A\u001b[A\n",
      "\n",
      "rtf_avg: 0.005: 100%|\u001b[34m██████████\u001b[0m| 1/1 [00:00<00:00, 23.79it/s]\n",
      "\n",
      "\n",
      "\u001b[A\u001b[A\n",
      "\n",
      "\n",
      "\u001b[A\u001b[A\u001b[A\n",
      "\n",
      "\n",
      "\u001b[A\u001b[A\u001b[A\n",
      "\n",
      "\n",
      "rtf_avg: 0.012: 100%|\u001b[34m██████████\u001b[0m| 1/1 [00:00<00:00, 11.07it/s]\n",
      "\n",
      "\n",
      "rtf_avg: 0.014, time_speech:  6.960, time_escape: 0.097: 100%|\u001b[31m██████████\u001b[0m| 1/1 [00:00<00:00,  9.96it/s]\n"
     ]
    },
    {
     "name": "stdout",
     "output_type": "stream",
     "text": [
      "3735 天猫精灵王者荣耀吕德华的护花使者。 ef598966-2201-4894-9094-ab5adba43b41.wav\n"
     ]
    },
    {
     "name": "stderr",
     "output_type": "stream",
     "text": [
      "\n",
      "\n",
      "\u001b[A\u001b[A\n",
      "\n",
      "\u001b[A\u001b[A\n",
      "\n",
      "rtf_avg: 0.004: 100%|\u001b[34m██████████\u001b[0m| 1/1 [00:00<00:00, 20.94it/s]\n",
      "\n",
      "\n",
      "\u001b[A\u001b[A\n",
      "\n",
      "\n",
      "\u001b[A\u001b[A\u001b[A\n",
      "\n",
      "\n",
      "\u001b[A\u001b[A\u001b[A\n",
      "\n",
      "\n",
      "rtf_avg: 0.007: 100%|\u001b[34m██████████\u001b[0m| 1/1 [00:00<00:00, 12.94it/s]\n",
      "\n",
      "\n",
      "rtf_avg: 0.008, time_speech:  10.660, time_escape: 0.083: 100%|\u001b[31m██████████\u001b[0m| 1/1 [00:00<00:00, 11.46it/s]\n"
     ]
    },
    {
     "name": "stdout",
     "output_type": "stream",
     "text": [
      "3736 天猫精灵1440万除以320万等于多少？ ef6e5502-73c8-42a4-bb2f-052554da6d15.wav\n"
     ]
    },
    {
     "name": "stderr",
     "output_type": "stream",
     "text": [
      "\n",
      "\n",
      "\u001b[A\u001b[A\n",
      "\n",
      "\u001b[A\u001b[A\n",
      "\n",
      "rtf_avg: 0.007: 100%|\u001b[34m██████████\u001b[0m| 1/1 [00:00<00:00, 36.25it/s]\n",
      "\n",
      "\n",
      "\u001b[A\u001b[A\n",
      "\n",
      "\n",
      "\u001b[A\u001b[A\u001b[A\n",
      "\n",
      "\n",
      "\u001b[A\u001b[A\u001b[A\n",
      "\n",
      "\n",
      "rtf_avg: 0.025: 100%|\u001b[34m██████████\u001b[0m| 1/1 [00:00<00:00, 12.35it/s]\n",
      "\n",
      "\n",
      "rtf_avg: 0.027, time_speech:  3.230, time_escape: 0.087: 100%|\u001b[31m██████████\u001b[0m| 1/1 [00:00<00:00, 11.23it/s]\n"
     ]
    },
    {
     "name": "stdout",
     "output_type": "stream",
     "text": [
      "3737 天猫精灵要个蒜香空心菜吧。 ef9b7a91-0098-499e-92ad-d9ba4b8a828f.wav\n"
     ]
    },
    {
     "name": "stderr",
     "output_type": "stream",
     "text": [
      "\n",
      "\n",
      "\u001b[A\u001b[A\n",
      "\n",
      "\u001b[A\u001b[A\n",
      "\n",
      "rtf_avg: 0.006: 100%|\u001b[34m██████████\u001b[0m| 1/1 [00:00<00:00, 33.22it/s]\n",
      "\n",
      "\n",
      "\u001b[A\u001b[A\n",
      "\n",
      "\n",
      "\u001b[A\u001b[A\u001b[A\n",
      "\n",
      "\n",
      "\u001b[A\u001b[A\u001b[A\n",
      "\n",
      "\n",
      "rtf_avg: 0.016: 100%|\u001b[34m██████████\u001b[0m| 1/1 [00:00<00:00, 13.93it/s]\n",
      "\n",
      "\n",
      "rtf_avg: 0.019, time_speech:  4.160, time_escape: 0.078: 100%|\u001b[31m██████████\u001b[0m| 1/1 [00:00<00:00, 12.22it/s]\n"
     ]
    },
    {
     "name": "stdout",
     "output_type": "stream",
     "text": [
      "3738 天猫精灵来碗热乎的番茄干花汤吧。 ef9fd474-6ddc-428b-8f7b-002e1776bb6c.wav\n"
     ]
    },
    {
     "name": "stderr",
     "output_type": "stream",
     "text": [
      "\n",
      "\n",
      "\u001b[A\u001b[A\n",
      "\n",
      "\u001b[A\u001b[A\n",
      "\n",
      "rtf_avg: 0.006: 100%|\u001b[34m██████████\u001b[0m| 1/1 [00:00<00:00, 37.32it/s]\n",
      "\n",
      "\n",
      "\u001b[A\u001b[A\n",
      "\n",
      "\n",
      "\u001b[A\u001b[A\u001b[A\n",
      "\n",
      "\n",
      "\u001b[A\u001b[A\u001b[A\n",
      "\n",
      "\n",
      "rtf_avg: 0.024: 100%|\u001b[34m██████████\u001b[0m| 1/1 [00:00<00:00, 11.42it/s]\n",
      "\n",
      "\n",
      "rtf_avg: 0.025, time_speech:  3.680, time_escape: 0.093: 100%|\u001b[31m██████████\u001b[0m| 1/1 [00:00<00:00, 10.41it/s]\n"
     ]
    },
    {
     "name": "stdout",
     "output_type": "stream",
     "text": [
      "3739 要按岳湖的皮蛋瘦肉做吧。 efd36364-4c7c-4f9a-b360-1f835ec7f612.wav\n"
     ]
    },
    {
     "name": "stderr",
     "output_type": "stream",
     "text": [
      "\n",
      "\n",
      "\u001b[A\u001b[A\n",
      "\n",
      "\u001b[A\u001b[A\n",
      "\n",
      "rtf_avg: 0.005: 100%|\u001b[34m██████████\u001b[0m| 1/1 [00:00<00:00, 25.81it/s]\n",
      "\n",
      "\n",
      "\u001b[A\u001b[A\n",
      "\n",
      "\n",
      "\u001b[A\u001b[A\u001b[A\n",
      "\n",
      "\n",
      "\u001b[A\u001b[A\u001b[A\n",
      "\n",
      "\n",
      "rtf_avg: 0.010: 100%|\u001b[34m██████████\u001b[0m| 1/1 [00:00<00:00, 13.41it/s]\n",
      "\n",
      "\n",
      "rtf_avg: 0.012, time_speech:  6.680, time_escape: 0.079: 100%|\u001b[31m██████████\u001b[0m| 1/1 [00:00<00:00, 12.17it/s]\n"
     ]
    },
    {
     "name": "stdout",
     "output_type": "stream",
     "text": [
      "3740 天猫精灵，我想听虎皮鹦鹉的叫声。 efd69a90-6f1e-4c01-97dc-4e27cdb1eda5.wav\n"
     ]
    },
    {
     "name": "stderr",
     "output_type": "stream",
     "text": [
      "\n",
      "\n",
      "\u001b[A\u001b[A\n",
      "\n",
      "\u001b[A\u001b[A\n",
      "\n",
      "rtf_avg: 0.006: 100%|\u001b[34m██████████\u001b[0m| 1/1 [00:00<00:00, 27.06it/s]\n",
      "\n",
      "\n",
      "\u001b[A\u001b[A\n",
      "\n",
      "\n",
      "\u001b[A\u001b[A\u001b[A\n",
      "\n",
      "\n",
      "\u001b[A\u001b[A\u001b[A\n",
      "\n",
      "\n",
      "rtf_avg: 0.015: 100%|\u001b[34m██████████\u001b[0m| 1/1 [00:00<00:00, 14.31it/s]\n",
      "\n",
      "\n",
      "rtf_avg: 0.014, time_speech:  5.540, time_escape: 0.077: 100%|\u001b[31m██████████\u001b[0m| 1/1 [00:00<00:00, 12.50it/s]\n"
     ]
    },
    {
     "name": "stdout",
     "output_type": "stream",
     "text": [
      "3741 就是就谈谈比较多一点，说是什么药比较少啊。 efe50cc9-6102-4499-8c1c-e1bd72f5e10d.wav\n"
     ]
    },
    {
     "name": "stderr",
     "output_type": "stream",
     "text": [
      "\n",
      "\n",
      "\u001b[A\u001b[A\n",
      "\n",
      "\u001b[A\u001b[A\n",
      "\n",
      "rtf_avg: 0.005: 100%|\u001b[34m██████████\u001b[0m| 1/1 [00:00<00:00, 23.90it/s]\n",
      "\n",
      "\n",
      "\u001b[A\u001b[A\n",
      "\n",
      "\n",
      "\u001b[A\u001b[A\u001b[A\n",
      "\n",
      "\n",
      "\u001b[A\u001b[A\u001b[A\n",
      "\n",
      "\n",
      "rtf_avg: 0.008: 100%|\u001b[34m██████████\u001b[0m| 1/1 [00:00<00:00, 14.05it/s]\n",
      "\n",
      "\n",
      "rtf_avg: 0.010, time_speech:  8.020, time_escape: 0.076: 100%|\u001b[31m██████████\u001b[0m| 1/1 [00:00<00:00, 12.44it/s]\n"
     ]
    },
    {
     "name": "stdout",
     "output_type": "stream",
     "text": [
      "3742 Q。😊 efec334c-d3cb-40ef-84df-71b72f4d69d1.wav\n"
     ]
    },
    {
     "name": "stderr",
     "output_type": "stream",
     "text": [
      "\n",
      "\n",
      "\u001b[A\u001b[A\n",
      "\n",
      "\u001b[A\u001b[A\n",
      "\n",
      "rtf_avg: 0.006: 100%|\u001b[34m██████████\u001b[0m| 1/1 [00:00<00:00, 36.59it/s]\n",
      "\n",
      "\n",
      "\u001b[A\u001b[A\n",
      "\n",
      "\n",
      "\u001b[A\u001b[A\u001b[A\n",
      "\n",
      "\n",
      "\u001b[A\u001b[A\u001b[A\n",
      "\n",
      "\n",
      "rtf_avg: 0.019: 100%|\u001b[34m██████████\u001b[0m| 1/1 [00:00<00:00, 13.66it/s]\n",
      "\n",
      "\n",
      "rtf_avg: 0.021, time_speech:  3.810, time_escape: 0.078: 100%|\u001b[31m██████████\u001b[0m| 1/1 [00:00<00:00, 12.16it/s]\n"
     ]
    },
    {
     "name": "stdout",
     "output_type": "stream",
     "text": [
      "3743 天猫精灵来碗红枣燕麦甜粥吧。 eff51c0c-7da6-4524-9bfe-72dc24707892.wav\n"
     ]
    },
    {
     "name": "stderr",
     "output_type": "stream",
     "text": [
      "\n",
      "\n",
      "\u001b[A\u001b[A\n",
      "\n",
      "\u001b[A\u001b[A\n",
      "\n",
      "rtf_avg: 0.005: 100%|\u001b[34m██████████\u001b[0m| 1/1 [00:00<00:00, 28.17it/s]\n",
      "\n",
      "\n",
      "\u001b[A\u001b[A\n",
      "\n",
      "\n",
      "\u001b[A\u001b[A\u001b[A\n",
      "\n",
      "\n",
      "\u001b[A\u001b[A\u001b[A\n",
      "\n",
      "\n",
      "rtf_avg: 0.017: 100%|\u001b[34m██████████\u001b[0m| 1/1 [00:00<00:00, 13.10it/s]\n",
      "\n",
      "\n",
      "rtf_avg: 0.013, time_speech:  6.420, time_escape: 0.081: 100%|\u001b[31m██████████\u001b[0m| 1/1 [00:00<00:00, 12.00it/s]\n"
     ]
    },
    {
     "name": "stdout",
     "output_type": "stream",
     "text": [
      "3744 天猫精灵来了外婆家的爸。 f0001522-378e-4a1f-852d-87f19bb6c8b5.wav\n"
     ]
    },
    {
     "name": "stderr",
     "output_type": "stream",
     "text": [
      "\n",
      "\n",
      "\u001b[A\u001b[A\n",
      "\n",
      "\u001b[A\u001b[A\n",
      "\n",
      "rtf_avg: 0.007: 100%|\u001b[34m██████████\u001b[0m| 1/1 [00:00<00:00, 19.91it/s]\n",
      "\n",
      "\n",
      "\u001b[A\u001b[A\n",
      "\n",
      "\n",
      "\u001b[A\u001b[A\u001b[A\n",
      "\n",
      "\n",
      "\u001b[A\u001b[A\u001b[A\n",
      "\n",
      "\n",
      "rtf_avg: 0.012: 100%|\u001b[34m██████████\u001b[0m| 1/1 [00:00<00:00, 13.20it/s]\n",
      "\n",
      "\n",
      "rtf_avg: 0.014, time_speech:  6.100, time_escape: 0.083: 100%|\u001b[31m██████████\u001b[0m| 1/1 [00:00<00:00, 11.66it/s]\n"
     ]
    },
    {
     "name": "stdout",
     "output_type": "stream",
     "text": [
      "3745 天猫精灵18乘12等于多少？ f00b9195-a649-4c9b-9e6c-317c71fb58d0.wav\n"
     ]
    },
    {
     "name": "stderr",
     "output_type": "stream",
     "text": [
      "\n",
      "\n",
      "\u001b[A\u001b[A\n",
      "\n",
      "\u001b[A\u001b[A\n",
      "\n",
      "rtf_avg: 0.007: 100%|\u001b[34m██████████\u001b[0m| 1/1 [00:00<00:00, 39.68it/s]\n",
      "\n",
      "\n",
      "\u001b[A\u001b[A\n",
      "\n",
      "\n",
      "\u001b[A\u001b[A\u001b[A\n",
      "\n",
      "\n",
      "\u001b[A\u001b[A\u001b[A\n",
      "\n",
      "\n",
      "rtf_avg: 0.023: 100%|\u001b[34m██████████\u001b[0m| 1/1 [00:00<00:00, 13.48it/s]\n",
      "\n",
      "\n",
      "rtf_avg: 0.026, time_speech:  3.090, time_escape: 0.079: 100%|\u001b[31m██████████\u001b[0m| 1/1 [00:00<00:00, 12.31it/s]\n"
     ]
    },
    {
     "name": "stdout",
     "output_type": "stream",
     "text": [
      "3746 来碗鲜鱼玉米粥吧。 f02cf969-21fa-4f1e-9e42-8945fe6db9cc.wav\n"
     ]
    },
    {
     "name": "stderr",
     "output_type": "stream",
     "text": [
      "\n",
      "\n",
      "\u001b[A\u001b[A\n",
      "\n",
      "\u001b[A\u001b[A\n",
      "\n",
      "rtf_avg: 0.005: 100%|\u001b[34m██████████\u001b[0m| 1/1 [00:00<00:00, 24.32it/s]\n",
      "\n",
      "\n",
      "\u001b[A\u001b[A\n",
      "\n",
      "\n",
      "\u001b[A\u001b[A\u001b[A\n",
      "\n",
      "\n",
      "\u001b[A\u001b[A\u001b[A\n",
      "\n",
      "\n",
      "rtf_avg: 0.011: 100%|\u001b[34m██████████\u001b[0m| 1/1 [00:00<00:00, 14.74it/s]\n",
      "\n",
      "\n",
      "rtf_avg: 0.012, time_speech:  6.040, time_escape: 0.075: 100%|\u001b[31m██████████\u001b[0m| 1/1 [00:00<00:00, 12.89it/s]\n"
     ]
    },
    {
     "name": "stdout",
     "output_type": "stream",
     "text": [
      "3747 精灵机器人的声音循环播放。 f033943e-44e5-4441-bd19-c4e0d777eeb0.wav\n"
     ]
    },
    {
     "name": "stderr",
     "output_type": "stream",
     "text": [
      "\n",
      "\n",
      "\u001b[A\u001b[A\n",
      "\n",
      "\u001b[A\u001b[A\n",
      "\n",
      "rtf_avg: 0.006: 100%|\u001b[34m██████████\u001b[0m| 1/1 [00:00<00:00, 38.64it/s]\n",
      "\n",
      "\n",
      "\u001b[A\u001b[A\n",
      "\n",
      "\n",
      "\u001b[A\u001b[A\u001b[A\n",
      "\n",
      "\n",
      "\u001b[A\u001b[A\u001b[A\n",
      "\n",
      "\n",
      "rtf_avg: 0.020: 100%|\u001b[34m██████████\u001b[0m| 1/1 [00:00<00:00, 13.84it/s]\n",
      "\n",
      "\n",
      "rtf_avg: 0.022, time_speech:  3.630, time_escape: 0.079: 100%|\u001b[31m██████████\u001b[0m| 1/1 [00:00<00:00, 12.31it/s]\n"
     ]
    },
    {
     "name": "stdout",
     "output_type": "stream",
     "text": [
      "3748 要个香菇小油菜盖饭吧。 f03515a7-1a55-4b44-9cb9-5030a5ae241d.wav\n"
     ]
    },
    {
     "name": "stderr",
     "output_type": "stream",
     "text": [
      "\n",
      "\n",
      "\u001b[A\u001b[A\n",
      "\n",
      "\u001b[A\u001b[A\n",
      "\n",
      "rtf_avg: 0.008: 100%|\u001b[34m██████████\u001b[0m| 1/1 [00:00<00:00, 26.30it/s]\n",
      "\n",
      "\n",
      "\u001b[A\u001b[A\n",
      "\n",
      "\n",
      "\u001b[A\u001b[A\u001b[A\n",
      "\n",
      "\n",
      "\u001b[A\u001b[A\u001b[A\n",
      "\n",
      "\n",
      "rtf_avg: 0.018: 100%|\u001b[34m██████████\u001b[0m| 1/1 [00:00<00:00, 13.16it/s]\n",
      "\n",
      "\n",
      "rtf_avg: 0.020, time_speech:  4.170, time_escape: 0.082: 100%|\u001b[31m██████████\u001b[0m| 1/1 [00:00<00:00, 11.83it/s]\n"
     ]
    },
    {
     "name": "stdout",
     "output_type": "stream",
     "text": [
      "3749 天猫精灵来我傻酥爹爹的使用柿豆腐汤吧。 f03b374c-5ac1-403e-b0ea-fc2b53a5f5fb.wav\n"
     ]
    },
    {
     "name": "stderr",
     "output_type": "stream",
     "text": [
      "\n",
      "\n",
      "\u001b[A\u001b[A\n",
      "\n",
      "\u001b[A\u001b[A\n",
      "\n",
      "rtf_avg: 0.005: 100%|\u001b[34m██████████\u001b[0m| 1/1 [00:00<00:00, 25.07it/s]\n",
      "\n",
      "\n",
      "\u001b[A\u001b[A\n",
      "\n",
      "\n",
      "\u001b[A\u001b[A\u001b[A\n",
      "\n",
      "\n",
      "\u001b[A\u001b[A\u001b[A\n",
      "\n",
      "\n",
      "rtf_avg: 0.012: 100%|\u001b[34m██████████\u001b[0m| 1/1 [00:00<00:00, 11.12it/s]\n",
      "\n",
      "\n",
      "rtf_avg: 0.014, time_speech:  6.920, time_escape: 0.094: 100%|\u001b[31m██████████\u001b[0m| 1/1 [00:00<00:00, 10.28it/s]\n"
     ]
    },
    {
     "name": "stdout",
     "output_type": "stream",
     "text": [
      "3750 天猫精灵46加189。 f0459166-3164-4280-9f96-475d13bd51b8.wav\n"
     ]
    },
    {
     "name": "stderr",
     "output_type": "stream",
     "text": [
      "\n",
      "\n",
      "\u001b[A\u001b[A\n",
      "\n",
      "\u001b[A\u001b[A\n",
      "\n",
      "rtf_avg: 0.006: 100%|\u001b[34m██████████\u001b[0m| 1/1 [00:00<00:00, 25.10it/s]\n",
      "\n",
      "\n",
      "\u001b[A\u001b[A\n",
      "\n",
      "\n",
      "\u001b[A\u001b[A\u001b[A\n",
      "\n",
      "\n",
      "\u001b[A\u001b[A\u001b[A\n",
      "\n",
      "\n",
      "rtf_avg: 0.011: 100%|\u001b[34m██████████\u001b[0m| 1/1 [00:00<00:00, 13.21it/s]\n",
      "\n",
      "\n",
      "rtf_avg: 0.013, time_speech:  6.280, time_escape: 0.080: 100%|\u001b[31m██████████\u001b[0m| 1/1 [00:00<00:00, 11.98it/s]\n"
     ]
    },
    {
     "name": "stdout",
     "output_type": "stream",
     "text": [
      "3751 天猫精灵欠炒空心菜来一份凑嫩点啊。 f04d4a01-4c83-46db-aeb9-8e0c729de6a5.wav\n"
     ]
    },
    {
     "name": "stderr",
     "output_type": "stream",
     "text": [
      "\n",
      "\n",
      "\u001b[A\u001b[A\n",
      "\n",
      "\u001b[A\u001b[A\n",
      "\n",
      "rtf_avg: 0.007: 100%|\u001b[34m██████████\u001b[0m| 1/1 [00:00<00:00, 32.94it/s]\n",
      "\n",
      "\n",
      "\u001b[A\u001b[A\n",
      "\n",
      "\n",
      "\u001b[A\u001b[A\u001b[A\n",
      "\n",
      "\n",
      "\u001b[A\u001b[A\u001b[A\n",
      "\n",
      "\n",
      "rtf_avg: 0.021: 100%|\u001b[34m██████████\u001b[0m| 1/1 [00:00<00:00, 12.50it/s]\n",
      "\n",
      "\n",
      "rtf_avg: 0.023, time_speech:  3.820, time_escape: 0.086: 100%|\u001b[31m██████████\u001b[0m| 1/1 [00:00<00:00, 11.24it/s]\n"
     ]
    },
    {
     "name": "stdout",
     "output_type": "stream",
     "text": [
      "3752 天猫精灵来碗热乎的黑米粥吧。 f053751c-57f0-441b-b84d-50803fe0ee53.wav\n"
     ]
    },
    {
     "name": "stderr",
     "output_type": "stream",
     "text": [
      "\n",
      "\n",
      "\u001b[A\u001b[A\n",
      "\n",
      "\u001b[A\u001b[A\n",
      "\n",
      "rtf_avg: 0.005: 100%|\u001b[34m██████████\u001b[0m| 1/1 [00:00<00:00, 22.59it/s]\n",
      "\n",
      "\n",
      "\u001b[A\u001b[A\n",
      "\n",
      "\n",
      "\u001b[A\u001b[A\u001b[A\n",
      "\n",
      "\n",
      "\u001b[A\u001b[A\u001b[A\n",
      "\n",
      "\n",
      "rtf_avg: 0.009: 100%|\u001b[34m██████████\u001b[0m| 1/1 [00:00<00:00, 13.04it/s]\n",
      "\n",
      "\n",
      "rtf_avg: 0.010, time_speech:  8.020, time_escape: 0.082: 100%|\u001b[31m██████████\u001b[0m| 1/1 [00:00<00:00, 11.67it/s]\n"
     ]
    },
    {
     "name": "stdout",
     "output_type": "stream",
     "text": [
      "3753 天猫精灵，我你这么淘气，你还连播什么你播什么？😊 f0605844-ff56-4b5e-8df7-91b2b2273c67.wav\n"
     ]
    },
    {
     "name": "stderr",
     "output_type": "stream",
     "text": [
      "\n",
      "\n",
      "\u001b[A\u001b[A\n",
      "\n",
      "\u001b[A\u001b[A\n",
      "\n",
      "rtf_avg: 0.005: 100%|\u001b[34m██████████\u001b[0m| 1/1 [00:00<00:00, 37.89it/s]\n",
      "\n",
      "\n",
      "\u001b[A\u001b[A\n",
      "\n",
      "\n",
      "\u001b[A\u001b[A\u001b[A\n",
      "\n",
      "\n",
      "\u001b[A\u001b[A\u001b[A\n",
      "\n",
      "\n",
      "\u001b[A\u001b[A\u001b[A\n",
      "\n",
      "\n",
      "rtf_avg: 0.029: 100%|\u001b[34m██████████\u001b[0m| 1/1 [00:00<00:00,  8.20it/s]\n",
      "\n",
      "\n",
      "\u001b[A\u001b[A\n",
      "\n",
      "rtf_avg: 0.030, time_speech:  4.220, time_escape: 0.128: 100%|\u001b[31m██████████\u001b[0m| 1/1 [00:00<00:00,  7.54it/s]\n"
     ]
    },
    {
     "name": "stdout",
     "output_type": "stream",
     "text": [
      "3754 天猫精灵要一份家常小炒嫩豆芽儿吧。 f06e6bf8-b4d2-4ac1-afae-fb144469d1e5.wav\n"
     ]
    },
    {
     "name": "stderr",
     "output_type": "stream",
     "text": [
      "\n",
      "\n",
      "\u001b[A\u001b[A\n",
      "\n",
      "\u001b[A\u001b[A\n",
      "\n",
      "rtf_avg: 0.006: 100%|\u001b[34m██████████\u001b[0m| 1/1 [00:00<00:00, 32.39it/s]\n",
      "\n",
      "\n",
      "\u001b[A\u001b[A\n",
      "\n",
      "\n",
      "\u001b[A\u001b[A\u001b[A\n",
      "\n",
      "\n",
      "\u001b[A\u001b[A\u001b[A\n",
      "\n",
      "\n",
      "rtf_avg: 0.018: 100%|\u001b[34m██████████\u001b[0m| 1/1 [00:00<00:00, 12.10it/s]\n",
      "\n",
      "\n",
      "rtf_avg: 0.019, time_speech:  4.640, time_escape: 0.088: 100%|\u001b[31m██████████\u001b[0m| 1/1 [00:00<00:00, 11.00it/s]\n"
     ]
    },
    {
     "name": "stdout",
     "output_type": "stream",
     "text": [
      "3755 天猫精灵来个小份鸭汤粉丝吧。 f06ebbed-39a1-40ee-9f30-a90b6827c9a7.wav\n"
     ]
    },
    {
     "name": "stderr",
     "output_type": "stream",
     "text": [
      "\n",
      "\n",
      "\u001b[A\u001b[A\n",
      "\n",
      "\u001b[A\u001b[A\n",
      "\n",
      "rtf_avg: 0.005: 100%|\u001b[34m██████████\u001b[0m| 1/1 [00:00<00:00, 32.07it/s]\n",
      "\n",
      "\n",
      "\u001b[A\u001b[A\n",
      "\n",
      "\n",
      "\u001b[A\u001b[A\u001b[A\n",
      "\n",
      "\n",
      "\u001b[A\u001b[A\u001b[A\n",
      "\n",
      "\n",
      "rtf_avg: 0.018: 100%|\u001b[34m██████████\u001b[0m| 1/1 [00:00<00:00, 10.07it/s]\n",
      "\n",
      "\n",
      "\u001b[A\u001b[A\n",
      "\n",
      "rtf_avg: 0.019, time_speech:  5.420, time_escape: 0.105: 100%|\u001b[31m██████████\u001b[0m| 1/1 [00:00<00:00,  9.12it/s]\n"
     ]
    },
    {
     "name": "stdout",
     "output_type": "stream",
     "text": [
      "3756 天猫精灵1万乘1万等于多少？😊 f076e1a5-8c09-4607-9dad-31b99f9e7850.wav\n"
     ]
    },
    {
     "name": "stderr",
     "output_type": "stream",
     "text": [
      "\n",
      "\n",
      "\u001b[A\u001b[A\n",
      "\n",
      "\u001b[A\u001b[A\n",
      "\n",
      "rtf_avg: 0.006: 100%|\u001b[34m██████████\u001b[0m| 1/1 [00:00<00:00, 23.92it/s]\n",
      "\n",
      "\n",
      "\u001b[A\u001b[A\n",
      "\n",
      "\n",
      "\u001b[A\u001b[A\u001b[A\n",
      "\n",
      "\n",
      "\u001b[A\u001b[A\u001b[A\n",
      "\n",
      "\n",
      "rtf_avg: 0.013: 100%|\u001b[34m██████████\u001b[0m| 1/1 [00:00<00:00, 12.96it/s]\n",
      "\n",
      "\n",
      "rtf_avg: 0.014, time_speech:  5.764, time_escape: 0.082: 100%|\u001b[31m██████████\u001b[0m| 1/1 [00:00<00:00, 11.74it/s]\n"
     ]
    },
    {
     "name": "stdout",
     "output_type": "stream",
     "text": [
      "3757 天猫精灵歌曲满山红叶似彩霞。 f09439c9-6472-440a-933e-5eb6e1105113.wav\n"
     ]
    },
    {
     "name": "stderr",
     "output_type": "stream",
     "text": [
      "\n",
      "\n",
      "\u001b[A\u001b[A\n",
      "\n",
      "\u001b[A\u001b[A\n",
      "\n",
      "rtf_avg: 0.005: 100%|\u001b[34m██████████\u001b[0m| 1/1 [00:00<00:00, 27.94it/s]\n",
      "\n",
      "\n",
      "\u001b[A\u001b[A\n",
      "\n",
      "\n",
      "\u001b[A\u001b[A\u001b[A\n",
      "\n",
      "\n",
      "\u001b[A\u001b[A\u001b[A\n",
      "\n",
      "\n",
      "rtf_avg: 0.013: 100%|\u001b[34m██████████\u001b[0m| 1/1 [00:00<00:00, 11.33it/s]\n",
      "\n",
      "\n",
      "rtf_avg: 0.015, time_speech:  6.600, time_escape: 0.096: 100%|\u001b[31m██████████\u001b[0m| 1/1 [00:00<00:00, 10.17it/s]\n"
     ]
    },
    {
     "name": "stdout",
     "output_type": "stream",
     "text": [
      "3758 🎼天猫精灵会员二维码开通一下。 f0ab991a-3306-464e-a958-a1bd556ee7d4.wav\n"
     ]
    },
    {
     "name": "stderr",
     "output_type": "stream",
     "text": [
      "\n",
      "\n",
      "\u001b[A\u001b[A\n",
      "\n",
      "\u001b[A\u001b[A\n",
      "\n",
      "rtf_avg: 0.006: 100%|\u001b[34m██████████\u001b[0m| 1/1 [00:00<00:00, 30.22it/s]\n",
      "\n",
      "\n",
      "\u001b[A\u001b[A\n",
      "\n",
      "\n",
      "\u001b[A\u001b[A\u001b[A\n",
      "\n",
      "\n",
      "\u001b[A\u001b[A\u001b[A\n",
      "\n",
      "\n",
      "rtf_avg: 0.016: 100%|\u001b[34m██████████\u001b[0m| 1/1 [00:00<00:00, 12.09it/s]\n",
      "\n",
      "\n",
      "rtf_avg: 0.018, time_speech:  4.970, time_escape: 0.089: 100%|\u001b[31m██████████\u001b[0m| 1/1 [00:00<00:00, 11.02it/s]\n"
     ]
    },
    {
     "name": "stdout",
     "output_type": "stream",
     "text": [
      "3759 天猫精灵来源之汤煮的紫菜汤。 f0ae32a9-1661-457c-aa9a-84f8dee1beb3.wav\n"
     ]
    },
    {
     "name": "stderr",
     "output_type": "stream",
     "text": [
      "\n",
      "\n",
      "\u001b[A\u001b[A\n",
      "\n",
      "\u001b[A\u001b[A\n",
      "\n",
      "rtf_avg: 0.005: 100%|\u001b[34m██████████\u001b[0m| 1/1 [00:00<00:00, 29.01it/s]\n",
      "\n",
      "\n",
      "\u001b[A\u001b[A\n",
      "\n",
      "\n",
      "\u001b[A\u001b[A\u001b[A\n",
      "\n",
      "\n",
      "\u001b[A\u001b[A\u001b[A\n",
      "\n",
      "\n",
      "rtf_avg: 0.012: 100%|\u001b[34m██████████\u001b[0m| 1/1 [00:00<00:00, 13.85it/s]\n",
      "\n",
      "\n",
      "rtf_avg: 0.013, time_speech:  5.960, time_escape: 0.080: 100%|\u001b[31m██████████\u001b[0m| 1/1 [00:00<00:00, 12.21it/s]\n"
     ]
    },
    {
     "name": "stdout",
     "output_type": "stream",
     "text": [
      "3760 天猫精灵把声调调到75%。 f0bcfa70-cabc-4e7c-8b80-4789cc0e5c88.wav\n"
     ]
    },
    {
     "name": "stderr",
     "output_type": "stream",
     "text": [
      "\n",
      "\n",
      "\u001b[A\u001b[A\n",
      "\n",
      "\u001b[A\u001b[A\n",
      "\n",
      "rtf_avg: 0.009: 100%|\u001b[34m██████████\u001b[0m| 1/1 [00:00<00:00, 30.29it/s]\n",
      "\n",
      "\n",
      "\u001b[A\u001b[A\n",
      "\n",
      "\n",
      "\u001b[A\u001b[A\u001b[A\n",
      "\n",
      "\n",
      "\u001b[A\u001b[A\u001b[A\n",
      "\n",
      "\n",
      "rtf_avg: 0.027: 100%|\u001b[34m██████████\u001b[0m| 1/1 [00:00<00:00, 12.11it/s]\n",
      "\n",
      "\n",
      "rtf_avg: 0.029, time_speech:  3.100, time_escape: 0.090: 100%|\u001b[31m██████████\u001b[0m| 1/1 [00:00<00:00, 10.63it/s]\n"
     ]
    },
    {
     "name": "stdout",
     "output_type": "stream",
     "text": [
      "3761 要往老味儿打路面。 f0bf7901-126a-4ef2-bf79-68e950cdfcd6.wav\n"
     ]
    },
    {
     "name": "stderr",
     "output_type": "stream",
     "text": [
      "\n",
      "\n",
      "\u001b[A\u001b[A\n",
      "\n",
      "\u001b[A\u001b[A\n",
      "\n",
      "rtf_avg: 0.006: 100%|\u001b[34m██████████\u001b[0m| 1/1 [00:00<00:00, 23.90it/s]\n",
      "\n",
      "\n",
      "\u001b[A\u001b[A\n",
      "\n",
      "\n",
      "\u001b[A\u001b[A\u001b[A\n",
      "\n",
      "\n",
      "\u001b[A\u001b[A\u001b[A\n",
      "\n",
      "\n",
      "rtf_avg: 0.014: 100%|\u001b[34m██████████\u001b[0m| 1/1 [00:00<00:00, 12.84it/s]\n",
      "\n",
      "\n",
      "rtf_avg: 0.013, time_speech:  6.600, time_escape: 0.083: 100%|\u001b[31m██████████\u001b[0m| 1/1 [00:00<00:00, 11.65it/s]\n"
     ]
    },
    {
     "name": "stdout",
     "output_type": "stream",
     "text": [
      "3762 天猫精灵，妈妈现在把手机。 f0c46847-5587-4379-a4e9-ff68ac6f7c8f.wav\n"
     ]
    },
    {
     "name": "stderr",
     "output_type": "stream",
     "text": [
      "\n",
      "\n",
      "\u001b[A\u001b[A\n",
      "\n",
      "\u001b[A\u001b[A\n",
      "\n",
      "rtf_avg: 0.009: 100%|\u001b[34m██████████\u001b[0m| 1/1 [00:00<00:00, 20.32it/s]\n",
      "\n",
      "\n",
      "\u001b[A\u001b[A\n",
      "\n",
      "\n",
      "\u001b[A\u001b[A\u001b[A\n",
      "\n",
      "\n",
      "\u001b[A\u001b[A\u001b[A\n",
      "\n",
      "\n",
      "rtf_avg: 0.020: 100%|\u001b[34m██████████\u001b[0m| 1/1 [00:00<00:00, 10.63it/s]\n",
      "\n",
      "\n",
      "\u001b[A\u001b[A\n",
      "\n",
      "rtf_avg: 0.022, time_speech:  4.670, time_escape: 0.103: 100%|\u001b[31m██████████\u001b[0m| 1/1 [00:00<00:00,  9.20it/s]\n"
     ]
    },
    {
     "name": "stdout",
     "output_type": "stream",
     "text": [
      "3763 天猫精灵要一份暖性捂黑滋补皱吧。 f0f125d6-6360-4200-8690-bd424a1d153c.wav\n"
     ]
    },
    {
     "name": "stderr",
     "output_type": "stream",
     "text": [
      "\n",
      "\n",
      "\u001b[A\u001b[A\n",
      "\n",
      "\u001b[A\u001b[A\n",
      "\n",
      "rtf_avg: 0.006: 100%|\u001b[34m██████████\u001b[0m| 1/1 [00:00<00:00, 31.13it/s]\n",
      "\n",
      "\n",
      "\u001b[A\u001b[A\n",
      "\n",
      "\n",
      "\u001b[A\u001b[A\u001b[A\n",
      "\n",
      "\n",
      "\u001b[A\u001b[A\u001b[A\n",
      "\n",
      "\n",
      "rtf_avg: 0.017: 100%|\u001b[34m██████████\u001b[0m| 1/1 [00:00<00:00, 12.61it/s]\n",
      "\n",
      "\n",
      "rtf_avg: 0.019, time_speech:  4.580, time_escape: 0.085: 100%|\u001b[31m██████████\u001b[0m| 1/1 [00:00<00:00, 11.46it/s]\n"
     ]
    },
    {
     "name": "stdout",
     "output_type": "stream",
     "text": [
      "3764 天猫精灵来碗红枣红糖粥吧。 f0fddb4a-e405-4e04-a01f-8382e270aecb.wav\n"
     ]
    },
    {
     "name": "stderr",
     "output_type": "stream",
     "text": [
      "\n",
      "\n",
      "\u001b[A\u001b[A\n",
      "\n",
      "\u001b[A\u001b[A\n",
      "\n",
      "rtf_avg: 0.005: 100%|\u001b[34m██████████\u001b[0m| 1/1 [00:00<00:00, 29.11it/s]\n",
      "\n",
      "\n",
      "\u001b[A\u001b[A\n",
      "\n",
      "\n",
      "\u001b[A\u001b[A\u001b[A\n",
      "\n",
      "\n",
      "\u001b[A\u001b[A\u001b[A\n",
      "\n",
      "\n",
      "rtf_avg: 0.013: 100%|\u001b[34m██████████\u001b[0m| 1/1 [00:00<00:00, 13.29it/s]\n",
      "\n",
      "\n",
      "rtf_avg: 0.015, time_speech:  5.300, time_escape: 0.079: 100%|\u001b[31m██████████\u001b[0m| 1/1 [00:00<00:00, 12.16it/s]\n"
     ]
    },
    {
     "name": "stdout",
     "output_type": "stream",
     "text": [
      "3765 天猫精灵夕阳宝宝叫你别唱啦。 f12176a0-43d4-47d4-b549-be237261707c.wav\n"
     ]
    },
    {
     "name": "stderr",
     "output_type": "stream",
     "text": [
      "\n",
      "\n",
      "\u001b[A\u001b[A\n",
      "\n",
      "\u001b[A\u001b[A\n",
      "\n",
      "rtf_avg: 0.006: 100%|\u001b[34m██████████\u001b[0m| 1/1 [00:00<00:00, 22.23it/s]\n",
      "\n",
      "\n",
      "\u001b[A\u001b[A\n",
      "\n",
      "\n",
      "\u001b[A\u001b[A\u001b[A\n",
      "\n",
      "\n",
      "\u001b[A\u001b[A\u001b[A\n",
      "\n",
      "\n",
      "rtf_avg: 0.011: 100%|\u001b[34m██████████\u001b[0m| 1/1 [00:00<00:00, 12.07it/s]\n",
      "\n",
      "\n",
      "rtf_avg: 0.013, time_speech:  6.840, time_escape: 0.088: 100%|\u001b[31m██████████\u001b[0m| 1/1 [00:00<00:00, 10.99it/s]\n"
     ]
    },
    {
     "name": "stdout",
     "output_type": "stream",
     "text": [
      "3766 天猫精灵说欢迎卢毅川回家。 f1323074-5560-440a-ad5f-281f85654cf3.wav\n"
     ]
    },
    {
     "name": "stderr",
     "output_type": "stream",
     "text": [
      "\n",
      "\n",
      "\u001b[A\u001b[A\n",
      "\n",
      "\u001b[A\u001b[A\n",
      "\n",
      "rtf_avg: 0.010: 100%|\u001b[34m██████████\u001b[0m| 1/1 [00:00<00:00, 32.29it/s]\n",
      "\n",
      "\n",
      "\u001b[A\u001b[A\n",
      "\n",
      "\n",
      "\u001b[A\u001b[A\u001b[A\n",
      "\n",
      "\n",
      "\u001b[A\u001b[A\u001b[A\n",
      "\n",
      "\n",
      "rtf_avg: 0.081: 100%|\u001b[34m██████████\u001b[0m| 1/1 [00:00<00:00, 13.17it/s]\n",
      "\n",
      "\n",
      "rtf_avg: 0.031, time_speech:  2.633, time_escape: 0.083: 100%|\u001b[31m██████████\u001b[0m| 1/1 [00:00<00:00, 11.71it/s]\n"
     ]
    },
    {
     "name": "stdout",
     "output_type": "stream",
     "text": [
      "3767 小蝌蚪找妈妈。 f13b09a9-93b5-4b9a-a73e-d5f68931775e.wav\n"
     ]
    },
    {
     "name": "stderr",
     "output_type": "stream",
     "text": [
      "\n",
      "\n",
      "\u001b[A\u001b[A\n",
      "\n",
      "\u001b[A\u001b[A\n",
      "\n",
      "rtf_avg: 0.006: 100%|\u001b[34m██████████\u001b[0m| 1/1 [00:00<00:00, 20.78it/s]\n",
      "\n",
      "\n",
      "\u001b[A\u001b[A\n",
      "\n",
      "\n",
      "\u001b[A\u001b[A\u001b[A\n",
      "\n",
      "\n",
      "\u001b[A\u001b[A\u001b[A\n",
      "\n",
      "\n",
      "rtf_avg: 0.009: 100%|\u001b[34m██████████\u001b[0m| 1/1 [00:00<00:00, 13.50it/s]\n",
      "\n",
      "\n",
      "rtf_avg: 0.011, time_speech:  7.640, time_escape: 0.081: 100%|\u001b[31m██████████\u001b[0m| 1/1 [00:00<00:00, 12.07it/s]\n"
     ]
    },
    {
     "name": "stdout",
     "output_type": "stream",
     "text": [
      "3768 天猫精灵播放30年前30年后演唱的精卫。 f1566ff7-45cb-49ab-a88c-a8308ddce176.wav\n"
     ]
    },
    {
     "name": "stderr",
     "output_type": "stream",
     "text": [
      "\n",
      "\n",
      "\u001b[A\u001b[A\n",
      "\n",
      "\u001b[A\u001b[A\n",
      "\n",
      "rtf_avg: 0.006: 100%|\u001b[34m██████████\u001b[0m| 1/1 [00:00<00:00, 27.88it/s]\n",
      "\n",
      "\n",
      "\u001b[A\u001b[A\n",
      "\n",
      "\n",
      "\u001b[A\u001b[A\u001b[A\n",
      "\n",
      "\n",
      "\u001b[A\u001b[A\u001b[A\n",
      "\n",
      "\n",
      "rtf_avg: 0.014: 100%|\u001b[34m██████████\u001b[0m| 1/1 [00:00<00:00, 13.50it/s]\n",
      "\n",
      "\n",
      "rtf_avg: 0.015, time_speech:  5.200, time_escape: 0.080: 100%|\u001b[31m██████████\u001b[0m| 1/1 [00:00<00:00, 12.18it/s]\n"
     ]
    },
    {
     "name": "stdout",
     "output_type": "stream",
     "text": [
      "3769 天猫精灵，我刚刚师图绑定成功。 f159e9dd-69b3-4ffc-8ea2-e6ccdabf9732.wav\n"
     ]
    },
    {
     "name": "stderr",
     "output_type": "stream",
     "text": [
      "\n",
      "\n",
      "\u001b[A\u001b[A\n",
      "\n",
      "\u001b[A\u001b[A\n",
      "\n",
      "rtf_avg: 0.007: 100%|\u001b[34m██████████\u001b[0m| 1/1 [00:00<00:00, 24.42it/s]\n",
      "\n",
      "\n",
      "\u001b[A\u001b[A\n",
      "\n",
      "\n",
      "\u001b[A\u001b[A\u001b[A\n",
      "\n",
      "\n",
      "\u001b[A\u001b[A\u001b[A\n",
      "\n",
      "\n",
      "rtf_avg: 0.014: 100%|\u001b[34m██████████\u001b[0m| 1/1 [00:00<00:00, 13.73it/s]\n",
      "\n",
      "\n",
      "rtf_avg: 0.015, time_speech:  5.180, time_escape: 0.078: 100%|\u001b[31m██████████\u001b[0m| 1/1 [00:00<00:00, 12.36it/s]\n"
     ]
    },
    {
     "name": "stdout",
     "output_type": "stream",
     "text": [
      "3770 天猫精灵来碗西洋参炖脑补鸡汤。 f162dd47-89c8-486a-ab71-f857b175d4e2.wav\n"
     ]
    },
    {
     "name": "stderr",
     "output_type": "stream",
     "text": [
      "\n",
      "\n",
      "\u001b[A\u001b[A\n",
      "\n",
      "\u001b[A\u001b[A\n",
      "\n",
      "rtf_avg: 0.005: 100%|\u001b[34m██████████\u001b[0m| 1/1 [00:00<00:00, 29.43it/s]\n",
      "\n",
      "\n",
      "\u001b[A\u001b[A\n",
      "\n",
      "\n",
      "\u001b[A\u001b[A\u001b[A\n",
      "\n",
      "\n",
      "\u001b[A\u001b[A\u001b[A\n",
      "\n",
      "\n",
      "rtf_avg: 0.019: 100%|\u001b[34m██████████\u001b[0m| 1/1 [00:00<00:00, 11.20it/s]\n",
      "\n",
      "\n",
      "rtf_avg: 0.017, time_speech:  5.580, time_escape: 0.094: 100%|\u001b[31m██████████\u001b[0m| 1/1 [00:00<00:00, 10.27it/s]\n"
     ]
    },
    {
     "name": "stdout",
     "output_type": "stream",
     "text": [
      "3771 天猫精灵，我在你说69乘以80等于多少？ f16818c2-f705-4de1-ba00-c78dfc9972c5.wav\n"
     ]
    },
    {
     "name": "stderr",
     "output_type": "stream",
     "text": [
      "\n",
      "\n",
      "\u001b[A\u001b[A\n",
      "\n",
      "\u001b[A\u001b[A\n",
      "\n",
      "rtf_avg: 0.006: 100%|\u001b[34m██████████\u001b[0m| 1/1 [00:00<00:00, 26.15it/s]\n",
      "\n",
      "\n",
      "\u001b[A\u001b[A\n",
      "\n",
      "\n",
      "\u001b[A\u001b[A\u001b[A\n",
      "\n",
      "\n",
      "\u001b[A\u001b[A\u001b[A\n",
      "\n",
      "\n",
      "rtf_avg: 0.013: 100%|\u001b[34m██████████\u001b[0m| 1/1 [00:00<00:00, 12.60it/s]\n",
      "\n",
      "\n",
      "rtf_avg: 0.014, time_speech:  5.960, time_escape: 0.084: 100%|\u001b[31m██████████\u001b[0m| 1/1 [00:00<00:00, 11.51it/s]\n"
     ]
    },
    {
     "name": "stdout",
     "output_type": "stream",
     "text": [
      "3772 天猫精灵继续播放刚才放的小说。 f1691fdc-b73e-44c0-9a73-6db08956ac35.wav\n"
     ]
    },
    {
     "name": "stderr",
     "output_type": "stream",
     "text": [
      "\n",
      "\n",
      "\u001b[A\u001b[A\n",
      "\n",
      "\u001b[A\u001b[A\n",
      "\n",
      "rtf_avg: 0.006: 100%|\u001b[34m██████████\u001b[0m| 1/1 [00:00<00:00, 41.25it/s]\n",
      "\n",
      "\n",
      "\u001b[A\u001b[A\n",
      "\n",
      "\n",
      "\u001b[A\u001b[A\u001b[A\n",
      "\n",
      "\n",
      "\u001b[A\u001b[A\u001b[A\n",
      "\n",
      "\n",
      "rtf_avg: 0.028: 100%|\u001b[34m██████████\u001b[0m| 1/1 [00:00<00:00, 10.09it/s]\n",
      "\n",
      "\n",
      "\u001b[A\u001b[A\n",
      "\n",
      "rtf_avg: 0.031, time_speech:  3.360, time_escape: 0.105: 100%|\u001b[31m██████████\u001b[0m| 1/1 [00:00<00:00,  9.16it/s]\n"
     ]
    },
    {
     "name": "stdout",
     "output_type": "stream",
     "text": [
      "3773 天猫精灵再是两位抢走吧。 f17c139f-e7bf-49d1-a2e5-97418e25b5d3.wav\n"
     ]
    },
    {
     "name": "stderr",
     "output_type": "stream",
     "text": [
      "\n",
      "\n",
      "\u001b[A\u001b[A\n",
      "\n",
      "\u001b[A\u001b[A\n",
      "\n",
      "rtf_avg: 0.007: 100%|\u001b[34m██████████\u001b[0m| 1/1 [00:00<00:00, 30.69it/s]\n",
      "\n",
      "\n",
      "\u001b[A\u001b[A\n",
      "\n",
      "\n",
      "\u001b[A\u001b[A\u001b[A\n",
      "\n",
      "\n",
      "\u001b[A\u001b[A\u001b[A\n",
      "\n",
      "\n",
      "rtf_avg: 0.021: 100%|\u001b[34m██████████\u001b[0m| 1/1 [00:00<00:00, 12.95it/s]\n",
      "\n",
      "\n",
      "rtf_avg: 0.021, time_speech:  3.893, time_escape: 0.082: 100%|\u001b[31m██████████\u001b[0m| 1/1 [00:00<00:00, 11.59it/s]\n"
     ]
    },
    {
     "name": "stdout",
     "output_type": "stream",
     "text": [
      "3774 🎼我想听雨中百合的人生取舍两难全。 f17e8696-8f92-406a-9894-abe131721882.wav\n"
     ]
    },
    {
     "name": "stderr",
     "output_type": "stream",
     "text": [
      "\n",
      "\n",
      "\u001b[A\u001b[A\n",
      "\n",
      "\u001b[A\u001b[A\n",
      "\n",
      "rtf_avg: 0.009: 100%|\u001b[34m██████████\u001b[0m| 1/1 [00:00<00:00, 36.08it/s]\n",
      "\n",
      "\n",
      "\u001b[A\u001b[A\n",
      "\n",
      "\n",
      "\u001b[A\u001b[A\u001b[A\n",
      "\n",
      "\n",
      "\u001b[A\u001b[A\u001b[A\n",
      "\n",
      "\n",
      "rtf_avg: 0.034: 100%|\u001b[34m██████████\u001b[0m| 1/1 [00:00<00:00, 11.52it/s]\n",
      "\n",
      "\n",
      "rtf_avg: 0.035, time_speech:  2.720, time_escape: 0.095: 100%|\u001b[31m██████████\u001b[0m| 1/1 [00:00<00:00, 10.16it/s]\n"
     ]
    },
    {
     "name": "stdout",
     "output_type": "stream",
     "text": [
      "3775 我要唱你远远的再见。 f17f308a-13c5-47e3-ad5a-b2f082a45aaa.wav\n"
     ]
    },
    {
     "name": "stderr",
     "output_type": "stream",
     "text": [
      "\n",
      "\n",
      "\u001b[A\u001b[A\n",
      "\n",
      "\u001b[A\u001b[A\n",
      "\n",
      "rtf_avg: 0.006: 100%|\u001b[34m██████████\u001b[0m| 1/1 [00:00<00:00, 27.90it/s]\n",
      "\n",
      "\n",
      "\u001b[A\u001b[A\n",
      "\n",
      "\n",
      "\u001b[A\u001b[A\u001b[A\n",
      "\n",
      "\n",
      "\u001b[A\u001b[A\u001b[A\n",
      "\n",
      "\n",
      "rtf_avg: 0.014: 100%|\u001b[34m██████████\u001b[0m| 1/1 [00:00<00:00, 12.70it/s]\n",
      "\n",
      "\n",
      "rtf_avg: 0.015, time_speech:  5.560, time_escape: 0.086: 100%|\u001b[31m██████████\u001b[0m| 1/1 [00:00<00:00, 11.27it/s]\n"
     ]
    },
    {
     "name": "stdout",
     "output_type": "stream",
     "text": [
      "3776 可以的宝贝对，天猫精灵把灯的色温切换到暖光。 f1842ef9-f812-4949-9f1e-4d3d0bf50107.wav\n"
     ]
    },
    {
     "name": "stderr",
     "output_type": "stream",
     "text": [
      "\n",
      "\n",
      "\u001b[A\u001b[A\n",
      "\n",
      "\u001b[A\u001b[A\n",
      "\n",
      "rtf_avg: 0.007: 100%|\u001b[34m██████████\u001b[0m| 1/1 [00:00<00:00, 38.35it/s]\n",
      "\n",
      "\n",
      "\u001b[A\u001b[A\n",
      "\n",
      "\n",
      "\u001b[A\u001b[A\u001b[A\n",
      "\n",
      "\n",
      "\u001b[A\u001b[A\u001b[A\n",
      "\n",
      "\n",
      "rtf_avg: 0.023: 100%|\u001b[34m██████████\u001b[0m| 1/1 [00:00<00:00, 13.19it/s]\n",
      "\n",
      "\n",
      "rtf_avg: 0.025, time_speech:  3.300, time_escape: 0.082: 100%|\u001b[31m██████████\u001b[0m| 1/1 [00:00<00:00, 11.77it/s]\n"
     ]
    },
    {
     "name": "stdout",
     "output_type": "stream",
     "text": [
      "3777 天猫精灵来点好消化的。 f1885116-5aa2-49b3-9d83-b79f520153e5.wav\n"
     ]
    },
    {
     "name": "stderr",
     "output_type": "stream",
     "text": [
      "\n",
      "\n",
      "\u001b[A\u001b[A\n",
      "\n",
      "\u001b[A\u001b[A\n",
      "\n",
      "rtf_avg: 0.008: 100%|\u001b[34m██████████\u001b[0m| 1/1 [00:00<00:00, 28.55it/s]\n",
      "\n",
      "\n",
      "\u001b[A\u001b[A\n",
      "\n",
      "\n",
      "\u001b[A\u001b[A\u001b[A\n",
      "\n",
      "\n",
      "\u001b[A\u001b[A\u001b[A\n",
      "\n",
      "\n",
      "rtf_avg: 0.019: 100%|\u001b[34m██████████\u001b[0m| 1/1 [00:00<00:00, 13.13it/s]\n",
      "\n",
      "\n",
      "rtf_avg: 0.021, time_speech:  3.930, time_escape: 0.083: 100%|\u001b[31m██████████\u001b[0m| 1/1 [00:00<00:00, 11.74it/s]\n"
     ]
    },
    {
     "name": "stdout",
     "output_type": "stream",
     "text": [
      "3778 天猫精灵要个豆芽拌海蜇皮儿吧。 f18a53b5-f8d4-4ecc-b0d5-08215f2008d0.wav\n"
     ]
    },
    {
     "name": "stderr",
     "output_type": "stream",
     "text": [
      "\n",
      "\n",
      "\u001b[A\u001b[A\n",
      "\n",
      "\u001b[A\u001b[A\n",
      "\n",
      "rtf_avg: 0.007: 100%|\u001b[34m██████████\u001b[0m| 1/1 [00:00<00:00, 22.95it/s]\n",
      "\n",
      "\n",
      "\u001b[A\u001b[A\n",
      "\n",
      "\n",
      "\u001b[A\u001b[A\u001b[A\n",
      "\n",
      "\n",
      "\u001b[A\u001b[A\u001b[A\n",
      "\n",
      "\n",
      "rtf_avg: 0.014: 100%|\u001b[34m██████████\u001b[0m| 1/1 [00:00<00:00, 12.52it/s]\n",
      "\n",
      "\n",
      "rtf_avg: 0.015, time_speech:  5.640, time_escape: 0.087: 100%|\u001b[31m██████████\u001b[0m| 1/1 [00:00<00:00, 11.19it/s]\n"
     ]
    },
    {
     "name": "stdout",
     "output_type": "stream",
     "text": [
      "3779 一天猫精灵怎么取名，给怎么给你换名字？ f1b8ce92-8325-4fd5-b5cd-f2813547d69a.wav\n"
     ]
    },
    {
     "name": "stderr",
     "output_type": "stream",
     "text": [
      "\n",
      "\n",
      "\u001b[A\u001b[A\n",
      "\n",
      "\u001b[A\u001b[A\n",
      "\n",
      "rtf_avg: 0.007: 100%|\u001b[34m██████████\u001b[0m| 1/1 [00:00<00:00, 29.79it/s]\n",
      "\n",
      "\n",
      "\u001b[A\u001b[A\n",
      "\n",
      "\n",
      "\u001b[A\u001b[A\u001b[A\n",
      "\n",
      "\n",
      "\u001b[A\u001b[A\u001b[A\n",
      "\n",
      "\n",
      "rtf_avg: 0.016: 100%|\u001b[34m██████████\u001b[0m| 1/1 [00:00<00:00, 13.53it/s]\n",
      "\n",
      "\n",
      "rtf_avg: 0.018, time_speech:  4.406, time_escape: 0.079: 100%|\u001b[31m██████████\u001b[0m| 1/1 [00:00<00:00, 12.20it/s]\n"
     ]
    },
    {
     "name": "stdout",
     "output_type": "stream",
     "text": [
      "3780 天猫精灵来碗养胃的皮蛋瘦肉粥吧。 f1cea290-e3ac-4ca7-99e6-ea09a39cf0af.wav\n"
     ]
    },
    {
     "name": "stderr",
     "output_type": "stream",
     "text": [
      "\n",
      "\n",
      "\u001b[A\u001b[A\n",
      "\n",
      "\u001b[A\u001b[A\n",
      "\n",
      "rtf_avg: 0.008: 100%|\u001b[34m██████████\u001b[0m| 1/1 [00:00<00:00, 28.48it/s]\n",
      "\n",
      "\n",
      "\u001b[A\u001b[A\n",
      "\n",
      "\n",
      "\u001b[A\u001b[A\u001b[A\n",
      "\n",
      "\n",
      "\u001b[A\u001b[A\u001b[A\n",
      "\n",
      "\n",
      "rtf_avg: 0.021: 100%|\u001b[34m██████████\u001b[0m| 1/1 [00:00<00:00, 13.22it/s]\n",
      "\n",
      "\n",
      "rtf_avg: 0.022, time_speech:  3.787, time_escape: 0.082: 100%|\u001b[31m██████████\u001b[0m| 1/1 [00:00<00:00, 11.62it/s]\n"
     ]
    },
    {
     "name": "stdout",
     "output_type": "stream",
     "text": [
      "3781 我想听常超凡的再不会为了谁把自己灌醉。 f1d8e813-9203-4b33-b2d8-bbc85233b318.wav\n"
     ]
    },
    {
     "name": "stderr",
     "output_type": "stream",
     "text": [
      "\n",
      "\n",
      "\u001b[A\u001b[A\n",
      "\n",
      "\u001b[A\u001b[A\n",
      "\n",
      "rtf_avg: 0.006: 100%|\u001b[34m██████████\u001b[0m| 1/1 [00:00<00:00, 21.82it/s]\n",
      "\n",
      "\n",
      "\u001b[A\u001b[A\n",
      "\n",
      "\n",
      "\u001b[A\u001b[A\u001b[A\n",
      "\n",
      "\n",
      "\u001b[A\u001b[A\u001b[A\n",
      "\n",
      "\n",
      "rtf_avg: 0.012: 100%|\u001b[34m██████████\u001b[0m| 1/1 [00:00<00:00, 13.19it/s]\n",
      "\n",
      "\n",
      "rtf_avg: 0.014, time_speech:  5.840, time_escape: 0.083: 100%|\u001b[31m██████████\u001b[0m| 1/1 [00:00<00:00, 11.65it/s]\n"
     ]
    },
    {
     "name": "stdout",
     "output_type": "stream",
     "text": [
      "3782 天猫精灵365乘以2等于多少？ f1e06e73-81e3-400e-938d-43380ce14e5d.wav\n"
     ]
    },
    {
     "name": "stderr",
     "output_type": "stream",
     "text": [
      "\n",
      "\n",
      "\u001b[A\u001b[A\n",
      "\n",
      "\u001b[A\u001b[A\n",
      "\n",
      "rtf_avg: 0.012: 100%|\u001b[34m██████████\u001b[0m| 1/1 [00:00<00:00, 15.32it/s]\n",
      "\n",
      "\n",
      "\u001b[A\u001b[A\n",
      "\n",
      "\n",
      "\u001b[A\u001b[A\u001b[A\n",
      "\n",
      "\n",
      "\u001b[A\u001b[A\u001b[A\n",
      "\n",
      "\n",
      "rtf_avg: 0.016: 100%|\u001b[34m██████████\u001b[0m| 1/1 [00:00<00:00, 11.92it/s]\n",
      "\n",
      "\n",
      "rtf_avg: 0.019, time_speech:  4.920, time_escape: 0.092: 100%|\u001b[31m██████████\u001b[0m| 1/1 [00:00<00:00, 10.54it/s]\n"
     ]
    },
    {
     "name": "stdout",
     "output_type": "stream",
     "text": [
      "3783 啥天猫精灵打开窗呃打开风带。 f1efda17-3e57-4a3b-a0bf-024e25ad8765.wav\n"
     ]
    },
    {
     "name": "stderr",
     "output_type": "stream",
     "text": [
      "\n",
      "\n",
      "\u001b[A\u001b[A\n",
      "\n",
      "\u001b[A\u001b[A\n",
      "\n",
      "rtf_avg: 0.007: 100%|\u001b[34m██████████\u001b[0m| 1/1 [00:00<00:00, 35.97it/s]\n",
      "\n",
      "\n",
      "\u001b[A\u001b[A\n",
      "\n",
      "\n",
      "\u001b[A\u001b[A\u001b[A\n",
      "\n",
      "\n",
      "\u001b[A\u001b[A\u001b[A\n",
      "\n",
      "\n",
      "rtf_avg: 0.021: 100%|\u001b[34m██████████\u001b[0m| 1/1 [00:00<00:00, 12.84it/s]\n",
      "\n",
      "\n",
      "rtf_avg: 0.024, time_speech:  3.560, time_escape: 0.084: 100%|\u001b[31m██████████\u001b[0m| 1/1 [00:00<00:00, 11.51it/s]\n"
     ]
    },
    {
     "name": "stdout",
     "output_type": "stream",
     "text": [
      "3784 天猫精灵要玩热乎的皮蛋瘦肉肉。 f1f3a074-ca52-40d0-a96e-3c5dfc2b3045.wav\n"
     ]
    },
    {
     "name": "stderr",
     "output_type": "stream",
     "text": [
      "\n",
      "\n",
      "\u001b[A\u001b[A\n",
      "\n",
      "\u001b[A\u001b[A\n",
      "\n",
      "rtf_avg: 0.008: 100%|\u001b[34m██████████\u001b[0m| 1/1 [00:00<00:00, 31.07it/s]\n",
      "\n",
      "\n",
      "\u001b[A\u001b[A\n",
      "\n",
      "\n",
      "\u001b[A\u001b[A\u001b[A\n",
      "\n",
      "\n",
      "\u001b[A\u001b[A\u001b[A\n",
      "\n",
      "\n",
      "rtf_avg: 0.020: 100%|\u001b[34m██████████\u001b[0m| 1/1 [00:00<00:00, 12.76it/s]\n",
      "\n",
      "\n",
      "rtf_avg: 0.023, time_speech:  3.680, time_escape: 0.083: 100%|\u001b[31m██████████\u001b[0m| 1/1 [00:00<00:00, 11.61it/s]\n"
     ]
    },
    {
     "name": "stdout",
     "output_type": "stream",
     "text": [
      "3785 天猫精灵来份茄子焖土豆块吧。 f21ef64a-7501-4c5e-bd53-624232823f93.wav\n"
     ]
    },
    {
     "name": "stderr",
     "output_type": "stream",
     "text": [
      "\n",
      "\n",
      "\u001b[A\u001b[A\n",
      "\n",
      "\u001b[A\u001b[A\n",
      "\n",
      "rtf_avg: 0.005: 100%|\u001b[34m██████████\u001b[0m| 1/1 [00:00<00:00, 30.06it/s]\n",
      "\n",
      "\n",
      "\u001b[A\u001b[A\n",
      "\n",
      "\n",
      "\u001b[A\u001b[A\u001b[A\n",
      "\n",
      "\n",
      "\u001b[A\u001b[A\u001b[A\n",
      "\n",
      "\n",
      "rtf_avg: 0.015: 100%|\u001b[34m██████████\u001b[0m| 1/1 [00:00<00:00, 12.00it/s]\n",
      "\n",
      "\n",
      "rtf_avg: 0.018, time_speech:  5.190, time_escape: 0.091: 100%|\u001b[31m██████████\u001b[0m| 1/1 [00:00<00:00, 10.60it/s]\n"
     ]
    },
    {
     "name": "stdout",
     "output_type": "stream",
     "text": [
      "3786 天猫真人离打最短车来雨吧。 f239c35d-91c1-455e-9fea-1c28f6a8042b.wav\n"
     ]
    },
    {
     "name": "stderr",
     "output_type": "stream",
     "text": [
      "\n",
      "\n",
      "\u001b[A\u001b[A\n",
      "\n",
      "\u001b[A\u001b[A\n",
      "\n",
      "rtf_avg: 0.005: 100%|\u001b[34m██████████\u001b[0m| 1/1 [00:00<00:00, 27.31it/s]\n",
      "\n",
      "\n",
      "\u001b[A\u001b[A\n",
      "\n",
      "\n",
      "\u001b[A\u001b[A\u001b[A\n",
      "\n",
      "\n",
      "\u001b[A\u001b[A\u001b[A\n",
      "\n",
      "\n",
      "rtf_avg: 0.014: 100%|\u001b[34m██████████\u001b[0m| 1/1 [00:00<00:00, 12.73it/s]\n",
      "\n",
      "\n",
      "rtf_avg: 0.014, time_speech:  6.020, time_escape: 0.084: 100%|\u001b[31m██████████\u001b[0m| 1/1 [00:00<00:00, 11.42it/s]\n"
     ]
    },
    {
     "name": "stdout",
     "output_type": "stream",
     "text": [
      "3787 我想听房东的猫的这是你想要的生活吗？ f23ebbfb-a92e-4d2e-930d-736562340d5d.wav\n"
     ]
    },
    {
     "name": "stderr",
     "output_type": "stream",
     "text": [
      "\n",
      "\n",
      "\u001b[A\u001b[A\n",
      "\n",
      "\u001b[A\u001b[A\n",
      "\n",
      "rtf_avg: 0.005: 100%|\u001b[34m██████████\u001b[0m| 1/1 [00:00<00:00, 21.60it/s]\n",
      "\n",
      "\n",
      "\u001b[A\u001b[A\n",
      "\n",
      "\n",
      "\u001b[A\u001b[A\u001b[A\n",
      "\n",
      "\n",
      "\u001b[A\u001b[A\u001b[A\n",
      "\n",
      "\n",
      "rtf_avg: 0.007: 100%|\u001b[34m██████████\u001b[0m| 1/1 [00:00<00:00, 13.80it/s]\n",
      "\n",
      "\n",
      "rtf_avg: 0.008, time_speech:  9.320, time_escape: 0.079: 100%|\u001b[31m██████████\u001b[0m| 1/1 [00:00<00:00, 12.12it/s]\n"
     ]
    },
    {
     "name": "stdout",
     "output_type": "stream",
     "text": [
      "3788 天猫精灵播放歌曲山不转水转。 f23fa03b-7338-4f17-aa0e-e2dfe8753ca7.wav\n"
     ]
    },
    {
     "name": "stderr",
     "output_type": "stream",
     "text": [
      "\n",
      "\n",
      "\u001b[A\u001b[A\n",
      "\n",
      "\u001b[A\u001b[A\n",
      "\n",
      "rtf_avg: 0.011: 100%|\u001b[34m██████████\u001b[0m| 1/1 [00:00<00:00, 27.86it/s]\n",
      "\n",
      "\n",
      "\u001b[A\u001b[A\n",
      "\n",
      "\n",
      "\u001b[A\u001b[A\u001b[A\n",
      "\n",
      "\n",
      "\u001b[A\u001b[A\u001b[A\n",
      "\n",
      "\n",
      "rtf_avg: 0.037: 100%|\u001b[34m██████████\u001b[0m| 1/1 [00:00<00:00, 13.50it/s]\n",
      "\n",
      "\n",
      "rtf_avg: 0.028, time_speech:  2.900, time_escape: 0.080: 100%|\u001b[31m██████████\u001b[0m| 1/1 [00:00<00:00, 12.03it/s]\n"
     ]
    },
    {
     "name": "stdout",
     "output_type": "stream",
     "text": [
      "3789 🎼下飞机训练课程。 f249669e-1a36-4e9c-9b98-4ae14ff8bbe5.wav\n"
     ]
    },
    {
     "name": "stderr",
     "output_type": "stream",
     "text": [
      "\n",
      "\n",
      "\u001b[A\u001b[A\n",
      "\n",
      "\u001b[A\u001b[A\n",
      "\n",
      "rtf_avg: 0.008: 100%|\u001b[34m██████████\u001b[0m| 1/1 [00:00<00:00, 48.52it/s]\n",
      "\n",
      "\n",
      "\u001b[A\u001b[A\n",
      "\n",
      "\n",
      "\u001b[A\u001b[A\u001b[A\n",
      "\n",
      "\n",
      "\u001b[A\u001b[A\u001b[A\n",
      "\n",
      "\n",
      "rtf_avg: 0.044: 100%|\u001b[34m██████████\u001b[0m| 1/1 [00:00<00:00, 11.01it/s]\n",
      "\n",
      "\n",
      "rtf_avg: 0.045, time_speech:  2.130, time_escape: 0.096: 100%|\u001b[31m██████████\u001b[0m| 1/1 [00:00<00:00, 10.08it/s]\n"
     ]
    },
    {
     "name": "stdout",
     "output_type": "stream",
     "text": [
      "3790 要煮烂点的。 f24ce315-1745-4101-ab71-3c8700d8b751.wav\n"
     ]
    },
    {
     "name": "stderr",
     "output_type": "stream",
     "text": [
      "\n",
      "\n",
      "\u001b[A\u001b[A\n",
      "\n",
      "\u001b[A\u001b[A\n",
      "\n",
      "rtf_avg: 0.005: 100%|\u001b[34m██████████\u001b[0m| 1/1 [00:00<00:00, 33.29it/s]\n",
      "\n",
      "\n",
      "\u001b[A\u001b[A\n",
      "\n",
      "\n",
      "\u001b[A\u001b[A\u001b[A\n",
      "\n",
      "\n",
      "\u001b[A\u001b[A\u001b[A\n",
      "\n",
      "\n",
      "rtf_avg: 0.016: 100%|\u001b[34m██████████\u001b[0m| 1/1 [00:00<00:00, 12.66it/s]\n",
      "\n",
      "\n",
      "rtf_avg: 0.018, time_speech:  4.760, time_escape: 0.085: 100%|\u001b[31m██████████\u001b[0m| 1/1 [00:00<00:00, 11.49it/s]\n"
     ]
    },
    {
     "name": "stdout",
     "output_type": "stream",
     "text": [
      "3791 天猫精灵来碗热乎的皮蛋瘦肉粥吧。 f25fb64a-9422-4088-8c62-c6f6bf01a746.wav\n"
     ]
    },
    {
     "name": "stderr",
     "output_type": "stream",
     "text": [
      "\n",
      "\n",
      "\u001b[A\u001b[A\n",
      "\n",
      "\u001b[A\u001b[A\n",
      "\n",
      "rtf_avg: 0.006: 100%|\u001b[34m██████████\u001b[0m| 1/1 [00:00<00:00, 29.36it/s]\n",
      "\n",
      "\n",
      "\u001b[A\u001b[A\n",
      "\n",
      "\n",
      "\u001b[A\u001b[A\u001b[A\n",
      "\n",
      "\n",
      "\u001b[A\u001b[A\u001b[A\n",
      "\n",
      "\n",
      "rtf_avg: 0.023: 100%|\u001b[34m██████████\u001b[0m| 1/1 [00:00<00:00,  9.75it/s]\n",
      "\n",
      "\n",
      "\u001b[A\u001b[A\n",
      "\n",
      "rtf_avg: 0.022, time_speech:  4.999, time_escape: 0.108: 100%|\u001b[31m██████████\u001b[0m| 1/1 [00:00<00:00,  8.91it/s]\n"
     ]
    },
    {
     "name": "stdout",
     "output_type": "stream",
     "text": [
      "3792 天猫精灵来份儿生香老火乌鸡汤。 f2675c5a-b9e8-4bc9-8bd2-93830fdbe946.wav\n"
     ]
    },
    {
     "name": "stderr",
     "output_type": "stream",
     "text": [
      "\n",
      "\n",
      "\u001b[A\u001b[A\n",
      "\n",
      "\u001b[A\u001b[A\n",
      "\n",
      "rtf_avg: 0.005: 100%|\u001b[34m██████████\u001b[0m| 1/1 [00:00<00:00, 21.88it/s]\n",
      "\n",
      "\n",
      "\u001b[A\u001b[A\n",
      "\n",
      "\n",
      "\u001b[A\u001b[A\u001b[A\n",
      "\n",
      "\n",
      "\u001b[A\u001b[A\u001b[A\n",
      "\n",
      "\n",
      "rtf_avg: 0.011: 100%|\u001b[34m██████████\u001b[0m| 1/1 [00:00<00:00, 10.43it/s]\n",
      "\n",
      "\n",
      "\u001b[A\u001b[A\n",
      "\n",
      "rtf_avg: 0.011, time_speech:  9.160, time_escape: 0.101: 100%|\u001b[31m██████████\u001b[0m| 1/1 [00:00<00:00,  9.51it/s]\n"
     ]
    },
    {
     "name": "stdout",
     "output_type": "stream",
     "text": [
      "3793 天猫精灵一立方千米等于多少立方毫纳米？ f26dabe2-c163-4b54-86e2-3a25ba1b6385.wav\n"
     ]
    },
    {
     "name": "stderr",
     "output_type": "stream",
     "text": [
      "\n",
      "\n",
      "\u001b[A\u001b[A\n",
      "\n",
      "\u001b[A\u001b[A\n",
      "\n",
      "rtf_avg: 0.009: 100%|\u001b[34m██████████\u001b[0m| 1/1 [00:00<00:00, 26.84it/s]\n",
      "\n",
      "\n",
      "\u001b[A\u001b[A\n",
      "\n",
      "\n",
      "\u001b[A\u001b[A\u001b[A\n",
      "\n",
      "\n",
      "\u001b[A\u001b[A\u001b[A\n",
      "\n",
      "\n",
      "rtf_avg: 0.021: 100%|\u001b[34m██████████\u001b[0m| 1/1 [00:00<00:00, 14.08it/s]\n",
      "\n",
      "\n",
      "rtf_avg: 0.022, time_speech:  3.500, time_escape: 0.078: 100%|\u001b[31m██████████\u001b[0m| 1/1 [00:00<00:00, 12.33it/s]\n"
     ]
    },
    {
     "name": "stdout",
     "output_type": "stream",
     "text": [
      "3794 蔬菜豆腐汤配糙米饭会不会难消化？ f26fb02c-2f1b-47cc-b05c-f6d51e339b42.wav\n"
     ]
    },
    {
     "name": "stderr",
     "output_type": "stream",
     "text": [
      "\n",
      "\n",
      "\u001b[A\u001b[A\n",
      "\n",
      "\u001b[A\u001b[A\n",
      "\n",
      "rtf_avg: 0.005: 100%|\u001b[34m██████████\u001b[0m| 1/1 [00:00<00:00, 28.70it/s]\n",
      "\n",
      "\n",
      "\u001b[A\u001b[A\n",
      "\n",
      "\n",
      "\u001b[A\u001b[A\u001b[A\n",
      "\n",
      "\n",
      "\u001b[A\u001b[A\u001b[A\n",
      "\n",
      "\n",
      "rtf_avg: 0.013: 100%|\u001b[34m██████████\u001b[0m| 1/1 [00:00<00:00, 12.20it/s]\n",
      "\n",
      "\n",
      "rtf_avg: 0.015, time_speech:  5.956, time_escape: 0.087: 100%|\u001b[31m██████████\u001b[0m| 1/1 [00:00<00:00, 11.09it/s]\n"
     ]
    },
    {
     "name": "stdout",
     "output_type": "stream",
     "text": [
      "3795 🎼天猫精灵背加3.1415926。 f27516d6-c004-49f5-8dee-acc3460b0908.wav\n"
     ]
    },
    {
     "name": "stderr",
     "output_type": "stream",
     "text": [
      "\n",
      "\n",
      "\u001b[A\u001b[A\n",
      "\n",
      "\u001b[A\u001b[A\n",
      "\n",
      "rtf_avg: 0.007: 100%|\u001b[34m██████████\u001b[0m| 1/1 [00:00<00:00, 34.28it/s]\n",
      "\n",
      "\n",
      "\u001b[A\u001b[A\n",
      "\n",
      "\n",
      "\u001b[A\u001b[A\u001b[A\n",
      "\n",
      "\n",
      "\u001b[A\u001b[A\u001b[A\n",
      "\n",
      "\n",
      "rtf_avg: 0.020: 100%|\u001b[34m██████████\u001b[0m| 1/1 [00:00<00:00, 12.99it/s]\n",
      "\n",
      "\n",
      "rtf_avg: 0.023, time_speech:  3.700, time_escape: 0.085: 100%|\u001b[31m██████████\u001b[0m| 1/1 [00:00<00:00, 11.38it/s]\n"
     ]
    },
    {
     "name": "stdout",
     "output_type": "stream",
     "text": [
      "3796 天猫精灵来碗养胃的小米粥吧。 f2a5b22d-8701-4ee2-90d0-2be9a8522cc3.wav\n"
     ]
    },
    {
     "name": "stderr",
     "output_type": "stream",
     "text": [
      "\n",
      "\n",
      "\u001b[A\u001b[A\n",
      "\n",
      "\u001b[A\u001b[A\n",
      "\n",
      "rtf_avg: 0.012: 100%|\u001b[34m██████████\u001b[0m| 1/1 [00:00<00:00, 30.08it/s]\n",
      "\n",
      "\n",
      "\u001b[A\u001b[A\n",
      "\n",
      "\n",
      "\u001b[A\u001b[A\u001b[A\n",
      "\n",
      "\n",
      "\u001b[A\u001b[A\u001b[A\n",
      "\n",
      "\n",
      "rtf_avg: 0.033: 100%|\u001b[34m██████████\u001b[0m| 1/1 [00:00<00:00, 12.76it/s]\n",
      "\n",
      "\n",
      "rtf_avg: 0.035, time_speech:  2.400, time_escape: 0.083: 100%|\u001b[31m██████████\u001b[0m| 1/1 [00:00<00:00, 11.72it/s]\n"
     ]
    },
    {
     "name": "stdout",
     "output_type": "stream",
     "text": [
      "3797 番茄炒单来一份儿吧。 f2abb598-7cfa-40ef-86ba-c93b8845311f.wav\n"
     ]
    },
    {
     "name": "stderr",
     "output_type": "stream",
     "text": [
      "\n",
      "\n",
      "\u001b[A\u001b[A\n",
      "\n",
      "\u001b[A\u001b[A\n",
      "\n",
      "rtf_avg: 0.006: 100%|\u001b[34m██████████\u001b[0m| 1/1 [00:00<00:00, 38.44it/s]\n",
      "\n",
      "\n",
      "\u001b[A\u001b[A\n",
      "\n",
      "\n",
      "\u001b[A\u001b[A\u001b[A\n",
      "\n",
      "\n",
      "\u001b[A\u001b[A\u001b[A\n",
      "\n",
      "\n",
      "rtf_avg: 0.027: 100%|\u001b[34m██████████\u001b[0m| 1/1 [00:00<00:00, 11.01it/s]\n",
      "\n",
      "\n",
      "rtf_avg: 0.029, time_speech:  3.350, time_escape: 0.097: 100%|\u001b[31m██████████\u001b[0m| 1/1 [00:00<00:00, 10.02it/s]\n"
     ]
    },
    {
     "name": "stdout",
     "output_type": "stream",
     "text": [
      "3798 天猫尽了来碗原味的小米粥。 f2ca86b0-d683-4d89-b71c-68767016bf64.wav\n"
     ]
    },
    {
     "name": "stderr",
     "output_type": "stream",
     "text": [
      "\n",
      "\n",
      "\u001b[A\u001b[A\n",
      "\n",
      "\u001b[A\u001b[A\n",
      "\n",
      "rtf_avg: 0.008: 100%|\u001b[34m██████████\u001b[0m| 1/1 [00:00<00:00, 37.32it/s]\n",
      "\n",
      "\n",
      "\u001b[A\u001b[A\n",
      "\n",
      "\n",
      "\u001b[A\u001b[A\u001b[A\n",
      "\n",
      "\n",
      "\u001b[A\u001b[A\u001b[A\n",
      "\n",
      "\n",
      "rtf_avg: 0.033: 100%|\u001b[34m██████████\u001b[0m| 1/1 [00:00<00:00, 11.92it/s]\n",
      "\n",
      "\n",
      "rtf_avg: 0.035, time_speech:  2.590, time_escape: 0.091: 100%|\u001b[31m██████████\u001b[0m| 1/1 [00:00<00:00, 10.76it/s]\n"
     ]
    },
    {
     "name": "stdout",
     "output_type": "stream",
     "text": [
      "3799 来碗肉的皮蛋瘦肉粥。 f2d465af-c41a-4098-8e0e-e6bef7388684.wav\n"
     ]
    },
    {
     "name": "stderr",
     "output_type": "stream",
     "text": [
      "\n",
      "\n",
      "\u001b[A\u001b[A\n",
      "\n",
      "\u001b[A\u001b[A\n",
      "\n",
      "rtf_avg: 0.006: 100%|\u001b[34m██████████\u001b[0m| 1/1 [00:00<00:00, 24.33it/s]\n",
      "\n",
      "\n",
      "\u001b[A\u001b[A\n",
      "\n",
      "\n",
      "\u001b[A\u001b[A\u001b[A\n",
      "\n",
      "\n",
      "\u001b[A\u001b[A\u001b[A\n",
      "\n",
      "\n",
      "rtf_avg: 0.012: 100%|\u001b[34m██████████\u001b[0m| 1/1 [00:00<00:00, 12.99it/s]\n",
      "\n",
      "\n",
      "rtf_avg: 0.015, time_speech:  6.210, time_escape: 0.090: 100%|\u001b[31m██████████\u001b[0m| 1/1 [00:00<00:00, 10.76it/s]\n"
     ]
    },
    {
     "name": "stdout",
     "output_type": "stream",
     "text": [
      "3800 天猫精灵来碗鸡丝手擀面，汤馅点嘞。 f2eca377-5efd-4d20-8a1d-a6349928a560.wav\n"
     ]
    },
    {
     "name": "stderr",
     "output_type": "stream",
     "text": [
      "\n",
      "\n",
      "\u001b[A\u001b[A\n",
      "\n",
      "\u001b[A\u001b[A\n",
      "\n",
      "rtf_avg: 0.006: 100%|\u001b[34m██████████\u001b[0m| 1/1 [00:00<00:00, 20.87it/s]\n",
      "\n",
      "\n",
      "\u001b[A\u001b[A\n",
      "\n",
      "\n",
      "\u001b[A\u001b[A\u001b[A\n",
      "\n",
      "\n",
      "\u001b[A\u001b[A\u001b[A\n",
      "\n",
      "\n",
      "rtf_avg: 0.012: 100%|\u001b[34m██████████\u001b[0m| 1/1 [00:00<00:00, 10.97it/s]\n",
      "\n",
      "\n",
      "rtf_avg: 0.013, time_speech:  7.540, time_escape: 0.096: 100%|\u001b[31m██████████\u001b[0m| 1/1 [00:00<00:00, 10.07it/s]\n"
     ]
    },
    {
     "name": "stdout",
     "output_type": "stream",
     "text": [
      "3801 天猫精灵魔幻七局的草方块旋转一分钟。 f2fe0ce7-4471-4285-bc5b-9a8ae43149ed.wav\n"
     ]
    },
    {
     "name": "stderr",
     "output_type": "stream",
     "text": [
      "\n",
      "\n",
      "\u001b[A\u001b[A\n",
      "\n",
      "\u001b[A\u001b[A\n",
      "\n",
      "rtf_avg: 0.010: 100%|\u001b[34m██████████\u001b[0m| 1/1 [00:00<00:00, 20.98it/s]\n",
      "\n",
      "\n",
      "\u001b[A\u001b[A\n",
      "\n",
      "\n",
      "\u001b[A\u001b[A\u001b[A\n",
      "\n",
      "\n",
      "\u001b[A\u001b[A\u001b[A\n",
      "\n",
      "\n",
      "rtf_avg: 0.019: 100%|\u001b[34m██████████\u001b[0m| 1/1 [00:00<00:00, 12.79it/s]\n",
      "\n",
      "\n",
      "rtf_avg: 0.021, time_speech:  4.070, time_escape: 0.085: 100%|\u001b[31m██████████\u001b[0m| 1/1 [00:00<00:00, 11.46it/s]\n"
     ]
    },
    {
     "name": "stdout",
     "output_type": "stream",
     "text": [
      "3802 天猫精灵来碗养生老鸭汤，暖暖胃吧。 f302eaa4-3e77-4274-b01f-ad7780286d65.wav\n"
     ]
    },
    {
     "name": "stderr",
     "output_type": "stream",
     "text": [
      "\n",
      "\n",
      "\u001b[A\u001b[A\n",
      "\n",
      "\u001b[A\u001b[A\n",
      "\n",
      "rtf_avg: 0.005: 100%|\u001b[34m██████████\u001b[0m| 1/1 [00:00<00:00, 27.23it/s]\n",
      "\n",
      "\n",
      "\u001b[A\u001b[A\n",
      "\n",
      "\n",
      "\u001b[A\u001b[A\u001b[A\n",
      "\n",
      "\n",
      "\u001b[A\u001b[A\u001b[A\n",
      "\n",
      "\n",
      "rtf_avg: 0.012: 100%|\u001b[34m██████████\u001b[0m| 1/1 [00:00<00:00, 13.16it/s]\n",
      "\n",
      "\n",
      "rtf_avg: 0.014, time_speech:  5.880, time_escape: 0.081: 100%|\u001b[31m██████████\u001b[0m| 1/1 [00:00<00:00, 11.91it/s]\n"
     ]
    },
    {
     "name": "stdout",
     "output_type": "stream",
     "text": [
      "3803 天猫精灵下次这个时候不要放歌了。 f30a2659-6fb6-4796-acf5-d6407c14f23b.wav\n"
     ]
    },
    {
     "name": "stderr",
     "output_type": "stream",
     "text": [
      "\n",
      "\n",
      "\u001b[A\u001b[A\n",
      "\n",
      "\u001b[A\u001b[A\n",
      "\n",
      "rtf_avg: 0.006: 100%|\u001b[34m██████████\u001b[0m| 1/1 [00:00<00:00, 30.37it/s]\n",
      "\n",
      "\n",
      "\u001b[A\u001b[A\n",
      "\n",
      "\n",
      "\u001b[A\u001b[A\u001b[A\n",
      "\n",
      "\n",
      "\u001b[A\u001b[A\u001b[A\n",
      "\n",
      "\n",
      "rtf_avg: 0.021: 100%|\u001b[34m██████████\u001b[0m| 1/1 [00:00<00:00, 12.79it/s]\n",
      "\n",
      "\n",
      "rtf_avg: 0.019, time_speech:  4.340, time_escape: 0.083: 100%|\u001b[31m██████████\u001b[0m| 1/1 [00:00<00:00, 11.46it/s]\n"
     ]
    },
    {
     "name": "stdout",
     "output_type": "stream",
     "text": [
      "3804 我想唱张涵韵的光。 f31dda2b-2f00-446b-867d-9b68bf9473bd.wav\n"
     ]
    },
    {
     "name": "stderr",
     "output_type": "stream",
     "text": [
      "\n",
      "\n",
      "\u001b[A\u001b[A\n",
      "\n",
      "\u001b[A\u001b[A\n",
      "\n",
      "rtf_avg: 0.005: 100%|\u001b[34m██████████\u001b[0m| 1/1 [00:00<00:00, 23.76it/s]\n",
      "\n",
      "\n",
      "\u001b[A\u001b[A\n",
      "\n",
      "\n",
      "\u001b[A\u001b[A\u001b[A\n",
      "\n",
      "\n",
      "\u001b[A\u001b[A\u001b[A\n",
      "\n",
      "\n",
      "rtf_avg: 0.010: 100%|\u001b[34m██████████\u001b[0m| 1/1 [00:00<00:00, 12.56it/s]\n",
      "\n",
      "\n",
      "rtf_avg: 0.012, time_speech:  7.380, time_escape: 0.087: 100%|\u001b[31m██████████\u001b[0m| 1/1 [00:00<00:00, 11.26it/s]\n"
     ]
    },
    {
     "name": "stdout",
     "output_type": "stream",
     "text": [
      "3805 天猫精灵来几来一首刘德华的世界第一等。 f338ffda-4b68-48bc-8e33-2fa7e0cdbd89.wav\n"
     ]
    },
    {
     "name": "stderr",
     "output_type": "stream",
     "text": [
      "\n",
      "\n",
      "\u001b[A\u001b[A\n",
      "\n",
      "\u001b[A\u001b[A\n",
      "\n",
      "rtf_avg: 0.006: 100%|\u001b[34m██████████\u001b[0m| 1/1 [00:00<00:00, 33.41it/s]\n",
      "\n",
      "\n",
      "\u001b[A\u001b[A\n",
      "\n",
      "\n",
      "\u001b[A\u001b[A\u001b[A\n",
      "\n",
      "\n",
      "\u001b[A\u001b[A\u001b[A\n",
      "\n",
      "\n",
      "rtf_avg: 0.020: 100%|\u001b[34m██████████\u001b[0m| 1/1 [00:00<00:00, 11.62it/s]\n",
      "\n",
      "\n",
      "rtf_avg: 0.022, time_speech:  4.120, time_escape: 0.092: 100%|\u001b[31m██████████\u001b[0m| 1/1 [00:00<00:00, 10.53it/s]\n"
     ]
    },
    {
     "name": "stdout",
     "output_type": "stream",
     "text": [
      "3806 天猫精灵香葱炒丹来一份吧。 f33fd023-4c70-4abf-ae54-9767e14241ab.wav\n"
     ]
    },
    {
     "name": "stderr",
     "output_type": "stream",
     "text": [
      "\n",
      "\n",
      "\u001b[A\u001b[A\n",
      "\n",
      "\u001b[A\u001b[A\n",
      "\n",
      "rtf_avg: 0.005: 100%|\u001b[34m██████████\u001b[0m| 1/1 [00:00<00:00, 23.05it/s]\n",
      "\n",
      "\n",
      "\u001b[A\u001b[A\n",
      "\n",
      "\n",
      "\u001b[A\u001b[A\u001b[A\n",
      "\n",
      "\n",
      "\u001b[A\u001b[A\u001b[A\n",
      "\n",
      "\n",
      "rtf_avg: 0.012: 100%|\u001b[34m██████████\u001b[0m| 1/1 [00:00<00:00, 10.28it/s]\n",
      "\n",
      "\n",
      "\u001b[A\u001b[A\n",
      "\n",
      "rtf_avg: 0.013, time_speech:  7.960, time_escape: 0.104: 100%|\u001b[31m██████████\u001b[0m| 1/1 [00:00<00:00,  9.08it/s]\n"
     ]
    },
    {
     "name": "stdout",
     "output_type": "stream",
     "text": [
      "3807 天猫精灵，你故事停下，我正在跟你聊去，你正在讲故事，我真服了你了。😡 f35c0077-22d4-4174-b9d2-5a99693d18c3.wav\n"
     ]
    },
    {
     "name": "stderr",
     "output_type": "stream",
     "text": [
      "\n",
      "\n",
      "\u001b[A\u001b[A\n",
      "\n",
      "\u001b[A\u001b[A\n",
      "\n",
      "rtf_avg: 0.008: 100%|\u001b[34m██████████\u001b[0m| 1/1 [00:00<00:00, 24.70it/s]\n",
      "\n",
      "\n",
      "\u001b[A\u001b[A\n",
      "\n",
      "\n",
      "\u001b[A\u001b[A\u001b[A\n",
      "\n",
      "\n",
      "\u001b[A\u001b[A\u001b[A\n",
      "\n",
      "\n",
      "\u001b[A\u001b[A\u001b[A\n",
      "\n",
      "\n",
      "rtf_avg: 0.070: 100%|\u001b[34m██████████\u001b[0m| 1/1 [00:00<00:00,  8.53it/s]\n",
      "\n",
      "\n",
      "\u001b[A\u001b[A\n",
      "\n",
      "rtf_avg: 0.030, time_speech:  4.160, time_escape: 0.125: 100%|\u001b[31m██████████\u001b[0m| 1/1 [00:00<00:00,  7.53it/s]\n"
     ]
    },
    {
     "name": "stdout",
     "output_type": "stream",
     "text": [
      "3808 天猫精灵。 f37a74eb-e2c1-4943-b28c-85a5668fdb36.wav\n"
     ]
    },
    {
     "name": "stderr",
     "output_type": "stream",
     "text": [
      "\n",
      "\n",
      "\u001b[A\u001b[A\n",
      "\n",
      "\u001b[A\u001b[A\n",
      "\n",
      "rtf_avg: 0.007: 100%|\u001b[34m██████████\u001b[0m| 1/1 [00:00<00:00, 17.04it/s]\n",
      "\n",
      "\n",
      "\u001b[A\u001b[A\n",
      "\n",
      "\n",
      "\u001b[A\u001b[A\u001b[A\n",
      "\n",
      "\n",
      "\u001b[A\u001b[A\u001b[A\n",
      "\n",
      "\n",
      "\u001b[A\u001b[A\u001b[A\n",
      "\n",
      "\n",
      "rtf_avg: 0.014: 100%|\u001b[34m██████████\u001b[0m| 1/1 [00:00<00:00,  8.95it/s]\n",
      "\n",
      "\n",
      "\u001b[A\u001b[A\n",
      "\n",
      "rtf_avg: 0.015, time_speech:  7.980, time_escape: 0.119: 100%|\u001b[31m██████████\u001b[0m| 1/1 [00:00<00:00,  8.05it/s]\n"
     ]
    },
    {
     "name": "stdout",
     "output_type": "stream",
     "text": [
      "3809 天猫精灵253加上18。 f39a3da3-d625-4c09-bd40-8df0f27e66a5.wav\n"
     ]
    },
    {
     "name": "stderr",
     "output_type": "stream",
     "text": [
      "\n",
      "\n",
      "\u001b[A\u001b[A\n",
      "\n",
      "\u001b[A\u001b[A\n",
      "\n",
      "rtf_avg: 0.008: 100%|\u001b[34m██████████\u001b[0m| 1/1 [00:00<00:00, 31.87it/s]\n",
      "\n",
      "\n",
      "\u001b[A\u001b[A\n",
      "\n",
      "\n",
      "\u001b[A\u001b[A\u001b[A\n",
      "\n",
      "\n",
      "\u001b[A\u001b[A\u001b[A\n",
      "\n",
      "\n",
      "\u001b[A\u001b[A\u001b[A\n",
      "\n",
      "\n",
      "rtf_avg: 0.034: 100%|\u001b[34m██████████\u001b[0m| 1/1 [00:00<00:00,  8.70it/s]\n",
      "\n",
      "\n",
      "\u001b[A\u001b[A\n",
      "\n",
      "rtf_avg: 0.039, time_speech:  3.170, time_escape: 0.124: 100%|\u001b[31m██████████\u001b[0m| 1/1 [00:00<00:00,  7.69it/s]\n"
     ]
    },
    {
     "name": "stdout",
     "output_type": "stream",
     "text": [
      "3810 山药馍炒肉片来一份吧。 f3b48a35-8c92-44cc-900a-a5f2c1be1e1d.wav\n"
     ]
    },
    {
     "name": "stderr",
     "output_type": "stream",
     "text": [
      "\n",
      "\n",
      "\u001b[A\u001b[A\n",
      "\n",
      "\u001b[A\u001b[A\n",
      "\n",
      "rtf_avg: 0.007: 100%|\u001b[34m██████████\u001b[0m| 1/1 [00:00<00:00, 22.11it/s]\n",
      "\n",
      "\n",
      "\u001b[A\u001b[A\n",
      "\n",
      "\n",
      "\u001b[A\u001b[A\u001b[A\n",
      "\n",
      "\n",
      "\u001b[A\u001b[A\u001b[A\n",
      "\n",
      "\n",
      "\u001b[A\u001b[A\u001b[A\n",
      "\n",
      "\n",
      "rtf_avg: 0.022: 100%|\u001b[34m██████████\u001b[0m| 1/1 [00:00<00:00,  7.71it/s]\n",
      "\n",
      "\n",
      "\u001b[A\u001b[A\n",
      "\n",
      "rtf_avg: 0.025, time_speech:  5.620, time_escape: 0.138: 100%|\u001b[31m██████████\u001b[0m| 1/1 [00:00<00:00,  7.00it/s]\n"
     ]
    },
    {
     "name": "stdout",
     "output_type": "stream",
     "text": [
      "3811 小爱同学，天猫精灵播放胡彦斌的包袱。 f3b820f0-c9c6-4e6d-be83-53976637eb48.wav\n"
     ]
    },
    {
     "name": "stderr",
     "output_type": "stream",
     "text": [
      "\n",
      "\n",
      "\u001b[A\u001b[A\n",
      "\n",
      "\u001b[A\u001b[A\n",
      "\n",
      "rtf_avg: 0.007: 100%|\u001b[34m██████████\u001b[0m| 1/1 [00:00<00:00, 39.73it/s]\n",
      "\n",
      "\n",
      "\u001b[A\u001b[A\n",
      "\n",
      "\n",
      "\u001b[A\u001b[A\u001b[A\n",
      "\n",
      "\n",
      "\u001b[A\u001b[A\u001b[A\n",
      "\n",
      "\n",
      "rtf_avg: 0.026: 100%|\u001b[34m██████████\u001b[0m| 1/1 [00:00<00:00, 11.61it/s]\n",
      "\n",
      "\n",
      "rtf_avg: 0.029, time_speech:  3.190, time_escape: 0.093: 100%|\u001b[31m██████████\u001b[0m| 1/1 [00:00<00:00, 10.40it/s]\n"
     ]
    },
    {
     "name": "stdout",
     "output_type": "stream",
     "text": [
      "3812 天猫精灵来碗暖尾的小米粥吧。 f3d0e535-005d-4c2b-a2d2-722204dde1a9.wav\n"
     ]
    },
    {
     "name": "stderr",
     "output_type": "stream",
     "text": [
      "\n",
      "\n",
      "\u001b[A\u001b[A\n",
      "\n",
      "\u001b[A\u001b[A\n",
      "\n",
      "rtf_avg: 0.006: 100%|\u001b[34m██████████\u001b[0m| 1/1 [00:00<00:00, 30.81it/s]\n",
      "\n",
      "\n",
      "\u001b[A\u001b[A\n",
      "\n",
      "\n",
      "\u001b[A\u001b[A\u001b[A\n",
      "\n",
      "\n",
      "\u001b[A\u001b[A\u001b[A\n",
      "\n",
      "\n",
      "rtf_avg: 0.021: 100%|\u001b[34m██████████\u001b[0m| 1/1 [00:00<00:00, 10.63it/s]\n",
      "\n",
      "\n",
      "\u001b[A\u001b[A\n",
      "\n",
      "rtf_avg: 0.023, time_speech:  4.410, time_escape: 0.102: 100%|\u001b[31m██████████\u001b[0m| 1/1 [00:00<00:00,  9.38it/s]\n"
     ]
    },
    {
     "name": "stdout",
     "output_type": "stream",
     "text": [
      "3813 天猫精灵来份香辣小炒的娃娃菜吧。 f40ae9ba-e3e8-4a52-83f6-115ecd8676f8.wav\n"
     ]
    },
    {
     "name": "stderr",
     "output_type": "stream",
     "text": [
      "\n",
      "\n",
      "\u001b[A\u001b[A\n",
      "\n",
      "\u001b[A\u001b[A\n",
      "\n",
      "rtf_avg: 0.007: 100%|\u001b[34m██████████\u001b[0m| 1/1 [00:00<00:00, 33.09it/s]\n",
      "\n",
      "\n",
      "\u001b[A\u001b[A\n",
      "\n",
      "\n",
      "\u001b[A\u001b[A\u001b[A\n",
      "\n",
      "\n",
      "\u001b[A\u001b[A\u001b[A\n",
      "\n",
      "\n",
      "\u001b[A\u001b[A\u001b[A\n",
      "\n",
      "\n",
      "rtf_avg: 0.029: 100%|\u001b[34m██████████\u001b[0m| 1/1 [00:00<00:00,  8.73it/s]\n",
      "\n",
      "\n",
      "\u001b[A\u001b[A\n",
      "\n",
      "rtf_avg: 0.031, time_speech:  3.880, time_escape: 0.121: 100%|\u001b[31m██████████\u001b[0m| 1/1 [00:00<00:00,  7.99it/s]\n"
     ]
    },
    {
     "name": "stdout",
     "output_type": "stream",
     "text": [
      "3814 天猫精灵要份暖心养胃的小米粥。 f41d4f8a-ac6f-4d23-861f-59beb613d022.wav\n"
     ]
    },
    {
     "name": "stderr",
     "output_type": "stream",
     "text": [
      "\n",
      "\n",
      "\u001b[A\u001b[A\n",
      "\n",
      "\u001b[A\u001b[A\n",
      "\n",
      "rtf_avg: 0.007: 100%|\u001b[34m██████████\u001b[0m| 1/1 [00:00<00:00, 24.77it/s]\n",
      "\n",
      "\n",
      "\u001b[A\u001b[A\n",
      "\n",
      "\n",
      "\u001b[A\u001b[A\u001b[A\n",
      "\n",
      "\n",
      "\u001b[A\u001b[A\u001b[A\n",
      "\n",
      "\n",
      "rtf_avg: 0.016: 100%|\u001b[34m██████████\u001b[0m| 1/1 [00:00<00:00, 11.99it/s]\n",
      "\n",
      "\n",
      "rtf_avg: 0.017, time_speech:  5.200, time_escape: 0.089: 100%|\u001b[31m██████████\u001b[0m| 1/1 [00:00<00:00, 10.74it/s]\n"
     ]
    },
    {
     "name": "stdout",
     "output_type": "stream",
     "text": [
      "3815 我要看对表像乐队的我想念的你是否也在想我？ f42af660-6616-4163-ac85-c0642db4e238.wav\n"
     ]
    },
    {
     "name": "stderr",
     "output_type": "stream",
     "text": [
      "\n",
      "\n",
      "\u001b[A\u001b[A\n",
      "\n",
      "\u001b[A\u001b[A\n",
      "\n",
      "rtf_avg: 0.008: 100%|\u001b[34m██████████\u001b[0m| 1/1 [00:00<00:00, 33.12it/s]\n",
      "\n",
      "\n",
      "\u001b[A\u001b[A\n",
      "\n",
      "\n",
      "\u001b[A\u001b[A\u001b[A\n",
      "\n",
      "\n",
      "\u001b[A\u001b[A\u001b[A\n",
      "\n",
      "\n",
      "rtf_avg: 0.028: 100%|\u001b[34m██████████\u001b[0m| 1/1 [00:00<00:00, 12.18it/s]\n",
      "\n",
      "\n",
      "rtf_avg: 0.029, time_speech:  2.990, time_escape: 0.088: 100%|\u001b[31m██████████\u001b[0m| 1/1 [00:00<00:00, 10.98it/s]\n"
     ]
    },
    {
     "name": "stdout",
     "output_type": "stream",
     "text": [
      "3816 来玩板栗鸡丝养生粥吧。 f42c10cf-26a9-45ae-a11c-faf69f5ecf95.wav\n"
     ]
    },
    {
     "name": "stderr",
     "output_type": "stream",
     "text": [
      "\n",
      "\n",
      "\u001b[A\u001b[A\n",
      "\n",
      "\u001b[A\u001b[A\n",
      "\n",
      "rtf_avg: 0.008: 100%|\u001b[34m██████████\u001b[0m| 1/1 [00:00<00:00, 27.89it/s]\n",
      "\n",
      "\n",
      "\u001b[A\u001b[A\n",
      "\n",
      "\n",
      "\u001b[A\u001b[A\u001b[A\n",
      "\n",
      "\n",
      "\u001b[A\u001b[A\u001b[A\n",
      "\n",
      "\n",
      "rtf_avg: 0.022: 100%|\u001b[34m██████████\u001b[0m| 1/1 [00:00<00:00, 11.11it/s]\n",
      "\n",
      "\n",
      "rtf_avg: 0.024, time_speech:  4.020, time_escape: 0.096: 100%|\u001b[31m██████████\u001b[0m| 1/1 [00:00<00:00, 10.15it/s]\n"
     ]
    },
    {
     "name": "stdout",
     "output_type": "stream",
     "text": [
      "3817 天猫精灵要个西红柿鸡蛋捞面。 f4569996-9b33-4d40-9ed3-cbd5625ba98e.wav\n"
     ]
    },
    {
     "name": "stderr",
     "output_type": "stream",
     "text": [
      "\n",
      "\n",
      "\u001b[A\u001b[A\n",
      "\n",
      "\u001b[A\u001b[A\n",
      "\n",
      "rtf_avg: 0.006: 100%|\u001b[34m██████████\u001b[0m| 1/1 [00:00<00:00, 29.48it/s]\n",
      "\n",
      "\n",
      "\u001b[A\u001b[A\n",
      "\n",
      "\n",
      "\u001b[A\u001b[A\u001b[A\n",
      "\n",
      "\n",
      "\u001b[A\u001b[A\u001b[A\n",
      "\n",
      "\n",
      "rtf_avg: 0.016: 100%|\u001b[34m██████████\u001b[0m| 1/1 [00:00<00:00, 11.23it/s]\n",
      "\n",
      "\n",
      "rtf_avg: 0.018, time_speech:  5.390, time_escape: 0.095: 100%|\u001b[31m██████████\u001b[0m| 1/1 [00:00<00:00, 10.30it/s]\n"
     ]
    },
    {
     "name": "stdout",
     "output_type": "stream",
     "text": [
      "3818 天猫精灵来碗鲜香虾皮紫菜汤吧。😊 f4627bcb-a6b9-481d-a2f4-96fa92b3ee51.wav\n"
     ]
    },
    {
     "name": "stderr",
     "output_type": "stream",
     "text": [
      "\n",
      "\n",
      "\u001b[A\u001b[A\n",
      "\n",
      "\u001b[A\u001b[A\n",
      "\n",
      "rtf_avg: 0.008: 100%|\u001b[34m██████████\u001b[0m| 1/1 [00:00<00:00, 28.40it/s]\n",
      "\n",
      "\n",
      "\u001b[A\u001b[A\n",
      "\n",
      "\n",
      "\u001b[A\u001b[A\u001b[A\n",
      "\n",
      "\n",
      "\u001b[A\u001b[A\u001b[A\n",
      "\n",
      "\n",
      "rtf_avg: 0.020: 100%|\u001b[34m██████████\u001b[0m| 1/1 [00:00<00:00, 11.98it/s]\n",
      "\n",
      "\n",
      "rtf_avg: 0.022, time_speech:  4.090, time_escape: 0.090: 100%|\u001b[31m██████████\u001b[0m| 1/1 [00:00<00:00, 10.81it/s]\n"
     ]
    },
    {
     "name": "stdout",
     "output_type": "stream",
     "text": [
      "3819 天猫精灵要碗热乎养胃的小米粥。 f475b3cf-03b8-43b5-bf73-ee338aa02270.wav\n"
     ]
    },
    {
     "name": "stderr",
     "output_type": "stream",
     "text": [
      "\n",
      "\n",
      "\u001b[A\u001b[A\n",
      "\n",
      "\u001b[A\u001b[A\n",
      "\n",
      "rtf_avg: 0.007: 100%|\u001b[34m██████████\u001b[0m| 1/1 [00:00<00:00, 31.78it/s]\n",
      "\n",
      "\n",
      "\u001b[A\u001b[A\n",
      "\n",
      "\n",
      "\u001b[A\u001b[A\u001b[A\n",
      "\n",
      "\n",
      "\u001b[A\u001b[A\u001b[A\n",
      "\n",
      "\n",
      "rtf_avg: 0.023: 100%|\u001b[34m██████████\u001b[0m| 1/1 [00:00<00:00, 12.29it/s]\n",
      "\n",
      "\n",
      "rtf_avg: 0.024, time_speech:  3.798, time_escape: 0.092: 100%|\u001b[31m██████████\u001b[0m| 1/1 [00:00<00:00, 10.27it/s]\n"
     ]
    },
    {
     "name": "stdout",
     "output_type": "stream",
     "text": [
      "3820 🎼我想听安儿成的缘分就我心还念着你。 f481935f-032f-4bf8-b2b8-cac15610a0f0.wav\n"
     ]
    },
    {
     "name": "stderr",
     "output_type": "stream",
     "text": [
      "\n",
      "\n",
      "\u001b[A\u001b[A\n",
      "\n",
      "\u001b[A\u001b[A\n",
      "\n",
      "rtf_avg: 0.006: 100%|\u001b[34m██████████\u001b[0m| 1/1 [00:00<00:00, 30.21it/s]\n",
      "\n",
      "\n",
      "\u001b[A\u001b[A\n",
      "\n",
      "\n",
      "\u001b[A\u001b[A\u001b[A\n",
      "\n",
      "\n",
      "\u001b[A\u001b[A\u001b[A\n",
      "\n",
      "\n",
      "rtf_avg: 0.018: 100%|\u001b[34m██████████\u001b[0m| 1/1 [00:00<00:00, 11.24it/s]\n",
      "\n",
      "\n",
      "rtf_avg: 0.019, time_speech:  4.980, time_escape: 0.094: 100%|\u001b[31m██████████\u001b[0m| 1/1 [00:00<00:00, 10.37it/s]\n"
     ]
    },
    {
     "name": "stdout",
     "output_type": "stream",
     "text": [
      "3821 天猫精灵一碗红炸乌鸡汤吧。 f487b810-f689-46f3-a2e9-48b79461b347.wav\n"
     ]
    },
    {
     "name": "stderr",
     "output_type": "stream",
     "text": [
      "\n",
      "\n",
      "\u001b[A\u001b[A\n",
      "\n",
      "\u001b[A\u001b[A\n",
      "\n",
      "rtf_avg: 0.007: 100%|\u001b[34m██████████\u001b[0m| 1/1 [00:00<00:00, 37.64it/s]\n",
      "\n",
      "\n",
      "\u001b[A\u001b[A\n",
      "\n",
      "\n",
      "\u001b[A\u001b[A\u001b[A\n",
      "\n",
      "\n",
      "\u001b[A\u001b[A\u001b[A\n",
      "\n",
      "\n",
      "rtf_avg: 0.025: 100%|\u001b[34m██████████\u001b[0m| 1/1 [00:00<00:00, 11.88it/s]\n",
      "\n",
      "\n",
      "rtf_avg: 0.027, time_speech:  3.380, time_escape: 0.091: 100%|\u001b[31m██████████\u001b[0m| 1/1 [00:00<00:00, 10.79it/s]\n"
     ]
    },
    {
     "name": "stdout",
     "output_type": "stream",
     "text": [
      "3822 天猫精灵来碗家常紫菜蛋黄汤。 f4924763-f7a5-469f-950c-1db803ddf17a.wav\n"
     ]
    },
    {
     "name": "stderr",
     "output_type": "stream",
     "text": [
      "\n",
      "\n",
      "\u001b[A\u001b[A\n",
      "\n",
      "\u001b[A\u001b[A\n",
      "\n",
      "rtf_avg: 0.006: 100%|\u001b[34m██████████\u001b[0m| 1/1 [00:00<00:00, 39.99it/s]\n",
      "\n",
      "\n",
      "\u001b[A\u001b[A\n",
      "\n",
      "\n",
      "\u001b[A\u001b[A\u001b[A\n",
      "\n",
      "\n",
      "\u001b[A\u001b[A\u001b[A\n",
      "\n",
      "\n",
      "rtf_avg: 0.029: 100%|\u001b[34m██████████\u001b[0m| 1/1 [00:00<00:00, 10.19it/s]\n",
      "\n",
      "\n",
      "\u001b[A\u001b[A\n",
      "\n",
      "rtf_avg: 0.032, time_speech:  3.280, time_escape: 0.104: 100%|\u001b[31m██████████\u001b[0m| 1/1 [00:00<00:00,  9.28it/s]\n"
     ]
    },
    {
     "name": "stdout",
     "output_type": "stream",
     "text": [
      "3823 天猫精灵少放调料的。 f49962fd-dda1-40f2-b242-0a9c1a59274d.wav\n"
     ]
    },
    {
     "name": "stderr",
     "output_type": "stream",
     "text": [
      "\n",
      "\n",
      "\u001b[A\u001b[A\n",
      "\n",
      "\u001b[A\u001b[A\n",
      "\n",
      "rtf_avg: 0.006: 100%|\u001b[34m██████████\u001b[0m| 1/1 [00:00<00:00, 27.73it/s]\n",
      "\n",
      "\n",
      "\u001b[A\u001b[A\n",
      "\n",
      "\n",
      "\u001b[A\u001b[A\u001b[A\n",
      "\n",
      "\n",
      "\u001b[A\u001b[A\u001b[A\n",
      "\n",
      "\n",
      "rtf_avg: 0.014: 100%|\u001b[34m██████████\u001b[0m| 1/1 [00:00<00:00, 13.76it/s]\n",
      "\n",
      "\n",
      "rtf_avg: 0.015, time_speech:  5.080, time_escape: 0.078: 100%|\u001b[31m██████████\u001b[0m| 1/1 [00:00<00:00, 12.38it/s]\n"
     ]
    },
    {
     "name": "stdout",
     "output_type": "stream",
     "text": [
      "3824 天猫精灵来份香火色的五常稻花米饭。 f4b42151-3bf5-4dae-bf34-dff40161d115.wav\n"
     ]
    },
    {
     "name": "stderr",
     "output_type": "stream",
     "text": [
      "\n",
      "\n",
      "\u001b[A\u001b[A\n",
      "\n",
      "\u001b[A\u001b[A\n",
      "\n",
      "rtf_avg: 0.007: 100%|\u001b[34m██████████\u001b[0m| 1/1 [00:00<00:00, 31.55it/s]\n",
      "\n",
      "\n",
      "\u001b[A\u001b[A\n",
      "\n",
      "\n",
      "\u001b[A\u001b[A\u001b[A\n",
      "\n",
      "\n",
      "\u001b[A\u001b[A\u001b[A\n",
      "\n",
      "\n",
      "rtf_avg: 0.020: 100%|\u001b[34m██████████\u001b[0m| 1/1 [00:00<00:00, 11.45it/s]\n",
      "\n",
      "\n",
      "rtf_avg: 0.023, time_speech:  4.140, time_escape: 0.094: 100%|\u001b[31m██████████\u001b[0m| 1/1 [00:00<00:00, 10.38it/s]\n"
     ]
    },
    {
     "name": "stdout",
     "output_type": "stream",
     "text": [
      "3825 天猫精灵来份白菜豆腐暖身汤吧。 f4b556c5-a65e-4151-99d1-ea8cbeb07951.wav\n"
     ]
    },
    {
     "name": "stderr",
     "output_type": "stream",
     "text": [
      "\n",
      "\n",
      "\u001b[A\u001b[A\n",
      "\n",
      "\u001b[A\u001b[A\n",
      "\n",
      "rtf_avg: 0.006: 100%|\u001b[34m██████████\u001b[0m| 1/1 [00:00<00:00, 30.57it/s]\n",
      "\n",
      "\n",
      "\u001b[A\u001b[A\n",
      "\n",
      "\n",
      "\u001b[A\u001b[A\u001b[A\n",
      "\n",
      "\n",
      "\u001b[A\u001b[A\u001b[A\n",
      "\n",
      "\n",
      "rtf_avg: 0.016: 100%|\u001b[34m██████████\u001b[0m| 1/1 [00:00<00:00, 12.06it/s]\n",
      "\n",
      "\n",
      "rtf_avg: 0.018, time_speech:  4.880, time_escape: 0.088: 100%|\u001b[31m██████████\u001b[0m| 1/1 [00:00<00:00, 10.98it/s]\n"
     ]
    },
    {
     "name": "stdout",
     "output_type": "stream",
     "text": [
      "3826 天猫精灵来碗南瓜小蜜样威走吧。 f4c4e65a-26a8-442a-b69c-e63e284abe03.wav\n"
     ]
    },
    {
     "name": "stderr",
     "output_type": "stream",
     "text": [
      "\n",
      "\n",
      "\u001b[A\u001b[A\n",
      "\n",
      "\u001b[A\u001b[A\n",
      "\n",
      "rtf_avg: 0.005: 100%|\u001b[34m██████████\u001b[0m| 1/1 [00:00<00:00, 34.23it/s]\n",
      "\n",
      "\n",
      "\u001b[A\u001b[A\n",
      "\n",
      "\n",
      "\u001b[A\u001b[A\u001b[A\n",
      "\n",
      "\n",
      "\u001b[A\u001b[A\u001b[A\n",
      "\n",
      "\n",
      "rtf_avg: 0.016: 100%|\u001b[34m██████████\u001b[0m| 1/1 [00:00<00:00, 11.95it/s]\n",
      "\n",
      "\n",
      "rtf_avg: 0.018, time_speech:  5.020, time_escape: 0.092: 100%|\u001b[31m██████████\u001b[0m| 1/1 [00:00<00:00, 10.66it/s]\n"
     ]
    },
    {
     "name": "stdout",
     "output_type": "stream",
     "text": [
      "3827 天猫精灵要玩香龙皮蛋售肉粥。 f4c7e232-9a14-48d9-af89-948368fe2dcf.wav\n"
     ]
    },
    {
     "name": "stderr",
     "output_type": "stream",
     "text": [
      "\n",
      "\n",
      "\u001b[A\u001b[A\n",
      "\n",
      "\u001b[A\u001b[A\n",
      "\n",
      "rtf_avg: 0.008: 100%|\u001b[34m██████████\u001b[0m| 1/1 [00:00<00:00, 27.91it/s]\n",
      "\n",
      "\n",
      "\u001b[A\u001b[A\n",
      "\n",
      "\n",
      "\u001b[A\u001b[A\u001b[A\n",
      "\n",
      "\n",
      "\u001b[A\u001b[A\u001b[A\n",
      "\n",
      "\n",
      "rtf_avg: 0.020: 100%|\u001b[34m██████████\u001b[0m| 1/1 [00:00<00:00, 12.99it/s]\n",
      "\n",
      "\n",
      "rtf_avg: 0.021, time_speech:  3.870, time_escape: 0.083: 100%|\u001b[31m██████████\u001b[0m| 1/1 [00:00<00:00, 11.76it/s]\n"
     ]
    },
    {
     "name": "stdout",
     "output_type": "stream",
     "text": [
      "3828 天猫精灵要个家常青菜豆腐汤吧。 f4cdcaae-4a11-4be4-b9fe-b04755fda6af.wav\n"
     ]
    },
    {
     "name": "stderr",
     "output_type": "stream",
     "text": [
      "\n",
      "\n",
      "\u001b[A\u001b[A\n",
      "\n",
      "\u001b[A\u001b[A\n",
      "\n",
      "rtf_avg: 0.005: 100%|\u001b[34m██████████\u001b[0m| 1/1 [00:00<00:00, 28.30it/s]\n",
      "\n",
      "\n",
      "\u001b[A\u001b[A\n",
      "\n",
      "\n",
      "\u001b[A\u001b[A\u001b[A\n",
      "\n",
      "\n",
      "\u001b[A\u001b[A\u001b[A\n",
      "\n",
      "\n",
      "\u001b[A\u001b[A\u001b[A\n",
      "\n",
      "\n",
      "rtf_avg: 0.022: 100%|\u001b[34m██████████\u001b[0m| 1/1 [00:00<00:00,  7.41it/s]\n",
      "\n",
      "\n",
      "\u001b[A\u001b[A\n",
      "\n",
      "rtf_avg: 0.024, time_speech:  5.940, time_escape: 0.142: 100%|\u001b[31m██████████\u001b[0m| 1/1 [00:00<00:00,  6.85it/s]\n"
     ]
    },
    {
     "name": "stdout",
     "output_type": "stream",
     "text": [
      "3829 天猫精灵弄一个霸王龙的声音。 f4d07f42-9e5c-4154-bc5d-3520bbe5f8dd.wav\n"
     ]
    },
    {
     "name": "stderr",
     "output_type": "stream",
     "text": [
      "\n",
      "\n",
      "\u001b[A\u001b[A\n",
      "\n",
      "\u001b[A\u001b[A\n",
      "\n",
      "rtf_avg: 0.006: 100%|\u001b[34m██████████\u001b[0m| 1/1 [00:00<00:00, 22.59it/s]\n",
      "\n",
      "\n",
      "\u001b[A\u001b[A\n",
      "\n",
      "\n",
      "\u001b[A\u001b[A\u001b[A\n",
      "\n",
      "\n",
      "\u001b[A\u001b[A\u001b[A\n",
      "\n",
      "\n",
      "rtf_avg: 0.012: 100%|\u001b[34m██████████\u001b[0m| 1/1 [00:00<00:00, 12.47it/s]\n",
      "\n",
      "\n",
      "rtf_avg: 0.013, time_speech:  6.540, time_escape: 0.088: 100%|\u001b[31m██████████\u001b[0m| 1/1 [00:00<00:00, 10.88it/s]\n"
     ]
    },
    {
     "name": "stdout",
     "output_type": "stream",
     "text": [
      "3830 天猫精灵，我没听到你的哭声，你再哭吧。😔 f4d40829-dcc9-44dc-adeb-7ba65a44d867.wav\n"
     ]
    },
    {
     "name": "stderr",
     "output_type": "stream",
     "text": [
      "\n",
      "\n",
      "\u001b[A\u001b[A\n",
      "\n",
      "\u001b[A\u001b[A\n",
      "\n",
      "rtf_avg: 0.005: 100%|\u001b[34m██████████\u001b[0m| 1/1 [00:00<00:00, 26.42it/s]\n",
      "\n",
      "\n",
      "\u001b[A\u001b[A\n",
      "\n",
      "\n",
      "\u001b[A\u001b[A\u001b[A\n",
      "\n",
      "\n",
      "\u001b[A\u001b[A\u001b[A\n",
      "\n",
      "\n",
      "rtf_avg: 0.013: 100%|\u001b[34m██████████\u001b[0m| 1/1 [00:00<00:00, 11.40it/s]\n",
      "\n",
      "\n",
      "rtf_avg: 0.014, time_speech:  6.640, time_escape: 0.094: 100%|\u001b[31m██████████\u001b[0m| 1/1 [00:00<00:00, 10.33it/s]\n"
     ]
    },
    {
     "name": "stdout",
     "output_type": "stream",
     "text": [
      "3831 天猫精灵声音调到一点，声音调到一点。 f5180119-b145-4e96-8316-a996a9f1e936.wav\n"
     ]
    },
    {
     "name": "stderr",
     "output_type": "stream",
     "text": [
      "\n",
      "\n",
      "\u001b[A\u001b[A\n",
      "\n",
      "\u001b[A\u001b[A\n",
      "\n",
      "rtf_avg: 0.007: 100%|\u001b[34m██████████\u001b[0m| 1/1 [00:00<00:00, 26.95it/s]\n",
      "\n",
      "\n",
      "\u001b[A\u001b[A\n",
      "\n",
      "\n",
      "\u001b[A\u001b[A\u001b[A\n",
      "\n",
      "\n",
      "\u001b[A\u001b[A\u001b[A\n",
      "\n",
      "\n",
      "rtf_avg: 0.019: 100%|\u001b[34m██████████\u001b[0m| 1/1 [00:00<00:00, 10.47it/s]\n",
      "\n",
      "\n",
      "\u001b[A\u001b[A\n",
      "\n",
      "rtf_avg: 0.020, time_speech:  4.930, time_escape: 0.101: 100%|\u001b[31m██████████\u001b[0m| 1/1 [00:00<00:00,  9.43it/s]\n"
     ]
    },
    {
     "name": "stdout",
     "output_type": "stream",
     "text": [
      "3832 天猫精灵要碗南瓜小米粥热乎的。 f51e1fe4-2d45-4286-8b7f-f411dcb98b64.wav\n"
     ]
    },
    {
     "name": "stderr",
     "output_type": "stream",
     "text": [
      "\n",
      "\n",
      "\u001b[A\u001b[A\n",
      "\n",
      "\u001b[A\u001b[A\n",
      "\n",
      "rtf_avg: 0.005: 100%|\u001b[34m██████████\u001b[0m| 1/1 [00:00<00:00, 29.10it/s]\n",
      "\n",
      "\n",
      "\u001b[A\u001b[A\n",
      "\n",
      "\n",
      "\u001b[A\u001b[A\u001b[A\n",
      "\n",
      "\n",
      "\u001b[A\u001b[A\u001b[A\n",
      "\n",
      "\n",
      "rtf_avg: 0.014: 100%|\u001b[34m██████████\u001b[0m| 1/1 [00:00<00:00, 12.65it/s]\n",
      "\n",
      "\n",
      "rtf_avg: 0.015, time_speech:  5.590, time_escape: 0.085: 100%|\u001b[31m██████████\u001b[0m| 1/1 [00:00<00:00, 11.23it/s]\n"
     ]
    },
    {
     "name": "stdout",
     "output_type": "stream",
     "text": [
      "3833 天猫精灵来份清清爽爽荷兰豆小炒吧。 f548e143-54ef-4361-9cd8-313f1ba340fd.wav\n"
     ]
    },
    {
     "name": "stderr",
     "output_type": "stream",
     "text": [
      "\n",
      "\n",
      "\u001b[A\u001b[A\n",
      "\n",
      "\u001b[A\u001b[A\n",
      "\n",
      "rtf_avg: 0.005: 100%|\u001b[34m██████████\u001b[0m| 1/1 [00:00<00:00, 29.82it/s]\n",
      "\n",
      "\n",
      "\u001b[A\u001b[A\n",
      "\n",
      "\n",
      "\u001b[A\u001b[A\u001b[A\n",
      "\n",
      "\n",
      "\u001b[A\u001b[A\u001b[A\n",
      "\n",
      "\n",
      "rtf_avg: 0.015: 100%|\u001b[34m██████████\u001b[0m| 1/1 [00:00<00:00, 11.88it/s]\n",
      "\n",
      "\n",
      "rtf_avg: 0.017, time_speech:  5.200, time_escape: 0.090: 100%|\u001b[31m██████████\u001b[0m| 1/1 [00:00<00:00, 10.62it/s]\n"
     ]
    },
    {
     "name": "stdout",
     "output_type": "stream",
     "text": [
      "3834 天猫精灵来碗山药玉米猪肚鸡汤饭吧。 f566927a-34d9-43da-989d-fa728bcac699.wav\n"
     ]
    },
    {
     "name": "stderr",
     "output_type": "stream",
     "text": [
      "\n",
      "\n",
      "\u001b[A\u001b[A\n",
      "\n",
      "\u001b[A\u001b[A\n",
      "\n",
      "rtf_avg: 0.006: 100%|\u001b[34m██████████\u001b[0m| 1/1 [00:00<00:00, 32.32it/s]\n",
      "\n",
      "\n",
      "\u001b[A\u001b[A\n",
      "\n",
      "\n",
      "\u001b[A\u001b[A\u001b[A\n",
      "\n",
      "\n",
      "\u001b[A\u001b[A\u001b[A\n",
      "\n",
      "\n",
      "rtf_avg: 0.018: 100%|\u001b[34m██████████\u001b[0m| 1/1 [00:00<00:00, 12.69it/s]\n",
      "\n",
      "\n",
      "rtf_avg: 0.020, time_speech:  4.260, time_escape: 0.084: 100%|\u001b[31m██████████\u001b[0m| 1/1 [00:00<00:00, 11.38it/s]\n"
     ]
    },
    {
     "name": "stdout",
     "output_type": "stream",
     "text": [
      "3835 天猫精灵奶粉酸香能又没菜不？ f56c3c43-f8af-4fd9-b32c-1aae9c7825c9.wav\n"
     ]
    },
    {
     "name": "stderr",
     "output_type": "stream",
     "text": [
      "\n",
      "\n",
      "\u001b[A\u001b[A\n",
      "\n",
      "\u001b[A\u001b[A\n",
      "\n",
      "rtf_avg: 0.006: 100%|\u001b[34m██████████\u001b[0m| 1/1 [00:00<00:00, 32.21it/s]\n",
      "\n",
      "\n",
      "\u001b[A\u001b[A\n",
      "\n",
      "\n",
      "\u001b[A\u001b[A\u001b[A\n",
      "\n",
      "\n",
      "\u001b[A\u001b[A\u001b[A\n",
      "\n",
      "\n",
      "rtf_avg: 0.016: 100%|\u001b[34m██████████\u001b[0m| 1/1 [00:00<00:00, 13.01it/s]\n",
      "\n",
      "\n",
      "rtf_avg: 0.018, time_speech:  4.630, time_escape: 0.083: 100%|\u001b[31m██████████\u001b[0m| 1/1 [00:00<00:00, 11.55it/s]\n"
     ]
    },
    {
     "name": "stdout",
     "output_type": "stream",
     "text": [
      "3836 来碗冰糖雪梨银耳羹润润喉。 f57812d4-3696-44ae-8e7d-c6c4d793603c.wav\n"
     ]
    },
    {
     "name": "stderr",
     "output_type": "stream",
     "text": [
      "\n",
      "\n",
      "\u001b[A\u001b[A\n",
      "\n",
      "\u001b[A\u001b[A\n",
      "\n",
      "rtf_avg: 0.006: 100%|\u001b[34m██████████\u001b[0m| 1/1 [00:00<00:00, 27.53it/s]\n",
      "\n",
      "\n",
      "\u001b[A\u001b[A\n",
      "\n",
      "\n",
      "\u001b[A\u001b[A\u001b[A\n",
      "\n",
      "\n",
      "\u001b[A\u001b[A\u001b[A\n",
      "\n",
      "\n",
      "rtf_avg: 0.015: 100%|\u001b[34m██████████\u001b[0m| 1/1 [00:00<00:00, 13.60it/s]\n",
      "\n",
      "\n",
      "rtf_avg: 0.015, time_speech:  5.230, time_escape: 0.080: 100%|\u001b[31m██████████\u001b[0m| 1/1 [00:00<00:00, 12.11it/s]\n"
     ]
    },
    {
     "name": "stdout",
     "output_type": "stream",
     "text": [
      "3837 天猫精灵来碗番茄蛋花汤吧。 f5891307-f5f2-4715-b0e2-ee2d824f04e8.wav\n"
     ]
    },
    {
     "name": "stderr",
     "output_type": "stream",
     "text": [
      "\n",
      "\n",
      "\u001b[A\u001b[A\n",
      "\n",
      "\u001b[A\u001b[A\n",
      "\n",
      "rtf_avg: 0.007: 100%|\u001b[34m██████████\u001b[0m| 1/1 [00:00<00:00, 19.12it/s]\n",
      "\n",
      "\n",
      "\u001b[A\u001b[A\n",
      "\n",
      "\n",
      "\u001b[A\u001b[A\u001b[A\n",
      "\n",
      "\n",
      "\u001b[A\u001b[A\u001b[A\n",
      "\n",
      "\n",
      "rtf_avg: 0.012: 100%|\u001b[34m██████████\u001b[0m| 1/1 [00:00<00:00, 12.36it/s]\n",
      "\n",
      "\n",
      "rtf_avg: 0.014, time_speech:  6.360, time_escape: 0.090: 100%|\u001b[31m██████████\u001b[0m| 1/1 [00:00<00:00, 10.64it/s]\n"
     ]
    },
    {
     "name": "stdout",
     "output_type": "stream",
     "text": [
      "3838 天猫精灵许杰的鼻子里为啥会长白毛毛？ f5928ac4-51f7-48b7-88fe-adacaad970d2.wav\n"
     ]
    },
    {
     "name": "stderr",
     "output_type": "stream",
     "text": [
      "\n",
      "\n",
      "\u001b[A\u001b[A\n",
      "\n",
      "\u001b[A\u001b[A\n",
      "\n",
      "rtf_avg: 0.005: 100%|\u001b[34m██████████\u001b[0m| 1/1 [00:00<00:00, 27.83it/s]\n",
      "\n",
      "\n",
      "\u001b[A\u001b[A\n",
      "\n",
      "\n",
      "\u001b[A\u001b[A\u001b[A\n",
      "\n",
      "\n",
      "\u001b[A\u001b[A\u001b[A\n",
      "\n",
      "\n",
      "rtf_avg: 0.011: 100%|\u001b[34m██████████\u001b[0m| 1/1 [00:00<00:00, 13.77it/s]\n",
      "\n",
      "\n",
      "rtf_avg: 0.012, time_speech:  6.330, time_escape: 0.079: 100%|\u001b[31m██████████\u001b[0m| 1/1 [00:00<00:00, 12.29it/s]\n"
     ]
    },
    {
     "name": "stdout",
     "output_type": "stream",
     "text": [
      "3839 天猫精灵来份酸酸辣辣的大白菜。 f594acb6-13b6-4565-aaa8-e56360b996d5.wav\n"
     ]
    },
    {
     "name": "stderr",
     "output_type": "stream",
     "text": [
      "\n",
      "\n",
      "\u001b[A\u001b[A\n",
      "\n",
      "\u001b[A\u001b[A\n",
      "\n",
      "rtf_avg: 0.009: 100%|\u001b[34m██████████\u001b[0m| 1/1 [00:00<00:00, 35.44it/s]\n",
      "\n",
      "\n",
      "\u001b[A\u001b[A\n",
      "\n",
      "\n",
      "\u001b[A\u001b[A\u001b[A\n",
      "\n",
      "\n",
      "\u001b[A\u001b[A\u001b[A\n",
      "\n",
      "\n",
      "rtf_avg: 0.034: 100%|\u001b[34m██████████\u001b[0m| 1/1 [00:00<00:00, 11.15it/s]\n",
      "\n",
      "\n",
      "rtf_avg: 0.036, time_speech:  2.670, time_escape: 0.096: 100%|\u001b[31m██████████\u001b[0m| 1/1 [00:00<00:00, 10.30it/s]\n"
     ]
    },
    {
     "name": "stdout",
     "output_type": "stream",
     "text": [
      "3840 来份嫩油菜小炒吧。 f59a705a-c030-4394-b600-8b9d787c0b40.wav\n"
     ]
    },
    {
     "name": "stderr",
     "output_type": "stream",
     "text": [
      "\n",
      "\n",
      "\u001b[A\u001b[A\n",
      "\n",
      "\u001b[A\u001b[A\n",
      "\n",
      "rtf_avg: 0.010: 100%|\u001b[34m██████████\u001b[0m| 1/1 [00:00<00:00, 39.84it/s]\n",
      "\n",
      "\n",
      "\u001b[A\u001b[A\n",
      "\n",
      "\n",
      "\u001b[A\u001b[A\u001b[A\n",
      "\n",
      "\n",
      "\u001b[A\u001b[A\u001b[A\n",
      "\n",
      "\n",
      "rtf_avg: 0.049: 100%|\u001b[34m██████████\u001b[0m| 1/1 [00:00<00:00, 10.84it/s]\n",
      "\n",
      "\n",
      "\u001b[A\u001b[A\n",
      "\n",
      "rtf_avg: 0.050, time_speech:  1.990, time_escape: 0.100: 100%|\u001b[31m██████████\u001b[0m| 1/1 [00:00<00:00,  9.61it/s]\n"
     ]
    },
    {
     "name": "stdout",
     "output_type": "stream",
     "text": [
      "3841 有等得来的吗？ f5b36761-e3cd-48d7-8067-2d547f113144.wav\n"
     ]
    },
    {
     "name": "stderr",
     "output_type": "stream",
     "text": [
      "\n",
      "\n",
      "\u001b[A\u001b[A\n",
      "\n",
      "\u001b[A\u001b[A\n",
      "\n",
      "rtf_avg: 0.007: 100%|\u001b[34m██████████\u001b[0m| 1/1 [00:00<00:00, 24.42it/s]\n",
      "\n",
      "\n",
      "\u001b[A\u001b[A\n",
      "\n",
      "\n",
      "\u001b[A\u001b[A\u001b[A\n",
      "\n",
      "\n",
      "\u001b[A\u001b[A\u001b[A\n",
      "\n",
      "\n",
      "rtf_avg: 0.036: 100%|\u001b[34m██████████\u001b[0m| 1/1 [00:00<00:00, 12.98it/s]\n",
      "\n",
      "\n",
      "rtf_avg: 0.016, time_speech:  5.160, time_escape: 0.083: 100%|\u001b[31m██████████\u001b[0m| 1/1 [00:00<00:00, 11.62it/s]\n"
     ]
    },
    {
     "name": "stdout",
     "output_type": "stream",
     "text": [
      "3842 播放网易云收藏音乐。 f5b776c7-92ab-45bb-86d1-708a57f860e4.wav\n"
     ]
    },
    {
     "name": "stderr",
     "output_type": "stream",
     "text": [
      "\n",
      "\n",
      "\u001b[A\u001b[A\n",
      "\n",
      "\u001b[A\u001b[A\n",
      "\n",
      "rtf_avg: 0.009: 100%|\u001b[34m██████████\u001b[0m| 1/1 [00:00<00:00, 24.26it/s]\n",
      "\n",
      "\n",
      "\u001b[A\u001b[A\n",
      "\n",
      "\n",
      "\u001b[A\u001b[A\u001b[A\n",
      "\n",
      "\n",
      "\u001b[A\u001b[A\u001b[A\n",
      "\n",
      "\n",
      "rtf_avg: 0.019: 100%|\u001b[34m██████████\u001b[0m| 1/1 [00:00<00:00, 12.53it/s]\n",
      "\n",
      "\n",
      "rtf_avg: 0.021, time_speech:  3.980, time_escape: 0.085: 100%|\u001b[31m██████████\u001b[0m| 1/1 [00:00<00:00, 11.39it/s]\n"
     ]
    },
    {
     "name": "stdout",
     "output_type": "stream",
     "text": [
      "3843 天猫精灵来份鲜虾嫩蛋的小炒吧。 f5bb7ea6-b675-4590-ba61-fa413cb8b349.wav\n"
     ]
    },
    {
     "name": "stderr",
     "output_type": "stream",
     "text": [
      "\n",
      "\n",
      "\u001b[A\u001b[A\n",
      "\n",
      "\u001b[A\u001b[A\n",
      "\n",
      "rtf_avg: 0.008: 100%|\u001b[34m██████████\u001b[0m| 1/1 [00:00<00:00, 31.26it/s]\n",
      "\n",
      "\n",
      "\u001b[A\u001b[A\n",
      "\n",
      "\n",
      "\u001b[A\u001b[A\u001b[A\n",
      "\n",
      "\n",
      "\u001b[A\u001b[A\u001b[A\n",
      "\n",
      "\n",
      "rtf_avg: 0.025: 100%|\u001b[34m██████████\u001b[0m| 1/1 [00:00<00:00, 12.22it/s]\n",
      "\n",
      "\n",
      "rtf_avg: 0.026, time_speech:  3.380, time_escape: 0.089: 100%|\u001b[31m██████████\u001b[0m| 1/1 [00:00<00:00, 10.86it/s]\n"
     ]
    },
    {
     "name": "stdout",
     "output_type": "stream",
     "text": [
      "3844 来份小草蒜改放吧。 f5c6183c-224b-4622-b195-62c5d2e69c33.wav\n"
     ]
    },
    {
     "name": "stderr",
     "output_type": "stream",
     "text": [
      "\n",
      "\n",
      "\u001b[A\u001b[A\n",
      "\n",
      "\u001b[A\u001b[A\n",
      "\n",
      "rtf_avg: 0.006: 100%|\u001b[34m██████████\u001b[0m| 1/1 [00:00<00:00, 24.59it/s]\n",
      "\n",
      "\n",
      "\u001b[A\u001b[A\n",
      "\n",
      "\n",
      "\u001b[A\u001b[A\u001b[A\n",
      "\n",
      "\n",
      "\u001b[A\u001b[A\u001b[A\n",
      "\n",
      "\n",
      "\u001b[A\u001b[A\u001b[A\n",
      "\n",
      "\n",
      "rtf_avg: 0.017: 100%|\u001b[34m██████████\u001b[0m| 1/1 [00:00<00:00,  8.97it/s]\n",
      "\n",
      "\n",
      "\u001b[A\u001b[A\n",
      "\n",
      "rtf_avg: 0.019, time_speech:  6.360, time_escape: 0.118: 100%|\u001b[31m██████████\u001b[0m| 1/1 [00:00<00:00,  8.11it/s]\n"
     ]
    },
    {
     "name": "stdout",
     "output_type": "stream",
     "text": [
      "3845 以天猫精灵66乘以1.5等于多少？ f5d32884-50b5-44a9-9a92-d1b1a673e408.wav\n"
     ]
    },
    {
     "name": "stderr",
     "output_type": "stream",
     "text": [
      "\n",
      "\n",
      "\u001b[A\u001b[A\n",
      "\n",
      "\u001b[A\u001b[A\n",
      "\n",
      "rtf_avg: 0.006: 100%|\u001b[34m██████████\u001b[0m| 1/1 [00:00<00:00, 27.02it/s]\n",
      "\n",
      "\n",
      "\u001b[A\u001b[A\n",
      "\n",
      "\n",
      "\u001b[A\u001b[A\u001b[A\n",
      "\n",
      "\n",
      "\u001b[A\u001b[A\u001b[A\n",
      "\n",
      "\n",
      "rtf_avg: 0.016: 100%|\u001b[34m██████████\u001b[0m| 1/1 [00:00<00:00, 11.57it/s]\n",
      "\n",
      "\n",
      "rtf_avg: 0.017, time_speech:  5.520, time_escape: 0.093: 100%|\u001b[31m██████████\u001b[0m| 1/1 [00:00<00:00, 10.42it/s]\n"
     ]
    },
    {
     "name": "stdout",
     "output_type": "stream",
     "text": [
      "3846 天猫精灵来份高汤煮的娃娃晒新淡点。 f5d690eb-7c65-4b25-9f4c-da60e7abd532.wav\n"
     ]
    },
    {
     "name": "stderr",
     "output_type": "stream",
     "text": [
      "\n",
      "\n",
      "\u001b[A\u001b[A\n",
      "\n",
      "\u001b[A\u001b[A\n",
      "\n",
      "rtf_avg: 0.005: 100%|\u001b[34m██████████\u001b[0m| 1/1 [00:00<00:00, 25.23it/s]\n",
      "\n",
      "\n",
      "\u001b[A\u001b[A\n",
      "\n",
      "\n",
      "\u001b[A\u001b[A\u001b[A\n",
      "\n",
      "\n",
      "\u001b[A\u001b[A\u001b[A\n",
      "\n",
      "\n",
      "rtf_avg: 0.014: 100%|\u001b[34m██████████\u001b[0m| 1/1 [00:00<00:00, 10.50it/s]\n",
      "\n",
      "\n",
      "\u001b[A\u001b[A\n",
      "\n",
      "rtf_avg: 0.016, time_speech:  6.404, time_escape: 0.104: 100%|\u001b[31m██████████\u001b[0m| 1/1 [00:00<00:00,  9.11it/s]\n"
     ]
    },
    {
     "name": "stdout",
     "output_type": "stream",
     "text": [
      "3847 算天猫精灵1除以8乘3等于几？ f5f18548-d545-4dbe-befb-59caf1ed84eb.wav\n"
     ]
    },
    {
     "name": "stderr",
     "output_type": "stream",
     "text": [
      "\n",
      "\n",
      "\u001b[A\u001b[A\n",
      "\n",
      "\u001b[A\u001b[A\n",
      "\n",
      "rtf_avg: 0.007: 100%|\u001b[34m██████████\u001b[0m| 1/1 [00:00<00:00, 28.89it/s]\n",
      "\n",
      "\n",
      "\u001b[A\u001b[A\n",
      "\n",
      "\n",
      "\u001b[A\u001b[A\u001b[A\n",
      "\n",
      "\n",
      "\u001b[A\u001b[A\u001b[A\n",
      "\n",
      "\n",
      "rtf_avg: 0.018: 100%|\u001b[34m██████████\u001b[0m| 1/1 [00:00<00:00, 12.57it/s]\n",
      "\n",
      "\n",
      "rtf_avg: 0.019, time_speech:  4.500, time_escape: 0.087: 100%|\u001b[31m██████████\u001b[0m| 1/1 [00:00<00:00, 11.04it/s]\n"
     ]
    },
    {
     "name": "stdout",
     "output_type": "stream",
     "text": [
      "3848 天猫精灵来份德角茄子加胡心肉的饭吧。 f6099c58-8520-415a-a9d1-f18e5f2ddf00.wav\n"
     ]
    },
    {
     "name": "stderr",
     "output_type": "stream",
     "text": [
      "\n",
      "\n",
      "\u001b[A\u001b[A\n",
      "\n",
      "\u001b[A\u001b[A\n",
      "\n",
      "rtf_avg: 0.004: 100%|\u001b[34m██████████\u001b[0m| 1/1 [00:00<00:00, 18.37it/s]\n",
      "\n",
      "\n",
      "\u001b[A\u001b[A\n",
      "\n",
      "\n",
      "\u001b[A\u001b[A\u001b[A\n",
      "\n",
      "\n",
      "\u001b[A\u001b[A\u001b[A\n",
      "\n",
      "\n",
      "rtf_avg: 0.007: 100%|\u001b[34m██████████\u001b[0m| 1/1 [00:00<00:00, 12.66it/s]\n",
      "\n",
      "\n",
      "rtf_avg: 0.008, time_speech:  11.240, time_escape: 0.085: 100%|\u001b[31m██████████\u001b[0m| 1/1 [00:00<00:00, 11.19it/s]\n"
     ]
    },
    {
     "name": "stdout",
     "output_type": "stream",
     "text": [
      "3849 🎼天猫精灵过一点画已知直线的垂线可以画出无数条，对吗？ f60cb631-fa44-4369-a7a5-4baaf23aac75.wav\n"
     ]
    },
    {
     "name": "stderr",
     "output_type": "stream",
     "text": [
      "\n",
      "\n",
      "\u001b[A\u001b[A\n",
      "\n",
      "\u001b[A\u001b[A\n",
      "\n",
      "rtf_avg: 0.010: 100%|\u001b[34m██████████\u001b[0m| 1/1 [00:00<00:00, 28.90it/s]\n",
      "\n",
      "\n",
      "\u001b[A\u001b[A\n",
      "\n",
      "\n",
      "\u001b[A\u001b[A\u001b[A\n",
      "\n",
      "\n",
      "\u001b[A\u001b[A\u001b[A\n",
      "\n",
      "\n",
      "rtf_avg: 0.033: 100%|\u001b[34m██████████\u001b[0m| 1/1 [00:00<00:00, 10.51it/s]\n",
      "\n",
      "\n",
      "\u001b[A\u001b[A\n",
      "\n",
      "rtf_avg: 0.035, time_speech:  2.970, time_escape: 0.103: 100%|\u001b[31m██████████\u001b[0m| 1/1 [00:00<00:00,  9.24it/s]\n"
     ]
    },
    {
     "name": "stdout",
     "output_type": "stream",
     "text": [
      "3850 天猫精灵来份番茄炒蛋吧。 f6127511-9e0d-4259-a222-2ca0f5a0c2fe.wav\n"
     ]
    },
    {
     "name": "stderr",
     "output_type": "stream",
     "text": [
      "\n",
      "\n",
      "\u001b[A\u001b[A\n",
      "\n",
      "\u001b[A\u001b[A\n",
      "\n",
      "rtf_avg: 0.006: 100%|\u001b[34m██████████\u001b[0m| 1/1 [00:00<00:00, 37.29it/s]\n",
      "\n",
      "\n",
      "\u001b[A\u001b[A\n",
      "\n",
      "\n",
      "\u001b[A\u001b[A\u001b[A\n",
      "\n",
      "\n",
      "\u001b[A\u001b[A\u001b[A\n",
      "\n",
      "\n",
      "rtf_avg: 0.023: 100%|\u001b[34m██████████\u001b[0m| 1/1 [00:00<00:00, 11.72it/s]\n",
      "\n",
      "\n",
      "rtf_avg: 0.025, time_speech:  3.640, time_escape: 0.089: 100%|\u001b[31m██████████\u001b[0m| 1/1 [00:00<00:00, 10.82it/s]\n"
     ]
    },
    {
     "name": "stdout",
     "output_type": "stream",
     "text": [
      "3851 天猫精灵要碗乐乎的牛肉蛋花粥。 f6479b3e-1feb-4fbf-ab07-5a7be5ec4fbd.wav\n"
     ]
    },
    {
     "name": "stderr",
     "output_type": "stream",
     "text": [
      "\n",
      "\n",
      "\u001b[A\u001b[A\n",
      "\n",
      "\u001b[A\u001b[A\n",
      "\n",
      "rtf_avg: 0.006: 100%|\u001b[34m██████████\u001b[0m| 1/1 [00:00<00:00, 25.94it/s]\n",
      "\n",
      "\n",
      "\u001b[A\u001b[A\n",
      "\n",
      "\n",
      "\u001b[A\u001b[A\u001b[A\n",
      "\n",
      "\n",
      "\u001b[A\u001b[A\u001b[A\n",
      "\n",
      "\n",
      "rtf_avg: 0.013: 100%|\u001b[34m██████████\u001b[0m| 1/1 [00:00<00:00, 13.13it/s]\n",
      "\n",
      "\n",
      "rtf_avg: 0.015, time_speech:  5.350, time_escape: 0.081: 100%|\u001b[31m██████████\u001b[0m| 1/1 [00:00<00:00, 11.87it/s]\n"
     ]
    },
    {
     "name": "stdout",
     "output_type": "stream",
     "text": [
      "3852 天猫精灵来碗金灿灿南瓜甜粥吧。 f64c8230-174d-4dd0-817e-4c7cc7653f66.wav\n"
     ]
    },
    {
     "name": "stderr",
     "output_type": "stream",
     "text": [
      "\n",
      "\n",
      "\u001b[A\u001b[A\n",
      "\n",
      "\u001b[A\u001b[A\n",
      "\n",
      "rtf_avg: 0.005: 100%|\u001b[34m██████████\u001b[0m| 1/1 [00:00<00:00, 26.66it/s]\n",
      "\n",
      "\n",
      "\u001b[A\u001b[A\n",
      "\n",
      "\n",
      "\u001b[A\u001b[A\u001b[A\n",
      "\n",
      "\n",
      "\u001b[A\u001b[A\u001b[A\n",
      "\n",
      "\n",
      "rtf_avg: 0.114: 100%|\u001b[34m██████████\u001b[0m| 1/1 [00:00<00:00, 12.65it/s]\n",
      "\n",
      "\n",
      "rtf_avg: 0.013, time_speech:  6.320, time_escape: 0.085: 100%|\u001b[31m██████████\u001b[0m| 1/1 [00:00<00:00, 11.46it/s]\n"
     ]
    },
    {
     "name": "stdout",
     "output_type": "stream",
     "text": [
      "3853 あめね。 f65e769e-c935-4109-b7bd-8b58a94b72f4.wav\n"
     ]
    },
    {
     "name": "stderr",
     "output_type": "stream",
     "text": [
      "\n",
      "\n",
      "\u001b[A\u001b[A\n",
      "\n",
      "\u001b[A\u001b[A\n",
      "\n",
      "rtf_avg: 0.009: 100%|\u001b[34m██████████\u001b[0m| 1/1 [00:00<00:00, 45.46it/s]\n",
      "\n",
      "\n",
      "\u001b[A\u001b[A\n",
      "\n",
      "\n",
      "\u001b[A\u001b[A\u001b[A\n",
      "\n",
      "\n",
      "\u001b[A\u001b[A\u001b[A\n",
      "\n",
      "\n",
      "rtf_avg: 0.036: 100%|\u001b[34m██████████\u001b[0m| 1/1 [00:00<00:00, 12.57it/s]\n",
      "\n",
      "\n",
      "rtf_avg: 0.040, time_speech:  2.127, time_escape: 0.086: 100%|\u001b[31m██████████\u001b[0m| 1/1 [00:00<00:00, 11.33it/s]\n"
     ]
    },
    {
     "name": "stdout",
     "output_type": "stream",
     "text": [
      "3854 你就是你就是个小笨蛋。 f6676160-c953-409b-b16d-8b0fbf968f7b.wav\n"
     ]
    },
    {
     "name": "stderr",
     "output_type": "stream",
     "text": [
      "\n",
      "\n",
      "\u001b[A\u001b[A\n",
      "\n",
      "\u001b[A\u001b[A\n",
      "\n",
      "rtf_avg: 0.007: 100%|\u001b[34m██████████\u001b[0m| 1/1 [00:00<00:00, 33.61it/s]\n",
      "\n",
      "\n",
      "\u001b[A\u001b[A\n",
      "\n",
      "\n",
      "\u001b[A\u001b[A\u001b[A\n",
      "\n",
      "\n",
      "\u001b[A\u001b[A\u001b[A\n",
      "\n",
      "\n",
      "rtf_avg: 0.023: 100%|\u001b[34m██████████\u001b[0m| 1/1 [00:00<00:00, 12.10it/s]\n",
      "\n",
      "\n",
      "rtf_avg: 0.025, time_speech:  3.490, time_escape: 0.088: 100%|\u001b[31m██████████\u001b[0m| 1/1 [00:00<00:00, 10.90it/s]\n"
     ]
    },
    {
     "name": "stdout",
     "output_type": "stream",
     "text": [
      "3855 天猫精灵奶粉加常番茄蛋花糖。😊 f67b2b14-5ded-4b23-b85c-654ec9d40654.wav\n"
     ]
    },
    {
     "name": "stderr",
     "output_type": "stream",
     "text": [
      "\n",
      "\n",
      "\u001b[A\u001b[A\n",
      "\n",
      "\u001b[A\u001b[A\n",
      "\n",
      "rtf_avg: 0.006: 100%|\u001b[34m██████████\u001b[0m| 1/1 [00:00<00:00, 28.07it/s]\n",
      "\n",
      "\n",
      "\u001b[A\u001b[A\n",
      "\n",
      "\n",
      "\u001b[A\u001b[A\u001b[A\n",
      "\n",
      "\n",
      "\u001b[A\u001b[A\u001b[A\n",
      "\n",
      "\n",
      "rtf_avg: 0.023: 100%|\u001b[34m██████████\u001b[0m| 1/1 [00:00<00:00,  9.81it/s]\n",
      "\n",
      "\n",
      "\u001b[A\u001b[A\n",
      "\n",
      "rtf_avg: 0.026, time_speech:  4.360, time_escape: 0.112: 100%|\u001b[31m██████████\u001b[0m| 1/1 [00:00<00:00,  8.62it/s]\n"
     ]
    },
    {
     "name": "stdout",
     "output_type": "stream",
     "text": [
      "3856 天猫精灵来碗三药瘦肉营养粥。 f67cac0d-4e12-4823-971a-f4310d86fb6b.wav\n"
     ]
    },
    {
     "name": "stderr",
     "output_type": "stream",
     "text": [
      "\n",
      "\n",
      "\u001b[A\u001b[A\n",
      "\n",
      "\u001b[A\u001b[A\n",
      "\n",
      "rtf_avg: 0.005: 100%|\u001b[34m██████████\u001b[0m| 1/1 [00:00<00:00, 26.45it/s]\n",
      "\n",
      "\n",
      "\u001b[A\u001b[A\n",
      "\n",
      "\n",
      "\u001b[A\u001b[A\u001b[A\n",
      "\n",
      "\n",
      "\u001b[A\u001b[A\u001b[A\n",
      "\n",
      "\n",
      "rtf_avg: 0.013: 100%|\u001b[34m██████████\u001b[0m| 1/1 [00:00<00:00, 12.03it/s]\n",
      "\n",
      "\n",
      "rtf_avg: 0.014, time_speech:  6.200, time_escape: 0.089: 100%|\u001b[31m██████████\u001b[0m| 1/1 [00:00<00:00, 10.92it/s]\n"
     ]
    },
    {
     "name": "stdout",
     "output_type": "stream",
     "text": [
      "3857 天猫精灵播放姚贝娜的红颜劫。 f6857d17-cae7-4017-ba79-6aa91f64821e.wav\n"
     ]
    },
    {
     "name": "stderr",
     "output_type": "stream",
     "text": [
      "\n",
      "\n",
      "\u001b[A\u001b[A\n",
      "\n",
      "\u001b[A\u001b[A\n",
      "\n",
      "rtf_avg: 0.010: 100%|\u001b[34m██████████\u001b[0m| 1/1 [00:00<00:00, 27.61it/s]\n",
      "\n",
      "\n",
      "\u001b[A\u001b[A\n",
      "\n",
      "\n",
      "\u001b[A\u001b[A\u001b[A\n",
      "\n",
      "\n",
      "\u001b[A\u001b[A\u001b[A\n",
      "\n",
      "\n",
      "rtf_avg: 0.029: 100%|\u001b[34m██████████\u001b[0m| 1/1 [00:00<00:00, 13.34it/s]\n",
      "\n",
      "\n",
      "rtf_avg: 0.025, time_speech:  3.240, time_escape: 0.081: 100%|\u001b[31m██████████\u001b[0m| 1/1 [00:00<00:00, 12.04it/s]\n"
     ]
    },
    {
     "name": "stdout",
     "output_type": "stream",
     "text": [
      "3858 来碗红糖小米粥，养妹子。 f6a4758a-b54d-422d-b04b-f91d85678412.wav\n"
     ]
    },
    {
     "name": "stderr",
     "output_type": "stream",
     "text": [
      "\n",
      "\n",
      "\u001b[A\u001b[A\n",
      "\n",
      "\u001b[A\u001b[A\n",
      "\n",
      "rtf_avg: 0.007: 100%|\u001b[34m██████████\u001b[0m| 1/1 [00:00<00:00, 26.43it/s]\n",
      "\n",
      "\n",
      "\u001b[A\u001b[A\n",
      "\n",
      "\n",
      "\u001b[A\u001b[A\u001b[A\n",
      "\n",
      "\n",
      "\u001b[A\u001b[A\u001b[A\n",
      "\n",
      "\n",
      "rtf_avg: 0.018: 100%|\u001b[34m██████████\u001b[0m| 1/1 [00:00<00:00, 12.97it/s]\n",
      "\n",
      "\n",
      "rtf_avg: 0.020, time_speech:  4.270, time_escape: 0.084: 100%|\u001b[31m██████████\u001b[0m| 1/1 [00:00<00:00, 11.61it/s]\n"
     ]
    },
    {
     "name": "stdout",
     "output_type": "stream",
     "text": [
      "3859 天猫精灵要份小米南瓜养胃州哦。 f6af8acf-b41d-45ed-b334-3b37fb763a6b.wav\n"
     ]
    },
    {
     "name": "stderr",
     "output_type": "stream",
     "text": [
      "\n",
      "\n",
      "\u001b[A\u001b[A\n",
      "\n",
      "\u001b[A\u001b[A\n",
      "\n",
      "rtf_avg: 0.005: 100%|\u001b[34m██████████\u001b[0m| 1/1 [00:00<00:00, 22.34it/s]\n",
      "\n",
      "\n",
      "\u001b[A\u001b[A\n",
      "\n",
      "\n",
      "\u001b[A\u001b[A\u001b[A\n",
      "\n",
      "\n",
      "\u001b[A\u001b[A\u001b[A\n",
      "\n",
      "\n",
      "rtf_avg: 0.010: 100%|\u001b[34m██████████\u001b[0m| 1/1 [00:00<00:00, 12.29it/s]\n",
      "\n",
      "\n",
      "rtf_avg: 0.011, time_speech:  7.980, time_escape: 0.087: 100%|\u001b[31m██████████\u001b[0m| 1/1 [00:00<00:00, 11.06it/s]\n"
     ]
    },
    {
     "name": "stdout",
     "output_type": "stream",
     "text": [
      "3860 天猫精灵把唤醒词改成狗儿。 f6b5efe0-048a-4220-bb44-252c37a558d9.wav\n"
     ]
    },
    {
     "name": "stderr",
     "output_type": "stream",
     "text": [
      "\n",
      "\n",
      "\u001b[A\u001b[A\n",
      "\n",
      "\u001b[A\u001b[A\n",
      "\n",
      "rtf_avg: 0.006: 100%|\u001b[34m██████████\u001b[0m| 1/1 [00:00<00:00, 27.29it/s]\n",
      "\n",
      "\n",
      "\u001b[A\u001b[A\n",
      "\n",
      "\n",
      "\u001b[A\u001b[A\u001b[A\n",
      "\n",
      "\n",
      "\u001b[A\u001b[A\u001b[A\n",
      "\n",
      "\n",
      "\u001b[A\u001b[A\u001b[A\n",
      "\n",
      "\n",
      "rtf_avg: 0.018: 100%|\u001b[34m██████████\u001b[0m| 1/1 [00:00<00:00,  9.26it/s]\n",
      "\n",
      "\n",
      "\u001b[A\u001b[A\n",
      "\n",
      "rtf_avg: 0.020, time_speech:  5.572, time_escape: 0.114: 100%|\u001b[31m██████████\u001b[0m| 1/1 [00:00<00:00,  8.26it/s]\n"
     ]
    },
    {
     "name": "stdout",
     "output_type": "stream",
     "text": [
      "3861 天猫精灵把音量加到50%。 f6d1d8d4-57a8-40a6-8eaa-cf668cb174cf.wav\n"
     ]
    },
    {
     "name": "stderr",
     "output_type": "stream",
     "text": [
      "\n",
      "\n",
      "\u001b[A\u001b[A\n",
      "\n",
      "\u001b[A\u001b[A\n",
      "\n",
      "rtf_avg: 0.006: 100%|\u001b[34m██████████\u001b[0m| 1/1 [00:00<00:00, 26.65it/s]\n",
      "\n",
      "\n",
      "\u001b[A\u001b[A\n",
      "\n",
      "\n",
      "\u001b[A\u001b[A\u001b[A\n",
      "\n",
      "\n",
      "\u001b[A\u001b[A\u001b[A\n",
      "\n",
      "\n",
      "rtf_avg: 0.012: 100%|\u001b[34m██████████\u001b[0m| 1/1 [00:00<00:00, 13.21it/s]\n",
      "\n",
      "\n",
      "rtf_avg: 0.014, time_speech:  5.880, time_escape: 0.081: 100%|\u001b[31m██████████\u001b[0m| 1/1 [00:00<00:00, 11.94it/s]\n"
     ]
    },
    {
     "name": "stdout",
     "output_type": "stream",
     "text": [
      "3862 天猫精灵，我想听浓妆淡抹总相宜。 f6ee07f6-fb5b-4b5f-9e07-d17dc26a1aa4.wav\n"
     ]
    },
    {
     "name": "stderr",
     "output_type": "stream",
     "text": [
      "\n",
      "\n",
      "\u001b[A\u001b[A\n",
      "\n",
      "\u001b[A\u001b[A\n",
      "\n",
      "rtf_avg: 0.007: 100%|\u001b[34m██████████\u001b[0m| 1/1 [00:00<00:00, 34.15it/s]\n",
      "\n",
      "\n",
      "\u001b[A\u001b[A\n",
      "\n",
      "\n",
      "\u001b[A\u001b[A\u001b[A\n",
      "\n",
      "\n",
      "\u001b[A\u001b[A\u001b[A\n",
      "\n",
      "\n",
      "rtf_avg: 0.022: 100%|\u001b[34m██████████\u001b[0m| 1/1 [00:00<00:00, 12.56it/s]\n",
      "\n",
      "\n",
      "rtf_avg: 0.025, time_speech:  3.500, time_escape: 0.087: 100%|\u001b[31m██████████\u001b[0m| 1/1 [00:00<00:00, 11.12it/s]\n"
     ]
    },
    {
     "name": "stdout",
     "output_type": "stream",
     "text": [
      "3863 天猫精灵来份蒜香鸡毛菜吧。 f6f0ffcc-87a6-4e0f-b129-56f39decf745.wav\n"
     ]
    },
    {
     "name": "stderr",
     "output_type": "stream",
     "text": [
      "\n",
      "\n",
      "\u001b[A\u001b[A\n",
      "\n",
      "\u001b[A\u001b[A\n",
      "\n",
      "rtf_avg: 0.007: 100%|\u001b[34m██████████\u001b[0m| 1/1 [00:00<00:00, 35.14it/s]\n",
      "\n",
      "\n",
      "\u001b[A\u001b[A\n",
      "\n",
      "\n",
      "\u001b[A\u001b[A\u001b[A\n",
      "\n",
      "\n",
      "\u001b[A\u001b[A\u001b[A\n",
      "\n",
      "\n",
      "rtf_avg: 0.023: 100%|\u001b[34m██████████\u001b[0m| 1/1 [00:00<00:00, 12.46it/s]\n",
      "\n",
      "\n",
      "rtf_avg: 0.024, time_speech:  3.590, time_escape: 0.087: 100%|\u001b[31m██████████\u001b[0m| 1/1 [00:00<00:00, 11.02it/s]\n"
     ]
    },
    {
     "name": "stdout",
     "output_type": "stream",
     "text": [
      "3864 奶粉家常干过首次包菜吧。 f6fdf2ae-8d09-4f80-87dd-4f47f95c5977.wav\n"
     ]
    },
    {
     "name": "stderr",
     "output_type": "stream",
     "text": [
      "\n",
      "\n",
      "\u001b[A\u001b[A\n",
      "\n",
      "\u001b[A\u001b[A\n",
      "\n",
      "rtf_avg: 0.004: 100%|\u001b[34m██████████\u001b[0m| 1/1 [00:00<00:00, 17.65it/s]\n",
      "\n",
      "\n",
      "\u001b[A\u001b[A\n",
      "\n",
      "\n",
      "\u001b[A\u001b[A\u001b[A\n",
      "\n",
      "\n",
      "\u001b[A\u001b[A\u001b[A\n",
      "\n",
      "\n",
      "rtf_avg: 0.008: 100%|\u001b[34m██████████\u001b[0m| 1/1 [00:00<00:00,  9.81it/s]\n",
      "\n",
      "\n",
      "\u001b[A\u001b[A\n",
      "\n",
      "rtf_avg: 0.009, time_speech:  12.840, time_escape: 0.113: 100%|\u001b[31m██████████\u001b[0m| 1/1 [00:00<00:00,  8.47it/s]\n"
     ]
    },
    {
     "name": "stdout",
     "output_type": "stream",
     "text": [
      "3865 天猫精灵30个190个190个10090个198100个0等于几？ f70699c4-b0bf-4fe4-b17e-70ed01b167e6.wav\n"
     ]
    },
    {
     "name": "stderr",
     "output_type": "stream",
     "text": [
      "\n",
      "\n",
      "\u001b[A\u001b[A\n",
      "\n",
      "\u001b[A\u001b[A\n",
      "\n",
      "rtf_avg: 0.008: 100%|\u001b[34m██████████\u001b[0m| 1/1 [00:00<00:00, 33.35it/s]\n",
      "\n",
      "\n",
      "\u001b[A\u001b[A\n",
      "\n",
      "\n",
      "\u001b[A\u001b[A\u001b[A\n",
      "\n",
      "\n",
      "\u001b[A\u001b[A\u001b[A\n",
      "\n",
      "\n",
      "rtf_avg: 0.026: 100%|\u001b[34m██████████\u001b[0m| 1/1 [00:00<00:00, 12.35it/s]\n",
      "\n",
      "\n",
      "rtf_avg: 0.029, time_speech:  3.060, time_escape: 0.088: 100%|\u001b[31m██████████\u001b[0m| 1/1 [00:00<00:00, 11.24it/s]\n"
     ]
    },
    {
     "name": "stdout",
     "output_type": "stream",
     "text": [
      "3866 来份小白菜肉丝炖粉条吧。 f71bc20f-ebcb-4676-84c0-d74497d8e6c3.wav\n"
     ]
    },
    {
     "name": "stderr",
     "output_type": "stream",
     "text": [
      "\n",
      "\n",
      "\u001b[A\u001b[A\n",
      "\n",
      "\u001b[A\u001b[A\n",
      "\n",
      "rtf_avg: 0.006: 100%|\u001b[34m██████████\u001b[0m| 1/1 [00:00<00:00, 32.28it/s]\n",
      "\n",
      "\n",
      "\u001b[A\u001b[A\n",
      "\n",
      "\n",
      "\u001b[A\u001b[A\u001b[A\n",
      "\n",
      "\n",
      "\u001b[A\u001b[A\u001b[A\n",
      "\n",
      "\n",
      "rtf_avg: 0.031: 100%|\u001b[34m██████████\u001b[0m| 1/1 [00:00<00:00,  9.90it/s]\n",
      "\n",
      "\n",
      "\u001b[A\u001b[A\n",
      "\n",
      "rtf_avg: 0.023, time_speech:  4.680, time_escape: 0.108: 100%|\u001b[31m██████████\u001b[0m| 1/1 [00:00<00:00,  8.76it/s]\n"
     ]
    },
    {
     "name": "stdout",
     "output_type": "stream",
     "text": [
      "3867 🎼西红柿豆腐汤的脂肪含量达吗？ f7215b4a-9e14-4502-ae1e-a84ef3cc5d31.wav\n"
     ]
    },
    {
     "name": "stderr",
     "output_type": "stream",
     "text": [
      "\n",
      "\n",
      "\u001b[A\u001b[A\n",
      "\n",
      "\u001b[A\u001b[A\n",
      "\n",
      "rtf_avg: 0.006: 100%|\u001b[34m██████████\u001b[0m| 1/1 [00:00<00:00, 26.02it/s]\n",
      "\n",
      "\n",
      "\u001b[A\u001b[A\n",
      "\n",
      "\n",
      "\u001b[A\u001b[A\u001b[A\n",
      "\n",
      "\n",
      "\u001b[A\u001b[A\u001b[A\n",
      "\n",
      "\n",
      "rtf_avg: 0.015: 100%|\u001b[34m██████████\u001b[0m| 1/1 [00:00<00:00, 12.02it/s]\n",
      "\n",
      "\n",
      "rtf_avg: 0.016, time_speech:  5.460, time_escape: 0.089: 100%|\u001b[31m██████████\u001b[0m| 1/1 [00:00<00:00, 10.90it/s]\n"
     ]
    },
    {
     "name": "stdout",
     "output_type": "stream",
     "text": [
      "3868 天猫精灵要个卷心菜炒粉条吧。 f7334b23-c21e-4256-9b15-34eceaf116aa.wav\n"
     ]
    },
    {
     "name": "stderr",
     "output_type": "stream",
     "text": [
      "\n",
      "\n",
      "\u001b[A\u001b[A\n",
      "\n",
      "\u001b[A\u001b[A\n",
      "\n",
      "rtf_avg: 0.007: 100%|\u001b[34m██████████\u001b[0m| 1/1 [00:00<00:00, 29.58it/s]\n",
      "\n",
      "\n",
      "\u001b[A\u001b[A\n",
      "\n",
      "\n",
      "\u001b[A\u001b[A\u001b[A\n",
      "\n",
      "\n",
      "\u001b[A\u001b[A\u001b[A\n",
      "\n",
      "\n",
      "rtf_avg: 0.019: 100%|\u001b[34m██████████\u001b[0m| 1/1 [00:00<00:00, 13.10it/s]\n",
      "\n",
      "\n",
      "rtf_avg: 0.021, time_speech:  3.940, time_escape: 0.081: 100%|\u001b[31m██████████\u001b[0m| 1/1 [00:00<00:00, 11.85it/s]\n"
     ]
    },
    {
     "name": "stdout",
     "output_type": "stream",
     "text": [
      "3869 天猫精灵来份养生薏仁炒米饭吧。 f747d518-1dbf-4ef2-a710-8542283f850c.wav\n"
     ]
    },
    {
     "name": "stderr",
     "output_type": "stream",
     "text": [
      "\n",
      "\n",
      "\u001b[A\u001b[A\n",
      "\n",
      "\u001b[A\u001b[A\n",
      "\n",
      "rtf_avg: 0.006: 100%|\u001b[34m██████████\u001b[0m| 1/1 [00:00<00:00, 21.12it/s]\n",
      "\n",
      "\n",
      "\u001b[A\u001b[A\n",
      "\n",
      "\n",
      "\u001b[A\u001b[A\u001b[A\n",
      "\n",
      "\n",
      "\u001b[A\u001b[A\u001b[A\n",
      "\n",
      "\n",
      "rtf_avg: 0.010: 100%|\u001b[34m██████████\u001b[0m| 1/1 [00:00<00:00, 12.51it/s]\n",
      "\n",
      "\n",
      "rtf_avg: 0.012, time_speech:  7.320, time_escape: 0.087: 100%|\u001b[31m██████████\u001b[0m| 1/1 [00:00<00:00, 11.24it/s]\n"
     ]
    },
    {
     "name": "stdout",
     "output_type": "stream",
     "text": [
      "3870 天猫精灵播放我的自荐歌单miss。 f74ab9d0-33e4-4275-9e43-9d4dfc6c49e3.wav\n"
     ]
    },
    {
     "name": "stderr",
     "output_type": "stream",
     "text": [
      "\n",
      "\n",
      "\u001b[A\u001b[A\n",
      "\n",
      "\u001b[A\u001b[A\n",
      "\n",
      "rtf_avg: 0.007: 100%|\u001b[34m██████████\u001b[0m| 1/1 [00:00<00:00, 39.68it/s]\n",
      "\n",
      "\n",
      "\u001b[A\u001b[A\n",
      "\n",
      "\n",
      "\u001b[A\u001b[A\u001b[A\n",
      "\n",
      "\n",
      "\u001b[A\u001b[A\u001b[A\n",
      "\n",
      "\n",
      "rtf_avg: 0.030: 100%|\u001b[34m██████████\u001b[0m| 1/1 [00:00<00:00, 11.75it/s]\n",
      "\n",
      "\n",
      "rtf_avg: 0.031, time_speech:  2.930, time_escape: 0.091: 100%|\u001b[31m██████████\u001b[0m| 1/1 [00:00<00:00, 10.66it/s]\n"
     ]
    },
    {
     "name": "stdout",
     "output_type": "stream",
     "text": [
      "3871 来闻社乎的老母鸡汤等点胃。 f7540a8a-0825-47ab-b290-6736a998eea7.wav\n"
     ]
    },
    {
     "name": "stderr",
     "output_type": "stream",
     "text": [
      "\n",
      "\n",
      "\u001b[A\u001b[A\n",
      "\n",
      "\u001b[A\u001b[A\n",
      "\n",
      "rtf_avg: 0.005: 100%|\u001b[34m██████████\u001b[0m| 1/1 [00:00<00:00, 32.01it/s]\n",
      "\n",
      "\n",
      "\u001b[A\u001b[A\n",
      "\n",
      "\n",
      "\u001b[A\u001b[A\u001b[A\n",
      "\n",
      "\n",
      "\u001b[A\u001b[A\u001b[A\n",
      "\n",
      "\n",
      "rtf_avg: 0.016: 100%|\u001b[34m██████████\u001b[0m| 1/1 [00:00<00:00, 12.05it/s]\n",
      "\n",
      "\n",
      "rtf_avg: 0.018, time_speech:  5.020, time_escape: 0.090: 100%|\u001b[31m██████████\u001b[0m| 1/1 [00:00<00:00, 10.76it/s]\n"
     ]
    },
    {
     "name": "stdout",
     "output_type": "stream",
     "text": [
      "3872 天猫精灵来碗热乎南瓜粥，暖暖胃。 f765002a-7ec9-473e-a2e4-72cf32408532.wav\n"
     ]
    },
    {
     "name": "stderr",
     "output_type": "stream",
     "text": [
      "\n",
      "\n",
      "\u001b[A\u001b[A\n",
      "\n",
      "\u001b[A\u001b[A\n",
      "\n",
      "rtf_avg: 0.007: 100%|\u001b[34m██████████\u001b[0m| 1/1 [00:00<00:00, 34.20it/s]\n",
      "\n",
      "\n",
      "\u001b[A\u001b[A\n",
      "\n",
      "\n",
      "\u001b[A\u001b[A\u001b[A\n",
      "\n",
      "\n",
      "\u001b[A\u001b[A\u001b[A\n",
      "\n",
      "\n",
      "rtf_avg: 0.018: 100%|\u001b[34m██████████\u001b[0m| 1/1 [00:00<00:00, 14.03it/s]\n",
      "\n",
      "\n",
      "rtf_avg: 0.020, time_speech:  3.800, time_escape: 0.077: 100%|\u001b[31m██████████\u001b[0m| 1/1 [00:00<00:00, 12.56it/s]\n"
     ]
    },
    {
     "name": "stdout",
     "output_type": "stream",
     "text": [
      "3873 天猫精灵来碗冬瓜排骨汤。 f774de9a-fbc4-492d-81a0-7f4bd50c1297.wav\n"
     ]
    },
    {
     "name": "stderr",
     "output_type": "stream",
     "text": [
      "\n",
      "\n",
      "\u001b[A\u001b[A\n",
      "\n",
      "\u001b[A\u001b[A\n",
      "\n",
      "rtf_avg: 0.005: 100%|\u001b[34m██████████\u001b[0m| 1/1 [00:00<00:00, 34.07it/s]\n",
      "\n",
      "\n",
      "\u001b[A\u001b[A\n",
      "\n",
      "\n",
      "\u001b[A\u001b[A\u001b[A\n",
      "\n",
      "\n",
      "\u001b[A\u001b[A\u001b[A\n",
      "\n",
      "\n",
      "rtf_avg: 0.014: 100%|\u001b[34m██████████\u001b[0m| 1/1 [00:00<00:00, 12.93it/s]\n",
      "\n",
      "\n",
      "rtf_avg: 0.015, time_speech:  5.360, time_escape: 0.083: 100%|\u001b[31m██████████\u001b[0m| 1/1 [00:00<00:00, 11.78it/s]\n"
     ]
    },
    {
     "name": "stdout",
     "output_type": "stream",
     "text": [
      "3874 ，天猫精灵音量调到到到50%。 f7781756-d7cf-4020-a9db-9d85d251c44c.wav\n"
     ]
    },
    {
     "name": "stderr",
     "output_type": "stream",
     "text": [
      "\n",
      "\n",
      "\u001b[A\u001b[A\n",
      "\n",
      "\u001b[A\u001b[A\n",
      "\n",
      "rtf_avg: 0.007: 100%|\u001b[34m██████████\u001b[0m| 1/1 [00:00<00:00, 35.86it/s]\n",
      "\n",
      "\n",
      "\u001b[A\u001b[A\n",
      "\n",
      "\n",
      "\u001b[A\u001b[A\u001b[A\n",
      "\n",
      "\n",
      "\u001b[A\u001b[A\u001b[A\n",
      "\n",
      "\n",
      "rtf_avg: 0.021: 100%|\u001b[34m██████████\u001b[0m| 1/1 [00:00<00:00, 13.58it/s]\n",
      "\n",
      "\n",
      "rtf_avg: 0.024, time_speech:  3.333, time_escape: 0.079: 100%|\u001b[31m██████████\u001b[0m| 1/1 [00:00<00:00, 12.08it/s]\n"
     ]
    },
    {
     "name": "stdout",
     "output_type": "stream",
     "text": [
      "3875 我想听冯新阳的梦碎了，该醒了。 f7992654-8375-4716-a69f-880b46b46b11.wav\n"
     ]
    },
    {
     "name": "stderr",
     "output_type": "stream",
     "text": [
      "\n",
      "\n",
      "\u001b[A\u001b[A\n",
      "\n",
      "\u001b[A\u001b[A\n",
      "\n",
      "rtf_avg: 0.009: 100%|\u001b[34m██████████\u001b[0m| 1/1 [00:00<00:00, 21.10it/s]\n",
      "\n",
      "\n",
      "\u001b[A\u001b[A\n",
      "\n",
      "\n",
      "\u001b[A\u001b[A\u001b[A\n",
      "\n",
      "\n",
      "\u001b[A\u001b[A\u001b[A\n",
      "\n",
      "\n",
      "rtf_avg: 0.017: 100%|\u001b[34m██████████\u001b[0m| 1/1 [00:00<00:00, 13.16it/s]\n",
      "\n",
      "\n",
      "rtf_avg: 0.019, time_speech:  4.484, time_escape: 0.084: 100%|\u001b[31m██████████\u001b[0m| 1/1 [00:00<00:00, 11.47it/s]\n"
     ]
    },
    {
     "name": "stdout",
     "output_type": "stream",
     "text": [
      "3876 我叫天猫精灵给我开开空调，他要给我开一个。 f79b9160-3127-4df8-942f-c3f06847d9a0.wav\n"
     ]
    },
    {
     "name": "stderr",
     "output_type": "stream",
     "text": [
      "\n",
      "\n",
      "\u001b[A\u001b[A\n",
      "\n",
      "\u001b[A\u001b[A\n",
      "\n",
      "rtf_avg: 0.007: 100%|\u001b[34m██████████\u001b[0m| 1/1 [00:00<00:00, 34.98it/s]\n",
      "\n",
      "\n",
      "\u001b[A\u001b[A\n",
      "\n",
      "\n",
      "\u001b[A\u001b[A\u001b[A\n",
      "\n",
      "\n",
      "\u001b[A\u001b[A\u001b[A\n",
      "\n",
      "\n",
      "rtf_avg: 0.022: 100%|\u001b[34m██████████\u001b[0m| 1/1 [00:00<00:00, 11.93it/s]\n",
      "\n",
      "\n",
      "rtf_avg: 0.024, time_speech:  3.760, time_escape: 0.089: 100%|\u001b[31m██████████\u001b[0m| 1/1 [00:00<00:00, 10.88it/s]\n"
     ]
    },
    {
     "name": "stdout",
     "output_type": "stream",
     "text": [
      "3877 天猫精灵来份暖暖的小米粥吧。 f7a8d155-61b8-4f62-81bb-81564c663695.wav\n"
     ]
    },
    {
     "name": "stderr",
     "output_type": "stream",
     "text": [
      "\n",
      "\n",
      "\u001b[A\u001b[A\n",
      "\n",
      "\u001b[A\u001b[A\n",
      "\n",
      "rtf_avg: 0.005: 100%|\u001b[34m██████████\u001b[0m| 1/1 [00:00<00:00, 24.01it/s]\n",
      "\n",
      "\n",
      "\u001b[A\u001b[A\n",
      "\n",
      "\n",
      "\u001b[A\u001b[A\u001b[A\n",
      "\n",
      "\n",
      "\u001b[A\u001b[A\u001b[A\n",
      "\n",
      "\n",
      "rtf_avg: 0.010: 100%|\u001b[34m██████████\u001b[0m| 1/1 [00:00<00:00, 12.43it/s]\n",
      "\n",
      "\n",
      "rtf_avg: 0.011, time_speech:  7.800, time_escape: 0.086: 100%|\u001b[31m██████████\u001b[0m| 1/1 [00:00<00:00, 11.22it/s]\n"
     ]
    },
    {
     "name": "stdout",
     "output_type": "stream",
     "text": [
      "3878 ，天猫精灵我在你说啊你要听什么歌，你说。😊 f7c610a4-f52c-4da4-9b1c-1532b81278c9.wav\n"
     ]
    },
    {
     "name": "stderr",
     "output_type": "stream",
     "text": [
      "\n",
      "\n",
      "\u001b[A\u001b[A\n",
      "\n",
      "\u001b[A\u001b[A\n",
      "\n",
      "rtf_avg: 0.005: 100%|\u001b[34m██████████\u001b[0m| 1/1 [00:00<00:00, 18.10it/s]\n",
      "\n",
      "\n",
      "\u001b[A\u001b[A\n",
      "\n",
      "\n",
      "\u001b[A\u001b[A\u001b[A\n",
      "\n",
      "\n",
      "\u001b[A\u001b[A\u001b[A\n",
      "\n",
      "\n",
      "rtf_avg: 0.009: 100%|\u001b[34m██████████\u001b[0m| 1/1 [00:00<00:00, 11.38it/s]\n",
      "\n",
      "\n",
      "rtf_avg: 0.010, time_speech:  9.360, time_escape: 0.094: 100%|\u001b[31m██████████\u001b[0m| 1/1 [00:00<00:00, 10.32it/s]\n"
     ]
    },
    {
     "name": "stdout",
     "output_type": "stream",
     "text": [
      "3879 天猫精灵来一首快来快来煎荷包大。 f7e627f0-3250-4ded-8eab-58829b0bddf4.wav\n"
     ]
    },
    {
     "name": "stderr",
     "output_type": "stream",
     "text": [
      "\n",
      "\n",
      "\u001b[A\u001b[A\n",
      "\n",
      "\u001b[A\u001b[A\n",
      "\n",
      "rtf_avg: 0.006: 100%|\u001b[34m██████████\u001b[0m| 1/1 [00:00<00:00, 29.57it/s]\n",
      "\n",
      "\n",
      "\u001b[A\u001b[A\n",
      "\n",
      "\n",
      "\u001b[A\u001b[A\u001b[A\n",
      "\n",
      "\n",
      "\u001b[A\u001b[A\u001b[A\n",
      "\n",
      "\n",
      "rtf_avg: 0.017: 100%|\u001b[34m██████████\u001b[0m| 1/1 [00:00<00:00, 12.01it/s]\n",
      "\n",
      "\n",
      "rtf_avg: 0.018, time_speech:  4.860, time_escape: 0.089: 100%|\u001b[31m██████████\u001b[0m| 1/1 [00:00<00:00, 10.59it/s]\n"
     ]
    },
    {
     "name": "stdout",
     "output_type": "stream",
     "text": [
      "3880 我想看小猪佩奇玩具拼图。 f7fee6ca-5d3b-4869-ab66-2e37d670ddf8.wav\n"
     ]
    },
    {
     "name": "stderr",
     "output_type": "stream",
     "text": [
      "\n",
      "\n",
      "\u001b[A\u001b[A\n",
      "\n",
      "\u001b[A\u001b[A\n",
      "\n",
      "rtf_avg: 0.006: 100%|\u001b[34m██████████\u001b[0m| 1/1 [00:00<00:00, 33.54it/s]\n",
      "\n",
      "\n",
      "\u001b[A\u001b[A\n",
      "\n",
      "\n",
      "\u001b[A\u001b[A\u001b[A\n",
      "\n",
      "\n",
      "\u001b[A\u001b[A\u001b[A\n",
      "\n",
      "\n",
      "rtf_avg: 0.020: 100%|\u001b[34m██████████\u001b[0m| 1/1 [00:00<00:00, 12.21it/s]\n",
      "\n",
      "\n",
      "rtf_avg: 0.022, time_speech:  4.082, time_escape: 0.089: 100%|\u001b[31m██████████\u001b[0m| 1/1 [00:00<00:00, 10.97it/s]\n"
     ]
    },
    {
     "name": "stdout",
     "output_type": "stream",
     "text": [
      "3881 天猫精灵要碗桂圆、莲藕、山药粥养妹的。 f80e96ab-d05c-47f1-83b9-d4774fd62f3f.wav\n"
     ]
    },
    {
     "name": "stderr",
     "output_type": "stream",
     "text": [
      "\n",
      "\n",
      "\u001b[A\u001b[A\n",
      "\n",
      "\u001b[A\u001b[A\n",
      "\n",
      "rtf_avg: 0.006: 100%|\u001b[34m██████████\u001b[0m| 1/1 [00:00<00:00, 27.05it/s]\n",
      "\n",
      "\n",
      "\u001b[A\u001b[A\n",
      "\n",
      "\n",
      "\u001b[A\u001b[A\u001b[A\n",
      "\n",
      "\n",
      "\u001b[A\u001b[A\u001b[A\n",
      "\n",
      "\n",
      "rtf_avg: 0.015: 100%|\u001b[34m██████████\u001b[0m| 1/1 [00:00<00:00, 13.15it/s]\n",
      "\n",
      "\n",
      "rtf_avg: 0.014, time_speech:  5.700, time_escape: 0.082: 100%|\u001b[31m██████████\u001b[0m| 1/1 [00:00<00:00, 11.61it/s]\n"
     ]
    },
    {
     "name": "stdout",
     "output_type": "stream",
     "text": [
      "3882 我要唱林生祥的面会菜。 f80f8ffb-3aa3-4b4c-a65a-3c827912868b.wav\n"
     ]
    },
    {
     "name": "stderr",
     "output_type": "stream",
     "text": [
      "\n",
      "\n",
      "\u001b[A\u001b[A\n",
      "\n",
      "\u001b[A\u001b[A\n",
      "\n",
      "rtf_avg: 0.005: 100%|\u001b[34m██████████\u001b[0m| 1/1 [00:00<00:00, 34.64it/s]\n",
      "\n",
      "\n",
      "\u001b[A\u001b[A\n",
      "\n",
      "\n",
      "\u001b[A\u001b[A\u001b[A\n",
      "\n",
      "\n",
      "\u001b[A\u001b[A\u001b[A\n",
      "\n",
      "\n",
      "rtf_avg: 0.015: 100%|\u001b[34m██████████\u001b[0m| 1/1 [00:00<00:00, 11.56it/s]\n",
      "\n",
      "\n",
      "rtf_avg: 0.017, time_speech:  5.300, time_escape: 0.092: 100%|\u001b[31m██████████\u001b[0m| 1/1 [00:00<00:00, 10.70it/s]\n"
     ]
    },
    {
     "name": "stdout",
     "output_type": "stream",
     "text": [
      "3883 天说精灵在你说你不说唱歌怎么不唱了？ f8124a34-7d64-499e-a20d-eb7cd8d8effd.wav\n"
     ]
    },
    {
     "name": "stderr",
     "output_type": "stream",
     "text": [
      "\n",
      "\n",
      "\u001b[A\u001b[A\n",
      "\n",
      "\u001b[A\u001b[A\n",
      "\n",
      "rtf_avg: 0.009: 100%|\u001b[34m██████████\u001b[0m| 1/1 [00:00<00:00, 21.37it/s]\n",
      "\n",
      "\n",
      "\u001b[A\u001b[A\n",
      "\n",
      "\n",
      "\u001b[A\u001b[A\u001b[A\n",
      "\n",
      "\n",
      "\u001b[A\u001b[A\u001b[A\n",
      "\n",
      "\n",
      "rtf_avg: 0.017: 100%|\u001b[34m██████████\u001b[0m| 1/1 [00:00<00:00, 12.62it/s]\n",
      "\n",
      "\n",
      "rtf_avg: 0.019, time_speech:  4.620, time_escape: 0.086: 100%|\u001b[31m██████████\u001b[0m| 1/1 [00:00<00:00, 11.38it/s]\n"
     ]
    },
    {
     "name": "stdout",
     "output_type": "stream",
     "text": [
      "3884 天猫精灵来碗南瓜小米养生抽吧。 f81a819d-d629-45ef-ad53-34409bb8b6ac.wav\n"
     ]
    },
    {
     "name": "stderr",
     "output_type": "stream",
     "text": [
      "\n",
      "\n",
      "\u001b[A\u001b[A\n",
      "\n",
      "\u001b[A\u001b[A\n",
      "\n",
      "rtf_avg: 0.005: 100%|\u001b[34m██████████\u001b[0m| 1/1 [00:00<00:00, 32.58it/s]\n",
      "\n",
      "\n",
      "\u001b[A\u001b[A\n",
      "\n",
      "\n",
      "\u001b[A\u001b[A\u001b[A\n",
      "\n",
      "\n",
      "\u001b[A\u001b[A\u001b[A\n",
      "\n",
      "\n",
      "rtf_avg: 0.014: 100%|\u001b[34m██████████\u001b[0m| 1/1 [00:00<00:00, 13.61it/s]\n",
      "\n",
      "\n",
      "rtf_avg: 0.015, time_speech:  5.100, time_escape: 0.077: 100%|\u001b[31m██████████\u001b[0m| 1/1 [00:00<00:00, 12.50it/s]\n"
     ]
    },
    {
     "name": "stdout",
     "output_type": "stream",
     "text": [
      "3885 天猫精灵要啊海米薏米杨未粥。 f826367b-199f-4192-b056-849cc2835684.wav\n"
     ]
    },
    {
     "name": "stderr",
     "output_type": "stream",
     "text": [
      "\n",
      "\n",
      "\u001b[A\u001b[A\n",
      "\n",
      "\u001b[A\u001b[A\n",
      "\n",
      "rtf_avg: 0.005: 100%|\u001b[34m██████████\u001b[0m| 1/1 [00:00<00:00, 31.11it/s]\n",
      "\n",
      "\n",
      "\u001b[A\u001b[A\n",
      "\n",
      "\n",
      "\u001b[A\u001b[A\u001b[A\n",
      "\n",
      "\n",
      "\u001b[A\u001b[A\u001b[A\n",
      "\n",
      "\n",
      "rtf_avg: 0.012: 100%|\u001b[34m██████████\u001b[0m| 1/1 [00:00<00:00, 13.18it/s]\n",
      "\n",
      "\n",
      "rtf_avg: 0.014, time_speech:  5.860, time_escape: 0.081: 100%|\u001b[31m██████████\u001b[0m| 1/1 [00:00<00:00, 11.86it/s]\n"
     ]
    },
    {
     "name": "stdout",
     "output_type": "stream",
     "text": [
      "3886 天猫精灵来玩莲子牵世养生粥吧。 f8549b86-a2c2-4414-a4bf-d881f688e7a2.wav\n"
     ]
    },
    {
     "name": "stderr",
     "output_type": "stream",
     "text": [
      "\n",
      "\n",
      "\u001b[A\u001b[A\n",
      "\n",
      "\u001b[A\u001b[A\n",
      "\n",
      "rtf_avg: 0.007: 100%|\u001b[34m██████████\u001b[0m| 1/1 [00:00<00:00, 37.49it/s]\n",
      "\n",
      "\n",
      "\u001b[A\u001b[A\n",
      "\n",
      "\n",
      "\u001b[A\u001b[A\u001b[A\n",
      "\n",
      "\n",
      "\u001b[A\u001b[A\u001b[A\n",
      "\n",
      "\n",
      "rtf_avg: 0.027: 100%|\u001b[34m██████████\u001b[0m| 1/1 [00:00<00:00, 11.70it/s]\n",
      "\n",
      "\n",
      "rtf_avg: 0.029, time_speech:  3.120, time_escape: 0.090: 100%|\u001b[31m██████████\u001b[0m| 1/1 [00:00<00:00, 10.75it/s]\n"
     ]
    },
    {
     "name": "stdout",
     "output_type": "stream",
     "text": [
      "3887 炝炒脆土豆丝来一份吧。 f85c3fda-e526-4d60-9374-55b4cc5931d1.wav\n"
     ]
    },
    {
     "name": "stderr",
     "output_type": "stream",
     "text": [
      "\n",
      "\n",
      "\u001b[A\u001b[A\n",
      "\n",
      "\u001b[A\u001b[A\n",
      "\n",
      "rtf_avg: 0.005: 100%|\u001b[34m██████████\u001b[0m| 1/1 [00:00<00:00, 24.94it/s]\n",
      "\n",
      "\n",
      "\u001b[A\u001b[A\n",
      "\n",
      "\n",
      "\u001b[A\u001b[A\u001b[A\n",
      "\n",
      "\n",
      "\u001b[A\u001b[A\u001b[A\n",
      "\n",
      "\n",
      "rtf_avg: 0.012: 100%|\u001b[34m██████████\u001b[0m| 1/1 [00:00<00:00, 12.09it/s]\n",
      "\n",
      "\n",
      "rtf_avg: 0.013, time_speech:  6.840, time_escape: 0.089: 100%|\u001b[31m██████████\u001b[0m| 1/1 [00:00<00:00, 10.98it/s]\n"
     ]
    },
    {
     "name": "stdout",
     "output_type": "stream",
     "text": [
      "3888 天猫精灵现在中国最厉害的武器是什么？ f862acb4-4488-4a46-83e9-cfae6b129417.wav\n"
     ]
    },
    {
     "name": "stderr",
     "output_type": "stream",
     "text": [
      "\n",
      "\n",
      "\u001b[A\u001b[A\n",
      "\n",
      "\u001b[A\u001b[A\n",
      "\n",
      "rtf_avg: 0.008: 100%|\u001b[34m██████████\u001b[0m| 1/1 [00:00<00:00, 36.56it/s]\n",
      "\n",
      "\n",
      "\u001b[A\u001b[A\n",
      "\n",
      "\n",
      "\u001b[A\u001b[A\u001b[A\n",
      "\n",
      "\n",
      "\u001b[A\u001b[A\u001b[A\n",
      "\n",
      "\n",
      "rtf_avg: 0.030: 100%|\u001b[34m██████████\u001b[0m| 1/1 [00:00<00:00, 10.94it/s]\n",
      "\n",
      "\n",
      "\u001b[A\u001b[A\n",
      "\n",
      "rtf_avg: 0.034, time_speech:  2.967, time_escape: 0.099: 100%|\u001b[31m██████████\u001b[0m| 1/1 [00:00<00:00,  9.39it/s]\n"
     ]
    },
    {
     "name": "stdout",
     "output_type": "stream",
     "text": [
      "3889 我想看羊之道打开奇坤。 f88f91ec-bbb1-4be1-9e13-7ef370e8bf22.wav\n"
     ]
    },
    {
     "name": "stderr",
     "output_type": "stream",
     "text": [
      "\n",
      "\n",
      "\u001b[A\u001b[A\n",
      "\n",
      "\u001b[A\u001b[A\n",
      "\n",
      "rtf_avg: 0.005: 100%|\u001b[34m██████████\u001b[0m| 1/1 [00:00<00:00, 29.80it/s]\n",
      "\n",
      "\n",
      "\u001b[A\u001b[A\n",
      "\n",
      "\n",
      "\u001b[A\u001b[A\u001b[A\n",
      "\n",
      "\n",
      "\u001b[A\u001b[A\u001b[A\n",
      "\n",
      "\n",
      "rtf_avg: 0.014: 100%|\u001b[34m██████████\u001b[0m| 1/1 [00:00<00:00, 12.55it/s]\n",
      "\n",
      "\n",
      "rtf_avg: 0.014, time_speech:  5.880, time_escape: 0.084: 100%|\u001b[31m██████████\u001b[0m| 1/1 [00:00<00:00, 11.49it/s]\n"
     ]
    },
    {
     "name": "stdout",
     "output_type": "stream",
     "text": [
      "3890 天猫精灵播放贝乐虎儿歌，春天在哪里？ f8afc10e-e222-4911-acad-9313c6e8bc89.wav\n"
     ]
    },
    {
     "name": "stderr",
     "output_type": "stream",
     "text": [
      "\n",
      "\n",
      "\u001b[A\u001b[A\n",
      "\n",
      "\u001b[A\u001b[A\n",
      "\n",
      "rtf_avg: 0.007: 100%|\u001b[34m██████████\u001b[0m| 1/1 [00:00<00:00, 34.95it/s]\n",
      "\n",
      "\n",
      "\u001b[A\u001b[A\n",
      "\n",
      "\n",
      "\u001b[A\u001b[A\u001b[A\n",
      "\n",
      "\n",
      "\u001b[A\u001b[A\u001b[A\n",
      "\n",
      "\n",
      "rtf_avg: 0.023: 100%|\u001b[34m██████████\u001b[0m| 1/1 [00:00<00:00, 12.15it/s]\n",
      "\n",
      "\n",
      "rtf_avg: 0.024, time_speech:  3.650, time_escape: 0.088: 100%|\u001b[31m██████████\u001b[0m| 1/1 [00:00<00:00, 11.09it/s]\n"
     ]
    },
    {
     "name": "stdout",
     "output_type": "stream",
     "text": [
      "3891 天猫精灵来份外婆菜炒土鸡蛋。 f8d4c394-a6d3-4069-a86d-3b0c61515ec3.wav\n"
     ]
    },
    {
     "name": "stderr",
     "output_type": "stream",
     "text": [
      "\n",
      "\n",
      "\u001b[A\u001b[A\n",
      "\n",
      "\u001b[A\u001b[A\n",
      "\n",
      "rtf_avg: 0.006: 100%|\u001b[34m██████████\u001b[0m| 1/1 [00:00<00:00, 32.14it/s]\n",
      "\n",
      "\n",
      "\u001b[A\u001b[A\n",
      "\n",
      "\n",
      "\u001b[A\u001b[A\u001b[A\n",
      "\n",
      "\n",
      "\u001b[A\u001b[A\u001b[A\n",
      "\n",
      "\n",
      "rtf_avg: 0.024: 100%|\u001b[34m██████████\u001b[0m| 1/1 [00:00<00:00, 12.36it/s]\n",
      "\n",
      "\n",
      "rtf_avg: 0.018, time_speech:  4.740, time_escape: 0.087: 100%|\u001b[31m██████████\u001b[0m| 1/1 [00:00<00:00, 11.02it/s]\n"
     ]
    },
    {
     "name": "stdout",
     "output_type": "stream",
     "text": [
      "3892 我想听布衣乐队的好风。 f8dc071b-4e15-4106-ba9d-71541351e10a.wav\n"
     ]
    },
    {
     "name": "stderr",
     "output_type": "stream",
     "text": [
      "\n",
      "\n",
      "\u001b[A\u001b[A\n",
      "\n",
      "\u001b[A\u001b[A\n",
      "\n",
      "rtf_avg: 0.005: 100%|\u001b[34m██████████\u001b[0m| 1/1 [00:00<00:00, 27.48it/s]\n",
      "\n",
      "\n",
      "\u001b[A\u001b[A\n",
      "\n",
      "\n",
      "\u001b[A\u001b[A\u001b[A\n",
      "\n",
      "\n",
      "\u001b[A\u001b[A\u001b[A\n",
      "\n",
      "\n",
      "rtf_avg: 0.012: 100%|\u001b[34m██████████\u001b[0m| 1/1 [00:00<00:00, 11.67it/s]\n",
      "\n",
      "\n",
      "rtf_avg: 0.013, time_speech:  6.920, time_escape: 0.091: 100%|\u001b[31m██████████\u001b[0m| 1/1 [00:00<00:00, 10.77it/s]\n"
     ]
    },
    {
     "name": "stdout",
     "output_type": "stream",
     "text": [
      "3893 天猫精灵水浒传水浒传的作者是谁？ f8fa08f6-76e1-4f5e-8241-28a392325478.wav\n"
     ]
    },
    {
     "name": "stderr",
     "output_type": "stream",
     "text": [
      "\n",
      "\n",
      "\u001b[A\u001b[A\n",
      "\n",
      "\u001b[A\u001b[A\n",
      "\n",
      "rtf_avg: 0.007: 100%|\u001b[34m██████████\u001b[0m| 1/1 [00:00<00:00, 30.36it/s]\n",
      "\n",
      "\n",
      "\u001b[A\u001b[A\n",
      "\n",
      "\n",
      "\u001b[A\u001b[A\u001b[A\n",
      "\n",
      "\n",
      "\u001b[A\u001b[A\u001b[A\n",
      "\n",
      "\n",
      "rtf_avg: 0.059: 100%|\u001b[34m██████████\u001b[0m| 1/1 [00:00<00:00, 11.24it/s]\n",
      "\n",
      "\n",
      "rtf_avg: 0.023, time_speech:  4.133, time_escape: 0.096: 100%|\u001b[31m██████████\u001b[0m| 1/1 [00:00<00:00, 10.09it/s]\n"
     ]
    },
    {
     "name": "stdout",
     "output_type": "stream",
     "text": [
      "3894 一点更好的。 f8fabb74-0222-4fa9-b877-69ef20b25327.wav\n"
     ]
    },
    {
     "name": "stderr",
     "output_type": "stream",
     "text": [
      "\n",
      "\n",
      "\u001b[A\u001b[A\n",
      "\n",
      "\u001b[A\u001b[A\n",
      "\n",
      "rtf_avg: 0.009: 100%|\u001b[34m██████████\u001b[0m| 1/1 [00:00<00:00, 34.64it/s]\n",
      "\n",
      "\n",
      "\u001b[A\u001b[A\n",
      "\n",
      "\n",
      "\u001b[A\u001b[A\u001b[A\n",
      "\n",
      "\n",
      "\u001b[A\u001b[A\u001b[A\n",
      "\n",
      "\n",
      "rtf_avg: 0.026: 100%|\u001b[34m██████████\u001b[0m| 1/1 [00:00<00:00, 13.55it/s]\n",
      "\n",
      "\n",
      "rtf_avg: 0.029, time_speech:  2.700, time_escape: 0.079: 100%|\u001b[31m██████████\u001b[0m| 1/1 [00:00<00:00, 12.29it/s]\n"
     ]
    },
    {
     "name": "stdout",
     "output_type": "stream",
     "text": [
      "3895 要味香浓皮蛋瘦肉粥。 f8fdea07-1259-41f0-abfb-bb3d37c83a0a.wav\n"
     ]
    },
    {
     "name": "stderr",
     "output_type": "stream",
     "text": [
      "\n",
      "\n",
      "\u001b[A\u001b[A\n",
      "\n",
      "\u001b[A\u001b[A\n",
      "\n",
      "rtf_avg: 0.005: 100%|\u001b[34m██████████\u001b[0m| 1/1 [00:00<00:00, 32.88it/s]\n",
      "\n",
      "\n",
      "\u001b[A\u001b[A\n",
      "\n",
      "\n",
      "\u001b[A\u001b[A\u001b[A\n",
      "\n",
      "\n",
      "\u001b[A\u001b[A\u001b[A\n",
      "\n",
      "\n",
      "rtf_avg: 0.015: 100%|\u001b[34m██████████\u001b[0m| 1/1 [00:00<00:00, 12.47it/s]\n",
      "\n",
      "\n",
      "rtf_avg: 0.017, time_speech:  5.090, time_escape: 0.085: 100%|\u001b[31m██████████\u001b[0m| 1/1 [00:00<00:00, 11.34it/s]\n"
     ]
    },
    {
     "name": "stdout",
     "output_type": "stream",
     "text": [
      "3896 天猫精灵来碗热乎的皮蛋瘦肉粥吧。 f9031938-1257-4932-b3d4-f476627df953.wav\n"
     ]
    },
    {
     "name": "stderr",
     "output_type": "stream",
     "text": [
      "\n",
      "\n",
      "\u001b[A\u001b[A\n",
      "\n",
      "\u001b[A\u001b[A\n",
      "\n",
      "rtf_avg: 0.006: 100%|\u001b[34m██████████\u001b[0m| 1/1 [00:00<00:00, 32.73it/s]\n",
      "\n",
      "\n",
      "\u001b[A\u001b[A\n",
      "\n",
      "\n",
      "\u001b[A\u001b[A\u001b[A\n",
      "\n",
      "\n",
      "\u001b[A\u001b[A\u001b[A\n",
      "\n",
      "\n",
      "rtf_avg: 0.018: 100%|\u001b[34m██████████\u001b[0m| 1/1 [00:00<00:00, 11.19it/s]\n",
      "\n",
      "\n",
      "rtf_avg: 0.020, time_speech:  4.780, time_escape: 0.095: 100%|\u001b[31m██████████\u001b[0m| 1/1 [00:00<00:00, 10.12it/s]\n"
     ]
    },
    {
     "name": "stdout",
     "output_type": "stream",
     "text": [
      "3897 天猫精灵要分奶心皮蛋、瘦油粥吧。 f90ed86a-eb0c-492a-88dc-a4a90a628a63.wav\n"
     ]
    },
    {
     "name": "stderr",
     "output_type": "stream",
     "text": [
      "\n",
      "\n",
      "\u001b[A\u001b[A\n",
      "\n",
      "\u001b[A\u001b[A\n",
      "\n",
      "rtf_avg: 0.006: 100%|\u001b[34m██████████\u001b[0m| 1/1 [00:00<00:00, 32.38it/s]\n",
      "\n",
      "\n",
      "\u001b[A\u001b[A\n",
      "\n",
      "\n",
      "\u001b[A\u001b[A\u001b[A\n",
      "\n",
      "\n",
      "\u001b[A\u001b[A\u001b[A\n",
      "\n",
      "\n",
      "rtf_avg: 0.018: 100%|\u001b[34m██████████\u001b[0m| 1/1 [00:00<00:00, 11.96it/s]\n",
      "\n",
      "\n",
      "rtf_avg: 0.019, time_speech:  4.550, time_escape: 0.089: 100%|\u001b[31m██████████\u001b[0m| 1/1 [00:00<00:00, 10.90it/s]\n"
     ]
    },
    {
     "name": "stdout",
     "output_type": "stream",
     "text": [
      "3898 天猫精灵来份黄瓜炒蛋，清淡点就行。 f9243028-73d9-42bc-9490-05414862195a.wav\n"
     ]
    },
    {
     "name": "stderr",
     "output_type": "stream",
     "text": [
      "\n",
      "\n",
      "\u001b[A\u001b[A\n",
      "\n",
      "\u001b[A\u001b[A\n",
      "\n",
      "rtf_avg: 0.006: 100%|\u001b[34m██████████\u001b[0m| 1/1 [00:00<00:00, 33.01it/s]\n",
      "\n",
      "\n",
      "\u001b[A\u001b[A\n",
      "\n",
      "\n",
      "\u001b[A\u001b[A\u001b[A\n",
      "\n",
      "\n",
      "\u001b[A\u001b[A\u001b[A\n",
      "\n",
      "\n",
      "rtf_avg: 0.015: 100%|\u001b[34m██████████\u001b[0m| 1/1 [00:00<00:00, 12.74it/s]\n",
      "\n",
      "\n",
      "rtf_avg: 0.017, time_speech:  4.960, time_escape: 0.084: 100%|\u001b[31m██████████\u001b[0m| 1/1 [00:00<00:00, 11.55it/s]\n"
     ]
    },
    {
     "name": "stdout",
     "output_type": "stream",
     "text": [
      "3899 天猫精灵要碗沙月肉末的粥，乐乎的。 f9295109-4fdb-4225-9a40-bf1d802ae676.wav\n"
     ]
    },
    {
     "name": "stderr",
     "output_type": "stream",
     "text": [
      "\n",
      "\n",
      "\u001b[A\u001b[A\n",
      "\n",
      "\u001b[A\u001b[A\n",
      "\n",
      "rtf_avg: 0.005: 100%|\u001b[34m██████████\u001b[0m| 1/1 [00:00<00:00, 27.71it/s]\n",
      "\n",
      "\n",
      "\u001b[A\u001b[A\n",
      "\n",
      "\n",
      "\u001b[A\u001b[A\u001b[A\n",
      "\n",
      "\n",
      "\u001b[A\u001b[A\u001b[A\n",
      "\n",
      "\n",
      "rtf_avg: 0.012: 100%|\u001b[34m██████████\u001b[0m| 1/1 [00:00<00:00, 12.60it/s]\n",
      "\n",
      "\n",
      "rtf_avg: 0.014, time_speech:  6.260, time_escape: 0.086: 100%|\u001b[31m██████████\u001b[0m| 1/1 [00:00<00:00, 11.41it/s]\n"
     ]
    },
    {
     "name": "stdout",
     "output_type": "stream",
     "text": [
      "3900 天猫精灵播放周深的少还我。 f93733e5-0741-462e-870a-166377c3f7c7.wav\n"
     ]
    },
    {
     "name": "stderr",
     "output_type": "stream",
     "text": [
      "\n",
      "\n",
      "\u001b[A\u001b[A\n",
      "\n",
      "\u001b[A\u001b[A\n",
      "\n",
      "rtf_avg: 0.007: 100%|\u001b[34m██████████\u001b[0m| 1/1 [00:00<00:00, 37.95it/s]\n",
      "\n",
      "\n",
      "\u001b[A\u001b[A\n",
      "\n",
      "\n",
      "\u001b[A\u001b[A\u001b[A\n",
      "\n",
      "\n",
      "\u001b[A\u001b[A\u001b[A\n",
      "\n",
      "\n",
      "rtf_avg: 0.024: 100%|\u001b[34m██████████\u001b[0m| 1/1 [00:00<00:00, 12.03it/s]\n",
      "\n",
      "\n",
      "rtf_avg: 0.026, time_speech:  3.340, time_escape: 0.088: 100%|\u001b[31m██████████\u001b[0m| 1/1 [00:00<00:00, 10.96it/s]\n"
     ]
    },
    {
     "name": "stdout",
     "output_type": "stream",
     "text": [
      "3901 天猫精灵来份家常炒和菜吧。 f938da9a-e574-400f-be2e-8c9445ca2fea.wav\n"
     ]
    },
    {
     "name": "stderr",
     "output_type": "stream",
     "text": [
      "\n",
      "\n",
      "\u001b[A\u001b[A\n",
      "\n",
      "\u001b[A\u001b[A\n",
      "\n",
      "rtf_avg: 0.007: 100%|\u001b[34m██████████\u001b[0m| 1/1 [00:00<00:00, 36.92it/s]\n",
      "\n",
      "\n",
      "\u001b[A\u001b[A\n",
      "\n",
      "\n",
      "\u001b[A\u001b[A\u001b[A\n",
      "\n",
      "\n",
      "\u001b[A\u001b[A\u001b[A\n",
      "\n",
      "\n",
      "rtf_avg: 0.025: 100%|\u001b[34m██████████\u001b[0m| 1/1 [00:00<00:00, 11.76it/s]\n",
      "\n",
      "\n",
      "rtf_avg: 0.027, time_speech:  3.360, time_escape: 0.092: 100%|\u001b[31m██████████\u001b[0m| 1/1 [00:00<00:00, 10.79it/s]\n"
     ]
    },
    {
     "name": "stdout",
     "output_type": "stream",
     "text": [
      "3902 天猫精灵来玩南瓜小米甜舟吧。 f93dfe33-f33d-4fb9-805b-4588319c9254.wav\n"
     ]
    },
    {
     "name": "stderr",
     "output_type": "stream",
     "text": [
      "\n",
      "\n",
      "\u001b[A\u001b[A\n",
      "\n",
      "\u001b[A\u001b[A\n",
      "\n",
      "rtf_avg: 0.005: 100%|\u001b[34m██████████\u001b[0m| 1/1 [00:00<00:00, 29.01it/s]\n",
      "\n",
      "\n",
      "\u001b[A\u001b[A\n",
      "\n",
      "\n",
      "\u001b[A\u001b[A\u001b[A\n",
      "\n",
      "\n",
      "\u001b[A\u001b[A\u001b[A\n",
      "\n",
      "\n",
      "rtf_avg: 0.017: 100%|\u001b[34m██████████\u001b[0m| 1/1 [00:00<00:00, 10.04it/s]\n",
      "\n",
      "\n",
      "\u001b[A\u001b[A\n",
      "\n",
      "rtf_avg: 0.017, time_speech:  6.160, time_escape: 0.104: 100%|\u001b[31m██████████\u001b[0m| 1/1 [00:00<00:00,  9.25it/s]\n"
     ]
    },
    {
     "name": "stdout",
     "output_type": "stream",
     "text": [
      "3903 下午天猫精灵，我每天下午几点打针？ f93e2ff9-712f-4739-88d9-e42353ec8bf3.wav\n"
     ]
    },
    {
     "name": "stderr",
     "output_type": "stream",
     "text": [
      "\n",
      "\n",
      "\u001b[A\u001b[A\n",
      "\n",
      "\u001b[A\u001b[A\n",
      "\n",
      "rtf_avg: 0.007: 100%|\u001b[34m██████████\u001b[0m| 1/1 [00:00<00:00, 38.19it/s]\n",
      "\n",
      "\n",
      "\u001b[A\u001b[A\n",
      "\n",
      "\n",
      "\u001b[A\u001b[A\u001b[A\n",
      "\n",
      "\n",
      "\u001b[A\u001b[A\u001b[A\n",
      "\n",
      "\n",
      "rtf_avg: 0.025: 100%|\u001b[34m██████████\u001b[0m| 1/1 [00:00<00:00, 13.01it/s]\n",
      "\n",
      "\n",
      "rtf_avg: 0.026, time_speech:  3.130, time_escape: 0.083: 100%|\u001b[31m██████████\u001b[0m| 1/1 [00:00<00:00, 11.73it/s]\n"
     ]
    },
    {
     "name": "stdout",
     "output_type": "stream",
     "text": [
      "3904 天猫精灵来点家常便饭吧。 f954440d-19ca-49ad-b98c-44fbd22a3ee3.wav\n"
     ]
    },
    {
     "name": "stderr",
     "output_type": "stream",
     "text": [
      "\n",
      "\n",
      "\u001b[A\u001b[A\n",
      "\n",
      "\u001b[A\u001b[A\n",
      "\n",
      "rtf_avg: 0.008: 100%|\u001b[34m██████████\u001b[0m| 1/1 [00:00<00:00, 35.54it/s]\n",
      "\n",
      "\n",
      "\u001b[A\u001b[A\n",
      "\n",
      "\n",
      "\u001b[A\u001b[A\u001b[A\n",
      "\n",
      "\n",
      "\u001b[A\u001b[A\u001b[A\n",
      "\n",
      "\n",
      "rtf_avg: 0.029: 100%|\u001b[34m██████████\u001b[0m| 1/1 [00:00<00:00, 13.11it/s]\n",
      "\n",
      "\n",
      "rtf_avg: 0.028, time_speech:  2.933, time_escape: 0.081: 100%|\u001b[31m██████████\u001b[0m| 1/1 [00:00<00:00, 11.71it/s]\n"
     ]
    },
    {
     "name": "stdout",
     "output_type": "stream",
     "text": [
      "3905 🎼双臂跳平几的信练怎么做？ f9583ac2-349a-4c02-884a-3ec23c638451.wav\n"
     ]
    },
    {
     "name": "stderr",
     "output_type": "stream",
     "text": [
      "\n",
      "\n",
      "\u001b[A\u001b[A\n",
      "\n",
      "\u001b[A\u001b[A\n",
      "\n",
      "rtf_avg: 0.006: 100%|\u001b[34m██████████\u001b[0m| 1/1 [00:00<00:00, 37.10it/s]\n",
      "\n",
      "\n",
      "\u001b[A\u001b[A\n",
      "\n",
      "\n",
      "\u001b[A\u001b[A\u001b[A\n",
      "\n",
      "\n",
      "\u001b[A\u001b[A\u001b[A\n",
      "\n",
      "\n",
      "rtf_avg: 0.023: 100%|\u001b[34m██████████\u001b[0m| 1/1 [00:00<00:00, 11.23it/s]\n",
      "\n",
      "\n",
      "rtf_avg: 0.025, time_speech:  3.790, time_escape: 0.094: 100%|\u001b[31m██████████\u001b[0m| 1/1 [00:00<00:00, 10.26it/s]\n"
     ]
    },
    {
     "name": "stdout",
     "output_type": "stream",
     "text": [
      "3906 天猫精灵要分招牌皮蛋收揉揉肘。 f97b0260-4b5a-49f8-86aa-92f09e5eacdd.wav\n"
     ]
    },
    {
     "name": "stderr",
     "output_type": "stream",
     "text": [
      "\n",
      "\n",
      "\u001b[A\u001b[A\n",
      "\n",
      "\u001b[A\u001b[A\n",
      "\n",
      "rtf_avg: 0.007: 100%|\u001b[34m██████████\u001b[0m| 1/1 [00:00<00:00, 36.60it/s]\n",
      "\n",
      "\n",
      "\u001b[A\u001b[A\n",
      "\n",
      "\n",
      "\u001b[A\u001b[A\u001b[A\n",
      "\n",
      "\n",
      "\u001b[A\u001b[A\u001b[A\n",
      "\n",
      "\n",
      "rtf_avg: 0.025: 100%|\u001b[34m██████████\u001b[0m| 1/1 [00:00<00:00, 11.89it/s]\n",
      "\n",
      "\n",
      "rtf_avg: 0.027, time_speech:  3.310, time_escape: 0.089: 100%|\u001b[31m██████████\u001b[0m| 1/1 [00:00<00:00, 10.97it/s]\n"
     ]
    },
    {
     "name": "stdout",
     "output_type": "stream",
     "text": [
      "3907 来碗红枣荔枝养胃粥吧。 f97ca886-166b-4687-a4c1-f65d79857445.wav\n"
     ]
    },
    {
     "name": "stderr",
     "output_type": "stream",
     "text": [
      "\n",
      "\n",
      "\u001b[A\u001b[A\n",
      "\n",
      "\u001b[A\u001b[A\n",
      "\n",
      "rtf_avg: 0.006: 100%|\u001b[34m██████████\u001b[0m| 1/1 [00:00<00:00, 35.45it/s]\n",
      "\n",
      "\n",
      "\u001b[A\u001b[A\n",
      "\n",
      "\n",
      "\u001b[A\u001b[A\u001b[A\n",
      "\n",
      "\n",
      "\u001b[A\u001b[A\u001b[A\n",
      "\n",
      "\n",
      "rtf_avg: 0.022: 100%|\u001b[34m██████████\u001b[0m| 1/1 [00:00<00:00, 11.47it/s]\n",
      "\n",
      "\n",
      "rtf_avg: 0.024, time_speech:  3.790, time_escape: 0.092: 100%|\u001b[31m██████████\u001b[0m| 1/1 [00:00<00:00, 10.51it/s]\n"
     ]
    },
    {
     "name": "stdout",
     "output_type": "stream",
     "text": [
      "3908 天猫精灵来碗香浓皮蛋瘦肉粥吧。 f989b3ab-7ad2-4eb1-841a-0b0d37dd4b53.wav\n"
     ]
    },
    {
     "name": "stderr",
     "output_type": "stream",
     "text": [
      "\n",
      "\n",
      "\u001b[A\u001b[A\n",
      "\n",
      "\u001b[A\u001b[A\n",
      "\n",
      "rtf_avg: 0.005: 100%|\u001b[34m██████████\u001b[0m| 1/1 [00:00<00:00, 29.93it/s]\n",
      "\n",
      "\n",
      "\u001b[A\u001b[A\n",
      "\n",
      "\n",
      "\u001b[A\u001b[A\u001b[A\n",
      "\n",
      "\n",
      "\u001b[A\u001b[A\u001b[A\n",
      "\n",
      "\n",
      "rtf_avg: 0.025: 100%|\u001b[34m██████████\u001b[0m| 1/1 [00:00<00:00, 13.72it/s]\n",
      "\n",
      "\n",
      "rtf_avg: 0.013, time_speech:  5.880, time_escape: 0.079: 100%|\u001b[31m██████████\u001b[0m| 1/1 [00:00<00:00, 12.26it/s]\n"
     ]
    },
    {
     "name": "stdout",
     "output_type": "stream",
     "text": [
      "3909 请播放小猪佩奇的歌。😊 f98bc865-c445-444c-b684-17ad6830e249.wav\n"
     ]
    },
    {
     "name": "stderr",
     "output_type": "stream",
     "text": [
      "\n",
      "\n",
      "\u001b[A\u001b[A\n",
      "\n",
      "\u001b[A\u001b[A\n",
      "\n",
      "rtf_avg: 0.005: 100%|\u001b[34m██████████\u001b[0m| 1/1 [00:00<00:00, 28.06it/s]\n",
      "\n",
      "\n",
      "\u001b[A\u001b[A\n",
      "\n",
      "\n",
      "\u001b[A\u001b[A\u001b[A\n",
      "\n",
      "\n",
      "\u001b[A\u001b[A\u001b[A\n",
      "\n",
      "\n",
      "rtf_avg: 0.011: 100%|\u001b[34m██████████\u001b[0m| 1/1 [00:00<00:00, 13.07it/s]\n",
      "\n",
      "\n",
      "rtf_avg: 0.012, time_speech:  6.600, time_escape: 0.081: 100%|\u001b[31m██████████\u001b[0m| 1/1 [00:00<00:00, 11.88it/s]\n"
     ]
    },
    {
     "name": "stdout",
     "output_type": "stream",
     "text": [
      "3910 天猫精不用你的时候是不是需要断开电源？ f9ae152b-1747-4689-beaf-5ced81653895.wav\n"
     ]
    },
    {
     "name": "stderr",
     "output_type": "stream",
     "text": [
      "\n",
      "\n",
      "\u001b[A\u001b[A\n",
      "\n",
      "\u001b[A\u001b[A\n",
      "\n",
      "rtf_avg: 0.009: 100%|\u001b[34m██████████\u001b[0m| 1/1 [00:00<00:00, 23.45it/s]\n",
      "\n",
      "\n",
      "\u001b[A\u001b[A\n",
      "\n",
      "\n",
      "\u001b[A\u001b[A\u001b[A\n",
      "\n",
      "\n",
      "\u001b[A\u001b[A\u001b[A\n",
      "\n",
      "\n",
      "rtf_avg: 0.020: 100%|\u001b[34m██████████\u001b[0m| 1/1 [00:00<00:00, 11.53it/s]\n",
      "\n",
      "\n",
      "rtf_avg: 0.023, time_speech:  4.090, time_escape: 0.094: 100%|\u001b[31m██████████\u001b[0m| 1/1 [00:00<00:00, 10.32it/s]\n"
     ]
    },
    {
     "name": "stdout",
     "output_type": "stream",
     "text": [
      "3911 天猫精灵来板红枣黑米养生粥吧。 f9b529ae-fe3a-4b17-b178-dd9abf63c3ab.wav\n"
     ]
    },
    {
     "name": "stderr",
     "output_type": "stream",
     "text": [
      "\n",
      "\n",
      "\u001b[A\u001b[A\n",
      "\n",
      "\u001b[A\u001b[A\n",
      "\n",
      "rtf_avg: 0.007: 100%|\u001b[34m██████████\u001b[0m| 1/1 [00:00<00:00, 39.53it/s]\n",
      "\n",
      "\n",
      "\u001b[A\u001b[A\n",
      "\n",
      "\n",
      "\u001b[A\u001b[A\u001b[A\n",
      "\n",
      "\n",
      "\u001b[A\u001b[A\u001b[A\n",
      "\n",
      "\n",
      "rtf_avg: 0.025: 100%|\u001b[34m██████████\u001b[0m| 1/1 [00:00<00:00, 13.57it/s]\n",
      "\n",
      "\n",
      "rtf_avg: 0.027, time_speech:  2.990, time_escape: 0.080: 100%|\u001b[31m██████████\u001b[0m| 1/1 [00:00<00:00, 12.39it/s]\n"
     ]
    },
    {
     "name": "stdout",
     "output_type": "stream",
     "text": [
      "3912 要不青菜肉末都热乎的。 f9c9e091-a79d-4632-ac87-95bf9309361e.wav\n"
     ]
    },
    {
     "name": "stderr",
     "output_type": "stream",
     "text": [
      "\n",
      "\n",
      "\u001b[A\u001b[A\n",
      "\n",
      "\u001b[A\u001b[A\n",
      "\n",
      "rtf_avg: 0.007: 100%|\u001b[34m██████████\u001b[0m| 1/1 [00:00<00:00, 37.04it/s]\n",
      "\n",
      "\n",
      "\u001b[A\u001b[A\n",
      "\n",
      "\n",
      "\u001b[A\u001b[A\u001b[A\n",
      "\n",
      "\n",
      "\u001b[A\u001b[A\u001b[A\n",
      "\n",
      "\n",
      "rtf_avg: 0.024: 100%|\u001b[34m██████████\u001b[0m| 1/1 [00:00<00:00, 13.20it/s]\n",
      "\n",
      "\n",
      "rtf_avg: 0.025, time_speech:  3.210, time_escape: 0.081: 100%|\u001b[31m██████████\u001b[0m| 1/1 [00:00<00:00, 11.89it/s]\n"
     ]
    },
    {
     "name": "stdout",
     "output_type": "stream",
     "text": [
      "3913 来份南瓜小米养胃粥吧。 f9cf68c1-35fa-4535-aace-04b01222ce65.wav\n"
     ]
    },
    {
     "name": "stderr",
     "output_type": "stream",
     "text": [
      "\n",
      "\n",
      "\u001b[A\u001b[A\n",
      "\n",
      "\u001b[A\u001b[A\n",
      "\n",
      "rtf_avg: 0.008: 100%|\u001b[34m██████████\u001b[0m| 1/1 [00:00<00:00, 39.49it/s]\n",
      "\n",
      "\n",
      "\u001b[A\u001b[A\n",
      "\n",
      "\n",
      "\u001b[A\u001b[A\u001b[A\n",
      "\n",
      "\n",
      "\u001b[A\u001b[A\u001b[A\n",
      "\n",
      "\n",
      "rtf_avg: 0.033: 100%|\u001b[34m██████████\u001b[0m| 1/1 [00:00<00:00, 12.47it/s]\n",
      "\n",
      "\n",
      "rtf_avg: 0.034, time_speech:  2.470, time_escape: 0.085: 100%|\u001b[31m██████████\u001b[0m| 1/1 [00:00<00:00, 11.34it/s]\n"
     ]
    },
    {
     "name": "stdout",
     "output_type": "stream",
     "text": [
      "3914 来会山药排骨汤吧。 f9f0cd6c-9cb4-4de0-bf09-9a0378eb21ea.wav\n"
     ]
    },
    {
     "name": "stderr",
     "output_type": "stream",
     "text": [
      "\n",
      "\n",
      "\u001b[A\u001b[A\n",
      "\n",
      "\u001b[A\u001b[A\n",
      "\n",
      "rtf_avg: 0.008: 100%|\u001b[34m██████████\u001b[0m| 1/1 [00:00<00:00, 41.47it/s]\n",
      "\n",
      "\n",
      "\u001b[A\u001b[A\n",
      "\n",
      "\n",
      "\u001b[A\u001b[A\u001b[A\n",
      "\n",
      "\n",
      "\u001b[A\u001b[A\u001b[A\n",
      "\n",
      "\n",
      "rtf_avg: 0.034: 100%|\u001b[34m██████████\u001b[0m| 1/1 [00:00<00:00, 12.57it/s]\n",
      "\n",
      "\n",
      "rtf_avg: 0.036, time_speech:  2.380, time_escape: 0.085: 100%|\u001b[31m██████████\u001b[0m| 1/1 [00:00<00:00, 11.48it/s]\n"
     ]
    },
    {
     "name": "stdout",
     "output_type": "stream",
     "text": [
      "3915 木耳炒蛋来一份。 f9faaa00-4af1-44f6-8f1a-d77228e2f88d.wav\n"
     ]
    },
    {
     "name": "stderr",
     "output_type": "stream",
     "text": [
      "\n",
      "\n",
      "\u001b[A\u001b[A\n",
      "\n",
      "\u001b[A\u001b[A\n",
      "\n",
      "rtf_avg: 0.006: 100%|\u001b[34m██████████\u001b[0m| 1/1 [00:00<00:00, 31.58it/s]\n",
      "\n",
      "\n",
      "\u001b[A\u001b[A\n",
      "\n",
      "\n",
      "\u001b[A\u001b[A\u001b[A\n",
      "\n",
      "\n",
      "\u001b[A\u001b[A\u001b[A\n",
      "\n",
      "\n",
      "rtf_avg: 0.019: 100%|\u001b[34m██████████\u001b[0m| 1/1 [00:00<00:00, 10.17it/s]\n",
      "\n",
      "\n",
      "\u001b[A\u001b[A\n",
      "\n",
      "rtf_avg: 0.021, time_speech:  5.000, time_escape: 0.104: 100%|\u001b[31m██████████\u001b[0m| 1/1 [00:00<00:00,  9.26it/s]\n"
     ]
    },
    {
     "name": "stdout",
     "output_type": "stream",
     "text": [
      "3916 天猫精灵让天猫精灵休息一会儿，已经听了一个多小时了啊。 fa04e7d0-5175-4b4f-9065-44113be98af9.wav\n"
     ]
    },
    {
     "name": "stderr",
     "output_type": "stream",
     "text": [
      "\n",
      "\n",
      "\u001b[A\u001b[A\n",
      "\n",
      "\u001b[A\u001b[A\n",
      "\n",
      "rtf_avg: 0.005: 100%|\u001b[34m██████████\u001b[0m| 1/1 [00:00<00:00, 27.79it/s]\n",
      "\n",
      "\n",
      "\u001b[A\u001b[A\n",
      "\n",
      "\n",
      "\u001b[A\u001b[A\u001b[A\n",
      "\n",
      "\n",
      "\u001b[A\u001b[A\u001b[A\n",
      "\n",
      "\n",
      "rtf_avg: 0.012: 100%|\u001b[34m██████████\u001b[0m| 1/1 [00:00<00:00, 11.53it/s]\n",
      "\n",
      "\n",
      "rtf_avg: 0.013, time_speech:  6.840, time_escape: 0.092: 100%|\u001b[31m██████████\u001b[0m| 1/1 [00:00<00:00, 10.55it/s]\n"
     ]
    },
    {
     "name": "stdout",
     "output_type": "stream",
     "text": [
      "3917 天猫精灵呀，500减29，再加5等于1。😊 fa0b90a5-6fba-4181-9f41-b9ab4dd24804.wav\n"
     ]
    },
    {
     "name": "stderr",
     "output_type": "stream",
     "text": [
      "\n",
      "\n",
      "\u001b[A\u001b[A\n",
      "\n",
      "\u001b[A\u001b[A\n",
      "\n",
      "rtf_avg: 0.006: 100%|\u001b[34m██████████\u001b[0m| 1/1 [00:00<00:00, 35.54it/s]\n",
      "\n",
      "\n",
      "\u001b[A\u001b[A\n",
      "\n",
      "\n",
      "\u001b[A\u001b[A\u001b[A\n",
      "\n",
      "\n",
      "\u001b[A\u001b[A\u001b[A\n",
      "\n",
      "\n",
      "rtf_avg: 0.020: 100%|\u001b[34m██████████\u001b[0m| 1/1 [00:00<00:00, 11.61it/s]\n",
      "\n",
      "\n",
      "rtf_avg: 0.022, time_speech:  4.240, time_escape: 0.091: 100%|\u001b[31m██████████\u001b[0m| 1/1 [00:00<00:00, 10.71it/s]\n"
     ]
    },
    {
     "name": "stdout",
     "output_type": "stream",
     "text": [
      "3918 天猫精灵要份米子老虎皮蛋瘦肉粥不？ fa1b872c-6f54-4405-b480-6850e15a97ab.wav\n"
     ]
    },
    {
     "name": "stderr",
     "output_type": "stream",
     "text": [
      "\n",
      "\n",
      "\u001b[A\u001b[A\n",
      "\n",
      "\u001b[A\u001b[A\n",
      "\n",
      "rtf_avg: 0.007: 100%|\u001b[34m██████████\u001b[0m| 1/1 [00:00<00:00, 31.91it/s]\n",
      "\n",
      "\n",
      "\u001b[A\u001b[A\n",
      "\n",
      "\n",
      "\u001b[A\u001b[A\u001b[A\n",
      "\n",
      "\n",
      "\u001b[A\u001b[A\u001b[A\n",
      "\n",
      "\n",
      "rtf_avg: 0.023: 100%|\u001b[34m██████████\u001b[0m| 1/1 [00:00<00:00, 11.65it/s]\n",
      "\n",
      "\n",
      "rtf_avg: 0.025, time_speech:  3.650, time_escape: 0.092: 100%|\u001b[31m██████████\u001b[0m| 1/1 [00:00<00:00, 10.53it/s]\n"
     ]
    },
    {
     "name": "stdout",
     "output_type": "stream",
     "text": [
      "3919 天猫精灵点个手撕包菜过场尝。 fa1b9f26-ceaf-4282-9053-48bcf09d899d.wav\n"
     ]
    },
    {
     "name": "stderr",
     "output_type": "stream",
     "text": [
      "\n",
      "\n",
      "\u001b[A\u001b[A\n",
      "\n",
      "\u001b[A\u001b[A\n",
      "\n",
      "rtf_avg: 0.006: 100%|\u001b[34m██████████\u001b[0m| 1/1 [00:00<00:00, 32.30it/s]\n",
      "\n",
      "\n",
      "\u001b[A\u001b[A\n",
      "\n",
      "\n",
      "\u001b[A\u001b[A\u001b[A\n",
      "\n",
      "\n",
      "\u001b[A\u001b[A\u001b[A\n",
      "\n",
      "\n",
      "rtf_avg: 0.016: 100%|\u001b[34m██████████\u001b[0m| 1/1 [00:00<00:00, 12.67it/s]\n",
      "\n",
      "\n",
      "rtf_avg: 0.018, time_speech:  4.740, time_escape: 0.083: 100%|\u001b[31m██████████\u001b[0m| 1/1 [00:00<00:00, 11.75it/s]\n"
     ]
    },
    {
     "name": "stdout",
     "output_type": "stream",
     "text": [
      "3920 天猫精灵要个油豆腐粉丝包吧。 fa29b129-4634-458e-9e72-79614689bb58.wav\n"
     ]
    },
    {
     "name": "stderr",
     "output_type": "stream",
     "text": [
      "\n",
      "\n",
      "\u001b[A\u001b[A\n",
      "\n",
      "\u001b[A\u001b[A\n",
      "\n",
      "rtf_avg: 0.005: 100%|\u001b[34m██████████\u001b[0m| 1/1 [00:00<00:00, 27.86it/s]\n",
      "\n",
      "\n",
      "\u001b[A\u001b[A\n",
      "\n",
      "\n",
      "\u001b[A\u001b[A\u001b[A\n",
      "\n",
      "\n",
      "\u001b[A\u001b[A\u001b[A\n",
      "\n",
      "\n",
      "rtf_avg: 0.011: 100%|\u001b[34m██████████\u001b[0m| 1/1 [00:00<00:00, 13.04it/s]\n",
      "\n",
      "\n",
      "rtf_avg: 0.012, time_speech:  6.700, time_escape: 0.083: 100%|\u001b[31m██████████\u001b[0m| 1/1 [00:00<00:00, 11.65it/s]\n"
     ]
    },
    {
     "name": "stdout",
     "output_type": "stream",
     "text": [
      "3921 天猫精灵765加156。 fa38103d-309c-4e35-91ac-961e00697e3f.wav\n"
     ]
    },
    {
     "name": "stderr",
     "output_type": "stream",
     "text": [
      "\n",
      "\n",
      "\u001b[A\u001b[A\n",
      "\n",
      "\u001b[A\u001b[A\n",
      "\n",
      "rtf_avg: 0.007: 100%|\u001b[34m██████████\u001b[0m| 1/1 [00:00<00:00, 33.19it/s]\n",
      "\n",
      "\n",
      "\u001b[A\u001b[A\n",
      "\n",
      "\n",
      "\u001b[A\u001b[A\u001b[A\n",
      "\n",
      "\n",
      "\u001b[A\u001b[A\u001b[A\n",
      "\n",
      "\n",
      "rtf_avg: 0.023: 100%|\u001b[34m██████████\u001b[0m| 1/1 [00:00<00:00, 11.58it/s]\n",
      "\n",
      "\n",
      "rtf_avg: 0.024, time_speech:  3.860, time_escape: 0.092: 100%|\u001b[31m██████████\u001b[0m| 1/1 [00:00<00:00, 10.63it/s]\n"
     ]
    },
    {
     "name": "stdout",
     "output_type": "stream",
     "text": [
      "3922 要份西红柿蛋汤，里头搁间紫菜。 fa471544-015b-43d8-8b6c-056c48298a0a.wav\n"
     ]
    },
    {
     "name": "stderr",
     "output_type": "stream",
     "text": [
      "\n",
      "\n",
      "\u001b[A\u001b[A\n",
      "\n",
      "\u001b[A\u001b[A\n",
      "\n",
      "rtf_avg: 0.007: 100%|\u001b[34m██████████\u001b[0m| 1/1 [00:00<00:00, 36.17it/s]\n",
      "\n",
      "\n",
      "\u001b[A\u001b[A\n",
      "\n",
      "\n",
      "\u001b[A\u001b[A\u001b[A\n",
      "\n",
      "\n",
      "\u001b[A\u001b[A\u001b[A\n",
      "\n",
      "\n",
      "rtf_avg: 0.025: 100%|\u001b[34m██████████\u001b[0m| 1/1 [00:00<00:00, 12.26it/s]\n",
      "\n",
      "\n",
      "rtf_avg: 0.026, time_speech:  3.350, time_escape: 0.087: 100%|\u001b[31m██████████\u001b[0m| 1/1 [00:00<00:00, 11.10it/s]\n"
     ]
    },
    {
     "name": "stdout",
     "output_type": "stream",
     "text": [
      "3923 来碗青菜豆腐热汤吧。 fa50125e-441d-4a91-bf28-d3bd2443b4d8.wav\n"
     ]
    },
    {
     "name": "stderr",
     "output_type": "stream",
     "text": [
      "\n",
      "\n",
      "\u001b[A\u001b[A\n",
      "\n",
      "\u001b[A\u001b[A\n",
      "\n",
      "rtf_avg: 0.007: 100%|\u001b[34m██████████\u001b[0m| 1/1 [00:00<00:00, 40.57it/s]\n",
      "\n",
      "\n",
      "\u001b[A\u001b[A\n",
      "\n",
      "\n",
      "\u001b[A\u001b[A\u001b[A\n",
      "\n",
      "\n",
      "\u001b[A\u001b[A\u001b[A\n",
      "\n",
      "\n",
      "rtf_avg: 0.026: 100%|\u001b[34m██████████\u001b[0m| 1/1 [00:00<00:00, 12.70it/s]\n",
      "\n",
      "\n",
      "rtf_avg: 0.028, time_speech:  3.020, time_escape: 0.084: 100%|\u001b[31m██████████\u001b[0m| 1/1 [00:00<00:00, 11.58it/s]\n"
     ]
    },
    {
     "name": "stdout",
     "output_type": "stream",
     "text": [
      "3924 来碗热乎的无糖紫米粥吧。 fa56f716-bbd5-4f0a-85d1-e08c7e4ac064.wav\n"
     ]
    },
    {
     "name": "stderr",
     "output_type": "stream",
     "text": [
      "\n",
      "\n",
      "\u001b[A\u001b[A\n",
      "\n",
      "\u001b[A\u001b[A\n",
      "\n",
      "rtf_avg: 0.005: 100%|\u001b[34m██████████\u001b[0m| 1/1 [00:00<00:00, 29.10it/s]\n",
      "\n",
      "\n",
      "\u001b[A\u001b[A\n",
      "\n",
      "\n",
      "\u001b[A\u001b[A\u001b[A\n",
      "\n",
      "\n",
      "\u001b[A\u001b[A\u001b[A\n",
      "\n",
      "\n",
      "rtf_avg: 0.012: 100%|\u001b[34m██████████\u001b[0m| 1/1 [00:00<00:00, 12.29it/s]\n",
      "\n",
      "\n",
      "rtf_avg: 0.013, time_speech:  6.420, time_escape: 0.086: 100%|\u001b[31m██████████\u001b[0m| 1/1 [00:00<00:00, 11.18it/s]\n"
     ]
    },
    {
     "name": "stdout",
     "output_type": "stream",
     "text": [
      "3925 天猫精灵刘洋洋的人间半主。 fa5c9e57-ccdb-4783-a4ff-378a2a9e3cdb.wav\n"
     ]
    },
    {
     "name": "stderr",
     "output_type": "stream",
     "text": [
      "\n",
      "\n",
      "\u001b[A\u001b[A\n",
      "\n",
      "\u001b[A\u001b[A\n",
      "\n",
      "rtf_avg: 0.005: 100%|\u001b[34m██████████\u001b[0m| 1/1 [00:00<00:00, 28.50it/s]\n",
      "\n",
      "\n",
      "\u001b[A\u001b[A\n",
      "\n",
      "\n",
      "\u001b[A\u001b[A\u001b[A\n",
      "\n",
      "\n",
      "\u001b[A\u001b[A\u001b[A\n",
      "\n",
      "\n",
      "rtf_avg: 0.013: 100%|\u001b[34m██████████\u001b[0m| 1/1 [00:00<00:00, 12.57it/s]\n",
      "\n",
      "\n",
      "rtf_avg: 0.014, time_speech:  6.040, time_escape: 0.085: 100%|\u001b[31m██████████\u001b[0m| 1/1 [00:00<00:00, 11.49it/s]\n"
     ]
    },
    {
     "name": "stdout",
     "output_type": "stream",
     "text": [
      "3926 天猫精灵368乘2等于多少？ fa608571-8206-4f60-8761-c8698460208f.wav\n"
     ]
    },
    {
     "name": "stderr",
     "output_type": "stream",
     "text": [
      "\n",
      "\n",
      "\u001b[A\u001b[A\n",
      "\n",
      "\u001b[A\u001b[A\n",
      "\n",
      "rtf_avg: 0.005: 100%|\u001b[34m██████████\u001b[0m| 1/1 [00:00<00:00, 34.45it/s]\n",
      "\n",
      "\n",
      "\u001b[A\u001b[A\n",
      "\n",
      "\n",
      "\u001b[A\u001b[A\u001b[A\n",
      "\n",
      "\n",
      "\u001b[A\u001b[A\u001b[A\n",
      "\n",
      "\n",
      "rtf_avg: 0.017: 100%|\u001b[34m██████████\u001b[0m| 1/1 [00:00<00:00, 12.13it/s]\n",
      "\n",
      "\n",
      "rtf_avg: 0.018, time_speech:  4.780, time_escape: 0.088: 100%|\u001b[31m██████████\u001b[0m| 1/1 [00:00<00:00, 11.09it/s]\n"
     ]
    },
    {
     "name": "stdout",
     "output_type": "stream",
     "text": [
      "3927 天猫精灵来碗红枣小米南瓜粥，养养胃。 fa6a889f-c96c-43f2-80ef-6feebad683d1.wav\n"
     ]
    },
    {
     "name": "stderr",
     "output_type": "stream",
     "text": [
      "\n",
      "\n",
      "\u001b[A\u001b[A\n",
      "\n",
      "\u001b[A\u001b[A\n",
      "\n",
      "rtf_avg: 0.005: 100%|\u001b[34m██████████\u001b[0m| 1/1 [00:00<00:00, 30.54it/s]\n",
      "\n",
      "\n",
      "\u001b[A\u001b[A\n",
      "\n",
      "\n",
      "\u001b[A\u001b[A\u001b[A\n",
      "\n",
      "\n",
      "\u001b[A\u001b[A\u001b[A\n",
      "\n",
      "\n",
      "rtf_avg: 0.013: 100%|\u001b[34m██████████\u001b[0m| 1/1 [00:00<00:00, 11.19it/s]\n",
      "\n",
      "\n",
      "rtf_avg: 0.015, time_speech:  6.320, time_escape: 0.094: 100%|\u001b[31m██████████\u001b[0m| 1/1 [00:00<00:00, 10.32it/s]\n"
     ]
    },
    {
     "name": "stdout",
     "output_type": "stream",
     "text": [
      "3928 天猫精灵，你不偷，你被房子砸死你。😊 fa6acd68-e105-4946-b0ec-435e03acb3d1.wav\n"
     ]
    },
    {
     "name": "stderr",
     "output_type": "stream",
     "text": [
      "\n",
      "\n",
      "\u001b[A\u001b[A\n",
      "\n",
      "\u001b[A\u001b[A\n",
      "\n",
      "rtf_avg: 0.007: 100%|\u001b[34m██████████\u001b[0m| 1/1 [00:00<00:00, 18.53it/s]\n",
      "\n",
      "\n",
      "\u001b[A\u001b[A\n",
      "\n",
      "\n",
      "\u001b[A\u001b[A\u001b[A\n",
      "\n",
      "\n",
      "\u001b[A\u001b[A\u001b[A\n",
      "\n",
      "\n",
      "rtf_avg: 0.010: 100%|\u001b[34m██████████\u001b[0m| 1/1 [00:00<00:00, 14.68it/s]\n",
      "\n",
      "\n",
      "rtf_avg: 0.011, time_speech:  6.700, time_escape: 0.075: 100%|\u001b[31m██████████\u001b[0m| 1/1 [00:00<00:00, 12.80it/s]\n"
     ]
    },
    {
     "name": "stdout",
     "output_type": "stream",
     "text": [
      "3929 天猫精灵101加336加2等于。 fa6f0de2-c570-4521-9818-b8fbf15ad8b5.wav\n"
     ]
    },
    {
     "name": "stderr",
     "output_type": "stream",
     "text": [
      "\n",
      "\n",
      "\u001b[A\u001b[A\n",
      "\n",
      "\u001b[A\u001b[A\n",
      "\n",
      "rtf_avg: 0.009: 100%|\u001b[34m██████████\u001b[0m| 1/1 [00:00<00:00, 37.20it/s]\n",
      "\n",
      "\n",
      "\u001b[A\u001b[A\n",
      "\n",
      "\n",
      "\u001b[A\u001b[A\u001b[A\n",
      "\n",
      "\n",
      "\u001b[A\u001b[A\u001b[A\n",
      "\n",
      "\n",
      "rtf_avg: 0.075: 100%|\u001b[34m██████████\u001b[0m| 1/1 [00:00<00:00, 12.37it/s]\n",
      "\n",
      "\n",
      "rtf_avg: 0.033, time_speech:  2.587, time_escape: 0.086: 100%|\u001b[31m██████████\u001b[0m| 1/1 [00:00<00:00, 11.23it/s]\n"
     ]
    },
    {
     "name": "stdout",
     "output_type": "stream",
     "text": [
      "3930 🎼将连鸡为虾。 fa768fd1-b6fb-4413-b604-7742be238a2e.wav\n"
     ]
    },
    {
     "name": "stderr",
     "output_type": "stream",
     "text": [
      "\n",
      "\n",
      "\u001b[A\u001b[A\n",
      "\n",
      "\u001b[A\u001b[A\n",
      "\n",
      "rtf_avg: 0.008: 100%|\u001b[34m██████████\u001b[0m| 1/1 [00:00<00:00, 36.23it/s]\n",
      "\n",
      "\n",
      "\u001b[A\u001b[A\n",
      "\n",
      "\n",
      "\u001b[A\u001b[A\u001b[A\n",
      "\n",
      "\n",
      "\u001b[A\u001b[A\u001b[A\n",
      "\n",
      "\n",
      "rtf_avg: 0.027: 100%|\u001b[34m██████████\u001b[0m| 1/1 [00:00<00:00, 12.23it/s]\n",
      "\n",
      "\n",
      "rtf_avg: 0.030, time_speech:  2.921, time_escape: 0.087: 100%|\u001b[31m██████████\u001b[0m| 1/1 [00:00<00:00, 11.27it/s]\n"
     ]
    },
    {
     "name": "stdout",
     "output_type": "stream",
     "text": [
      "3931 来份西红柿鸡蛋盖饭吧。 fa8cb691-7818-4841-8fb3-15c6e0a5490e.wav\n"
     ]
    },
    {
     "name": "stderr",
     "output_type": "stream",
     "text": [
      "\n",
      "\n",
      "\u001b[A\u001b[A\n",
      "\n",
      "\u001b[A\u001b[A\n",
      "\n",
      "rtf_avg: 0.009: 100%|\u001b[34m██████████\u001b[0m| 1/1 [00:00<00:00, 41.37it/s]\n",
      "\n",
      "\n",
      "\u001b[A\u001b[A\n",
      "\n",
      "\n",
      "\u001b[A\u001b[A\u001b[A\n",
      "\n",
      "\n",
      "\u001b[A\u001b[A\u001b[A\n",
      "\n",
      "\n",
      "rtf_avg: 0.032: 100%|\u001b[34m██████████\u001b[0m| 1/1 [00:00<00:00, 13.04it/s]\n",
      "\n",
      "\n",
      "rtf_avg: 0.035, time_speech:  2.358, time_escape: 0.082: 100%|\u001b[31m██████████\u001b[0m| 1/1 [00:00<00:00, 11.77it/s]\n"
     ]
    },
    {
     "name": "stdout",
     "output_type": "stream",
     "text": [
      "3932 你家来自你来自什么地方？ fa902fd2-2a8f-4a1a-bde1-37e11aa6e3df.wav\n"
     ]
    },
    {
     "name": "stderr",
     "output_type": "stream",
     "text": [
      "\n",
      "\n",
      "\u001b[A\u001b[A\n",
      "\n",
      "\u001b[A\u001b[A\n",
      "\n",
      "rtf_avg: 0.006: 100%|\u001b[34m██████████\u001b[0m| 1/1 [00:00<00:00, 33.81it/s]\n",
      "\n",
      "\n",
      "\u001b[A\u001b[A\n",
      "\n",
      "\n",
      "\u001b[A\u001b[A\u001b[A\n",
      "\n",
      "\n",
      "\u001b[A\u001b[A\u001b[A\n",
      "\n",
      "\n",
      "rtf_avg: 0.016: 100%|\u001b[34m██████████\u001b[0m| 1/1 [00:00<00:00, 12.85it/s]\n",
      "\n",
      "\n",
      "rtf_avg: 0.018, time_speech:  4.620, time_escape: 0.083: 100%|\u001b[31m██████████\u001b[0m| 1/1 [00:00<00:00, 11.71it/s]\n"
     ]
    },
    {
     "name": "stdout",
     "output_type": "stream",
     "text": [
      "3933 你肯定不知道你为什么老老老出来字母。 fa975ca3-5f7e-4767-a502-c505edef0750.wav\n"
     ]
    },
    {
     "name": "stderr",
     "output_type": "stream",
     "text": [
      "\n",
      "\n",
      "\u001b[A\u001b[A\n",
      "\n",
      "\u001b[A\u001b[A\n",
      "\n",
      "rtf_avg: 0.007: 100%|\u001b[34m██████████\u001b[0m| 1/1 [00:00<00:00, 34.54it/s]\n",
      "\n",
      "\n",
      "\u001b[A\u001b[A\n",
      "\n",
      "\n",
      "\u001b[A\u001b[A\u001b[A\n",
      "\n",
      "\n",
      "\u001b[A\u001b[A\u001b[A\n",
      "\n",
      "\n",
      "rtf_avg: 0.023: 100%|\u001b[34m██████████\u001b[0m| 1/1 [00:00<00:00, 12.14it/s]\n",
      "\n",
      "\n",
      "rtf_avg: 0.024, time_speech:  3.670, time_escape: 0.087: 100%|\u001b[31m██████████\u001b[0m| 1/1 [00:00<00:00, 11.00it/s]\n"
     ]
    },
    {
     "name": "stdout",
     "output_type": "stream",
     "text": [
      "3934 我要唱红蔷薇的痴情的人伤心的泪。 faa3ca11-6f76-402e-8294-ede4760438d6.wav\n"
     ]
    },
    {
     "name": "stderr",
     "output_type": "stream",
     "text": [
      "\n",
      "\n",
      "\u001b[A\u001b[A\n",
      "\n",
      "\u001b[A\u001b[A\n",
      "\n",
      "rtf_avg: 0.008: 100%|\u001b[34m██████████\u001b[0m| 1/1 [00:00<00:00, 35.75it/s]\n",
      "\n",
      "\n",
      "\u001b[A\u001b[A\n",
      "\n",
      "\n",
      "\u001b[A\u001b[A\u001b[A\n",
      "\n",
      "\n",
      "\u001b[A\u001b[A\u001b[A\n",
      "\n",
      "\n",
      "rtf_avg: 0.026: 100%|\u001b[34m██████████\u001b[0m| 1/1 [00:00<00:00, 13.32it/s]\n",
      "\n",
      "\n",
      "rtf_avg: 0.028, time_speech:  2.810, time_escape: 0.080: 100%|\u001b[31m██████████\u001b[0m| 1/1 [00:00<00:00, 12.04it/s]\n"
     ]
    },
    {
     "name": "stdout",
     "output_type": "stream",
     "text": [
      "3935 要个青椒炒豆皮吧。 fab73568-e4a4-4716-bd31-4f1f2004e9ca.wav\n"
     ]
    },
    {
     "name": "stderr",
     "output_type": "stream",
     "text": [
      "\n",
      "\n",
      "\u001b[A\u001b[A\n",
      "\n",
      "\u001b[A\u001b[A\n",
      "\n",
      "rtf_avg: 0.004: 100%|\u001b[34m██████████\u001b[0m| 1/1 [00:00<00:00, 22.54it/s]\n",
      "\n",
      "\n",
      "\u001b[A\u001b[A\n",
      "\n",
      "\n",
      "\u001b[A\u001b[A\u001b[A\n",
      "\n",
      "\n",
      "\u001b[A\u001b[A\u001b[A\n",
      "\n",
      "\n",
      "rtf_avg: 0.007: 100%|\u001b[34m██████████\u001b[0m| 1/1 [00:00<00:00, 12.15it/s]\n",
      "\n",
      "\n",
      "rtf_avg: 0.008, time_speech:  10.580, time_escape: 0.087: 100%|\u001b[31m██████████\u001b[0m| 1/1 [00:00<00:00, 11.12it/s]\n"
     ]
    },
    {
     "name": "stdout",
     "output_type": "stream",
     "text": [
      "3936 天猫精灵271.8加2052.57等于多少？ fae21f2c-8173-4ee5-8e7a-e2d68cbabb08.wav\n"
     ]
    },
    {
     "name": "stderr",
     "output_type": "stream",
     "text": [
      "\n",
      "\n",
      "\u001b[A\u001b[A\n",
      "\n",
      "\u001b[A\u001b[A\n",
      "\n",
      "rtf_avg: 0.006: 100%|\u001b[34m██████████\u001b[0m| 1/1 [00:00<00:00, 37.46it/s]\n",
      "\n",
      "\n",
      "\u001b[A\u001b[A\n",
      "\n",
      "\n",
      "\u001b[A\u001b[A\u001b[A\n",
      "\n",
      "\n",
      "\u001b[A\u001b[A\u001b[A\n",
      "\n",
      "\n",
      "rtf_avg: 0.017: 100%|\u001b[34m██████████\u001b[0m| 1/1 [00:00<00:00, 13.80it/s]\n",
      "\n",
      "\n",
      "rtf_avg: 0.020, time_speech:  3.950, time_escape: 0.077: 100%|\u001b[31m██████████\u001b[0m| 1/1 [00:00<00:00, 12.45it/s]\n"
     ]
    },
    {
     "name": "stdout",
     "output_type": "stream",
     "text": [
      "3937 天猫精灵来碗热乎的红豆薏米甜粥吧。 fae6754f-c3f1-46a4-82c5-b2916e082a3f.wav\n"
     ]
    },
    {
     "name": "stderr",
     "output_type": "stream",
     "text": [
      "\n",
      "\n",
      "\u001b[A\u001b[A\n",
      "\n",
      "\u001b[A\u001b[A\n",
      "\n",
      "rtf_avg: 0.006: 100%|\u001b[34m██████████\u001b[0m| 1/1 [00:00<00:00, 25.56it/s]\n",
      "\n",
      "\n",
      "\u001b[A\u001b[A\n",
      "\n",
      "\n",
      "\u001b[A\u001b[A\u001b[A\n",
      "\n",
      "\n",
      "\u001b[A\u001b[A\u001b[A\n",
      "\n",
      "\n",
      "rtf_avg: 0.013: 100%|\u001b[34m██████████\u001b[0m| 1/1 [00:00<00:00, 12.32it/s]\n",
      "\n",
      "\n",
      "rtf_avg: 0.014, time_speech:  6.000, time_escape: 0.087: 100%|\u001b[31m██████████\u001b[0m| 1/1 [00:00<00:00, 11.27it/s]\n"
     ]
    },
    {
     "name": "stdout",
     "output_type": "stream",
     "text": [
      "3938 天猫精灵播放花儿为什么这样红歌曲？ fb02777f-2201-4533-9075-4c8e7c11f5ad.wav\n"
     ]
    },
    {
     "name": "stderr",
     "output_type": "stream",
     "text": [
      "\n",
      "\n",
      "\u001b[A\u001b[A\n",
      "\n",
      "\u001b[A\u001b[A\n",
      "\n",
      "rtf_avg: 0.006: 100%|\u001b[34m██████████\u001b[0m| 1/1 [00:00<00:00, 29.82it/s]\n",
      "\n",
      "\n",
      "\u001b[A\u001b[A\n",
      "\n",
      "\n",
      "\u001b[A\u001b[A\u001b[A\n",
      "\n",
      "\n",
      "\u001b[A\u001b[A\u001b[A\n",
      "\n",
      "\n",
      "rtf_avg: 0.021: 100%|\u001b[34m██████████\u001b[0m| 1/1 [00:00<00:00, 12.82it/s]\n",
      "\n",
      "\n",
      "rtf_avg: 0.016, time_speech:  5.120, time_escape: 0.083: 100%|\u001b[31m██████████\u001b[0m| 1/1 [00:00<00:00, 11.55it/s]\n"
     ]
    },
    {
     "name": "stdout",
     "output_type": "stream",
     "text": [
      "3939 🎼播放哈小浪爆笑校园。 fb04a4e7-f642-48af-af70-a60a3335474d.wav\n"
     ]
    },
    {
     "name": "stderr",
     "output_type": "stream",
     "text": [
      "\n",
      "\n",
      "\u001b[A\u001b[A\n",
      "\n",
      "\u001b[A\u001b[A\n",
      "\n",
      "rtf_avg: 0.007: 100%|\u001b[34m██████████\u001b[0m| 1/1 [00:00<00:00, 37.09it/s]\n",
      "\n",
      "\n",
      "\u001b[A\u001b[A\n",
      "\n",
      "\n",
      "\u001b[A\u001b[A\u001b[A\n",
      "\n",
      "\n",
      "\u001b[A\u001b[A\u001b[A\n",
      "\n",
      "\n",
      "rtf_avg: 0.026: 100%|\u001b[34m██████████\u001b[0m| 1/1 [00:00<00:00, 13.03it/s]\n",
      "\n",
      "\n",
      "rtf_avg: 0.026, time_speech:  3.200, time_escape: 0.082: 100%|\u001b[31m██████████\u001b[0m| 1/1 [00:00<00:00, 11.64it/s]\n"
     ]
    },
    {
     "name": "stdout",
     "output_type": "stream",
     "text": [
      "3940 开启三多被打伏的幸拟世界。 fb179b1d-cb0c-497a-a504-58df9bef1924.wav\n"
     ]
    },
    {
     "name": "stderr",
     "output_type": "stream",
     "text": [
      "\n",
      "\n",
      "\u001b[A\u001b[A\n",
      "\n",
      "\u001b[A\u001b[A\n",
      "\n",
      "rtf_avg: 0.006: 100%|\u001b[34m██████████\u001b[0m| 1/1 [00:00<00:00, 35.29it/s]\n",
      "\n",
      "\n",
      "\u001b[A\u001b[A\n",
      "\n",
      "\n",
      "\u001b[A\u001b[A\u001b[A\n",
      "\n",
      "\n",
      "\u001b[A\u001b[A\u001b[A\n",
      "\n",
      "\n",
      "rtf_avg: 0.017: 100%|\u001b[34m██████████\u001b[0m| 1/1 [00:00<00:00, 12.71it/s]\n",
      "\n",
      "\n",
      "rtf_avg: 0.019, time_speech:  4.420, time_escape: 0.085: 100%|\u001b[31m██████████\u001b[0m| 1/1 [00:00<00:00, 11.38it/s]\n"
     ]
    },
    {
     "name": "stdout",
     "output_type": "stream",
     "text": [
      "3941 天猫精灵奶粉嫩牛柳炒芥兰吧。 fb244727-0687-4a68-aa93-6e6529c09a9a.wav\n"
     ]
    },
    {
     "name": "stderr",
     "output_type": "stream",
     "text": [
      "\n",
      "\n",
      "\u001b[A\u001b[A\n",
      "\n",
      "\u001b[A\u001b[A\n",
      "\n",
      "rtf_avg: 0.008: 100%|\u001b[34m██████████\u001b[0m| 1/1 [00:00<00:00, 22.01it/s]\n",
      "\n",
      "\n",
      "\u001b[A\u001b[A\n",
      "\n",
      "\n",
      "\u001b[A\u001b[A\u001b[A\n",
      "\n",
      "\n",
      "\u001b[A\u001b[A\u001b[A\n",
      "\n",
      "\n",
      "rtf_avg: 0.014: 100%|\u001b[34m██████████\u001b[0m| 1/1 [00:00<00:00, 12.96it/s]\n",
      "\n",
      "\n",
      "rtf_avg: 0.017, time_speech:  5.140, time_escape: 0.086: 100%|\u001b[31m██████████\u001b[0m| 1/1 [00:00<00:00, 11.09it/s]\n"
     ]
    },
    {
     "name": "stdout",
     "output_type": "stream",
     "text": [
      "3942 天猫精灵要碗山药味排骨汤。 fb281a80-55d4-4755-a4b3-1ddb6c8b79d5.wav\n"
     ]
    },
    {
     "name": "stderr",
     "output_type": "stream",
     "text": [
      "\n",
      "\n",
      "\u001b[A\u001b[A\n",
      "\n",
      "\u001b[A\u001b[A\n",
      "\n",
      "rtf_avg: 0.007: 100%|\u001b[34m██████████\u001b[0m| 1/1 [00:00<00:00, 39.02it/s]\n",
      "\n",
      "\n",
      "\u001b[A\u001b[A\n",
      "\n",
      "\n",
      "\u001b[A\u001b[A\u001b[A\n",
      "\n",
      "\n",
      "\u001b[A\u001b[A\u001b[A\n",
      "\n",
      "\n",
      "rtf_avg: 0.025: 100%|\u001b[34m██████████\u001b[0m| 1/1 [00:00<00:00, 13.31it/s]\n",
      "\n",
      "\n",
      "rtf_avg: 0.027, time_speech:  3.000, time_escape: 0.080: 100%|\u001b[31m██████████\u001b[0m| 1/1 [00:00<00:00, 12.17it/s]\n"
     ]
    },
    {
     "name": "stdout",
     "output_type": "stream",
     "text": [
      "3943 来碗热乎的皮蛋瘦肉粥吧。 fb304179-7ab3-41d7-976f-c37948adf378.wav\n"
     ]
    },
    {
     "name": "stderr",
     "output_type": "stream",
     "text": [
      "\n",
      "\n",
      "\u001b[A\u001b[A\n",
      "\n",
      "\u001b[A\u001b[A\n",
      "\n",
      "rtf_avg: 0.007: 100%|\u001b[34m██████████\u001b[0m| 1/1 [00:00<00:00, 36.00it/s]\n",
      "\n",
      "\n",
      "\u001b[A\u001b[A\n",
      "\n",
      "\n",
      "\u001b[A\u001b[A\u001b[A\n",
      "\n",
      "\n",
      "\u001b[A\u001b[A\u001b[A\n",
      "\n",
      "\n",
      "rtf_avg: 0.024: 100%|\u001b[34m██████████\u001b[0m| 1/1 [00:00<00:00, 11.57it/s]\n",
      "\n",
      "\n",
      "rtf_avg: 0.026, time_speech:  3.570, time_escape: 0.093: 100%|\u001b[31m██████████\u001b[0m| 1/1 [00:00<00:00, 10.42it/s]\n"
     ]
    },
    {
     "name": "stdout",
     "output_type": "stream",
     "text": [
      "3944 要个茶树菇老鸭宝吧。 fb3cc085-2f15-447a-9026-aca965060a0c.wav\n"
     ]
    },
    {
     "name": "stderr",
     "output_type": "stream",
     "text": [
      "\n",
      "\n",
      "\u001b[A\u001b[A\n",
      "\n",
      "\u001b[A\u001b[A\n",
      "\n",
      "rtf_avg: 0.006: 100%|\u001b[34m██████████\u001b[0m| 1/1 [00:00<00:00, 29.33it/s]\n",
      "\n",
      "\n",
      "\u001b[A\u001b[A\n",
      "\n",
      "\n",
      "\u001b[A\u001b[A\u001b[A\n",
      "\n",
      "\n",
      "\u001b[A\u001b[A\u001b[A\n",
      "\n",
      "\n",
      "rtf_avg: 0.017: 100%|\u001b[34m██████████\u001b[0m| 1/1 [00:00<00:00, 11.10it/s]\n",
      "\n",
      "\n",
      "rtf_avg: 0.019, time_speech:  5.150, time_escape: 0.096: 100%|\u001b[31m██████████\u001b[0m| 1/1 [00:00<00:00, 10.13it/s]\n"
     ]
    },
    {
     "name": "stdout",
     "output_type": "stream",
     "text": [
      "3945 天猫精灵来碗山药薏米粥吧。 fb486d84-1a37-4ce7-a418-f543b85e39f0.wav\n"
     ]
    },
    {
     "name": "stderr",
     "output_type": "stream",
     "text": [
      "\n",
      "\n",
      "\u001b[A\u001b[A\n",
      "\n",
      "\u001b[A\u001b[A\n",
      "\n",
      "rtf_avg: 0.007: 100%|\u001b[34m██████████\u001b[0m| 1/1 [00:00<00:00, 31.02it/s]\n",
      "\n",
      "\n",
      "\u001b[A\u001b[A\n",
      "\n",
      "\n",
      "\u001b[A\u001b[A\u001b[A\n",
      "\n",
      "\n",
      "\u001b[A\u001b[A\u001b[A\n",
      "\n",
      "\n",
      "rtf_avg: 0.020: 100%|\u001b[34m██████████\u001b[0m| 1/1 [00:00<00:00, 12.47it/s]\n",
      "\n",
      "\n",
      "rtf_avg: 0.022, time_speech:  3.867, time_escape: 0.086: 100%|\u001b[31m██████████\u001b[0m| 1/1 [00:00<00:00, 11.19it/s]\n"
     ]
    },
    {
     "name": "stdout",
     "output_type": "stream",
     "text": [
      "3946 🎼我要唱谢思芸的我的歌。 fb5d8086-0dd3-4848-b35a-993a3d1e6396.wav\n"
     ]
    },
    {
     "name": "stderr",
     "output_type": "stream",
     "text": [
      "\n",
      "\n",
      "\u001b[A\u001b[A\n",
      "\n",
      "\u001b[A\u001b[A\n",
      "\n",
      "rtf_avg: 0.005: 100%|\u001b[34m██████████\u001b[0m| 1/1 [00:00<00:00, 31.51it/s]\n",
      "\n",
      "\n",
      "\u001b[A\u001b[A\n",
      "\n",
      "\n",
      "\u001b[A\u001b[A\u001b[A\n",
      "\n",
      "\n",
      "\u001b[A\u001b[A\u001b[A\n",
      "\n",
      "\n",
      "rtf_avg: 0.014: 100%|\u001b[34m██████████\u001b[0m| 1/1 [00:00<00:00, 12.53it/s]\n",
      "\n",
      "\n",
      "rtf_avg: 0.016, time_speech:  5.360, time_escape: 0.086: 100%|\u001b[31m██████████\u001b[0m| 1/1 [00:00<00:00, 11.21it/s]\n"
     ]
    },
    {
     "name": "stdout",
     "output_type": "stream",
     "text": [
      "3947 天猫精灵火车的声音循环播放。 fb62b1d4-d92e-4eef-a684-df993a3d6959.wav\n"
     ]
    },
    {
     "name": "stderr",
     "output_type": "stream",
     "text": [
      "\n",
      "\n",
      "\u001b[A\u001b[A\n",
      "\n",
      "\u001b[A\u001b[A\n",
      "\n",
      "rtf_avg: 0.006: 100%|\u001b[34m██████████\u001b[0m| 1/1 [00:00<00:00, 35.62it/s]\n",
      "\n",
      "\n",
      "\u001b[A\u001b[A\n",
      "\n",
      "\n",
      "\u001b[A\u001b[A\u001b[A\n",
      "\n",
      "\n",
      "\u001b[A\u001b[A\u001b[A\n",
      "\n",
      "\n",
      "rtf_avg: 0.021: 100%|\u001b[34m██████████\u001b[0m| 1/1 [00:00<00:00, 11.69it/s]\n",
      "\n",
      "\n",
      "rtf_avg: 0.023, time_speech:  3.980, time_escape: 0.092: 100%|\u001b[31m██████████\u001b[0m| 1/1 [00:00<00:00, 10.64it/s]\n"
     ]
    },
    {
     "name": "stdout",
     "output_type": "stream",
     "text": [
      "3948 天猫精灵来份鲜味紫菜虾米汤。 fb69666a-2403-493d-a1ba-9aa5d2368568.wav\n"
     ]
    },
    {
     "name": "stderr",
     "output_type": "stream",
     "text": [
      "\n",
      "\n",
      "\u001b[A\u001b[A\n",
      "\n",
      "\u001b[A\u001b[A\n",
      "\n",
      "rtf_avg: 0.006: 100%|\u001b[34m██████████\u001b[0m| 1/1 [00:00<00:00, 35.68it/s]\n",
      "\n",
      "\n",
      "\u001b[A\u001b[A\n",
      "\n",
      "\n",
      "\u001b[A\u001b[A\u001b[A\n",
      "\n",
      "\n",
      "\u001b[A\u001b[A\u001b[A\n",
      "\n",
      "\n",
      "rtf_avg: 0.021: 100%|\u001b[34m██████████\u001b[0m| 1/1 [00:00<00:00, 12.22it/s]\n",
      "\n",
      "\n",
      "rtf_avg: 0.022, time_speech:  3.890, time_escape: 0.087: 100%|\u001b[31m██████████\u001b[0m| 1/1 [00:00<00:00, 11.13it/s]\n"
     ]
    },
    {
     "name": "stdout",
     "output_type": "stream",
     "text": [
      "3949 天猫精灵来粉冬瓜玉米炖排骨汤。 fb6e9094-1478-4c35-9771-fcd1956b880b.wav\n"
     ]
    },
    {
     "name": "stderr",
     "output_type": "stream",
     "text": [
      "\n",
      "\n",
      "\u001b[A\u001b[A\n",
      "\n",
      "\u001b[A\u001b[A\n",
      "\n",
      "rtf_avg: 0.007: 100%|\u001b[34m██████████\u001b[0m| 1/1 [00:00<00:00, 39.24it/s]\n",
      "\n",
      "\n",
      "\u001b[A\u001b[A\n",
      "\n",
      "\n",
      "\u001b[A\u001b[A\u001b[A\n",
      "\n",
      "\n",
      "\u001b[A\u001b[A\u001b[A\n",
      "\n",
      "\n",
      "rtf_avg: 0.027: 100%|\u001b[34m██████████\u001b[0m| 1/1 [00:00<00:00, 12.43it/s]\n",
      "\n",
      "\n",
      "rtf_avg: 0.028, time_speech:  3.030, time_escape: 0.085: 100%|\u001b[31m██████████\u001b[0m| 1/1 [00:00<00:00, 11.57it/s]\n"
     ]
    },
    {
     "name": "stdout",
     "output_type": "stream",
     "text": [
      "3950 天猫精灵来点养生的。 fb7158cf-30eb-42bb-9143-14d6a911d1b4.wav\n"
     ]
    },
    {
     "name": "stderr",
     "output_type": "stream",
     "text": [
      "\n",
      "\n",
      "\u001b[A\u001b[A\n",
      "\n",
      "\u001b[A\u001b[A\n",
      "\n",
      "rtf_avg: 0.007: 100%|\u001b[34m██████████\u001b[0m| 1/1 [00:00<00:00, 37.53it/s]\n",
      "\n",
      "\n",
      "\u001b[A\u001b[A\n",
      "\n",
      "\n",
      "\u001b[A\u001b[A\u001b[A\n",
      "\n",
      "\n",
      "\u001b[A\u001b[A\u001b[A\n",
      "\n",
      "\n",
      "rtf_avg: 0.024: 100%|\u001b[34m██████████\u001b[0m| 1/1 [00:00<00:00, 13.16it/s]\n",
      "\n",
      "\n",
      "rtf_avg: 0.026, time_speech:  3.140, time_escape: 0.082: 100%|\u001b[31m██████████\u001b[0m| 1/1 [00:00<00:00, 11.90it/s]\n"
     ]
    },
    {
     "name": "stdout",
     "output_type": "stream",
     "text": [
      "3951 天猫精灵来点不跟牙的。 fb8ed7fb-7105-43ca-8e00-69648901a1b2.wav\n"
     ]
    },
    {
     "name": "stderr",
     "output_type": "stream",
     "text": [
      "\n",
      "\n",
      "\u001b[A\u001b[A\n",
      "\n",
      "\u001b[A\u001b[A\n",
      "\n",
      "rtf_avg: 0.007: 100%|\u001b[34m██████████\u001b[0m| 1/1 [00:00<00:00, 30.68it/s]\n",
      "\n",
      "\n",
      "\u001b[A\u001b[A\n",
      "\n",
      "\n",
      "\u001b[A\u001b[A\u001b[A\n",
      "\n",
      "\n",
      "\u001b[A\u001b[A\u001b[A\n",
      "\n",
      "\n",
      "rtf_avg: 0.027: 100%|\u001b[34m██████████\u001b[0m| 1/1 [00:00<00:00, 13.09it/s]\n",
      "\n",
      "\n",
      "rtf_avg: 0.019, time_speech:  4.220, time_escape: 0.082: 100%|\u001b[31m██████████\u001b[0m| 1/1 [00:00<00:00, 11.62it/s]\n"
     ]
    },
    {
     "name": "stdout",
     "output_type": "stream",
     "text": [
      "3952 🎼查找前后负压头顶的胶。 fba02d29-b256-4f33-87ec-290d85f7becf.wav\n"
     ]
    },
    {
     "name": "stderr",
     "output_type": "stream",
     "text": [
      "\n",
      "\n",
      "\u001b[A\u001b[A\n",
      "\n",
      "\u001b[A\u001b[A\n",
      "\n",
      "rtf_avg: 0.006: 100%|\u001b[34m██████████\u001b[0m| 1/1 [00:00<00:00, 33.70it/s]\n",
      "\n",
      "\n",
      "\u001b[A\u001b[A\n",
      "\n",
      "\n",
      "\u001b[A\u001b[A\u001b[A\n",
      "\n",
      "\n",
      "\u001b[A\u001b[A\u001b[A\n",
      "\n",
      "\n",
      "rtf_avg: 0.017: 100%|\u001b[34m██████████\u001b[0m| 1/1 [00:00<00:00, 13.78it/s]\n",
      "\n",
      "\n",
      "rtf_avg: 0.019, time_speech:  4.120, time_escape: 0.080: 100%|\u001b[31m██████████\u001b[0m| 1/1 [00:00<00:00, 12.11it/s]\n"
     ]
    },
    {
     "name": "stdout",
     "output_type": "stream",
     "text": [
      "3953 天猫精灵来碗南瓜香米粥吧。 fbad50e1-2b21-4060-a514-9966e3549dce.wav\n"
     ]
    },
    {
     "name": "stderr",
     "output_type": "stream",
     "text": [
      "\n",
      "\n",
      "\u001b[A\u001b[A\n",
      "\n",
      "\u001b[A\u001b[A\n",
      "\n",
      "rtf_avg: 0.005: 100%|\u001b[34m██████████\u001b[0m| 1/1 [00:00<00:00, 27.10it/s]\n",
      "\n",
      "\n",
      "\u001b[A\u001b[A\n",
      "\n",
      "\n",
      "\u001b[A\u001b[A\u001b[A\n",
      "\n",
      "\n",
      "\u001b[A\u001b[A\u001b[A\n",
      "\n",
      "\n",
      "rtf_avg: 0.010: 100%|\u001b[34m██████████\u001b[0m| 1/1 [00:00<00:00, 13.35it/s]\n",
      "\n",
      "\n",
      "rtf_avg: 0.011, time_speech:  7.160, time_escape: 0.081: 100%|\u001b[31m██████████\u001b[0m| 1/1 [00:00<00:00, 11.78it/s]\n"
     ]
    },
    {
     "name": "stdout",
     "output_type": "stream",
     "text": [
      "3954 天猫精灵，就你这人听，播放薛之谦的天外来物。 fbb9bd17-e30d-46a2-b119-8ad2dd205a78.wav\n"
     ]
    },
    {
     "name": "stderr",
     "output_type": "stream",
     "text": [
      "\n",
      "\n",
      "\u001b[A\u001b[A\n",
      "\n",
      "\u001b[A\u001b[A\n",
      "\n",
      "rtf_avg: 0.008: 100%|\u001b[34m██████████\u001b[0m| 1/1 [00:00<00:00, 40.01it/s]\n",
      "\n",
      "\n",
      "\u001b[A\u001b[A\n",
      "\n",
      "\n",
      "\u001b[A\u001b[A\u001b[A\n",
      "\n",
      "\n",
      "\u001b[A\u001b[A\u001b[A\n",
      "\n",
      "\n",
      "rtf_avg: 0.035: 100%|\u001b[34m██████████\u001b[0m| 1/1 [00:00<00:00, 11.08it/s]\n",
      "\n",
      "\n",
      "rtf_avg: 0.038, time_speech:  2.549, time_escape: 0.098: 100%|\u001b[31m██████████\u001b[0m| 1/1 [00:00<00:00,  9.84it/s]\n"
     ]
    },
    {
     "name": "stdout",
     "output_type": "stream",
     "text": [
      "3955 那你知我朋友有哪些吗？ fbbfadc7-bcff-4a0d-b986-01f2f581cd19.wav\n"
     ]
    },
    {
     "name": "stderr",
     "output_type": "stream",
     "text": [
      "\n",
      "\n",
      "\u001b[A\u001b[A\n",
      "\n",
      "\u001b[A\u001b[A\n",
      "\n",
      "rtf_avg: 0.006: 100%|\u001b[34m██████████\u001b[0m| 1/1 [00:00<00:00, 24.77it/s]\n",
      "\n",
      "\n",
      "\u001b[A\u001b[A\n",
      "\n",
      "\n",
      "\u001b[A\u001b[A\u001b[A\n",
      "\n",
      "\n",
      "\u001b[A\u001b[A\u001b[A\n",
      "\n",
      "\n",
      "rtf_avg: 0.012: 100%|\u001b[34m██████████\u001b[0m| 1/1 [00:00<00:00, 13.70it/s]\n",
      "\n",
      "\n",
      "rtf_avg: 0.013, time_speech:  6.060, time_escape: 0.079: 100%|\u001b[31m██████████\u001b[0m| 1/1 [00:00<00:00, 12.34it/s]\n"
     ]
    },
    {
     "name": "stdout",
     "output_type": "stream",
     "text": [
      "3956 天猫精灵我在你说把心太阳放宽这首歌再唱一遍。 fc0a3e0f-0f94-4175-a253-6774ce87ec94.wav\n"
     ]
    },
    {
     "name": "stderr",
     "output_type": "stream",
     "text": [
      "\n",
      "\n",
      "\u001b[A\u001b[A\n",
      "\n",
      "\u001b[A\u001b[A\n",
      "\n",
      "rtf_avg: 0.006: 100%|\u001b[34m██████████\u001b[0m| 1/1 [00:00<00:00, 35.17it/s]\n",
      "\n",
      "\n",
      "\u001b[A\u001b[A\n",
      "\n",
      "\n",
      "\u001b[A\u001b[A\u001b[A\n",
      "\n",
      "\n",
      "\u001b[A\u001b[A\u001b[A\n",
      "\n",
      "\n",
      "rtf_avg: 0.018: 100%|\u001b[34m██████████\u001b[0m| 1/1 [00:00<00:00, 12.95it/s]\n",
      "\n",
      "\n",
      "rtf_avg: 0.020, time_speech:  4.120, time_escape: 0.081: 100%|\u001b[31m██████████\u001b[0m| 1/1 [00:00<00:00, 11.73it/s]\n"
     ]
    },
    {
     "name": "stdout",
     "output_type": "stream",
     "text": [
      "3957 天猫精灵来碗青菜烧照熬的香粥吧。 fc1f762d-5996-400d-88ec-7e608505133e.wav\n"
     ]
    },
    {
     "name": "stderr",
     "output_type": "stream",
     "text": [
      "\n",
      "\n",
      "\u001b[A\u001b[A\n",
      "\n",
      "\u001b[A\u001b[A\n",
      "\n",
      "rtf_avg: 0.005: 100%|\u001b[34m██████████\u001b[0m| 1/1 [00:00<00:00, 31.89it/s]\n",
      "\n",
      "\n",
      "\u001b[A\u001b[A\n",
      "\n",
      "\n",
      "\u001b[A\u001b[A\u001b[A\n",
      "\n",
      "\n",
      "\u001b[A\u001b[A\u001b[A\n",
      "\n",
      "\n",
      "rtf_avg: 0.016: 100%|\u001b[34m██████████\u001b[0m| 1/1 [00:00<00:00, 11.95it/s]\n",
      "\n",
      "\n",
      "rtf_avg: 0.018, time_speech:  4.970, time_escape: 0.090: 100%|\u001b[31m██████████\u001b[0m| 1/1 [00:00<00:00, 10.83it/s]\n"
     ]
    },
    {
     "name": "stdout",
     "output_type": "stream",
     "text": [
      "3958 天猫精灵来份西红柿鸡蛋盖饭吧。 fc4b6916-667f-4ab5-8947-254fda87e322.wav\n"
     ]
    },
    {
     "name": "stderr",
     "output_type": "stream",
     "text": [
      "\n",
      "\n",
      "\u001b[A\u001b[A\n",
      "\n",
      "\u001b[A\u001b[A\n",
      "\n",
      "rtf_avg: 0.005: 100%|\u001b[34m██████████\u001b[0m| 1/1 [00:00<00:00, 31.22it/s]\n",
      "\n",
      "\n",
      "\u001b[A\u001b[A\n",
      "\n",
      "\n",
      "\u001b[A\u001b[A\u001b[A\n",
      "\n",
      "\n",
      "\u001b[A\u001b[A\u001b[A\n",
      "\n",
      "\n",
      "rtf_avg: 0.014: 100%|\u001b[34m██████████\u001b[0m| 1/1 [00:00<00:00, 13.70it/s]\n",
      "\n",
      "\n",
      "rtf_avg: 0.015, time_speech:  5.130, time_escape: 0.079: 100%|\u001b[31m██████████\u001b[0m| 1/1 [00:00<00:00, 12.19it/s]\n"
     ]
    },
    {
     "name": "stdout",
     "output_type": "stream",
     "text": [
      "3959 天猫精灵来玩日瑞绿都白合粥吧。 fc616b4c-f531-4538-b182-4fd0194a3534.wav\n"
     ]
    },
    {
     "name": "stderr",
     "output_type": "stream",
     "text": [
      "\n",
      "\n",
      "\u001b[A\u001b[A\n",
      "\n",
      "\u001b[A\u001b[A\n",
      "\n",
      "rtf_avg: 0.005: 100%|\u001b[34m██████████\u001b[0m| 1/1 [00:00<00:00, 23.85it/s]\n",
      "\n",
      "\n",
      "\u001b[A\u001b[A\n",
      "\n",
      "\n",
      "\u001b[A\u001b[A\u001b[A\n",
      "\n",
      "\n",
      "\u001b[A\u001b[A\u001b[A\n",
      "\n",
      "\n",
      "rtf_avg: 0.010: 100%|\u001b[34m██████████\u001b[0m| 1/1 [00:00<00:00, 13.16it/s]\n",
      "\n",
      "\n",
      "rtf_avg: 0.011, time_speech:  7.484, time_escape: 0.081: 100%|\u001b[31m██████████\u001b[0m| 1/1 [00:00<00:00, 11.90it/s]\n"
     ]
    },
    {
     "name": "stdout",
     "output_type": "stream",
     "text": [
      "3960 来一份老灵光番茄汤面。好，汤头鲜眼，面烧得来一眼，牙齿勿来赛了。 fc8b2222-715a-4fd2-9676-90325475cfb6.wav\n"
     ]
    },
    {
     "name": "stderr",
     "output_type": "stream",
     "text": [
      "\n",
      "\n",
      "\u001b[A\u001b[A\n",
      "\n",
      "\u001b[A\u001b[A\n",
      "\n",
      "rtf_avg: 0.006: 100%|\u001b[34m██████████\u001b[0m| 1/1 [00:00<00:00, 27.68it/s]\n",
      "\n",
      "\n",
      "\u001b[A\u001b[A\n",
      "\n",
      "\n",
      "\u001b[A\u001b[A\u001b[A\n",
      "\n",
      "\n",
      "\u001b[A\u001b[A\u001b[A\n",
      "\n",
      "\n",
      "rtf_avg: 0.014: 100%|\u001b[34m██████████\u001b[0m| 1/1 [00:00<00:00, 11.71it/s]\n",
      "\n",
      "\n",
      "rtf_avg: 0.015, time_speech:  5.960, time_escape: 0.089: 100%|\u001b[31m██████████\u001b[0m| 1/1 [00:00<00:00, 10.82it/s]\n"
     ]
    },
    {
     "name": "stdout",
     "output_type": "stream",
     "text": [
      "3961 天猫精灵，这是你的汽车一只好伙伴。 fc8d5cda-79f4-45ba-a409-e0c5d6f97360.wav\n"
     ]
    },
    {
     "name": "stderr",
     "output_type": "stream",
     "text": [
      "\n",
      "\n",
      "\u001b[A\u001b[A\n",
      "\n",
      "\u001b[A\u001b[A\n",
      "\n",
      "rtf_avg: 0.007: 100%|\u001b[34m██████████\u001b[0m| 1/1 [00:00<00:00, 41.01it/s]\n",
      "\n",
      "\n",
      "\u001b[A\u001b[A\n",
      "\n",
      "\n",
      "\u001b[A\u001b[A\u001b[A\n",
      "\n",
      "\n",
      "\u001b[A\u001b[A\u001b[A\n",
      "\n",
      "\n",
      "rtf_avg: 0.023: 100%|\u001b[34m██████████\u001b[0m| 1/1 [00:00<00:00, 13.29it/s]\n",
      "\n",
      "\n",
      "rtf_avg: 0.025, time_speech:  3.230, time_escape: 0.079: 100%|\u001b[31m██████████\u001b[0m| 1/1 [00:00<00:00, 12.15it/s]\n"
     ]
    },
    {
     "name": "stdout",
     "output_type": "stream",
     "text": [
      "3962 天猫精灵来碗青菜香菇热粥吧。 fc98541a-148f-449e-bef7-b9ae280f3d7e.wav\n"
     ]
    },
    {
     "name": "stderr",
     "output_type": "stream",
     "text": [
      "\n",
      "\n",
      "\u001b[A\u001b[A\n",
      "\n",
      "\u001b[A\u001b[A\n",
      "\n",
      "rtf_avg: 0.007: 100%|\u001b[34m██████████\u001b[0m| 1/1 [00:00<00:00, 28.27it/s]\n",
      "\n",
      "\n",
      "\u001b[A\u001b[A\n",
      "\n",
      "\n",
      "\u001b[A\u001b[A\u001b[A\n",
      "\n",
      "\n",
      "\u001b[A\u001b[A\u001b[A\n",
      "\n",
      "\n",
      "rtf_avg: 0.018: 100%|\u001b[34m██████████\u001b[0m| 1/1 [00:00<00:00, 12.92it/s]\n",
      "\n",
      "\n",
      "rtf_avg: 0.020, time_speech:  4.150, time_escape: 0.083: 100%|\u001b[31m██████████\u001b[0m| 1/1 [00:00<00:00, 11.58it/s]\n"
     ]
    },
    {
     "name": "stdout",
     "output_type": "stream",
     "text": [
      "3963 天猫精灵来碗热乎的香菇鸡十粥吧。 fcc55a7f-c047-46e8-bdd7-de8080ddc6c3.wav\n"
     ]
    },
    {
     "name": "stderr",
     "output_type": "stream",
     "text": [
      "\n",
      "\n",
      "\u001b[A\u001b[A\n",
      "\n",
      "\u001b[A\u001b[A\n",
      "\n",
      "rtf_avg: 0.005: 100%|\u001b[34m██████████\u001b[0m| 1/1 [00:00<00:00, 34.45it/s]\n",
      "\n",
      "\n",
      "\u001b[A\u001b[A\n",
      "\n",
      "\n",
      "\u001b[A\u001b[A\u001b[A\n",
      "\n",
      "\n",
      "\u001b[A\u001b[A\u001b[A\n",
      "\n",
      "\n",
      "rtf_avg: 0.017: 100%|\u001b[34m██████████\u001b[0m| 1/1 [00:00<00:00, 12.96it/s]\n",
      "\n",
      "\n",
      "rtf_avg: 0.015, time_speech:  5.300, time_escape: 0.081: 100%|\u001b[31m██████████\u001b[0m| 1/1 [00:00<00:00, 11.88it/s]\n"
     ]
    },
    {
     "name": "stdout",
     "output_type": "stream",
     "text": [
      "3964 你喜欢你喜欢假如历史是一群喵的武则天吗？ fd01a64c-98b7-42fe-ac83-96c5bc0a867a.wav\n"
     ]
    },
    {
     "name": "stderr",
     "output_type": "stream",
     "text": [
      "\n",
      "\n",
      "\u001b[A\u001b[A\n",
      "\n",
      "\u001b[A\u001b[A\n",
      "\n",
      "rtf_avg: 0.004: 100%|\u001b[34m██████████\u001b[0m| 1/1 [00:00<00:00, 28.59it/s]\n",
      "\n",
      "\n",
      "\u001b[A\u001b[A\n",
      "\n",
      "\n",
      "\u001b[A\u001b[A\u001b[A\n",
      "\n",
      "\n",
      "\u001b[A\u001b[A\u001b[A\n",
      "\n",
      "\n",
      "rtf_avg: 0.011: 100%|\u001b[34m██████████\u001b[0m| 1/1 [00:00<00:00, 12.39it/s]\n",
      "\n",
      "\n",
      "rtf_avg: 0.012, time_speech:  7.424, time_escape: 0.086: 100%|\u001b[31m██████████\u001b[0m| 1/1 [00:00<00:00, 11.27it/s]\n"
     ]
    },
    {
     "name": "stdout",
     "output_type": "stream",
     "text": [
      "3965 天猫精灵，我要一份僵尸狗杞暖族热火吹吃寒气个天吃吃蛮好。 fd0bd962-4350-477f-935b-65a326988287.wav\n"
     ]
    },
    {
     "name": "stderr",
     "output_type": "stream",
     "text": [
      "\n",
      "\n",
      "\u001b[A\u001b[A\n",
      "\n",
      "\u001b[A\u001b[A\n",
      "\n",
      "rtf_avg: 0.005: 100%|\u001b[34m██████████\u001b[0m| 1/1 [00:00<00:00, 26.51it/s]\n",
      "\n",
      "\n",
      "\u001b[A\u001b[A\n",
      "\n",
      "\n",
      "\u001b[A\u001b[A\u001b[A\n",
      "\n",
      "\n",
      "\u001b[A\u001b[A\u001b[A\n",
      "\n",
      "\n",
      "rtf_avg: 0.009: 100%|\u001b[34m██████████\u001b[0m| 1/1 [00:00<00:00, 14.07it/s]\n",
      "\n",
      "\n",
      "rtf_avg: 0.011, time_speech:  7.160, time_escape: 0.076: 100%|\u001b[31m██████████\u001b[0m| 1/1 [00:00<00:00, 12.55it/s]\n"
     ]
    },
    {
     "name": "stdout",
     "output_type": "stream",
     "text": [
      "3966 天猫精灵音量调40音量调40。 fd241cd0-8772-45d3-8d2a-ddca9826131a.wav\n"
     ]
    },
    {
     "name": "stderr",
     "output_type": "stream",
     "text": [
      "\n",
      "\n",
      "\u001b[A\u001b[A\n",
      "\n",
      "\u001b[A\u001b[A\n",
      "\n",
      "rtf_avg: 0.007: 100%|\u001b[34m██████████\u001b[0m| 1/1 [00:00<00:00, 34.25it/s]\n",
      "\n",
      "\n",
      "\u001b[A\u001b[A\n",
      "\n",
      "\n",
      "\u001b[A\u001b[A\u001b[A\n",
      "\n",
      "\n",
      "\u001b[A\u001b[A\u001b[A\n",
      "\n",
      "\n",
      "rtf_avg: 0.020: 100%|\u001b[34m██████████\u001b[0m| 1/1 [00:00<00:00, 12.66it/s]\n",
      "\n",
      "\n",
      "rtf_avg: 0.022, time_speech:  3.740, time_escape: 0.084: 100%|\u001b[31m██████████\u001b[0m| 1/1 [00:00<00:00, 11.50it/s]\n"
     ]
    },
    {
     "name": "stdout",
     "output_type": "stream",
     "text": [
      "3967 天猫精灵来碗热乎的番茄蛋汤吧。 fd2e9ebd-db09-4963-ad0d-79efd26b9248.wav\n"
     ]
    },
    {
     "name": "stderr",
     "output_type": "stream",
     "text": [
      "\n",
      "\n",
      "\u001b[A\u001b[A\n",
      "\n",
      "\u001b[A\u001b[A\n",
      "\n",
      "rtf_avg: 0.006: 100%|\u001b[34m██████████\u001b[0m| 1/1 [00:00<00:00, 36.24it/s]\n",
      "\n",
      "\n",
      "\u001b[A\u001b[A\n",
      "\n",
      "\n",
      "\u001b[A\u001b[A\u001b[A\n",
      "\n",
      "\n",
      "\u001b[A\u001b[A\u001b[A\n",
      "\n",
      "\n",
      "rtf_avg: 0.023: 100%|\u001b[34m██████████\u001b[0m| 1/1 [00:00<00:00, 10.34it/s]\n",
      "\n",
      "\n",
      "\u001b[A\u001b[A\n",
      "\n",
      "rtf_avg: 0.024, time_speech:  4.190, time_escape: 0.102: 100%|\u001b[31m██████████\u001b[0m| 1/1 [00:00<00:00,  9.37it/s]\n"
     ]
    },
    {
     "name": "stdout",
     "output_type": "stream",
     "text": [
      "3968 天猫精灵要个蒜香空心菜吧。 fd34183c-e485-4046-980f-dff110008875.wav\n"
     ]
    },
    {
     "name": "stderr",
     "output_type": "stream",
     "text": [
      "\n",
      "\n",
      "\u001b[A\u001b[A\n",
      "\n",
      "\u001b[A\u001b[A\n",
      "\n",
      "rtf_avg: 0.005: 100%|\u001b[34m██████████\u001b[0m| 1/1 [00:00<00:00, 28.57it/s]\n",
      "\n",
      "\n",
      "\u001b[A\u001b[A\n",
      "\n",
      "\n",
      "\u001b[A\u001b[A\u001b[A\n",
      "\n",
      "\n",
      "\u001b[A\u001b[A\u001b[A\n",
      "\n",
      "\n",
      "\u001b[A\u001b[A\u001b[A\n",
      "\n",
      "\n",
      "rtf_avg: 0.017: 100%|\u001b[34m██████████\u001b[0m| 1/1 [00:00<00:00,  9.10it/s]\n",
      "\n",
      "\n",
      "\u001b[A\u001b[A\n",
      "\n",
      "rtf_avg: 0.018, time_speech:  6.360, time_escape: 0.116: 100%|\u001b[31m██████████\u001b[0m| 1/1 [00:00<00:00,  8.34it/s]\n"
     ]
    },
    {
     "name": "stdout",
     "output_type": "stream",
     "text": [
      "3969 天猫精灵播放一首小灿的友人。 fd4446c3-a894-4d76-9445-2a6c0d32c465.wav\n"
     ]
    },
    {
     "name": "stderr",
     "output_type": "stream",
     "text": [
      "\n",
      "\n",
      "\u001b[A\u001b[A\n",
      "\n",
      "\u001b[A\u001b[A\n",
      "\n",
      "rtf_avg: 0.006: 100%|\u001b[34m██████████\u001b[0m| 1/1 [00:00<00:00, 30.94it/s]\n",
      "\n",
      "\n",
      "\u001b[A\u001b[A\n",
      "\n",
      "\n",
      "\u001b[A\u001b[A\u001b[A\n",
      "\n",
      "\n",
      "\u001b[A\u001b[A\u001b[A\n",
      "\n",
      "\n",
      "rtf_avg: 0.020: 100%|\u001b[34m██████████\u001b[0m| 1/1 [00:00<00:00, 13.33it/s]\n",
      "\n",
      "\n",
      "rtf_avg: 0.016, time_speech:  5.140, time_escape: 0.081: 100%|\u001b[31m██████████\u001b[0m| 1/1 [00:00<00:00, 11.81it/s]\n"
     ]
    },
    {
     "name": "stdout",
     "output_type": "stream",
     "text": [
      "3970 我想听索菲鸭的无人像你。 fd56d960-041e-405b-8408-e23642e5ff21.wav\n"
     ]
    },
    {
     "name": "stderr",
     "output_type": "stream",
     "text": [
      "\n",
      "\n",
      "\u001b[A\u001b[A\n",
      "\n",
      "\u001b[A\u001b[A\n",
      "\n",
      "rtf_avg: 0.005: 100%|\u001b[34m██████████\u001b[0m| 1/1 [00:00<00:00, 22.59it/s]\n",
      "\n",
      "\n",
      "\u001b[A\u001b[A\n",
      "\n",
      "\n",
      "\u001b[A\u001b[A\u001b[A\n",
      "\n",
      "\n",
      "\u001b[A\u001b[A\u001b[A\n",
      "\n",
      "\n",
      "rtf_avg: 0.008: 100%|\u001b[34m██████████\u001b[0m| 1/1 [00:00<00:00, 13.74it/s]\n",
      "\n",
      "\n",
      "rtf_avg: 0.009, time_speech:  8.620, time_escape: 0.079: 100%|\u001b[31m██████████\u001b[0m| 1/1 [00:00<00:00, 12.23it/s]\n"
     ]
    },
    {
     "name": "stdout",
     "output_type": "stream",
     "text": [
      "3971 天猫精灵播放播放小猪佩奇儿童故事。 fd6078be-dac1-4ed7-afd7-d61709866cbb.wav\n"
     ]
    },
    {
     "name": "stderr",
     "output_type": "stream",
     "text": [
      "\n",
      "\n",
      "\u001b[A\u001b[A\n",
      "\n",
      "\u001b[A\u001b[A\n",
      "\n",
      "rtf_avg: 0.005: 100%|\u001b[34m██████████\u001b[0m| 1/1 [00:00<00:00, 37.87it/s]\n",
      "\n",
      "\n",
      "\u001b[A\u001b[A\n",
      "\n",
      "\n",
      "\u001b[A\u001b[A\u001b[A\n",
      "\n",
      "\n",
      "\u001b[A\u001b[A\u001b[A\n",
      "\n",
      "\n",
      "rtf_avg: 0.019: 100%|\u001b[34m██████████\u001b[0m| 1/1 [00:00<00:00, 12.15it/s]\n",
      "\n",
      "\n",
      "rtf_avg: 0.020, time_speech:  4.320, time_escape: 0.087: 100%|\u001b[31m██████████\u001b[0m| 1/1 [00:00<00:00, 11.00it/s]\n"
     ]
    },
    {
     "name": "stdout",
     "output_type": "stream",
     "text": [
      "3972 天猫精灵来份蒜香粉丝，整娃娃菜。 fd69820a-2ba6-4fc1-82c2-e2a544051fcf.wav\n"
     ]
    },
    {
     "name": "stderr",
     "output_type": "stream",
     "text": [
      "\n",
      "\n",
      "\u001b[A\u001b[A\n",
      "\n",
      "\u001b[A\u001b[A\n",
      "\n",
      "rtf_avg: 0.004: 100%|\u001b[34m██████████\u001b[0m| 1/1 [00:00<00:00, 27.85it/s]\n",
      "\n",
      "\n",
      "\u001b[A\u001b[A\n",
      "\n",
      "\n",
      "\u001b[A\u001b[A\u001b[A\n",
      "\n",
      "\n",
      "\u001b[A\u001b[A\u001b[A\n",
      "\n",
      "\n",
      "rtf_avg: 0.009: 100%|\u001b[34m██████████\u001b[0m| 1/1 [00:00<00:00, 13.66it/s]\n",
      "\n",
      "\n",
      "rtf_avg: 0.011, time_speech:  7.540, time_escape: 0.080: 100%|\u001b[31m██████████\u001b[0m| 1/1 [00:00<00:00, 12.16it/s]\n"
     ]
    },
    {
     "name": "stdout",
     "output_type": "stream",
     "text": [
      "3973 天猫精灵3.9分米等于多少米？ fd6b8330-f46c-418c-8c14-14645a398794.wav\n"
     ]
    },
    {
     "name": "stderr",
     "output_type": "stream",
     "text": [
      "\n",
      "\n",
      "\u001b[A\u001b[A\n",
      "\n",
      "\u001b[A\u001b[A\n",
      "\n",
      "rtf_avg: 0.008: 100%|\u001b[34m██████████\u001b[0m| 1/1 [00:00<00:00, 36.76it/s]\n",
      "\n",
      "\n",
      "\u001b[A\u001b[A\n",
      "\n",
      "\n",
      "\u001b[A\u001b[A\u001b[A\n",
      "\n",
      "\n",
      "\u001b[A\u001b[A\u001b[A\n",
      "\n",
      "\n",
      "rtf_avg: 0.025: 100%|\u001b[34m██████████\u001b[0m| 1/1 [00:00<00:00, 13.10it/s]\n",
      "\n",
      "\n",
      "rtf_avg: 0.027, time_speech:  3.030, time_escape: 0.082: 100%|\u001b[31m██████████\u001b[0m| 1/1 [00:00<00:00, 11.77it/s]\n"
     ]
    },
    {
     "name": "stdout",
     "output_type": "stream",
     "text": [
      "3974 天猫精灵要刷有少痒。 fd7e380e-91b6-4f8c-9266-1e0e96c779c5.wav\n"
     ]
    },
    {
     "name": "stderr",
     "output_type": "stream",
     "text": [
      "\n",
      "\n",
      "\u001b[A\u001b[A\n",
      "\n",
      "\u001b[A\u001b[A\n",
      "\n",
      "rtf_avg: 0.005: 100%|\u001b[34m██████████\u001b[0m| 1/1 [00:00<00:00, 28.28it/s]\n",
      "\n",
      "\n",
      "\u001b[A\u001b[A\n",
      "\n",
      "\n",
      "\u001b[A\u001b[A\u001b[A\n",
      "\n",
      "\n",
      "\u001b[A\u001b[A\u001b[A\n",
      "\n",
      "\n",
      "rtf_avg: 0.011: 100%|\u001b[34m██████████\u001b[0m| 1/1 [00:00<00:00, 12.62it/s]\n",
      "\n",
      "\n",
      "rtf_avg: 0.013, time_speech:  6.710, time_escape: 0.084: 100%|\u001b[31m██████████\u001b[0m| 1/1 [00:00<00:00, 11.39it/s]\n"
     ]
    },
    {
     "name": "stdout",
     "output_type": "stream",
     "text": [
      "3975 天猫精灵红沙山药者来一份热乎养胃的。 fd8166d9-b071-431a-a864-8adbc7eb7fa0.wav\n"
     ]
    },
    {
     "name": "stderr",
     "output_type": "stream",
     "text": [
      "\n",
      "\n",
      "\u001b[A\u001b[A\n",
      "\n",
      "\u001b[A\u001b[A\n",
      "\n",
      "rtf_avg: 0.005: 100%|\u001b[34m██████████\u001b[0m| 1/1 [00:00<00:00, 34.56it/s]\n",
      "\n",
      "\n",
      "\u001b[A\u001b[A\n",
      "\n",
      "\n",
      "\u001b[A\u001b[A\u001b[A\n",
      "\n",
      "\n",
      "\u001b[A\u001b[A\u001b[A\n",
      "\n",
      "\n",
      "rtf_avg: 0.015: 100%|\u001b[34m██████████\u001b[0m| 1/1 [00:00<00:00, 12.88it/s]\n",
      "\n",
      "\n",
      "rtf_avg: 0.017, time_speech:  4.880, time_escape: 0.084: 100%|\u001b[31m██████████\u001b[0m| 1/1 [00:00<00:00, 11.27it/s]\n"
     ]
    },
    {
     "name": "stdout",
     "output_type": "stream",
     "text": [
      "3976 对不记对不知啊，你，你说一下名等于几？😊 fdd10d06-4073-4c44-9b78-aba46ba64035.wav\n"
     ]
    },
    {
     "name": "stderr",
     "output_type": "stream",
     "text": [
      "\n",
      "\n",
      "\u001b[A\u001b[A\n",
      "\n",
      "\u001b[A\u001b[A\n",
      "\n",
      "rtf_avg: 0.005: 100%|\u001b[34m██████████\u001b[0m| 1/1 [00:00<00:00, 27.03it/s]\n",
      "\n",
      "\n",
      "\u001b[A\u001b[A\n",
      "\n",
      "\n",
      "\u001b[A\u001b[A\u001b[A\n",
      "\n",
      "\n",
      "\u001b[A\u001b[A\u001b[A\n",
      "\n",
      "\n",
      "rtf_avg: 0.099: 100%|\u001b[34m██████████\u001b[0m| 1/1 [00:00<00:00, 13.30it/s]\n",
      "\n",
      "\n",
      "rtf_avg: 0.011, time_speech:  7.400, time_escape: 0.081: 100%|\u001b[31m██████████\u001b[0m| 1/1 [00:00<00:00, 12.00it/s]\n"
     ]
    },
    {
     "name": "stdout",
     "output_type": "stream",
     "text": [
      "3977 播放。 fddc2733-3e85-49c0-8119-c9fe734dc200.wav\n"
     ]
    },
    {
     "name": "stderr",
     "output_type": "stream",
     "text": [
      "\n",
      "\n",
      "\u001b[A\u001b[A\n",
      "\n",
      "\u001b[A\u001b[A\n",
      "\n",
      "rtf_avg: 0.005: 100%|\u001b[34m██████████\u001b[0m| 1/1 [00:00<00:00, 30.31it/s]\n",
      "\n",
      "\n",
      "\u001b[A\u001b[A\n",
      "\n",
      "\n",
      "\u001b[A\u001b[A\u001b[A\n",
      "\n",
      "\n",
      "\u001b[A\u001b[A\u001b[A\n",
      "\n",
      "\n",
      "rtf_avg: 0.016: 100%|\u001b[34m██████████\u001b[0m| 1/1 [00:00<00:00, 12.13it/s]\n",
      "\n",
      "\n",
      "rtf_avg: 0.016, time_speech:  5.520, time_escape: 0.089: 100%|\u001b[31m██████████\u001b[0m| 1/1 [00:00<00:00, 10.99it/s]\n"
     ]
    },
    {
     "name": "stdout",
     "output_type": "stream",
     "text": [
      "3978 天猫精灵打开打开小灯，我要换衣服呢。😊 fdded1f7-9369-41a5-ae80-c56f1b088ad9.wav\n"
     ]
    },
    {
     "name": "stderr",
     "output_type": "stream",
     "text": [
      "\n",
      "\n",
      "\u001b[A\u001b[A\n",
      "\n",
      "\u001b[A\u001b[A\n",
      "\n",
      "rtf_avg: 0.005: 100%|\u001b[34m██████████\u001b[0m| 1/1 [00:00<00:00, 31.26it/s]\n",
      "\n",
      "\n",
      "\u001b[A\u001b[A\n",
      "\n",
      "\n",
      "\u001b[A\u001b[A\u001b[A\n",
      "\n",
      "\n",
      "\u001b[A\u001b[A\u001b[A\n",
      "\n",
      "\n",
      "rtf_avg: 0.014: 100%|\u001b[34m██████████\u001b[0m| 1/1 [00:00<00:00, 13.11it/s]\n",
      "\n",
      "\n",
      "rtf_avg: 0.015, time_speech:  5.300, time_escape: 0.081: 100%|\u001b[31m██████████\u001b[0m| 1/1 [00:00<00:00, 11.78it/s]\n"
     ]
    },
    {
     "name": "stdout",
     "output_type": "stream",
     "text": [
      "3979 天猫精灵戴拿奥特曼的声音怎么叫？ fe110b66-255a-411f-9b7d-7e456b7502b6.wav\n"
     ]
    },
    {
     "name": "stderr",
     "output_type": "stream",
     "text": [
      "\n",
      "\n",
      "\u001b[A\u001b[A\n",
      "\n",
      "\u001b[A\u001b[A\n",
      "\n",
      "rtf_avg: 0.004: 100%|\u001b[34m██████████\u001b[0m| 1/1 [00:00<00:00, 30.51it/s]\n",
      "\n",
      "\n",
      "\u001b[A\u001b[A\n",
      "\n",
      "\n",
      "\u001b[A\u001b[A\u001b[A\n",
      "\n",
      "\n",
      "\u001b[A\u001b[A\u001b[A\n",
      "\n",
      "\n",
      "rtf_avg: 0.017: 100%|\u001b[34m██████████\u001b[0m| 1/1 [00:00<00:00,  9.92it/s]\n",
      "\n",
      "\n",
      "\u001b[A\u001b[A\n",
      "\n",
      "rtf_avg: 0.016, time_speech:  6.440, time_escape: 0.106: 100%|\u001b[31m██████████\u001b[0m| 1/1 [00:00<00:00,  9.17it/s]\n"
     ]
    },
    {
     "name": "stdout",
     "output_type": "stream",
     "text": [
      "3980 天猫精播放仙鬼故事小说。 fe2987ed-ba19-4d65-97aa-6a3f326c3772.wav\n"
     ]
    },
    {
     "name": "stderr",
     "output_type": "stream",
     "text": [
      "\n",
      "\n",
      "\u001b[A\u001b[A\n",
      "\n",
      "\u001b[A\u001b[A\n",
      "\n",
      "rtf_avg: 0.009: 100%|\u001b[34m██████████\u001b[0m| 1/1 [00:00<00:00, 26.33it/s]\n",
      "\n",
      "\n",
      "\u001b[A\u001b[A\n",
      "\n",
      "\n",
      "\u001b[A\u001b[A\u001b[A\n",
      "\n",
      "\n",
      "\u001b[A\u001b[A\u001b[A\n",
      "\n",
      "\n",
      "rtf_avg: 0.019: 100%|\u001b[34m██████████\u001b[0m| 1/1 [00:00<00:00, 14.21it/s]\n",
      "\n",
      "\n",
      "rtf_avg: 0.019, time_speech:  3.867, time_escape: 0.075: 100%|\u001b[31m██████████\u001b[0m| 1/1 [00:00<00:00, 12.77it/s]\n"
     ]
    },
    {
     "name": "stdout",
     "output_type": "stream",
     "text": [
      "3981 🎼我要唱是二智氧的一风时光。 fe49a24d-9c87-47e7-bff5-891b0c7fffee.wav\n"
     ]
    },
    {
     "name": "stderr",
     "output_type": "stream",
     "text": [
      "\n",
      "\n",
      "\u001b[A\u001b[A\n",
      "\n",
      "\u001b[A\u001b[A\n",
      "\n",
      "rtf_avg: 0.008: 100%|\u001b[34m██████████\u001b[0m| 1/1 [00:00<00:00, 25.51it/s]\n",
      "\n",
      "\n",
      "\u001b[A\u001b[A\n",
      "\n",
      "\n",
      "\u001b[A\u001b[A\u001b[A\n",
      "\n",
      "\n",
      "\u001b[A\u001b[A\u001b[A\n",
      "\n",
      "\n",
      "rtf_avg: 0.018: 100%|\u001b[34m██████████\u001b[0m| 1/1 [00:00<00:00, 12.62it/s]\n",
      "\n",
      "\n",
      "rtf_avg: 0.020, time_speech:  4.300, time_escape: 0.085: 100%|\u001b[31m██████████\u001b[0m| 1/1 [00:00<00:00, 11.27it/s]\n"
     ]
    },
    {
     "name": "stdout",
     "output_type": "stream",
     "text": [
      "3982 天猫精灵来碗西红柿炒蛋，锅巴饭吧。 fe4fd5fa-10dc-4339-8ff4-ae70fae3ab58.wav\n"
     ]
    },
    {
     "name": "stderr",
     "output_type": "stream",
     "text": [
      "\n",
      "\n",
      "\u001b[A\u001b[A\n",
      "\n",
      "\u001b[A\u001b[A\n",
      "\n",
      "rtf_avg: 0.006: 100%|\u001b[34m██████████\u001b[0m| 1/1 [00:00<00:00, 34.57it/s]\n",
      "\n",
      "\n",
      "\u001b[A\u001b[A\n",
      "\n",
      "\n",
      "\u001b[A\u001b[A\u001b[A\n",
      "\n",
      "\n",
      "\u001b[A\u001b[A\u001b[A\n",
      "\n",
      "\n",
      "rtf_avg: 0.018: 100%|\u001b[34m██████████\u001b[0m| 1/1 [00:00<00:00, 13.56it/s]\n",
      "\n",
      "\n",
      "rtf_avg: 0.020, time_speech:  4.010, time_escape: 0.079: 100%|\u001b[31m██████████\u001b[0m| 1/1 [00:00<00:00, 12.29it/s]\n"
     ]
    },
    {
     "name": "stdout",
     "output_type": "stream",
     "text": [
      "3983 天猫精灵来碗红豆薏米粥乐湖的。 fe868027-c739-41f4-ae56-57c16046baa1.wav\n"
     ]
    },
    {
     "name": "stderr",
     "output_type": "stream",
     "text": [
      "\n",
      "\n",
      "\u001b[A\u001b[A\n",
      "\n",
      "\u001b[A\u001b[A\n",
      "\n",
      "rtf_avg: 0.004: 100%|\u001b[34m██████████\u001b[0m| 1/1 [00:00<00:00, 26.21it/s]\n",
      "\n",
      "\n",
      "\u001b[A\u001b[A\n",
      "\n",
      "\n",
      "\u001b[A\u001b[A\u001b[A\n",
      "\n",
      "\n",
      "\u001b[A\u001b[A\u001b[A\n",
      "\n",
      "\n",
      "rtf_avg: 0.008: 100%|\u001b[34m██████████\u001b[0m| 1/1 [00:00<00:00, 13.70it/s]\n",
      "\n",
      "\n",
      "rtf_avg: 0.009, time_speech:  8.360, time_escape: 0.078: 100%|\u001b[31m██████████\u001b[0m| 1/1 [00:00<00:00, 12.27it/s]\n"
     ]
    },
    {
     "name": "stdout",
     "output_type": "stream",
     "text": [
      "3984 天猫精灵3分之1派乘以4的平方乘以4等于多少？ fe9f97e0-5406-45d1-a34a-d59c28eb863a.wav\n"
     ]
    },
    {
     "name": "stderr",
     "output_type": "stream",
     "text": [
      "\n",
      "\n",
      "\u001b[A\u001b[A\n",
      "\n",
      "\u001b[A\u001b[A\n",
      "\n",
      "rtf_avg: 0.007: 100%|\u001b[34m██████████\u001b[0m| 1/1 [00:00<00:00, 46.69it/s]\n",
      "\n",
      "\n",
      "\u001b[A\u001b[A\n",
      "\n",
      "\n",
      "\u001b[A\u001b[A\u001b[A\n",
      "\n",
      "\n",
      "\u001b[A\u001b[A\u001b[A\n",
      "\n",
      "\n",
      "rtf_avg: 0.028: 100%|\u001b[34m██████████\u001b[0m| 1/1 [00:00<00:00, 13.32it/s]\n",
      "\n",
      "\n",
      "rtf_avg: 0.029, time_speech:  2.720, time_escape: 0.080: 100%|\u001b[31m██████████\u001b[0m| 1/1 [00:00<00:00, 12.18it/s]\n"
     ]
    },
    {
     "name": "stdout",
     "output_type": "stream",
     "text": [
      "3985 来份青草嫩油麦菜。 febea08b-eaba-4abc-b796-ecc4df4271bd.wav\n"
     ]
    },
    {
     "name": "stderr",
     "output_type": "stream",
     "text": [
      "\n",
      "\n",
      "\u001b[A\u001b[A\n",
      "\n",
      "\u001b[A\u001b[A\n",
      "\n",
      "rtf_avg: 0.005: 100%|\u001b[34m██████████\u001b[0m| 1/1 [00:00<00:00, 32.41it/s]\n",
      "\n",
      "\n",
      "\u001b[A\u001b[A\n",
      "\n",
      "\n",
      "\u001b[A\u001b[A\u001b[A\n",
      "\n",
      "\n",
      "\u001b[A\u001b[A\u001b[A\n",
      "\n",
      "\n",
      "rtf_avg: 0.059: 100%|\u001b[34m██████████\u001b[0m| 1/1 [00:00<00:00, 13.24it/s]\n",
      "\n",
      "\n",
      "rtf_avg: 0.014, time_speech:  5.740, time_escape: 0.081: 100%|\u001b[31m██████████\u001b[0m| 1/1 [00:00<00:00, 11.98it/s]\n"
     ]
    },
    {
     "name": "stdout",
     "output_type": "stream",
     "text": [
      "3986 给我播放一个。 fec0058d-658f-49e3-b6bb-70a42cebb136.wav\n"
     ]
    },
    {
     "name": "stderr",
     "output_type": "stream",
     "text": [
      "\n",
      "\n",
      "\u001b[A\u001b[A\n",
      "\n",
      "\u001b[A\u001b[A\n",
      "\n",
      "rtf_avg: 0.004: 100%|\u001b[34m██████████\u001b[0m| 1/1 [00:00<00:00, 26.86it/s]\n",
      "\n",
      "\n",
      "\u001b[A\u001b[A\n",
      "\n",
      "\n",
      "\u001b[A\u001b[A\u001b[A\n",
      "\n",
      "\n",
      "\u001b[A\u001b[A\u001b[A\n",
      "\n",
      "\n",
      "rtf_avg: 0.010: 100%|\u001b[34m██████████\u001b[0m| 1/1 [00:00<00:00, 13.18it/s]\n",
      "\n",
      "\n",
      "rtf_avg: 0.011, time_speech:  7.400, time_escape: 0.081: 100%|\u001b[31m██████████\u001b[0m| 1/1 [00:00<00:00, 11.90it/s]\n"
     ]
    },
    {
     "name": "stdout",
     "output_type": "stream",
     "text": [
      "3987 天猫精灵给我唱二人转魏三唱的包公飞情。 feec25ce-bb19-4a0c-a155-703716fbc7ba.wav\n"
     ]
    },
    {
     "name": "stderr",
     "output_type": "stream",
     "text": [
      "\n",
      "\n",
      "\u001b[A\u001b[A\n",
      "\n",
      "\u001b[A\u001b[A\n",
      "\n",
      "rtf_avg: 0.005: 100%|\u001b[34m██████████\u001b[0m| 1/1 [00:00<00:00, 36.14it/s]\n",
      "\n",
      "\n",
      "\u001b[A\u001b[A\n",
      "\n",
      "\n",
      "\u001b[A\u001b[A\u001b[A\n",
      "\n",
      "\n",
      "\u001b[A\u001b[A\u001b[A\n",
      "\n",
      "\n",
      "rtf_avg: 0.017: 100%|\u001b[34m██████████\u001b[0m| 1/1 [00:00<00:00, 13.27it/s]\n",
      "\n",
      "\n",
      "rtf_avg: 0.018, time_speech:  4.490, time_escape: 0.081: 100%|\u001b[31m██████████\u001b[0m| 1/1 [00:00<00:00, 12.05it/s]\n"
     ]
    },
    {
     "name": "stdout",
     "output_type": "stream",
     "text": [
      "3988 天猫精灵来碗热乎的八宝杂粮粥吧。 fef4591f-edd3-4e17-9913-707017a77657.wav\n"
     ]
    },
    {
     "name": "stderr",
     "output_type": "stream",
     "text": [
      "\n",
      "\n",
      "\u001b[A\u001b[A\n",
      "\n",
      "\u001b[A\u001b[A\n",
      "\n",
      "rtf_avg: 0.006: 100%|\u001b[34m██████████\u001b[0m| 1/1 [00:00<00:00, 36.81it/s]\n",
      "\n",
      "\n",
      "\u001b[A\u001b[A\n",
      "\n",
      "\n",
      "\u001b[A\u001b[A\u001b[A\n",
      "\n",
      "\n",
      "\u001b[A\u001b[A\u001b[A\n",
      "\n",
      "\n",
      "rtf_avg: 0.017: 100%|\u001b[34m██████████\u001b[0m| 1/1 [00:00<00:00, 13.22it/s]\n",
      "\n",
      "\n",
      "rtf_avg: 0.018, time_speech:  4.400, time_escape: 0.079: 100%|\u001b[31m██████████\u001b[0m| 1/1 [00:00<00:00, 12.02it/s]\n"
     ]
    },
    {
     "name": "stdout",
     "output_type": "stream",
     "text": [
      "3989 天猫精灵来份香辣脆土豆丝吧。 fefef539-bbe6-452d-a3d8-d66a5ebe5900.wav\n"
     ]
    },
    {
     "name": "stderr",
     "output_type": "stream",
     "text": [
      "\n",
      "\n",
      "\u001b[A\u001b[A\n",
      "\n",
      "\u001b[A\u001b[A\n",
      "\n",
      "rtf_avg: 0.005: 100%|\u001b[34m██████████\u001b[0m| 1/1 [00:00<00:00, 25.09it/s]\n",
      "\n",
      "\n",
      "\u001b[A\u001b[A\n",
      "\n",
      "\n",
      "\u001b[A\u001b[A\u001b[A\n",
      "\n",
      "\n",
      "\u001b[A\u001b[A\u001b[A\n",
      "\n",
      "\n",
      "rtf_avg: 0.011: 100%|\u001b[34m██████████\u001b[0m| 1/1 [00:00<00:00, 11.30it/s]\n",
      "\n",
      "\n",
      "rtf_avg: 0.012, time_speech:  7.860, time_escape: 0.093: 100%|\u001b[31m██████████\u001b[0m| 1/1 [00:00<00:00, 10.46it/s]\n"
     ]
    },
    {
     "name": "stdout",
     "output_type": "stream",
     "text": [
      "3990 天猫精灵热播的猴子警长第一第二季、第三季第四季。😊 ff3d83c2-1636-4167-94c6-e9c5a751b9c1.wav\n"
     ]
    },
    {
     "name": "stderr",
     "output_type": "stream",
     "text": [
      "\n",
      "\n",
      "\u001b[A\u001b[A\n",
      "\n",
      "\u001b[A\u001b[A\n",
      "\n",
      "rtf_avg: 0.005: 100%|\u001b[34m██████████\u001b[0m| 1/1 [00:00<00:00, 36.27it/s]\n",
      "\n",
      "\n",
      "\u001b[A\u001b[A\n",
      "\n",
      "\n",
      "\u001b[A\u001b[A\u001b[A\n",
      "\n",
      "\n",
      "\u001b[A\u001b[A\u001b[A\n",
      "\n",
      "\n",
      "rtf_avg: 0.017: 100%|\u001b[34m██████████\u001b[0m| 1/1 [00:00<00:00, 12.84it/s]\n",
      "\n",
      "\n",
      "rtf_avg: 0.018, time_speech:  4.600, time_escape: 0.082: 100%|\u001b[31m██████████\u001b[0m| 1/1 [00:00<00:00, 11.75it/s]\n"
     ]
    },
    {
     "name": "stdout",
     "output_type": "stream",
     "text": [
      "3991 天猫精灵来碗热乎的，爱喝南瓜甜粥吧。 ff41dfb4-2070-494a-aa1c-fc947c895cca.wav\n"
     ]
    },
    {
     "name": "stderr",
     "output_type": "stream",
     "text": [
      "\n",
      "\n",
      "\u001b[A\u001b[A\n",
      "\n",
      "\u001b[A\u001b[A\n",
      "\n",
      "rtf_avg: 0.006: 100%|\u001b[34m██████████\u001b[0m| 1/1 [00:00<00:00, 37.34it/s]\n",
      "\n",
      "\n",
      "\u001b[A\u001b[A\n",
      "\n",
      "\n",
      "\u001b[A\u001b[A\u001b[A\n",
      "\n",
      "\n",
      "\u001b[A\u001b[A\u001b[A\n",
      "\n",
      "\n",
      "rtf_avg: 0.023: 100%|\u001b[34m██████████\u001b[0m| 1/1 [00:00<00:00, 11.12it/s]\n",
      "\n",
      "\n",
      "rtf_avg: 0.025, time_speech:  3.820, time_escape: 0.097: 100%|\u001b[31m██████████\u001b[0m| 1/1 [00:00<00:00, 10.00it/s]\n"
     ]
    },
    {
     "name": "stdout",
     "output_type": "stream",
     "text": [
      "3992 来份红葱头蛋炒饭要热乎的。 ff5444fa-c739-4a60-9ef3-29e5770a1c63.wav\n"
     ]
    },
    {
     "name": "stderr",
     "output_type": "stream",
     "text": [
      "\n",
      "\n",
      "\u001b[A\u001b[A\n",
      "\n",
      "\u001b[A\u001b[A\n",
      "\n",
      "rtf_avg: 0.005: 100%|\u001b[34m██████████\u001b[0m| 1/1 [00:00<00:00, 35.59it/s]\n",
      "\n",
      "\n",
      "\u001b[A\u001b[A\n",
      "\n",
      "\n",
      "\u001b[A\u001b[A\u001b[A\n",
      "\n",
      "\n",
      "\u001b[A\u001b[A\u001b[A\n",
      "\n",
      "\n",
      "rtf_avg: 0.017: 100%|\u001b[34m██████████\u001b[0m| 1/1 [00:00<00:00, 12.51it/s]\n",
      "\n",
      "\n",
      "rtf_avg: 0.019, time_speech:  4.510, time_escape: 0.084: 100%|\u001b[31m██████████\u001b[0m| 1/1 [00:00<00:00, 11.64it/s]\n"
     ]
    },
    {
     "name": "stdout",
     "output_type": "stream",
     "text": [
      "3993 天猫精灵来我山药肉粥热敷达。 ff585ba6-b8eb-4249-9778-a20d288478ca.wav\n"
     ]
    },
    {
     "name": "stderr",
     "output_type": "stream",
     "text": [
      "\n",
      "\n",
      "\u001b[A\u001b[A\n",
      "\n",
      "\u001b[A\u001b[A\n",
      "\n",
      "rtf_avg: 0.005: 100%|\u001b[34m██████████\u001b[0m| 1/1 [00:00<00:00, 28.45it/s]\n",
      "\n",
      "\n",
      "\u001b[A\u001b[A\n",
      "\n",
      "\n",
      "\u001b[A\u001b[A\u001b[A\n",
      "\n",
      "\n",
      "\u001b[A\u001b[A\u001b[A\n",
      "\n",
      "\n",
      "rtf_avg: 0.060: 100%|\u001b[34m██████████\u001b[0m| 1/1 [00:00<00:00, 13.00it/s]\n",
      "\n",
      "\n",
      "rtf_avg: 0.013, time_speech:  6.540, time_escape: 0.083: 100%|\u001b[31m██████████\u001b[0m| 1/1 [00:00<00:00, 11.83it/s]\n"
     ]
    },
    {
     "name": "stdout",
     "output_type": "stream",
     "text": [
      "3994 第1个13。 ff6effd3-a6e9-4a81-8764-37a92012f111.wav\n"
     ]
    },
    {
     "name": "stderr",
     "output_type": "stream",
     "text": [
      "\n",
      "\n",
      "\u001b[A\u001b[A\n",
      "\n",
      "\u001b[A\u001b[A\n",
      "\n",
      "rtf_avg: 0.006: 100%|\u001b[34m██████████\u001b[0m| 1/1 [00:00<00:00, 38.42it/s]\n",
      "\n",
      "\n",
      "\u001b[A\u001b[A\n",
      "\n",
      "\n",
      "\u001b[A\u001b[A\u001b[A\n",
      "\n",
      "\n",
      "\u001b[A\u001b[A\u001b[A\n",
      "\n",
      "\n",
      "rtf_avg: 0.022: 100%|\u001b[34m██████████\u001b[0m| 1/1 [00:00<00:00, 11.96it/s]\n",
      "\n",
      "\n",
      "rtf_avg: 0.024, time_speech:  3.740, time_escape: 0.089: 100%|\u001b[31m██████████\u001b[0m| 1/1 [00:00<00:00, 11.04it/s]\n"
     ]
    },
    {
     "name": "stdout",
     "output_type": "stream",
     "text": [
      "3995 天猫精灵来份韭黄炒蛋。 ffc97b5b-1a1c-41f7-9c2a-e123b9178929.wav\n"
     ]
    },
    {
     "name": "stderr",
     "output_type": "stream",
     "text": [
      "\n",
      "\n",
      "\u001b[A\u001b[A\n",
      "\n",
      "\u001b[A\u001b[A\n",
      "\n",
      "rtf_avg: 0.006: 100%|\u001b[34m██████████\u001b[0m| 1/1 [00:00<00:00, 31.26it/s]\n",
      "\n",
      "\n",
      "\u001b[A\u001b[A\n",
      "\n",
      "\n",
      "\u001b[A\u001b[A\u001b[A\n",
      "\n",
      "\n",
      "\u001b[A\u001b[A\u001b[A\n",
      "\n",
      "\n",
      "rtf_avg: 0.015: 100%|\u001b[34m██████████\u001b[0m| 1/1 [00:00<00:00, 12.67it/s]\n",
      "\n",
      "\n",
      "rtf_avg: 0.017, time_speech:  4.920, time_escape: 0.084: 100%|\u001b[31m██████████\u001b[0m| 1/1 [00:00<00:00, 11.49it/s]\n"
     ]
    },
    {
     "name": "stdout",
     "output_type": "stream",
     "text": [
      "3996 天猫精灵音量调到50%。 ffd68ba2-ecfe-42cc-a0f3-ed0cacf66af4.wav\n"
     ]
    },
    {
     "name": "stderr",
     "output_type": "stream",
     "text": [
      "\n",
      "\n",
      "\u001b[A\u001b[A\n",
      "\n",
      "\u001b[A\u001b[A\n",
      "\n",
      "rtf_avg: 0.006: 100%|\u001b[34m██████████\u001b[0m| 1/1 [00:00<00:00, 39.08it/s]\n",
      "\n",
      "\n",
      "\u001b[A\u001b[A\n",
      "\n",
      "\n",
      "\u001b[A\u001b[A\u001b[A\n",
      "\n",
      "\n",
      "\u001b[A\u001b[A\u001b[A\n",
      "\n",
      "\n",
      "rtf_avg: 0.023: 100%|\u001b[34m██████████\u001b[0m| 1/1 [00:00<00:00, 11.61it/s]\n",
      "\n",
      "\n",
      "rtf_avg: 0.025, time_speech:  3.660, time_escape: 0.092: 100%|\u001b[31m██████████\u001b[0m| 1/1 [00:00<00:00, 10.62it/s]\n"
     ]
    },
    {
     "name": "stdout",
     "output_type": "stream",
     "text": [
      "3997 天猫精灵要碗香菇青菜肉末粥吧。 ffdf3226-8957-4db3-8d96-dddb868e0e21.wav\n"
     ]
    },
    {
     "name": "stderr",
     "output_type": "stream",
     "text": [
      "\n",
      "\n",
      "\u001b[A\u001b[A\n",
      "\n",
      "\u001b[A\u001b[A\n",
      "\n",
      "rtf_avg: 0.006: 100%|\u001b[34m██████████\u001b[0m| 1/1 [00:00<00:00, 27.87it/s]\n",
      "\n",
      "\n",
      "\u001b[A\u001b[A\n",
      "\n",
      "\n",
      "\u001b[A\u001b[A\u001b[A\n",
      "\n",
      "\n",
      "\u001b[A\u001b[A\u001b[A\n",
      "\n",
      "\n",
      "rtf_avg: 0.014: 100%|\u001b[34m██████████\u001b[0m| 1/1 [00:00<00:00, 11.96it/s]\n",
      "\n",
      "\n",
      "rtf_avg: 0.016, time_speech:  5.460, time_escape: 0.089: 100%|\u001b[31m██████████\u001b[0m| 1/1 [00:00<00:00, 10.92it/s]\n"
     ]
    },
    {
     "name": "stdout",
     "output_type": "stream",
     "text": [
      "3998 天猫精灵哎，休息吧，休息一会儿。😊 ffe43961-d862-42f7-9b7e-622b1bb54375.wav\n"
     ]
    },
    {
     "name": "stderr",
     "output_type": "stream",
     "text": [
      "\n",
      "\n",
      "\u001b[A\u001b[A\n",
      "\n",
      "\u001b[A\u001b[A\n",
      "\n",
      "rtf_avg: 0.005: 100%|\u001b[34m██████████\u001b[0m| 1/1 [00:00<00:00, 31.14it/s]\n",
      "\n",
      "\n",
      "\u001b[A\u001b[A\n",
      "\n",
      "\n",
      "\u001b[A\u001b[A\u001b[A\n",
      "\n",
      "\n",
      "\u001b[A\u001b[A\u001b[A\n",
      "\n",
      "\n",
      "rtf_avg: 0.014: 100%|\u001b[34m██████████\u001b[0m| 1/1 [00:00<00:00, 13.29it/s]\n",
      "\n",
      "\n",
      "rtf_avg: 0.015, time_speech:  5.320, time_escape: 0.080: 100%|\u001b[31m██████████\u001b[0m| 1/1 [00:00<00:00, 12.02it/s]\n"
     ]
    },
    {
     "name": "stdout",
     "output_type": "stream",
     "text": [
      "3999 天猫精灵小鸟的声音循环播放。 ffe8d7c0-4060-4972-8227-0b4bd08930d5.wav\n"
     ]
    },
    {
     "name": "stderr",
     "output_type": "stream",
     "text": [
      "\n",
      "\n",
      "\u001b[A\u001b[A\n",
      "\n",
      "\u001b[A\u001b[A\n",
      "\n",
      "rtf_avg: 0.005: 100%|\u001b[34m██████████\u001b[0m| 1/1 [00:00<00:00, 31.67it/s]\n",
      "\n",
      "\n",
      "\u001b[A\u001b[A\n",
      "\n",
      "\n",
      "\u001b[A\u001b[A\u001b[A\n",
      "\n",
      "\n",
      "\u001b[A\u001b[A\u001b[A\n",
      "\n",
      "\n",
      "rtf_avg: 0.013: 100%|\u001b[34m██████████\u001b[0m| 1/1 [00:00<00:00, 13.86it/s]\n",
      "\n",
      "\n",
      "rtf_avg: 0.014, time_speech:  5.400, time_escape: 0.077: 100%|\u001b[31m██████████\u001b[0m| 1/1 [00:00<00:00, 12.63it/s]"
     ]
    },
    {
     "name": "stdout",
     "output_type": "stream",
     "text": [
      "4000 天猫精灵，你你能不能听懂点话？ ffeb6235-d44c-4bdb-b1d2-15aa7d3a612f.wav\n"
     ]
    },
    {
     "name": "stderr",
     "output_type": "stream",
     "text": [
      "\n"
     ]
    }
   ],
   "source": [
    "ASR = []\n",
    "num = 1\n",
    "for i in file_names:\n",
    "    res = model.generate(\n",
    "    input=fr\"D:\\code\\competiton\\饿了么智慧点餐\\ASR\\B\\dataset_b\\{i}\",\n",
    "    cache={},\n",
    "    language=\"zn\",  # \"zn\", \"en\", \"yue\", \"ja\", \"ko\", \"nospeech\"\n",
    "    use_itn=True,\n",
    "    batch_size_s=60,\n",
    "    merge_vad=True,  #\n",
    "    merge_length_s=15,\n",
    ")\n",
    "    text = rich_transcription_postprocess(res[0][\"text\"])\n",
    "\n",
    "    ASR.append({'text': text, 'uuid': i.split('.')[0]})\n",
    "    print(num, text,i)\n",
    "    num += 1"
   ]
  },
  {
   "cell_type": "code",
   "execution_count": 10,
   "id": "2166b382",
   "metadata": {},
   "outputs": [
    {
     "data": {
      "text/plain": [
       "4000"
      ]
     },
     "execution_count": 10,
     "metadata": {},
     "output_type": "execute_result"
    }
   ],
   "source": [
    "len(ASR)"
   ]
  },
  {
   "cell_type": "code",
   "execution_count": 11,
   "id": "11c66f88",
   "metadata": {},
   "outputs": [],
   "source": [
    "import json\n",
    "with open(\"id_text.json\", \"w\", encoding=\"utf-8\") as f:\n",
    "    json.dump(ASR, f, ensure_ascii=False, indent=4)\n",
    "\n",
    "with open('id_text.txt', \"w\", encoding=\"utf-8\") as f:\n",
    "    for i in ASR:\n",
    "        f.write(i['uuid'] + '\\t' + i['text'] + '\\n')"
   ]
  }
 ],
 "metadata": {
  "kernelspec": {
   "display_name": "ASR",
   "language": "python",
   "name": "python3"
  },
  "language_info": {
   "codemirror_mode": {
    "name": "ipython",
    "version": 3
   },
   "file_extension": ".py",
   "mimetype": "text/x-python",
   "name": "python",
   "nbconvert_exporter": "python",
   "pygments_lexer": "ipython3",
   "version": "3.9.22"
  }
 },
 "nbformat": 4,
 "nbformat_minor": 5
}
