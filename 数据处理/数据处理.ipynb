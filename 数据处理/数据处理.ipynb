{
 "cells": [
  {
   "cell_type": "code",
   "execution_count": 1,
   "id": "dc57c1da",
   "metadata": {},
   "outputs": [],
   "source": [
    "import pandas as pd\n",
    "import numpy as np\n",
    "import json"
   ]
  },
  {
   "cell_type": "code",
   "execution_count": 2,
   "id": "24b69e62",
   "metadata": {},
   "outputs": [],
   "source": [
    "with open(r'D:\\code\\competiton\\饿了么智慧点餐\\数据处理\\dim_ai_exam_food_category_filter_out.txt', 'r') as f:\n",
    "    text = []\n",
    "    for line in f: \n",
    "        line = '[SEP]'.join(line.strip().split('\\t'))\n",
    "        text.append(line)\n"
   ]
  },
  {
   "cell_type": "code",
   "execution_count": 3,
   "id": "046d6acd",
   "metadata": {},
   "outputs": [],
   "source": [
    "text = text[1:]"
   ]
  },
  {
   "cell_type": "code",
   "execution_count": 4,
   "id": "b699728d",
   "metadata": {},
   "outputs": [
    {
     "name": "stdout",
     "output_type": "stream",
     "text": [
      "11060\n"
     ]
    }
   ],
   "source": [
    "print(len(text))    "
   ]
  },
  {
   "cell_type": "code",
   "execution_count": 42,
   "id": "7725833f",
   "metadata": {},
   "outputs": [],
   "source": [
    "with open('text.txt', 'w') as f:\n",
    "    for line in text:\n",
    "        f.write(line + '\\n')"
   ]
  },
  {
   "cell_type": "code",
   "execution_count": null,
   "id": "19c10fcd",
   "metadata": {},
   "outputs": [],
   "source": [
    "with open(r'D:\\code\\competiton\\饿了么智慧点餐\\RAG推荐\\ans_1.txt', 'r', encoding='utf-8') as f:\n",
    "    ans = []\n",
    "    for line in f:\n",
    "        ans.append(line.strip())\n",
    "ans1 = dict()\n",
    "for i in ans:\n",
    "    ans1[i.split('\\t')[0]] = i\n",
    "ans1\n",
    "len(ans)\n",
    "with open(r'D:\\code\\competiton\\饿了么智慧点餐\\智慧养老_label\\A.txt', 'r', encoding='utf-8') as f:\n",
    "    A = []\n",
    "    for line in f:\n",
    "        A.append(line.strip())\n",
    "A = A[1:]\n",
    "\n",
    "with open(r'ans2.txt', 'w', encoding='utf-8') as f:\n",
    "    for line in A:\n",
    "        f.write(ans1[line] + '\\n')"
   ]
  }
 ],
 "metadata": {
  "kernelspec": {
   "display_name": "transformers",
   "language": "python",
   "name": "transformer"
  },
  "language_info": {
   "codemirror_mode": {
    "name": "ipython",
    "version": 3
   },
   "file_extension": ".py",
   "mimetype": "text/x-python",
   "name": "python",
   "nbconvert_exporter": "python",
   "pygments_lexer": "ipython3",
   "version": "3.9.20"
  }
 },
 "nbformat": 4,
 "nbformat_minor": 5
}
