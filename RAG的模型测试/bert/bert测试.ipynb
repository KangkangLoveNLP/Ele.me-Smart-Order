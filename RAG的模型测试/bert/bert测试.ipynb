{
 "cells": [
  {
   "cell_type": "code",
   "execution_count": null,
   "id": "f4856efb",
   "metadata": {},
   "outputs": [],
   "source": [
    "from tinyRAG.embedding import VectorStore,read_file_content,MyEmbedding #  我写的RAG，在同个文件夹下"
   ]
  },
  {
   "cell_type": "code",
   "execution_count": null,
   "id": "808730c3",
   "metadata": {},
   "outputs": [],
   "source": [
    "data  = []\n",
    "with open(\"D:\\code\\competiton\\饿了么智慧点餐\\RAG的模型测试\\dim_ai_exam_food_category_filter_out.txt\",'r',encoding = 'utf-8') as f:\n",
    "    for line in f:\n",
    "        \n",
    "        data.append('[SEP]'.join(line.strip().split('\\t')))\n",
    "\n",
    "data = data[1:]\n",
    "data"
   ]
  },
  {
   "cell_type": "code",
   "execution_count": null,
   "id": "6e232882",
   "metadata": {},
   "outputs": [],
   "source": [
    "model = 'google-bert/bert-base-chinese'\n",
    "embedding_model = MyEmbedding(path=model)\n"
   ]
  },
  {
   "cell_type": "code",
   "execution_count": null,
   "id": "1e133d5a",
   "metadata": {},
   "outputs": [],
   "source": [
    "# vs = VectorStore(data)\n",
    "# vs.get_vector(EmbeddingModel=embedding_model)\n",
    "# vs.persist(path = \"bert数据库\")\n",
    "vs  = VectorStore()\n",
    "vs.load_vector( path = r'bert数据库')\n",
    "# 查询示例\n",
    "query = '鱼豆腐汤'\n",
    "result = vs.query(query = query,EmbeddingModel=embedding_model,k=10)\n",
    "result"
   ]
  },
  {
   "cell_type": "code",
   "execution_count": null,
   "id": "d036f18c",
   "metadata": {},
   "outputs": [],
   "source": [
    "import json\n",
    "with open('D:\\code\\competiton\\饿了么智慧点餐\\RAG的模型测试\\one_text_ds.json','r',encoding=\"utf-8\") as f:\n",
    "    text = json.load(f)"
   ]
  },
  {
   "cell_type": "code",
   "execution_count": null,
   "id": "bdf2042e",
   "metadata": {},
   "outputs": [],
   "source": [
    "text"
   ]
  },
  {
   "cell_type": "code",
   "execution_count": null,
   "id": "e3130ada",
   "metadata": {},
   "outputs": [],
   "source": [
    "ans = []\n",
    "from tqdm import tqdm\n",
    "for i in tqdm(text):\n",
    "    ans.append(vs.query(i,EmbeddingModel=embedding_model,k=1))"
   ]
  },
  {
   "cell_type": "code",
   "execution_count": null,
   "id": "00d8164a",
   "metadata": {},
   "outputs": [],
   "source": [
    "ans"
   ]
  },
  {
   "cell_type": "code",
   "execution_count": null,
   "id": "15558d8a",
   "metadata": {},
   "outputs": [],
   "source": [
    "with open('bert结果.txt',\"w\",encoding=\"utf-8\") as f:\n",
    "    for i in range(len(ans)):\n",
    "        f.write(ans[i][0].split('[SEP]')[0] + '\\t' + text[i]+ '\\n')"
   ]
  },
  {
   "cell_type": "code",
   "execution_count": null,
   "id": "38cb4743",
   "metadata": {},
   "outputs": [],
   "source": [
    "from openai import OpenAI\n",
    "client = OpenAI(api_key='sk-30d9e5ff6f22478687ae7d87f6615edc', base_url=\"https://api.deepseek.com\")"
   ]
  },
  {
   "cell_type": "code",
   "execution_count": null,
   "id": "ec62d695",
   "metadata": {},
   "outputs": [],
   "source": [
    "def dummy_response_R1(example,client):\n",
    "        messages = []\n",
    "        messages.append({\"role\": \"system\", \n",
    "        \"content\": \n",
    "        f''' \n",
    "        角色：你是一个对RAG召回结果判断是否符合的判别大师\n",
    "        任务：判断召回结果和原词条是否相符\n",
    "        生成条件：只能生成1条文本，你要理解样例，并类比样例对召回结果和原词条进行判断，生成结果有三种：1.召回结果符合原词条,召回结果的范围可以比原词条的大一些，口味可以不一致，；2.召回结果部分满足原词条，即召回结果的范围比原词条小；3.召回结果和原词条完全不相符。\n",
    "        禁止：禁止生成重复的内容和问答句子，禁止生成无关内容；输出的文本中不能包含任何多余的内容。禁止输出非json格式的内容。\n",
    "        工作流：参考以下条样例，扮演好你的角色，生成对应的json格式的输出\n",
    "        注意：召回结果会有商家起的更可爱的名字，如皮蛋 - 皮皮蛋之类的，你要正确的识别出来\n",
    "        样例： \n",
    "        1.输入： 原词条：番茄鸡蛋盖饭；召回结果：番茄炒鸡蛋；\n",
    "          输出： {{\"判断相符\":'2','原因':\"召回结果部分满足原词条，原词条的是盖饭，召回结果是没有饭，\" }}\n",
    "        2.输入： 原词条：番茄蛋花面疙瘩汤；召回结果：番茄豆腐鸡蛋疙瘩汤；\n",
    "          输出：{{\"判断相符\":'1','原因':\"召回结果符合原词条，召回结果范围比原词条大，但是可以覆盖原词条\" }}\n",
    "        3.输入：原词条：炒葱香干豆腐丝；召回结果：豆腐皮裹香菜；\n",
    "          输出：{{\"判断相符\":'2','原因':\"召回结果部分满足原词条，原词条是抄葱，召回结果是香菜\" }}\n",
    "        4.输入：原词条：冬瓜排骨汤泡饭；召回结果：排骨小青菜泡饭；\n",
    "          输出：{{\"判断相符\":'2','原因':\"召回结果部分满足原词条，召回结果少了冬瓜\" }}\n",
    "        5.输入：原词条：粥热乎的；召回结果：暖暖的小米粥；\n",
    "          输入：{{\"判断相符\":'1','原因':\"召回结果符合原词条\" }}\n",
    "        6.输入：原词条：土鸡汤；召回结果：茶树菇土鸡汤；\n",
    "          输出：{{\"判断相符\":'1','原因':\"召回结果符合原词条，召回结果比原词条大，但是和原词条相符\" }}\n",
    "        7.输入：原词条：姜汤；召回结果：牛肉当归粥；\n",
    "          输出：{{\"判断相符\":'3','原因':\"召回结果和原词条完全不相符\" }}\n",
    "        8.输入：原词条：鲜鱼嫩豆腐汤；召回结果：海鲜嫩豆腐汤；\n",
    "          输出：{{\"判断相符\":'2','原因':\"召回结果和原词条部分相符\" }}\n",
    "        以下是你要改写的内容：\n",
    "        原词条：{example[0]}；召回结果：{example[1]}\n",
    "        不需要其他的内容。请注意，输出的文本中不能包含任何多余的内容，输出为json格式，输出的json的\"原因\"要加上你的理解的部分。\n",
    "        ''' })\n",
    "\n",
    "        response = client.chat.completions.create(\n",
    "        model=\"deepseek-chat\",\n",
    "        messages=messages,\n",
    "        response_format={\n",
    "        'type': 'json_object'\n",
    "        }\n",
    "          )\n",
    "        response =  response.choices[0].message.content\n",
    "        print(response+\"\\n\"+example[0]+'\\t'+example[1])\n",
    "        return response"
   ]
  },
  {
   "cell_type": "code",
   "execution_count": null,
   "id": "06fbaa22",
   "metadata": {},
   "outputs": [],
   "source": [
    "ans,len(ans)"
   ]
  },
  {
   "cell_type": "code",
   "execution_count": null,
   "id": "7b53c08c",
   "metadata": {},
   "outputs": [],
   "source": [
    "text,len(text)"
   ]
  },
  {
   "cell_type": "code",
   "execution_count": null,
   "id": "b8efb134",
   "metadata": {},
   "outputs": [],
   "source": [
    "text[1],ans[1][0].split('[SEP]')[0]"
   ]
  },
  {
   "cell_type": "code",
   "execution_count": 41,
   "id": "81dec80a",
   "metadata": {},
   "outputs": [
    {
     "name": "stderr",
     "output_type": "stream",
     "text": [
      " 93%|█████████▎| 1845/1978 [16:49:21<14:13,  6.42s/it]"
     ]
    },
    {
     "name": "stdout",
     "output_type": "stream",
     "text": [
      "{\"判断相符\":'2','原因':\"召回结果部分满足原词条，召回结果比原词条多了红豆\" }\n",
      "黑米粥\t黑米红豆粥\n"
     ]
    },
    {
     "name": "stderr",
     "output_type": "stream",
     "text": [
      " 93%|█████████▎| 1846/1978 [16:49:26<13:48,  6.27s/it]"
     ]
    },
    {
     "name": "stdout",
     "output_type": "stream",
     "text": [
      "{\"判断相符\":'3','原因':\"召回结果和原词条完全不相符，原词条是豆芽，召回结果是土豆丝\" }\n",
      "家常小炒嫩豆芽\t家常小炒土豆丝\n"
     ]
    },
    {
     "name": "stderr",
     "output_type": "stream",
     "text": [
      " 93%|█████████▎| 1847/1978 [16:49:32<13:02,  5.97s/it]"
     ]
    },
    {
     "name": "stdout",
     "output_type": "stream",
     "text": [
      "{\"判断相符\":'1','原因':\"召回结果符合原词条，召回结果比原词条大，但是和原词条相符\" }\n",
      "鸭汤粉丝\t妯娌老鸭粉丝汤\n"
     ]
    },
    {
     "name": "stderr",
     "output_type": "stream",
     "text": [
      " 93%|█████████▎| 1848/1978 [16:49:39<13:49,  6.38s/it]"
     ]
    },
    {
     "name": "stdout",
     "output_type": "stream",
     "text": [
      "{\"判断相符\":'1','原因':\"召回结果符合原词条，召回结果比原词条大，但是和原词条相符\" }\n",
      "紫菜汤\t紫菜海米汤\n"
     ]
    },
    {
     "name": "stderr",
     "output_type": "stream",
     "text": [
      " 93%|█████████▎| 1849/1978 [16:49:44<12:46,  5.94s/it]"
     ]
    },
    {
     "name": "stdout",
     "output_type": "stream",
     "text": [
      "{\"判断相符\":'1','原因':\"召回结果符合原词条，召回结果比原词条更具体，但核心内容一致\" }\n",
      "老味儿打卤面\t招牌老北京打卤面\n"
     ]
    },
    {
     "name": "stderr",
     "output_type": "stream",
     "text": [
      " 94%|█████████▎| 1850/1978 [16:49:50<12:30,  5.86s/it]"
     ]
    },
    {
     "name": "stdout",
     "output_type": "stream",
     "text": [
      "{\"判断相符\":'1','原因':\"召回结果符合原词条，召回结果比原词条具体，但覆盖了原词条的核心要素\" }\n",
      "乌黑滋补粥\t黑米小枣枸杞滋补粥\n"
     ]
    },
    {
     "name": "stderr",
     "output_type": "stream",
     "text": [
      " 94%|█████████▎| 1851/1978 [16:49:55<12:06,  5.72s/it]"
     ]
    },
    {
     "name": "stdout",
     "output_type": "stream",
     "text": [
      "{\"判断相符\":'1','原因':\"召回结果符合原词条，召回结果比原词条大，但是和原词条相符\" }\n",
      "红枣红糖粥\t红豆红枣红糖粥\n"
     ]
    },
    {
     "name": "stderr",
     "output_type": "stream",
     "text": [
      " 94%|█████████▎| 1852/1978 [16:50:01<12:08,  5.78s/it]"
     ]
    },
    {
     "name": "stdout",
     "output_type": "stream",
     "text": [
      "{\"判断相符\":'2','原因':\"召回结果部分满足原词条，召回结果中的花旗参是西洋参的别称，但主料从鸡变为了鸽子，且增加了红枣、桂圆、枸杞等配料\" }\n",
      "西洋参炖脑补鸡汤\t花旗参红枣桂圆枸杞炖鸽子汤\n"
     ]
    },
    {
     "name": "stderr",
     "output_type": "stream",
     "text": [
      " 94%|█████████▎| 1853/1978 [16:50:06<11:18,  5.43s/it]"
     ]
    },
    {
     "name": "stdout",
     "output_type": "stream",
     "text": [
      "{\"判断相符\":'2','原因':\"召回结果部分满足原词条，原词条是小米粥，召回结果多了糯米\" }\n",
      "小米粥\t小米糯米粥\n"
     ]
    },
    {
     "name": "stderr",
     "output_type": "stream",
     "text": [
      " 94%|█████████▎| 1854/1978 [16:50:13<12:33,  6.07s/it]"
     ]
    },
    {
     "name": "stdout",
     "output_type": "stream",
     "text": [
      "{\"判断相符\":'2','原因':\"召回结果部分满足原词条，原词条是拌，召回结果是炒\" }\n",
      "豆芽拌海蜇皮\t豆芽炒海蜇皮\n"
     ]
    },
    {
     "name": "stderr",
     "output_type": "stream",
     "text": [
      " 94%|█████████▍| 1855/1978 [16:50:18<11:45,  5.73s/it]"
     ]
    },
    {
     "name": "stdout",
     "output_type": "stream",
     "text": [
      "{\"判断相符\":'1','原因':\"召回结果符合原词条，召回结果使用了更可爱的名字'皮皮蛋'，但实质内容与原词条一致\"}\n",
      "皮蛋瘦肉粥\t皮皮蛋瘦肉粥\n"
     ]
    },
    {
     "name": "stderr",
     "output_type": "stream",
     "text": [
      " 94%|█████████▍| 1856/1978 [16:50:23<11:16,  5.55s/it]"
     ]
    },
    {
     "name": "stdout",
     "output_type": "stream",
     "text": [
      "{\"判断相符\":'1','原因':\"召回结果符合原词条，虽然召回结果中皮蛋的名字有所变化，但实质内容与原词条一致\" }\n",
      "皮蛋瘦肉粥\t皮皮蛋瘦肉粥\n"
     ]
    },
    {
     "name": "stderr",
     "output_type": "stream",
     "text": [
      " 94%|█████████▍| 1857/1978 [16:50:28<10:44,  5.32s/it]"
     ]
    },
    {
     "name": "stdout",
     "output_type": "stream",
     "text": [
      "{\"判断相符\":'1','原因':\"召回结果符合原词条，召回结果的范围比原词条大，但可以覆盖原词条\" }\n",
      "茄子焖土豆块\t家常土豆炖茄子酱\n"
     ]
    },
    {
     "name": "stderr",
     "output_type": "stream",
     "text": [
      " 94%|█████████▍| 1858/1978 [16:50:33<10:16,  5.14s/it]"
     ]
    },
    {
     "name": "stdout",
     "output_type": "stream",
     "text": [
      "{\"判断相符\":'2','原因':\"召回结果部分满足原词条，原词条的是绿豆汤，召回结果增加了小米\" }\n",
      "绿豆汤\t绿豆小米汤\n"
     ]
    },
    {
     "name": "stderr",
     "output_type": "stream",
     "text": [
      " 94%|█████████▍| 1859/1978 [16:50:38<10:05,  5.09s/it]"
     ]
    },
    {
     "name": "stdout",
     "output_type": "stream",
     "text": [
      "{\"判断相符\":'1','原因':\"召回结果符合原词条，召回结果的范围可以比原词条的大一些，口味可以不一致\"}\n",
      "煮烂的粥\t古法熬制的小米粥\n"
     ]
    },
    {
     "name": "stderr",
     "output_type": "stream",
     "text": [
      " 94%|█████████▍| 1860/1978 [16:50:43<10:02,  5.11s/it]"
     ]
    },
    {
     "name": "stdout",
     "output_type": "stream",
     "text": [
      "{\"判断相符\":'1','原因':\"召回结果符合原词条，召回结果使用了更可爱的名字'皮皮蛋'，但实质内容与原词条一致\"}\n",
      "皮蛋瘦肉粥\t皮皮蛋瘦肉粥\n"
     ]
    },
    {
     "name": "stderr",
     "output_type": "stream",
     "text": [
      " 94%|█████████▍| 1861/1978 [16:50:51<11:50,  6.08s/it]"
     ]
    },
    {
     "name": "stdout",
     "output_type": "stream",
     "text": [
      "{\"判断相符\":'2','原因':\"召回结果部分满足原词条，原词条是乌鸡汤，召回结果是老火汤，缺少乌鸡\" }\n",
      "生香老火乌鸡汤\t五指毛桃炖老火汤\n"
     ]
    },
    {
     "name": "stderr",
     "output_type": "stream",
     "text": [
      " 94%|█████████▍| 1862/1978 [16:50:56<10:52,  5.62s/it]"
     ]
    },
    {
     "name": "stdout",
     "output_type": "stream",
     "text": [
      "{\"判断相符\":'1','原因':\"召回结果符合原词条，召回结果比原词条大，但是和原词条相符\" }\n",
      "小米粥\t小米糯米粥\n"
     ]
    },
    {
     "name": "stderr",
     "output_type": "stream",
     "text": [
      " 94%|█████████▍| 1863/1978 [16:51:01<10:21,  5.40s/it]"
     ]
    },
    {
     "name": "stdout",
     "output_type": "stream",
     "text": [
      "{\"判断相符\":'1','原因':\"召回结果符合原词条，召回结果比原词条更具体，但核心内容一致\" }\n",
      "番茄炒蛋\t四个鸡蛋的番茄炒蛋\n"
     ]
    },
    {
     "name": "stderr",
     "output_type": "stream",
     "text": [
      " 94%|█████████▍| 1864/1978 [16:51:06<10:02,  5.28s/it]"
     ]
    },
    {
     "name": "stdout",
     "output_type": "stream",
     "text": [
      "{\"判断相符\":'2','原因':\"召回结果部分满足原词条，原词条是小米粥，召回结果加了糯米\" }\n",
      "小米粥\t小米糯米粥\n"
     ]
    },
    {
     "name": "stderr",
     "output_type": "stream",
     "text": [
      " 94%|█████████▍| 1865/1978 [16:51:11<10:01,  5.32s/it]"
     ]
    },
    {
     "name": "stdout",
     "output_type": "stream",
     "text": [
      "{\"判断相符\":'1','原因':\"召回结果符合原词条，召回结果使用了更可爱的名字'皮皮蛋'，但实质内容与原词条一致\"}\n",
      "皮蛋瘦肉粥\t皮皮蛋瘦肉粥\n"
     ]
    },
    {
     "name": "stderr",
     "output_type": "stream",
     "text": [
      " 94%|█████████▍| 1866/1978 [16:51:16<09:44,  5.22s/it]"
     ]
    },
    {
     "name": "stdout",
     "output_type": "stream",
     "text": [
      "{\"判断相符\":'1','原因':\"召回结果符合原词条，召回结果比原词条大，但是和原词条相符\" }\n",
      "鸡丝手擀面\t香菇鸡丝手擀面\n"
     ]
    },
    {
     "name": "stderr",
     "output_type": "stream",
     "text": [
      " 94%|█████████▍| 1867/1978 [16:51:22<09:48,  5.30s/it]"
     ]
    },
    {
     "name": "stdout",
     "output_type": "stream",
     "text": [
      "{\"判断相符\":'1','原因':\"召回结果符合原词条，召回结果比原词条大，但是和原词条相符\" }\n",
      "养生老鸭汤\t清凉滋补老鸭汤\n"
     ]
    },
    {
     "name": "stderr",
     "output_type": "stream",
     "text": [
      " 94%|█████████▍| 1868/1978 [16:51:27<09:37,  5.25s/it]"
     ]
    },
    {
     "name": "stdout",
     "output_type": "stream",
     "text": [
      "{\"判断相符\":'1','原因':\"召回结果符合原词条，召回结果比原词条更具体，但本质上是相同的菜品\" }\n",
      "香葱炒蛋\t香葱炒笨鸡蛋\n"
     ]
    },
    {
     "name": "stderr",
     "output_type": "stream",
     "text": [
      " 94%|█████████▍| 1869/1978 [16:51:34<10:40,  5.88s/it]"
     ]
    },
    {
     "name": "stdout",
     "output_type": "stream",
     "text": [
      "{\"判断相符\":'1','原因':\"召回结果符合原词条，召回结果比原词条大，但是和原词条相符\" }\n",
      "山药炒肉片\t木耳山药炒肉片\n"
     ]
    },
    {
     "name": "stderr",
     "output_type": "stream",
     "text": [
      " 95%|█████████▍| 1870/1978 [16:51:40<10:29,  5.83s/it]"
     ]
    },
    {
     "name": "stdout",
     "output_type": "stream",
     "text": [
      "{\"判断相符\":'1','原因':\"召回结果符合原词条，召回结果比原词条大，但是和原词条相符\" }\n",
      "暖胃小米粥\t养胃暖心小米粥\n"
     ]
    },
    {
     "name": "stderr",
     "output_type": "stream",
     "text": [
      " 95%|█████████▍| 1871/1978 [16:51:45<10:07,  5.68s/it]"
     ]
    },
    {
     "name": "stdout",
     "output_type": "stream",
     "text": [
      "{\"判断相符\":'2','原因':\"召回结果部分满足原词条，原词条是香辣小炒，召回结果是樱花虾拌，口味和烹饪方式不一致\"}\n",
      "香辣小炒娃娃菜\t樱花虾拌娃娃菜\n"
     ]
    },
    {
     "name": "stderr",
     "output_type": "stream",
     "text": [
      " 95%|█████████▍| 1872/1978 [16:51:50<09:38,  5.45s/it]"
     ]
    },
    {
     "name": "stdout",
     "output_type": "stream",
     "text": [
      "{\"判断相符\":'1','原因':\"召回结果符合原词条，召回结果比原词条大，但是和原词条相符\" }\n",
      "小米粥\t小米糯米粥\n"
     ]
    },
    {
     "name": "stderr",
     "output_type": "stream",
     "text": [
      " 95%|█████████▍| 1873/1978 [16:51:56<09:54,  5.66s/it]"
     ]
    },
    {
     "name": "stdout",
     "output_type": "stream",
     "text": [
      "{\"判断相符\":'2','原因':\"召回结果部分满足原词条，召回结果少了鸡丝，但增加了桂圆、黑米和枸杞\" }\n",
      "板栗鸡丝养生粥\t板栗桂圆黑米枸杞粥\n"
     ]
    },
    {
     "name": "stderr",
     "output_type": "stream",
     "text": [
      " 95%|█████████▍| 1874/1978 [16:52:02<10:03,  5.80s/it]"
     ]
    },
    {
     "name": "stdout",
     "output_type": "stream",
     "text": [
      "{\"判断相符\":'1','原因':\"召回结果符合原词条，召回结果的范围比原词条大一些，但可以覆盖原词条\" }\n",
      "西红柿鸡蛋捞面\t招牌西红柿鸡蛋打卤面\n"
     ]
    },
    {
     "name": "stderr",
     "output_type": "stream",
     "text": [
      " 95%|█████████▍| 1875/1978 [16:52:07<09:38,  5.62s/it]"
     ]
    },
    {
     "name": "stdout",
     "output_type": "stream",
     "text": [
      "{\"判断相符\":'1','原因':\"召回结果符合原词条，召回结果比原词条多了蛋花，但主要成分紫菜和虾皮与原词条相符\" }\n",
      "鲜香虾皮紫菜汤\t紫菜虾皮蛋花汤\n"
     ]
    },
    {
     "name": "stderr",
     "output_type": "stream",
     "text": [
      " 95%|█████████▍| 1876/1978 [16:52:13<09:39,  5.68s/it]"
     ]
    },
    {
     "name": "stdout",
     "output_type": "stream",
     "text": [
      "{\"判断相符\":'2','原因':\"召回结果部分满足原词条，原词条的是小米粥，召回结果增加了糯米\" }\n",
      "小米粥\t小米糯米粥\n"
     ]
    },
    {
     "name": "stderr",
     "output_type": "stream",
     "text": [
      " 95%|█████████▍| 1877/1978 [16:52:19<09:24,  5.59s/it]"
     ]
    },
    {
     "name": "stdout",
     "output_type": "stream",
     "text": [
      "{\"判断相符\":'2','原因':\"召回结果部分满足原词条，原词条是红炸乌鸡汤，召回结果是黑豆乌鸡汤，缺少了红炸的部分\" }\n",
      "红炸乌鸡汤\t黑豆乌鸡汤\n"
     ]
    },
    {
     "name": "stderr",
     "output_type": "stream",
     "text": [
      " 95%|█████████▍| 1878/1978 [16:52:24<09:13,  5.53s/it]"
     ]
    },
    {
     "name": "stdout",
     "output_type": "stream",
     "text": [
      "{\"判断相符\":'2','原因':\"召回结果部分满足原词条，原词条是蛋黄汤，召回结果多了黄瓜和西红柿\" }\n",
      "家常紫菜蛋黄汤\t紫菜黄瓜西红柿蛋花汤\n"
     ]
    },
    {
     "name": "stderr",
     "output_type": "stream",
     "text": [
      " 95%|█████████▍| 1879/1978 [16:52:30<09:13,  5.59s/it]"
     ]
    },
    {
     "name": "stdout",
     "output_type": "stream",
     "text": [
      "{\"判断相符\":'2','原因':\"召回结果部分满足原词条，原词条是清汤面，召回结果多了打卤\" }\n",
      "清汤面\t清汤打卤面\n"
     ]
    },
    {
     "name": "stderr",
     "output_type": "stream",
     "text": [
      " 95%|█████████▌| 1880/1978 [16:52:36<09:15,  5.67s/it]"
     ]
    },
    {
     "name": "stdout",
     "output_type": "stream",
     "text": [
      "{\"判断相符\":'1','原因':\"召回结果符合原词条，召回结果虽然没有提到香火色，但是五常原产稻花香米饭可以覆盖原词条的范围\" }\n",
      "香火色的五常稻花香米饭\t五常原产稻花香米饭\n"
     ]
    },
    {
     "name": "stderr",
     "output_type": "stream",
     "text": [
      " 95%|█████████▌| 1881/1978 [16:52:41<08:54,  5.51s/it]"
     ]
    },
    {
     "name": "stdout",
     "output_type": "stream",
     "text": [
      "{\"判断相符\":'3','原因':\"召回结果和原词条完全不相符，原词条是白菜豆腐汤，召回结果是冬菇红豆莲子炖猪肚\" }\n",
      "白菜豆腐暖身汤\t冬菇红豆莲子炖猪肚\n"
     ]
    },
    {
     "name": "stderr",
     "output_type": "stream",
     "text": [
      " 95%|█████████▌| 1882/1978 [16:52:47<09:06,  5.69s/it]"
     ]
    },
    {
     "name": "stdout",
     "output_type": "stream",
     "text": [
      "{\"判断相符\":'1','原因':\"召回结果符合原词条，召回结果比原词条大，但是和原词条相符\" }\n",
      "南瓜小米粥\t南瓜红枣小米粥\n"
     ]
    },
    {
     "name": "stderr",
     "output_type": "stream",
     "text": [
      " 95%|█████████▌| 1883/1978 [16:52:56<10:33,  6.66s/it]"
     ]
    },
    {
     "name": "stdout",
     "output_type": "stream",
     "text": [
      "{\"判断相符\":'2','原因':\"召回结果部分满足原词条，原词条的是香葱，召回结果的是香菇\" }\n",
      "香葱皮蛋瘦肉粥\t皮蛋香菇瘦肉粥\n"
     ]
    },
    {
     "name": "stderr",
     "output_type": "stream",
     "text": [
      " 95%|█████████▌| 1884/1978 [16:53:01<09:49,  6.27s/it]"
     ]
    },
    {
     "name": "stdout",
     "output_type": "stream",
     "text": [
      "{\"判断相符\":'3','原因':\"召回结果和原词条完全不相符，原词条是青菜豆腐汤，召回结果是鱼香肉丝干煸豆角麻婆豆腐米饭\" }\n",
      "家常青菜豆腐汤\t鱼香肉丝干煸豆角麻婆豆腐米饭\n"
     ]
    },
    {
     "name": "stderr",
     "output_type": "stream",
     "text": [
      " 95%|█████████▌| 1885/1978 [16:53:06<09:10,  5.92s/it]"
     ]
    },
    {
     "name": "stdout",
     "output_type": "stream",
     "text": [
      "{\"判断相符\":'1','原因':\"召回结果符合原词条，召回结果比原词条大，但是和原词条相符\" }\n",
      "南瓜小米粥\t南瓜红枣小米粥\n"
     ]
    },
    {
     "name": "stderr",
     "output_type": "stream",
     "text": [
      " 95%|█████████▌| 1886/1978 [16:53:12<08:46,  5.72s/it]"
     ]
    },
    {
     "name": "stdout",
     "output_type": "stream",
     "text": [
      "{\"判断相符\":'1','原因':\"召回结果符合原词条，召回结果范围比原词条大，但是可以覆盖原词条\" }\n",
      "荷兰豆小炒\t西芹木耳炒荷兰豆\n"
     ]
    },
    {
     "name": "stderr",
     "output_type": "stream",
     "text": [
      " 95%|█████████▌| 1887/1978 [16:53:17<08:20,  5.50s/it]"
     ]
    },
    {
     "name": "stdout",
     "output_type": "stream",
     "text": [
      "{\"判断相符\":'1','原因':\"召回结果符合原词条，召回结果与原词条的成分一致，只是顺序不同\" }\n",
      "山药玉米猪肚鸡汤饭\t玉米山药猪肚鸡汤饭\n"
     ]
    },
    {
     "name": "stderr",
     "output_type": "stream",
     "text": [
      " 95%|█████████▌| 1888/1978 [16:53:22<08:05,  5.40s/it]"
     ]
    },
    {
     "name": "stdout",
     "output_type": "stream",
     "text": [
      "{\"判断相符\":'3','原因':\"召回结果和原词条完全不相符，原词条是酸菜，召回结果是酸辣裙带菜，两者完全不同\" }\n",
      "酸菜\t酸辣裙带菜\n"
     ]
    },
    {
     "name": "stderr",
     "output_type": "stream",
     "text": [
      " 96%|█████████▌| 1889/1978 [16:53:27<08:04,  5.45s/it]"
     ]
    },
    {
     "name": "stdout",
     "output_type": "stream",
     "text": [
      "{\"判断相符\":'1','原因':\"召回结果符合原词条，召回结果比原词条多了莲子，但基本成分和口味与原词条相符\" }\n",
      "冰糖雪梨银耳羹\t冰糖银耳雪梨莲子粥\n"
     ]
    },
    {
     "name": "stderr",
     "output_type": "stream",
     "text": [
      " 96%|█████████▌| 1890/1978 [16:53:32<07:43,  5.27s/it]"
     ]
    },
    {
     "name": "stdout",
     "output_type": "stream",
     "text": [
      "{\"判断相符\":'1','原因':\"召回结果符合原词条，召回结果范围比原词条大，但是可以覆盖原词条\" }\n",
      "番茄蛋花汤\t高汤番茄西红柿蛋花汤\n"
     ]
    },
    {
     "name": "stderr",
     "output_type": "stream",
     "text": [
      " 96%|█████████▌| 1891/1978 [16:53:39<08:21,  5.77s/it]"
     ]
    },
    {
     "name": "stdout",
     "output_type": "stream",
     "text": [
      "{\"判断相符\":'1','原因':\"召回结果符合原词条，召回结果比原词条多了一个'鲜炒'的修饰，但核心内容一致\" }\n",
      "酸辣大白菜\t鲜炒酸辣大白菜\n"
     ]
    },
    {
     "name": "stderr",
     "output_type": "stream",
     "text": [
      " 96%|█████████▌| 1892/1978 [16:53:44<07:56,  5.54s/it]"
     ]
    },
    {
     "name": "stdout",
     "output_type": "stream",
     "text": [
      "{\"判断相符\":'3','原因':\"召回结果和原词条完全不相符，原词条是嫩油菜，召回结果是脆皮莴笋\" }\n",
      "嫩油菜小炒\t小炒脆皮莴笋\n"
     ]
    },
    {
     "name": "stderr",
     "output_type": "stream",
     "text": [
      " 96%|█████████▌| 1893/1978 [16:53:51<08:26,  5.96s/it]"
     ]
    },
    {
     "name": "stdout",
     "output_type": "stream",
     "text": [
      "{\"判断相符\":'3','原因':\"召回结果和原词条完全不相符\" }\n",
      "等\t传统大碴粥\n"
     ]
    },
    {
     "name": "stderr",
     "output_type": "stream",
     "text": [
      " 96%|█████████▌| 1894/1978 [16:53:57<08:10,  5.84s/it]"
     ]
    },
    {
     "name": "stdout",
     "output_type": "stream",
     "text": [
      "{\"判断相符\":'2','原因':\"召回结果部分满足原词条，原词条是鲜虾嫩蛋小炒，召回结果多了青笋，少了鲜虾的表述\" }\n",
      "鲜虾嫩蛋小炒\t滑蛋虾仁炒青笋\n"
     ]
    },
    {
     "name": "stderr",
     "output_type": "stream",
     "text": [
      " 96%|█████████▌| 1895/1978 [16:54:02<08:02,  5.81s/it]"
     ]
    },
    {
     "name": "stdout",
     "output_type": "stream",
     "text": [
      "{\"判断相符\":'3','原因':\"召回结果和原词条完全不相符，原词条是小草蒜改放，召回结果是加香干炒进去，两者无关联\" }\n",
      "小草蒜改放\t加香干炒进去\n"
     ]
    },
    {
     "name": "stderr",
     "output_type": "stream",
     "text": [
      " 96%|█████████▌| 1896/1978 [16:54:06<07:17,  5.33s/it]"
     ]
    },
    {
     "name": "stdout",
     "output_type": "stream",
     "text": [
      "{\"判断相符\":'1','原因':\"召回结果符合原词条，完全一致\" }\n",
      "高汤娃娃菜\t高汤娃娃菜\n"
     ]
    },
    {
     "name": "stderr",
     "output_type": "stream",
     "text": [
      " 96%|█████████▌| 1897/1978 [16:54:13<07:39,  5.68s/it]"
     ]
    },
    {
     "name": "stdout",
     "output_type": "stream",
     "text": [
      "{\"判断相符\":'1','原因':\"召回结果符合原词条，虽然名称略有不同，但豆角茄子护心肉三拼饭与原词条德角茄子加胡心肉饭的主要成分和概念相符\" }\n",
      "德角茄子加胡心肉饭\t豆角茄子护心肉三拼饭\n"
     ]
    },
    {
     "name": "stderr",
     "output_type": "stream",
     "text": [
      " 96%|█████████▌| 1898/1978 [16:54:20<08:16,  6.20s/it]"
     ]
    },
    {
     "name": "stdout",
     "output_type": "stream",
     "text": [
      "{\"判断相符\":'1','原因':\"召回结果符合原词条，召回结果的范围比原词条更具体，但口味和原词条相符\" }\n",
      "番茄炒蛋\t四个鸡蛋的番茄炒蛋\n"
     ]
    },
    {
     "name": "stderr",
     "output_type": "stream",
     "text": [
      " 96%|█████████▌| 1899/1978 [16:54:29<08:59,  6.83s/it]"
     ]
    },
    {
     "name": "stdout",
     "output_type": "stream",
     "text": [
      "{\"判断相符\":'1','原因':\"召回结果符合原词条，召回结果比原词条大，增加了菠菜，但是和原词条相符\" }\n",
      "牛肉蛋花粥\t菠菜蛋花牛肉粥\n"
     ]
    },
    {
     "name": "stderr",
     "output_type": "stream",
     "text": [
      " 96%|█████████▌| 1900/1978 [16:54:34<08:12,  6.32s/it]"
     ]
    },
    {
     "name": "stdout",
     "output_type": "stream",
     "text": [
      "{\"判断相符\":'1','原因':\"召回结果符合原词条，召回结果和原词条相符，只是表述方式不同\" }\n",
      "南瓜甜粥\t甜糯南瓜粥\n"
     ]
    },
    {
     "name": "stderr",
     "output_type": "stream",
     "text": [
      " 96%|█████████▌| 1901/1978 [16:54:41<08:18,  6.47s/it]"
     ]
    },
    {
     "name": "stdout",
     "output_type": "stream",
     "text": [
      "{\"判断相符\":'1','原因':\"召回结果符合原词条，召回结果比原词条大，但是可以覆盖原词条\" }\n",
      "番茄蛋花汤\t高汤番茄西红柿蛋花汤\n"
     ]
    },
    {
     "name": "stderr",
     "output_type": "stream",
     "text": [
      " 96%|█████████▌| 1902/1978 [16:54:48<08:30,  6.71s/it]"
     ]
    },
    {
     "name": "stdout",
     "output_type": "stream",
     "text": [
      "{\"判断相符\":'2','原因':\"召回结果部分满足原词条，原词条是山药瘦肉，召回结果是虾仁皮蛋瘦肉，缺少了山药\" }\n",
      "山药瘦肉营养粥\t虾仁皮蛋瘦肉营养粥\n"
     ]
    },
    {
     "name": "stderr",
     "output_type": "stream",
     "text": [
      " 96%|█████████▌| 1903/1978 [16:54:54<08:03,  6.44s/it]"
     ]
    },
    {
     "name": "stdout",
     "output_type": "stream",
     "text": [
      "{\"判断相符\":'1','原因':\"召回结果符合原词条，召回结果比原词条大，增加了红豆，但基本覆盖原词条\" }\n",
      "红糖小米粥\t小米红糖红豆粥\n"
     ]
    },
    {
     "name": "stderr",
     "output_type": "stream",
     "text": [
      " 96%|█████████▋| 1904/1978 [16:54:58<07:15,  5.88s/it]"
     ]
    },
    {
     "name": "stdout",
     "output_type": "stream",
     "text": [
      "{\"判断相符\":'1','原因':\"召回结果完全符合原词条\" }\n",
      "小米南瓜养胃粥\t小米南瓜养胃粥\n"
     ]
    },
    {
     "name": "stderr",
     "output_type": "stream",
     "text": [
      " 96%|█████████▋| 1905/1978 [16:55:05<07:29,  6.15s/it]"
     ]
    },
    {
     "name": "stdout",
     "output_type": "stream",
     "text": [
      "{\"判断相符\":'1','原因':\"召回结果符合原词条，蒜蓉和蒜香在此上下文中可以视为同义，召回结果与原词条相符\" }\n",
      "蒜香鸡毛菜\t蒜蓉鸡毛菜\n"
     ]
    },
    {
     "name": "stderr",
     "output_type": "stream",
     "text": [
      " 96%|█████████▋| 1906/1978 [16:55:10<07:04,  5.90s/it]"
     ]
    },
    {
     "name": "stdout",
     "output_type": "stream",
     "text": [
      "{\"判断相符\":'2','原因':\"召回结果部分满足原词条，原词条是包菜，召回结果多了虾皮\" }\n",
      "包菜\t虾皮包心菜\n"
     ]
    },
    {
     "name": "stderr",
     "output_type": "stream",
     "text": [
      " 96%|█████████▋| 1907/1978 [16:55:16<06:52,  5.81s/it]"
     ]
    },
    {
     "name": "stdout",
     "output_type": "stream",
     "text": [
      "{\"判断相符\":'2','原因':\"召回结果部分满足原词条，原词条是肉丝炖粉条，召回结果是豆腐粉丝汤，缺少肉丝\" }\n",
      "小白菜肉丝炖粉条\t小白菜炖豆腐粉丝汤\n"
     ]
    },
    {
     "name": "stderr",
     "output_type": "stream",
     "text": [
      " 96%|█████████▋| 1908/1978 [16:55:21<06:34,  5.64s/it]"
     ]
    },
    {
     "name": "stdout",
     "output_type": "stream",
     "text": [
      "{\"判断相符\":'2','原因':\"召回结果部分满足原词条，原词条的是炒粉条，召回结果多了鸡蛋\" }\n",
      "卷心菜炒粉条\t卷心菜鸡蛋炒粉丝\n"
     ]
    },
    {
     "name": "stderr",
     "output_type": "stream",
     "text": [
      " 97%|█████████▋| 1909/1978 [16:55:26<06:19,  5.50s/it]"
     ]
    },
    {
     "name": "stdout",
     "output_type": "stream",
     "text": [
      "{\"判断相符\":'2','原因':\"召回结果部分满足原词条，原词条是炒米饭，召回结果是糙米饭，且缺少养生的描述\" }\n",
      "养生薏仁炒米饭\t薏仁生态糙米饭\n"
     ]
    },
    {
     "name": "stderr",
     "output_type": "stream",
     "text": [
      " 97%|█████████▋| 1910/1978 [16:55:36<07:37,  6.73s/it]"
     ]
    },
    {
     "name": "stdout",
     "output_type": "stream",
     "text": [
      "{\"判断相符\":'2','原因':\"召回结果部分满足原词条，原词条是鸡汤，召回结果是蛋汤\" }\n",
      "老母鸡汤\t老母鸡蛋汤\n"
     ]
    },
    {
     "name": "stderr",
     "output_type": "stream",
     "text": [
      " 97%|█████████▋| 1911/1978 [16:55:41<06:51,  6.14s/it]"
     ]
    },
    {
     "name": "stdout",
     "output_type": "stream",
     "text": [
      "{\"判断相符\":'1','原因':\"召回结果符合原词条，召回结果比原词条大，但是可以覆盖原词条\" }\n",
      "南瓜粥\t南瓜地瓜粥\n"
     ]
    },
    {
     "name": "stderr",
     "output_type": "stream",
     "text": [
      " 97%|█████████▋| 1912/1978 [16:55:46<06:26,  5.85s/it]"
     ]
    },
    {
     "name": "stdout",
     "output_type": "stream",
     "text": [
      "{\"判断相符\":'1','原因':\"召回结果符合原词条，召回结果比原词条大，但是可以覆盖原词条\" }\n",
      "冬瓜排骨汤\t冬瓜玉米排骨汤\n"
     ]
    },
    {
     "name": "stderr",
     "output_type": "stream",
     "text": [
      " 97%|█████████▋| 1913/1978 [16:55:51<06:12,  5.72s/it]"
     ]
    },
    {
     "name": "stdout",
     "output_type": "stream",
     "text": [
      "{\"判断相符\":'1','原因':\"召回结果符合原词条，召回结果比原词条大，但是和原词条相符\" }\n",
      "小米粥\t小米糯米粥\n"
     ]
    },
    {
     "name": "stderr",
     "output_type": "stream",
     "text": [
      " 97%|█████████▋| 1914/1978 [16:55:56<05:36,  5.26s/it]"
     ]
    },
    {
     "name": "stdout",
     "output_type": "stream",
     "text": [
      "{\"判断相符\":'1','原因':\"召回结果符合原词条，完全一致\" }\n",
      "桂圆莲藕山药粥\t桂圆莲藕山药粥\n"
     ]
    },
    {
     "name": "stderr",
     "output_type": "stream",
     "text": [
      " 97%|█████████▋| 1915/1978 [16:56:00<05:21,  5.10s/it]"
     ]
    },
    {
     "name": "stdout",
     "output_type": "stream",
     "text": [
      "{\"判断相符\":'1','原因':\"召回结果符合原词条，召回结果和原词条相符，只是顺序不同\" }\n",
      "南瓜小米养生粥\t养生南瓜小米粥\n"
     ]
    },
    {
     "name": "stderr",
     "output_type": "stream",
     "text": [
      " 97%|█████████▋| 1916/1978 [16:56:08<05:56,  5.76s/it]"
     ]
    },
    {
     "name": "stdout",
     "output_type": "stream",
     "text": [
      "{\"判断相符\":'2','原因':\"召回结果部分满足原词条，原词条是海米薏米粥，召回结果少了海米，多了黑米和红豆\" }\n",
      "海米薏米粥\t黑米红豆薏米粥\n"
     ]
    },
    {
     "name": "stderr",
     "output_type": "stream",
     "text": [
      " 97%|█████████▋| 1917/1978 [16:56:13<05:36,  5.52s/it]"
     ]
    },
    {
     "name": "stdout",
     "output_type": "stream",
     "text": [
      "{\"判断相符\":'1','原因':\"召回结果符合原词条，召回结果比原词条大，但是和原词条相符\" }\n",
      "莲子养生粥\t桂圆莲子养生粥\n"
     ]
    },
    {
     "name": "stderr",
     "output_type": "stream",
     "text": [
      " 97%|█████████▋| 1918/1978 [16:56:22<06:35,  6.59s/it]"
     ]
    },
    {
     "name": "stdout",
     "output_type": "stream",
     "text": [
      "{\"判断相符\":'2','原因':\"召回结果部分满足原词条，原词条是炝炒土豆丝，召回结果多了黄瓜丝和炒蚬肉\" }\n",
      "炝炒土豆丝\t黄瓜丝土豆丝炒蚬肉\n"
     ]
    },
    {
     "name": "stderr",
     "output_type": "stream",
     "text": [
      " 97%|█████████▋| 1919/1978 [16:56:27<06:04,  6.17s/it]"
     ]
    },
    {
     "name": "stdout",
     "output_type": "stream",
     "text": [
      "{\"判断相符\":'1','原因':\"召回结果符合原词条，召回结果的范围比原词条大一些，但可以覆盖原词条\" }\n",
      "外婆菜炒土鸡蛋\t外婆家乡菜炒鸡蛋\n"
     ]
    },
    {
     "name": "stderr",
     "output_type": "stream",
     "text": [
      " 97%|█████████▋| 1920/1978 [16:56:32<05:45,  5.96s/it]"
     ]
    },
    {
     "name": "stdout",
     "output_type": "stream",
     "text": [
      "{\"判断相符\":'3','原因':\"召回结果和原词条完全不相符，原词条是‘更好的’，召回结果是‘请帮我多加生菜’，两者无关联\" }\n",
      "更好的\t请帮我多加生菜\n"
     ]
    },
    {
     "name": "stderr",
     "output_type": "stream",
     "text": [
      " 97%|█████████▋| 1921/1978 [16:56:37<05:27,  5.74s/it]"
     ]
    },
    {
     "name": "stdout",
     "output_type": "stream",
     "text": [
      "{\"判断相符\":'1','原因':\"召回结果符合原词条，召回结果使用了更可爱的名字'皮皮蛋'，但实质内容与原词条一致\" }\n",
      "皮蛋瘦肉粥\t皮皮蛋瘦肉粥\n"
     ]
    },
    {
     "name": "stderr",
     "output_type": "stream",
     "text": [
      " 97%|█████████▋| 1922/1978 [16:56:43<05:19,  5.70s/it]"
     ]
    },
    {
     "name": "stdout",
     "output_type": "stream",
     "text": [
      "{\"判断相符\":'1','原因':\"召回结果符合原词条，召回结果只是商家起的更可爱的名字，实质内容与原词条一致\" }\n",
      "皮蛋瘦肉粥\t皮皮蛋瘦肉粥\n"
     ]
    },
    {
     "name": "stderr",
     "output_type": "stream",
     "text": [
      " 97%|█████████▋| 1923/1978 [16:56:49<05:20,  5.83s/it]"
     ]
    },
    {
     "name": "stdout",
     "output_type": "stream",
     "text": [
      "{\"判断相符\":'1','原因':\"召回结果符合原词条，召回结果只是商家起的更可爱的名字，实质内容与原词条一致\" }\n",
      "皮蛋瘦肉粥\t皮皮蛋瘦肉粥\n"
     ]
    },
    {
     "name": "stderr",
     "output_type": "stream",
     "text": [
      " 97%|█████████▋| 1924/1978 [16:56:54<05:05,  5.65s/it]"
     ]
    },
    {
     "name": "stdout",
     "output_type": "stream",
     "text": [
      "{\"判断相符\":'1','原因':\"召回结果符合原词条，召回结果比原词条大，包含了黄瓜和鸡蛋，虽然增加了木耳，但整体符合原词条\" }\n",
      "黄瓜炒蛋\t木耳黄瓜丝炒鸡蛋\n"
     ]
    },
    {
     "name": "stderr",
     "output_type": "stream",
     "text": [
      " 97%|█████████▋| 1925/1978 [16:57:02<05:34,  6.31s/it]"
     ]
    },
    {
     "name": "stdout",
     "output_type": "stream",
     "text": [
      "{\"判断相符\":'2','原因':\"召回结果部分满足原词条，原词条是沙月肉末粥，召回结果是窝蛋牛肉末粥，虽然都是肉末粥，但肉的种类和添加的配料不同\"}\n",
      "沙月肉末粥\t窝蛋牛肉末粥\n"
     ]
    },
    {
     "name": "stderr",
     "output_type": "stream",
     "text": [
      " 97%|█████████▋| 1926/1978 [16:57:08<05:17,  6.10s/it]"
     ]
    },
    {
     "name": "stdout",
     "output_type": "stream",
     "text": [
      "{\"判断相符\":'2','原因':\"召回结果部分满足原词条，原词条的是和菜，召回结果是圆葱炒肉，缺少了和菜的多样性\" }\n",
      "家常炒和菜\t家常圆葱炒肉\n"
     ]
    },
    {
     "name": "stderr",
     "output_type": "stream",
     "text": [
      " 97%|█████████▋| 1927/1978 [16:57:13<04:52,  5.73s/it]"
     ]
    },
    {
     "name": "stdout",
     "output_type": "stream",
     "text": [
      "{\"判断相符\":'1','原因':\"召回结果符合原词条，召回结果比原词条多加了冰糖，但整体相符\" }\n",
      "南瓜小米甜粥\t冰糖小米南瓜粥\n"
     ]
    },
    {
     "name": "stderr",
     "output_type": "stream",
     "text": [
      " 97%|█████████▋| 1928/1978 [16:57:19<04:46,  5.74s/it]"
     ]
    },
    {
     "name": "stdout",
     "output_type": "stream",
     "text": [
      "{\"判断相符\":'2','原因':\"召回结果部分满足原词条，原词条的范围更广，召回结果仅是大米饭\" }\n",
      "家常便饭\t热乎的五常大米饭\n"
     ]
    },
    {
     "name": "stderr",
     "output_type": "stream",
     "text": [
      " 98%|█████████▊| 1929/1978 [16:57:23<04:18,  5.28s/it]"
     ]
    },
    {
     "name": "stdout",
     "output_type": "stream",
     "text": [
      "{\"判断相符\":'1','原因':\"召回结果符合原词条\" }\n",
      "招牌皮蛋瘦肉粥\t招牌皮蛋瘦肉粥\n"
     ]
    },
    {
     "name": "stderr",
     "output_type": "stream",
     "text": [
      " 98%|█████████▊| 1930/1978 [16:57:29<04:24,  5.51s/it]"
     ]
    },
    {
     "name": "stdout",
     "output_type": "stream",
     "text": [
      "{\"判断相符\":'2','原因':\"召回结果部分满足原词条，原词条的是养胃粥，召回结果是补血粥，虽然都含有红枣，但主要功效和荔枝的缺失使得召回结果与原词条不完全相符\"}\n",
      "红枣荔枝养胃粥\t红糖红枣枸杞补血粥\n"
     ]
    },
    {
     "name": "stderr",
     "output_type": "stream",
     "text": [
      " 98%|█████████▊| 1931/1978 [16:57:36<04:36,  5.89s/it]"
     ]
    },
    {
     "name": "stdout",
     "output_type": "stream",
     "text": [
      "{\"判断相符\":'1','原因':\"召回结果符合原词条，召回结果使用了更可爱的名字'皮皮蛋'，但与原词条'皮蛋'相符\"}\n",
      "皮蛋瘦肉粥\t皮皮蛋瘦肉粥\n"
     ]
    },
    {
     "name": "stderr",
     "output_type": "stream",
     "text": [
      " 98%|█████████▊| 1932/1978 [16:57:43<04:50,  6.31s/it]"
     ]
    },
    {
     "name": "stdout",
     "output_type": "stream",
     "text": [
      "{\"判断相符\":'2','原因':\"召回结果部分满足原词条，原词条是红枣黑米，召回结果是大枣红糖小米，虽然都是养生粥，但主要成分不一致\"}\n",
      "红枣黑米养生粥\t大枣红糖小米养生粥\n"
     ]
    },
    {
     "name": "stderr",
     "output_type": "stream",
     "text": [
      " 98%|█████████▊| 1933/1978 [16:57:48<04:23,  5.86s/it]"
     ]
    },
    {
     "name": "stdout",
     "output_type": "stream",
     "text": [
      "{\"判断相符\":'1','原因':\"召回结果符合原词条，召回结果比原词条大，但是和原词条相符\" }\n",
      "青菜肉末粥\t香菇青菜肉末粥\n"
     ]
    },
    {
     "name": "stderr",
     "output_type": "stream",
     "text": [
      " 98%|█████████▊| 1934/1978 [16:57:53<04:10,  5.69s/it]"
     ]
    },
    {
     "name": "stdout",
     "output_type": "stream",
     "text": [
      "{\"判断相符\":'1','原因':\"召回结果符合原词条，虽然顺序不同但内容和原词条一致\" }\n",
      "南瓜小米养胃粥\t养胃南瓜小米粥\n"
     ]
    },
    {
     "name": "stderr",
     "output_type": "stream",
     "text": [
      " 98%|█████████▊| 1935/1978 [16:58:01<04:32,  6.33s/it]"
     ]
    },
    {
     "name": "stdout",
     "output_type": "stream",
     "text": [
      "{\"判断相符\":'1','原因':\"召回结果符合原词条，召回结果比原词条大，但是和原词条相符\" }\n",
      "山药排骨汤\t山药排骨木耳汤\n"
     ]
    },
    {
     "name": "stderr",
     "output_type": "stream",
     "text": [
      " 98%|█████████▊| 1936/1978 [16:58:08<04:31,  6.48s/it]"
     ]
    },
    {
     "name": "stdout",
     "output_type": "stream",
     "text": [
      "{\"判断相符\":'3','原因':\"召回结果和原词条完全不相符，原词条是木耳炒蛋，召回结果是酸豆角鸡蛋炒饭，两者主要食材和做法都不一致\" }\n",
      "木耳炒蛋\t酸豆角鸡蛋炒饭\n"
     ]
    },
    {
     "name": "stderr",
     "output_type": "stream",
     "text": [
      " 98%|█████████▊| 1937/1978 [16:58:13<04:09,  6.08s/it]"
     ]
    },
    {
     "name": "stdout",
     "output_type": "stream",
     "text": [
      "{\"判断相符\":'1','原因':\"召回结果符合原词条，召回结果比原词条简洁，但核心成分皮蛋瘦肉粥一致\" }\n",
      "米子老虎皮蛋瘦肉粥\t老火皮蛋瘦肉粥\n"
     ]
    },
    {
     "name": "stderr",
     "output_type": "stream",
     "text": [
      " 98%|█████████▊| 1938/1978 [16:58:21<04:33,  6.85s/it]"
     ]
    },
    {
     "name": "stdout",
     "output_type": "stream",
     "text": [
      "{\"判断相符\":'1','原因':\"召回结果符合原词条，虽然召回结果多了干煸的做法描述，但核心内容手撕包菜与召回结果的手撕包心菜相符\" }\n",
      "手撕包菜\t干煸手撕包心菜\n"
     ]
    },
    {
     "name": "stderr",
     "output_type": "stream",
     "text": [
      " 98%|█████████▊| 1939/1978 [16:58:29<04:33,  7.02s/it]"
     ]
    },
    {
     "name": "stdout",
     "output_type": "stream",
     "text": [
      "{\"判断相符\":'3','原因':\"召回结果和原词条完全不相符，原词条是油豆腐粉丝包，召回结果是干豆腐炒土豆粉\" }\n",
      "油豆腐粉丝包\t小份干豆腐炒土豆粉\n"
     ]
    },
    {
     "name": "stderr",
     "output_type": "stream",
     "text": [
      " 98%|█████████▊| 1940/1978 [16:58:36<04:30,  7.13s/it]"
     ]
    },
    {
     "name": "stdout",
     "output_type": "stream",
     "text": [
      "{\"判断相符\":'1','原因':\"召回结果符合原词条，召回结果比原词条大，增加了黄瓜，但基本元素相符\" }\n",
      "西红柿蛋汤紫菜\t紫菜黄瓜西红柿蛋花汤\n"
     ]
    },
    {
     "name": "stderr",
     "output_type": "stream",
     "text": [
      " 98%|█████████▊| 1941/1978 [16:58:43<04:23,  7.11s/it]"
     ]
    },
    {
     "name": "stdout",
     "output_type": "stream",
     "text": [
      "{\"判断相符\":'1','原因':\"召回结果符合原词条，召回结果比原词条大，但是可以覆盖原词条\" }\n",
      "青菜豆腐汤\t青菜榨菜豆腐汤\n"
     ]
    },
    {
     "name": "stderr",
     "output_type": "stream",
     "text": [
      " 98%|█████████▊| 1942/1978 [16:58:52<04:28,  7.45s/it]"
     ]
    },
    {
     "name": "stdout",
     "output_type": "stream",
     "text": [
      "{\"判断相符\":'1','原因':\"召回结果符合原词条，召回结果比原词条多了一些描述性的词语，但核心内容一致\" }\n",
      "无糖紫米粥\t纯香无糖紫米粥\n"
     ]
    },
    {
     "name": "stderr",
     "output_type": "stream",
     "text": [
      " 98%|█████████▊| 1943/1978 [16:58:57<03:56,  6.76s/it]"
     ]
    },
    {
     "name": "stdout",
     "output_type": "stream",
     "text": [
      "{\"判断相符\":'1','原因':\"召回结果符合原词条，召回结果比原词条多加了红糖，但整体相符\" }\n",
      "红枣小米南瓜粥\t红枣小米红糖南瓜粥\n"
     ]
    },
    {
     "name": "stderr",
     "output_type": "stream",
     "text": [
      " 98%|█████████▊| 1944/1978 [16:59:04<03:53,  6.87s/it]"
     ]
    },
    {
     "name": "stdout",
     "output_type": "stream",
     "text": [
      "{\"判断相符\":'1','原因':\"召回结果符合原词条，召回结果与原词条基本一致，只是描述上略有不同\" }\n",
      "西红柿鸡蛋盖饭\t西红柿炒鸡蛋盖饭\n"
     ]
    },
    {
     "name": "stderr",
     "output_type": "stream",
     "text": [
      " 98%|█████████▊| 1945/1978 [16:59:09<03:28,  6.32s/it]"
     ]
    },
    {
     "name": "stdout",
     "output_type": "stream",
     "text": [
      "{\"判断相符\":'1','原因':\"召回结果符合原词条，召回结果与原词条描述的食物相同，只是表述方式略有不同\" }\n",
      "青椒炒豆皮\t青椒炒豆腐皮\n"
     ]
    },
    {
     "name": "stderr",
     "output_type": "stream",
     "text": [
      " 98%|█████████▊| 1946/1978 [16:59:14<03:13,  6.06s/it]"
     ]
    },
    {
     "name": "stdout",
     "output_type": "stream",
     "text": [
      "{\"判断相符\":'2','原因':\"召回结果部分满足原词条，召回结果多了红糖和红枣，少了薏米\" }\n",
      "红豆薏米甜粥\t甜甜蜜蜜红糖红枣红豆粥\n"
     ]
    },
    {
     "name": "stderr",
     "output_type": "stream",
     "text": [
      " 98%|█████████▊| 1947/1978 [16:59:20<03:08,  6.09s/it]"
     ]
    },
    {
     "name": "stdout",
     "output_type": "stream",
     "text": [
      "{\"判断相符\":'2','原因':\"召回结果部分满足原词条，原词条是芥兰，召回结果是小南瓜\" }\n",
      "嫩牛柳炒芥兰\t嫩嫩的小南瓜炒牛肉\n"
     ]
    },
    {
     "name": "stderr",
     "output_type": "stream",
     "text": [
      " 98%|█████████▊| 1948/1978 [16:59:27<03:10,  6.35s/it]"
     ]
    },
    {
     "name": "stdout",
     "output_type": "stream",
     "text": [
      "{\"判断相符\":'1','原因':\"召回结果符合原词条，召回结果比原词条大，但是和原词条相符\" }\n",
      "山药排骨汤\t山药排骨木耳汤\n"
     ]
    },
    {
     "name": "stderr",
     "output_type": "stream",
     "text": [
      " 99%|█████████▊| 1949/1978 [16:59:33<02:56,  6.08s/it]"
     ]
    },
    {
     "name": "stdout",
     "output_type": "stream",
     "text": [
      "{\"判断相符\":'1','原因':\"召回结果符合原词条，召回结果使用了更可爱的名字'皮皮蛋'，但实质内容与原词条一致\"}\n",
      "皮蛋瘦肉粥\t皮皮蛋瘦肉粥\n"
     ]
    },
    {
     "name": "stderr",
     "output_type": "stream",
     "text": [
      " 99%|█████████▊| 1950/1978 [16:59:38<02:39,  5.68s/it]"
     ]
    },
    {
     "name": "stdout",
     "output_type": "stream",
     "text": [
      "{\"判断相符\":'1','原因':\"召回结果符合原词条，召回结果和原词条相符，只是名称略有不同\" }\n",
      "茶树菇老鸭煲\t茶树菇老鸭汤\n"
     ]
    },
    {
     "name": "stderr",
     "output_type": "stream",
     "text": [
      " 99%|█████████▊| 1951/1978 [16:59:43<02:31,  5.62s/it]"
     ]
    },
    {
     "name": "stdout",
     "output_type": "stream",
     "text": [
      "{\"判断相符\":'1','原因':\"召回结果符合原词条，召回结果比原词条多加了红枣，但整体相符\" }\n",
      "山药薏米粥\t山药薏米红枣粥\n"
     ]
    },
    {
     "name": "stderr",
     "output_type": "stream",
     "text": [
      " 99%|█████████▊| 1952/1978 [16:59:49<02:28,  5.71s/it]"
     ]
    },
    {
     "name": "stdout",
     "output_type": "stream",
     "text": [
      "{\"判断相符\":'2','原因':\"召回结果部分满足原词条，原词条的是鲜味紫菜虾米汤，召回结果多了蛋花，少了鲜味\" }\n",
      "鲜味紫菜虾米汤\t虾米紫菜蛋花汤\n"
     ]
    },
    {
     "name": "stderr",
     "output_type": "stream",
     "text": [
      " 99%|█████████▊| 1953/1978 [16:59:56<02:30,  6.01s/it]"
     ]
    },
    {
     "name": "stdout",
     "output_type": "stream",
     "text": [
      "{\"判断相符\":'1','原因':\"召回结果符合原词条，召回结果和原词条完全一致\" }\n",
      "冬瓜玉米炖排骨汤\t冬瓜玉米排骨汤\n"
     ]
    },
    {
     "name": "stderr",
     "output_type": "stream",
     "text": [
      " 99%|█████████▉| 1954/1978 [17:00:38<06:47, 16.96s/it]"
     ]
    },
    {
     "name": "stdout",
     "output_type": "stream",
     "text": [
      "{\"判断相符\":'1','原因':\"召回结果符合原词条，召回结果比原词条更具体，但本质上是相同的养生粥\" }\n",
      "养生粥\t益寿养生粥\n"
     ]
    },
    {
     "name": "stderr",
     "output_type": "stream",
     "text": [
      " 99%|█████████▉| 1955/1978 [17:01:12<08:22, 21.85s/it]"
     ]
    },
    {
     "name": "stdout",
     "output_type": "stream",
     "text": [
      "{\"判断相符\":'3','原因':\"召回结果和原词条完全不相符，原词条指的是软烂易嚼的食物，而召回结果是煎饼加六种青菜，不符合软烂易嚼的特征\" }\n",
      "软烂易嚼的食物\t煎饼加六种青菜\n"
     ]
    },
    {
     "name": "stderr",
     "output_type": "stream",
     "text": [
      " 99%|█████████▉| 1956/1978 [17:01:36<08:21, 22.79s/it]"
     ]
    },
    {
     "name": "stdout",
     "output_type": "stream",
     "text": [
      "{\"判断相符\":'2','原因':\"召回结果部分满足原词条，原词条是香米粥，召回结果是小米粥，且增加了椰奶\" }\n",
      "南瓜香米粥\t椰奶南瓜小米粥\n"
     ]
    },
    {
     "name": "stderr",
     "output_type": "stream",
     "text": [
      " 99%|█████████▉| 1957/1978 [17:01:42<06:07, 17.52s/it]"
     ]
    },
    {
     "name": "stdout",
     "output_type": "stream",
     "text": [
      "{\"判断相符\":'1','原因':\"召回结果符合原词条，召回结果比原词条大，增加了香菇，但是和原词条相符\" }\n",
      "青菜烧粥\t青菜香菇粥\n"
     ]
    },
    {
     "name": "stderr",
     "output_type": "stream",
     "text": [
      " 99%|█████████▉| 1958/1978 [17:01:46<04:33, 13.66s/it]"
     ]
    },
    {
     "name": "stdout",
     "output_type": "stream",
     "text": [
      "{\"判断相符\":'1','原因':\"召回结果符合原词条，召回结果与原词条一致\" }\n",
      "西红柿鸡蛋盖饭\t西红柿炒鸡蛋盖饭\n"
     ]
    },
    {
     "name": "stderr",
     "output_type": "stream",
     "text": [
      " 99%|█████████▉| 1959/1978 [17:01:52<03:33, 11.23s/it]"
     ]
    },
    {
     "name": "stdout",
     "output_type": "stream",
     "text": [
      "{\"判断相符\":'2','原因':\"召回结果部分满足原词条，原词条是日式绿豆百合粥，召回结果是百合莲子绿豆粥，缺少了日式元素，增加了莲子\" }\n",
      "日式绿豆百合粥\t百合莲子绿豆粥\n"
     ]
    },
    {
     "name": "stderr",
     "output_type": "stream",
     "text": [
      " 99%|█████████▉| 1960/1978 [17:01:59<03:02, 10.14s/it]"
     ]
    },
    {
     "name": "stdout",
     "output_type": "stream",
     "text": [
      "{\"判断相符\":'3','原因':\"召回结果和原词条完全不相符，原词条是番茄汤面，召回结果是鸡汤面且配料完全不同\" }\n",
      "老灵光番茄汤面\t精瘦肉香菇木耳素臊子双拼鸡汤面\n"
     ]
    },
    {
     "name": "stderr",
     "output_type": "stream",
     "text": [
      " 99%|█████████▉| 1961/1978 [17:02:05<02:29,  8.82s/it]"
     ]
    },
    {
     "name": "stdout",
     "output_type": "stream",
     "text": [
      "{\"判断相符\":'1','原因':\"召回结果符合原词条，召回结果比原词条多加了鸡丁，但基本覆盖原词条\" }\n",
      "青菜香菇热粥\t青菜香菇鸡丁粥\n"
     ]
    },
    {
     "name": "stderr",
     "output_type": "stream",
     "text": [
      " 99%|█████████▉| 1962/1978 [17:02:10<02:02,  7.68s/it]"
     ]
    },
    {
     "name": "stdout",
     "output_type": "stream",
     "text": [
      "{\"判断相符\":'1','原因':\"召回结果符合原词条，召回结果比原词条多了一个'滑'字，但整体相符\" }\n",
      "香菇鸡丝粥\t香菇滑鸡丝粥\n"
     ]
    },
    {
     "name": "stderr",
     "output_type": "stream",
     "text": [
      " 99%|█████████▉| 1963/1978 [17:02:15<01:44,  6.95s/it]"
     ]
    },
    {
     "name": "stdout",
     "output_type": "stream",
     "text": [
      "{\"判断相符\":'3','原因':\"召回结果和原词条完全不相符，原词条是火锅，召回结果是汤\" }\n",
      "姜汁枸杞暖身火锅\t暖心红枣银耳汤\n"
     ]
    },
    {
     "name": "stderr",
     "output_type": "stream",
     "text": [
      " 99%|█████████▉| 1964/1978 [17:02:23<01:39,  7.07s/it]"
     ]
    },
    {
     "name": "stdout",
     "output_type": "stream",
     "text": [
      "{\"判断相符\":'1','原因':\"召回结果符合原词条，召回结果比原词条更详细，但核心内容一致\" }\n",
      "番茄蛋汤\t香浓番茄鸡蛋汤\n"
     ]
    },
    {
     "name": "stderr",
     "output_type": "stream",
     "text": [
      " 99%|█████████▉| 1965/1978 [17:02:28<01:23,  6.44s/it]"
     ]
    },
    {
     "name": "stdout",
     "output_type": "stream",
     "text": [
      "{\"判断相符\":'1','原因':\"召回结果符合原词条，完全一致\" }\n",
      "蒜香空心菜\t蒜香空心菜\n"
     ]
    },
    {
     "name": "stderr",
     "output_type": "stream",
     "text": [
      " 99%|█████████▉| 1966/1978 [17:02:34<01:14,  6.23s/it]"
     ]
    },
    {
     "name": "stdout",
     "output_type": "stream",
     "text": [
      "{\"判断相符\":'1','原因':\"召回结果符合原词条，召回结果比原词条更具体，但核心元素蒜香、粉丝、娃娃菜都包含在内\" }\n",
      "蒜香粉丝娃娃菜\t蒜蓉粉丝蒸娃娃菜\n"
     ]
    },
    {
     "name": "stderr",
     "output_type": "stream",
     "text": [
      " 99%|█████████▉| 1967/1978 [17:02:38<01:03,  5.77s/it]"
     ]
    },
    {
     "name": "stdout",
     "output_type": "stream",
     "text": [
      "{\"判断相符\":'3','原因':\"召回结果和原词条完全不相符\" }\n",
      "沙县小吃\t疙瘩丝小菜\n"
     ]
    },
    {
     "name": "stderr",
     "output_type": "stream",
     "text": [
      " 99%|█████████▉| 1968/1978 [17:02:44<00:56,  5.62s/it]"
     ]
    },
    {
     "name": "stdout",
     "output_type": "stream",
     "text": [
      "{\"判断相符\":'1','原因':\"召回结果符合原词条，召回结果比原词条大，增加了桂圆，但是和原词条相符\" }\n",
      "红枣山药粥\t山药桂圆红枣粥\n"
     ]
    },
    {
     "name": "stderr",
     "output_type": "stream",
     "text": [
      "100%|█████████▉| 1969/1978 [17:02:49<00:49,  5.46s/it]"
     ]
    },
    {
     "name": "stdout",
     "output_type": "stream",
     "text": [
      "{\"判断相符\":'1','原因':\"召回结果符合原词条，召回结果与原词条一致，只是表述上略有不同\" }\n",
      "西红柿炒蛋锅巴饭\t西红柿鸡蛋锅巴饭\n"
     ]
    },
    {
     "name": "stderr",
     "output_type": "stream",
     "text": [
      "100%|█████████▉| 1970/1978 [17:02:56<00:48,  6.00s/it]"
     ]
    },
    {
     "name": "stdout",
     "output_type": "stream",
     "text": [
      "{\"判断相符\":'1','原因':\"召回结果符合原词条，召回结果比原词条多加了红枣，但基本成分一致\" }\n",
      "红豆薏米粥\t红豆薏米红枣粥\n"
     ]
    },
    {
     "name": "stderr",
     "output_type": "stream",
     "text": [
      "100%|█████████▉| 1971/1978 [17:03:02<00:41,  5.94s/it]"
     ]
    },
    {
     "name": "stdout",
     "output_type": "stream",
     "text": [
      "{\"判断相符\":'3','原因':\"召回结果和原词条完全不相符，原词条是油麦菜，召回结果是小油菜\" }\n",
      "青草嫩油麦菜\t嫩绿的小油菜\n"
     ]
    },
    {
     "name": "stderr",
     "output_type": "stream",
     "text": [
      "100%|█████████▉| 1972/1978 [17:03:07<00:33,  5.60s/it]"
     ]
    },
    {
     "name": "stdout",
     "output_type": "stream",
     "text": [
      "{\"判断相符\":'1','原因':\"召回结果符合原词条，完全一致\" }\n",
      "八宝杂粮粥\t八宝杂粮粥\n"
     ]
    },
    {
     "name": "stderr",
     "output_type": "stream",
     "text": [
      "100%|█████████▉| 1973/1978 [17:03:13<00:29,  5.95s/it]"
     ]
    },
    {
     "name": "stdout",
     "output_type": "stream",
     "text": [
      "{\"判断相符\":'2','原因':\"召回结果部分满足原词条，原词条是香辣脆土豆丝，召回结果多了黄瓜丝和炒蚬肉，缺少香辣脆的描述\"}\n",
      "香辣脆土豆丝\t土豆丝黄瓜丝炒蚬肉\n"
     ]
    },
    {
     "name": "stderr",
     "output_type": "stream",
     "text": [
      "100%|█████████▉| 1974/1978 [17:03:19<00:23,  5.86s/it]"
     ]
    },
    {
     "name": "stdout",
     "output_type": "stream",
     "text": [
      "{\"判断相符\":'1','原因':\"召回结果符合原词条，召回结果和原词条描述的是同一种食物，只是表述方式不同\" }\n",
      "南瓜甜粥\t甜糯南瓜粥\n"
     ]
    },
    {
     "name": "stderr",
     "output_type": "stream",
     "text": [
      "100%|█████████▉| 1975/1978 [17:03:24<00:16,  5.57s/it]"
     ]
    },
    {
     "name": "stdout",
     "output_type": "stream",
     "text": [
      "{\"判断相符\":'1','原因':\"召回结果符合原词条，召回结果和原词条相符，只是名称略有不同\" }\n",
      "红葱头蛋炒饭\t红葱鸡蛋炒饭\n"
     ]
    },
    {
     "name": "stderr",
     "output_type": "stream",
     "text": [
      "100%|█████████▉| 1976/1978 [17:03:30<00:11,  5.65s/it]"
     ]
    },
    {
     "name": "stdout",
     "output_type": "stream",
     "text": [
      "{\"判断相符\":'1','原因':\"召回结果符合原词条，召回结果比原词条详细，但核心成分山药和肉都包含在内\" }\n",
      "山药肉粥\t山药瘦肉砂锅粥\n"
     ]
    },
    {
     "name": "stderr",
     "output_type": "stream",
     "text": [
      "100%|█████████▉| 1977/1978 [17:03:34<00:05,  5.39s/it]"
     ]
    },
    {
     "name": "stdout",
     "output_type": "stream",
     "text": [
      "{\"判断相符\":'1','原因':\"召回结果符合原词条，召回结果包含了原词条的内容\" }\n",
      "韭黄炒蛋\t韭菜炒蛋韭黄炒蛋\n"
     ]
    },
    {
     "name": "stderr",
     "output_type": "stream",
     "text": [
      "100%|██████████| 1978/1978 [17:03:41<00:00, 31.05s/it]"
     ]
    },
    {
     "name": "stdout",
     "output_type": "stream",
     "text": [
      "{\"判断相符\":'1','原因':\"召回结果完全符合原词条\" }\n",
      "香菇青菜肉末粥\t香菇青菜肉末粥\n"
     ]
    },
    {
     "name": "stderr",
     "output_type": "stream",
     "text": [
      "\n"
     ]
    }
   ],
   "source": [
    "responses = []\n",
    "for i in tqdm(range(len(ans))):\n",
    "    example = [ text[i],ans[i][0].split('[SEP]')[0]]\n",
    "    response = dummy_response_R1 (example,client)\n",
    "    responses.append(response)\n"
   ]
  },
  {
   "cell_type": "code",
   "execution_count": 45,
   "id": "51c13f13",
   "metadata": {},
   "outputs": [
    {
     "data": {
      "text/plain": [
       "['{\"判断相符\":\\'1\\',\\'原因\\':\"召回结果符合原词条，召回结果比原词条多加了肉末，但基本覆盖原词条\" }',\n",
       " '{\"判断相符\":\\'1\\',\\'原因\\':\"召回结果符合原词条，召回结果范围比原词条大，但是可以覆盖原词条\" }',\n",
       " '{\"判断相符\":\\'2\\',\\'原因\\':\"召回结果部分满足原词条，原词条是香辣，召回结果是蒜蓉，口味不一致\" }',\n",
       " '{\"判断相符\":\\'2\\',\\'原因\\':\"召回结果部分满足原词条，原词条的是拌面，召回结果是没有面，\" }',\n",
       " '{\"判断相符\":\\'1\\',\\'原因\\':\"召回结果符合原词条，召回结果比原词条多加了红糖，但基本成分一致\" }',\n",
       " '{\"判断相符\":\\'1\\',\\'原因\\':\"召回结果符合原词条，召回结果比原词条大，但是和原词条相符\" }',\n",
       " '{\"判断相符\":\\'1\\',\\'原因\\':\"召回结果符合原词条，召回结果使用了更可爱的名字\\'皮皮蛋\\'，但实质内容与原词条一致\" }',\n",
       " '{\"判断相符\":\\'1\\',\\'原因\\':\"召回结果符合原词条，召回结果范围比原词条大，增加了黄瓜片，但可以覆盖原词条\" }',\n",
       " '{\"判断相符\":\\'1\\',\\'原因\\':\"召回结果符合原词条，召回结果和原词条相符，只是表述方式不同\" }',\n",
       " '{\"判断相符\":\\'1\\',\\'原因\\':\"召回结果符合原词条，召回结果与原词条描述一致，只是表述方式略有不同\"}',\n",
       " '{\"判断相符\":\\'2\\',\\'原因\\':\"召回结果部分满足原词条，原词条是酸辣白菜，召回结果是老醋里脊白菜，口味和主料部分相符但增加了里脊\" }',\n",
       " '{\"判断相符\":\\'1\\',\\'原因\\':\"召回结果符合原词条，召回结果比原词条大，但是和原词条相符\" }',\n",
       " '{\"判断相符\":\\'1\\',\\'原因\\':\"召回结果符合原词条，召回结果使用了更可爱的名字\\'皮皮蛋\\'，但实质内容与原词条一致\"}',\n",
       " '{\"判断相符\":\\'1\\',\\'原因\\':\"召回结果符合原词条，召回结果只是商家起的更可爱的名字，内容与原词条一致\" }',\n",
       " '{\"判断相符\":\\'2\\',\\'原因\\':\"召回结果部分满足原词条，召回结果多了糯米\" }',\n",
       " '{\"判断相符\":\\'1\\',\\'原因\\':\"召回结果符合原词条，召回结果比原词条大，但是和原词条相符\" }',\n",
       " '{\"判断相符\":\\'2\\',\\'原因\\':\"召回结果部分满足原词条，原词条是香菜，召回结果是葱\" }',\n",
       " '{\"判断相符\":\\'3\\',\\'原因\\':\"召回结果和原词条完全不相符，原词条是小白菜炒千张丝，召回结果是小份小米香芹炒土豆丝，两者食材完全不同\" }',\n",
       " '{\"判断相符\":\\'2\\',\\'原因\\':\"召回结果部分满足原词条，召回结果的范围比原词条小，缺少\\'来往县\\'这一地域特色描述\" }',\n",
       " '{\"判断相符\":\\'2\\',\\'原因\\':\"召回结果部分满足原词条，原词条是四季豆炒橄榄菜，召回结果是四季豆炒外婆菜和肉末，缺少橄榄菜\" }',\n",
       " '{\"判断相符\":\\'1\\',\\'原因\\':\"召回结果符合原词条，召回结果比原词条大，但是可以覆盖原词条\" }',\n",
       " '{\"判断相符\":\\'1\\',\\'原因\\':\"召回结果符合原词条，召回结果比原词条大，但是和原词条相符\" }',\n",
       " '{\"判断相符\":\\'2\\',\\'原因\\':\"召回结果部分满足原词条，原词条的是鲜格力，召回结果是西红柿\" }',\n",
       " '{\"判断相符\":\\'1\\',\\'原因\\':\"召回结果符合原词条，圆白菜是包菜的另一种称呼，召回结果与原词条相符\" }',\n",
       " '{\"判断相符\":\\'1\\',\\'原因\\':\"召回结果符合原词条，召回结果比原词条大，但是和原词条相符\" }',\n",
       " '{\"判断相符\":\\'1\\',\\'原因\\':\"召回结果符合原词条，召回结果的范围比原词条大，可以覆盖原词条\" }',\n",
       " '{\"判断相符\":\\'1\\',\\'原因\\':\"召回结果符合原词条，召回结果比原词条多了红糖，但主要成分一致\" }',\n",
       " '{\"判断相符\":\\'1\\',\\'原因\\':\"召回结果符合原词条，召回结果的范围比原词条大，可以覆盖原词条\" }',\n",
       " '{\"判断相符\":\\'3\\',\\'原因\\':\"召回结果和原词条完全不相符，原词条是酸苗炒肉丝，召回结果是白椒罗卜丝炒牛肉丝\" }',\n",
       " '{\"判断相符\":\\'1\\',\\'原因\\':\"召回结果符合原词条，召回结果比原词条大，增加了玉米，但基本覆盖了原词条的内容\" }',\n",
       " '{\"判断相符\":\\'1\\',\\'原因\\':\"召回结果符合原词条，召回结果比原词条大，但是和原词条相符\" }',\n",
       " '{\"判断相符\":\\'1\\',\\'原因\\':\"召回结果符合原词条，召回结果比原词条多加了蒜泥，但主体仍是空心菜\" }',\n",
       " '{\"判断相符\":\\'2\\',\\'原因\\':\"召回结果部分满足原词条，召回结果多了冬瓜，少了小青菜\" }',\n",
       " '{\"判断相符\":\\'1\\',\\'原因\\':\"召回结果符合原词条，召回结果比原词条多加了小米，但依然符合养胃玉米粥的主题\" }',\n",
       " '{\"判断相符\":\\'1\\',\\'原因\\':\"召回结果符合原词条，召回结果的小米粥是粥的一种，且\\'暖暖的\\'与\\'热乎的\\'意义相近\" }',\n",
       " '{\"判断相符\":\\'1\\',\\'原因\\':\"召回结果符合原词条，召回结果和原词条相符，只是表述方式不同\" }',\n",
       " '{\"判断相符\":\\'1\\',\\'原因\\':\"召回结果符合原词条，召回结果比原词条多加了红糖，但基本成分和原词条相符\" }',\n",
       " '{\"判断相符\":\\'2\\',\\'原因\\':\"召回结果部分满足原词条，原词条的是炒泡菜，召回结果是炒香菇\" }',\n",
       " '{\"判断相符\":\\'1\\',\\'原因\\':\"召回结果符合原词条，召回结果比原词条大，但是和原词条相符\" }',\n",
       " '{\"判断相符\":\\'2\\',\\'原因\\':\"召回结果部分满足原词条，原词条是红豆薏米，召回结果是小米红糖红枣，虽然都是养胃粥但材料不同\" }',\n",
       " '{\"判断相符\":\\'1\\',\\'原因\\':\"召回结果符合原词条，召回结果只是商家起的更可爱的名字，实质内容与原词条一致\" }',\n",
       " '{\"判断相符\":\\'2\\',\\'原因\\':\"召回结果部分满足原词条，召回结果比原词条多加了百叶\" }',\n",
       " '{\"判断相符\":\\'1\\',\\'原因\\':\"召回结果符合原词条，召回结果比原词条大，增加了南瓜，但依然符合养生和小米粥的概念\"}',\n",
       " '{\"判断相符\":\\'3\\',\\'原因\\':\"召回结果和原词条完全不相符，原词条是酸黄瓜丝小草，召回结果是黑木耳山药炒黄瓜片，两者内容完全不同\" }',\n",
       " '{\"判断相符\":\\'1\\',\\'原因\\':\"召回结果符合原词条，召回结果范围比原词条大，但是可以覆盖原词条\" }',\n",
       " '{\"判断相符\":\\'1\\',\\'原因\\':\"召回结果符合原词条，召回结果比原词条大，但是可以覆盖原词条\" }',\n",
       " '{\"判断相符\":\\'3\\',\\'原因\\':\"召回结果和原词条完全不相符，原词条是关于煮软的，而召回结果是关于炒的\" }',\n",
       " '{\"判断相符\":\\'3\\',\\'原因\\':\"召回结果和原词条完全不相符，原词条指的是蔬菜类，而召回结果是菌类炖汤\" }',\n",
       " '{\"判断相符\":\\'1\\',\\'原因\\':\"召回结果符合原词条\" }',\n",
       " '{\"判断相符\":\\'1\\',\\'原因\\':\"召回结果符合原词条，召回结果比原词条更具体，但基本内容相符\" }',\n",
       " '{\"判断相符\":\\'1\\',\\'原因\\':\"召回结果符合原词条，召回结果只是商家起的更可爱的名字，实质内容与原词条一致\" }',\n",
       " '{\"判断相符\":\\'2\\',\\'原因\\':\"召回结果部分满足原词条，召回结果多了番茄，但基本覆盖了原词条的内容\" }',\n",
       " '{\"判断相符\":\\'3\\',\\'原因\\':\"召回结果和原词条完全不相符，原词条是玉米养生汤，召回结果是南瓜小米粥\" }',\n",
       " '{\"判断相符\":\\'1\\',\\'原因\\':\"召回结果符合原词条，召回结果比原词条多了一些修饰词，但核心内容一致\" }',\n",
       " '{\"判断相符\":\\'1\\',\\'原因\\':\"召回结果符合原词条，完全匹配\" }',\n",
       " '{\"判断相符\":\\'1\\',\\'原因\\':\"召回结果符合原词条，召回结果范围比原词条大，但是可以覆盖原词条\" }',\n",
       " '{\"判断相符\":\\'1\\',\\'原因\\':\"召回结果符合原词条，完全一致\" }',\n",
       " '{\"判断相符\":\\'1\\',\\'原因\\':\"召回结果符合原词条，召回结果范围比原词条大，但是可以覆盖原词条\" }',\n",
       " '{\"判断相符\":\\'1\\',\\'原因\\':\"召回结果符合原词条，召回结果比原词条大，但是和原词条相符\" }',\n",
       " '{\"判断相符\":\\'2\\',\\'原因\\':\"召回结果部分满足原词条，原词条是话鸡蛋小炒，召回结果多了木耳和大葱\" }',\n",
       " '{\"判断相符\":\\'1\\',\\'原因\\':\"召回结果符合原词条，召回结果比原词条多了一个\\'加一碗\\'的描述，但核心内容一致\" }',\n",
       " '{\"判断相符\":\\'3\\',\\'原因\\':\"召回结果和原词条完全不相符，擎载粥和龙成艇仔粥在名称和内容上无直接关联\" }',\n",
       " '{\"判断相符\":\\'1\\',\\'原因\\':\"召回结果符合原词条，召回结果只是商家起的更可爱的名字，实质内容与原词条一致\" }',\n",
       " '{\"判断相符\":\\'2\\',\\'原因\\':\"召回结果部分满足原词条，原词条是清炒小白菜，召回结果多了鹅蛋和小葱\" }',\n",
       " '{\"判断相符\":\\'2\\',\\'原因\\':\"召回结果部分满足原词条，原词条是白菜，召回结果是小白菜和土豆，虽然都是蔬菜，但不完全相同\" }',\n",
       " '{\"判断相符\":\\'2\\',\\'原因\\':\"召回结果部分满足原词条，原词条的是冻豆腐，召回结果是没有冻豆腐，但是有大白菜和豆腐\" }',\n",
       " '{\"判断相符\":\\'1\\',\\'原因\\':\"召回结果符合原词条，召回结果比原词条多了一个\\'滑\\'字，但整体意思和原词条相符\" }',\n",
       " '{\"判断相符\":\\'2\\',\\'原因\\':\"召回结果部分满足原词条，召回结果多了黄瓜和西红柿，但基本覆盖了原词条的主要内容\" }',\n",
       " '{\"判断相符\":\\'1\\',\\'原因\\':\"召回结果符合原词条，召回结果与原词条相符，只是表述方式略有不同\" }',\n",
       " '{\"判断相符\":\\'1\\',\\'原因\\':\"召回结果符合原词条，只是词语顺序不同，但内容和原词条一致\" }',\n",
       " '{\"判断相符\":\\'1\\',\\'原因\\':\"召回结果符合原词条，完全一致\" }',\n",
       " '{\"判断相符\":\\'1\\',\\'原因\\':\"召回结果符合原词条，召回结果与原词条一致，只是少了\\'鲜\\'字，但整体内容相符\" }',\n",
       " '{\"判断相符\":\\'1\\',\\'原因\\':\"召回结果符合原词条，召回结果比原词条大，但是和原词条相符\" }',\n",
       " '{\"判断相符\":\\'1\\',\\'原因\\':\"召回结果符合原词条，召回结果使用了更可爱的名字\\'皮皮蛋\\'，但实质内容与原词条一致\" }',\n",
       " '{\"判断相符\":\\'1\\',\\'原因\\':\"召回结果符合原词条，召回结果比原词条详细，但内容一致\" }',\n",
       " '{\"判断相符\":\\'1\\',\\'原因\\':\"召回结果符合原词条，召回结果只是商家起的更可爱的名字，但内容与原词条相符\" }',\n",
       " '{\"判断相符\":\\'1\\',\\'原因\\':\"召回结果符合原词条，召回结果与原词条完全一致\" }',\n",
       " '{\"判断相符\":\\'2\\',\\'原因\\':\"召回结果部分满足原词条，原词条的范围更广，召回结果具体到了大头菜\" }',\n",
       " '{\"判断相符\":\\'3\\',\\'原因\\':\"召回结果和原词条完全不相符，原词条是红糖姜茶，召回结果是红糖红豆红枣粥，两者成分完全不同\" }',\n",
       " '{\"判断相符\":\\'2\\',\\'原因\\':\"召回结果部分满足原词条，召回结果和原词条都是养胃粥，但召回结果使用了虫草和滑鸡，与原词条的山药和鸡茸不完全一致\" }',\n",
       " '{\"判断相符\":\\'1\\',\\'原因\\':\"召回结果符合原词条，召回结果只是商家起的更可爱的名字，实质内容与原词条一致\"}',\n",
       " '{\"判断相符\":\\'2\\',\\'原因\\':\"召回结果部分满足原词条，原词条是红豆，召回结果是大枣，虽然都是甜味食材但不完全相同\" }',\n",
       " '{\"判断相符\":\\'1\\',\\'原因\\':\"召回结果符合原词条，召回结果比原词条更具体，但核心内容一致\" }',\n",
       " '{\"判断相符\":\\'1\\',\\'原因\\':\"召回结果符合原词条，召回结果与原词条一致，只是表述方式略有不同\" }',\n",
       " '{\"判断相符\":\\'1\\',\\'原因\\':\"召回结果符合原词条，召回结果比原词条大，增加了土豆丝，但可以覆盖原词条\" }',\n",
       " '{\"判断相符\":\\'1\\',\\'原因\\':\"召回结果符合原词条，召回结果比原词条具体，但核心内容一致\" }',\n",
       " '{\"判断相符\":\\'1\\',\\'原因\\':\"召回结果符合原词条，召回结果比原词条更具体，但本质相同\" }',\n",
       " '{\"判断相符\":\\'1\\',\\'原因\\':\"召回结果符合原词条，召回结果比原词条大，增加了红枣，但是和原词条相符\" }',\n",
       " '{\"判断相符\":\\'1\\',\\'原因\\':\"召回结果符合原词条，完全一致\" }',\n",
       " '{\"判断相符\":\\'2\\',\\'原因\\':\"召回结果部分满足原词条，原词条要求的是软烂易嚼食物，召回结果是稠香厚实南瓜粥，虽然南瓜粥是软烂的，但\\'稠香厚实\\'的描述不完全符合\\'易嚼\\'的要求\"}',\n",
       " '{\"判断相符\":\\'1\\',\\'原因\\':\"召回结果符合原词条，召回结果的范围可以比原词条的大一些，口味可以不一致\" }',\n",
       " '{\"判断相符\":\\'1\\',\\'原因\\':\"召回结果符合原词条，召回结果比原词条多加了\\'财神\\'这样的修饰词，但本质上是相同的八宝粥\" }',\n",
       " '{\"判断相符\":\\'1\\',\\'原因\\':\"召回结果符合原词条，召回结果比原词条多加了木耳，但基本覆盖了原词条的内容\" }',\n",
       " '{\"判断相符\":\\'1\\',\\'原因\\':\"召回结果符合原词条，完全一致\" }',\n",
       " '{\"判断相符\":\\'1\\',\\'原因\\':\"召回结果符合原词条，召回结果只是商家起的更可爱的名字，内容与原词条一致\" }',\n",
       " '{\"判断相符\":\\'1\\',\\'原因\\':\"召回结果符合原词条，召回结果的范围比原词条大一些，但可以覆盖原词条，且西红柿是番茄的另一种称呼，炒鸡蛋与炒蛋同义，盖饭与配米饭相似\" }',\n",
       " '{\"判断相符\":\\'1\\',\\'原因\\':\"召回结果符合原词条，召回结果和原词条相符，只是顺序不同\" }',\n",
       " '{\"判断相符\":\\'1\\',\\'原因\\':\"召回结果符合原词条，召回结果与原词条一致，只是顺序不同\" }',\n",
       " '{\"判断相符\":\\'1\\',\\'原因\\':\"召回结果符合原词条，召回结果范围比原词条大，但是可以覆盖原词条\" }',\n",
       " '{\"判断相符\":\\'3\\',\\'原因\\':\"召回结果和原词条完全不相符，原词条是青菜干丝肉丝配米饭，召回结果是青椒土豆丝炒鸡肉丝，食材和做法完全不同\" }',\n",
       " '{\"判断相符\":\\'3\\',\\'原因\\':\"召回结果和原词条完全不相符，原词条是雪菜焖嫩豆腐，召回结果是小碗牛肉炖老豆腐，主要食材和烹饪方法都不同\" }',\n",
       " '{\"判断相符\":\\'3\\',\\'原因\\':\"召回结果和原词条完全不相符，原词条是木耳炒蛋，召回结果是酸豆角鸡蛋炒饭\" }',\n",
       " '{\"判断相符\":\\'1\\',\\'原因\\':\"召回结果符合原词条，召回结果使用了更可爱的名字\\'皮皮蛋\\'，但实质内容与原词条一致\" }',\n",
       " '{\"判断相符\":\\'1\\',\\'原因\\':\"召回结果符合原词条，召回结果比原词条大，但是和原词条相符\" }',\n",
       " '{\"判断相符\":\\'1\\',\\'原因\\':\"召回结果符合原词条，召回结果的范围比原词条大一些，可以覆盖原词条\" }',\n",
       " '{\"判断相符\":\\'1\\',\\'原因\\':\"召回结果符合原词条，召回结果比原词条详细，但内容相符\" }',\n",
       " '{\"判断相符\":\\'1\\',\\'原因\\':\"召回结果符合原词条，召回结果的范围比原词条大，但可以覆盖原词条，手擀面汤可以包含炉子面的概念\" }',\n",
       " '{\"判断相符\":\\'2\\',\\'原因\\':\"召回结果部分满足原词条，原词条是番茄浇头饭，召回结果是番茄炒鸡蛋饭，虽然都包含番茄和饭，但浇头和炒鸡蛋是不同的配料\"}',\n",
       " '{\"判断相符\":\\'3\\',\\'原因\\':\"召回结果和原词条完全不相符，原词条是姜汤，召回结果是牛肉当归粥\" }',\n",
       " '{\"判断相符\":\\'1\\',\\'原因\\':\"召回结果符合原词条，召回结果使用了更可爱的名字\\'皮皮蛋\\'，但实质内容与原词条一致\" }',\n",
       " '{\"判断相符\":\\'1\\',\\'原因\\':\"召回结果符合原词条，召回结果比原词条具体，但可以覆盖原词条\" }',\n",
       " '{\"判断相符\":\\'1\\',\\'原因\\':\"召回结果符合原词条，召回结果的范围比原词条大，但可以覆盖原词条的要求\" }',\n",
       " '{\"判断相符\":\\'1\\',\\'原因\\':\"召回结果符合原词条，召回结果比原词条更详细，但基本内容一致\" }',\n",
       " '{\"判断相符\":\\'2\\',\\'原因\\':\"召回结果部分满足原词条，原词条是小米粥，召回结果多了糯米\" }',\n",
       " '{\"判断相符\":\\'1\\',\\'原因\\':\"召回结果符合原词条，召回结果比原词条大，但是和原词条相符\" }',\n",
       " '{\"判断相符\":\\'1\\',\\'原因\\':\"召回结果符合原词条，虽然召回结果将\\'归圆\\'替换为\\'桂圆\\'，但两者指的是同一种食材，因此可以覆盖原词条\" }',\n",
       " '{\"判断相符\":\\'2\\',\\'原因\\':\"召回结果部分满足原词条，召回结果包含了原词条的韭菜炒蛋，但增加了韭黄炒蛋，范围比原词条大\" }',\n",
       " '{\"判断相符\":\\'1\\',\\'原因\\':\"召回结果完全符合原词条\" }',\n",
       " '{\"判断相符\":\\'2\\',\\'原因\\':\"召回结果部分满足原词条，原词条是山药，召回结果是南瓜，虽然都是养胃粥但主料不同\"}',\n",
       " '{\"判断相符\":\\'1\\',\\'原因\\':\"召回结果符合原词条，虽然顺序不同，但内容和原词条一致\" }',\n",
       " '{\"判断相符\":\\'1\\',\\'原因\\':\"召回结果符合原词条，召回结果比原词条多加了肉末，但基本覆盖了原词条的内容\" }',\n",
       " '{\"判断相符\":\\'1\\',\\'原因\\':\"召回结果符合原词条，虽然名称不同但都属于养生粥类，可以覆盖原词条\" }',\n",
       " '{\"判断相符\":\\'1\\',\\'原因\\':\"召回结果符合原词条，召回结果比原词条大，增加了小米和红枣，但覆盖了原词条的南瓜和枸杞，且都是养胃粥\" }',\n",
       " '{\"判断相符\":\\'2\\',\\'原因\\':\"召回结果部分满足原词条，原词条是湖南小炒肉包饭，召回结果是湘西外婆菜小炒，虽然都是湖南菜系，但具体菜品不同\" }',\n",
       " '{\"判断相符\":\\'2\\',\\'原因\\':\"召回结果部分满足原词条，原词条的范围更广，召回结果只是其中的一种清淡菜品\"}',\n",
       " '{\"判断相符\":\\'1\\',\\'原因\\':\"召回结果符合原词条，召回结果比原词条大，增加了南瓜，但是和原词条相符\" }',\n",
       " '{\"判断相符\":\\'1\\',\\'原因\\':\"召回结果符合原词条，召回结果比原词条大，增加了红枣，但是和原词条相符\" }',\n",
       " '{\"判断相符\":\\'1\\',\\'原因\\':\"召回结果符合原词条，召回结果比原词条大，但是可以覆盖原词条\" }',\n",
       " '{\"判断相符\":\\'1\\',\\'原因\\':\"召回结果符合原词条，召回结果比原词条大，但是可以覆盖原词条\" }',\n",
       " '{\"判断相符\":\\'2\\',\\'原因\\':\"召回结果部分满足原词条，原词条是干饭，召回结果是炒饭，且多了虾仁\" }',\n",
       " '{\"判断相符\":\\'2\\',\\'原因\\':\"召回结果部分满足原词条，原词条是枸杞炖小肥汤，召回结果是虫草花枸杞炖瘦肉，少了小肥\" }',\n",
       " '{\"判断相符\":\\'1\\',\\'原因\\':\"召回结果符合原词条，召回结果比原词条大，但是可以覆盖原词条\" }',\n",
       " '{\"判断相符\":\\'1\\',\\'原因\\':\"召回结果符合原词条，召回结果范围比原词条大，但是可以覆盖原词条\" }',\n",
       " '{\"判断相符\":\\'3\\',\\'原因\\':\"召回结果和原词条完全不相符，原词条指的是拼蛋，召回结果是炒鸡蛋\" }',\n",
       " '{\"判断相符\":\\'1\\',\\'原因\\':\"召回结果符合原词条，召回结果比原词条更具体，但口味和范围与原词条相符\" }',\n",
       " '{\"判断相符\":\\'1\\',\\'原因\\':\"召回结果符合原词条，召回结果只是商家起的更可爱的名字，实质内容与原词条一致\" }',\n",
       " '{\"判断相符\":\\'3\\',\\'原因\\':\"召回结果和原词条完全不相符，原词条是皮蛋烧肉，召回结果是鸡蛋肉丝炒豆皮子\" }',\n",
       " '{\"判断相符\":\\'2\\',\\'原因\\':\"召回结果部分满足原词条，原词条的是浇头面，召回结果添加了菠菜，改变了原词条的成分\" }',\n",
       " '{\"判断相符\":\\'1\\',\\'原因\\':\"召回结果符合原词条，召回结果使用了更可爱的名字\\'皮皮蛋\\'，但实质内容与原词条一致\" }',\n",
       " '{\"判断相符\":\\'2\\',\\'原因\\':\"召回结果部分满足原词条，原词条的是土豆丝浇饭，召回结果是芹菜炒土豆丝盖饭，多了芹菜\" }',\n",
       " '{\"判断相符\":\\'1\\',\\'原因\\':\"召回结果符合原词条，召回结果比原词条大，增加了莲子，但是可以覆盖原词条\" }',\n",
       " '{\"判断相符\":\\'3\\',\\'原因\\':\"召回结果和原词条完全不相符，原词条要求的是少油少盐的菜，而召回结果是面条不要韭菜，两者无直接关联\" }',\n",
       " '{\"判断相符\":\\'2\\',\\'原因\\':\"召回结果部分满足原词条，原词条是肉末，召回结果是排骨，食材不完全一致\" }',\n",
       " '{\"判断相符\":\\'3\\',\\'原因\\':\"召回结果和原词条完全不相符，原词条是油梅菜，召回结果是西兰花\" }',\n",
       " '{\"判断相符\":\\'2\\',\\'原因\\':\"召回结果部分满足原词条，原词条是鲜汤炖，召回结果是拌，且配料不完全相同\" }',\n",
       " '{\"判断相符\":\\'2\\',\\'原因\\':\"召回结果和原词条部分相符，原词条是鲜鱼，召回结果是海鲜，范围有所变化但核心成分嫩豆腐汤一致\"}',\n",
       " '{\"判断相符\":\\'2\\',\\'原因\\':\"召回结果部分满足原词条，原词条是小米粥，召回结果增加了糯米\" }',\n",
       " '{\"判断相符\":\\'1\\',\\'原因\\':\"召回结果符合原词条，召回结果比原词条更具体，但基本内容一致\" }',\n",
       " '{\"判断相符\":\\'2\\',\\'原因\\':\"召回结果部分满足原词条，原词条是鲜鱼，召回结果是鱼丸，且增加了海带\" }',\n",
       " '{\"判断相符\":\\'2\\',\\'原因\\':\"召回结果部分满足原词条，原词条的是养胃粥，召回结果是补血粥，虽然都含有红枣和枸杞，但主要功效不同\"}',\n",
       " '{\"判断相符\":\\'1\\',\\'原因\\':\"召回结果符合原词条，召回结果比原词条大，增加了菠菜，但是可以覆盖原词条\" }',\n",
       " '{\"判断相符\":\\'1\\',\\'原因\\':\"召回结果符合原词条，召回结果与原词条意思一致，只是表述方式不同\" }',\n",
       " '{\"判断相符\":\\'1\\',\\'原因\\':\"召回结果符合原词条，召回结果比原词条大，增加了地瓜，但依然包含南瓜\" }',\n",
       " '{\"判断相符\":\\'3\\',\\'原因\\':\"召回结果和原词条完全不相符\" }',\n",
       " '{\"判断相符\":\\'1\\',\\'原因\\':\"召回结果符合原词条，完全一致\" }',\n",
       " '{\"判断相符\":\\'1\\',\\'原因\\':\"召回结果符合原词条，召回结果使用了更可爱的名字\\'皮皮蛋\\'，但实质内容与原词条一致\"}',\n",
       " '{\"判断相符\":\\'1\\',\\'原因\\':\"召回结果符合原词条，召回结果和原词条相符\" }',\n",
       " '{\"判断相符\":\\'1\\',\\'原因\\':\"召回结果符合原词条，召回结果和原词条相符，只是表述方式不同\" }',\n",
       " '{\"判断相符\":\\'1\\',\\'原因\\':\"召回结果符合原词条，召回结果比原词条具体，但仍在粥的范围内\" }',\n",
       " '{\"判断相符\":\\'1\\',\\'原因\\':\"召回结果符合原词条，召回结果比原词条多加了红糖，但整体符合原词条\" }',\n",
       " '{\"判断相符\":\\'2\\',\\'原因\\':\"召回结果部分满足原词条，原词条是大杂烩，召回结果只有土豆丝\" }',\n",
       " '{\"判断相符\":\\'2\\',\\'原因\\':\"召回结果部分满足原词条，原词条的是白菜，召回结果是羊肚菌和山药，虽然都有排骨汤，但主要配料不符\"}',\n",
       " '{\"判断相符\":\\'2\\',\\'原因\\':\"召回结果部分满足原词条，原词条是酸辣口味，召回结果没有提到酸辣，且加入了高汤和西红柿，与原词条的口味和成分不完全一致\"}',\n",
       " '{\"判断相符\":\\'2\\',\\'原因\\':\"召回结果部分满足原词条，原词条是热汤面，召回结果是挂面鸡蛋汤，缺少了面的热汤部分\" }',\n",
       " '{\"判断相符\":\\'1\\',\\'原因\\':\"召回结果符合原词条，召回结果只是商家起的更可爱的名字，实质内容与原词条一致\" }',\n",
       " '{\"判断相符\":\\'1\\',\\'原因\\':\"召回结果符合原词条，召回结果比原词条大，增加了木耳，但是和原词条相符\" }',\n",
       " '{\"判断相符\":\\'3\\',\\'原因\\':\"召回结果和原词条完全不相符，原词条是洋葱肉片，召回结果是番茄鸡蛋肉末\" }',\n",
       " '{\"判断相符\":\\'1\\',\\'原因\\':\"召回结果符合原词条，召回结果比原词条具体，但覆盖了原词条的主要内容\" }',\n",
       " '{\"判断相符\":\\'3\\',\\'原因\\':\"召回结果和原词条完全不相符，原词条是沃丹牛肉，召回结果是蕃茄炖牛肉，两者完全不同\" }',\n",
       " '{\"判断相符\":\\'1\\',\\'原因\\':\"召回结果符合原词条，召回结果比原词条大，增加了黄瓜片，但核心成分木耳和山药与原词条一致\" }',\n",
       " '{\"判断相符\":\\'1\\',\\'原因\\':\"召回结果符合原词条，召回结果比原词条多加了白米饭，但覆盖了原词条的内容\" }',\n",
       " '{\"判断相符\":\\'1\\',\\'原因\\':\"召回结果符合原词条，虽然召回结果中皮蛋的名字有所变化，但实质内容与原词条一致\" }',\n",
       " '{\"判断相符\":\\'1\\',\\'原因\\':\"召回结果符合原词条，虽然召回结果中皮蛋被称作皮皮蛋，但这是商家起的更可爱的名字，实质上是相同的食材\"}',\n",
       " '{\"判断相符\":\\'3\\',\\'原因\\':\"召回结果和原词条完全不相符，原词条是蒜香油菜，召回结果是蒜黄香干炒肉丝，两者食材和做法完全不同\" }',\n",
       " '{\"判断相符\":\\'1\\',\\'原因\\':\"召回结果符合原词条，召回结果比原词条大，增加了冻豆腐，但基本覆盖原词条\" }',\n",
       " '{\"判断相符\":\\'3\\',\\'原因\\':\"召回结果和原词条完全不相符，原词条是关于计划的，召回结果是关于食物的\" }',\n",
       " '{\"判断相符\":\\'1\\',\\'原因\\':\"召回结果符合原词条，召回结果和原词条描述的是同一种食物，只是表述方式不同\" }',\n",
       " '{\"判断相符\":\\'1\\',\\'原因\\':\"召回结果符合原词条，召回结果与原词条一致\" }',\n",
       " '{\"判断相符\":\\'1\\',\\'原因\\':\"召回结果符合原词条，召回结果比原词条大，但是可以覆盖原词条\" }',\n",
       " '{\"判断相符\":\\'1\\',\\'原因\\':\"召回结果符合原词条，召回结果比原词条多了一些内容（肉末），但可以覆盖原词条\" }',\n",
       " '{\"判断相符\":\\'1\\',\\'原因\\':\"召回结果符合原词条，召回结果和原词条相符，只是描述方式不同\" }',\n",
       " '{\"判断相符\":\\'1\\',\\'原因\\':\"召回结果符合原词条，召回结果比原词条大，增加了木耳，但是和原词条相符\" }',\n",
       " '{\"判断相符\":\\'1\\',\\'原因\\':\"召回结果符合原词条，召回结果只是商家起的更可爱的名字，实际内容与原词条一致\" }',\n",
       " '{\"判断相符\":\\'1\\',\\'原因\\':\"召回结果符合原词条，虽然名称顺序不同，但内容和原词条一致\" }',\n",
       " '{\"判断相符\":\\'1\\',\\'原因\\':\"召回结果符合原词条，召回结果只是商家起的更可爱的名字，实质内容与原词条一致\" }',\n",
       " '{\"判断相符\":\\'1\\',\\'原因\\':\"召回结果符合原词条，完全一致\" }',\n",
       " '{\"判断相符\":\\'2\\',\\'原因\\':\"召回结果部分满足原词条，原词条包含山药，召回结果没有提到山药\" }',\n",
       " '{\"判断相符\":\\'1\\',\\'原因\\':\"召回结果符合原词条，虽然召回结果使用了更可爱的名字\\'皮皮蛋\\'，但实质内容与原词条相符\" }',\n",
       " '{\"判断相符\":\\'3\\',\\'原因\\':\"召回结果和原词条完全不相符，原词条是咸菜茭白汤面，召回结果是精瘦肉香菇木耳素臊子双拼鸡汤面，两者在主要食材和风味上完全不同\" }',\n",
       " '{\"判断相符\":\\'1\\',\\'原因\\':\"召回结果符合原词条，召回结果使用了更可爱的名字\\'皮皮蛋\\'，但实质内容与原词条一致\" }',\n",
       " '{\"判断相符\":\\'1\\',\\'原因\\':\"召回结果符合原词条，召回结果的成分与原词条完全一致，只是顺序不同\" }',\n",
       " '{\"判断相符\":\\'3\\',\\'原因\\':\"召回结果和原词条完全不相符，糖水和过水大碴粥在成分和口感上完全不同\" }',\n",
       " '{\"判断相符\":\\'2\\',\\'原因\\':\"召回结果部分满足原词条，原词条是油豆腐，召回结果是五花肉和豆腐，虽然有大白菜但主料不完全一致\" }',\n",
       " '{\"判断相符\":\\'2\\',\\'原因\\':\"召回结果部分满足原词条，召回结果包含了原词条的豆腐和千张，但多了黄焖鸡和米饭\" }',\n",
       " '{\"判断相符\":\\'1\\',\\'原因\\':\"召回结果符合原词条，完全一致\" }',\n",
       " '{\"判断相符\":\\'2\\',\\'原因\\':\"召回结果部分满足原词条，原词条是乱炖，召回结果少了乱炖的元素，但排骨汤是相符的\"}',\n",
       " '{\"判断相符\":\\'1\\',\\'原因\\':\"召回结果符合原词条，召回结果比原词条大，但是和原词条相符\" }',\n",
       " '{\"判断相符\":\\'1\\',\\'原因\\':\"召回结果符合原词条，召回结果使用了更可爱的名字\\'皮皮蛋\\'，但实质内容与原词条一致\" }',\n",
       " '{\"判断相符\":\\'2\\',\\'原因\\':\"召回结果部分满足原词条，召回结果比原词条多了黄瓜片\" }',\n",
       " '{\"判断相符\":\\'1\\',\\'原因\\':\"召回结果符合原词条，召回结果比原词条大，但是和原词条相符\" }',\n",
       " '{\"判断相符\":\\'2\\',\\'原因\\':\"召回结果部分满足原词条，原词条是小菜，召回结果是清炒小白莱，范围比原词条小\" }',\n",
       " '{\"判断相符\":\\'2\\',\\'原因\\':\"召回结果部分满足原词条，原词条是香煎蛋，召回结果是炒蛋\" }',\n",
       " '{\"判断相符\":\\'1\\',\\'原因\\':\"召回结果符合原词条，召回结果比原词条大，增加了羊肚菌，但是和原词条相符\" }',\n",
       " '{\"判断相符\":\\'1\\',\\'原因\\':\"召回结果符合原词条，召回结果比原词条大，但是和原词条相符\" }',\n",
       " '{\"判断相符\":\\'1\\',\\'原因\\':\"召回结果符合原词条，皮皮蛋是皮蛋的可爱称呼，召回结果和原词条相符\"}',\n",
       " '{\"判断相符\":\\'2\\',\\'原因\\':\"召回结果部分满足原词条，原词条是养胃粥，召回结果是补血粥，虽然都含有红枣，但主要功效不同\"}',\n",
       " '{\"判断相符\":\\'1\\',\\'原因\\':\"召回结果符合原词条\" }',\n",
       " '{\"判断相符\":\\'1\\',\\'原因\\':\"召回结果符合原词条，召回结果与原词条基本一致，只是表述上略有不同\" }',\n",
       " '{\"判断相符\":\\'1\\',\\'原因\\':\"召回结果符合原词条，召回结果与原词条基本一致，只是表述上略有不同\" }',\n",
       " '{\"判断相符\":\\'2\\',\\'原因\\':\"召回结果部分满足原词条，原词条是青椒肉丝小炒，召回结果多了小笋\" }',\n",
       " '{\"判断相符\":\\'2\\',\\'原因\\':\"召回结果部分满足原词条，原词条是汤面，召回结果少了面\"}',\n",
       " '{\"判断相符\":\\'1\\',\\'原因\\':\"召回结果符合原词条，虽然名称有所不同，但都指的是黑米粥，可以覆盖原词条\" }',\n",
       " '{\"判断相符\":\\'2\\',\\'原因\\':\"召回结果部分满足原词条，原词条是桂花，召回结果是桂圆，且增加了山药\" }',\n",
       " '{\"判断相符\":\\'1\\',\\'原因\\':\"召回结果符合原词条，召回结果比原词条大，但是可以覆盖原词条\" }',\n",
       " '{\"判断相符\":\\'1\\',\\'原因\\':\"召回结果符合原词条，召回结果比原词条多加了小米，但整体符合原词条的范围\" }',\n",
       " '{\"判断相符\":\\'3\\',\\'原因\\':\"召回结果和原词条完全不相符\" }',\n",
       " '{\"判断相符\":\\'2\\',\\'原因\\':\"召回结果部分满足原词条，原词条是红友薏米，召回结果是小米红糖红枣，虽然都是养胃粥但材料不完全一致\" }',\n",
       " '{\"判断相符\":\\'1\\',\\'原因\\':\"召回结果符合原词条，召回结果比原词条大，但是和原词条相符\" }',\n",
       " '{\"判断相符\":\\'1\\',\\'原因\\':\"召回结果符合原词条\" }',\n",
       " '{\"判断相符\":\\'1\\',\\'原因\\':\"召回结果符合原词条，召回结果比原词条多加了菠菜，但基本覆盖原词条\" }',\n",
       " '{\"判断相符\":\\'2\\',\\'原因\\':\"召回结果部分满足原词条，原词条中有瑶柱，召回结果中没有瑶柱但有枸杞\" }',\n",
       " '{\"判断相符\":\\'1\\',\\'原因\\':\"召回结果符合原词条，召回结果比原词条大，但是可以覆盖原词条\" }',\n",
       " '{\"判断相符\":\\'2\\',\\'原因\\':\"召回结果部分满足原词条，召回结果比原词条多了番茄，但基本覆盖了原词条的内容\" }',\n",
       " '{\"判断相符\":\\'1\\',\\'原因\\':\"召回结果符合原词条，召回结果比原词条大，但是可以覆盖原词条\" }',\n",
       " '{\"判断相符\":\\'2\\',\\'原因\\':\"召回结果部分满足原词条，原词条是炒肉，召回结果是没有肉，但有黄瓜片\" }',\n",
       " '{\"判断相符\":\\'1\\',\\'原因\\':\"召回结果符合原词条，召回结果与原词条基本一致，只是表述方式略有不同\" }',\n",
       " '{\"判断相符\":\\'2\\',\\'原因\\':\"召回结果部分满足原词条，原词条的是肉菜，召回结果是酸菜\" }',\n",
       " '{\"判断相符\":\\'2\\',\\'原因\\':\"召回结果部分满足原词条，原词条是养胃粥，召回结果是补血粥，虽然都含有红枣，但主要功效和部分材料不同\"}',\n",
       " '{\"判断相符\":\\'1\\',\\'原因\\':\"召回结果符合原词条，召回结果比原词条简洁，但内容一致\" }',\n",
       " '{\"判断相符\":\\'2\\',\\'原因\\':\"召回结果部分满足原词条，原词条是炖粉条，召回结果是炒粉条，且增加了土猪肉\" }',\n",
       " '{\"判断相符\":\\'1\\',\\'原因\\':\"召回结果符合原词条，召回结果使用了更可爱的名字\\'皮皮蛋\\'，但与原词条\\'皮蛋\\'相符\" }',\n",
       " '{\"判断相符\":\\'1\\',\\'原因\\':\"召回结果符合原词条，召回结果只是商家起的更可爱的名字，实质内容一致\"}',\n",
       " '{\"判断相符\":\\'1\\',\\'原因\\':\"召回结果符合原词条，召回结果的成分和原词条完全一致，只是顺序不同\" }',\n",
       " '{\"判断相符\":\\'1\\',\\'原因\\':\"召回结果符合原词条，召回结果与原词条相符，只是表述上略有不同\" }',\n",
       " '{\"判断相符\":\\'3\\',\\'原因\\':\"召回结果和原词条完全不相符，原词条是香辣干锅菜花，召回结果是青椒肉丝炒马桥香干\" }',\n",
       " '{\"判断相符\":\\'1\\',\\'原因\\':\"召回结果符合原词条，召回结果比原词条大，但是可以覆盖原词条\" }',\n",
       " '{\"判断相符\":\\'2\\',\\'原因\\':\"召回结果部分满足原词条，原词条的是养胃粥，召回结果的是补血粥，虽然材料相似但功效不同\" }',\n",
       " '{\"判断相符\":\\'1\\',\\'原因\\':\"召回结果符合原词条，召回结果的口味可以不一致，但都是鲫鱼汤\" }',\n",
       " '{\"判断相符\":\\'1\\',\\'原因\\':\"召回结果符合原词条\" }',\n",
       " '{\"判断相符\":\\'2\\',\\'原因\\':\"召回结果部分满足原词条，原词条是香菇，召回结果是猴头菇，虽然都是菇类，但不完全相同\" }',\n",
       " '{\"判断相符\":\\'1\\',\\'原因\\':\"召回结果符合原词条，召回结果比原词条多了小米，但整体口味和范围与原词条相符\" }',\n",
       " '{\"判断相符\":\\'1\\',\\'原因\\':\"召回结果符合原词条，召回结果比原词条更具体，但和原词条相符\" }',\n",
       " '{\"判断相符\":\\'1\\',\\'原因\\':\"召回结果符合原词条，召回结果比原词条更具体，但核心内容一致\" }',\n",
       " '{\"判断相符\":\\'3\\',\\'原因\\':\"召回结果和原词条完全不相符，原词条是酸辣红心菜，召回结果是酸甜紫包菜，口味和食材都不一致\" }',\n",
       " '{\"判断相符\":\\'3\\',\\'原因\\':\"召回结果和原词条完全不相符，原词条是自菜单场，召回结果是千张小白菜\" }',\n",
       " '{\"判断相符\":\\'1\\',\\'原因\\':\"召回结果符合原词条，召回结果比原词条大，但是可以覆盖原词条\" }',\n",
       " '{\"判断相符\":\\'1\\',\\'原因\\':\"召回结果符合原词条，完全匹配\" }',\n",
       " '{\"判断相符\":\\'2\\',\\'原因\\':\"召回结果部分满足原词条，原词条是豆苗，召回结果是豆尖，虽然都是豆类蔬菜，但品种不同\"}',\n",
       " '{\"判断相符\":\\'1\\',\\'原因\\':\"召回结果符合原词条，召回结果比原词条大，但是和原词条相符\" }',\n",
       " '{\"判断相符\":\\'3\\',\\'原因\\':\"召回结果和原词条完全不相符，原词条是茶树菇炖排骨汤，召回结果是五指毛桃土茯苓排骨汤，两者主要材料完全不同\" }',\n",
       " '{\"判断相符\":\\'1\\',\\'原因\\':\"召回结果符合原词条，完全匹配\" }',\n",
       " '{\"判断相符\":\\'3\\',\\'原因\\':\"召回结果和原词条完全不相符，原词条是限好走，召回结果是避风塘艇仔粥\" }',\n",
       " '{\"判断相符\":\\'1\\',\\'原因\\':\"召回结果符合原词条，召回结果比原词条大，但是和原词条相符\" }',\n",
       " '{\"判断相符\":\\'2\\',\\'原因\\':\"召回结果部分满足原词条，召回结果多了番茄，但基本覆盖原词条\" }',\n",
       " '{\"判断相符\":\\'1\\',\\'原因\\':\"召回结果符合原词条，召回结果的范围可以比原词条的大一些，口味可以不一致\" }',\n",
       " '{\"判断相符\":\\'1\\',\\'原因\\':\"召回结果符合原词条，召回结果比原词条大，但是可以覆盖原词条\" }',\n",
       " '{\"判断相符\":\\'1\\',\\'原因\\':\"召回结果符合原词条\" }',\n",
       " '{\"判断相符\":\\'3\\',\\'原因\\':\"召回结果和原词条完全不相符，原词条是东北大板菜，召回结果是东北黑木耳炒肉，两者完全不同\" }',\n",
       " '{\"判断相符\":\\'3\\',\\'原因\\':\"召回结果和原词条完全不相符，原词条是老鸭汤手工面，召回结果是黄鱼鲞豆腐皮面，两者食材和风味完全不同\" }',\n",
       " '{\"判断相符\":\\'1\\',\\'原因\\':\"召回结果符合原词条，完全匹配\" }',\n",
       " '{\"判断相符\":\\'1\\',\\'原因\\':\"召回结果符合原词条，召回结果比原词条具体，但可以覆盖原词条的范围\" }',\n",
       " '{\"判断相符\":\\'3\\',\\'原因\\':\"召回结果和原词条完全不相符，原词条是保单相关，召回结果是食品\" }',\n",
       " '{\"判断相符\":\\'2\\',\\'原因\\':\"召回结果部分满足原词条，原词条是西炖豆腐，召回结果是牛肉炖老豆腐，缺少了西炖的元素\" }',\n",
       " '{\"判断相符\":\\'1\\',\\'原因\\':\"召回结果符合原词条，召回结果比原词条大，但是可以覆盖原词条\" }',\n",
       " '{\"判断相符\":\\'3\\',\\'原因\\':\"召回结果和原词条完全不相符，原词条是四斤点炒肉丝，召回结果是白椒罗卜丝炒牛肉丝，两者主要食材和做法均不同\" }',\n",
       " '{\"判断相符\":\\'2\\',\\'原因\\':\"召回结果部分满足原词条，原词条是蘑菇和油菜，召回结果是香菇和肉\" }',\n",
       " '{\"判断相符\":\\'1\\',\\'原因\\':\"召回结果符合原词条，召回结果比原词条大，但是和原词条相符\" }',\n",
       " '{\"判断相符\":\\'3\\',\\'原因\\':\"召回结果和原词条完全不相符，原词条是炒菜，召回结果是粥\" }',\n",
       " '{\"判断相符\":\\'3\\',\\'原因\\':\"召回结果和原词条完全不相符，原词条是炖烂的铁，召回结果是加香干炒进去\" }',\n",
       " '{\"判断相符\":\\'1\\',\\'原因\\':\"召回结果符合原词条，召回结果范围比原词条大，包含了原词条的所有元素\" }',\n",
       " '{\"判断相符\":\\'3\\',\\'原因\\':\"召回结果和原词条完全不相符，原词条为空，无法与任何召回结果匹配\" }',\n",
       " '{\"判断相符\":\\'1\\',\\'原因\\':\"召回结果符合原词条，召回结果比原词条多加了肉末，但基本覆盖原词条\" }',\n",
       " '{\"判断相符\":\\'1\\',\\'原因\\':\"召回结果符合原词条，召回结果比原词条大，但是和原词条相符\" }',\n",
       " '{\"判断相符\":\\'2\\',\\'原因\\':\"召回结果部分满足原词条，原词条是毛豆肉丝，召回结果多了香菇和粉，少了毛豆\" }',\n",
       " '{\"判断相符\":\\'1\\',\\'原因\\':\"召回结果符合原词条，召回结果比原词条多加了红枣，但可以覆盖原词条\" }',\n",
       " '{\"判断相符\":\\'3\\',\\'原因\\':\"召回结果和原词条完全不相符\" }',\n",
       " '{\"判断相符\":\\'1\\',\\'原因\\':\"召回结果符合原词条，完全一致\" }',\n",
       " '{\"判断相符\":\\'3\\',\\'原因\\':\"召回结果和原词条完全不相符，原词条是酒，召回结果是粥\" }',\n",
       " '{\"判断相符\":\\'1\\',\\'原因\\':\"召回结果符合原词条，召回结果比原词条大，增加了玉米，但可以覆盖原词条\" }',\n",
       " '{\"判断相符\":\\'1\\',\\'原因\\':\"召回结果符合原词条\" }',\n",
       " '{\"判断相符\":\\'2\\',\\'原因\\':\"召回结果部分满足原词条，原词条的是乳磨豆腐，召回结果的是白菜豆腐，主要成分不一致\" }',\n",
       " '{\"判断相符\":\\'1\\',\\'原因\\':\"召回结果符合原词条，召回结果比原词条大，增加了腐竹，但基本覆盖原词条\" }',\n",
       " '{\"判断相符\":\\'1\\',\\'原因\\':\"召回结果符合原词条，召回结果使用了更可爱的名字\\'皮皮蛋\\'，但实质内容与原词条一致\"}',\n",
       " '{\"判断相符\":\\'1\\',\\'原因\\':\"召回结果符合原词条，召回结果的范围比原词条大，增加了蒜蓉，但可以覆盖原词条\" }',\n",
       " '{\"判断相符\":\\'1\\',\\'原因\\':\"召回结果符合原词条，召回结果比原词条大，增加了土豆，但基本覆盖原词条\" }',\n",
       " '{\"判断相符\":\\'2\\',\\'原因\\':\"召回结果部分满足原词条，原词条是红心菜，召回结果是芥兰，虽然都是蔬菜但种类不同\" }',\n",
       " '{\"判断相符\":\\'2\\',\\'原因\\':\"召回结果部分满足原词条，原词条是烩嫩豆腐，召回结果是豆腐皮拌娃娃菜，豆腐皮和嫩豆腐不同\" }',\n",
       " '{\"判断相符\":\\'2\\',\\'原因\\':\"召回结果部分满足原词条，原词条是滑嫩蛋香牛肉粥，召回结果多了菠菜，且蛋花粥与原词条的蛋香不完全一致\"}',\n",
       " '{\"判断相符\":\\'1\\',\\'原因\\':\"召回结果符合原词条，召回结果和原词条相符，只是表述方式不同\" }',\n",
       " '{\"判断相符\":\\'1\\',\\'原因\\':\"召回结果符合原词条，召回结果比原词条大，增加了干贝，但是和原词条相符\" }',\n",
       " '{\"判断相符\":\\'1\\',\\'原因\\':\"召回结果符合原词条\" }',\n",
       " '{\"判断相符\":\\'1\\',\\'原因\\':\"召回结果符合原词条，召回结果比原词条大，包含了茄子，并且是打卤面，可以覆盖原词条\" }',\n",
       " '{\"判断相符\":\\'3\\',\\'原因\\':\"召回结果和原词条完全不相符，原词条是炒蛋，召回结果是长豆角和外婆菜的煲仔\" }',\n",
       " '{\"判断相符\":\\'1\\',\\'原因\\':\"召回结果符合原词条，召回结果范围比原词条大，但是可以覆盖原词条\" }',\n",
       " '{\"判断相符\":\\'3\\',\\'原因\\':\"召回结果和原词条完全不相符，原词条无法识别，召回结果是炒山药傀儡\" }',\n",
       " '{\"判断相符\":\\'2\\',\\'原因\\':\"召回结果部分满足原词条，原词条是瘦肉粥，召回结果是牛肉粥，且增加了菠菜\" }',\n",
       " '{\"判断相符\":\\'2\\',\\'原因\\':\"召回结果部分满足原词条，原词条是无骨鸡汤，召回结果是竹丝鸡汤，虽然都是鸡汤但种类不同\" }',\n",
       " '{\"判断相符\":\\'2\\',\\'原因\\':\"召回结果部分满足原词条，原词条有粉丝，召回结果没有粉丝但有木耳\" }',\n",
       " '{\"判断相符\":\\'2\\',\\'原因\\':\"召回结果部分满足原词条，召回结果比原词条多了黄瓜和西红柿，但基本元素紫菜和蛋花汤存在\" }',\n",
       " '{\"判断相符\":\\'2\\',\\'原因\\':\"召回结果部分满足原词条，原词条的是炒蛋，召回结果是炒饭\" }',\n",
       " '{\"判断相符\":\\'2\\',\\'原因\\':\"召回结果部分满足原词条，原词条的是鸭脚，召回结果是鸭架\"}',\n",
       " '{\"判断相符\":\\'1\\',\\'原因\\':\"召回结果符合原词条，召回结果与原词条描述的食物组合一致，只是表述方式略有不同\" }',\n",
       " '{\"判断相符\":\\'1\\',\\'原因\\':\"召回结果符合原词条，召回结果比原词条多了一个\\'招牌\\'的描述，但内容一致\" }',\n",
       " '{\"判断相符\":\\'2\\',\\'原因\\':\"召回结果部分满足原词条，原词条的是鱼香，召回结果的是蒜香，口味不一致\"}',\n",
       " '{\"判断相符\":\\'2\\',\\'原因\\':\"召回结果部分满足原词条，原词条是蒜香肉丝，召回结果是肉丝香菇炒粉，多了香菇和粉，少了蒜香\"}',\n",
       " '{\"判断相符\":\\'1\\',\\'原因\\':\"召回结果符合原词条，召回结果比原词条大，但是可以覆盖原词条\" }',\n",
       " '{\"判断相符\":\\'1\\',\\'原因\\':\"召回结果符合原词条，召回结果比原词条大，增加了木耳，但是和原词条相符\" }',\n",
       " '{\"判断相符\":\\'1\\',\\'原因\\':\"召回结果符合原词条，召回结果使用了更可爱的名字\\'皮皮蛋\\'，但实质内容与原词条一致\" }',\n",
       " '{\"判断相符\":\\'1\\',\\'原因\\':\"召回结果符合原词条，召回结果使用了更可爱的名字\\'皮皮蛋\\'，但实质内容与原词条一致\" }',\n",
       " '{\"判断相符\":\\'3\\',\\'原因\\':\"召回结果和原词条完全不相符，原词条是干锅发菜，召回结果是干锅包心菜和小干炒，两者完全不同\" }',\n",
       " '{\"判断相符\":\\'2\\',\\'原因\\':\"召回结果部分满足原词条，原词条的范围更广，召回结果只是家常菜的一种\" }',\n",
       " '{\"判断相符\":\\'1\\',\\'原因\\':\"召回结果符合原词条，召回结果比原词条更具体，但核心内容一致\" }',\n",
       " '{\"判断相符\":\\'3\\',\\'原因\\':\"召回结果和原词条完全不相符，原词条是肉类菜品，召回结果是鱼类粥品\" }',\n",
       " '{\"判断相符\":\\'1\\',\\'原因\\':\"召回结果符合原词条，召回结果范围比原词条大，但是可以覆盖原词条\" }',\n",
       " '{\"判断相符\":\\'2\\',\\'原因\\':\"召回结果部分满足原词条，原词条是小青菜，召回结果是西兰花\" }',\n",
       " '{\"判断相符\":\\'1\\',\\'原因\\':\"召回结果符合原词条，召回结果使用了更可爱的名字\\'皮皮蛋\\'，但实质内容与原词条一致\"}',\n",
       " '{\"判断相符\":\\'1\\',\\'原因\\':\"召回结果完全符合原词条\" }',\n",
       " '{\"判断相符\":\\'3\\',\\'原因\\':\"召回结果和原词条完全不相符，原词条是喜青山约末日小草，召回结果是大力水手爱菠菜，两者无关联\" }',\n",
       " '{\"判断相符\":\\'1\\',\\'原因\\':\"召回结果符合原词条，召回结果比原词条多加了红豆，但基本覆盖了原词条的内容\" }',\n",
       " '{\"判断相符\":\\'2\\',\\'原因\\':\"召回结果部分满足原词条，原词条是包菜，召回结果是黄豆芽\" }',\n",
       " '{\"判断相符\":\\'1\\',\\'原因\\':\"召回结果符合原词条，召回结果比原词条大，但是和原词条相符\" }',\n",
       " '{\"判断相符\":\\'2\\',\\'原因\\':\"召回结果部分满足原词条，原词条是红枣花生，召回结果是红糖红枣枸杞，缺少花生但增加了红糖和枸杞\" }',\n",
       " '{\"判断相符\":\\'2\\',\\'原因\\':\"召回结果部分满足原词条，原词条是红豆汤，召回结果是红豆粥，汤和粥的形态不同\" }',\n",
       " '{\"判断相符\":\\'1\\',\\'原因\\':\"召回结果符合原词条，召回结果只是商家起的更可爱的名字，实质内容与原词条一致\" }',\n",
       " '{\"判断相符\":\\'3\\',\\'原因\\':\"召回结果和原词条完全不相符，原词条是香菜豆皮卷，召回结果是小葱虾皮炒玉米饼，两者成分和做法完全不同\" }',\n",
       " '{\"判断相符\":\\'2\\',\\'原因\\':\"召回结果部分满足原词条，原词条是紫菜蛋花汤，召回结果多了番茄\" }',\n",
       " '{\"判断相符\":\\'1\\',\\'原因\\':\"召回结果符合原词条，召回结果比原词条大，增加了香菇，但可以覆盖原词条\" }',\n",
       " '{\"判断相符\":\\'3\\',\\'原因\\':\"召回结果和原词条完全不相符，原词条是白菜烩嫩豆腐，召回结果是炒葱香干豆腐丝\" }',\n",
       " '{\"判断相符\":\\'1\\',\\'原因\\':\"召回结果符合原词条，虽然召回结果有额外的描述\\'小爆炒\\'，但主要内容\\'番茄炒鸡蛋\\'与原词条\\'家常番茄炒蛋\\'相符\" }',\n",
       " '{\"判断相符\":\\'1\\',\\'原因\\':\"召回结果符合原词条，完全一致\" }',\n",
       " '{\"判断相符\":\\'3\\',\\'原因\\':\"召回结果和原词条完全不相符，原词条是日式铁板炒卷心菜，召回结果是黄焖鸡和其他配菜\" }',\n",
       " '{\"判断相符\":\\'3\\',\\'原因\\':\"召回结果和原词条完全不相符，原词条是西封绕蛋，召回结果是福运八宝粥，两者内容完全不同\" }',\n",
       " '{\"判断相符\":\\'3\\',\\'原因\\':\"召回结果和原词条完全不相符，原词条是情菜肉小炒，召回结果是芸豆丝炒肉小份\" }',\n",
       " '{\"判断相符\":\\'1\\',\\'原因\\':\"召回结果符合原词条\" }',\n",
       " '{\"判断相符\":\\'1\\',\\'原因\\':\"召回结果符合原词条，召回结果比原词条多加了小米，但依然符合暖胃和南瓜粥的描述\" }',\n",
       " '{\"判断相符\":\\'3\\',\\'原因\\':\"召回结果和原词条完全不相符，原词条是鲜甜娃娃菜汤，召回结果是西红柿蛋花珍珠汤，两者成分完全不同\" }',\n",
       " '{\"判断相符\":\\'1\\',\\'原因\\':\"召回结果符合原词条，召回结果比原词条大，但是可以覆盖原词条\" }',\n",
       " '{\"判断相符\":\\'1\\',\\'原因\\':\"召回结果符合原词条，召回结果使用了更可爱的名字\\'皮皮蛋\\'，但实质内容与原词条一致\" }',\n",
       " '{\"判断相符\":\\'1\\',\\'原因\\':\"召回结果符合原词条，召回结果比原词条多加了红枣，但基本成分一致\" }',\n",
       " '{\"判断相符\":\\'1\\',\\'原因\\':\"召回结果符合原词条，召回结果比原词条更具体，但本质上是相同的菜品\" }',\n",
       " '{\"判断相符\":\\'2\\',\\'原因\\':\"召回结果部分满足原词条，原词条是赣杯鱼片，召回结果是生滚龙利鱼片粥，虽然都是鱼片，但做法和搭配不同\" }',\n",
       " '{\"判断相符\":\\'1\\',\\'原因\\':\"召回结果符合原词条，召回结果比原词条大，增加了红枣和小米，但是和原词条相符\" }',\n",
       " '{\"判断相符\":\\'1\\',\\'原因\\':\"召回结果符合原词条，完全一致\" }',\n",
       " '{\"判断相符\":\\'3\\',\\'原因\\':\"召回结果和原词条完全不相符，原词条是冬瓜鸡爪粥，召回结果是椰汁红豆百合莲子冰粥，两者在主要成分和风味上完全不同\" }',\n",
       " '{\"判断相符\":\\'1\\',\\'原因\\':\"召回结果符合原词条，召回结果比原词条大，但是和原词条相符\" }',\n",
       " '{\"判断相符\":\\'1\\',\\'原因\\':\"召回结果符合原词条，召回结果比原词条大，但是和原词条相符\" }',\n",
       " '{\"判断相符\":\\'1\\',\\'原因\\':\"召回结果符合原词条，召回结果的范围比原词条大，但是可以覆盖原词条\" }',\n",
       " '{\"判断相符\":\\'1\\',\\'原因\\':\"召回结果符合原词条，召回结果比原词条多加了肉末，但基本覆盖原词条\" }',\n",
       " '{\"判断相符\":\\'1\\',\\'原因\\':\"召回结果符合原词条，召回结果比原词条大，增加了紫米，但整体上与原词条相符\"}',\n",
       " '{\"判断相符\":\\'1\\',\\'原因\\':\"召回结果符合原词条，召回结果比原词条多了红糖，但主要成分一致\" }',\n",
       " '{\"判断相符\":\\'1\\',\\'原因\\':\"召回结果符合原词条，虽然名称有所不同，但内容实质相同，都是老鸭汤和粉丝的组合\" }',\n",
       " '{\"判断相符\":\\'1\\',\\'原因\\':\"召回结果符合原词条，召回结果比原词条大，增加了玉米，但是和原词条相符\" }',\n",
       " '{\"判断相符\":\\'3\\',\\'原因\\':\"召回结果和原词条完全不相符，原词条是山芋肉末热粥，召回结果是椰汁红豆百合莲子冰粥，两者在主要成分和温度上完全不同\" }',\n",
       " '{\"判断相符\":\\'1\\',\\'原因\\':\"召回结果符合原词条，召回结果比原词条多了一个炒的步骤，但基本内容一致\" }',\n",
       " '{\"判断相符\":\\'2\\',\\'原因\\':\"召回结果部分满足原词条，原词条的是菜肉粥，召回结果是瘦肉粥送咸菜，缺少了菜肉粥中的菜肉部分\" }',\n",
       " '{\"判断相符\":\\'3\\',\\'原因\\':\"召回结果和原词条完全不相符，原词条是汤，召回结果是粥\" }',\n",
       " '{\"判断相符\":\\'1\\',\\'原因\\':\"召回结果符合原词条，召回结果比原词条大，包含了原词条的所有元素\" }',\n",
       " '{\"判断相符\":\\'2\\',\\'原因\\':\"召回结果部分满足原词条，原词条是片面，召回结果没有片面\" }',\n",
       " '{\"判断相符\":\\'1\\',\\'原因\\':\"召回结果符合原词条，召回结果比原词条更具体，但覆盖了原词条的内容\" }',\n",
       " '{\"判断相符\":\\'2\\',\\'原因\\':\"召回结果部分满足原词条，原词条的是肉末粥，召回结果是砂锅粥\" }',\n",
       " '{\"判断相符\":\\'1\\',\\'原因\\':\"召回结果符合原词条，召回结果比原词条更具体，但核心内容一致\" }',\n",
       " '{\"判断相符\":\\'1\\',\\'原因\\':\"召回结果符合原词条，召回结果比原词条多了一些内容，但可以覆盖原词条\" }',\n",
       " '{\"判断相符\":\\'1\\',\\'原因\\':\"召回结果符合原词条，召回结果比原词条多了一个\\'鲜炒\\'，但整体相符\" }',\n",
       " '{\"判断相符\":\\'2\\',\\'原因\\':\"召回结果部分满足原词条，原词条是八卦豆腐，召回结果包含了豆腐但增加了砂锅笋衣炖台州等额外信息\" }',\n",
       " '{\"判断相符\":\\'1\\',\\'原因\\':\"召回结果符合原词条，召回结果比原词条大，增加了木耳，但基本元素黄瓜和鸡蛋都包含在内\" }',\n",
       " '{\"判断相符\":\\'2\\',\\'原因\\':\"召回结果部分满足原词条，原词条是酒，召回结果是粥\" }',\n",
       " '{\"判断相符\":\\'2\\',\\'原因\\':\"召回结果部分满足原词条，原词条是黑米杂粮粥，召回结果是红豆小米粥，虽然都是粥但主料不同\" }',\n",
       " '{\"判断相符\":\\'3\\',\\'原因\\':\"召回结果和原词条完全不相符，原词条是学宵打会粥，召回结果是生滚靓白粥，两者无关联\" }',\n",
       " '{\"判断相符\":\\'2\\',\\'原因\\':\"召回结果部分满足原词条，召回结果多了红枣和南瓜，少了红桃\"}',\n",
       " '{\"判断相符\":\\'1\\',\\'原因\\':\"召回结果符合原词条，召回结果只是商家起的更可爱的名字，实质内容与原词条一致\" }',\n",
       " '{\"判断相符\":\\'1\\',\\'原因\\':\"召回结果符合原词条，召回结果比原词条大，增加了木耳，但基本覆盖原词条\" }',\n",
       " '{\"判断相符\":\\'1\\',\\'原因\\':\"召回结果符合原词条，召回结果的范围与原词条相符，只是表述方式略有不同\" }',\n",
       " '{\"判断相符\":\\'2\\',\\'原因\\':\"召回结果部分满足原词条，原词条的是养胃山药粥，召回结果多了排骨\" }',\n",
       " '{\"判断相符\":\\'2\\',\\'原因\\':\"召回结果部分满足原词条，召回结果少了杨梅，但多了红枣和红糖\" }',\n",
       " '{\"判断相符\":\\'3\\',\\'原因\\':\"召回结果和原词条完全不相符，原词条是笋干和丝瓜，召回结果是土豆、黄瓜和蚬肉\" }',\n",
       " '{\"判断相符\":\\'1\\',\\'原因\\':\"召回结果符合原词条，完全一致\" }',\n",
       " '{\"判断相符\":\\'1\\',\\'原因\\':\"召回结果符合原词条，召回结果和原词条完全一致，只是顺序不同\" }',\n",
       " '{\"判断相符\":\\'2\\',\\'原因\\':\"召回结果部分满足原词条，召回结果多了干贝，少了土鸡\" }',\n",
       " '{\"判断相符\":\\'2\\',\\'原因\\':\"召回结果部分满足原词条，原词条的是鸡蛋，召回结果是土豆，\" }',\n",
       " '{\"判断相符\":\\'1\\',\\'原因\\':\"召回结果符合原词条，召回结果范围比原词条大，但可以覆盖原词条\" }',\n",
       " '{\"判断相符\":\\'1\\',\\'原因\\':\"召回结果符合原词条，完全一致\" }',\n",
       " '{\"判断相符\":\\'3\\',\\'原因\\':\"召回结果和原词条完全不相符，原词条是永盛通，召回结果是福运八宝粥\" }',\n",
       " '{\"判断相符\":\\'1\\',\\'原因\\':\"召回结果符合原词条，召回结果比原词条大，但是可以覆盖原词条\" }',\n",
       " '{\"判断相符\":\\'2\\',\\'原因\\':\"召回结果部分满足原词条，召回结果少了杂粮和咸味，增加了银耳和雪梨\" }',\n",
       " '{\"判断相符\":\\'1\\',\\'原因\\':\"召回结果符合原词条，召回结果比原词条更具体，但核心内容相符\" }',\n",
       " '{\"判断相符\":\\'1\\',\\'原因\\':\"召回结果符合原词条，召回结果比原词条更具体，但核心内容一致\" }',\n",
       " '{\"判断相符\":\\'1\\',\\'原因\\':\"召回结果符合原词条，召回结果比原词条更具体，但口味和范围与原词条相符\"}',\n",
       " '{\"判断相符\":\\'1\\',\\'原因\\':\"召回结果符合原词条，召回结果比原词条具体，但可以覆盖原词条\" }',\n",
       " '{\"判断相符\":\\'1\\',\\'原因\\':\"召回结果符合原词条，完全一致\" }',\n",
       " '{\"判断相符\":\\'3\\',\\'原因\\':\"召回结果和原词条完全不相符，原词条是臭肉粥，召回结果是香菇廋肉粥，两者主要成分和风味完全不同\" }',\n",
       " '{\"判断相符\":\\'3\\',\\'原因\\':\"召回结果和原词条完全不相符，原词条和召回结果在内容和概念上没有任何关联\" }',\n",
       " '{\"判断相符\":\\'1\\',\\'原因\\':\"召回结果完全符合原词条\" }',\n",
       " '{\"判断相符\":\\'1\\',\\'原因\\':\"召回结果符合原词条\" }',\n",
       " '{\"判断相符\":\\'1\\',\\'原因\\':\"召回结果符合原词条，召回结果比原词条更具体，但可以覆盖原词条\" }',\n",
       " '{\"判断相符\":\\'1\\',\\'原因\\':\"召回结果符合原词条，召回结果的范围比原词条大一些，但可以覆盖原词条\" }',\n",
       " '{\"判断相符\":\\'2\\',\\'原因\\':\"召回结果部分满足原词条，原词条是清炒小白菜，召回结果多了鹅蛋和小葱\" }',\n",
       " '{\"判断相符\":\\'1\\',\\'原因\\':\"召回结果符合原词条，召回结果的范围比原词条大，但可以覆盖原词条\" }',\n",
       " '{\"判断相符\":\\'2\\',\\'原因\\':\"召回结果部分满足原词条，原词条是牛腩，召回结果是排骨\" }',\n",
       " '{\"判断相符\":\\'1\\',\\'原因\\':\"召回结果符合原词条，召回结果比原词条大，但是和原词条相符，都是补血滋补的粥\" }',\n",
       " '{\"判断相符\":\\'1\\',\\'原因\\':\"召回结果符合原词条，召回结果使用了更可爱的名字\\'皮皮蛋\\'，但实质内容与原词条一致\"}',\n",
       " '{\"判断相符\":\\'1\\',\\'原因\\':\"召回结果符合原词条，召回结果的范围比原词条大，包含了原词条的鸡汤面，且增加了其他配料，但整体符合原词条\" }',\n",
       " '{\"判断相符\":\\'1\\',\\'原因\\':\"召回结果符合原词条，召回结果比原词条多了一个前缀，但本质上是相同的八宝粥\" }',\n",
       " '{\"判断相符\":\\'3\\',\\'原因\\':\"召回结果和原词条完全不相符，原词条是地瓜肘，召回结果是南瓜小碴粥\" }',\n",
       " '{\"判断相符\":\\'3\\',\\'原因\\':\"召回结果和原词条完全不相符，原词条是红烧应子，召回结果是炝炒雪里红\" }',\n",
       " '{\"判断相符\":\\'2\\',\\'原因\\':\"召回结果部分满足原词条，原词条的是婴儿莲子粥，召回结果多了百合和绿豆\" }',\n",
       " '{\"判断相符\":\\'3\\',\\'原因\\':\"召回结果和原词条完全不相符，原词条是肉类菜品，召回结果是鱼类粥品\" }',\n",
       " '{\"判断相符\":\\'1\\',\\'原因\\':\"召回结果符合原词条，召回结果比原词条多加了肉末，但基本覆盖原词条\" }',\n",
       " '{\"判断相符\":\\'1\\',\\'原因\\':\"召回结果符合原词条，召回结果比原词条大，但是和原词条相符\" }',\n",
       " '{\"判断相符\":\\'1\\',\\'原因\\':\"召回结果符合原词条，召回结果比原词条多加了肉末，但基本覆盖原词条\" }',\n",
       " '{\"判断相符\":\\'1\\',\\'原因\\':\"召回结果符合原词条，召回结果只是商家起的更可爱的名字，内容与原词条一致\" }',\n",
       " '{\"判断相符\":\\'2\\',\\'原因\\':\"召回结果部分满足原词条，原词条的是山羊瘦肉粥，召回结果是用山药和青菜替代了山羊，部分成分不符\" }',\n",
       " '{\"判断相符\":\\'2\\',\\'原因\\':\"召回结果部分满足原词条，原词条是青菜牛肉，召回结果多了秋葵和青椒\" }',\n",
       " '{\"判断相符\":\\'1\\',\\'原因\\':\"召回结果符合原词条，召回结果比原词条大，增加了木耳，但可以覆盖原词条\" }',\n",
       " '{\"判断相符\":\\'3\\',\\'原因\\':\"召回结果和原词条完全不相符，原词条是小炒肉，召回结果是粥\" }',\n",
       " '{\"判断相符\":\\'2\\',\\'原因\\':\"召回结果部分满足原词条，原词条是红枣绿豆甜汤，召回结果是红糖红枣红豆粥，虽然都是甜汤类，但主要成分不完全一致\" }',\n",
       " '{\"判断相符\":\\'2\\',\\'原因\\':\"召回结果部分满足原词条，原词条是热汤面，召回结果是挂面鸡蛋汤，缺少了面的热汤部分\" }',\n",
       " '{\"判断相符\":\\'2\\',\\'原因\\':\"召回结果部分满足原词条，原词条是泡饭，召回结果是汤，且召回结果少了鸡汤\" }',\n",
       " '{\"判断相符\":\\'2\\',\\'原因\\':\"召回结果部分满足原词条，原词条是萱虾烩白菜，召回结果是虾滑白菜炖豆腐，缺少了萱虾，增加了豆腐\" }',\n",
       " '{\"判断相符\":\\'3\\',\\'原因\\':\"召回结果和原词条完全不相符，原词条是鲜鱼豆腐煲，召回结果是鲍鱼海参鱼片粥，食材完全不同\" }',\n",
       " '{\"判断相符\":\\'2\\',\\'原因\\':\"召回结果部分满足原词条，原词条的是麻哥，召回结果是芝麻\" }',\n",
       " '{\"判断相符\":\\'3\\',\\'原因\\':\"召回结果和原词条完全不相符，原词条是牙，召回结果是传统大碴粥，两者无任何关联\"}',\n",
       " '{\"判断相符\":\\'1\\',\\'原因\\':\"召回结果符合原词条，虽然召回结果使用了\\'什锦香葱\\'这样的描述，但本质上都是蛋炒饭，可以覆盖原词条\" }',\n",
       " '{\"判断相符\":\\'2\\',\\'原因\\':\"召回结果部分满足原词条，召回结果少了花生和杂粮，但增加了小米、红糖和南瓜\" }',\n",
       " '{\"判断相符\":\\'1\\',\\'原因\\':\"召回结果符合原词条，召回结果比原词条大，但是可以覆盖原词条\" }',\n",
       " '{\"判断相符\":\\'1\\',\\'原因\\':\"召回结果符合原词条，召回结果范围比原词条大，但是可以覆盖原词条\" }',\n",
       " '{\"判断相符\":\\'1\\',\\'原因\\':\"召回结果符合原词条，召回结果比原词条大，但是和原词条相符\" }',\n",
       " '{\"判断相符\":\\'2\\',\\'原因\\':\"召回结果部分满足原词条，原词条是小米粥，召回结果多了糯米\" }',\n",
       " '{\"判断相符\":\\'1\\',\\'原因\\':\"召回结果符合原词条，召回结果使用了更可爱的名字\\'皮皮蛋\\'，但实质内容与原词条一致\"}',\n",
       " '{\"判断相符\":\\'1\\',\\'原因\\':\"召回结果符合原词条，召回结果比原词条大，但是和原词条相符\" }',\n",
       " '{\"判断相符\":\\'2\\',\\'原因\\':\"召回结果部分满足原词条，原词条的是养胃粥，召回结果是补血粥，且召回结果少了栗子\" }',\n",
       " '{\"判断相符\":\\'2\\',\\'原因\\':\"召回结果部分满足原词条，原词条是酸溜大白菜，召回结果是老醋里脊白菜，虽然都包含白菜，但主料和做法有所不同\"}',\n",
       " '{\"判断相符\":\\'2\\',\\'原因\\':\"召回结果部分满足原词条，原词条没有提到大葱，召回结果多了大葱\" }',\n",
       " '{\"判断相符\":\\'1\\',\\'原因\\':\"召回结果符合原词条，虽然顺序不同，但材料完全一致\" }',\n",
       " '{\"判断相符\":\\'3\\',\\'原因\\':\"召回结果和原词条完全不相符，原词条是甘肃小锅菜心，召回结果是正宗沂蒙炒鸡加土豆片\" }',\n",
       " '{\"判断相符\":\\'1\\',\\'原因\\':\"召回结果符合原词条，召回结果比原词条大，增加了干贝，但是和原词条相符\" }',\n",
       " '{\"判断相符\":\\'1\\',\\'原因\\':\"召回结果符合原词条，召回结果比原词条更具体，但内容相符\" }',\n",
       " '{\"判断相符\":\\'1\\',\\'原因\\':\"召回结果符合原词条，召回结果比原词条大，但是和原词条相符\" }',\n",
       " '{\"判断相符\":\\'1\\',\\'原因\\':\"召回结果符合原词条，召回结果比原词条大，但是可以覆盖原词条\" }',\n",
       " '{\"判断相符\":\\'2\\',\\'原因\\':\"召回结果部分满足原词条，召回结果多了番茄，但基本覆盖原词条\" }',\n",
       " '{\"判断相符\":\\'2\\',\\'原因\\':\"召回结果部分满足原词条，原词条的是菜粉丝汤，召回结果多了牛肉和青菜\" }',\n",
       " '{\"判断相符\":\\'3\\',\\'原因\\':\"召回结果和原词条完全不相符\" }',\n",
       " '{\"判断相符\":\\'1\\',\\'原因\\':\"召回结果符合原词条，召回结果范围比原词条大，可以覆盖原词条\" }',\n",
       " '{\"判断相符\":\\'1\\',\\'原因\\':\"召回结果符合原词条，召回结果的范围比原词条大一些，但口味和原词条一致\" }',\n",
       " '{\"判断相符\":\\'1\\',\\'原因\\':\"召回结果符合原词条，召回结果使用了更可爱的名字\\'皮皮蛋\\'，但实质内容与原词条一致\" }',\n",
       " '{\"判断相符\":\\'1\\',\\'原因\\':\"召回结果符合原词条，召回结果比原词条多加了冰糖，但整体相符\" }',\n",
       " '{\"判断相符\":\\'2\\',\\'原因\\':\"召回结果部分满足原词条，原词条的是大干，召回结果是大豆腐\" }',\n",
       " '{\"判断相符\":\\'1\\',\\'原因\\':\"召回结果符合原词条，虽然召回结果中皮蛋的名字略有变化，但实质内容与原词条一致\" }',\n",
       " '{\"判断相符\":\\'1\\',\\'原因\\':\"召回结果符合原词条，召回结果使用了更可爱的名字\\'皮皮蛋\\'，但实质内容与原词条一致\" }',\n",
       " '{\"判断相符\":\\'3\\',\\'原因\\':\"召回结果和原词条完全不相符，原词条是韭菜香干小草，召回结果是虫草花拌菠菜，两者食材完全不同\" }',\n",
       " '{\"判断相符\":\\'1\\',\\'原因\\':\"召回结果符合原词条，完全一致\" }',\n",
       " '{\"判断相符\":\\'3\\',\\'原因\\':\"召回结果和原词条完全不相符\" }',\n",
       " '{\"判断相符\":\\'2\\',\\'原因\\':\"召回结果部分满足原词条，原词条是蒸的瘦肉，召回结果是猪肉粥，烹饪方式和主料有差异\"}',\n",
       " '{\"判断相符\":\\'1\\',\\'原因\\':\"召回结果符合原词条，召回结果的范围可以比原词条的大一些，口味可以不一致，但基本概念相符\" }',\n",
       " '{\"判断相符\":\\'2\\',\\'原因\\':\"召回结果部分满足原词条，原词条是萝卜炖海带汤，召回结果是苦瓜海带炖龙骨，少了萝卜多了苦瓜和龙骨\" }',\n",
       " '{\"判断相符\":\\'2\\',\\'原因\\':\"召回结果部分满足原词条，原词条包含豆角，召回结果没有豆角但有尖椒\" }',\n",
       " '{\"判断相符\":\\'3\\',\\'原因\\':\"召回结果和原词条完全不相符，原词条是麻将拌全能蔬菜，召回结果是胡油韭菜炒鸡蛋半份菜\" }',\n",
       " '{\"判断相符\":\\'2\\',\\'原因\\':\"召回结果部分满足原词条，原词条是小草，召回结果是锡纸娃娃菜\" }',\n",
       " '{\"判断相符\":\\'1\\',\\'原因\\':\"召回结果符合原词条，召回结果比原词条大，但是和原词条相符\" }',\n",
       " '{\"判断相符\":\\'1\\',\\'原因\\':\"召回结果符合原词条\" }',\n",
       " '{\"判断相符\":\\'3\\',\\'原因\\':\"召回结果和原词条完全不相符，原词条是鲜香浇白粉，召回结果是蛋加瘦肉炒粉\" }',\n",
       " '{\"判断相符\":\\'1\\',\\'原因\\':\"召回结果符合原词条，召回结果比原词条大，增加了木耳，但是可以覆盖原词条\" }',\n",
       " '{\"判断相符\":\\'3\\',\\'原因\\':\"召回结果和原词条完全不相符，原词条是鱼头豆腐汤，召回结果是鲍鱼海参鱼片粥\" }',\n",
       " '{\"判断相符\":\\'1\\',\\'原因\\':\"召回结果符合原词条，召回结果比原词条大，增加了红枣，但基本元素南瓜和小米粥都包含在内\" }',\n",
       " '{\"判断相符\":\\'2\\',\\'原因\\':\"召回结果部分满足原词条，召回结果比原词条多了黄瓜和西红柿，但基本符合原词条的紫菜和蛋花汤\" }',\n",
       " '{\"判断相符\":\\'1\\',\\'原因\\':\"召回结果符合原词条，召回结果的范围比原词条大一些，但可以覆盖原词条\" }',\n",
       " '{\"判断相符\":\\'1\\',\\'原因\\':\"召回结果符合原词条，召回结果比原词条大，但是可以覆盖原词条\" }',\n",
       " '{\"判断相符\":\\'2\\',\\'原因\\':\"召回结果部分满足原词条，原词条是面食，召回结果是素面汤，虽然都是面食类，但具体类型不一致\"}',\n",
       " '{\"判断相符\":\\'1\\',\\'原因\\':\"召回结果符合原词条，召回结果比原词条大，但是可以覆盖原词条\" }',\n",
       " '{\"判断相符\":\\'1\\',\\'原因\\':\"召回结果符合原词条，召回结果比原词条更具体，但和原词条相符\" }',\n",
       " '{\"判断相符\":\\'3\\',\\'原因\\':\"召回结果和原词条完全不相符，原词条是番茄滑蛋，召回结果是番茄鸡蛋牛肉粥，成分和形态都不相符\" }',\n",
       " '{\"判断相符\":\\'1\\',\\'原因\\':\"召回结果符合原词条，召回结果比原词条多了一个\\'盖\\'字，但整体意思相符\" }',\n",
       " '{\"判断相符\":\\'1\\',\\'原因\\':\"召回结果符合原词条，召回结果比原词条多了枸杞，但主要成分一致\" }',\n",
       " '{\"判断相符\":\\'3\\',\\'原因\\':\"召回结果和原词条完全不相符，原词条包含辣月粉，召回结果完全没有提到\" }',\n",
       " '{\"判断相符\":\\'3\\',\\'原因\\':\"召回结果和原词条完全不相符，原词条是皮蛋瘦肉粥，召回结果是鲍鱼海参鱼片粥\" }',\n",
       " '{\"判断相符\":\\'2\\',\\'原因\\':\"召回结果部分满足原词条，原词条的是汤面，召回结果是没有面，\" }',\n",
       " '{\"判断相符\":\\'1\\',\\'原因\\':\"召回结果符合原词条，召回结果比原词条更具体，但本质相同\" }',\n",
       " '{\"判断相符\":\\'1\\',\\'原因\\':\"召回结果符合原词条，虽然召回结果的名称更具体，但内容和原词条相符\" }',\n",
       " '{\"判断相符\":\\'2\\',\\'原因\\':\"召回结果部分满足原词条，原词条是萝卜炖大骨汤，召回结果多了玉米和胡萝卜，但基本覆盖了原词条的主要成分\" }',\n",
       " '{\"判断相符\":\\'2\\',\\'原因\\':\"召回结果部分满足原词条，原词条的是肉末，召回结果是鸡肉胡萝卜，虽然都有青菜和粥，但主要配料不完全一致\"}',\n",
       " '{\"判断相符\":\\'2\\',\\'原因\\':\"召回结果部分满足原词条，原词条是青椒炒豆干，召回结果是炒葱香干豆腐丝，豆干和豆腐丝相似，但青椒和葱不同\" }',\n",
       " '{\"判断相符\":\\'1\\',\\'原因\\':\"召回结果符合原词条，召回结果比原词条大，但是和原词条相符\" }',\n",
       " '{\"判断相符\":\\'3\\',\\'原因\\':\"召回结果和原词条完全不相符，原词条是热汤，召回结果是粥\" }',\n",
       " '{\"判断相符\":\\'1\\',\\'原因\\':\"召回结果符合原词条，召回结果范围比原词条大，但可以覆盖原词条，高汤和西红柿是对原词条酸香和番茄的扩展或同义替换\"}',\n",
       " '{\"判断相符\":\\'1\\',\\'原因\\':\"召回结果符合原词条，完全匹配\" }',\n",
       " '{\"判断相符\":\\'3\\',\\'原因\\':\"召回结果和原词条完全不相符，原词条是肉丸，召回结果是粥\" }',\n",
       " '{\"判断相符\":\\'2\\',\\'原因\\':\"召回结果部分满足原词条，原词条是紫松茸，召回结果是黑松露，虽然都是蘑菇类，但种类不同\"}',\n",
       " '{\"判断相符\":\\'1\\',\\'原因\\':\"召回结果符合原词条，召回结果比原词条大，增加了红枣，但是和原词条相符\" }',\n",
       " '{\"判断相符\":\\'1\\',\\'原因\\':\"召回结果符合原词条，完全一致\" }',\n",
       " '{\"判断相符\":\\'1\\',\\'原因\\':\"召回结果符合原词条，召回结果比原词条大，但是可以覆盖原词条\" }',\n",
       " '{\"判断相符\":\\'1\\',\\'原因\\':\"召回结果符合原词条，召回结果比原词条多加了红枣，但依然符合养生粥的范畴\" }',\n",
       " '{\"判断相符\":\\'1\\',\\'原因\\':\"召回结果符合原词条，召回结果使用了更可爱的名字\\'皮皮蛋\\'，但指的是同一种食材\"}',\n",
       " '{\"判断相符\":\\'1\\',\\'原因\\':\"召回结果符合原词条\" }',\n",
       " '{\"判断相符\":\\'1\\',\\'原因\\':\"召回结果符合原词条，召回结果比原词条多了一个\\'花\\'字，但整体意思与原词条一致\" }',\n",
       " '{\"判断相符\":\\'1\\',\\'原因\\':\"召回结果符合原词条，召回结果和原词条描述的是同一种食物，只是表述方式不同\" }',\n",
       " '{\"判断相符\":\\'1\\',\\'原因\\':\"召回结果符合原词条，完全匹配\" }',\n",
       " '{\"判断相符\":\\'1\\',\\'原因\\':\"召回结果符合原词条，召回结果比原词条更具体，但核心内容一致\" }',\n",
       " '{\"判断相符\":\\'1\\',\\'原因\\':\"召回结果符合原词条，召回结果比原词条大，增加了清远鸡，但是和原词条相符\" }',\n",
       " '{\"判断相符\":\\'2\\',\\'原因\\':\"召回结果部分满足原词条，原词条是香滑皮蛋瘦肉粥，召回结果是皮蛋香菇瘦肉粥，多了香菇\" }',\n",
       " '{\"判断相符\":\\'1\\',\\'原因\\':\"召回结果符合原词条，召回结果比原词条大，但是可以覆盖原词条\" }',\n",
       " '{\"判断相符\":\\'1\\',\\'原因\\':\"召回结果完全符合原词条\" }',\n",
       " '{\"判断相符\":\\'1\\',\\'原因\\':\"召回结果符合原词条，召回结果比原词条多加了玉米，但可以覆盖原词条\" }',\n",
       " '{\"判断相符\":\\'3\\',\\'原因\\':\"召回结果和原词条完全不相符，原词条是豆腐包，召回结果是干豆腐炒土豆粉\" }',\n",
       " '{\"判断相符\":\\'3\\',\\'原因\\':\"召回结果和原词条完全不相符，原词条是绿豆帘子，召回结果是绿色小青菜\" }',\n",
       " '{\"判断相符\":\\'2\\',\\'原因\\':\"召回结果部分满足原词条，召回结果多了番茄，但基本覆盖了原词条的内容\" }',\n",
       " '{\"判断相符\":\\'1\\',\\'原因\\':\"召回结果符合原词条，召回结果的范围比原词条大，但可以覆盖原词条\" }',\n",
       " '{\"判断相符\":\\'1\\',\\'原因\\':\"召回结果符合原词条，召回结果比原词条多加了肉末，但基本覆盖原词条\" }',\n",
       " '{\"判断相符\":\\'2\\',\\'原因\\':\"召回结果部分满足原词条，原词条是鸡汤，召回结果是鸭汤\" }',\n",
       " '{\"判断相符\":\\'2\\',\\'原因\\':\"召回结果部分满足原词条，原词条的是肉末豆腐，召回结果是白菜豆腐，缺少了肉末\" }',\n",
       " '{\"判断相符\":\\'3\\',\\'原因\\':\"召回结果和原词条完全不相符，原词条是紫菜和嫩黄瓜，召回结果是小南瓜和牛肉\" }',\n",
       " '{\"判断相符\":\\'1\\',\\'原因\\':\"召回结果符合原词条，召回结果比原词条大，但是和原词条相符\" }',\n",
       " '{\"判断相符\":\\'2\\',\\'原因\\':\"召回结果部分满足原词条，召回结果多了鲜虾，但排骨和芋头与原词条相符\" }',\n",
       " '{\"判断相符\":\\'1\\',\\'原因\\':\"召回结果符合原词条，召回结果只是商家起的更可爱的名字，内容与原词条一致\" }',\n",
       " '{\"判断相符\":\\'2\\',\\'原因\\':\"召回结果部分满足原词条，原词条的是西葫芦小炒，召回结果增加了西红柿\" }',\n",
       " '{\"判断相符\":\\'1\\',\\'原因\\':\"召回结果符合原词条，召回结果和原词条相符，只是甜味来源的描述不同\" }',\n",
       " '{\"判断相符\":\\'1\\',\\'原因\\':\"召回结果符合原词条，召回结果的范围和原词条相符，只是表述方式不同\" }',\n",
       " '{\"判断相符\":\\'1\\',\\'原因\\':\"召回结果符合原词条，召回结果比原词条大，但是和原词条相符\" }',\n",
       " '{\"判断相符\":\\'2\\',\\'原因\\':\"召回结果部分满足原词条，原词条是小米粥，召回结果增加了糯米\" }',\n",
       " '{\"判断相符\":\\'3\\',\\'原因\\':\"召回结果和原词条完全不相符，原词条是皮蛋和香米，召回结果是玉米和排骨\" }',\n",
       " '{\"判断相符\":\\'1\\',\\'原因\\':\"召回结果符合原词条，召回结果中的大枣和红糖可以视为红枣的变体或补充，整体上覆盖了原词条的内容\" }',\n",
       " '{\"判断相符\":\\'2\\',\\'原因\\':\"召回结果部分满足原词条，原词条的是家常紫菜蛋汤，召回结果多了西红柿\" }',\n",
       " '{\"判断相符\":\\'1\\',\\'原因\\':\"召回结果符合原词条，召回结果比原词条大，但是和原词条相符\" }',\n",
       " '{\"判断相符\":\\'1\\',\\'原因\\':\"召回结果符合原词条，召回结果和原词条相符，只是词语顺序不同\" }',\n",
       " '{\"判断相符\":\\'1\\',\\'原因\\':\"召回结果符合原词条，五谷杂粮饭可以覆盖双色杂粮饭的范围\" }',\n",
       " '{\"判断相符\":\\'1\\',\\'原因\\':\"召回结果符合原词条，召回结果比原词条更具体，但内容相符\" }',\n",
       " '{\"判断相符\":\\'1\\',\\'原因\\':\"召回结果符合原词条，召回结果比原词条多加了南瓜，但基本成分一致\" }',\n",
       " '{\"判断相符\":\\'1\\',\\'原因\\':\"召回结果符合原词条，召回结果比原词条大，但是可以覆盖原词条\" }',\n",
       " '{\"判断相符\":\\'1\\',\\'原因\\':\"召回结果符合原词条，召回结果使用了更可爱的名字\\'皮皮蛋\\'，但实质内容与原词条一致\"}',\n",
       " '{\"判断相符\":\\'1\\',\\'原因\\':\"召回结果符合原词条，召回结果比原词条大，但是可以覆盖原词条\" }',\n",
       " '{\"判断相符\":\\'1\\',\\'原因\\':\"召回结果符合原词条，召回结果使用了更可爱的名字\\'皮皮蛋\\'，但实质内容与原词条一致\"}',\n",
       " '{\"判断相符\":\\'1\\',\\'原因\\':\"召回结果符合原词条，召回结果的范围比原词条大一些，但可以覆盖原词条\" }',\n",
       " '{\"判断相符\":\\'2\\',\\'原因\\':\"召回结果部分满足原词条，原词条是三鲜南瓜两米粥，召回结果是红枣小米红糖南瓜粥，缺少了三鲜和两米，增加了红枣和红糖\" }',\n",
       " '{\"判断相符\":\\'1\\',\\'原因\\':\"召回结果符合原词条，完全匹配\" }',\n",
       " '{\"判断相符\":\\'1\\',\\'原因\\':\"召回结果符合原词条，召回结果的范围比原词条大，包含了韭菜炒蛋和韭黄炒蛋，可以覆盖原词条的韭菜鸡蛋小炒\" }',\n",
       " '{\"判断相符\":\\'1\\',\\'原因\\':\"召回结果符合原词条，召回结果比原词条多加了玉米，但小米和南瓜都在召回结果中\" }',\n",
       " '{\"判断相符\":\\'1\\',\\'原因\\':\"召回结果符合原词条，召回结果比原词条大，但是和原词条相符\" }',\n",
       " '{\"判断相符\":\\'1\\',\\'原因\\':\"召回结果符合原词条\" }',\n",
       " '{\"判断相符\":\\'1\\',\\'原因\\':\"召回结果符合原词条，召回结果比原词条大，增加了榨菜，但基本覆盖原词条\" }',\n",
       " '{\"判断相符\":\\'1\\',\\'原因\\':\"召回结果符合原词条，召回结果比原词条更具体，但可以覆盖原词条\" }',\n",
       " '{\"判断相符\":\\'1\\',\\'原因\\':\"召回结果符合原词条，虽然顺序不同，但所有成分都一致\" }',\n",
       " '{\"判断相符\":\\'2\\',\\'原因\\':\"召回结果部分满足原词条，原词条的是端午鸡，召回结果是乌鸡，虽然都是鸡类，但种类不同\" }',\n",
       " '{\"判断相符\":\\'1\\',\\'原因\\':\"召回结果符合原词条，召回结果比原词条多加了肉末，但可以覆盖原词条\" }',\n",
       " '{\"判断相符\":\\'3\\',\\'原因\\':\"召回结果和原词条完全不相符，原词条是腊肠，召回结果是腊八粥\" }',\n",
       " '{\"判断相符\":\\'1\\',\\'原因\\':\"召回结果符合原词条，召回结果和原词条相符，只是表述方式略有不同\" }',\n",
       " '{\"判断相符\":\\'1\\',\\'原因\\':\"召回结果符合原词条，召回结果比原词条具体，但整体相符\" }',\n",
       " '{\"判断相符\":\\'1\\',\\'原因\\':\"召回结果符合原词条，召回结果比原词条大，但是和原词条相符\" }',\n",
       " '{\"判断相符\":\\'1\\',\\'原因\\':\"召回结果符合原词条，召回结果的范围可以比原词条的大一些，口味可以不一致，且\\'爽口什锦小菜\\'可以覆盖\\'清爽小炒素什锦\\'的概念\"}',\n",
       " '{\"判断相符\":\\'3\\',\\'原因\\':\"召回结果和原词条完全不相符，原词条是软面食，召回结果是豆棍小碗菜\" }',\n",
       " '{\"判断相符\":\\'1\\',\\'原因\\':\"召回结果符合原词条，召回结果比原词条大，增加了木耳，但是可以覆盖原词条\" }',\n",
       " '{\"判断相符\":\\'2\\',\\'原因\\':\"召回结果部分满足原词条，原词条是蒜香，召回结果是锅香\" }',\n",
       " '{\"判断相符\":\\'3\\',\\'原因\\':\"召回结果和原词条完全不相符，原词条是白菜豆腐火锅，召回结果是小碗牛肉炖老豆腐\" }',\n",
       " '{\"判断相符\":\\'1\\',\\'原因\\':\"召回结果符合原词条，召回结果比原词条大，但是和原词条相符\" }',\n",
       " '{\"判断相符\":\\'3\\',\\'原因\\':\"召回结果和原词条完全不相符，原词条是关于面食，召回结果是关于粥\" }',\n",
       " '{\"判断相符\":\\'2\\',\\'原因\\':\"召回结果部分满足原词条，原词条是热腐粥，召回结果是瘦肉粥\" }',\n",
       " '{\"判断相符\":\\'1\\',\\'原因\\':\"召回结果符合原词条，虽然召回结果的名字有小酸甜的描述，但基本内容和原词条一致\" }',\n",
       " '{\"判断相符\":\\'1\\',\\'原因\\':\"召回结果符合原词条，召回结果比原词条大，但是可以覆盖原词条\" }',\n",
       " '{\"判断相符\":\\'2\\',\\'原因\\':\"召回结果部分满足原词条，原词条是养胃粥，召回结果是补血粥，虽然都含有红枣，但主要功效不同\" }',\n",
       " '{\"判断相符\":\\'1\\',\\'原因\\':\"召回结果符合原词条，完全一致\" }',\n",
       " '{\"判断相符\":\\'2\\',\\'原因\\':\"召回结果部分满足原词条，原词条是鱼头，召回结果是鱼片，虽然都是鱼相关，但具体部位不同\"}',\n",
       " '{\"判断相符\":\\'3\\',\\'原因\\':\"召回结果和原词条完全不相符，原词条是汤，召回结果是粥\" }',\n",
       " '{\"判断相符\":\\'1\\',\\'原因\\':\"召回结果符合原词条，召回结果比原词条大，但是和原词条相符\" }',\n",
       " '{\"判断相符\":\\'1\\',\\'原因\\':\"召回结果符合原词条，完全一致\" }',\n",
       " '{\"判断相符\":\\'3\\',\\'原因\\':\"召回结果和原词条完全不相符\" }',\n",
       " '{\"判断相符\":\\'3\\',\\'原因\\':\"召回结果和原词条完全不相符，原词条强调的是清淡少盐，而召回结果是鲜香甘甜的小青菜，两者口味和重点完全不同\" }',\n",
       " '{\"判断相符\":\\'3\\',\\'原因\\':\"召回结果和原词条完全不相符，原词条描述的是质地，召回结果是具体的菜品\" }',\n",
       " '{\"判断相符\":\\'2\\',\\'原因\\':\"召回结果部分满足原词条，原词条是汤面，召回结果少了面\"}',\n",
       " '{\"判断相符\":\\'3\\',\\'原因\\':\"召回结果和原词条完全不相符，原词条是南瓜藜麦养胃粥，召回结果是红糖燕麦枸杞红枣粥，两者成分完全不同\" }',\n",
       " '{\"判断相符\":\\'1\\',\\'原因\\':\"召回结果符合原词条，召回结果比原词条多加了肉丝，但基本覆盖了原词条的内容\" }',\n",
       " '{\"判断相符\":\\'1\\',\\'原因\\':\"召回结果符合原词条，召回结果的范围和原词条一致，只是表述方式不同\" }',\n",
       " '{\"判断相符\":\\'1\\',\\'原因\\':\"召回结果符合原词条\" }',\n",
       " '{\"判断相符\":\\'3\\',\\'原因\\':\"召回结果和原词条完全不相符，原词条是炸豆腐包，召回结果是干豆腐炒土豆粉\" }',\n",
       " '{\"判断相符\":\\'1\\',\\'原因\\':\"召回结果符合原词条，完全一致\" }',\n",
       " '{\"判断相符\":\\'2\\',\\'原因\\':\"召回结果部分满足原词条，原词条是清淡小菜，召回结果是素炒洋芋擦擦，虽然都是素菜，但召回结果的范围比原词条小\" }',\n",
       " '{\"判断相符\":\\'1\\',\\'原因\\':\"召回结果符合原词条，召回结果的范围可以比原词条的大一些，口味可以不一致\"}',\n",
       " '{\"判断相符\":\\'1\\',\\'原因\\':\"召回结果符合原词条\" }',\n",
       " '{\"判断相符\":\\'3\\',\\'原因\\':\"召回结果和原词条完全不相符，原词条是青草吹拔龙怪，召回结果是笨鸡蛋碰石头小碗菜，两者无任何关联\" }',\n",
       " '{\"判断相符\":\\'1\\',\\'原因\\':\"召回结果符合原词条，召回结果和原词条相符，只是名称上有些微差异\" }',\n",
       " '{\"判断相符\":\\'2\\',\\'原因\\':\"召回结果部分满足原词条，原词条的是炒饭，召回结果是没有饭，但是有娃娃菜\" }',\n",
       " '{\"判断相符\":\\'1\\',\\'原因\\':\"召回结果符合原词条，召回结果比原词条多加了红糖和枸杞，但基本覆盖了原词条的内容\" }',\n",
       " '{\"判断相符\":\\'1\\',\\'原因\\':\"召回结果符合原词条，虽然顺序不同，但食材和烹饪方法一致\" }',\n",
       " '{\"判断相符\":\\'1\\',\\'原因\\':\"召回结果符合原词条，召回结果的范围比原词条大一些，但可以覆盖原词条\" }',\n",
       " '{\"判断相符\":\\'1\\',\\'原因\\':\"召回结果符合原词条，召回结果比原词条大，但是可以覆盖原词条\" }',\n",
       " '{\"判断相符\":\\'1\\',\\'原因\\':\"召回结果符合原词条，完全一致\" }',\n",
       " '{\"判断相符\":\\'1\\',\\'原因\\':\"召回结果符合原词条，召回结果比原词条大，增加了玉米，但是可以覆盖原词条\" }',\n",
       " '{\"判断相符\":\\'3\\',\\'原因\\':\"召回结果和原词条完全不相符，原词条是胡子踩蛋汤，召回结果是两个鸡蛋砂汤，两者在名称和内容上都没有关联\" }',\n",
       " '{\"判断相符\":\\'1\\',\\'原因\\':\"召回结果符合原词条，召回结果比原词条少了\\'小\\'字，但整体内容相符\" }',\n",
       " '{\"判断相符\":\\'2\\',\\'原因\\':\"召回结果部分满足原词条，原词条是菌骨汤，召回结果是猪肚鸡汤，虽然都是暖胃的汤品，但主要材料不同\" }',\n",
       " '{\"判断相符\":\\'1\\',\\'原因\\':\"召回结果符合原词条，召回结果比原词条多了一个\\'新\\'字，但内容一致\" }',\n",
       " '{\"判断相符\":\\'2\\',\\'原因\\':\"召回结果部分满足原词条，原词条的是番茄面疙瘩，召回结果多了炒蛋\" }',\n",
       " '{\"判断相符\":\\'1\\',\\'原因\\':\"召回结果符合原词条，召回结果比原词条多加了红枣，但基本覆盖原词条\" }',\n",
       " '{\"判断相符\":\\'3\\',\\'原因\\':\"召回结果和原词条完全不相符，原词条是香菇豆腐汤，召回结果是冬菇红豆莲子炖猪肚，两者食材和口味完全不同\" }',\n",
       " '{\"判断相符\":\\'2\\',\\'原因\\':\"召回结果部分满足原词条，原词条是海带土豆片小炒，召回结果是海带丝炖豆腐，缺少土豆片且烹饪方式不同\"}',\n",
       " '{\"判断相符\":\\'1\\',\\'原因\\':\"召回结果符合原词条，召回结果使用了更可爱的名字\\'皮皮蛋\\'，但实质内容与原词条一致\" }',\n",
       " '{\"判断相符\":\\'1\\',\\'原因\\':\"召回结果符合原词条，虽然名称有所不同，但内容实质上是相同的，都是老鸭汤和粉丝的组合\" }',\n",
       " '{\"判断相符\":\\'1\\',\\'原因\\':\"召回结果符合原词条，召回结果和原词条相符，只是名称略有不同\" }',\n",
       " '{\"判断相符\":\\'1\\',\\'原因\\':\"召回结果符合原词条，召回结果与原词条基本一致，只是名称上略有差异\" }',\n",
       " '{\"判断相符\":\\'1\\',\\'原因\\':\"召回结果符合原词条，召回结果比原词条更具体，但依然符合原词条的范围\" }',\n",
       " '{\"判断相符\":\\'1\\',\\'原因\\':\"召回结果符合原词条，召回结果比原词条多加了玉米，但基本覆盖原词条\" }',\n",
       " '{\"判断相符\":\\'3\\',\\'原因\\':\"召回结果和原词条完全不相符，原词条是万香骨肉魔粥，召回结果是皮蛋瘦肉粥\" }',\n",
       " '{\"判断相符\":\\'1\\',\\'原因\\':\"召回结果符合原词条，召回结果的口味可以不一致，但覆盖了原词条的主要内容\" }',\n",
       " '{\"判断相符\":\\'1\\',\\'原因\\':\"召回结果符合原词条，完全匹配\" }',\n",
       " '{\"判断相符\":\\'3\\',\\'原因\\':\"召回结果和原词条完全不相符，糖水和过水大碴粥在成分和制作方法上完全不同\" }',\n",
       " '{\"判断相符\":\\'3\\',\\'原因\\':\"召回结果和原词条完全不相符，原词条是面食，召回结果是炒粉\" }',\n",
       " '{\"判断相符\":\\'2\\',\\'原因\\':\"召回结果部分满足原词条，原词条的是肉末，召回结果是肉丝，且多了豆角\" }',\n",
       " '{\"判断相符\":\\'3\\',\\'原因\\':\"召回结果和原词条完全不相符，原词条是关于农业的，召回结果是关于炖豆腐的\" }',\n",
       " '{\"判断相符\":\\'1\\',\\'原因\\':\"召回结果符合原词条，召回结果和原词条相符，只是表述方式不同\" }',\n",
       " '{\"判断相符\":\\'1\\',\\'原因\\':\"召回结果符合原词条，召回结果与原词条内容一致，只是顺序不同\" }',\n",
       " '{\"判断相符\":\\'1\\',\\'原因\\':\"召回结果符合原词条，召回结果比原词条大，但是和原词条相符\" }',\n",
       " '{\"判断相符\":\\'2\\',\\'原因\\':\"召回结果部分满足原词条，原词条是鲜菇，召回结果是杏鲍菇\" }',\n",
       " '{\"判断相符\":\\'3\\',\\'原因\\':\"召回结果和原词条完全不相符，原词条是小馄饨，召回结果是疙瘩汤\" }',\n",
       " '{\"判断相符\":\\'3\\',\\'原因\\':\"召回结果和原词条完全不相符\" }',\n",
       " '{\"判断相符\":\\'2\\',\\'原因\\':\"召回结果部分满足原词条，原词条是小米粥，召回结果添加了糯米\" }',\n",
       " '{\"判断相符\":\\'1\\',\\'原因\\':\"召回结果符合原词条，召回结果使用了更可爱的名字\\'皮皮蛋\\'，但与原词条\\'皮蛋\\'相符\"}',\n",
       " '{\"判断相符\":\\'1\\',\\'原因\\':\"召回结果符合原词条，召回结果使用了更可爱的名字\\'皮皮蛋\\'，但实质内容与原词条一致\" }',\n",
       " '{\"判断相符\":\\'2\\',\\'原因\\':\"召回结果部分满足原词条，原词条的是鲜汤，召回结果是没有汤，但有娃娃菜\" }',\n",
       " '{\"判断相符\":\\'2\\',\\'原因\\':\"召回结果部分满足原词条，召回结果比原词条多加了西红柿，但基本覆盖原词条\" }',\n",
       " '{\"判断相符\":\\'3\\',\\'原因\\':\"召回结果和原词条完全不相符，原词条是皮蛋瘦肉粥，召回结果是香菇瘦肉粥，缺少皮蛋且增加了香菇\" }',\n",
       " '{\"判断相符\":\\'1\\',\\'原因\\':\"召回结果符合原词条，召回结果比原词条更具体，但可以覆盖原词条\" }',\n",
       " '{\"判断相符\":\\'2\\',\\'原因\\':\"召回结果部分满足原词条，原词条是干锅黄菜，召回结果是黄豆腐干炒青椒，虽然都含有黄菜（黄豆腐干），但做法和配料不完全一致\"}',\n",
       " '{\"判断相符\":\\'3\\',\\'原因\\':\"召回结果和原词条完全不相符，原词条描述的是在阳光下休息的场景，而召回结果是一个炒鸡蛋的菜品\" }',\n",
       " '{\"判断相符\":\\'1\\',\\'原因\\':\"召回结果符合原词条，召回结果与原词条内容一致，只是顺序不同\" }',\n",
       " '{\"判断相符\":\\'1\\',\\'原因\\':\"召回结果符合原词条，召回结果比原词条大，增加了南瓜，但是和原词条相符\" }',\n",
       " '{\"判断相符\":\\'2\\',\\'原因\\':\"召回结果部分满足原词条，召回结果少了糯米和梨，但包含了红枣\"}',\n",
       " '{\"判断相符\":\\'3\\',\\'原因\\':\"召回结果和原词条完全不相符，原词条是小草菜花，召回结果是小油菜\" }',\n",
       " '{\"判断相符\":\\'3\\',\\'原因\\':\"召回结果和原词条完全不相符，原词条是豆腐，召回结果是鱼汤\" }',\n",
       " '{\"判断相符\":\\'1\\',\\'原因\\':\"召回结果符合原词条，召回结果比原词条更具体，但内容相符\" }',\n",
       " '{\"判断相符\":\\'2\\',\\'原因\\':\"召回结果部分满足原词条，原词条包含绿豆，召回结果替换为大枣红糖\" }',\n",
       " '{\"判断相符\":\\'1\\',\\'原因\\':\"召回结果符合原词条，召回结果比原词条大，增加了桂圆，但是和原词条相符\" }',\n",
       " '{\"判断相符\":\\'1\\',\\'原因\\':\"召回结果符合原词条，召回结果的范围可以比原词条的大一些，口味可以不一致，但基本覆盖了原词条的内容\" }',\n",
       " '{\"判断相符\":\\'1\\',\\'原因\\':\"召回结果符合原词条，召回结果比原词条更具体，但基本内容一致\" }',\n",
       " '{\"判断相符\":\\'1\\',\\'原因\\':\"召回结果符合原词条，召回结果比原词条大，增加了冰糖和莲子，但基本覆盖了原词条的内容\" }',\n",
       " '{\"判断相符\":\\'1\\',\\'原因\\':\"召回结果符合原词条，召回结果比原词条大，增加了西红柿，但是可以覆盖原词条\" }',\n",
       " '{\"判断相符\":\\'2\\',\\'原因\\':\"召回结果部分满足原词条，原词条是香煎蛋，召回结果是炒蛋，且增加了韭黄炒蛋\" }',\n",
       " '{\"判断相符\":\\'1\\',\\'原因\\':\"召回结果符合原词条，召回结果比原词条大，但是和原词条相符\" }',\n",
       " '{\"判断相符\":\\'1\\',\\'原因\\':\"召回结果符合原词条，完全一致\" }',\n",
       " '{\"判断相符\":\\'2\\',\\'原因\\':\"召回结果部分满足原词条，原词条的是珍珠米，召回结果是黑米粥，虽然都是米类但种类不同\" }',\n",
       " '{\"判断相符\":\\'1\\',\\'原因\\':\"召回结果符合原词条，召回结果比原词条更具体，但本质上是相同的菜品\" }',\n",
       " '{\"判断相符\":\\'1\\',\\'原因\\':\"召回结果符合原词条，完全匹配\" }',\n",
       " '{\"判断相符\":\\'1\\',\\'原因\\':\"召回结果符合原词条，召回结果比原词条大，增加了玉米，但基本覆盖了原词条的内容\" }',\n",
       " '{\"判断相符\":\\'2\\',\\'原因\\':\"召回结果部分满足原词条，召回结果少了鲜鱼，多了干贝\" }',\n",
       " '{\"判断相符\":\\'2\\',\\'原因\\':\"召回结果部分满足原词条，原词条是热汤面，召回结果是挂面鸡蛋汤，缺少了面的热汤部分\" }',\n",
       " '{\"判断相符\":\\'2\\',\\'原因\\':\"召回结果部分满足原词条，原词条是铁板牛肉，召回结果是炖牛肉，烹饪方式不同\" }',\n",
       " '{\"判断相符\":\\'1\\',\\'原因\\':\"召回结果符合原词条，虽然名称略有不同，但\\'腐皮\\'是\\'腐竹\\'的另一种称呼，且烹饪方法和主要配料一致\" }',\n",
       " '{\"判断相符\":\\'1\\',\\'原因\\':\"召回结果符合原词条\" }',\n",
       " '{\"判断相符\":\\'1\\',\\'原因\\':\"召回结果符合原词条，召回结果只是商家起的更可爱的名字，实质内容与原词条一致\" }',\n",
       " '{\"判断相符\":\\'2\\',\\'原因\\':\"召回结果部分满足原词条，原词条的是杨纬粥，召回结果中没有杨纬，但有黑米和红豆薏米\" }',\n",
       " '{\"判断相符\":\\'3\\',\\'原因\\':\"召回结果和原词条完全不相符，原词条是嫩青菜，召回结果是土豆丝\" }',\n",
       " '{\"判断相符\":\\'1\\',\\'原因\\':\"召回结果符合原词条，召回结果包含了原词条的韭黄鸡蛋小炒，虽然增加了韭菜炒蛋，但整体覆盖了原词条\" }',\n",
       " '{\"判断相符\":\\'1\\',\\'原因\\':\"召回结果符合原词条，召回结果范围比原词条大，但是可以覆盖原词条\" }',\n",
       " '{\"判断相符\":\\'1\\',\\'原因\\':\"召回结果符合原词条，召回结果比原词条多了桂圆，但基本成分莲子和其他八宝成分相符\" }',\n",
       " '{\"判断相符\":\\'1\\',\\'原因\\':\"召回结果符合原词条，召回结果比原词条多加了玉米，但依然符合小米南瓜粥的基本构成\" }',\n",
       " '{\"判断相符\":\\'3\\',\\'原因\\':\"召回结果和原词条完全不相符，原词条是手撕包菜炒肉丝，召回结果是青椒土豆丝炒鸡肉丝，两者主要食材和做法均不同\" }',\n",
       " '{\"判断相符\":\\'2\\',\\'原因\\':\"召回结果部分满足原词条，召回结果比原词条多了番茄，但基本覆盖了原词条的内容\" }',\n",
       " '{\"判断相符\":\\'1\\',\\'原因\\':\"召回结果符合原词条，召回结果比原词条更具体，但本质上是相同的食物\" }',\n",
       " '{\"判断相符\":\\'1\\',\\'原因\\':\"召回结果符合原词条，召回结果和原词条描述的是同一道菜，只是表述方式不同\" }',\n",
       " '{\"判断相符\":\\'1\\',\\'原因\\':\"召回结果符合原词条，召回结果比原词条大，增加了灵芝，但是和原词条相符\" }',\n",
       " '{\"判断相符\":\\'3\\',\\'原因\\':\"召回结果和原词条完全不相符，原词条是肉类菜肴，召回结果是鱼类粥品\" }',\n",
       " '{\"判断相符\":\\'1\\',\\'原因\\':\"召回结果符合原词条，召回结果比原词条大，但是可以覆盖原词条\" }',\n",
       " '{\"判断相符\":\\'1\\',\\'原因\\':\"召回结果符合原词条，召回结果比原词条多加了桂圆，但整体上可以覆盖原词条\" }',\n",
       " '{\"判断相符\":\\'1\\',\\'原因\\':\"召回结果符合原词条，召回结果和原词条相符，只是表述方式不同\" }',\n",
       " '{\"判断相符\":\\'1\\',\\'原因\\':\"召回结果符合原词条，召回结果的范围可以比原词条的大一些，口味可以不一致\" }',\n",
       " '{\"判断相符\":\\'3\\',\\'原因\\':\"召回结果和原词条完全不相符，原词条是雪菜豆腐煲，召回结果是紫菜蛋花豆腐汤，主要成分和风味完全不同\" }',\n",
       " '{\"判断相符\":\\'3\\',\\'原因\\':\"召回结果和原词条完全不相符，原词条是青菜，召回结果是青椒炒卜页\" }',\n",
       " '{\"判断相符\":\\'1\\',\\'原因\\':\"召回结果符合原词条，召回结果使用了更可爱的名字\\'皮皮蛋\\'，但与原词条\\'皮蛋\\'指的是同一种食材\"}',\n",
       " '{\"判断相符\":\\'1\\',\\'原因\\':\"召回结果符合原词条，召回结果比原词条大，但是和原词条相符\" }',\n",
       " '{\"判断相符\":\\'1\\',\\'原因\\':\"召回结果符合原词条，召回结果比原词条大，但是可以覆盖原词条\" }',\n",
       " '{\"判断相符\":\\'1\\',\\'原因\\':\"召回结果符合原词条，召回结果比原词条更具体，但核心内容一致\" }',\n",
       " '{\"判断相符\":\\'3\\',\\'原因\\':\"召回结果和原词条完全不相符，原词条是娃娃菜，召回结果是小油菜\" }',\n",
       " '{\"判断相符\":\\'2\\',\\'原因\\':\"召回结果部分满足原词条，原词条是养胃粥，召回结果是补血粥，虽然都含有红枣，但主要功效和部分材料不同\"}',\n",
       " '{\"判断相符\":\\'3\\',\\'原因\\':\"召回结果和原词条完全不相符，原词条是蛋类食品，召回结果是蔬菜类食品\" }',\n",
       " '{\"判断相符\":\\'1\\',\\'原因\\':\"召回结果符合原词条，召回结果比原词条多了一个小碗的描述，但主要内容一致\" }',\n",
       " '{\"判断相符\":\\'3\\',\\'原因\\':\"召回结果和原词条完全不相符，原词条是麻烧肉汤，召回结果是炖乌鸡汤\" }',\n",
       " '{\"判断相符\":\\'1\\',\\'原因\\':\"召回结果符合原词条，召回结果比原词条多加了枸杞，但基本覆盖了原词条的内容\" }',\n",
       " '{\"判断相符\":\\'3\\',\\'原因\\':\"召回结果和原词条完全不相符，原词条是面条，召回结果是包子\" }',\n",
       " '{\"判断相符\":\\'1\\',\\'原因\\':\"召回结果符合原词条，召回结果比原词条更详细，但核心内容一致\" }',\n",
       " '{\"判断相符\":\\'3\\',\\'原因\\':\"召回结果和原词条完全不相符，原词条是咸芋嫩豆腐汤，召回结果是皮蛋鱼头豆腐汤，两者主要成分和口味完全不同\" }',\n",
       " '{\"判断相符\":\\'1\\',\\'原因\\':\"召回结果符合原词条，召回结果比原词条具体，但可以覆盖原词条\" }',\n",
       " '{\"判断相符\":\\'1\\',\\'原因\\':\"召回结果符合原词条，召回结果范围比原词条大，但是可以覆盖原词条\" }',\n",
       " '{\"判断相符\":\\'2\\',\\'原因\\':\"召回结果部分满足原词条，原词条是芥兰，召回结果是西兰花，虽然都是绿色蔬菜，但种类不同\"}',\n",
       " '{\"判断相符\":\\'3\\',\\'原因\\':\"召回结果和原词条完全不相符，原词条是活鱼，召回结果是鸡蛋炒银鱼养殖\" }',\n",
       " '{\"判断相符\":\\'1\\',\\'原因\\':\"召回结果符合原词条，召回结果使用了更可爱的名字\\'皮皮蛋\\'，但实质内容与原词条一致\"}',\n",
       " '{\"判断相符\":\\'1\\',\\'原因\\':\"召回结果符合原词条，召回结果的范围比原词条大一些，但可以覆盖原词条\" }',\n",
       " '{\"判断相符\":\\'2\\',\\'原因\\':\"召回结果部分满足原词条，召回结果少了山药，且红糖和枸杞与原词条不符\" }',\n",
       " '{\"判断相符\":\\'1\\',\\'原因\\':\"召回结果符合原词条，召回结果使用了更可爱的名字\\'皮皮蛋\\'，但实质内容与原词条相符\"}',\n",
       " '{\"判断相符\":\\'1\\',\\'原因\\':\"召回结果符合原词条，召回结果比原词条更具体，但本质上是相同的食物\" }',\n",
       " '{\"判断相符\":\\'1\\',\\'原因\\':\"召回结果符合原词条，完全一致\" }',\n",
       " '{\"判断相符\":\\'1\\',\\'原因\\':\"召回结果符合原词条，召回结果使用了更可爱的名字\\'皮皮蛋\\'，但实质内容与原词条一致\" }',\n",
       " '{\"判断相符\":\\'2\\',\\'原因\\':\"召回结果部分满足原词条，原词条是海兔和粉，召回结果是海米和豆腐，缺少了海兔和粉\" }',\n",
       " '{\"判断相符\":\\'2\\',\\'原因\\':\"召回结果部分满足原词条，原词条的是酸菜，召回结果是酸辣裙带菜，虽然都是酸味的菜品，但主料不同\"}',\n",
       " '{\"判断相符\":\\'3\\',\\'原因\\':\"召回结果和原词条完全不相符，阳春面和沅江清水面是不同的食物\" }',\n",
       " '{\"判断相符\":\\'2\\',\\'原因\\':\"召回结果部分满足原词条，原词条是鲜虾干贝，召回结果是鲍鱼干贝虾，多了鲍鱼少了鲜虾\" }',\n",
       " '{\"判断相符\":\\'1\\',\\'原因\\':\"召回结果符合原词条，召回结果比原词条大，但是可以覆盖原词条\" }',\n",
       " '{\"判断相符\":\\'1\\',\\'原因\\':\"召回结果符合原词条，召回结果比原词条大，但是和原词条相符\" }',\n",
       " '{\"判断相符\":\\'1\\',\\'原因\\':\"召回结果符合原词条，召回结果只是商家起的更可爱的名字，实质内容与原词条一致\" }',\n",
       " '{\"判断相符\":\\'2\\',\\'原因\\':\"召回结果部分满足原词条，原词条是鸡丝，召回结果是肉碎和蚝仔，虽然都含有干贝，但主要配料不符\"}',\n",
       " '{\"判断相符\":\\'3\\',\\'原因\\':\"召回结果和原词条完全不相符，原词条是肉类菜品，召回结果是鱼类粥品\" }',\n",
       " '{\"判断相符\":\\'3\\',\\'原因\\':\"召回结果和原词条完全不相符，原词条是炖豆腐，召回结果是土豆炖茄子\" }',\n",
       " '{\"判断相符\":\\'2\\',\\'原因\\':\"召回结果部分满足原词条，原词条是猪肉，召回结果是鸡肉\" }',\n",
       " '{\"判断相符\":\\'1\\',\\'原因\\':\"召回结果符合原词条，召回结果比原词条更具体，但口味和内容与原词条相符\" }',\n",
       " '{\"判断相符\":\\'1\\',\\'原因\\':\"召回结果完全符合原词条\" }',\n",
       " '{\"判断相符\":\\'1\\',\\'原因\\':\"召回结果符合原词条，召回结果和原词条相符，只是表述方式不同\" }',\n",
       " '{\"判断相符\":\\'2\\',\\'原因\\':\"召回结果部分满足原词条，原词条是柴火炒鸡蛋，召回结果是小木耳炒土鸡蛋，多了小木耳\" }',\n",
       " '{\"判断相符\":\\'2\\',\\'原因\\':\"召回结果部分满足原词条，召回结果包括了韭菜炒蛋和韭黄炒蛋，但原词条仅指韭菜鸡蛋小炒\" }',\n",
       " '{\"判断相符\":\\'3\\',\\'原因\\':\"召回结果和原词条完全不相符，原词条是双香空运彩，召回结果是笨鸡蛋碰石头小碗菜\" }',\n",
       " '{\"判断相符\":\\'2\\',\\'原因\\':\"召回结果部分满足原词条，原词条是酸辣口味且为圆白菜，召回结果是酸甜口味且为紫包菜\" }',\n",
       " '{\"判断相符\":\\'1\\',\\'原因\\':\"召回结果符合原词条，召回结果与原词条描述的口味和主要成分一致，只是表述略有不同\"}',\n",
       " '{\"判断相符\":\\'1\\',\\'原因\\':\"召回结果符合原词条，召回结果范围比原词条大，但是可以覆盖原词条\" }',\n",
       " '{\"判断相符\":\\'1\\',\\'原因\\':\"召回结果符合原词条，召回结果比原词条更具体，但和原词条相符\" }',\n",
       " '{\"判断相符\":\\'2\\',\\'原因\\':\"召回结果部分满足原词条，原词条是红豆薏仁，召回结果是黑米红枣桂圆，虽然都是粥类但主要材料不同\" }',\n",
       " '{\"判断相符\":\\'3\\',\\'原因\\':\"召回结果和原词条完全不相符，原词条是红豆雪糯米杨胃粥，召回结果是红枣小米红糖南瓜粥，两者成分完全不同\" }',\n",
       " '{\"判断相符\":\\'2\\',\\'原因\\':\"召回结果部分满足原词条，原词条是濑粉，召回结果是豆腐粉，且召回结果多了拆骨肉\" }',\n",
       " '{\"判断相符\":\\'1\\',\\'原因\\':\"召回结果符合原词条，召回结果比原词条详细，但内容一致\" }',\n",
       " '{\"判断相符\":\\'1\\',\\'原因\\':\"召回结果符合原词条，召回结果比原词条多了肉末，但可以覆盖原词条\" }',\n",
       " '{\"判断相符\":\\'1\\',\\'原因\\':\"召回结果符合原词条，召回结果范围比原词条大，但是可以覆盖原词条\" }',\n",
       " '{\"判断相符\":\\'2\\',\\'原因\\':\"召回结果部分满足原词条，原词条是萝卜粉丝汤，召回结果是土豆萝卜丝汤，缺少粉丝但增加了土豆\" }',\n",
       " '{\"判断相符\":\\'3\\',\\'原因\\':\"召回结果和原词条完全不相符，原词条是蓝红豆薏米养眼粥，召回结果是红糖燕麦枸杞红枣粥，两者成分完全不同\" }',\n",
       " '{\"判断相符\":\\'2\\',\\'原因\\':\"召回结果部分满足原词条，原词条是豆腐包，召回结果是干豆腐，且增加了木耳\" }',\n",
       " '{\"判断相符\":\\'1\\',\\'原因\\':\"召回结果符合原词条，召回结果比原词条多加了冰糖，但整体相符\" }',\n",
       " '{\"判断相符\":\\'1\\',\\'原因\\':\"召回结果符合原词条，召回结果比原词条大，增加了木耳，但核心的黄瓜和鸡蛋都在\" }',\n",
       " '{\"判断相符\":\\'2\\',\\'原因\\':\"召回结果部分满足原词条，原词条是嫩娃娃菜汤，召回结果是蛰皮娃娃菜，缺少了汤的部分\" }',\n",
       " '{\"判断相符\":\\'1\\',\\'原因\\':\"召回结果符合原词条，召回结果比原词条大，但是和原词条相符\" }',\n",
       " '{\"判断相符\":\\'2\\',\\'原因\\':\"召回结果部分满足原词条，原词条的是紫菜蛋花汤，召回结果多了番茄\" }',\n",
       " '{\"判断相符\":\\'2\\',\\'原因\\':\"召回结果部分满足原词条，原词条是小白菜，召回结果是西兰花，且烹饪方式不同\"}',\n",
       " '{\"判断相符\":\\'1\\',\\'原因\\':\"召回结果符合原词条，召回结果和原词条描述的是同一种食物，只是表述方式不同\" }',\n",
       " '{\"判断相符\":\\'1\\',\\'原因\\':\"召回结果符合原词条，召回结果比原词条多加了红糖，但整体符合原词条\" }',\n",
       " '{\"判断相符\":\\'2\\',\\'原因\\':\"召回结果部分满足原词条，原词条是小青菜，召回结果是西兰花\" }',\n",
       " '{\"判断相符\":\\'3\\',\\'原因\\':\"召回结果和原词条完全不相符，原词条是山药玉米，召回结果是大枣红糖小米\" }',\n",
       " '{\"判断相符\":\\'2\\',\\'原因\\':\"召回结果部分满足原词条，原词条是炖豆腐，召回结果是炒豆腐皮，且配料从酱菜变成了尖椒\" }',\n",
       " '{\"判断相符\":\\'1\\',\\'原因\\':\"召回结果符合原词条，召回结果比原词条多加了红糖，但基本成分红豆和粥都包含在内\" }',\n",
       " '{\"判断相符\":\\'3\\',\\'原因\\':\"召回结果和原词条完全不相符，原词条是酸汤肥牛，召回结果是清炖金寨土鹅半只\" }',\n",
       " '{\"判断相符\":\\'2\\',\\'原因\\':\"召回结果部分满足原词条，原词条是脆嫩豆芽小炒，召回结果是笨豆芽炒干豆腐，缺少了脆嫩和小炒的描述，但豆芽和炒的部分相符\"}',\n",
       " '{\"判断相符\":\\'2\\',\\'原因\\':\"召回结果部分满足原词条，原词条的是炒草，召回结果是芥兰，虽然都是蔬菜但种类不同\"}',\n",
       " '{\"判断相符\":\\'1\\',\\'原因\\':\"召回结果符合原词条，召回结果比原词条大，但是可以覆盖原词条\" }',\n",
       " '{\"判断相符\":\\'1\\',\\'原因\\':\"召回结果符合原词条，召回结果比原词条更具体，但内容相符\" }',\n",
       " '{\"判断相符\":\\'1\\',\\'原因\\':\"召回结果符合原词条，召回结果比原词条大，包含了菠菜和蛋花，但核心的牛肉粥部分与原词条相符\" }',\n",
       " '{\"判断相符\":\\'2\\',\\'原因\\':\"召回结果部分满足原词条，原词条的是酸香，召回结果是蛰皮\" }',\n",
       " '{\"判断相符\":\\'1\\',\\'原因\\':\"召回结果符合原词条，召回结果比原词条大，增加了玉米，但基本覆盖了原词条的内容\" }',\n",
       " '{\"判断相符\":\\'3\\',\\'原因\\':\"召回结果和原词条完全不相符，原词条是笑话，召回结果是百姓小炒皇\" }',\n",
       " '{\"判断相符\":\\'3\\',\\'原因\\':\"召回结果和原词条完全不相符，原词条是红烧肉，召回结果是日式鸡肉粥\" }',\n",
       " '{\"判断相符\":\\'1\\',\\'原因\\':\"召回结果符合原词条，召回结果的范围可以比原词条的大一些，口味可以不一致，但核心元素南瓜和养胃都包含在内\"}',\n",
       " '{\"判断相符\":\\'2\\',\\'原因\\':\"召回结果部分满足原词条，召回结果少了羊胃，多了党参和枸杞\" }',\n",
       " '{\"判断相符\":\\'1\\',\\'原因\\':\"召回结果符合原词条，召回结果比原词条大，但是和原词条相符\" }',\n",
       " '{\"判断相符\":\\'1\\',\\'原因\\':\"召回结果符合原词条，召回结果只是商家起的更可爱的名字，实质内容一致\" }',\n",
       " '{\"判断相符\":\\'1\\',\\'原因\\':\"召回结果符合原词条，召回结果比原词条大，但是和原词条相符\" }',\n",
       " '{\"判断相符\":\\'2\\',\\'原因\\':\"召回结果部分满足原词条，原词条是皮蛋鱼片粥，召回结果是鲍鱼海参鱼片粥，缺少皮蛋\" }',\n",
       " '{\"判断相符\":\\'1\\',\\'原因\\':\"召回结果完全符合原词条\" }',\n",
       " '{\"判断相符\":\\'2\\',\\'原因\\':\"召回结果部分满足原词条，原词条是青菜炖豆腐汤，召回结果多了大鲫鱼\" }',\n",
       " '{\"判断相符\":\\'1\\',\\'原因\\':\"召回结果符合原词条，召回结果比原词条更具体，沙瓤西红柿是对西红柿的描述，符合原词条的要求\" }',\n",
       " '{\"判断相符\":\\'3\\',\\'原因\\':\"召回结果和原词条完全不相符，原词条是海带豆泡小炖锅，召回结果是下锅烂海蛎子豆腐汤，两者食材和烹饪方式完全不同\" }',\n",
       " '{\"判断相符\":\\'3\\',\\'原因\\':\"召回结果和原词条完全不相符，原词条是凉拌菜，召回结果是黄焖鸡和米饭\" }',\n",
       " '{\"判断相符\":\\'1\\',\\'原因\\':\"召回结果符合原词条，召回结果比原词条大，但是和原词条相符\" }',\n",
       " '{\"判断相符\":\\'1\\',\\'原因\\':\"召回结果符合原词条，召回结果比原词条更具体，但本质上是相同的菜品\" }',\n",
       " '{\"判断相符\":\\'1\\',\\'原因\\':\"召回结果符合原词条，召回结果的范围比原词条大一些，但可以覆盖原词条\" }',\n",
       " '{\"判断相符\":\\'3\\',\\'原因\\':\"召回结果和原词条完全不相符，原词条是多肉粥，召回结果是牛肉波菜粥，两者主要成分不同\" }',\n",
       " '{\"判断相符\":\\'1\\',\\'原因\\':\"召回结果符合原词条，召回结果比原词条更具体，但覆盖了原词条的基本要求\" }',\n",
       " '{\"判断相符\":\\'3\\',\\'原因\\':\"召回结果和原词条完全不相符，原词条是芋头泰谷养生粥，召回结果是黑米红枣桂圆粥，两者成分完全不同\" }',\n",
       " '{\"判断相符\":\\'3\\',\\'原因\\':\"召回结果和原词条完全不相符，原词条是老母鸡炖香菇枸杞汤，召回结果是花旗参红枣桂圆枸杞炖鸽子汤，主要食材和配料完全不同\" }',\n",
       " '{\"判断相符\":\\'2\\',\\'原因\\':\"召回结果部分满足原词条，原词条的是肉末，召回结果是鱼香\" }',\n",
       " '{\"判断相符\":\\'3\\',\\'原因\\':\"召回结果和原词条完全不相符，原词条是玉米粒粒香加嫩青菜粥，召回结果是香米饭\" }',\n",
       " '{\"判断相符\":\\'1\\',\\'原因\\':\"召回结果符合原词条，召回结果比原词条多加了耗油，但基本符合原词条\" }',\n",
       " '{\"判断相符\":\\'2\\',\\'原因\\':\"召回结果部分满足原词条，原词条是莴笋片炒鲜菇，召回结果多了肉片，少了鲜菇\" }',\n",
       " '{\"判断相符\":\\'1\\',\\'原因\\':\"召回结果符合原词条，召回结果比原词条大，但是和原词条相符\" }',\n",
       " '{\"判断相符\":\\'3\\',\\'原因\\':\"召回结果和原词条完全不相符，原词条是菲力牛排，召回结果是鸡排炒蛋沙拉\" }',\n",
       " '{\"判断相符\":\\'2\\',\\'原因\\':\"召回结果部分满足原词条，原词条是炒鲜贝，召回结果是炒虾仁\" }',\n",
       " '{\"判断相符\":\\'3\\',\\'原因\\':\"召回结果和原词条完全不相符，原词条是四季豆，召回结果是土豆丝\" }',\n",
       " '{\"判断相符\":\\'2\\',\\'原因\\':\"召回结果部分满足原词条，原词条的是猪肚汤，召回结果多了骨头和粥\" }',\n",
       " '{\"判断相符\":\\'1\\',\\'原因\\':\"召回结果符合原词条，召回结果比原词条大，但是和原词条相符\" }',\n",
       " '{\"判断相符\":\\'2\\',\\'原因\\':\"召回结果部分满足原词条，原词条是肉末，召回结果是鸡肉，且增加了青菜\" }',\n",
       " '{\"判断相符\":\\'1\\',\\'原因\\':\"召回结果符合原词条，召回结果比原词条多加了红枣，但基本覆盖了原词条的内容\" }',\n",
       " '{\"判断相符\":\\'2\\',\\'原因\\':\"召回结果部分满足原词条，原词条的是南瓜面，召回结果多了焖面的元素\" }',\n",
       " '{\"判断相符\":\\'2\\',\\'原因\\':\"召回结果部分满足原词条，原词条是炖豆腐，召回结果是豆腐皮拌娃娃菜，烹饪方式和部分材料不同\"}',\n",
       " '{\"判断相符\":\\'2\\',\\'原因\\':\"召回结果部分满足原词条，原词条是包菜炒粉丝，召回结果增加了酸包菜和肉丝\" }',\n",
       " '{\"判断相符\":\\'1\\',\\'原因\\':\"召回结果符合原词条，召回结果范围比原词条大，但是可以覆盖原词条\" }',\n",
       " '{\"判断相符\":\\'1\\',\\'原因\\':\"召回结果符合原词条，召回结果和原词条相符，只是词语顺序不同\" }',\n",
       " '{\"判断相符\":\\'1\\',\\'原因\\':\"召回结果符合原词条，召回结果比原词条多加了肉末，但整体符合原词条的范围\" }',\n",
       " '{\"判断相符\":\\'1\\',\\'原因\\':\"召回结果符合原词条，召回结果比原词条大，但是和原词条相符\" }',\n",
       " '{\"判断相符\":\\'2\\',\\'原因\\':\"召回结果部分满足原词条，原词条是炖老鸭汤，召回结果是土鸡汤，虽然都有山药但是主料不同\" }',\n",
       " '{\"判断相符\":\\'1\\',\\'原因\\':\"召回结果符合原词条，召回结果使用了更可爱的名字\\'皮皮蛋\\'，但与原词条\\'皮蛋\\'相符\"}',\n",
       " '{\"判断相符\":\\'1\\',\\'原因\\':\"召回结果符合原词条，召回结果比原词条大，但是和原词条相符\" }',\n",
       " '{\"判断相符\":\\'3\\',\\'原因\\':\"召回结果和原词条完全不相符\" }',\n",
       " '{\"判断相符\":\\'1\\',\\'原因\\':\"召回结果符合原词条，召回结果比原词条大，但是和原词条相符\" }',\n",
       " '{\"判断相符\":\\'1\\',\\'原因\\':\"召回结果符合原词条，召回结果比原词条更具体，但依然覆盖了原词条的内容\" }',\n",
       " '{\"判断相符\":\\'1\\',\\'原因\\':\"召回结果符合原词条，召回结果与原词条基本一致，只是少了\\'热\\'字，但不影响整体相符\" }',\n",
       " '{\"判断相符\":\\'3\\',\\'原因\\':\"召回结果和原词条完全不相符，原词条是粽子，召回结果是粥\" }',\n",
       " '{\"判断相符\":\\'2\\',\\'原因\\':\"召回结果部分满足原词条，原词条是清炒，召回结果是白灼蒜蓉\" }',\n",
       " '{\"判断相符\":\\'2\\',\\'原因\\':\"召回结果部分满足原词条，原词条是萝卜大骨汤，召回结果多了玉米和胡萝卜，但基本元素如龙骨（大骨）和汤相符\" }',\n",
       " '{\"判断相符\":\\'2\\',\\'原因\\':\"召回结果部分满足原词条，召回结果比原词条多了黄瓜和西红柿，但基本符合原词条的紫菜蛋花汤\" }',\n",
       " '{\"判断相符\":\\'1\\',\\'原因\\':\"召回结果符合原词条，召回结果只是商家起的更可爱的名字，实质内容与原词条一致\" }',\n",
       " '{\"判断相符\":\\'1\\',\\'原因\\':\"召回结果符合原词条，召回结果比原词条多了小米和红糖，但整体上可以覆盖原词条\" }',\n",
       " '{\"判断相符\":\\'1\\',\\'原因\\':\"召回结果符合原词条，召回结果和原词条完全一致\" }',\n",
       " '{\"判断相符\":\\'1\\',\\'原因\\':\"召回结果符合原词条，虽然名称不完全一致，但\\'招牌豆腐汤\\'可以理解为\\'轩玉豆腐汤\\'的另一种表述或品牌名称，内容相符\"}',\n",
       " '{\"判断相符\":\\'1\\',\\'原因\\':\"召回结果符合原词条，召回结果比原词条大，但是和原词条相符\" }',\n",
       " '{\"判断相符\":\\'3\\',\\'原因\\':\"召回结果和原词条完全不相符，原词条是酱香红薯叶拌小菜，召回结果是小份小米香芹炒土豆丝\" }',\n",
       " '{\"判断相符\":\\'3\\',\\'原因\\':\"召回结果和原词条完全不相符\" }',\n",
       " '{\"判断相符\":\\'2\\',\\'原因\\':\"召回结果部分满足原词条，召回结果多了木耳，少了嫩豆腐的描述\" }',\n",
       " '{\"判断相符\":\\'1\\',\\'原因\\':\"召回结果符合原词条，召回结果范围比原词条大，但是可以覆盖原词条\" }',\n",
       " '{\"判断相符\":\\'1\\',\\'原因\\':\"召回结果符合原词条，召回结果比原词条多了红枣，但主要成分桂圆和枸杞与原词条一致\" }',\n",
       " '{\"判断相符\":\\'1\\',\\'原因\\':\"召回结果符合原词条，召回结果比原词条多加了红糖，但主体红豆粥保持一致\" }',\n",
       " '{\"判断相符\":\\'1\\',\\'原因\\':\"召回结果符合原词条，召回结果比原词条更具体，但核心成分和概念相符\" }',\n",
       " '{\"判断相符\":\\'1\\',\\'原因\\':\"召回结果符合原词条，召回结果的范围比原词条大一些，但口味和原词条相符\" }',\n",
       " '{\"判断相符\":\\'1\\',\\'原因\\':\"召回结果符合原词条，召回结果比原词条大，但是和原词条相符\" }',\n",
       " '{\"判断相符\":\\'1\\',\\'原因\\':\"召回结果符合原词条，召回结果的范围可以比原词条的大一些，口味可以不一致\" }',\n",
       " '{\"判断相符\":\\'2\\',\\'原因\\':\"召回结果部分满足原词条，原词条是红烧鸡蛋烩，召回结果是虾仁木耳炒鸡蛋，缺少红烧的元素\" }',\n",
       " '{\"判断相符\":\\'3\\',\\'原因\\':\"召回结果和原词条完全不相符，原词条是嫩豌豆煎小炒，召回结果是小份小米香芹炒土豆丝\" }',\n",
       " '{\"判断相符\":\\'1\\',\\'原因\\':\"召回结果符合原词条，召回结果和原词条相符，虾仁是鲜虾的一种处理方式\" }',\n",
       " '{\"判断相符\":\\'1\\',\\'原因\\':\"召回结果符合原词条，召回结果比原词条更具体，但基本内容一致\" }',\n",
       " '{\"判断相符\":\\'3\\',\\'原因\\':\"召回结果和原词条完全不相符，原词条是玉米芥菜炖粉条，召回结果是小白菜香菇炒粉，食材和烹饪方法都不同\" }',\n",
       " '{\"判断相符\":\\'3\\',\\'原因\\':\"召回结果和原词条完全不相符，原词条是清炖素菜粥，召回结果是酸菜脆笋鸡肉粥，食材和口味完全不同\" }',\n",
       " '{\"判断相符\":\\'2\\',\\'原因\\':\"召回结果部分满足原词条，原词条是清炒小白菜，召回结果增加了鹅蛋和小葱\"}',\n",
       " '{\"判断相符\":\\'1\\',\\'原因\\':\"召回结果符合原词条，召回结果只是商家起的更可爱的名字，实质内容与原词条一致\"}',\n",
       " '{\"判断相符\":\\'1\\',\\'原因\\':\"召回结果符合原词条，召回结果比原词条大，但是和原词条相符\" }',\n",
       " '{\"判断相符\":\\'1\\',\\'原因\\':\"召回结果符合原词条，召回结果比原词条大，增加了冰糖和红枣，但是可以覆盖原词条\" }',\n",
       " '{\"判断相符\":\\'2\\',\\'原因\\':\"召回结果部分满足原词条，召回结果少了肉汤，但增加了木耳\" }',\n",
       " '{\"判断相符\":\\'2\\',\\'原因\\':\"召回结果部分满足原词条，原词条是青菜炖豆腐汤，召回结果多了鲫鱼\" }',\n",
       " '{\"判断相符\":\\'1\\',\\'原因\\':\"召回结果符合原词条，召回结果比原词条更具体，但本质上是相符的\" }',\n",
       " '{\"判断相符\":\\'2\\',\\'原因\\':\"召回结果部分满足原词条，原词条是小米粥，召回结果增加了糯米\" }',\n",
       " '{\"判断相符\":\\'1\\',\\'原因\\':\"召回结果符合原词条，虽然顺序不同，但内容和原词条一致\" }',\n",
       " '{\"判断相符\":\\'1\\',\\'原因\\':\"召回结果符合原词条，召回结果比原词条更具体，但覆盖了原词条的内容\" }',\n",
       " '{\"判断相符\":\\'3\\',\\'原因\\':\"召回结果和原词条完全不相符，原词条是鸽子汤，召回结果是山药炒木耳\" }',\n",
       " '{\"判断相符\":\\'3\\',\\'原因\\':\"召回结果和原词条完全不相符，原词条是不辣，召回结果是传统大碴粥，两者无关联\" }',\n",
       " '{\"判断相符\":\\'1\\',\\'原因\\':\"召回结果符合原词条，虽然名称略有不同，但主要内容鲜虾和蛋都包含在内，且都是粥类\" }',\n",
       " '{\"判断相符\":\\'1\\',\\'原因\\':\"召回结果符合原词条，召回结果与原词条完全一致\" }',\n",
       " '{\"判断相符\":\\'1\\',\\'原因\\':\"召回结果符合原词条，召回结果比原词条大，增加了菜心，但是和原词条相符\" }',\n",
       " '{\"判断相符\":\\'1\\',\\'原因\\':\"召回结果符合原词条，召回结果比原词条更具体，但核心内容一致\" }',\n",
       " '{\"判断相符\":\\'1\\',\\'原因\\':\"召回结果符合原词条，虽然名称略有不同，但内容和原词条相符\" }',\n",
       " '{\"判断相符\":\\'2\\',\\'原因\\':\"召回结果部分满足原词条，原词条是山药养胃粥，召回结果是南瓜粥，虽然都有养胃的功能，但主要成分不同\"}',\n",
       " '{\"判断相符\":\\'3\\',\\'原因\\':\"召回结果和原词条完全不相符，原词条是清炒小青菜，召回结果是鹅蛋拌小葱小白菜，食材和做法完全不同\" }',\n",
       " '{\"判断相符\":\\'3\\',\\'原因\\':\"召回结果和原词条完全不相符，原词条是玉米烙，召回结果是玉米粥，且配料也不同\" }',\n",
       " '{\"判断相符\":\\'1\\',\\'原因\\':\"召回结果符合原词条，召回结果比原词条多加了红豆，但主要成分黑米和红枣与原词条相符\" }',\n",
       " '{\"判断相符\":\\'2\\',\\'原因\\':\"召回结果部分满足原词条，原词条是鸭汤粉丝，召回结果是老鸭汤，缺少粉丝\" }',\n",
       " '{\"判断相符\":\\'3\\',\\'原因\\':\"召回结果和原词条完全不相符，原词条是线虾烩白菜，召回结果是咸白菜白玉菇炒肉丝，两者主要食材和做法完全不同\" }',\n",
       " '{\"判断相符\":\\'1\\',\\'原因\\':\"召回结果符合原词条，召回结果比原词条大，但是和原词条相符\" }',\n",
       " '{\"判断相符\":\\'1\\',\\'原因\\':\"召回结果符合原词条，召回结果比原词条大，但是可以覆盖原词条\" }',\n",
       " '{\"判断相符\":\\'1\\',\\'原因\\':\"召回结果符合原词条，完全一致\" }',\n",
       " '{\"判断相符\":\\'1\\',\\'原因\\':\"召回结果符合原词条，召回结果比原词条大，但是和原词条相符\" }',\n",
       " '{\"判断相符\":\\'2\\',\\'原因\\':\"召回结果部分满足原词条，原词条是呛油麦菜，召回结果是蒜仔油麦菜，虽然都是油麦菜，但做法不同\"}',\n",
       " '{\"判断相符\":\\'1\\',\\'原因\\':\"召回结果符合原词条，召回结果和原词条相符，只是表述方式不同\" }',\n",
       " '{\"判断相符\":\\'1\\',\\'原因\\':\"召回结果符合原词条，召回结果比原词条大，但是和原词条相符\" }',\n",
       " '{\"判断相符\":\\'2\\',\\'原因\\':\"召回结果部分满足原词条，召回结果比原词条多了番茄，但基本覆盖了原词条的内容\" }',\n",
       " '{\"判断相符\":\\'2\\',\\'原因\\':\"召回结果部分满足原词条，召回结果比原词条多加了糯米\" }',\n",
       " '{\"判断相符\":\\'1\\',\\'原因\\':\"召回结果符合原词条，召回结果比原词条大，但是和原词条相符\" }',\n",
       " '{\"判断相符\":\\'1\\',\\'原因\\':\"召回结果符合原词条，召回结果比原词条多加了玉米，但主要成分小米和南瓜与原词条相符\" }',\n",
       " '{\"判断相符\":\\'3\\',\\'原因\\':\"召回结果和原词条完全不相符，原词条是炭烤小青菜，召回结果是嫩嫩的小南瓜炒牛肉\" }',\n",
       " '{\"判断相符\":\\'1\\',\\'原因\\':\"召回结果符合原词条，召回结果比原词条大，增加了虾仁，但基本覆盖原词条内容\" }',\n",
       " '{\"判断相符\":\\'3\\',\\'原因\\':\"召回结果和原词条完全不相符，原词条是嫩温，召回结果是炝炒雪里红\" }',\n",
       " '{\"判断相符\":\\'1\\',\\'原因\\':\"召回结果符合原词条，召回结果的范围比原词条大，但可以覆盖原词条\" }',\n",
       " '{\"判断相符\":\\'1\\',\\'原因\\':\"召回结果符合原词条，完全一致\" }',\n",
       " '{\"判断相符\":\\'3\\',\\'原因\\':\"召回结果和原词条完全不相符，原词条是可乐鸡翅，召回结果是香菇鸡丁饭\" }',\n",
       " '{\"判断相符\":\\'1\\',\\'原因\\':\"召回结果符合原词条，召回结果比原词条多了清火的描述，但核心内容一致\" }',\n",
       " '{\"判断相符\":\\'3\\',\\'原因\\':\"召回结果和原词条完全不相符，原词条是生炒草么，召回结果是加香干切碎炒，两者无关联\" }',\n",
       " '{\"判断相符\":\\'1\\',\\'原因\\':\"召回结果符合原词条，召回结果使用了更可爱的名字但内容与原词条一致\" }',\n",
       " '{\"判断相符\":\\'1\\',\\'原因\\':\"召回结果符合原词条，召回结果比原词条多加了红糖，但基本覆盖原词条的内容\" }',\n",
       " '{\"判断相符\":\\'1\\',\\'原因\\':\"召回结果符合原词条，召回结果的范围比原词条大一些，但可以覆盖原词条\" }',\n",
       " '{\"判断相符\":\\'3\\',\\'原因\\':\"召回结果和原词条完全不相符，原词条是老鸭菌骨汤，召回结果是羊肚菌山药排骨汤，主要食材完全不同\" }',\n",
       " '{\"判断相符\":\\'2\\',\\'原因\\':\"召回结果部分满足原词条，召回结果少了莲藕，多了红糖和枸杞\" }',\n",
       " '{\"判断相符\":\\'2\\',\\'原因\\':\"召回结果部分满足原词条，原词条强调的是少糖和养生，召回结果只提到了饱腹和杂粮，缺少对糖分和养生属性的描述\"}',\n",
       " '{\"判断相符\":\\'1\\',\\'原因\\':\"召回结果符合原词条，召回结果比原词条多了一个描述词‘黄金’，但本质上是相同的食物\" }',\n",
       " '{\"判断相符\":\\'2\\',\\'原因\\':\"召回结果部分满足原词条，原词条是清淡小菜，召回结果是素炒洋芋擦擦，虽然都是清淡的，但具体菜品不完全一致\" }',\n",
       " '{\"判断相符\":\\'2\\',\\'原因\\':\"召回结果部分满足原词条，原词条是卤心皮蛋粥，召回结果是皮蛋干贝砂锅粥，少了卤心但多了干贝\" }',\n",
       " '{\"判断相符\":\\'1\\',\\'原因\\':\"召回结果符合原词条，召回结果只是商家起的更可爱的名字，实质内容与原词条一致\" }',\n",
       " '{\"判断相符\":\\'3\\',\\'原因\\':\"召回结果和原词条完全不相符，原词条强调的是温度适宜，而召回结果是关于油豆腐的烹饪时间\" }',\n",
       " '{\"判断相符\":\\'2\\',\\'原因\\':\"召回结果部分满足原词条，召回结果少了山药，且养胃粥和补血粥的口味不一致\"}',\n",
       " '{\"判断相符\":\\'2\\',\\'原因\\':\"召回结果部分满足原词条，原词条是小炒，召回结果是粥，且增加了鸡肉和青菜\" }',\n",
       " '{\"判断相符\":\\'3\\',\\'原因\\':\"召回结果和原词条完全不相符，原词条是味精，召回结果是小米苟杞粥\" }',\n",
       " '{\"判断相符\":\\'2\\',\\'原因\\':\"召回结果部分满足原词条，原词条是山药红枣养胃粥，召回结果是红糖红枣枸杞补血粥，缺少了山药，且目的从养胃变为补血\" }',\n",
       " '{\"判断相符\":\\'3\\',\\'原因\\':\"召回结果和原词条完全不相符，原词条是鸡皮暖性粥，召回结果是姜丝枸杞驱寒粥，两者成分和功效完全不同\" }',\n",
       " '{\"判断相符\":\\'2\\',\\'原因\\':\"召回结果部分满足原词条，原词条的是小油菜，召回结果是没有小油菜\" }',\n",
       " '{\"判断相符\":\\'1\\',\\'原因\\':\"召回结果符合原词条，召回结果比原词条具体，但依然属于汤面的范畴\" }',\n",
       " '{\"判断相符\":\\'1\\',\\'原因\\':\"召回结果符合原词条，召回结果比原词条大，但是可以覆盖原词条\" }',\n",
       " '{\"判断相符\":\\'2\\',\\'原因\\':\"召回结果部分满足原词条，原词条的是拌面，召回结果多了虾仁\" }',\n",
       " '{\"判断相符\":\\'1\\',\\'原因\\':\"召回结果符合原词条，召回结果使用了更可爱的名字\\'皮皮蛋\\'，但实质内容与原词条一致\" }',\n",
       " '{\"判断相符\":\\'1\\',\\'原因\\':\"召回结果符合原词条，召回结果比原词条大，但是和原词条相符\" }',\n",
       " '{\"判断相符\":\\'3\\',\\'原因\\':\"召回结果和原词条完全不相符，原词条是燕尾皮蛋粥，召回结果是八宝豆沙粥\" }',\n",
       " '{\"判断相符\":\\'2\\',\\'原因\\':\"召回结果部分满足原词条，原词条的是清淡菜品，召回结果是清水鱼加白菜，范围比原词条小\" }',\n",
       " '{\"判断相符\":\\'1\\',\\'原因\\':\"召回结果符合原词条，召回结果比原词条大，但是和原词条相符\" }',\n",
       " '{\"判断相符\":\\'2\\',\\'原因\\':\"召回结果部分满足原词条，原词条是菠菜，召回结果是芹菜和木耳\" }',\n",
       " '{\"判断相符\":\\'2\\',\\'原因\\':\"召回结果部分满足原词条，原词条是小米粥，召回结果多了绿豆和百合\" }',\n",
       " '{\"判断相符\":\\'2\\',\\'原因\\':\"召回结果部分满足原词条，原词条的是油菜，召回结果是卷心菜\" }',\n",
       " '{\"判断相符\":\\'2\\',\\'原因\\':\"召回结果部分满足原词条，原词条是小米粥，召回结果多了糯米\" }',\n",
       " '{\"判断相符\":\\'1\\',\\'原因\\':\"召回结果符合原词条，召回结果比原词条大，但是可以覆盖原词条\" }',\n",
       " '{\"判断相符\":\\'2\\',\\'原因\\':\"召回结果部分满足原词条，原词条的是地瓜，召回结果是玉米南瓜\" }',\n",
       " '{\"判断相符\":\\'1\\',\\'原因\\':\"召回结果符合原词条，召回结果和原词条相符，只是少了\\'炖\\'字，但不影响整体意思\" }',\n",
       " '{\"判断相符\":\\'3\\',\\'原因\\':\"召回结果和原词条完全不相符，原词条是家长第三线，召回结果是番茄炒蛋丨天生一对\" }',\n",
       " '{\"判断相符\":\\'1\\',\\'原因\\':\"召回结果符合原词条\" }',\n",
       " '{\"判断相符\":\\'1\\',\\'原因\\':\"召回结果符合原词条，虽然召回结果的名称略有不同，但主要内容和大白菜、豆腐、拆骨肉与原词条的柴骨肉、白菜、豆腐相符，且都是炖菜\" }',\n",
       " '{\"判断相符\":\\'1\\',\\'原因\\':\"召回结果符合原词条，召回结果比原词条大，但是和原词条相符\" }',\n",
       " '{\"判断相符\":\\'1\\',\\'原因\\':\"召回结果符合原词条，召回结果比原词条更具体，但依然属于热粥的范畴\" }',\n",
       " '{\"判断相符\":\\'3\\',\\'原因\\':\"召回结果和原词条完全不相符，原词条是虾米草原白菜，召回结果是虫草花拌菠菜，两者食材完全不同\" }',\n",
       " '{\"判断相符\":\\'1\\',\\'原因\\':\"召回结果符合原词条，召回结果比原词条大，但是和原词条相符\" }',\n",
       " '{\"判断相符\":\\'1\\',\\'原因\\':\"召回结果符合原词条，召回结果比原词条多加了小米，但整体符合原词条的要求\" }',\n",
       " '{\"判断相符\":\\'2\\',\\'原因\\':\"召回结果部分满足原词条，原词条是黑米，召回结果是小米红糖红枣，虽然都是养胃粥但主料不同\" }',\n",
       " '{\"判断相符\":\\'3\\',\\'原因\\':\"召回结果和原词条完全不相符，原词条是岳父娃娃菜炖豆腐，召回结果是巴沙鱼单人餐鱼豆腐丸子娃娃菜金针菇米饭，内容完全不同\" }',\n",
       " '{\"判断相符\":\\'2\\',\\'原因\\':\"召回结果部分满足原词条，原词条是挪威小米粥，召回结果多了燕麦和南瓜\" }',\n",
       " '{\"判断相符\":\\'3\\',\\'原因\\':\"召回结果和原词条完全不相符，原词条是关于天猫精灵的内容，而召回结果是关于食物的\" }',\n",
       " '{\"判断相符\":\\'1\\',\\'原因\\':\"召回结果符合原词条，召回结果比原词条大，但是和原词条相符\" }',\n",
       " '{\"判断相符\":\\'2\\',\\'原因\\':\"召回结果部分满足原词条，召回结果比原词条多了花旗参、枸杞和鸽子，少了花生\" }',\n",
       " '{\"判断相符\":\\'1\\',\\'原因\\':\"召回结果符合原词条，召回结果比原词条多加了红糖，但基本覆盖了原词条的内容\" }',\n",
       " '{\"判断相符\":\\'1\\',\\'原因\\':\"召回结果符合原词条，召回结果与原词条完全一致\" }',\n",
       " '{\"判断相符\":\\'2\\',\\'原因\\':\"召回结果部分满足原词条，原词条的是卤汁面，召回结果是没有卤汁但有菠菜\" }',\n",
       " '{\"判断相符\":\\'2\\',\\'原因\\':\"召回结果部分满足原词条，原词条是莴笋肉丝炒饭，召回结果少了莴笋，多了鸡蛋和青菜\" }',\n",
       " '{\"判断相符\":\\'2\\',\\'原因\\':\"召回结果部分满足原词条，原词条是酸辣粉丝炒包菜，召回结果多了肉丝，少了辣味\" }',\n",
       " '{\"判断相符\":\\'3\\',\\'原因\\':\"召回结果和原词条完全不相符，原词条是热乎的汤，召回结果是油豆腐炖了一个小时，两者内容不相关\" }',\n",
       " '{\"判断相符\":\\'2\\',\\'原因\\':\"召回结果部分满足原词条，原词条包含山芋和面，召回结果中没有这些成分\" }',\n",
       " '{\"判断相符\":\\'1\\',\\'原因\\':\"召回结果符合原词条，召回结果比原词条大，增加了红糖和南瓜，但基本元素红枣和小米粥保持一致\" }',\n",
       " '{\"判断相符\":\\'1\\',\\'原因\\':\"召回结果符合原词条，召回结果比原词条大，但是可以覆盖原词条\" }',\n",
       " '{\"判断相符\":\\'3\\',\\'原因\\':\"召回结果和原词条完全不相符，原词条是糕点，召回结果是番茄炒鸡蛋\" }',\n",
       " '{\"判断相符\":\\'1\\',\\'原因\\':\"召回结果符合原词条，召回结果比原词条大，但是可以覆盖原词条\" }',\n",
       " '{\"判断相符\":\\'1\\',\\'原因\\':\"召回结果符合原词条，召回结果比原词条多加了‘家常’二字，但内容相符\"}',\n",
       " '{\"判断相符\":\\'1\\',\\'原因\\':\"召回结果符合原词条，召回结果比原词条多了一个清炒的做法，但是可以覆盖原词条\" }',\n",
       " '{\"判断相符\":\\'2\\',\\'原因\\':\"召回结果部分满足原词条，原词条的是浇头饭，召回结果是盖饭，且增加了肉末\" }',\n",
       " '{\"判断相符\":\\'2\\',\\'原因\\':\"召回结果部分满足原词条，原词条是砂锅豆腐汤，召回结果多了西兰花和鸡蛋\" }',\n",
       " '{\"判断相符\":\\'1\\',\\'原因\\':\"召回结果符合原词条，召回结果使用了更可爱的名字\\'皮皮蛋\\'，但实质内容与原词条一致\" }',\n",
       " '{\"判断相符\":\\'2\\',\\'原因\\':\"召回结果部分满足原词条，原词条是黑米杂粮，召回结果是小米南瓜，虽然都是养生粥但杂粮种类不同\"}',\n",
       " '{\"判断相符\":\\'2\\',\\'原因\\':\"召回结果部分满足原词条，原词条的是鲜香，召回结果是香菇\" }',\n",
       " '{\"判断相符\":\\'1\\',\\'原因\\':\"召回结果符合原词条，召回结果比原词条大，但是可以覆盖原词条\" }',\n",
       " '{\"判断相符\":\\'3\\',\\'原因\\':\"召回结果和原词条完全不相符，原词条是腰果干香寿司包菜板，召回结果是紫米肉松紫菜包饭，两者在主要成分和风味上完全不同\" }',\n",
       " '{\"判断相符\":\\'2\\',\\'原因\\':\"召回结果部分满足原词条，原词条是酸汤，召回结果是酸辣鸡蛋汤，多了辣和鸡蛋\" }',\n",
       " '{\"判断相符\":\\'1\\',\\'原因\\':\"召回结果符合原词条，召回结果比原词条更具体，但核心内容一致\" }',\n",
       " '{\"判断相符\":\\'2\\',\\'原因\\':\"召回结果部分满足原词条，召回结果多了榨菜\" }',\n",
       " '{\"判断相符\":\\'1\\',\\'原因\\':\"召回结果符合原词条\" }',\n",
       " '{\"判断相符\":\\'1\\',\\'原因\\':\"召回结果符合原词条，召回结果比原词条大，增加了香菇和砂锅的细节，但和原词条相符\"}',\n",
       " '{\"判断相符\":\\'1\\',\\'原因\\':\"召回结果符合原词条，召回结果与原词条描述的食物相同，只是表述方式不同\" }',\n",
       " '{\"判断相符\":\\'2\\',\\'原因\\':\"召回结果部分满足原词条，原词条是青椒鸡蛋，召回结果是鸡蛋木耳炒大葱，缺少青椒，多了木耳和大葱\" }',\n",
       " '{\"判断相符\":\\'2\\',\\'原因\\':\"召回结果部分满足原词条，原词条的是荷叶甜粥，召回结果是桂花雪梨粥，口味和部分材料不一致\" }',\n",
       " '{\"判断相符\":\\'2\\',\\'原因\\':\"召回结果部分满足原词条，原词条的是公斤菜，召回结果是芥兰苗，虽然都是蔬菜类，但不完全相同\" }',\n",
       " '{\"判断相符\":\\'2\\',\\'原因\\':\"召回结果部分满足原词条，原词条包含肉片，召回结果没有肉片但有莲子\" }',\n",
       " '{\"判断相符\":\\'2\\',\\'原因\\':\"召回结果部分满足原词条，原词条是鲜味粥，召回结果是蛋花青菜粥，口味和配料不完全一致\"}',\n",
       " '{\"判断相符\":\\'2\\',\\'原因\\':\"召回结果部分满足原词条，原词条是香菇，召回结果是猴头菇\" }',\n",
       " '{\"判断相符\":\\'1\\',\\'原因\\':\"召回结果符合原词条，召回结果比原词条更具体，但核心内容一致\" }',\n",
       " '{\"判断相符\":\\'1\\',\\'原因\\':\"召回结果符合原词条，召回结果详细描述了原词条的内容\" }',\n",
       " '{\"判断相符\":\\'1\\',\\'原因\\':\"召回结果符合原词条，召回结果比原词条大，但是可以覆盖原词条\" }',\n",
       " '{\"判断相符\":\\'3\\',\\'原因\\':\"召回结果和原词条完全不相符，原词条与召回结果在内容和主题上无任何关联\" }',\n",
       " '{\"判断相符\":\\'1\\',\\'原因\\':\"召回结果符合原词条，召回结果比原词条更具体，但都属于健康杂粮米饭的范畴\" }',\n",
       " '{\"判断相符\":\\'2\\',\\'原因\\':\"召回结果部分满足原词条，原词条的是浇面，召回结果多了菠菜\" }',\n",
       " '{\"判断相符\":\\'3\\',\\'原因\\':\"召回结果和原词条完全不相符，原词条是软面，召回结果是刀削面\" }',\n",
       " '{\"判断相符\":\\'2\\',\\'原因\\':\"召回结果部分满足原词条，原词条是鲜鱼，召回结果是鱼丸，且增加了海带\" }',\n",
       " '{\"判断相符\":\\'2\\',\\'原因\\':\"召回结果部分满足原词条，原词条的是鸡胸肉，召回结果是低脂火腿\" }',\n",
       " '{\"判断相符\":\\'1\\',\\'原因\\':\"召回结果符合原词条，召回结果比原词条大，增加了玉米，但基本覆盖了原词条的内容\" }',\n",
       " '{\"判断相符\":\\'2\\',\\'原因\\':\"召回结果部分满足原词条，召回结果多了榨菜，但基本符合原词条的内容\" }',\n",
       " '{\"判断相符\":\\'3\\',\\'原因\\':\"召回结果和原词条完全不相符，原词条是舞蹈相关的，召回结果是食物\" }',\n",
       " '{\"判断相符\":\\'1\\',\\'原因\\':\"召回结果符合原词条，召回结果与原词条基本一致，只是表述上略有不同\" }',\n",
       " '{\"判断相符\":\\'1\\',\\'原因\\':\"召回结果符合原词条，虽然顺序不同，但包含所有原词条的关键成分\" }',\n",
       " '{\"判断相符\":\\'1\\',\\'原因\\':\"召回结果符合原词条，召回结果和原词条相符，只是甜味的来源描述不同\" }',\n",
       " '{\"判断相符\":\\'1\\',\\'原因\\':\"召回结果符合原词条，召回结果只是商家起的更可爱的名字，实质内容与原词条一致\" }',\n",
       " '{\"判断相符\":\\'1\\',\\'原因\\':\"召回结果符合原词条，召回结果和原词条相符，只是词语顺序不同\" }',\n",
       " '{\"判断相符\":\\'3\\',\\'原因\\':\"召回结果和原词条完全不相符，原词条是土豆豆角炒饭，召回结果是干豆腐炒土豆粉\" }',\n",
       " '{\"判断相符\":\\'1\\',\\'原因\\':\"召回结果符合原词条，召回结果比原词条多了一个\\'鲜炒\\'的烹饪方式描述，但主要内容一致\" }',\n",
       " '{\"判断相符\":\\'3\\',\\'原因\\':\"召回结果和原词条完全不相符，原词条是枸杞炖卤鸽，召回结果是淮山杞子炖竹丝鸡，两者主料完全不同\" }',\n",
       " '{\"判断相符\":\\'1\\',\\'原因\\':\"召回结果符合原词条\" }',\n",
       " '{\"判断相符\":\\'1\\',\\'原因\\':\"召回结果完全符合原词条\" }',\n",
       " '{\"判断相符\":\\'1\\',\\'原因\\':\"召回结果符合原词条，召回结果比原词条更具体，但本质上是相同的食物\" }',\n",
       " '{\"判断相符\":\\'2\\',\\'原因\\':\"召回结果部分满足原词条，原词条是新家干贝玉米粥，召回结果是双人干贝鲜虾砂锅粥，多了鲜虾少了玉米\" }',\n",
       " '{\"判断相符\":\\'1\\',\\'原因\\':\"召回结果符合原词条，召回结果比原词条多加了红枣，但基本成分一致\" }',\n",
       " '{\"判断相符\":\\'2\\',\\'原因\\':\"召回结果部分满足原词条，召回结果比原词条多加了糯米\" }',\n",
       " '{\"判断相符\":\\'1\\',\\'原因\\':\"召回结果符合原词条，召回结果的蒜茸和原词条的蒜香是同一食材的不同表述方式，且都是炒油麦菜\" }',\n",
       " '{\"判断相符\":\\'3\\',\\'原因\\':\"召回结果和原词条完全不相符，原词条是深海鱼豆腐汤，召回结果是海带豆腐味噌汤，两者主要成分不同\" }',\n",
       " '{\"判断相符\":\\'1\\',\\'原因\\':\"召回结果符合原词条，召回结果使用了更可爱的名字\\'皮皮蛋\\'，但实质内容与原词条一致\"}',\n",
       " '{\"判断相符\":\\'1\\',\\'原因\\':\"召回结果符合原词条，召回结果的范围和原词条相符，都是鸡汤面\" }',\n",
       " '{\"判断相符\":\\'3\\',\\'原因\\':\"召回结果和原词条完全不相符，原词条是蒜香油菜，召回结果是蒜黄香干炒肉丝，两者主要食材和做法完全不同\" }',\n",
       " '{\"判断相符\":\\'1\\',\\'原因\\':\"召回结果符合原词条，虽然召回结果比原词条详细，但可以覆盖原词条的内容\" }',\n",
       " '{\"判断相符\":\\'3\\',\\'原因\\':\"召回结果和原词条完全不相符，原词条是姜汤，召回结果是牛肉当归粥，两者在主要成分和风味上完全不同\" }',\n",
       " '{\"判断相符\":\\'1\\',\\'原因\\':\"召回结果符合原词条，召回结果的范围比原词条大一些，但可以覆盖原词条\" }',\n",
       " '{\"判断相符\":\\'1\\',\\'原因\\':\"召回结果符合原词条，召回结果比原词条大，但是和原词条相符\" }',\n",
       " '{\"判断相符\":\\'2\\',\\'原因\\':\"召回结果部分满足原词条，原词条是家常粉丝炒包菜，召回结果多了酸和肉丝\" }',\n",
       " '{\"判断相符\":\\'1\\',\\'原因\\':\"召回结果符合原词条，召回结果比原词条更具体，但本质上是相同的\" }',\n",
       " '{\"判断相符\":\\'1\\',\\'原因\\':\"召回结果符合原词条，召回结果比原词条大，但是可以覆盖原词条\" }',\n",
       " '{\"判断相符\":\\'1\\',\\'原因\\':\"召回结果符合原词条，召回结果比原词条更具体，增加了胡萝卜，但整体相符\"}',\n",
       " '{\"判断相符\":\\'1\\',\\'原因\\':\"召回结果符合原词条，召回结果范围比原词条大，但是可以覆盖原词条\" }',\n",
       " '{\"判断相符\":\\'2\\',\\'原因\\':\"召回结果部分满足原词条，原词条是炒肉，召回结果是炖豆腐，且增加了五花肉和豆腐\" }',\n",
       " '{\"判断相符\":\\'1\\',\\'原因\\':\"召回结果符合原词条，召回结果使用了更可爱的名字\\'皮皮蛋\\'，但实质内容与原词条一致\" }',\n",
       " '{\"判断相符\":\\'3\\',\\'原因\\':\"召回结果和原词条完全不相符，原词条指的是蛋宝，召回结果是八宝粥\" }',\n",
       " '{\"判断相符\":\\'2\\',\\'原因\\':\"召回结果部分满足原词条，原词条是暖心包，召回结果是炖菜，缺少了包的形式\" }',\n",
       " '{\"判断相符\":\\'1\\',\\'原因\\':\"召回结果符合原词条，召回结果比原词条大，增加了红枣，但基本覆盖原词条\" }',\n",
       " '{\"判断相符\":\\'1\\',\\'原因\\':\"召回结果符合原词条，召回结果比原词条大，但是和原词条相符\" }',\n",
       " '{\"判断相符\":\\'1\\',\\'原因\\':\"召回结果符合原词条，召回结果比原词条大，但是和原词条相符\" }',\n",
       " '{\"判断相符\":\\'1\\',\\'原因\\':\"召回结果符合原词条，召回结果使用了更可爱的名字\\'皮皮蛋\\'，但实质内容与原词条一致\"}',\n",
       " '{\"判断相符\":\\'1\\',\\'原因\\':\"召回结果符合原词条，召回结果比原词条大，但是和原词条相符\" }',\n",
       " '{\"判断相符\":\\'1\\',\\'原因\\':\"召回结果符合原词条，召回结果使用了更可爱的名字\\'皮皮蛋\\'，但实质内容与原词条一致\" }',\n",
       " '{\"判断相符\":\\'1\\',\\'原因\\':\"召回结果符合原词条，虽然顺序不同但食材和烹饪方法一致\" }',\n",
       " '{\"判断相符\":\\'2\\',\\'原因\\':\"召回结果部分满足原词条，原词条包含银耳，召回结果没有银耳，但都包含红枣和枸杞\" }',\n",
       " '{\"判断相符\":\\'2\\',\\'原因\\':\"召回结果部分满足原词条，原词条是雪菜肉丝，召回结果是小白菜和粉条，缺少雪菜\" }',\n",
       " '{\"判断相符\":\\'2\\',\\'原因\\':\"召回结果部分满足原词条，原词条包含小米油菜和香锅，召回结果只有洋白菜和酱爆，缺少小米油菜和香锅元素\"}',\n",
       " '{\"判断相符\":\\'3\\',\\'原因\\':\"召回结果和原词条完全不相符\" }',\n",
       " '{\"判断相符\":\\'2\\',\\'原因\\':\"召回结果部分满足原词条，原词条的范围更广，召回结果只是家常菜中的一种\" }',\n",
       " '{\"判断相符\":\\'1\\',\\'原因\\':\"召回结果符合原词条，召回结果比原词条大，但是和原词条相符\" }',\n",
       " '{\"判断相符\":\\'1\\',\\'原因\\':\"召回结果符合原词条，召回结果和原词条描述的是同一道菜，只是名称略有不同\" }',\n",
       " '{\"判断相符\":\\'2\\',\\'原因\\':\"召回结果部分满足原词条，原词条的是橄榄，召回结果是卷心菜\" }',\n",
       " '{\"判断相符\":\\'1\\',\\'原因\\':\"召回结果符合原词条，虽然顺序不同，但所有关键成分都一致\" }',\n",
       " '{\"判断相符\":\\'2\\',\\'原因\\':\"召回结果部分满足原词条，原词条的是粉条，召回结果是豆腐粉丝汤，虽然都含有粉丝，但多了豆腐\" }',\n",
       " '{\"判断相符\":\\'3\\',\\'原因\\':\"召回结果和原词条完全不相符，原词条是轩鱼南热粥，召回结果是广式荔湾艇仔粥，两者在主要成分和风味上没有关联\" }',\n",
       " '{\"判断相符\":\\'1\\',\\'原因\\':\"召回结果符合原词条，召回结果比原词条多加了红豆，但主要成分黑米和花生与原词条相符\" }',\n",
       " '{\"判断相符\":\\'3\\',\\'原因\\':\"召回结果和原词条完全不相符，原词条是奶白菜豆腐包，召回结果是干豆腐炒土豆粉\" }',\n",
       " '{\"判断相符\":\\'3\\',\\'原因\\':\"召回结果和原词条完全不相符，原词条是寿司宝钗，召回结果是苹果紫菜饭，两者无关联\" }',\n",
       " '{\"判断相符\":\\'1\\',\\'原因\\':\"召回结果符合原词条，召回结果范围比原词条大，但是可以覆盖原词条\" }',\n",
       " '{\"判断相符\":\\'2\\',\\'原因\\':\"召回结果部分满足原词条，原词条是虎皮蛋，召回结果是皮蛋，虽然都是蛋类，但具体种类不同\" }',\n",
       " '{\"判断相符\":\\'1\\',\\'原因\\':\"召回结果符合原词条，召回结果比原词条多了\\'小份农家\\'的描述，但核心内容\\'手撕包菜\\'与原词条一致\" }',\n",
       " '{\"判断相符\":\\'2\\',\\'原因\\':\"召回结果部分满足原词条，原词条是羊肉，召回结果是排骨，且增加了羊肚菌\" }',\n",
       " '{\"判断相符\":\\'1\\',\\'原因\\':\"召回结果符合原词条，召回结果比原词条更具体，但核心内容一致\" }',\n",
       " '{\"判断相符\":\\'1\\',\\'原因\\':\"召回结果符合原词条，召回结果比原词条大，但是和原词条相符\" }',\n",
       " '{\"判断相符\":\\'1\\',\\'原因\\':\"召回结果符合原词条，召回结果比原词条大，但可以覆盖原词条\" }',\n",
       " '{\"判断相符\":\\'1\\',\\'原因\\':\"召回结果符合原词条，召回结果比原词条大，但是和原词条相符\" }',\n",
       " ...]"
      ]
     },
     "execution_count": 45,
     "metadata": {},
     "output_type": "execute_result"
    }
   ],
   "source": [
    "responses"
   ]
  },
  {
   "cell_type": "code",
   "execution_count": 46,
   "id": "76c8bb29",
   "metadata": {},
   "outputs": [],
   "source": [
    "with open ('result.txt','w',encoding='utf-8') as f:\n",
    "    for line in responses:\n",
    "        f.write(line+'\\n')"
   ]
  },
  {
   "cell_type": "code",
   "execution_count": 1,
   "id": "1721275c",
   "metadata": {},
   "outputs": [],
   "source": [
    "with open(r'D:\\code\\competiton\\饿了么智慧点餐\\RAG的模型测试\\bert\\result.txt','r',encoding= 'utf-8') as f:\n",
    "    data = []\n",
    "    for line in f:\n",
    "        data.append(line.strip())\n",
    "        "
   ]
  },
  {
   "cell_type": "code",
   "execution_count": 2,
   "id": "4886dd8a",
   "metadata": {},
   "outputs": [
    {
     "data": {
      "text/plain": [
       "['{\"判断相符\":\\'1\\',\\'原因\\':\"召回结果符合原词条，召回结果比原词条多加了肉末，但基本覆盖原词条\" }',\n",
       " '{\"判断相符\":\\'1\\',\\'原因\\':\"召回结果符合原词条，召回结果范围比原词条大，但是可以覆盖原词条\" }',\n",
       " '{\"判断相符\":\\'2\\',\\'原因\\':\"召回结果部分满足原词条，原词条是香辣，召回结果是蒜蓉，口味不一致\" }',\n",
       " '{\"判断相符\":\\'2\\',\\'原因\\':\"召回结果部分满足原词条，原词条的是拌面，召回结果是没有面，\" }',\n",
       " '{\"判断相符\":\\'1\\',\\'原因\\':\"召回结果符合原词条，召回结果比原词条多加了红糖，但基本成分一致\" }',\n",
       " '{\"判断相符\":\\'1\\',\\'原因\\':\"召回结果符合原词条，召回结果比原词条大，但是和原词条相符\" }',\n",
       " '{\"判断相符\":\\'1\\',\\'原因\\':\"召回结果符合原词条，召回结果使用了更可爱的名字\\'皮皮蛋\\'，但实质内容与原词条一致\" }',\n",
       " '{\"判断相符\":\\'1\\',\\'原因\\':\"召回结果符合原词条，召回结果范围比原词条大，增加了黄瓜片，但可以覆盖原词条\" }',\n",
       " '{\"判断相符\":\\'1\\',\\'原因\\':\"召回结果符合原词条，召回结果和原词条相符，只是表述方式不同\" }',\n",
       " '{\"判断相符\":\\'1\\',\\'原因\\':\"召回结果符合原词条，召回结果与原词条描述一致，只是表述方式略有不同\"}',\n",
       " '{\"判断相符\":\\'2\\',\\'原因\\':\"召回结果部分满足原词条，原词条是酸辣白菜，召回结果是老醋里脊白菜，口味和主料部分相符但增加了里脊\" }',\n",
       " '{\"判断相符\":\\'1\\',\\'原因\\':\"召回结果符合原词条，召回结果比原词条大，但是和原词条相符\" }',\n",
       " '{\"判断相符\":\\'1\\',\\'原因\\':\"召回结果符合原词条，召回结果使用了更可爱的名字\\'皮皮蛋\\'，但实质内容与原词条一致\"}',\n",
       " '{\"判断相符\":\\'1\\',\\'原因\\':\"召回结果符合原词条，召回结果只是商家起的更可爱的名字，内容与原词条一致\" }',\n",
       " '{\"判断相符\":\\'2\\',\\'原因\\':\"召回结果部分满足原词条，召回结果多了糯米\" }',\n",
       " '{\"判断相符\":\\'1\\',\\'原因\\':\"召回结果符合原词条，召回结果比原词条大，但是和原词条相符\" }',\n",
       " '{\"判断相符\":\\'2\\',\\'原因\\':\"召回结果部分满足原词条，原词条是香菜，召回结果是葱\" }',\n",
       " '{\"判断相符\":\\'3\\',\\'原因\\':\"召回结果和原词条完全不相符，原词条是小白菜炒千张丝，召回结果是小份小米香芹炒土豆丝，两者食材完全不同\" }',\n",
       " '{\"判断相符\":\\'2\\',\\'原因\\':\"召回结果部分满足原词条，召回结果的范围比原词条小，缺少\\'来往县\\'这一地域特色描述\" }',\n",
       " '{\"判断相符\":\\'2\\',\\'原因\\':\"召回结果部分满足原词条，原词条是四季豆炒橄榄菜，召回结果是四季豆炒外婆菜和肉末，缺少橄榄菜\" }',\n",
       " '{\"判断相符\":\\'1\\',\\'原因\\':\"召回结果符合原词条，召回结果比原词条大，但是可以覆盖原词条\" }',\n",
       " '{\"判断相符\":\\'1\\',\\'原因\\':\"召回结果符合原词条，召回结果比原词条大，但是和原词条相符\" }',\n",
       " '{\"判断相符\":\\'2\\',\\'原因\\':\"召回结果部分满足原词条，原词条的是鲜格力，召回结果是西红柿\" }',\n",
       " '{\"判断相符\":\\'1\\',\\'原因\\':\"召回结果符合原词条，圆白菜是包菜的另一种称呼，召回结果与原词条相符\" }',\n",
       " '{\"判断相符\":\\'1\\',\\'原因\\':\"召回结果符合原词条，召回结果比原词条大，但是和原词条相符\" }',\n",
       " '{\"判断相符\":\\'1\\',\\'原因\\':\"召回结果符合原词条，召回结果的范围比原词条大，可以覆盖原词条\" }',\n",
       " '{\"判断相符\":\\'1\\',\\'原因\\':\"召回结果符合原词条，召回结果比原词条多了红糖，但主要成分一致\" }',\n",
       " '{\"判断相符\":\\'1\\',\\'原因\\':\"召回结果符合原词条，召回结果的范围比原词条大，可以覆盖原词条\" }',\n",
       " '{\"判断相符\":\\'3\\',\\'原因\\':\"召回结果和原词条完全不相符，原词条是酸苗炒肉丝，召回结果是白椒罗卜丝炒牛肉丝\" }',\n",
       " '{\"判断相符\":\\'1\\',\\'原因\\':\"召回结果符合原词条，召回结果比原词条大，增加了玉米，但基本覆盖了原词条的内容\" }',\n",
       " '{\"判断相符\":\\'1\\',\\'原因\\':\"召回结果符合原词条，召回结果比原词条大，但是和原词条相符\" }',\n",
       " '{\"判断相符\":\\'1\\',\\'原因\\':\"召回结果符合原词条，召回结果比原词条多加了蒜泥，但主体仍是空心菜\" }',\n",
       " '{\"判断相符\":\\'2\\',\\'原因\\':\"召回结果部分满足原词条，召回结果多了冬瓜，少了小青菜\" }',\n",
       " '{\"判断相符\":\\'1\\',\\'原因\\':\"召回结果符合原词条，召回结果比原词条多加了小米，但依然符合养胃玉米粥的主题\" }',\n",
       " '{\"判断相符\":\\'1\\',\\'原因\\':\"召回结果符合原词条，召回结果的小米粥是粥的一种，且\\'暖暖的\\'与\\'热乎的\\'意义相近\" }',\n",
       " '{\"判断相符\":\\'1\\',\\'原因\\':\"召回结果符合原词条，召回结果和原词条相符，只是表述方式不同\" }',\n",
       " '{\"判断相符\":\\'1\\',\\'原因\\':\"召回结果符合原词条，召回结果比原词条多加了红糖，但基本成分和原词条相符\" }',\n",
       " '{\"判断相符\":\\'2\\',\\'原因\\':\"召回结果部分满足原词条，原词条的是炒泡菜，召回结果是炒香菇\" }',\n",
       " '{\"判断相符\":\\'1\\',\\'原因\\':\"召回结果符合原词条，召回结果比原词条大，但是和原词条相符\" }',\n",
       " '{\"判断相符\":\\'2\\',\\'原因\\':\"召回结果部分满足原词条，原词条是红豆薏米，召回结果是小米红糖红枣，虽然都是养胃粥但材料不同\" }',\n",
       " '{\"判断相符\":\\'1\\',\\'原因\\':\"召回结果符合原词条，召回结果只是商家起的更可爱的名字，实质内容与原词条一致\" }',\n",
       " '{\"判断相符\":\\'2\\',\\'原因\\':\"召回结果部分满足原词条，召回结果比原词条多加了百叶\" }',\n",
       " '{\"判断相符\":\\'1\\',\\'原因\\':\"召回结果符合原词条，召回结果比原词条大，增加了南瓜，但依然符合养生和小米粥的概念\"}',\n",
       " '{\"判断相符\":\\'3\\',\\'原因\\':\"召回结果和原词条完全不相符，原词条是酸黄瓜丝小草，召回结果是黑木耳山药炒黄瓜片，两者内容完全不同\" }',\n",
       " '{\"判断相符\":\\'1\\',\\'原因\\':\"召回结果符合原词条，召回结果范围比原词条大，但是可以覆盖原词条\" }',\n",
       " '{\"判断相符\":\\'1\\',\\'原因\\':\"召回结果符合原词条，召回结果比原词条大，但是可以覆盖原词条\" }',\n",
       " '{\"判断相符\":\\'3\\',\\'原因\\':\"召回结果和原词条完全不相符，原词条是关于煮软的，而召回结果是关于炒的\" }',\n",
       " '{\"判断相符\":\\'3\\',\\'原因\\':\"召回结果和原词条完全不相符，原词条指的是蔬菜类，而召回结果是菌类炖汤\" }',\n",
       " '{\"判断相符\":\\'1\\',\\'原因\\':\"召回结果符合原词条\" }',\n",
       " '{\"判断相符\":\\'1\\',\\'原因\\':\"召回结果符合原词条，召回结果比原词条更具体，但基本内容相符\" }',\n",
       " '{\"判断相符\":\\'1\\',\\'原因\\':\"召回结果符合原词条，召回结果只是商家起的更可爱的名字，实质内容与原词条一致\" }',\n",
       " '{\"判断相符\":\\'2\\',\\'原因\\':\"召回结果部分满足原词条，召回结果多了番茄，但基本覆盖了原词条的内容\" }',\n",
       " '{\"判断相符\":\\'3\\',\\'原因\\':\"召回结果和原词条完全不相符，原词条是玉米养生汤，召回结果是南瓜小米粥\" }',\n",
       " '{\"判断相符\":\\'1\\',\\'原因\\':\"召回结果符合原词条，召回结果比原词条多了一些修饰词，但核心内容一致\" }',\n",
       " '{\"判断相符\":\\'1\\',\\'原因\\':\"召回结果符合原词条，完全匹配\" }',\n",
       " '{\"判断相符\":\\'1\\',\\'原因\\':\"召回结果符合原词条，召回结果范围比原词条大，但是可以覆盖原词条\" }',\n",
       " '{\"判断相符\":\\'1\\',\\'原因\\':\"召回结果符合原词条，完全一致\" }',\n",
       " '{\"判断相符\":\\'1\\',\\'原因\\':\"召回结果符合原词条，召回结果范围比原词条大，但是可以覆盖原词条\" }',\n",
       " '{\"判断相符\":\\'1\\',\\'原因\\':\"召回结果符合原词条，召回结果比原词条大，但是和原词条相符\" }',\n",
       " '{\"判断相符\":\\'2\\',\\'原因\\':\"召回结果部分满足原词条，原词条是话鸡蛋小炒，召回结果多了木耳和大葱\" }',\n",
       " '{\"判断相符\":\\'1\\',\\'原因\\':\"召回结果符合原词条，召回结果比原词条多了一个\\'加一碗\\'的描述，但核心内容一致\" }',\n",
       " '{\"判断相符\":\\'3\\',\\'原因\\':\"召回结果和原词条完全不相符，擎载粥和龙成艇仔粥在名称和内容上无直接关联\" }',\n",
       " '{\"判断相符\":\\'1\\',\\'原因\\':\"召回结果符合原词条，召回结果只是商家起的更可爱的名字，实质内容与原词条一致\" }',\n",
       " '{\"判断相符\":\\'2\\',\\'原因\\':\"召回结果部分满足原词条，原词条是清炒小白菜，召回结果多了鹅蛋和小葱\" }',\n",
       " '{\"判断相符\":\\'2\\',\\'原因\\':\"召回结果部分满足原词条，原词条是白菜，召回结果是小白菜和土豆，虽然都是蔬菜，但不完全相同\" }',\n",
       " '{\"判断相符\":\\'2\\',\\'原因\\':\"召回结果部分满足原词条，原词条的是冻豆腐，召回结果是没有冻豆腐，但是有大白菜和豆腐\" }',\n",
       " '{\"判断相符\":\\'1\\',\\'原因\\':\"召回结果符合原词条，召回结果比原词条多了一个\\'滑\\'字，但整体意思和原词条相符\" }',\n",
       " '{\"判断相符\":\\'2\\',\\'原因\\':\"召回结果部分满足原词条，召回结果多了黄瓜和西红柿，但基本覆盖了原词条的主要内容\" }',\n",
       " '{\"判断相符\":\\'1\\',\\'原因\\':\"召回结果符合原词条，召回结果与原词条相符，只是表述方式略有不同\" }',\n",
       " '{\"判断相符\":\\'1\\',\\'原因\\':\"召回结果符合原词条，只是词语顺序不同，但内容和原词条一致\" }',\n",
       " '{\"判断相符\":\\'1\\',\\'原因\\':\"召回结果符合原词条，完全一致\" }',\n",
       " '{\"判断相符\":\\'1\\',\\'原因\\':\"召回结果符合原词条，召回结果与原词条一致，只是少了\\'鲜\\'字，但整体内容相符\" }',\n",
       " '{\"判断相符\":\\'1\\',\\'原因\\':\"召回结果符合原词条，召回结果比原词条大，但是和原词条相符\" }',\n",
       " '{\"判断相符\":\\'1\\',\\'原因\\':\"召回结果符合原词条，召回结果使用了更可爱的名字\\'皮皮蛋\\'，但实质内容与原词条一致\" }',\n",
       " '{\"判断相符\":\\'1\\',\\'原因\\':\"召回结果符合原词条，召回结果比原词条详细，但内容一致\" }',\n",
       " '{\"判断相符\":\\'1\\',\\'原因\\':\"召回结果符合原词条，召回结果只是商家起的更可爱的名字，但内容与原词条相符\" }',\n",
       " '{\"判断相符\":\\'1\\',\\'原因\\':\"召回结果符合原词条，召回结果与原词条完全一致\" }',\n",
       " '{\"判断相符\":\\'2\\',\\'原因\\':\"召回结果部分满足原词条，原词条的范围更广，召回结果具体到了大头菜\" }',\n",
       " '{\"判断相符\":\\'3\\',\\'原因\\':\"召回结果和原词条完全不相符，原词条是红糖姜茶，召回结果是红糖红豆红枣粥，两者成分完全不同\" }',\n",
       " '{\"判断相符\":\\'2\\',\\'原因\\':\"召回结果部分满足原词条，召回结果和原词条都是养胃粥，但召回结果使用了虫草和滑鸡，与原词条的山药和鸡茸不完全一致\" }',\n",
       " '{\"判断相符\":\\'1\\',\\'原因\\':\"召回结果符合原词条，召回结果只是商家起的更可爱的名字，实质内容与原词条一致\"}',\n",
       " '{\"判断相符\":\\'2\\',\\'原因\\':\"召回结果部分满足原词条，原词条是红豆，召回结果是大枣，虽然都是甜味食材但不完全相同\" }',\n",
       " '{\"判断相符\":\\'1\\',\\'原因\\':\"召回结果符合原词条，召回结果比原词条更具体，但核心内容一致\" }',\n",
       " '{\"判断相符\":\\'1\\',\\'原因\\':\"召回结果符合原词条，召回结果与原词条一致，只是表述方式略有不同\" }',\n",
       " '{\"判断相符\":\\'1\\',\\'原因\\':\"召回结果符合原词条，召回结果比原词条大，增加了土豆丝，但可以覆盖原词条\" }',\n",
       " '{\"判断相符\":\\'1\\',\\'原因\\':\"召回结果符合原词条，召回结果比原词条具体，但核心内容一致\" }',\n",
       " '{\"判断相符\":\\'1\\',\\'原因\\':\"召回结果符合原词条，召回结果比原词条更具体，但本质相同\" }',\n",
       " '{\"判断相符\":\\'1\\',\\'原因\\':\"召回结果符合原词条，召回结果比原词条大，增加了红枣，但是和原词条相符\" }',\n",
       " '{\"判断相符\":\\'1\\',\\'原因\\':\"召回结果符合原词条，完全一致\" }',\n",
       " '{\"判断相符\":\\'2\\',\\'原因\\':\"召回结果部分满足原词条，原词条要求的是软烂易嚼食物，召回结果是稠香厚实南瓜粥，虽然南瓜粥是软烂的，但\\'稠香厚实\\'的描述不完全符合\\'易嚼\\'的要求\"}',\n",
       " '{\"判断相符\":\\'1\\',\\'原因\\':\"召回结果符合原词条，召回结果的范围可以比原词条的大一些，口味可以不一致\" }',\n",
       " '{\"判断相符\":\\'1\\',\\'原因\\':\"召回结果符合原词条，召回结果比原词条多加了\\'财神\\'这样的修饰词，但本质上是相同的八宝粥\" }',\n",
       " '{\"判断相符\":\\'1\\',\\'原因\\':\"召回结果符合原词条，召回结果比原词条多加了木耳，但基本覆盖了原词条的内容\" }',\n",
       " '{\"判断相符\":\\'1\\',\\'原因\\':\"召回结果符合原词条，完全一致\" }',\n",
       " '{\"判断相符\":\\'1\\',\\'原因\\':\"召回结果符合原词条，召回结果只是商家起的更可爱的名字，内容与原词条一致\" }',\n",
       " '{\"判断相符\":\\'1\\',\\'原因\\':\"召回结果符合原词条，召回结果的范围比原词条大一些，但可以覆盖原词条，且西红柿是番茄的另一种称呼，炒鸡蛋与炒蛋同义，盖饭与配米饭相似\" }',\n",
       " '{\"判断相符\":\\'1\\',\\'原因\\':\"召回结果符合原词条，召回结果和原词条相符，只是顺序不同\" }',\n",
       " '{\"判断相符\":\\'1\\',\\'原因\\':\"召回结果符合原词条，召回结果与原词条一致，只是顺序不同\" }',\n",
       " '{\"判断相符\":\\'1\\',\\'原因\\':\"召回结果符合原词条，召回结果范围比原词条大，但是可以覆盖原词条\" }',\n",
       " '{\"判断相符\":\\'3\\',\\'原因\\':\"召回结果和原词条完全不相符，原词条是青菜干丝肉丝配米饭，召回结果是青椒土豆丝炒鸡肉丝，食材和做法完全不同\" }',\n",
       " '{\"判断相符\":\\'3\\',\\'原因\\':\"召回结果和原词条完全不相符，原词条是雪菜焖嫩豆腐，召回结果是小碗牛肉炖老豆腐，主要食材和烹饪方法都不同\" }',\n",
       " '{\"判断相符\":\\'3\\',\\'原因\\':\"召回结果和原词条完全不相符，原词条是木耳炒蛋，召回结果是酸豆角鸡蛋炒饭\" }',\n",
       " '{\"判断相符\":\\'1\\',\\'原因\\':\"召回结果符合原词条，召回结果使用了更可爱的名字\\'皮皮蛋\\'，但实质内容与原词条一致\" }',\n",
       " '{\"判断相符\":\\'1\\',\\'原因\\':\"召回结果符合原词条，召回结果比原词条大，但是和原词条相符\" }',\n",
       " '{\"判断相符\":\\'1\\',\\'原因\\':\"召回结果符合原词条，召回结果的范围比原词条大一些，可以覆盖原词条\" }',\n",
       " '{\"判断相符\":\\'1\\',\\'原因\\':\"召回结果符合原词条，召回结果比原词条详细，但内容相符\" }',\n",
       " '{\"判断相符\":\\'1\\',\\'原因\\':\"召回结果符合原词条，召回结果的范围比原词条大，但可以覆盖原词条，手擀面汤可以包含炉子面的概念\" }',\n",
       " '{\"判断相符\":\\'2\\',\\'原因\\':\"召回结果部分满足原词条，原词条是番茄浇头饭，召回结果是番茄炒鸡蛋饭，虽然都包含番茄和饭，但浇头和炒鸡蛋是不同的配料\"}',\n",
       " '{\"判断相符\":\\'3\\',\\'原因\\':\"召回结果和原词条完全不相符，原词条是姜汤，召回结果是牛肉当归粥\" }',\n",
       " '{\"判断相符\":\\'1\\',\\'原因\\':\"召回结果符合原词条，召回结果使用了更可爱的名字\\'皮皮蛋\\'，但实质内容与原词条一致\" }',\n",
       " '{\"判断相符\":\\'1\\',\\'原因\\':\"召回结果符合原词条，召回结果比原词条具体，但可以覆盖原词条\" }',\n",
       " '{\"判断相符\":\\'1\\',\\'原因\\':\"召回结果符合原词条，召回结果的范围比原词条大，但可以覆盖原词条的要求\" }',\n",
       " '{\"判断相符\":\\'1\\',\\'原因\\':\"召回结果符合原词条，召回结果比原词条更详细，但基本内容一致\" }',\n",
       " '{\"判断相符\":\\'2\\',\\'原因\\':\"召回结果部分满足原词条，原词条是小米粥，召回结果多了糯米\" }',\n",
       " '{\"判断相符\":\\'1\\',\\'原因\\':\"召回结果符合原词条，召回结果比原词条大，但是和原词条相符\" }',\n",
       " '{\"判断相符\":\\'1\\',\\'原因\\':\"召回结果符合原词条，虽然召回结果将\\'归圆\\'替换为\\'桂圆\\'，但两者指的是同一种食材，因此可以覆盖原词条\" }',\n",
       " '{\"判断相符\":\\'2\\',\\'原因\\':\"召回结果部分满足原词条，召回结果包含了原词条的韭菜炒蛋，但增加了韭黄炒蛋，范围比原词条大\" }',\n",
       " '{\"判断相符\":\\'1\\',\\'原因\\':\"召回结果完全符合原词条\" }',\n",
       " '{\"判断相符\":\\'2\\',\\'原因\\':\"召回结果部分满足原词条，原词条是山药，召回结果是南瓜，虽然都是养胃粥但主料不同\"}',\n",
       " '{\"判断相符\":\\'1\\',\\'原因\\':\"召回结果符合原词条，虽然顺序不同，但内容和原词条一致\" }',\n",
       " '{\"判断相符\":\\'1\\',\\'原因\\':\"召回结果符合原词条，召回结果比原词条多加了肉末，但基本覆盖了原词条的内容\" }',\n",
       " '{\"判断相符\":\\'1\\',\\'原因\\':\"召回结果符合原词条，虽然名称不同但都属于养生粥类，可以覆盖原词条\" }',\n",
       " '{\"判断相符\":\\'1\\',\\'原因\\':\"召回结果符合原词条，召回结果比原词条大，增加了小米和红枣，但覆盖了原词条的南瓜和枸杞，且都是养胃粥\" }',\n",
       " '{\"判断相符\":\\'2\\',\\'原因\\':\"召回结果部分满足原词条，原词条是湖南小炒肉包饭，召回结果是湘西外婆菜小炒，虽然都是湖南菜系，但具体菜品不同\" }',\n",
       " '{\"判断相符\":\\'2\\',\\'原因\\':\"召回结果部分满足原词条，原词条的范围更广，召回结果只是其中的一种清淡菜品\"}',\n",
       " '{\"判断相符\":\\'1\\',\\'原因\\':\"召回结果符合原词条，召回结果比原词条大，增加了南瓜，但是和原词条相符\" }',\n",
       " '{\"判断相符\":\\'1\\',\\'原因\\':\"召回结果符合原词条，召回结果比原词条大，增加了红枣，但是和原词条相符\" }',\n",
       " '{\"判断相符\":\\'1\\',\\'原因\\':\"召回结果符合原词条，召回结果比原词条大，但是可以覆盖原词条\" }',\n",
       " '{\"判断相符\":\\'1\\',\\'原因\\':\"召回结果符合原词条，召回结果比原词条大，但是可以覆盖原词条\" }',\n",
       " '{\"判断相符\":\\'2\\',\\'原因\\':\"召回结果部分满足原词条，原词条是干饭，召回结果是炒饭，且多了虾仁\" }',\n",
       " '{\"判断相符\":\\'2\\',\\'原因\\':\"召回结果部分满足原词条，原词条是枸杞炖小肥汤，召回结果是虫草花枸杞炖瘦肉，少了小肥\" }',\n",
       " '{\"判断相符\":\\'1\\',\\'原因\\':\"召回结果符合原词条，召回结果比原词条大，但是可以覆盖原词条\" }',\n",
       " '{\"判断相符\":\\'1\\',\\'原因\\':\"召回结果符合原词条，召回结果范围比原词条大，但是可以覆盖原词条\" }',\n",
       " '{\"判断相符\":\\'3\\',\\'原因\\':\"召回结果和原词条完全不相符，原词条指的是拼蛋，召回结果是炒鸡蛋\" }',\n",
       " '{\"判断相符\":\\'1\\',\\'原因\\':\"召回结果符合原词条，召回结果比原词条更具体，但口味和范围与原词条相符\" }',\n",
       " '{\"判断相符\":\\'1\\',\\'原因\\':\"召回结果符合原词条，召回结果只是商家起的更可爱的名字，实质内容与原词条一致\" }',\n",
       " '{\"判断相符\":\\'3\\',\\'原因\\':\"召回结果和原词条完全不相符，原词条是皮蛋烧肉，召回结果是鸡蛋肉丝炒豆皮子\" }',\n",
       " '{\"判断相符\":\\'2\\',\\'原因\\':\"召回结果部分满足原词条，原词条的是浇头面，召回结果添加了菠菜，改变了原词条的成分\" }',\n",
       " '{\"判断相符\":\\'1\\',\\'原因\\':\"召回结果符合原词条，召回结果使用了更可爱的名字\\'皮皮蛋\\'，但实质内容与原词条一致\" }',\n",
       " '{\"判断相符\":\\'2\\',\\'原因\\':\"召回结果部分满足原词条，原词条的是土豆丝浇饭，召回结果是芹菜炒土豆丝盖饭，多了芹菜\" }',\n",
       " '{\"判断相符\":\\'1\\',\\'原因\\':\"召回结果符合原词条，召回结果比原词条大，增加了莲子，但是可以覆盖原词条\" }',\n",
       " '{\"判断相符\":\\'3\\',\\'原因\\':\"召回结果和原词条完全不相符，原词条要求的是少油少盐的菜，而召回结果是面条不要韭菜，两者无直接关联\" }',\n",
       " '{\"判断相符\":\\'2\\',\\'原因\\':\"召回结果部分满足原词条，原词条是肉末，召回结果是排骨，食材不完全一致\" }',\n",
       " '{\"判断相符\":\\'3\\',\\'原因\\':\"召回结果和原词条完全不相符，原词条是油梅菜，召回结果是西兰花\" }',\n",
       " '{\"判断相符\":\\'2\\',\\'原因\\':\"召回结果部分满足原词条，原词条是鲜汤炖，召回结果是拌，且配料不完全相同\" }',\n",
       " '{\"判断相符\":\\'2\\',\\'原因\\':\"召回结果和原词条部分相符，原词条是鲜鱼，召回结果是海鲜，范围有所变化但核心成分嫩豆腐汤一致\"}',\n",
       " '{\"判断相符\":\\'2\\',\\'原因\\':\"召回结果部分满足原词条，原词条是小米粥，召回结果增加了糯米\" }',\n",
       " '{\"判断相符\":\\'1\\',\\'原因\\':\"召回结果符合原词条，召回结果比原词条更具体，但基本内容一致\" }',\n",
       " '{\"判断相符\":\\'2\\',\\'原因\\':\"召回结果部分满足原词条，原词条是鲜鱼，召回结果是鱼丸，且增加了海带\" }',\n",
       " '{\"判断相符\":\\'2\\',\\'原因\\':\"召回结果部分满足原词条，原词条的是养胃粥，召回结果是补血粥，虽然都含有红枣和枸杞，但主要功效不同\"}',\n",
       " '{\"判断相符\":\\'1\\',\\'原因\\':\"召回结果符合原词条，召回结果比原词条大，增加了菠菜，但是可以覆盖原词条\" }',\n",
       " '{\"判断相符\":\\'1\\',\\'原因\\':\"召回结果符合原词条，召回结果与原词条意思一致，只是表述方式不同\" }',\n",
       " '{\"判断相符\":\\'1\\',\\'原因\\':\"召回结果符合原词条，召回结果比原词条大，增加了地瓜，但依然包含南瓜\" }',\n",
       " '{\"判断相符\":\\'3\\',\\'原因\\':\"召回结果和原词条完全不相符\" }',\n",
       " '{\"判断相符\":\\'1\\',\\'原因\\':\"召回结果符合原词条，完全一致\" }',\n",
       " '{\"判断相符\":\\'1\\',\\'原因\\':\"召回结果符合原词条，召回结果使用了更可爱的名字\\'皮皮蛋\\'，但实质内容与原词条一致\"}',\n",
       " '{\"判断相符\":\\'1\\',\\'原因\\':\"召回结果符合原词条，召回结果和原词条相符\" }',\n",
       " '{\"判断相符\":\\'1\\',\\'原因\\':\"召回结果符合原词条，召回结果和原词条相符，只是表述方式不同\" }',\n",
       " '{\"判断相符\":\\'1\\',\\'原因\\':\"召回结果符合原词条，召回结果比原词条具体，但仍在粥的范围内\" }',\n",
       " '{\"判断相符\":\\'1\\',\\'原因\\':\"召回结果符合原词条，召回结果比原词条多加了红糖，但整体符合原词条\" }',\n",
       " '{\"判断相符\":\\'2\\',\\'原因\\':\"召回结果部分满足原词条，原词条是大杂烩，召回结果只有土豆丝\" }',\n",
       " '{\"判断相符\":\\'2\\',\\'原因\\':\"召回结果部分满足原词条，原词条的是白菜，召回结果是羊肚菌和山药，虽然都有排骨汤，但主要配料不符\"}',\n",
       " '{\"判断相符\":\\'2\\',\\'原因\\':\"召回结果部分满足原词条，原词条是酸辣口味，召回结果没有提到酸辣，且加入了高汤和西红柿，与原词条的口味和成分不完全一致\"}',\n",
       " '{\"判断相符\":\\'2\\',\\'原因\\':\"召回结果部分满足原词条，原词条是热汤面，召回结果是挂面鸡蛋汤，缺少了面的热汤部分\" }',\n",
       " '{\"判断相符\":\\'1\\',\\'原因\\':\"召回结果符合原词条，召回结果只是商家起的更可爱的名字，实质内容与原词条一致\" }',\n",
       " '{\"判断相符\":\\'1\\',\\'原因\\':\"召回结果符合原词条，召回结果比原词条大，增加了木耳，但是和原词条相符\" }',\n",
       " '{\"判断相符\":\\'3\\',\\'原因\\':\"召回结果和原词条完全不相符，原词条是洋葱肉片，召回结果是番茄鸡蛋肉末\" }',\n",
       " '{\"判断相符\":\\'1\\',\\'原因\\':\"召回结果符合原词条，召回结果比原词条具体，但覆盖了原词条的主要内容\" }',\n",
       " '{\"判断相符\":\\'3\\',\\'原因\\':\"召回结果和原词条完全不相符，原词条是沃丹牛肉，召回结果是蕃茄炖牛肉，两者完全不同\" }',\n",
       " '{\"判断相符\":\\'1\\',\\'原因\\':\"召回结果符合原词条，召回结果比原词条大，增加了黄瓜片，但核心成分木耳和山药与原词条一致\" }',\n",
       " '{\"判断相符\":\\'1\\',\\'原因\\':\"召回结果符合原词条，召回结果比原词条多加了白米饭，但覆盖了原词条的内容\" }',\n",
       " '{\"判断相符\":\\'1\\',\\'原因\\':\"召回结果符合原词条，虽然召回结果中皮蛋的名字有所变化，但实质内容与原词条一致\" }',\n",
       " '{\"判断相符\":\\'1\\',\\'原因\\':\"召回结果符合原词条，虽然召回结果中皮蛋被称作皮皮蛋，但这是商家起的更可爱的名字，实质上是相同的食材\"}',\n",
       " '{\"判断相符\":\\'3\\',\\'原因\\':\"召回结果和原词条完全不相符，原词条是蒜香油菜，召回结果是蒜黄香干炒肉丝，两者食材和做法完全不同\" }',\n",
       " '{\"判断相符\":\\'1\\',\\'原因\\':\"召回结果符合原词条，召回结果比原词条大，增加了冻豆腐，但基本覆盖原词条\" }',\n",
       " '{\"判断相符\":\\'3\\',\\'原因\\':\"召回结果和原词条完全不相符，原词条是关于计划的，召回结果是关于食物的\" }',\n",
       " '{\"判断相符\":\\'1\\',\\'原因\\':\"召回结果符合原词条，召回结果和原词条描述的是同一种食物，只是表述方式不同\" }',\n",
       " '{\"判断相符\":\\'1\\',\\'原因\\':\"召回结果符合原词条，召回结果与原词条一致\" }',\n",
       " '{\"判断相符\":\\'1\\',\\'原因\\':\"召回结果符合原词条，召回结果比原词条大，但是可以覆盖原词条\" }',\n",
       " '{\"判断相符\":\\'1\\',\\'原因\\':\"召回结果符合原词条，召回结果比原词条多了一些内容（肉末），但可以覆盖原词条\" }',\n",
       " '{\"判断相符\":\\'1\\',\\'原因\\':\"召回结果符合原词条，召回结果和原词条相符，只是描述方式不同\" }',\n",
       " '{\"判断相符\":\\'1\\',\\'原因\\':\"召回结果符合原词条，召回结果比原词条大，增加了木耳，但是和原词条相符\" }',\n",
       " '{\"判断相符\":\\'1\\',\\'原因\\':\"召回结果符合原词条，召回结果只是商家起的更可爱的名字，实际内容与原词条一致\" }',\n",
       " '{\"判断相符\":\\'1\\',\\'原因\\':\"召回结果符合原词条，虽然名称顺序不同，但内容和原词条一致\" }',\n",
       " '{\"判断相符\":\\'1\\',\\'原因\\':\"召回结果符合原词条，召回结果只是商家起的更可爱的名字，实质内容与原词条一致\" }',\n",
       " '{\"判断相符\":\\'1\\',\\'原因\\':\"召回结果符合原词条，完全一致\" }',\n",
       " '{\"判断相符\":\\'2\\',\\'原因\\':\"召回结果部分满足原词条，原词条包含山药，召回结果没有提到山药\" }',\n",
       " '{\"判断相符\":\\'1\\',\\'原因\\':\"召回结果符合原词条，虽然召回结果使用了更可爱的名字\\'皮皮蛋\\'，但实质内容与原词条相符\" }',\n",
       " '{\"判断相符\":\\'3\\',\\'原因\\':\"召回结果和原词条完全不相符，原词条是咸菜茭白汤面，召回结果是精瘦肉香菇木耳素臊子双拼鸡汤面，两者在主要食材和风味上完全不同\" }',\n",
       " '{\"判断相符\":\\'1\\',\\'原因\\':\"召回结果符合原词条，召回结果使用了更可爱的名字\\'皮皮蛋\\'，但实质内容与原词条一致\" }',\n",
       " '{\"判断相符\":\\'1\\',\\'原因\\':\"召回结果符合原词条，召回结果的成分与原词条完全一致，只是顺序不同\" }',\n",
       " '{\"判断相符\":\\'3\\',\\'原因\\':\"召回结果和原词条完全不相符，糖水和过水大碴粥在成分和口感上完全不同\" }',\n",
       " '{\"判断相符\":\\'2\\',\\'原因\\':\"召回结果部分满足原词条，原词条是油豆腐，召回结果是五花肉和豆腐，虽然有大白菜但主料不完全一致\" }',\n",
       " '{\"判断相符\":\\'2\\',\\'原因\\':\"召回结果部分满足原词条，召回结果包含了原词条的豆腐和千张，但多了黄焖鸡和米饭\" }',\n",
       " '{\"判断相符\":\\'1\\',\\'原因\\':\"召回结果符合原词条，完全一致\" }',\n",
       " '{\"判断相符\":\\'2\\',\\'原因\\':\"召回结果部分满足原词条，原词条是乱炖，召回结果少了乱炖的元素，但排骨汤是相符的\"}',\n",
       " '{\"判断相符\":\\'1\\',\\'原因\\':\"召回结果符合原词条，召回结果比原词条大，但是和原词条相符\" }',\n",
       " '{\"判断相符\":\\'1\\',\\'原因\\':\"召回结果符合原词条，召回结果使用了更可爱的名字\\'皮皮蛋\\'，但实质内容与原词条一致\" }',\n",
       " '{\"判断相符\":\\'2\\',\\'原因\\':\"召回结果部分满足原词条，召回结果比原词条多了黄瓜片\" }',\n",
       " '{\"判断相符\":\\'1\\',\\'原因\\':\"召回结果符合原词条，召回结果比原词条大，但是和原词条相符\" }',\n",
       " '{\"判断相符\":\\'2\\',\\'原因\\':\"召回结果部分满足原词条，原词条是小菜，召回结果是清炒小白莱，范围比原词条小\" }',\n",
       " '{\"判断相符\":\\'2\\',\\'原因\\':\"召回结果部分满足原词条，原词条是香煎蛋，召回结果是炒蛋\" }',\n",
       " '{\"判断相符\":\\'1\\',\\'原因\\':\"召回结果符合原词条，召回结果比原词条大，增加了羊肚菌，但是和原词条相符\" }',\n",
       " '{\"判断相符\":\\'1\\',\\'原因\\':\"召回结果符合原词条，召回结果比原词条大，但是和原词条相符\" }',\n",
       " '{\"判断相符\":\\'1\\',\\'原因\\':\"召回结果符合原词条，皮皮蛋是皮蛋的可爱称呼，召回结果和原词条相符\"}',\n",
       " '{\"判断相符\":\\'2\\',\\'原因\\':\"召回结果部分满足原词条，原词条是养胃粥，召回结果是补血粥，虽然都含有红枣，但主要功效不同\"}',\n",
       " '{\"判断相符\":\\'1\\',\\'原因\\':\"召回结果符合原词条\" }',\n",
       " '{\"判断相符\":\\'1\\',\\'原因\\':\"召回结果符合原词条，召回结果与原词条基本一致，只是表述上略有不同\" }',\n",
       " '{\"判断相符\":\\'1\\',\\'原因\\':\"召回结果符合原词条，召回结果与原词条基本一致，只是表述上略有不同\" }',\n",
       " '{\"判断相符\":\\'2\\',\\'原因\\':\"召回结果部分满足原词条，原词条是青椒肉丝小炒，召回结果多了小笋\" }',\n",
       " '{\"判断相符\":\\'2\\',\\'原因\\':\"召回结果部分满足原词条，原词条是汤面，召回结果少了面\"}',\n",
       " '{\"判断相符\":\\'1\\',\\'原因\\':\"召回结果符合原词条，虽然名称有所不同，但都指的是黑米粥，可以覆盖原词条\" }',\n",
       " '{\"判断相符\":\\'2\\',\\'原因\\':\"召回结果部分满足原词条，原词条是桂花，召回结果是桂圆，且增加了山药\" }',\n",
       " '{\"判断相符\":\\'1\\',\\'原因\\':\"召回结果符合原词条，召回结果比原词条大，但是可以覆盖原词条\" }',\n",
       " '{\"判断相符\":\\'1\\',\\'原因\\':\"召回结果符合原词条，召回结果比原词条多加了小米，但整体符合原词条的范围\" }',\n",
       " '{\"判断相符\":\\'3\\',\\'原因\\':\"召回结果和原词条完全不相符\" }',\n",
       " '{\"判断相符\":\\'2\\',\\'原因\\':\"召回结果部分满足原词条，原词条是红友薏米，召回结果是小米红糖红枣，虽然都是养胃粥但材料不完全一致\" }',\n",
       " '{\"判断相符\":\\'1\\',\\'原因\\':\"召回结果符合原词条，召回结果比原词条大，但是和原词条相符\" }',\n",
       " '{\"判断相符\":\\'1\\',\\'原因\\':\"召回结果符合原词条\" }',\n",
       " '{\"判断相符\":\\'1\\',\\'原因\\':\"召回结果符合原词条，召回结果比原词条多加了菠菜，但基本覆盖原词条\" }',\n",
       " '{\"判断相符\":\\'2\\',\\'原因\\':\"召回结果部分满足原词条，原词条中有瑶柱，召回结果中没有瑶柱但有枸杞\" }',\n",
       " '{\"判断相符\":\\'1\\',\\'原因\\':\"召回结果符合原词条，召回结果比原词条大，但是可以覆盖原词条\" }',\n",
       " '{\"判断相符\":\\'2\\',\\'原因\\':\"召回结果部分满足原词条，召回结果比原词条多了番茄，但基本覆盖了原词条的内容\" }',\n",
       " '{\"判断相符\":\\'1\\',\\'原因\\':\"召回结果符合原词条，召回结果比原词条大，但是可以覆盖原词条\" }',\n",
       " '{\"判断相符\":\\'2\\',\\'原因\\':\"召回结果部分满足原词条，原词条是炒肉，召回结果是没有肉，但有黄瓜片\" }',\n",
       " '{\"判断相符\":\\'1\\',\\'原因\\':\"召回结果符合原词条，召回结果与原词条基本一致，只是表述方式略有不同\" }',\n",
       " '{\"判断相符\":\\'2\\',\\'原因\\':\"召回结果部分满足原词条，原词条的是肉菜，召回结果是酸菜\" }',\n",
       " '{\"判断相符\":\\'2\\',\\'原因\\':\"召回结果部分满足原词条，原词条是养胃粥，召回结果是补血粥，虽然都含有红枣，但主要功效和部分材料不同\"}',\n",
       " '{\"判断相符\":\\'1\\',\\'原因\\':\"召回结果符合原词条，召回结果比原词条简洁，但内容一致\" }',\n",
       " '{\"判断相符\":\\'2\\',\\'原因\\':\"召回结果部分满足原词条，原词条是炖粉条，召回结果是炒粉条，且增加了土猪肉\" }',\n",
       " '{\"判断相符\":\\'1\\',\\'原因\\':\"召回结果符合原词条，召回结果使用了更可爱的名字\\'皮皮蛋\\'，但与原词条\\'皮蛋\\'相符\" }',\n",
       " '{\"判断相符\":\\'1\\',\\'原因\\':\"召回结果符合原词条，召回结果只是商家起的更可爱的名字，实质内容一致\"}',\n",
       " '{\"判断相符\":\\'1\\',\\'原因\\':\"召回结果符合原词条，召回结果的成分和原词条完全一致，只是顺序不同\" }',\n",
       " '{\"判断相符\":\\'1\\',\\'原因\\':\"召回结果符合原词条，召回结果与原词条相符，只是表述上略有不同\" }',\n",
       " '{\"判断相符\":\\'3\\',\\'原因\\':\"召回结果和原词条完全不相符，原词条是香辣干锅菜花，召回结果是青椒肉丝炒马桥香干\" }',\n",
       " '{\"判断相符\":\\'1\\',\\'原因\\':\"召回结果符合原词条，召回结果比原词条大，但是可以覆盖原词条\" }',\n",
       " '{\"判断相符\":\\'2\\',\\'原因\\':\"召回结果部分满足原词条，原词条的是养胃粥，召回结果的是补血粥，虽然材料相似但功效不同\" }',\n",
       " '{\"判断相符\":\\'1\\',\\'原因\\':\"召回结果符合原词条，召回结果的口味可以不一致，但都是鲫鱼汤\" }',\n",
       " '{\"判断相符\":\\'1\\',\\'原因\\':\"召回结果符合原词条\" }',\n",
       " '{\"判断相符\":\\'2\\',\\'原因\\':\"召回结果部分满足原词条，原词条是香菇，召回结果是猴头菇，虽然都是菇类，但不完全相同\" }',\n",
       " '{\"判断相符\":\\'1\\',\\'原因\\':\"召回结果符合原词条，召回结果比原词条多了小米，但整体口味和范围与原词条相符\" }',\n",
       " '{\"判断相符\":\\'1\\',\\'原因\\':\"召回结果符合原词条，召回结果比原词条更具体，但和原词条相符\" }',\n",
       " '{\"判断相符\":\\'1\\',\\'原因\\':\"召回结果符合原词条，召回结果比原词条更具体，但核心内容一致\" }',\n",
       " '{\"判断相符\":\\'3\\',\\'原因\\':\"召回结果和原词条完全不相符，原词条是酸辣红心菜，召回结果是酸甜紫包菜，口味和食材都不一致\" }',\n",
       " '{\"判断相符\":\\'3\\',\\'原因\\':\"召回结果和原词条完全不相符，原词条是自菜单场，召回结果是千张小白菜\" }',\n",
       " '{\"判断相符\":\\'1\\',\\'原因\\':\"召回结果符合原词条，召回结果比原词条大，但是可以覆盖原词条\" }',\n",
       " '{\"判断相符\":\\'1\\',\\'原因\\':\"召回结果符合原词条，完全匹配\" }',\n",
       " '{\"判断相符\":\\'2\\',\\'原因\\':\"召回结果部分满足原词条，原词条是豆苗，召回结果是豆尖，虽然都是豆类蔬菜，但品种不同\"}',\n",
       " '{\"判断相符\":\\'1\\',\\'原因\\':\"召回结果符合原词条，召回结果比原词条大，但是和原词条相符\" }',\n",
       " '{\"判断相符\":\\'3\\',\\'原因\\':\"召回结果和原词条完全不相符，原词条是茶树菇炖排骨汤，召回结果是五指毛桃土茯苓排骨汤，两者主要材料完全不同\" }',\n",
       " '{\"判断相符\":\\'1\\',\\'原因\\':\"召回结果符合原词条，完全匹配\" }',\n",
       " '{\"判断相符\":\\'3\\',\\'原因\\':\"召回结果和原词条完全不相符，原词条是限好走，召回结果是避风塘艇仔粥\" }',\n",
       " '{\"判断相符\":\\'1\\',\\'原因\\':\"召回结果符合原词条，召回结果比原词条大，但是和原词条相符\" }',\n",
       " '{\"判断相符\":\\'2\\',\\'原因\\':\"召回结果部分满足原词条，召回结果多了番茄，但基本覆盖原词条\" }',\n",
       " '{\"判断相符\":\\'1\\',\\'原因\\':\"召回结果符合原词条，召回结果的范围可以比原词条的大一些，口味可以不一致\" }',\n",
       " '{\"判断相符\":\\'1\\',\\'原因\\':\"召回结果符合原词条，召回结果比原词条大，但是可以覆盖原词条\" }',\n",
       " '{\"判断相符\":\\'1\\',\\'原因\\':\"召回结果符合原词条\" }',\n",
       " '{\"判断相符\":\\'3\\',\\'原因\\':\"召回结果和原词条完全不相符，原词条是东北大板菜，召回结果是东北黑木耳炒肉，两者完全不同\" }',\n",
       " '{\"判断相符\":\\'3\\',\\'原因\\':\"召回结果和原词条完全不相符，原词条是老鸭汤手工面，召回结果是黄鱼鲞豆腐皮面，两者食材和风味完全不同\" }',\n",
       " '{\"判断相符\":\\'1\\',\\'原因\\':\"召回结果符合原词条，完全匹配\" }',\n",
       " '{\"判断相符\":\\'1\\',\\'原因\\':\"召回结果符合原词条，召回结果比原词条具体，但可以覆盖原词条的范围\" }',\n",
       " '{\"判断相符\":\\'3\\',\\'原因\\':\"召回结果和原词条完全不相符，原词条是保单相关，召回结果是食品\" }',\n",
       " '{\"判断相符\":\\'2\\',\\'原因\\':\"召回结果部分满足原词条，原词条是西炖豆腐，召回结果是牛肉炖老豆腐，缺少了西炖的元素\" }',\n",
       " '{\"判断相符\":\\'1\\',\\'原因\\':\"召回结果符合原词条，召回结果比原词条大，但是可以覆盖原词条\" }',\n",
       " '{\"判断相符\":\\'3\\',\\'原因\\':\"召回结果和原词条完全不相符，原词条是四斤点炒肉丝，召回结果是白椒罗卜丝炒牛肉丝，两者主要食材和做法均不同\" }',\n",
       " '{\"判断相符\":\\'2\\',\\'原因\\':\"召回结果部分满足原词条，原词条是蘑菇和油菜，召回结果是香菇和肉\" }',\n",
       " '{\"判断相符\":\\'1\\',\\'原因\\':\"召回结果符合原词条，召回结果比原词条大，但是和原词条相符\" }',\n",
       " '{\"判断相符\":\\'3\\',\\'原因\\':\"召回结果和原词条完全不相符，原词条是炒菜，召回结果是粥\" }',\n",
       " '{\"判断相符\":\\'3\\',\\'原因\\':\"召回结果和原词条完全不相符，原词条是炖烂的铁，召回结果是加香干炒进去\" }',\n",
       " '{\"判断相符\":\\'1\\',\\'原因\\':\"召回结果符合原词条，召回结果范围比原词条大，包含了原词条的所有元素\" }',\n",
       " '{\"判断相符\":\\'3\\',\\'原因\\':\"召回结果和原词条完全不相符，原词条为空，无法与任何召回结果匹配\" }',\n",
       " '{\"判断相符\":\\'1\\',\\'原因\\':\"召回结果符合原词条，召回结果比原词条多加了肉末，但基本覆盖原词条\" }',\n",
       " '{\"判断相符\":\\'1\\',\\'原因\\':\"召回结果符合原词条，召回结果比原词条大，但是和原词条相符\" }',\n",
       " '{\"判断相符\":\\'2\\',\\'原因\\':\"召回结果部分满足原词条，原词条是毛豆肉丝，召回结果多了香菇和粉，少了毛豆\" }',\n",
       " '{\"判断相符\":\\'1\\',\\'原因\\':\"召回结果符合原词条，召回结果比原词条多加了红枣，但可以覆盖原词条\" }',\n",
       " '{\"判断相符\":\\'3\\',\\'原因\\':\"召回结果和原词条完全不相符\" }',\n",
       " '{\"判断相符\":\\'1\\',\\'原因\\':\"召回结果符合原词条，完全一致\" }',\n",
       " '{\"判断相符\":\\'3\\',\\'原因\\':\"召回结果和原词条完全不相符，原词条是酒，召回结果是粥\" }',\n",
       " '{\"判断相符\":\\'1\\',\\'原因\\':\"召回结果符合原词条，召回结果比原词条大，增加了玉米，但可以覆盖原词条\" }',\n",
       " '{\"判断相符\":\\'1\\',\\'原因\\':\"召回结果符合原词条\" }',\n",
       " '{\"判断相符\":\\'2\\',\\'原因\\':\"召回结果部分满足原词条，原词条的是乳磨豆腐，召回结果的是白菜豆腐，主要成分不一致\" }',\n",
       " '{\"判断相符\":\\'1\\',\\'原因\\':\"召回结果符合原词条，召回结果比原词条大，增加了腐竹，但基本覆盖原词条\" }',\n",
       " '{\"判断相符\":\\'1\\',\\'原因\\':\"召回结果符合原词条，召回结果使用了更可爱的名字\\'皮皮蛋\\'，但实质内容与原词条一致\"}',\n",
       " '{\"判断相符\":\\'1\\',\\'原因\\':\"召回结果符合原词条，召回结果的范围比原词条大，增加了蒜蓉，但可以覆盖原词条\" }',\n",
       " '{\"判断相符\":\\'1\\',\\'原因\\':\"召回结果符合原词条，召回结果比原词条大，增加了土豆，但基本覆盖原词条\" }',\n",
       " '{\"判断相符\":\\'2\\',\\'原因\\':\"召回结果部分满足原词条，原词条是红心菜，召回结果是芥兰，虽然都是蔬菜但种类不同\" }',\n",
       " '{\"判断相符\":\\'2\\',\\'原因\\':\"召回结果部分满足原词条，原词条是烩嫩豆腐，召回结果是豆腐皮拌娃娃菜，豆腐皮和嫩豆腐不同\" }',\n",
       " '{\"判断相符\":\\'2\\',\\'原因\\':\"召回结果部分满足原词条，原词条是滑嫩蛋香牛肉粥，召回结果多了菠菜，且蛋花粥与原词条的蛋香不完全一致\"}',\n",
       " '{\"判断相符\":\\'1\\',\\'原因\\':\"召回结果符合原词条，召回结果和原词条相符，只是表述方式不同\" }',\n",
       " '{\"判断相符\":\\'1\\',\\'原因\\':\"召回结果符合原词条，召回结果比原词条大，增加了干贝，但是和原词条相符\" }',\n",
       " '{\"判断相符\":\\'1\\',\\'原因\\':\"召回结果符合原词条\" }',\n",
       " '{\"判断相符\":\\'1\\',\\'原因\\':\"召回结果符合原词条，召回结果比原词条大，包含了茄子，并且是打卤面，可以覆盖原词条\" }',\n",
       " '{\"判断相符\":\\'3\\',\\'原因\\':\"召回结果和原词条完全不相符，原词条是炒蛋，召回结果是长豆角和外婆菜的煲仔\" }',\n",
       " '{\"判断相符\":\\'1\\',\\'原因\\':\"召回结果符合原词条，召回结果范围比原词条大，但是可以覆盖原词条\" }',\n",
       " '{\"判断相符\":\\'3\\',\\'原因\\':\"召回结果和原词条完全不相符，原词条无法识别，召回结果是炒山药傀儡\" }',\n",
       " '{\"判断相符\":\\'2\\',\\'原因\\':\"召回结果部分满足原词条，原词条是瘦肉粥，召回结果是牛肉粥，且增加了菠菜\" }',\n",
       " '{\"判断相符\":\\'2\\',\\'原因\\':\"召回结果部分满足原词条，原词条是无骨鸡汤，召回结果是竹丝鸡汤，虽然都是鸡汤但种类不同\" }',\n",
       " '{\"判断相符\":\\'2\\',\\'原因\\':\"召回结果部分满足原词条，原词条有粉丝，召回结果没有粉丝但有木耳\" }',\n",
       " '{\"判断相符\":\\'2\\',\\'原因\\':\"召回结果部分满足原词条，召回结果比原词条多了黄瓜和西红柿，但基本元素紫菜和蛋花汤存在\" }',\n",
       " '{\"判断相符\":\\'2\\',\\'原因\\':\"召回结果部分满足原词条，原词条的是炒蛋，召回结果是炒饭\" }',\n",
       " '{\"判断相符\":\\'2\\',\\'原因\\':\"召回结果部分满足原词条，原词条的是鸭脚，召回结果是鸭架\"}',\n",
       " '{\"判断相符\":\\'1\\',\\'原因\\':\"召回结果符合原词条，召回结果与原词条描述的食物组合一致，只是表述方式略有不同\" }',\n",
       " '{\"判断相符\":\\'1\\',\\'原因\\':\"召回结果符合原词条，召回结果比原词条多了一个\\'招牌\\'的描述，但内容一致\" }',\n",
       " '{\"判断相符\":\\'2\\',\\'原因\\':\"召回结果部分满足原词条，原词条的是鱼香，召回结果的是蒜香，口味不一致\"}',\n",
       " '{\"判断相符\":\\'2\\',\\'原因\\':\"召回结果部分满足原词条，原词条是蒜香肉丝，召回结果是肉丝香菇炒粉，多了香菇和粉，少了蒜香\"}',\n",
       " '{\"判断相符\":\\'1\\',\\'原因\\':\"召回结果符合原词条，召回结果比原词条大，但是可以覆盖原词条\" }',\n",
       " '{\"判断相符\":\\'1\\',\\'原因\\':\"召回结果符合原词条，召回结果比原词条大，增加了木耳，但是和原词条相符\" }',\n",
       " '{\"判断相符\":\\'1\\',\\'原因\\':\"召回结果符合原词条，召回结果使用了更可爱的名字\\'皮皮蛋\\'，但实质内容与原词条一致\" }',\n",
       " '{\"判断相符\":\\'1\\',\\'原因\\':\"召回结果符合原词条，召回结果使用了更可爱的名字\\'皮皮蛋\\'，但实质内容与原词条一致\" }',\n",
       " '{\"判断相符\":\\'3\\',\\'原因\\':\"召回结果和原词条完全不相符，原词条是干锅发菜，召回结果是干锅包心菜和小干炒，两者完全不同\" }',\n",
       " '{\"判断相符\":\\'2\\',\\'原因\\':\"召回结果部分满足原词条，原词条的范围更广，召回结果只是家常菜的一种\" }',\n",
       " '{\"判断相符\":\\'1\\',\\'原因\\':\"召回结果符合原词条，召回结果比原词条更具体，但核心内容一致\" }',\n",
       " '{\"判断相符\":\\'3\\',\\'原因\\':\"召回结果和原词条完全不相符，原词条是肉类菜品，召回结果是鱼类粥品\" }',\n",
       " '{\"判断相符\":\\'1\\',\\'原因\\':\"召回结果符合原词条，召回结果范围比原词条大，但是可以覆盖原词条\" }',\n",
       " '{\"判断相符\":\\'2\\',\\'原因\\':\"召回结果部分满足原词条，原词条是小青菜，召回结果是西兰花\" }',\n",
       " '{\"判断相符\":\\'1\\',\\'原因\\':\"召回结果符合原词条，召回结果使用了更可爱的名字\\'皮皮蛋\\'，但实质内容与原词条一致\"}',\n",
       " '{\"判断相符\":\\'1\\',\\'原因\\':\"召回结果完全符合原词条\" }',\n",
       " '{\"判断相符\":\\'3\\',\\'原因\\':\"召回结果和原词条完全不相符，原词条是喜青山约末日小草，召回结果是大力水手爱菠菜，两者无关联\" }',\n",
       " '{\"判断相符\":\\'1\\',\\'原因\\':\"召回结果符合原词条，召回结果比原词条多加了红豆，但基本覆盖了原词条的内容\" }',\n",
       " '{\"判断相符\":\\'2\\',\\'原因\\':\"召回结果部分满足原词条，原词条是包菜，召回结果是黄豆芽\" }',\n",
       " '{\"判断相符\":\\'1\\',\\'原因\\':\"召回结果符合原词条，召回结果比原词条大，但是和原词条相符\" }',\n",
       " '{\"判断相符\":\\'2\\',\\'原因\\':\"召回结果部分满足原词条，原词条是红枣花生，召回结果是红糖红枣枸杞，缺少花生但增加了红糖和枸杞\" }',\n",
       " '{\"判断相符\":\\'2\\',\\'原因\\':\"召回结果部分满足原词条，原词条是红豆汤，召回结果是红豆粥，汤和粥的形态不同\" }',\n",
       " '{\"判断相符\":\\'1\\',\\'原因\\':\"召回结果符合原词条，召回结果只是商家起的更可爱的名字，实质内容与原词条一致\" }',\n",
       " '{\"判断相符\":\\'3\\',\\'原因\\':\"召回结果和原词条完全不相符，原词条是香菜豆皮卷，召回结果是小葱虾皮炒玉米饼，两者成分和做法完全不同\" }',\n",
       " '{\"判断相符\":\\'2\\',\\'原因\\':\"召回结果部分满足原词条，原词条是紫菜蛋花汤，召回结果多了番茄\" }',\n",
       " '{\"判断相符\":\\'1\\',\\'原因\\':\"召回结果符合原词条，召回结果比原词条大，增加了香菇，但可以覆盖原词条\" }',\n",
       " '{\"判断相符\":\\'3\\',\\'原因\\':\"召回结果和原词条完全不相符，原词条是白菜烩嫩豆腐，召回结果是炒葱香干豆腐丝\" }',\n",
       " '{\"判断相符\":\\'1\\',\\'原因\\':\"召回结果符合原词条，虽然召回结果有额外的描述\\'小爆炒\\'，但主要内容\\'番茄炒鸡蛋\\'与原词条\\'家常番茄炒蛋\\'相符\" }',\n",
       " '{\"判断相符\":\\'1\\',\\'原因\\':\"召回结果符合原词条，完全一致\" }',\n",
       " '{\"判断相符\":\\'3\\',\\'原因\\':\"召回结果和原词条完全不相符，原词条是日式铁板炒卷心菜，召回结果是黄焖鸡和其他配菜\" }',\n",
       " '{\"判断相符\":\\'3\\',\\'原因\\':\"召回结果和原词条完全不相符，原词条是西封绕蛋，召回结果是福运八宝粥，两者内容完全不同\" }',\n",
       " '{\"判断相符\":\\'3\\',\\'原因\\':\"召回结果和原词条完全不相符，原词条是情菜肉小炒，召回结果是芸豆丝炒肉小份\" }',\n",
       " '{\"判断相符\":\\'1\\',\\'原因\\':\"召回结果符合原词条\" }',\n",
       " '{\"判断相符\":\\'1\\',\\'原因\\':\"召回结果符合原词条，召回结果比原词条多加了小米，但依然符合暖胃和南瓜粥的描述\" }',\n",
       " '{\"判断相符\":\\'3\\',\\'原因\\':\"召回结果和原词条完全不相符，原词条是鲜甜娃娃菜汤，召回结果是西红柿蛋花珍珠汤，两者成分完全不同\" }',\n",
       " '{\"判断相符\":\\'1\\',\\'原因\\':\"召回结果符合原词条，召回结果比原词条大，但是可以覆盖原词条\" }',\n",
       " '{\"判断相符\":\\'1\\',\\'原因\\':\"召回结果符合原词条，召回结果使用了更可爱的名字\\'皮皮蛋\\'，但实质内容与原词条一致\" }',\n",
       " '{\"判断相符\":\\'1\\',\\'原因\\':\"召回结果符合原词条，召回结果比原词条多加了红枣，但基本成分一致\" }',\n",
       " '{\"判断相符\":\\'1\\',\\'原因\\':\"召回结果符合原词条，召回结果比原词条更具体，但本质上是相同的菜品\" }',\n",
       " '{\"判断相符\":\\'2\\',\\'原因\\':\"召回结果部分满足原词条，原词条是赣杯鱼片，召回结果是生滚龙利鱼片粥，虽然都是鱼片，但做法和搭配不同\" }',\n",
       " '{\"判断相符\":\\'1\\',\\'原因\\':\"召回结果符合原词条，召回结果比原词条大，增加了红枣和小米，但是和原词条相符\" }',\n",
       " '{\"判断相符\":\\'1\\',\\'原因\\':\"召回结果符合原词条，完全一致\" }',\n",
       " '{\"判断相符\":\\'3\\',\\'原因\\':\"召回结果和原词条完全不相符，原词条是冬瓜鸡爪粥，召回结果是椰汁红豆百合莲子冰粥，两者在主要成分和风味上完全不同\" }',\n",
       " '{\"判断相符\":\\'1\\',\\'原因\\':\"召回结果符合原词条，召回结果比原词条大，但是和原词条相符\" }',\n",
       " '{\"判断相符\":\\'1\\',\\'原因\\':\"召回结果符合原词条，召回结果比原词条大，但是和原词条相符\" }',\n",
       " '{\"判断相符\":\\'1\\',\\'原因\\':\"召回结果符合原词条，召回结果的范围比原词条大，但是可以覆盖原词条\" }',\n",
       " '{\"判断相符\":\\'1\\',\\'原因\\':\"召回结果符合原词条，召回结果比原词条多加了肉末，但基本覆盖原词条\" }',\n",
       " '{\"判断相符\":\\'1\\',\\'原因\\':\"召回结果符合原词条，召回结果比原词条大，增加了紫米，但整体上与原词条相符\"}',\n",
       " '{\"判断相符\":\\'1\\',\\'原因\\':\"召回结果符合原词条，召回结果比原词条多了红糖，但主要成分一致\" }',\n",
       " '{\"判断相符\":\\'1\\',\\'原因\\':\"召回结果符合原词条，虽然名称有所不同，但内容实质相同，都是老鸭汤和粉丝的组合\" }',\n",
       " '{\"判断相符\":\\'1\\',\\'原因\\':\"召回结果符合原词条，召回结果比原词条大，增加了玉米，但是和原词条相符\" }',\n",
       " '{\"判断相符\":\\'3\\',\\'原因\\':\"召回结果和原词条完全不相符，原词条是山芋肉末热粥，召回结果是椰汁红豆百合莲子冰粥，两者在主要成分和温度上完全不同\" }',\n",
       " '{\"判断相符\":\\'1\\',\\'原因\\':\"召回结果符合原词条，召回结果比原词条多了一个炒的步骤，但基本内容一致\" }',\n",
       " '{\"判断相符\":\\'2\\',\\'原因\\':\"召回结果部分满足原词条，原词条的是菜肉粥，召回结果是瘦肉粥送咸菜，缺少了菜肉粥中的菜肉部分\" }',\n",
       " '{\"判断相符\":\\'3\\',\\'原因\\':\"召回结果和原词条完全不相符，原词条是汤，召回结果是粥\" }',\n",
       " '{\"判断相符\":\\'1\\',\\'原因\\':\"召回结果符合原词条，召回结果比原词条大，包含了原词条的所有元素\" }',\n",
       " '{\"判断相符\":\\'2\\',\\'原因\\':\"召回结果部分满足原词条，原词条是片面，召回结果没有片面\" }',\n",
       " '{\"判断相符\":\\'1\\',\\'原因\\':\"召回结果符合原词条，召回结果比原词条更具体，但覆盖了原词条的内容\" }',\n",
       " '{\"判断相符\":\\'2\\',\\'原因\\':\"召回结果部分满足原词条，原词条的是肉末粥，召回结果是砂锅粥\" }',\n",
       " '{\"判断相符\":\\'1\\',\\'原因\\':\"召回结果符合原词条，召回结果比原词条更具体，但核心内容一致\" }',\n",
       " '{\"判断相符\":\\'1\\',\\'原因\\':\"召回结果符合原词条，召回结果比原词条多了一些内容，但可以覆盖原词条\" }',\n",
       " '{\"判断相符\":\\'1\\',\\'原因\\':\"召回结果符合原词条，召回结果比原词条多了一个\\'鲜炒\\'，但整体相符\" }',\n",
       " '{\"判断相符\":\\'2\\',\\'原因\\':\"召回结果部分满足原词条，原词条是八卦豆腐，召回结果包含了豆腐但增加了砂锅笋衣炖台州等额外信息\" }',\n",
       " '{\"判断相符\":\\'1\\',\\'原因\\':\"召回结果符合原词条，召回结果比原词条大，增加了木耳，但基本元素黄瓜和鸡蛋都包含在内\" }',\n",
       " '{\"判断相符\":\\'2\\',\\'原因\\':\"召回结果部分满足原词条，原词条是酒，召回结果是粥\" }',\n",
       " '{\"判断相符\":\\'2\\',\\'原因\\':\"召回结果部分满足原词条，原词条是黑米杂粮粥，召回结果是红豆小米粥，虽然都是粥但主料不同\" }',\n",
       " '{\"判断相符\":\\'3\\',\\'原因\\':\"召回结果和原词条完全不相符，原词条是学宵打会粥，召回结果是生滚靓白粥，两者无关联\" }',\n",
       " '{\"判断相符\":\\'2\\',\\'原因\\':\"召回结果部分满足原词条，召回结果多了红枣和南瓜，少了红桃\"}',\n",
       " '{\"判断相符\":\\'1\\',\\'原因\\':\"召回结果符合原词条，召回结果只是商家起的更可爱的名字，实质内容与原词条一致\" }',\n",
       " '{\"判断相符\":\\'1\\',\\'原因\\':\"召回结果符合原词条，召回结果比原词条大，增加了木耳，但基本覆盖原词条\" }',\n",
       " '{\"判断相符\":\\'1\\',\\'原因\\':\"召回结果符合原词条，召回结果的范围与原词条相符，只是表述方式略有不同\" }',\n",
       " '{\"判断相符\":\\'2\\',\\'原因\\':\"召回结果部分满足原词条，原词条的是养胃山药粥，召回结果多了排骨\" }',\n",
       " '{\"判断相符\":\\'2\\',\\'原因\\':\"召回结果部分满足原词条，召回结果少了杨梅，但多了红枣和红糖\" }',\n",
       " '{\"判断相符\":\\'3\\',\\'原因\\':\"召回结果和原词条完全不相符，原词条是笋干和丝瓜，召回结果是土豆、黄瓜和蚬肉\" }',\n",
       " '{\"判断相符\":\\'1\\',\\'原因\\':\"召回结果符合原词条，完全一致\" }',\n",
       " '{\"判断相符\":\\'1\\',\\'原因\\':\"召回结果符合原词条，召回结果和原词条完全一致，只是顺序不同\" }',\n",
       " '{\"判断相符\":\\'2\\',\\'原因\\':\"召回结果部分满足原词条，召回结果多了干贝，少了土鸡\" }',\n",
       " '{\"判断相符\":\\'2\\',\\'原因\\':\"召回结果部分满足原词条，原词条的是鸡蛋，召回结果是土豆，\" }',\n",
       " '{\"判断相符\":\\'1\\',\\'原因\\':\"召回结果符合原词条，召回结果范围比原词条大，但可以覆盖原词条\" }',\n",
       " '{\"判断相符\":\\'1\\',\\'原因\\':\"召回结果符合原词条，完全一致\" }',\n",
       " '{\"判断相符\":\\'3\\',\\'原因\\':\"召回结果和原词条完全不相符，原词条是永盛通，召回结果是福运八宝粥\" }',\n",
       " '{\"判断相符\":\\'1\\',\\'原因\\':\"召回结果符合原词条，召回结果比原词条大，但是可以覆盖原词条\" }',\n",
       " '{\"判断相符\":\\'2\\',\\'原因\\':\"召回结果部分满足原词条，召回结果少了杂粮和咸味，增加了银耳和雪梨\" }',\n",
       " '{\"判断相符\":\\'1\\',\\'原因\\':\"召回结果符合原词条，召回结果比原词条更具体，但核心内容相符\" }',\n",
       " '{\"判断相符\":\\'1\\',\\'原因\\':\"召回结果符合原词条，召回结果比原词条更具体，但核心内容一致\" }',\n",
       " '{\"判断相符\":\\'1\\',\\'原因\\':\"召回结果符合原词条，召回结果比原词条更具体，但口味和范围与原词条相符\"}',\n",
       " '{\"判断相符\":\\'1\\',\\'原因\\':\"召回结果符合原词条，召回结果比原词条具体，但可以覆盖原词条\" }',\n",
       " '{\"判断相符\":\\'1\\',\\'原因\\':\"召回结果符合原词条，完全一致\" }',\n",
       " '{\"判断相符\":\\'3\\',\\'原因\\':\"召回结果和原词条完全不相符，原词条是臭肉粥，召回结果是香菇廋肉粥，两者主要成分和风味完全不同\" }',\n",
       " '{\"判断相符\":\\'3\\',\\'原因\\':\"召回结果和原词条完全不相符，原词条和召回结果在内容和概念上没有任何关联\" }',\n",
       " '{\"判断相符\":\\'1\\',\\'原因\\':\"召回结果完全符合原词条\" }',\n",
       " '{\"判断相符\":\\'1\\',\\'原因\\':\"召回结果符合原词条\" }',\n",
       " '{\"判断相符\":\\'1\\',\\'原因\\':\"召回结果符合原词条，召回结果比原词条更具体，但可以覆盖原词条\" }',\n",
       " '{\"判断相符\":\\'1\\',\\'原因\\':\"召回结果符合原词条，召回结果的范围比原词条大一些，但可以覆盖原词条\" }',\n",
       " '{\"判断相符\":\\'2\\',\\'原因\\':\"召回结果部分满足原词条，原词条是清炒小白菜，召回结果多了鹅蛋和小葱\" }',\n",
       " '{\"判断相符\":\\'1\\',\\'原因\\':\"召回结果符合原词条，召回结果的范围比原词条大，但可以覆盖原词条\" }',\n",
       " '{\"判断相符\":\\'2\\',\\'原因\\':\"召回结果部分满足原词条，原词条是牛腩，召回结果是排骨\" }',\n",
       " '{\"判断相符\":\\'1\\',\\'原因\\':\"召回结果符合原词条，召回结果比原词条大，但是和原词条相符，都是补血滋补的粥\" }',\n",
       " '{\"判断相符\":\\'1\\',\\'原因\\':\"召回结果符合原词条，召回结果使用了更可爱的名字\\'皮皮蛋\\'，但实质内容与原词条一致\"}',\n",
       " '{\"判断相符\":\\'1\\',\\'原因\\':\"召回结果符合原词条，召回结果的范围比原词条大，包含了原词条的鸡汤面，且增加了其他配料，但整体符合原词条\" }',\n",
       " '{\"判断相符\":\\'1\\',\\'原因\\':\"召回结果符合原词条，召回结果比原词条多了一个前缀，但本质上是相同的八宝粥\" }',\n",
       " '{\"判断相符\":\\'3\\',\\'原因\\':\"召回结果和原词条完全不相符，原词条是地瓜肘，召回结果是南瓜小碴粥\" }',\n",
       " '{\"判断相符\":\\'3\\',\\'原因\\':\"召回结果和原词条完全不相符，原词条是红烧应子，召回结果是炝炒雪里红\" }',\n",
       " '{\"判断相符\":\\'2\\',\\'原因\\':\"召回结果部分满足原词条，原词条的是婴儿莲子粥，召回结果多了百合和绿豆\" }',\n",
       " '{\"判断相符\":\\'3\\',\\'原因\\':\"召回结果和原词条完全不相符，原词条是肉类菜品，召回结果是鱼类粥品\" }',\n",
       " '{\"判断相符\":\\'1\\',\\'原因\\':\"召回结果符合原词条，召回结果比原词条多加了肉末，但基本覆盖原词条\" }',\n",
       " '{\"判断相符\":\\'1\\',\\'原因\\':\"召回结果符合原词条，召回结果比原词条大，但是和原词条相符\" }',\n",
       " '{\"判断相符\":\\'1\\',\\'原因\\':\"召回结果符合原词条，召回结果比原词条多加了肉末，但基本覆盖原词条\" }',\n",
       " '{\"判断相符\":\\'1\\',\\'原因\\':\"召回结果符合原词条，召回结果只是商家起的更可爱的名字，内容与原词条一致\" }',\n",
       " '{\"判断相符\":\\'2\\',\\'原因\\':\"召回结果部分满足原词条，原词条的是山羊瘦肉粥，召回结果是用山药和青菜替代了山羊，部分成分不符\" }',\n",
       " '{\"判断相符\":\\'2\\',\\'原因\\':\"召回结果部分满足原词条，原词条是青菜牛肉，召回结果多了秋葵和青椒\" }',\n",
       " '{\"判断相符\":\\'1\\',\\'原因\\':\"召回结果符合原词条，召回结果比原词条大，增加了木耳，但可以覆盖原词条\" }',\n",
       " '{\"判断相符\":\\'3\\',\\'原因\\':\"召回结果和原词条完全不相符，原词条是小炒肉，召回结果是粥\" }',\n",
       " '{\"判断相符\":\\'2\\',\\'原因\\':\"召回结果部分满足原词条，原词条是红枣绿豆甜汤，召回结果是红糖红枣红豆粥，虽然都是甜汤类，但主要成分不完全一致\" }',\n",
       " '{\"判断相符\":\\'2\\',\\'原因\\':\"召回结果部分满足原词条，原词条是热汤面，召回结果是挂面鸡蛋汤，缺少了面的热汤部分\" }',\n",
       " '{\"判断相符\":\\'2\\',\\'原因\\':\"召回结果部分满足原词条，原词条是泡饭，召回结果是汤，且召回结果少了鸡汤\" }',\n",
       " '{\"判断相符\":\\'2\\',\\'原因\\':\"召回结果部分满足原词条，原词条是萱虾烩白菜，召回结果是虾滑白菜炖豆腐，缺少了萱虾，增加了豆腐\" }',\n",
       " '{\"判断相符\":\\'3\\',\\'原因\\':\"召回结果和原词条完全不相符，原词条是鲜鱼豆腐煲，召回结果是鲍鱼海参鱼片粥，食材完全不同\" }',\n",
       " '{\"判断相符\":\\'2\\',\\'原因\\':\"召回结果部分满足原词条，原词条的是麻哥，召回结果是芝麻\" }',\n",
       " '{\"判断相符\":\\'3\\',\\'原因\\':\"召回结果和原词条完全不相符，原词条是牙，召回结果是传统大碴粥，两者无任何关联\"}',\n",
       " '{\"判断相符\":\\'1\\',\\'原因\\':\"召回结果符合原词条，虽然召回结果使用了\\'什锦香葱\\'这样的描述，但本质上都是蛋炒饭，可以覆盖原词条\" }',\n",
       " '{\"判断相符\":\\'2\\',\\'原因\\':\"召回结果部分满足原词条，召回结果少了花生和杂粮，但增加了小米、红糖和南瓜\" }',\n",
       " '{\"判断相符\":\\'1\\',\\'原因\\':\"召回结果符合原词条，召回结果比原词条大，但是可以覆盖原词条\" }',\n",
       " '{\"判断相符\":\\'1\\',\\'原因\\':\"召回结果符合原词条，召回结果范围比原词条大，但是可以覆盖原词条\" }',\n",
       " '{\"判断相符\":\\'1\\',\\'原因\\':\"召回结果符合原词条，召回结果比原词条大，但是和原词条相符\" }',\n",
       " '{\"判断相符\":\\'2\\',\\'原因\\':\"召回结果部分满足原词条，原词条是小米粥，召回结果多了糯米\" }',\n",
       " '{\"判断相符\":\\'1\\',\\'原因\\':\"召回结果符合原词条，召回结果使用了更可爱的名字\\'皮皮蛋\\'，但实质内容与原词条一致\"}',\n",
       " '{\"判断相符\":\\'1\\',\\'原因\\':\"召回结果符合原词条，召回结果比原词条大，但是和原词条相符\" }',\n",
       " '{\"判断相符\":\\'2\\',\\'原因\\':\"召回结果部分满足原词条，原词条的是养胃粥，召回结果是补血粥，且召回结果少了栗子\" }',\n",
       " '{\"判断相符\":\\'2\\',\\'原因\\':\"召回结果部分满足原词条，原词条是酸溜大白菜，召回结果是老醋里脊白菜，虽然都包含白菜，但主料和做法有所不同\"}',\n",
       " '{\"判断相符\":\\'2\\',\\'原因\\':\"召回结果部分满足原词条，原词条没有提到大葱，召回结果多了大葱\" }',\n",
       " '{\"判断相符\":\\'1\\',\\'原因\\':\"召回结果符合原词条，虽然顺序不同，但材料完全一致\" }',\n",
       " '{\"判断相符\":\\'3\\',\\'原因\\':\"召回结果和原词条完全不相符，原词条是甘肃小锅菜心，召回结果是正宗沂蒙炒鸡加土豆片\" }',\n",
       " '{\"判断相符\":\\'1\\',\\'原因\\':\"召回结果符合原词条，召回结果比原词条大，增加了干贝，但是和原词条相符\" }',\n",
       " '{\"判断相符\":\\'1\\',\\'原因\\':\"召回结果符合原词条，召回结果比原词条更具体，但内容相符\" }',\n",
       " '{\"判断相符\":\\'1\\',\\'原因\\':\"召回结果符合原词条，召回结果比原词条大，但是和原词条相符\" }',\n",
       " '{\"判断相符\":\\'1\\',\\'原因\\':\"召回结果符合原词条，召回结果比原词条大，但是可以覆盖原词条\" }',\n",
       " '{\"判断相符\":\\'2\\',\\'原因\\':\"召回结果部分满足原词条，召回结果多了番茄，但基本覆盖原词条\" }',\n",
       " '{\"判断相符\":\\'2\\',\\'原因\\':\"召回结果部分满足原词条，原词条的是菜粉丝汤，召回结果多了牛肉和青菜\" }',\n",
       " '{\"判断相符\":\\'3\\',\\'原因\\':\"召回结果和原词条完全不相符\" }',\n",
       " '{\"判断相符\":\\'1\\',\\'原因\\':\"召回结果符合原词条，召回结果范围比原词条大，可以覆盖原词条\" }',\n",
       " '{\"判断相符\":\\'1\\',\\'原因\\':\"召回结果符合原词条，召回结果的范围比原词条大一些，但口味和原词条一致\" }',\n",
       " '{\"判断相符\":\\'1\\',\\'原因\\':\"召回结果符合原词条，召回结果使用了更可爱的名字\\'皮皮蛋\\'，但实质内容与原词条一致\" }',\n",
       " '{\"判断相符\":\\'1\\',\\'原因\\':\"召回结果符合原词条，召回结果比原词条多加了冰糖，但整体相符\" }',\n",
       " '{\"判断相符\":\\'2\\',\\'原因\\':\"召回结果部分满足原词条，原词条的是大干，召回结果是大豆腐\" }',\n",
       " '{\"判断相符\":\\'1\\',\\'原因\\':\"召回结果符合原词条，虽然召回结果中皮蛋的名字略有变化，但实质内容与原词条一致\" }',\n",
       " '{\"判断相符\":\\'1\\',\\'原因\\':\"召回结果符合原词条，召回结果使用了更可爱的名字\\'皮皮蛋\\'，但实质内容与原词条一致\" }',\n",
       " '{\"判断相符\":\\'3\\',\\'原因\\':\"召回结果和原词条完全不相符，原词条是韭菜香干小草，召回结果是虫草花拌菠菜，两者食材完全不同\" }',\n",
       " '{\"判断相符\":\\'1\\',\\'原因\\':\"召回结果符合原词条，完全一致\" }',\n",
       " '{\"判断相符\":\\'3\\',\\'原因\\':\"召回结果和原词条完全不相符\" }',\n",
       " '{\"判断相符\":\\'2\\',\\'原因\\':\"召回结果部分满足原词条，原词条是蒸的瘦肉，召回结果是猪肉粥，烹饪方式和主料有差异\"}',\n",
       " '{\"判断相符\":\\'1\\',\\'原因\\':\"召回结果符合原词条，召回结果的范围可以比原词条的大一些，口味可以不一致，但基本概念相符\" }',\n",
       " '{\"判断相符\":\\'2\\',\\'原因\\':\"召回结果部分满足原词条，原词条是萝卜炖海带汤，召回结果是苦瓜海带炖龙骨，少了萝卜多了苦瓜和龙骨\" }',\n",
       " '{\"判断相符\":\\'2\\',\\'原因\\':\"召回结果部分满足原词条，原词条包含豆角，召回结果没有豆角但有尖椒\" }',\n",
       " '{\"判断相符\":\\'3\\',\\'原因\\':\"召回结果和原词条完全不相符，原词条是麻将拌全能蔬菜，召回结果是胡油韭菜炒鸡蛋半份菜\" }',\n",
       " '{\"判断相符\":\\'2\\',\\'原因\\':\"召回结果部分满足原词条，原词条是小草，召回结果是锡纸娃娃菜\" }',\n",
       " '{\"判断相符\":\\'1\\',\\'原因\\':\"召回结果符合原词条，召回结果比原词条大，但是和原词条相符\" }',\n",
       " '{\"判断相符\":\\'1\\',\\'原因\\':\"召回结果符合原词条\" }',\n",
       " '{\"判断相符\":\\'3\\',\\'原因\\':\"召回结果和原词条完全不相符，原词条是鲜香浇白粉，召回结果是蛋加瘦肉炒粉\" }',\n",
       " '{\"判断相符\":\\'1\\',\\'原因\\':\"召回结果符合原词条，召回结果比原词条大，增加了木耳，但是可以覆盖原词条\" }',\n",
       " '{\"判断相符\":\\'3\\',\\'原因\\':\"召回结果和原词条完全不相符，原词条是鱼头豆腐汤，召回结果是鲍鱼海参鱼片粥\" }',\n",
       " '{\"判断相符\":\\'1\\',\\'原因\\':\"召回结果符合原词条，召回结果比原词条大，增加了红枣，但基本元素南瓜和小米粥都包含在内\" }',\n",
       " '{\"判断相符\":\\'2\\',\\'原因\\':\"召回结果部分满足原词条，召回结果比原词条多了黄瓜和西红柿，但基本符合原词条的紫菜和蛋花汤\" }',\n",
       " '{\"判断相符\":\\'1\\',\\'原因\\':\"召回结果符合原词条，召回结果的范围比原词条大一些，但可以覆盖原词条\" }',\n",
       " '{\"判断相符\":\\'1\\',\\'原因\\':\"召回结果符合原词条，召回结果比原词条大，但是可以覆盖原词条\" }',\n",
       " '{\"判断相符\":\\'2\\',\\'原因\\':\"召回结果部分满足原词条，原词条是面食，召回结果是素面汤，虽然都是面食类，但具体类型不一致\"}',\n",
       " '{\"判断相符\":\\'1\\',\\'原因\\':\"召回结果符合原词条，召回结果比原词条大，但是可以覆盖原词条\" }',\n",
       " '{\"判断相符\":\\'1\\',\\'原因\\':\"召回结果符合原词条，召回结果比原词条更具体，但和原词条相符\" }',\n",
       " '{\"判断相符\":\\'3\\',\\'原因\\':\"召回结果和原词条完全不相符，原词条是番茄滑蛋，召回结果是番茄鸡蛋牛肉粥，成分和形态都不相符\" }',\n",
       " '{\"判断相符\":\\'1\\',\\'原因\\':\"召回结果符合原词条，召回结果比原词条多了一个\\'盖\\'字，但整体意思相符\" }',\n",
       " '{\"判断相符\":\\'1\\',\\'原因\\':\"召回结果符合原词条，召回结果比原词条多了枸杞，但主要成分一致\" }',\n",
       " '{\"判断相符\":\\'3\\',\\'原因\\':\"召回结果和原词条完全不相符，原词条包含辣月粉，召回结果完全没有提到\" }',\n",
       " '{\"判断相符\":\\'3\\',\\'原因\\':\"召回结果和原词条完全不相符，原词条是皮蛋瘦肉粥，召回结果是鲍鱼海参鱼片粥\" }',\n",
       " '{\"判断相符\":\\'2\\',\\'原因\\':\"召回结果部分满足原词条，原词条的是汤面，召回结果是没有面，\" }',\n",
       " '{\"判断相符\":\\'1\\',\\'原因\\':\"召回结果符合原词条，召回结果比原词条更具体，但本质相同\" }',\n",
       " '{\"判断相符\":\\'1\\',\\'原因\\':\"召回结果符合原词条，虽然召回结果的名称更具体，但内容和原词条相符\" }',\n",
       " '{\"判断相符\":\\'2\\',\\'原因\\':\"召回结果部分满足原词条，原词条是萝卜炖大骨汤，召回结果多了玉米和胡萝卜，但基本覆盖了原词条的主要成分\" }',\n",
       " '{\"判断相符\":\\'2\\',\\'原因\\':\"召回结果部分满足原词条，原词条的是肉末，召回结果是鸡肉胡萝卜，虽然都有青菜和粥，但主要配料不完全一致\"}',\n",
       " '{\"判断相符\":\\'2\\',\\'原因\\':\"召回结果部分满足原词条，原词条是青椒炒豆干，召回结果是炒葱香干豆腐丝，豆干和豆腐丝相似，但青椒和葱不同\" }',\n",
       " '{\"判断相符\":\\'1\\',\\'原因\\':\"召回结果符合原词条，召回结果比原词条大，但是和原词条相符\" }',\n",
       " '{\"判断相符\":\\'3\\',\\'原因\\':\"召回结果和原词条完全不相符，原词条是热汤，召回结果是粥\" }',\n",
       " '{\"判断相符\":\\'1\\',\\'原因\\':\"召回结果符合原词条，召回结果范围比原词条大，但可以覆盖原词条，高汤和西红柿是对原词条酸香和番茄的扩展或同义替换\"}',\n",
       " '{\"判断相符\":\\'1\\',\\'原因\\':\"召回结果符合原词条，完全匹配\" }',\n",
       " '{\"判断相符\":\\'3\\',\\'原因\\':\"召回结果和原词条完全不相符，原词条是肉丸，召回结果是粥\" }',\n",
       " '{\"判断相符\":\\'2\\',\\'原因\\':\"召回结果部分满足原词条，原词条是紫松茸，召回结果是黑松露，虽然都是蘑菇类，但种类不同\"}',\n",
       " '{\"判断相符\":\\'1\\',\\'原因\\':\"召回结果符合原词条，召回结果比原词条大，增加了红枣，但是和原词条相符\" }',\n",
       " '{\"判断相符\":\\'1\\',\\'原因\\':\"召回结果符合原词条，完全一致\" }',\n",
       " '{\"判断相符\":\\'1\\',\\'原因\\':\"召回结果符合原词条，召回结果比原词条大，但是可以覆盖原词条\" }',\n",
       " '{\"判断相符\":\\'1\\',\\'原因\\':\"召回结果符合原词条，召回结果比原词条多加了红枣，但依然符合养生粥的范畴\" }',\n",
       " '{\"判断相符\":\\'1\\',\\'原因\\':\"召回结果符合原词条，召回结果使用了更可爱的名字\\'皮皮蛋\\'，但指的是同一种食材\"}',\n",
       " '{\"判断相符\":\\'1\\',\\'原因\\':\"召回结果符合原词条\" }',\n",
       " '{\"判断相符\":\\'1\\',\\'原因\\':\"召回结果符合原词条，召回结果比原词条多了一个\\'花\\'字，但整体意思与原词条一致\" }',\n",
       " '{\"判断相符\":\\'1\\',\\'原因\\':\"召回结果符合原词条，召回结果和原词条描述的是同一种食物，只是表述方式不同\" }',\n",
       " '{\"判断相符\":\\'1\\',\\'原因\\':\"召回结果符合原词条，完全匹配\" }',\n",
       " '{\"判断相符\":\\'1\\',\\'原因\\':\"召回结果符合原词条，召回结果比原词条更具体，但核心内容一致\" }',\n",
       " '{\"判断相符\":\\'1\\',\\'原因\\':\"召回结果符合原词条，召回结果比原词条大，增加了清远鸡，但是和原词条相符\" }',\n",
       " '{\"判断相符\":\\'2\\',\\'原因\\':\"召回结果部分满足原词条，原词条是香滑皮蛋瘦肉粥，召回结果是皮蛋香菇瘦肉粥，多了香菇\" }',\n",
       " '{\"判断相符\":\\'1\\',\\'原因\\':\"召回结果符合原词条，召回结果比原词条大，但是可以覆盖原词条\" }',\n",
       " '{\"判断相符\":\\'1\\',\\'原因\\':\"召回结果完全符合原词条\" }',\n",
       " '{\"判断相符\":\\'1\\',\\'原因\\':\"召回结果符合原词条，召回结果比原词条多加了玉米，但可以覆盖原词条\" }',\n",
       " '{\"判断相符\":\\'3\\',\\'原因\\':\"召回结果和原词条完全不相符，原词条是豆腐包，召回结果是干豆腐炒土豆粉\" }',\n",
       " '{\"判断相符\":\\'3\\',\\'原因\\':\"召回结果和原词条完全不相符，原词条是绿豆帘子，召回结果是绿色小青菜\" }',\n",
       " '{\"判断相符\":\\'2\\',\\'原因\\':\"召回结果部分满足原词条，召回结果多了番茄，但基本覆盖了原词条的内容\" }',\n",
       " '{\"判断相符\":\\'1\\',\\'原因\\':\"召回结果符合原词条，召回结果的范围比原词条大，但可以覆盖原词条\" }',\n",
       " '{\"判断相符\":\\'1\\',\\'原因\\':\"召回结果符合原词条，召回结果比原词条多加了肉末，但基本覆盖原词条\" }',\n",
       " '{\"判断相符\":\\'2\\',\\'原因\\':\"召回结果部分满足原词条，原词条是鸡汤，召回结果是鸭汤\" }',\n",
       " '{\"判断相符\":\\'2\\',\\'原因\\':\"召回结果部分满足原词条，原词条的是肉末豆腐，召回结果是白菜豆腐，缺少了肉末\" }',\n",
       " '{\"判断相符\":\\'3\\',\\'原因\\':\"召回结果和原词条完全不相符，原词条是紫菜和嫩黄瓜，召回结果是小南瓜和牛肉\" }',\n",
       " '{\"判断相符\":\\'1\\',\\'原因\\':\"召回结果符合原词条，召回结果比原词条大，但是和原词条相符\" }',\n",
       " '{\"判断相符\":\\'2\\',\\'原因\\':\"召回结果部分满足原词条，召回结果多了鲜虾，但排骨和芋头与原词条相符\" }',\n",
       " '{\"判断相符\":\\'1\\',\\'原因\\':\"召回结果符合原词条，召回结果只是商家起的更可爱的名字，内容与原词条一致\" }',\n",
       " '{\"判断相符\":\\'2\\',\\'原因\\':\"召回结果部分满足原词条，原词条的是西葫芦小炒，召回结果增加了西红柿\" }',\n",
       " '{\"判断相符\":\\'1\\',\\'原因\\':\"召回结果符合原词条，召回结果和原词条相符，只是甜味来源的描述不同\" }',\n",
       " '{\"判断相符\":\\'1\\',\\'原因\\':\"召回结果符合原词条，召回结果的范围和原词条相符，只是表述方式不同\" }',\n",
       " '{\"判断相符\":\\'1\\',\\'原因\\':\"召回结果符合原词条，召回结果比原词条大，但是和原词条相符\" }',\n",
       " '{\"判断相符\":\\'2\\',\\'原因\\':\"召回结果部分满足原词条，原词条是小米粥，召回结果增加了糯米\" }',\n",
       " '{\"判断相符\":\\'3\\',\\'原因\\':\"召回结果和原词条完全不相符，原词条是皮蛋和香米，召回结果是玉米和排骨\" }',\n",
       " '{\"判断相符\":\\'1\\',\\'原因\\':\"召回结果符合原词条，召回结果中的大枣和红糖可以视为红枣的变体或补充，整体上覆盖了原词条的内容\" }',\n",
       " '{\"判断相符\":\\'2\\',\\'原因\\':\"召回结果部分满足原词条，原词条的是家常紫菜蛋汤，召回结果多了西红柿\" }',\n",
       " '{\"判断相符\":\\'1\\',\\'原因\\':\"召回结果符合原词条，召回结果比原词条大，但是和原词条相符\" }',\n",
       " '{\"判断相符\":\\'1\\',\\'原因\\':\"召回结果符合原词条，召回结果和原词条相符，只是词语顺序不同\" }',\n",
       " '{\"判断相符\":\\'1\\',\\'原因\\':\"召回结果符合原词条，五谷杂粮饭可以覆盖双色杂粮饭的范围\" }',\n",
       " '{\"判断相符\":\\'1\\',\\'原因\\':\"召回结果符合原词条，召回结果比原词条更具体，但内容相符\" }',\n",
       " '{\"判断相符\":\\'1\\',\\'原因\\':\"召回结果符合原词条，召回结果比原词条多加了南瓜，但基本成分一致\" }',\n",
       " '{\"判断相符\":\\'1\\',\\'原因\\':\"召回结果符合原词条，召回结果比原词条大，但是可以覆盖原词条\" }',\n",
       " '{\"判断相符\":\\'1\\',\\'原因\\':\"召回结果符合原词条，召回结果使用了更可爱的名字\\'皮皮蛋\\'，但实质内容与原词条一致\"}',\n",
       " '{\"判断相符\":\\'1\\',\\'原因\\':\"召回结果符合原词条，召回结果比原词条大，但是可以覆盖原词条\" }',\n",
       " '{\"判断相符\":\\'1\\',\\'原因\\':\"召回结果符合原词条，召回结果使用了更可爱的名字\\'皮皮蛋\\'，但实质内容与原词条一致\"}',\n",
       " '{\"判断相符\":\\'1\\',\\'原因\\':\"召回结果符合原词条，召回结果的范围比原词条大一些，但可以覆盖原词条\" }',\n",
       " '{\"判断相符\":\\'2\\',\\'原因\\':\"召回结果部分满足原词条，原词条是三鲜南瓜两米粥，召回结果是红枣小米红糖南瓜粥，缺少了三鲜和两米，增加了红枣和红糖\" }',\n",
       " '{\"判断相符\":\\'1\\',\\'原因\\':\"召回结果符合原词条，完全匹配\" }',\n",
       " '{\"判断相符\":\\'1\\',\\'原因\\':\"召回结果符合原词条，召回结果的范围比原词条大，包含了韭菜炒蛋和韭黄炒蛋，可以覆盖原词条的韭菜鸡蛋小炒\" }',\n",
       " '{\"判断相符\":\\'1\\',\\'原因\\':\"召回结果符合原词条，召回结果比原词条多加了玉米，但小米和南瓜都在召回结果中\" }',\n",
       " '{\"判断相符\":\\'1\\',\\'原因\\':\"召回结果符合原词条，召回结果比原词条大，但是和原词条相符\" }',\n",
       " '{\"判断相符\":\\'1\\',\\'原因\\':\"召回结果符合原词条\" }',\n",
       " '{\"判断相符\":\\'1\\',\\'原因\\':\"召回结果符合原词条，召回结果比原词条大，增加了榨菜，但基本覆盖原词条\" }',\n",
       " '{\"判断相符\":\\'1\\',\\'原因\\':\"召回结果符合原词条，召回结果比原词条更具体，但可以覆盖原词条\" }',\n",
       " '{\"判断相符\":\\'1\\',\\'原因\\':\"召回结果符合原词条，虽然顺序不同，但所有成分都一致\" }',\n",
       " '{\"判断相符\":\\'2\\',\\'原因\\':\"召回结果部分满足原词条，原词条的是端午鸡，召回结果是乌鸡，虽然都是鸡类，但种类不同\" }',\n",
       " '{\"判断相符\":\\'1\\',\\'原因\\':\"召回结果符合原词条，召回结果比原词条多加了肉末，但可以覆盖原词条\" }',\n",
       " '{\"判断相符\":\\'3\\',\\'原因\\':\"召回结果和原词条完全不相符，原词条是腊肠，召回结果是腊八粥\" }',\n",
       " '{\"判断相符\":\\'1\\',\\'原因\\':\"召回结果符合原词条，召回结果和原词条相符，只是表述方式略有不同\" }',\n",
       " '{\"判断相符\":\\'1\\',\\'原因\\':\"召回结果符合原词条，召回结果比原词条具体，但整体相符\" }',\n",
       " '{\"判断相符\":\\'1\\',\\'原因\\':\"召回结果符合原词条，召回结果比原词条大，但是和原词条相符\" }',\n",
       " '{\"判断相符\":\\'1\\',\\'原因\\':\"召回结果符合原词条，召回结果的范围可以比原词条的大一些，口味可以不一致，且\\'爽口什锦小菜\\'可以覆盖\\'清爽小炒素什锦\\'的概念\"}',\n",
       " '{\"判断相符\":\\'3\\',\\'原因\\':\"召回结果和原词条完全不相符，原词条是软面食，召回结果是豆棍小碗菜\" }',\n",
       " '{\"判断相符\":\\'1\\',\\'原因\\':\"召回结果符合原词条，召回结果比原词条大，增加了木耳，但是可以覆盖原词条\" }',\n",
       " '{\"判断相符\":\\'2\\',\\'原因\\':\"召回结果部分满足原词条，原词条是蒜香，召回结果是锅香\" }',\n",
       " '{\"判断相符\":\\'3\\',\\'原因\\':\"召回结果和原词条完全不相符，原词条是白菜豆腐火锅，召回结果是小碗牛肉炖老豆腐\" }',\n",
       " '{\"判断相符\":\\'1\\',\\'原因\\':\"召回结果符合原词条，召回结果比原词条大，但是和原词条相符\" }',\n",
       " '{\"判断相符\":\\'3\\',\\'原因\\':\"召回结果和原词条完全不相符，原词条是关于面食，召回结果是关于粥\" }',\n",
       " '{\"判断相符\":\\'2\\',\\'原因\\':\"召回结果部分满足原词条，原词条是热腐粥，召回结果是瘦肉粥\" }',\n",
       " '{\"判断相符\":\\'1\\',\\'原因\\':\"召回结果符合原词条，虽然召回结果的名字有小酸甜的描述，但基本内容和原词条一致\" }',\n",
       " '{\"判断相符\":\\'1\\',\\'原因\\':\"召回结果符合原词条，召回结果比原词条大，但是可以覆盖原词条\" }',\n",
       " '{\"判断相符\":\\'2\\',\\'原因\\':\"召回结果部分满足原词条，原词条是养胃粥，召回结果是补血粥，虽然都含有红枣，但主要功效不同\" }',\n",
       " '{\"判断相符\":\\'1\\',\\'原因\\':\"召回结果符合原词条，完全一致\" }',\n",
       " '{\"判断相符\":\\'2\\',\\'原因\\':\"召回结果部分满足原词条，原词条是鱼头，召回结果是鱼片，虽然都是鱼相关，但具体部位不同\"}',\n",
       " '{\"判断相符\":\\'3\\',\\'原因\\':\"召回结果和原词条完全不相符，原词条是汤，召回结果是粥\" }',\n",
       " '{\"判断相符\":\\'1\\',\\'原因\\':\"召回结果符合原词条，召回结果比原词条大，但是和原词条相符\" }',\n",
       " '{\"判断相符\":\\'1\\',\\'原因\\':\"召回结果符合原词条，完全一致\" }',\n",
       " '{\"判断相符\":\\'3\\',\\'原因\\':\"召回结果和原词条完全不相符\" }',\n",
       " '{\"判断相符\":\\'3\\',\\'原因\\':\"召回结果和原词条完全不相符，原词条强调的是清淡少盐，而召回结果是鲜香甘甜的小青菜，两者口味和重点完全不同\" }',\n",
       " '{\"判断相符\":\\'3\\',\\'原因\\':\"召回结果和原词条完全不相符，原词条描述的是质地，召回结果是具体的菜品\" }',\n",
       " '{\"判断相符\":\\'2\\',\\'原因\\':\"召回结果部分满足原词条，原词条是汤面，召回结果少了面\"}',\n",
       " '{\"判断相符\":\\'3\\',\\'原因\\':\"召回结果和原词条完全不相符，原词条是南瓜藜麦养胃粥，召回结果是红糖燕麦枸杞红枣粥，两者成分完全不同\" }',\n",
       " '{\"判断相符\":\\'1\\',\\'原因\\':\"召回结果符合原词条，召回结果比原词条多加了肉丝，但基本覆盖了原词条的内容\" }',\n",
       " '{\"判断相符\":\\'1\\',\\'原因\\':\"召回结果符合原词条，召回结果的范围和原词条一致，只是表述方式不同\" }',\n",
       " '{\"判断相符\":\\'1\\',\\'原因\\':\"召回结果符合原词条\" }',\n",
       " '{\"判断相符\":\\'3\\',\\'原因\\':\"召回结果和原词条完全不相符，原词条是炸豆腐包，召回结果是干豆腐炒土豆粉\" }',\n",
       " '{\"判断相符\":\\'1\\',\\'原因\\':\"召回结果符合原词条，完全一致\" }',\n",
       " '{\"判断相符\":\\'2\\',\\'原因\\':\"召回结果部分满足原词条，原词条是清淡小菜，召回结果是素炒洋芋擦擦，虽然都是素菜，但召回结果的范围比原词条小\" }',\n",
       " '{\"判断相符\":\\'1\\',\\'原因\\':\"召回结果符合原词条，召回结果的范围可以比原词条的大一些，口味可以不一致\"}',\n",
       " '{\"判断相符\":\\'1\\',\\'原因\\':\"召回结果符合原词条\" }',\n",
       " '{\"判断相符\":\\'3\\',\\'原因\\':\"召回结果和原词条完全不相符，原词条是青草吹拔龙怪，召回结果是笨鸡蛋碰石头小碗菜，两者无任何关联\" }',\n",
       " '{\"判断相符\":\\'1\\',\\'原因\\':\"召回结果符合原词条，召回结果和原词条相符，只是名称上有些微差异\" }',\n",
       " '{\"判断相符\":\\'2\\',\\'原因\\':\"召回结果部分满足原词条，原词条的是炒饭，召回结果是没有饭，但是有娃娃菜\" }',\n",
       " '{\"判断相符\":\\'1\\',\\'原因\\':\"召回结果符合原词条，召回结果比原词条多加了红糖和枸杞，但基本覆盖了原词条的内容\" }',\n",
       " '{\"判断相符\":\\'1\\',\\'原因\\':\"召回结果符合原词条，虽然顺序不同，但食材和烹饪方法一致\" }',\n",
       " '{\"判断相符\":\\'1\\',\\'原因\\':\"召回结果符合原词条，召回结果的范围比原词条大一些，但可以覆盖原词条\" }',\n",
       " '{\"判断相符\":\\'1\\',\\'原因\\':\"召回结果符合原词条，召回结果比原词条大，但是可以覆盖原词条\" }',\n",
       " '{\"判断相符\":\\'1\\',\\'原因\\':\"召回结果符合原词条，完全一致\" }',\n",
       " '{\"判断相符\":\\'1\\',\\'原因\\':\"召回结果符合原词条，召回结果比原词条大，增加了玉米，但是可以覆盖原词条\" }',\n",
       " '{\"判断相符\":\\'3\\',\\'原因\\':\"召回结果和原词条完全不相符，原词条是胡子踩蛋汤，召回结果是两个鸡蛋砂汤，两者在名称和内容上都没有关联\" }',\n",
       " '{\"判断相符\":\\'1\\',\\'原因\\':\"召回结果符合原词条，召回结果比原词条少了\\'小\\'字，但整体内容相符\" }',\n",
       " '{\"判断相符\":\\'2\\',\\'原因\\':\"召回结果部分满足原词条，原词条是菌骨汤，召回结果是猪肚鸡汤，虽然都是暖胃的汤品，但主要材料不同\" }',\n",
       " '{\"判断相符\":\\'1\\',\\'原因\\':\"召回结果符合原词条，召回结果比原词条多了一个\\'新\\'字，但内容一致\" }',\n",
       " '{\"判断相符\":\\'2\\',\\'原因\\':\"召回结果部分满足原词条，原词条的是番茄面疙瘩，召回结果多了炒蛋\" }',\n",
       " '{\"判断相符\":\\'1\\',\\'原因\\':\"召回结果符合原词条，召回结果比原词条多加了红枣，但基本覆盖原词条\" }',\n",
       " '{\"判断相符\":\\'3\\',\\'原因\\':\"召回结果和原词条完全不相符，原词条是香菇豆腐汤，召回结果是冬菇红豆莲子炖猪肚，两者食材和口味完全不同\" }',\n",
       " '{\"判断相符\":\\'2\\',\\'原因\\':\"召回结果部分满足原词条，原词条是海带土豆片小炒，召回结果是海带丝炖豆腐，缺少土豆片且烹饪方式不同\"}',\n",
       " '{\"判断相符\":\\'1\\',\\'原因\\':\"召回结果符合原词条，召回结果使用了更可爱的名字\\'皮皮蛋\\'，但实质内容与原词条一致\" }',\n",
       " '{\"判断相符\":\\'1\\',\\'原因\\':\"召回结果符合原词条，虽然名称有所不同，但内容实质上是相同的，都是老鸭汤和粉丝的组合\" }',\n",
       " '{\"判断相符\":\\'1\\',\\'原因\\':\"召回结果符合原词条，召回结果和原词条相符，只是名称略有不同\" }',\n",
       " '{\"判断相符\":\\'1\\',\\'原因\\':\"召回结果符合原词条，召回结果与原词条基本一致，只是名称上略有差异\" }',\n",
       " '{\"判断相符\":\\'1\\',\\'原因\\':\"召回结果符合原词条，召回结果比原词条更具体，但依然符合原词条的范围\" }',\n",
       " '{\"判断相符\":\\'1\\',\\'原因\\':\"召回结果符合原词条，召回结果比原词条多加了玉米，但基本覆盖原词条\" }',\n",
       " '{\"判断相符\":\\'3\\',\\'原因\\':\"召回结果和原词条完全不相符，原词条是万香骨肉魔粥，召回结果是皮蛋瘦肉粥\" }',\n",
       " '{\"判断相符\":\\'1\\',\\'原因\\':\"召回结果符合原词条，召回结果的口味可以不一致，但覆盖了原词条的主要内容\" }',\n",
       " '{\"判断相符\":\\'1\\',\\'原因\\':\"召回结果符合原词条，完全匹配\" }',\n",
       " '{\"判断相符\":\\'3\\',\\'原因\\':\"召回结果和原词条完全不相符，糖水和过水大碴粥在成分和制作方法上完全不同\" }',\n",
       " '{\"判断相符\":\\'3\\',\\'原因\\':\"召回结果和原词条完全不相符，原词条是面食，召回结果是炒粉\" }',\n",
       " '{\"判断相符\":\\'2\\',\\'原因\\':\"召回结果部分满足原词条，原词条的是肉末，召回结果是肉丝，且多了豆角\" }',\n",
       " '{\"判断相符\":\\'3\\',\\'原因\\':\"召回结果和原词条完全不相符，原词条是关于农业的，召回结果是关于炖豆腐的\" }',\n",
       " '{\"判断相符\":\\'1\\',\\'原因\\':\"召回结果符合原词条，召回结果和原词条相符，只是表述方式不同\" }',\n",
       " '{\"判断相符\":\\'1\\',\\'原因\\':\"召回结果符合原词条，召回结果与原词条内容一致，只是顺序不同\" }',\n",
       " '{\"判断相符\":\\'1\\',\\'原因\\':\"召回结果符合原词条，召回结果比原词条大，但是和原词条相符\" }',\n",
       " '{\"判断相符\":\\'2\\',\\'原因\\':\"召回结果部分满足原词条，原词条是鲜菇，召回结果是杏鲍菇\" }',\n",
       " '{\"判断相符\":\\'3\\',\\'原因\\':\"召回结果和原词条完全不相符，原词条是小馄饨，召回结果是疙瘩汤\" }',\n",
       " '{\"判断相符\":\\'3\\',\\'原因\\':\"召回结果和原词条完全不相符\" }',\n",
       " '{\"判断相符\":\\'2\\',\\'原因\\':\"召回结果部分满足原词条，原词条是小米粥，召回结果添加了糯米\" }',\n",
       " '{\"判断相符\":\\'1\\',\\'原因\\':\"召回结果符合原词条，召回结果使用了更可爱的名字\\'皮皮蛋\\'，但与原词条\\'皮蛋\\'相符\"}',\n",
       " '{\"判断相符\":\\'1\\',\\'原因\\':\"召回结果符合原词条，召回结果使用了更可爱的名字\\'皮皮蛋\\'，但实质内容与原词条一致\" }',\n",
       " '{\"判断相符\":\\'2\\',\\'原因\\':\"召回结果部分满足原词条，原词条的是鲜汤，召回结果是没有汤，但有娃娃菜\" }',\n",
       " '{\"判断相符\":\\'2\\',\\'原因\\':\"召回结果部分满足原词条，召回结果比原词条多加了西红柿，但基本覆盖原词条\" }',\n",
       " '{\"判断相符\":\\'3\\',\\'原因\\':\"召回结果和原词条完全不相符，原词条是皮蛋瘦肉粥，召回结果是香菇瘦肉粥，缺少皮蛋且增加了香菇\" }',\n",
       " '{\"判断相符\":\\'1\\',\\'原因\\':\"召回结果符合原词条，召回结果比原词条更具体，但可以覆盖原词条\" }',\n",
       " '{\"判断相符\":\\'2\\',\\'原因\\':\"召回结果部分满足原词条，原词条是干锅黄菜，召回结果是黄豆腐干炒青椒，虽然都含有黄菜（黄豆腐干），但做法和配料不完全一致\"}',\n",
       " '{\"判断相符\":\\'3\\',\\'原因\\':\"召回结果和原词条完全不相符，原词条描述的是在阳光下休息的场景，而召回结果是一个炒鸡蛋的菜品\" }',\n",
       " '{\"判断相符\":\\'1\\',\\'原因\\':\"召回结果符合原词条，召回结果与原词条内容一致，只是顺序不同\" }',\n",
       " '{\"判断相符\":\\'1\\',\\'原因\\':\"召回结果符合原词条，召回结果比原词条大，增加了南瓜，但是和原词条相符\" }',\n",
       " '{\"判断相符\":\\'2\\',\\'原因\\':\"召回结果部分满足原词条，召回结果少了糯米和梨，但包含了红枣\"}',\n",
       " '{\"判断相符\":\\'3\\',\\'原因\\':\"召回结果和原词条完全不相符，原词条是小草菜花，召回结果是小油菜\" }',\n",
       " '{\"判断相符\":\\'3\\',\\'原因\\':\"召回结果和原词条完全不相符，原词条是豆腐，召回结果是鱼汤\" }',\n",
       " '{\"判断相符\":\\'1\\',\\'原因\\':\"召回结果符合原词条，召回结果比原词条更具体，但内容相符\" }',\n",
       " '{\"判断相符\":\\'2\\',\\'原因\\':\"召回结果部分满足原词条，原词条包含绿豆，召回结果替换为大枣红糖\" }',\n",
       " '{\"判断相符\":\\'1\\',\\'原因\\':\"召回结果符合原词条，召回结果比原词条大，增加了桂圆，但是和原词条相符\" }',\n",
       " '{\"判断相符\":\\'1\\',\\'原因\\':\"召回结果符合原词条，召回结果的范围可以比原词条的大一些，口味可以不一致，但基本覆盖了原词条的内容\" }',\n",
       " '{\"判断相符\":\\'1\\',\\'原因\\':\"召回结果符合原词条，召回结果比原词条更具体，但基本内容一致\" }',\n",
       " '{\"判断相符\":\\'1\\',\\'原因\\':\"召回结果符合原词条，召回结果比原词条大，增加了冰糖和莲子，但基本覆盖了原词条的内容\" }',\n",
       " '{\"判断相符\":\\'1\\',\\'原因\\':\"召回结果符合原词条，召回结果比原词条大，增加了西红柿，但是可以覆盖原词条\" }',\n",
       " '{\"判断相符\":\\'2\\',\\'原因\\':\"召回结果部分满足原词条，原词条是香煎蛋，召回结果是炒蛋，且增加了韭黄炒蛋\" }',\n",
       " '{\"判断相符\":\\'1\\',\\'原因\\':\"召回结果符合原词条，召回结果比原词条大，但是和原词条相符\" }',\n",
       " '{\"判断相符\":\\'1\\',\\'原因\\':\"召回结果符合原词条，完全一致\" }',\n",
       " '{\"判断相符\":\\'2\\',\\'原因\\':\"召回结果部分满足原词条，原词条的是珍珠米，召回结果是黑米粥，虽然都是米类但种类不同\" }',\n",
       " '{\"判断相符\":\\'1\\',\\'原因\\':\"召回结果符合原词条，召回结果比原词条更具体，但本质上是相同的菜品\" }',\n",
       " '{\"判断相符\":\\'1\\',\\'原因\\':\"召回结果符合原词条，完全匹配\" }',\n",
       " '{\"判断相符\":\\'1\\',\\'原因\\':\"召回结果符合原词条，召回结果比原词条大，增加了玉米，但基本覆盖了原词条的内容\" }',\n",
       " '{\"判断相符\":\\'2\\',\\'原因\\':\"召回结果部分满足原词条，召回结果少了鲜鱼，多了干贝\" }',\n",
       " '{\"判断相符\":\\'2\\',\\'原因\\':\"召回结果部分满足原词条，原词条是热汤面，召回结果是挂面鸡蛋汤，缺少了面的热汤部分\" }',\n",
       " '{\"判断相符\":\\'2\\',\\'原因\\':\"召回结果部分满足原词条，原词条是铁板牛肉，召回结果是炖牛肉，烹饪方式不同\" }',\n",
       " '{\"判断相符\":\\'1\\',\\'原因\\':\"召回结果符合原词条，虽然名称略有不同，但\\'腐皮\\'是\\'腐竹\\'的另一种称呼，且烹饪方法和主要配料一致\" }',\n",
       " '{\"判断相符\":\\'1\\',\\'原因\\':\"召回结果符合原词条\" }',\n",
       " '{\"判断相符\":\\'1\\',\\'原因\\':\"召回结果符合原词条，召回结果只是商家起的更可爱的名字，实质内容与原词条一致\" }',\n",
       " '{\"判断相符\":\\'2\\',\\'原因\\':\"召回结果部分满足原词条，原词条的是杨纬粥，召回结果中没有杨纬，但有黑米和红豆薏米\" }',\n",
       " '{\"判断相符\":\\'3\\',\\'原因\\':\"召回结果和原词条完全不相符，原词条是嫩青菜，召回结果是土豆丝\" }',\n",
       " '{\"判断相符\":\\'1\\',\\'原因\\':\"召回结果符合原词条，召回结果包含了原词条的韭黄鸡蛋小炒，虽然增加了韭菜炒蛋，但整体覆盖了原词条\" }',\n",
       " '{\"判断相符\":\\'1\\',\\'原因\\':\"召回结果符合原词条，召回结果范围比原词条大，但是可以覆盖原词条\" }',\n",
       " '{\"判断相符\":\\'1\\',\\'原因\\':\"召回结果符合原词条，召回结果比原词条多了桂圆，但基本成分莲子和其他八宝成分相符\" }',\n",
       " '{\"判断相符\":\\'1\\',\\'原因\\':\"召回结果符合原词条，召回结果比原词条多加了玉米，但依然符合小米南瓜粥的基本构成\" }',\n",
       " '{\"判断相符\":\\'3\\',\\'原因\\':\"召回结果和原词条完全不相符，原词条是手撕包菜炒肉丝，召回结果是青椒土豆丝炒鸡肉丝，两者主要食材和做法均不同\" }',\n",
       " '{\"判断相符\":\\'2\\',\\'原因\\':\"召回结果部分满足原词条，召回结果比原词条多了番茄，但基本覆盖了原词条的内容\" }',\n",
       " '{\"判断相符\":\\'1\\',\\'原因\\':\"召回结果符合原词条，召回结果比原词条更具体，但本质上是相同的食物\" }',\n",
       " '{\"判断相符\":\\'1\\',\\'原因\\':\"召回结果符合原词条，召回结果和原词条描述的是同一道菜，只是表述方式不同\" }',\n",
       " '{\"判断相符\":\\'1\\',\\'原因\\':\"召回结果符合原词条，召回结果比原词条大，增加了灵芝，但是和原词条相符\" }',\n",
       " '{\"判断相符\":\\'3\\',\\'原因\\':\"召回结果和原词条完全不相符，原词条是肉类菜肴，召回结果是鱼类粥品\" }',\n",
       " '{\"判断相符\":\\'1\\',\\'原因\\':\"召回结果符合原词条，召回结果比原词条大，但是可以覆盖原词条\" }',\n",
       " '{\"判断相符\":\\'1\\',\\'原因\\':\"召回结果符合原词条，召回结果比原词条多加了桂圆，但整体上可以覆盖原词条\" }',\n",
       " '{\"判断相符\":\\'1\\',\\'原因\\':\"召回结果符合原词条，召回结果和原词条相符，只是表述方式不同\" }',\n",
       " '{\"判断相符\":\\'1\\',\\'原因\\':\"召回结果符合原词条，召回结果的范围可以比原词条的大一些，口味可以不一致\" }',\n",
       " '{\"判断相符\":\\'3\\',\\'原因\\':\"召回结果和原词条完全不相符，原词条是雪菜豆腐煲，召回结果是紫菜蛋花豆腐汤，主要成分和风味完全不同\" }',\n",
       " '{\"判断相符\":\\'3\\',\\'原因\\':\"召回结果和原词条完全不相符，原词条是青菜，召回结果是青椒炒卜页\" }',\n",
       " '{\"判断相符\":\\'1\\',\\'原因\\':\"召回结果符合原词条，召回结果使用了更可爱的名字\\'皮皮蛋\\'，但与原词条\\'皮蛋\\'指的是同一种食材\"}',\n",
       " '{\"判断相符\":\\'1\\',\\'原因\\':\"召回结果符合原词条，召回结果比原词条大，但是和原词条相符\" }',\n",
       " '{\"判断相符\":\\'1\\',\\'原因\\':\"召回结果符合原词条，召回结果比原词条大，但是可以覆盖原词条\" }',\n",
       " '{\"判断相符\":\\'1\\',\\'原因\\':\"召回结果符合原词条，召回结果比原词条更具体，但核心内容一致\" }',\n",
       " '{\"判断相符\":\\'3\\',\\'原因\\':\"召回结果和原词条完全不相符，原词条是娃娃菜，召回结果是小油菜\" }',\n",
       " '{\"判断相符\":\\'2\\',\\'原因\\':\"召回结果部分满足原词条，原词条是养胃粥，召回结果是补血粥，虽然都含有红枣，但主要功效和部分材料不同\"}',\n",
       " '{\"判断相符\":\\'3\\',\\'原因\\':\"召回结果和原词条完全不相符，原词条是蛋类食品，召回结果是蔬菜类食品\" }',\n",
       " '{\"判断相符\":\\'1\\',\\'原因\\':\"召回结果符合原词条，召回结果比原词条多了一个小碗的描述，但主要内容一致\" }',\n",
       " '{\"判断相符\":\\'3\\',\\'原因\\':\"召回结果和原词条完全不相符，原词条是麻烧肉汤，召回结果是炖乌鸡汤\" }',\n",
       " '{\"判断相符\":\\'1\\',\\'原因\\':\"召回结果符合原词条，召回结果比原词条多加了枸杞，但基本覆盖了原词条的内容\" }',\n",
       " '{\"判断相符\":\\'3\\',\\'原因\\':\"召回结果和原词条完全不相符，原词条是面条，召回结果是包子\" }',\n",
       " '{\"判断相符\":\\'1\\',\\'原因\\':\"召回结果符合原词条，召回结果比原词条更详细，但核心内容一致\" }',\n",
       " '{\"判断相符\":\\'3\\',\\'原因\\':\"召回结果和原词条完全不相符，原词条是咸芋嫩豆腐汤，召回结果是皮蛋鱼头豆腐汤，两者主要成分和口味完全不同\" }',\n",
       " '{\"判断相符\":\\'1\\',\\'原因\\':\"召回结果符合原词条，召回结果比原词条具体，但可以覆盖原词条\" }',\n",
       " '{\"判断相符\":\\'1\\',\\'原因\\':\"召回结果符合原词条，召回结果范围比原词条大，但是可以覆盖原词条\" }',\n",
       " '{\"判断相符\":\\'2\\',\\'原因\\':\"召回结果部分满足原词条，原词条是芥兰，召回结果是西兰花，虽然都是绿色蔬菜，但种类不同\"}',\n",
       " '{\"判断相符\":\\'3\\',\\'原因\\':\"召回结果和原词条完全不相符，原词条是活鱼，召回结果是鸡蛋炒银鱼养殖\" }',\n",
       " '{\"判断相符\":\\'1\\',\\'原因\\':\"召回结果符合原词条，召回结果使用了更可爱的名字\\'皮皮蛋\\'，但实质内容与原词条一致\"}',\n",
       " '{\"判断相符\":\\'1\\',\\'原因\\':\"召回结果符合原词条，召回结果的范围比原词条大一些，但可以覆盖原词条\" }',\n",
       " '{\"判断相符\":\\'2\\',\\'原因\\':\"召回结果部分满足原词条，召回结果少了山药，且红糖和枸杞与原词条不符\" }',\n",
       " '{\"判断相符\":\\'1\\',\\'原因\\':\"召回结果符合原词条，召回结果使用了更可爱的名字\\'皮皮蛋\\'，但实质内容与原词条相符\"}',\n",
       " '{\"判断相符\":\\'1\\',\\'原因\\':\"召回结果符合原词条，召回结果比原词条更具体，但本质上是相同的食物\" }',\n",
       " '{\"判断相符\":\\'1\\',\\'原因\\':\"召回结果符合原词条，完全一致\" }',\n",
       " '{\"判断相符\":\\'1\\',\\'原因\\':\"召回结果符合原词条，召回结果使用了更可爱的名字\\'皮皮蛋\\'，但实质内容与原词条一致\" }',\n",
       " '{\"判断相符\":\\'2\\',\\'原因\\':\"召回结果部分满足原词条，原词条是海兔和粉，召回结果是海米和豆腐，缺少了海兔和粉\" }',\n",
       " '{\"判断相符\":\\'2\\',\\'原因\\':\"召回结果部分满足原词条，原词条的是酸菜，召回结果是酸辣裙带菜，虽然都是酸味的菜品，但主料不同\"}',\n",
       " '{\"判断相符\":\\'3\\',\\'原因\\':\"召回结果和原词条完全不相符，阳春面和沅江清水面是不同的食物\" }',\n",
       " '{\"判断相符\":\\'2\\',\\'原因\\':\"召回结果部分满足原词条，原词条是鲜虾干贝，召回结果是鲍鱼干贝虾，多了鲍鱼少了鲜虾\" }',\n",
       " '{\"判断相符\":\\'1\\',\\'原因\\':\"召回结果符合原词条，召回结果比原词条大，但是可以覆盖原词条\" }',\n",
       " '{\"判断相符\":\\'1\\',\\'原因\\':\"召回结果符合原词条，召回结果比原词条大，但是和原词条相符\" }',\n",
       " '{\"判断相符\":\\'1\\',\\'原因\\':\"召回结果符合原词条，召回结果只是商家起的更可爱的名字，实质内容与原词条一致\" }',\n",
       " '{\"判断相符\":\\'2\\',\\'原因\\':\"召回结果部分满足原词条，原词条是鸡丝，召回结果是肉碎和蚝仔，虽然都含有干贝，但主要配料不符\"}',\n",
       " '{\"判断相符\":\\'3\\',\\'原因\\':\"召回结果和原词条完全不相符，原词条是肉类菜品，召回结果是鱼类粥品\" }',\n",
       " '{\"判断相符\":\\'3\\',\\'原因\\':\"召回结果和原词条完全不相符，原词条是炖豆腐，召回结果是土豆炖茄子\" }',\n",
       " '{\"判断相符\":\\'2\\',\\'原因\\':\"召回结果部分满足原词条，原词条是猪肉，召回结果是鸡肉\" }',\n",
       " '{\"判断相符\":\\'1\\',\\'原因\\':\"召回结果符合原词条，召回结果比原词条更具体，但口味和内容与原词条相符\" }',\n",
       " '{\"判断相符\":\\'1\\',\\'原因\\':\"召回结果完全符合原词条\" }',\n",
       " '{\"判断相符\":\\'1\\',\\'原因\\':\"召回结果符合原词条，召回结果和原词条相符，只是表述方式不同\" }',\n",
       " '{\"判断相符\":\\'2\\',\\'原因\\':\"召回结果部分满足原词条，原词条是柴火炒鸡蛋，召回结果是小木耳炒土鸡蛋，多了小木耳\" }',\n",
       " '{\"判断相符\":\\'2\\',\\'原因\\':\"召回结果部分满足原词条，召回结果包括了韭菜炒蛋和韭黄炒蛋，但原词条仅指韭菜鸡蛋小炒\" }',\n",
       " '{\"判断相符\":\\'3\\',\\'原因\\':\"召回结果和原词条完全不相符，原词条是双香空运彩，召回结果是笨鸡蛋碰石头小碗菜\" }',\n",
       " '{\"判断相符\":\\'2\\',\\'原因\\':\"召回结果部分满足原词条，原词条是酸辣口味且为圆白菜，召回结果是酸甜口味且为紫包菜\" }',\n",
       " '{\"判断相符\":\\'1\\',\\'原因\\':\"召回结果符合原词条，召回结果与原词条描述的口味和主要成分一致，只是表述略有不同\"}',\n",
       " '{\"判断相符\":\\'1\\',\\'原因\\':\"召回结果符合原词条，召回结果范围比原词条大，但是可以覆盖原词条\" }',\n",
       " '{\"判断相符\":\\'1\\',\\'原因\\':\"召回结果符合原词条，召回结果比原词条更具体，但和原词条相符\" }',\n",
       " '{\"判断相符\":\\'2\\',\\'原因\\':\"召回结果部分满足原词条，原词条是红豆薏仁，召回结果是黑米红枣桂圆，虽然都是粥类但主要材料不同\" }',\n",
       " '{\"判断相符\":\\'3\\',\\'原因\\':\"召回结果和原词条完全不相符，原词条是红豆雪糯米杨胃粥，召回结果是红枣小米红糖南瓜粥，两者成分完全不同\" }',\n",
       " '{\"判断相符\":\\'2\\',\\'原因\\':\"召回结果部分满足原词条，原词条是濑粉，召回结果是豆腐粉，且召回结果多了拆骨肉\" }',\n",
       " '{\"判断相符\":\\'1\\',\\'原因\\':\"召回结果符合原词条，召回结果比原词条详细，但内容一致\" }',\n",
       " '{\"判断相符\":\\'1\\',\\'原因\\':\"召回结果符合原词条，召回结果比原词条多了肉末，但可以覆盖原词条\" }',\n",
       " '{\"判断相符\":\\'1\\',\\'原因\\':\"召回结果符合原词条，召回结果范围比原词条大，但是可以覆盖原词条\" }',\n",
       " '{\"判断相符\":\\'2\\',\\'原因\\':\"召回结果部分满足原词条，原词条是萝卜粉丝汤，召回结果是土豆萝卜丝汤，缺少粉丝但增加了土豆\" }',\n",
       " '{\"判断相符\":\\'3\\',\\'原因\\':\"召回结果和原词条完全不相符，原词条是蓝红豆薏米养眼粥，召回结果是红糖燕麦枸杞红枣粥，两者成分完全不同\" }',\n",
       " '{\"判断相符\":\\'2\\',\\'原因\\':\"召回结果部分满足原词条，原词条是豆腐包，召回结果是干豆腐，且增加了木耳\" }',\n",
       " '{\"判断相符\":\\'1\\',\\'原因\\':\"召回结果符合原词条，召回结果比原词条多加了冰糖，但整体相符\" }',\n",
       " '{\"判断相符\":\\'1\\',\\'原因\\':\"召回结果符合原词条，召回结果比原词条大，增加了木耳，但核心的黄瓜和鸡蛋都在\" }',\n",
       " '{\"判断相符\":\\'2\\',\\'原因\\':\"召回结果部分满足原词条，原词条是嫩娃娃菜汤，召回结果是蛰皮娃娃菜，缺少了汤的部分\" }',\n",
       " '{\"判断相符\":\\'1\\',\\'原因\\':\"召回结果符合原词条，召回结果比原词条大，但是和原词条相符\" }',\n",
       " '{\"判断相符\":\\'2\\',\\'原因\\':\"召回结果部分满足原词条，原词条的是紫菜蛋花汤，召回结果多了番茄\" }',\n",
       " '{\"判断相符\":\\'2\\',\\'原因\\':\"召回结果部分满足原词条，原词条是小白菜，召回结果是西兰花，且烹饪方式不同\"}',\n",
       " '{\"判断相符\":\\'1\\',\\'原因\\':\"召回结果符合原词条，召回结果和原词条描述的是同一种食物，只是表述方式不同\" }',\n",
       " '{\"判断相符\":\\'1\\',\\'原因\\':\"召回结果符合原词条，召回结果比原词条多加了红糖，但整体符合原词条\" }',\n",
       " '{\"判断相符\":\\'2\\',\\'原因\\':\"召回结果部分满足原词条，原词条是小青菜，召回结果是西兰花\" }',\n",
       " '{\"判断相符\":\\'3\\',\\'原因\\':\"召回结果和原词条完全不相符，原词条是山药玉米，召回结果是大枣红糖小米\" }',\n",
       " '{\"判断相符\":\\'2\\',\\'原因\\':\"召回结果部分满足原词条，原词条是炖豆腐，召回结果是炒豆腐皮，且配料从酱菜变成了尖椒\" }',\n",
       " '{\"判断相符\":\\'1\\',\\'原因\\':\"召回结果符合原词条，召回结果比原词条多加了红糖，但基本成分红豆和粥都包含在内\" }',\n",
       " '{\"判断相符\":\\'3\\',\\'原因\\':\"召回结果和原词条完全不相符，原词条是酸汤肥牛，召回结果是清炖金寨土鹅半只\" }',\n",
       " '{\"判断相符\":\\'2\\',\\'原因\\':\"召回结果部分满足原词条，原词条是脆嫩豆芽小炒，召回结果是笨豆芽炒干豆腐，缺少了脆嫩和小炒的描述，但豆芽和炒的部分相符\"}',\n",
       " '{\"判断相符\":\\'2\\',\\'原因\\':\"召回结果部分满足原词条，原词条的是炒草，召回结果是芥兰，虽然都是蔬菜但种类不同\"}',\n",
       " '{\"判断相符\":\\'1\\',\\'原因\\':\"召回结果符合原词条，召回结果比原词条大，但是可以覆盖原词条\" }',\n",
       " '{\"判断相符\":\\'1\\',\\'原因\\':\"召回结果符合原词条，召回结果比原词条更具体，但内容相符\" }',\n",
       " '{\"判断相符\":\\'1\\',\\'原因\\':\"召回结果符合原词条，召回结果比原词条大，包含了菠菜和蛋花，但核心的牛肉粥部分与原词条相符\" }',\n",
       " '{\"判断相符\":\\'2\\',\\'原因\\':\"召回结果部分满足原词条，原词条的是酸香，召回结果是蛰皮\" }',\n",
       " '{\"判断相符\":\\'1\\',\\'原因\\':\"召回结果符合原词条，召回结果比原词条大，增加了玉米，但基本覆盖了原词条的内容\" }',\n",
       " '{\"判断相符\":\\'3\\',\\'原因\\':\"召回结果和原词条完全不相符，原词条是笑话，召回结果是百姓小炒皇\" }',\n",
       " '{\"判断相符\":\\'3\\',\\'原因\\':\"召回结果和原词条完全不相符，原词条是红烧肉，召回结果是日式鸡肉粥\" }',\n",
       " '{\"判断相符\":\\'1\\',\\'原因\\':\"召回结果符合原词条，召回结果的范围可以比原词条的大一些，口味可以不一致，但核心元素南瓜和养胃都包含在内\"}',\n",
       " '{\"判断相符\":\\'2\\',\\'原因\\':\"召回结果部分满足原词条，召回结果少了羊胃，多了党参和枸杞\" }',\n",
       " '{\"判断相符\":\\'1\\',\\'原因\\':\"召回结果符合原词条，召回结果比原词条大，但是和原词条相符\" }',\n",
       " '{\"判断相符\":\\'1\\',\\'原因\\':\"召回结果符合原词条，召回结果只是商家起的更可爱的名字，实质内容一致\" }',\n",
       " '{\"判断相符\":\\'1\\',\\'原因\\':\"召回结果符合原词条，召回结果比原词条大，但是和原词条相符\" }',\n",
       " '{\"判断相符\":\\'2\\',\\'原因\\':\"召回结果部分满足原词条，原词条是皮蛋鱼片粥，召回结果是鲍鱼海参鱼片粥，缺少皮蛋\" }',\n",
       " '{\"判断相符\":\\'1\\',\\'原因\\':\"召回结果完全符合原词条\" }',\n",
       " '{\"判断相符\":\\'2\\',\\'原因\\':\"召回结果部分满足原词条，原词条是青菜炖豆腐汤，召回结果多了大鲫鱼\" }',\n",
       " '{\"判断相符\":\\'1\\',\\'原因\\':\"召回结果符合原词条，召回结果比原词条更具体，沙瓤西红柿是对西红柿的描述，符合原词条的要求\" }',\n",
       " '{\"判断相符\":\\'3\\',\\'原因\\':\"召回结果和原词条完全不相符，原词条是海带豆泡小炖锅，召回结果是下锅烂海蛎子豆腐汤，两者食材和烹饪方式完全不同\" }',\n",
       " '{\"判断相符\":\\'3\\',\\'原因\\':\"召回结果和原词条完全不相符，原词条是凉拌菜，召回结果是黄焖鸡和米饭\" }',\n",
       " '{\"判断相符\":\\'1\\',\\'原因\\':\"召回结果符合原词条，召回结果比原词条大，但是和原词条相符\" }',\n",
       " '{\"判断相符\":\\'1\\',\\'原因\\':\"召回结果符合原词条，召回结果比原词条更具体，但本质上是相同的菜品\" }',\n",
       " '{\"判断相符\":\\'1\\',\\'原因\\':\"召回结果符合原词条，召回结果的范围比原词条大一些，但可以覆盖原词条\" }',\n",
       " '{\"判断相符\":\\'3\\',\\'原因\\':\"召回结果和原词条完全不相符，原词条是多肉粥，召回结果是牛肉波菜粥，两者主要成分不同\" }',\n",
       " '{\"判断相符\":\\'1\\',\\'原因\\':\"召回结果符合原词条，召回结果比原词条更具体，但覆盖了原词条的基本要求\" }',\n",
       " '{\"判断相符\":\\'3\\',\\'原因\\':\"召回结果和原词条完全不相符，原词条是芋头泰谷养生粥，召回结果是黑米红枣桂圆粥，两者成分完全不同\" }',\n",
       " '{\"判断相符\":\\'3\\',\\'原因\\':\"召回结果和原词条完全不相符，原词条是老母鸡炖香菇枸杞汤，召回结果是花旗参红枣桂圆枸杞炖鸽子汤，主要食材和配料完全不同\" }',\n",
       " '{\"判断相符\":\\'2\\',\\'原因\\':\"召回结果部分满足原词条，原词条的是肉末，召回结果是鱼香\" }',\n",
       " '{\"判断相符\":\\'3\\',\\'原因\\':\"召回结果和原词条完全不相符，原词条是玉米粒粒香加嫩青菜粥，召回结果是香米饭\" }',\n",
       " '{\"判断相符\":\\'1\\',\\'原因\\':\"召回结果符合原词条，召回结果比原词条多加了耗油，但基本符合原词条\" }',\n",
       " '{\"判断相符\":\\'2\\',\\'原因\\':\"召回结果部分满足原词条，原词条是莴笋片炒鲜菇，召回结果多了肉片，少了鲜菇\" }',\n",
       " '{\"判断相符\":\\'1\\',\\'原因\\':\"召回结果符合原词条，召回结果比原词条大，但是和原词条相符\" }',\n",
       " '{\"判断相符\":\\'3\\',\\'原因\\':\"召回结果和原词条完全不相符，原词条是菲力牛排，召回结果是鸡排炒蛋沙拉\" }',\n",
       " '{\"判断相符\":\\'2\\',\\'原因\\':\"召回结果部分满足原词条，原词条是炒鲜贝，召回结果是炒虾仁\" }',\n",
       " '{\"判断相符\":\\'3\\',\\'原因\\':\"召回结果和原词条完全不相符，原词条是四季豆，召回结果是土豆丝\" }',\n",
       " '{\"判断相符\":\\'2\\',\\'原因\\':\"召回结果部分满足原词条，原词条的是猪肚汤，召回结果多了骨头和粥\" }',\n",
       " '{\"判断相符\":\\'1\\',\\'原因\\':\"召回结果符合原词条，召回结果比原词条大，但是和原词条相符\" }',\n",
       " '{\"判断相符\":\\'2\\',\\'原因\\':\"召回结果部分满足原词条，原词条是肉末，召回结果是鸡肉，且增加了青菜\" }',\n",
       " '{\"判断相符\":\\'1\\',\\'原因\\':\"召回结果符合原词条，召回结果比原词条多加了红枣，但基本覆盖了原词条的内容\" }',\n",
       " '{\"判断相符\":\\'2\\',\\'原因\\':\"召回结果部分满足原词条，原词条的是南瓜面，召回结果多了焖面的元素\" }',\n",
       " '{\"判断相符\":\\'2\\',\\'原因\\':\"召回结果部分满足原词条，原词条是炖豆腐，召回结果是豆腐皮拌娃娃菜，烹饪方式和部分材料不同\"}',\n",
       " '{\"判断相符\":\\'2\\',\\'原因\\':\"召回结果部分满足原词条，原词条是包菜炒粉丝，召回结果增加了酸包菜和肉丝\" }',\n",
       " '{\"判断相符\":\\'1\\',\\'原因\\':\"召回结果符合原词条，召回结果范围比原词条大，但是可以覆盖原词条\" }',\n",
       " '{\"判断相符\":\\'1\\',\\'原因\\':\"召回结果符合原词条，召回结果和原词条相符，只是词语顺序不同\" }',\n",
       " '{\"判断相符\":\\'1\\',\\'原因\\':\"召回结果符合原词条，召回结果比原词条多加了肉末，但整体符合原词条的范围\" }',\n",
       " '{\"判断相符\":\\'1\\',\\'原因\\':\"召回结果符合原词条，召回结果比原词条大，但是和原词条相符\" }',\n",
       " '{\"判断相符\":\\'2\\',\\'原因\\':\"召回结果部分满足原词条，原词条是炖老鸭汤，召回结果是土鸡汤，虽然都有山药但是主料不同\" }',\n",
       " '{\"判断相符\":\\'1\\',\\'原因\\':\"召回结果符合原词条，召回结果使用了更可爱的名字\\'皮皮蛋\\'，但与原词条\\'皮蛋\\'相符\"}',\n",
       " '{\"判断相符\":\\'1\\',\\'原因\\':\"召回结果符合原词条，召回结果比原词条大，但是和原词条相符\" }',\n",
       " '{\"判断相符\":\\'3\\',\\'原因\\':\"召回结果和原词条完全不相符\" }',\n",
       " '{\"判断相符\":\\'1\\',\\'原因\\':\"召回结果符合原词条，召回结果比原词条大，但是和原词条相符\" }',\n",
       " '{\"判断相符\":\\'1\\',\\'原因\\':\"召回结果符合原词条，召回结果比原词条更具体，但依然覆盖了原词条的内容\" }',\n",
       " '{\"判断相符\":\\'1\\',\\'原因\\':\"召回结果符合原词条，召回结果与原词条基本一致，只是少了\\'热\\'字，但不影响整体相符\" }',\n",
       " '{\"判断相符\":\\'3\\',\\'原因\\':\"召回结果和原词条完全不相符，原词条是粽子，召回结果是粥\" }',\n",
       " '{\"判断相符\":\\'2\\',\\'原因\\':\"召回结果部分满足原词条，原词条是清炒，召回结果是白灼蒜蓉\" }',\n",
       " '{\"判断相符\":\\'2\\',\\'原因\\':\"召回结果部分满足原词条，原词条是萝卜大骨汤，召回结果多了玉米和胡萝卜，但基本元素如龙骨（大骨）和汤相符\" }',\n",
       " '{\"判断相符\":\\'2\\',\\'原因\\':\"召回结果部分满足原词条，召回结果比原词条多了黄瓜和西红柿，但基本符合原词条的紫菜蛋花汤\" }',\n",
       " '{\"判断相符\":\\'1\\',\\'原因\\':\"召回结果符合原词条，召回结果只是商家起的更可爱的名字，实质内容与原词条一致\" }',\n",
       " '{\"判断相符\":\\'1\\',\\'原因\\':\"召回结果符合原词条，召回结果比原词条多了小米和红糖，但整体上可以覆盖原词条\" }',\n",
       " '{\"判断相符\":\\'1\\',\\'原因\\':\"召回结果符合原词条，召回结果和原词条完全一致\" }',\n",
       " '{\"判断相符\":\\'1\\',\\'原因\\':\"召回结果符合原词条，虽然名称不完全一致，但\\'招牌豆腐汤\\'可以理解为\\'轩玉豆腐汤\\'的另一种表述或品牌名称，内容相符\"}',\n",
       " '{\"判断相符\":\\'1\\',\\'原因\\':\"召回结果符合原词条，召回结果比原词条大，但是和原词条相符\" }',\n",
       " '{\"判断相符\":\\'3\\',\\'原因\\':\"召回结果和原词条完全不相符，原词条是酱香红薯叶拌小菜，召回结果是小份小米香芹炒土豆丝\" }',\n",
       " '{\"判断相符\":\\'3\\',\\'原因\\':\"召回结果和原词条完全不相符\" }',\n",
       " '{\"判断相符\":\\'2\\',\\'原因\\':\"召回结果部分满足原词条，召回结果多了木耳，少了嫩豆腐的描述\" }',\n",
       " '{\"判断相符\":\\'1\\',\\'原因\\':\"召回结果符合原词条，召回结果范围比原词条大，但是可以覆盖原词条\" }',\n",
       " '{\"判断相符\":\\'1\\',\\'原因\\':\"召回结果符合原词条，召回结果比原词条多了红枣，但主要成分桂圆和枸杞与原词条一致\" }',\n",
       " '{\"判断相符\":\\'1\\',\\'原因\\':\"召回结果符合原词条，召回结果比原词条多加了红糖，但主体红豆粥保持一致\" }',\n",
       " '{\"判断相符\":\\'1\\',\\'原因\\':\"召回结果符合原词条，召回结果比原词条更具体，但核心成分和概念相符\" }',\n",
       " '{\"判断相符\":\\'1\\',\\'原因\\':\"召回结果符合原词条，召回结果的范围比原词条大一些，但口味和原词条相符\" }',\n",
       " '{\"判断相符\":\\'1\\',\\'原因\\':\"召回结果符合原词条，召回结果比原词条大，但是和原词条相符\" }',\n",
       " '{\"判断相符\":\\'1\\',\\'原因\\':\"召回结果符合原词条，召回结果的范围可以比原词条的大一些，口味可以不一致\" }',\n",
       " '{\"判断相符\":\\'2\\',\\'原因\\':\"召回结果部分满足原词条，原词条是红烧鸡蛋烩，召回结果是虾仁木耳炒鸡蛋，缺少红烧的元素\" }',\n",
       " '{\"判断相符\":\\'3\\',\\'原因\\':\"召回结果和原词条完全不相符，原词条是嫩豌豆煎小炒，召回结果是小份小米香芹炒土豆丝\" }',\n",
       " '{\"判断相符\":\\'1\\',\\'原因\\':\"召回结果符合原词条，召回结果和原词条相符，虾仁是鲜虾的一种处理方式\" }',\n",
       " '{\"判断相符\":\\'1\\',\\'原因\\':\"召回结果符合原词条，召回结果比原词条更具体，但基本内容一致\" }',\n",
       " '{\"判断相符\":\\'3\\',\\'原因\\':\"召回结果和原词条完全不相符，原词条是玉米芥菜炖粉条，召回结果是小白菜香菇炒粉，食材和烹饪方法都不同\" }',\n",
       " '{\"判断相符\":\\'3\\',\\'原因\\':\"召回结果和原词条完全不相符，原词条是清炖素菜粥，召回结果是酸菜脆笋鸡肉粥，食材和口味完全不同\" }',\n",
       " '{\"判断相符\":\\'2\\',\\'原因\\':\"召回结果部分满足原词条，原词条是清炒小白菜，召回结果增加了鹅蛋和小葱\"}',\n",
       " '{\"判断相符\":\\'1\\',\\'原因\\':\"召回结果符合原词条，召回结果只是商家起的更可爱的名字，实质内容与原词条一致\"}',\n",
       " '{\"判断相符\":\\'1\\',\\'原因\\':\"召回结果符合原词条，召回结果比原词条大，但是和原词条相符\" }',\n",
       " '{\"判断相符\":\\'1\\',\\'原因\\':\"召回结果符合原词条，召回结果比原词条大，增加了冰糖和红枣，但是可以覆盖原词条\" }',\n",
       " '{\"判断相符\":\\'2\\',\\'原因\\':\"召回结果部分满足原词条，召回结果少了肉汤，但增加了木耳\" }',\n",
       " '{\"判断相符\":\\'2\\',\\'原因\\':\"召回结果部分满足原词条，原词条是青菜炖豆腐汤，召回结果多了鲫鱼\" }',\n",
       " '{\"判断相符\":\\'1\\',\\'原因\\':\"召回结果符合原词条，召回结果比原词条更具体，但本质上是相符的\" }',\n",
       " '{\"判断相符\":\\'2\\',\\'原因\\':\"召回结果部分满足原词条，原词条是小米粥，召回结果增加了糯米\" }',\n",
       " '{\"判断相符\":\\'1\\',\\'原因\\':\"召回结果符合原词条，虽然顺序不同，但内容和原词条一致\" }',\n",
       " '{\"判断相符\":\\'1\\',\\'原因\\':\"召回结果符合原词条，召回结果比原词条更具体，但覆盖了原词条的内容\" }',\n",
       " '{\"判断相符\":\\'3\\',\\'原因\\':\"召回结果和原词条完全不相符，原词条是鸽子汤，召回结果是山药炒木耳\" }',\n",
       " '{\"判断相符\":\\'3\\',\\'原因\\':\"召回结果和原词条完全不相符，原词条是不辣，召回结果是传统大碴粥，两者无关联\" }',\n",
       " '{\"判断相符\":\\'1\\',\\'原因\\':\"召回结果符合原词条，虽然名称略有不同，但主要内容鲜虾和蛋都包含在内，且都是粥类\" }',\n",
       " '{\"判断相符\":\\'1\\',\\'原因\\':\"召回结果符合原词条，召回结果与原词条完全一致\" }',\n",
       " '{\"判断相符\":\\'1\\',\\'原因\\':\"召回结果符合原词条，召回结果比原词条大，增加了菜心，但是和原词条相符\" }',\n",
       " '{\"判断相符\":\\'1\\',\\'原因\\':\"召回结果符合原词条，召回结果比原词条更具体，但核心内容一致\" }',\n",
       " '{\"判断相符\":\\'1\\',\\'原因\\':\"召回结果符合原词条，虽然名称略有不同，但内容和原词条相符\" }',\n",
       " '{\"判断相符\":\\'2\\',\\'原因\\':\"召回结果部分满足原词条，原词条是山药养胃粥，召回结果是南瓜粥，虽然都有养胃的功能，但主要成分不同\"}',\n",
       " '{\"判断相符\":\\'3\\',\\'原因\\':\"召回结果和原词条完全不相符，原词条是清炒小青菜，召回结果是鹅蛋拌小葱小白菜，食材和做法完全不同\" }',\n",
       " '{\"判断相符\":\\'3\\',\\'原因\\':\"召回结果和原词条完全不相符，原词条是玉米烙，召回结果是玉米粥，且配料也不同\" }',\n",
       " '{\"判断相符\":\\'1\\',\\'原因\\':\"召回结果符合原词条，召回结果比原词条多加了红豆，但主要成分黑米和红枣与原词条相符\" }',\n",
       " '{\"判断相符\":\\'2\\',\\'原因\\':\"召回结果部分满足原词条，原词条是鸭汤粉丝，召回结果是老鸭汤，缺少粉丝\" }',\n",
       " '{\"判断相符\":\\'3\\',\\'原因\\':\"召回结果和原词条完全不相符，原词条是线虾烩白菜，召回结果是咸白菜白玉菇炒肉丝，两者主要食材和做法完全不同\" }',\n",
       " '{\"判断相符\":\\'1\\',\\'原因\\':\"召回结果符合原词条，召回结果比原词条大，但是和原词条相符\" }',\n",
       " '{\"判断相符\":\\'1\\',\\'原因\\':\"召回结果符合原词条，召回结果比原词条大，但是可以覆盖原词条\" }',\n",
       " '{\"判断相符\":\\'1\\',\\'原因\\':\"召回结果符合原词条，完全一致\" }',\n",
       " '{\"判断相符\":\\'1\\',\\'原因\\':\"召回结果符合原词条，召回结果比原词条大，但是和原词条相符\" }',\n",
       " '{\"判断相符\":\\'2\\',\\'原因\\':\"召回结果部分满足原词条，原词条是呛油麦菜，召回结果是蒜仔油麦菜，虽然都是油麦菜，但做法不同\"}',\n",
       " '{\"判断相符\":\\'1\\',\\'原因\\':\"召回结果符合原词条，召回结果和原词条相符，只是表述方式不同\" }',\n",
       " '{\"判断相符\":\\'1\\',\\'原因\\':\"召回结果符合原词条，召回结果比原词条大，但是和原词条相符\" }',\n",
       " '{\"判断相符\":\\'2\\',\\'原因\\':\"召回结果部分满足原词条，召回结果比原词条多了番茄，但基本覆盖了原词条的内容\" }',\n",
       " '{\"判断相符\":\\'2\\',\\'原因\\':\"召回结果部分满足原词条，召回结果比原词条多加了糯米\" }',\n",
       " '{\"判断相符\":\\'1\\',\\'原因\\':\"召回结果符合原词条，召回结果比原词条大，但是和原词条相符\" }',\n",
       " '{\"判断相符\":\\'1\\',\\'原因\\':\"召回结果符合原词条，召回结果比原词条多加了玉米，但主要成分小米和南瓜与原词条相符\" }',\n",
       " '{\"判断相符\":\\'3\\',\\'原因\\':\"召回结果和原词条完全不相符，原词条是炭烤小青菜，召回结果是嫩嫩的小南瓜炒牛肉\" }',\n",
       " '{\"判断相符\":\\'1\\',\\'原因\\':\"召回结果符合原词条，召回结果比原词条大，增加了虾仁，但基本覆盖原词条内容\" }',\n",
       " '{\"判断相符\":\\'3\\',\\'原因\\':\"召回结果和原词条完全不相符，原词条是嫩温，召回结果是炝炒雪里红\" }',\n",
       " '{\"判断相符\":\\'1\\',\\'原因\\':\"召回结果符合原词条，召回结果的范围比原词条大，但可以覆盖原词条\" }',\n",
       " '{\"判断相符\":\\'1\\',\\'原因\\':\"召回结果符合原词条，完全一致\" }',\n",
       " '{\"判断相符\":\\'3\\',\\'原因\\':\"召回结果和原词条完全不相符，原词条是可乐鸡翅，召回结果是香菇鸡丁饭\" }',\n",
       " '{\"判断相符\":\\'1\\',\\'原因\\':\"召回结果符合原词条，召回结果比原词条多了清火的描述，但核心内容一致\" }',\n",
       " '{\"判断相符\":\\'3\\',\\'原因\\':\"召回结果和原词条完全不相符，原词条是生炒草么，召回结果是加香干切碎炒，两者无关联\" }',\n",
       " '{\"判断相符\":\\'1\\',\\'原因\\':\"召回结果符合原词条，召回结果使用了更可爱的名字但内容与原词条一致\" }',\n",
       " '{\"判断相符\":\\'1\\',\\'原因\\':\"召回结果符合原词条，召回结果比原词条多加了红糖，但基本覆盖原词条的内容\" }',\n",
       " '{\"判断相符\":\\'1\\',\\'原因\\':\"召回结果符合原词条，召回结果的范围比原词条大一些，但可以覆盖原词条\" }',\n",
       " '{\"判断相符\":\\'3\\',\\'原因\\':\"召回结果和原词条完全不相符，原词条是老鸭菌骨汤，召回结果是羊肚菌山药排骨汤，主要食材完全不同\" }',\n",
       " '{\"判断相符\":\\'2\\',\\'原因\\':\"召回结果部分满足原词条，召回结果少了莲藕，多了红糖和枸杞\" }',\n",
       " '{\"判断相符\":\\'2\\',\\'原因\\':\"召回结果部分满足原词条，原词条强调的是少糖和养生，召回结果只提到了饱腹和杂粮，缺少对糖分和养生属性的描述\"}',\n",
       " '{\"判断相符\":\\'1\\',\\'原因\\':\"召回结果符合原词条，召回结果比原词条多了一个描述词‘黄金’，但本质上是相同的食物\" }',\n",
       " '{\"判断相符\":\\'2\\',\\'原因\\':\"召回结果部分满足原词条，原词条是清淡小菜，召回结果是素炒洋芋擦擦，虽然都是清淡的，但具体菜品不完全一致\" }',\n",
       " '{\"判断相符\":\\'2\\',\\'原因\\':\"召回结果部分满足原词条，原词条是卤心皮蛋粥，召回结果是皮蛋干贝砂锅粥，少了卤心但多了干贝\" }',\n",
       " '{\"判断相符\":\\'1\\',\\'原因\\':\"召回结果符合原词条，召回结果只是商家起的更可爱的名字，实质内容与原词条一致\" }',\n",
       " '{\"判断相符\":\\'3\\',\\'原因\\':\"召回结果和原词条完全不相符，原词条强调的是温度适宜，而召回结果是关于油豆腐的烹饪时间\" }',\n",
       " '{\"判断相符\":\\'2\\',\\'原因\\':\"召回结果部分满足原词条，召回结果少了山药，且养胃粥和补血粥的口味不一致\"}',\n",
       " '{\"判断相符\":\\'2\\',\\'原因\\':\"召回结果部分满足原词条，原词条是小炒，召回结果是粥，且增加了鸡肉和青菜\" }',\n",
       " '{\"判断相符\":\\'3\\',\\'原因\\':\"召回结果和原词条完全不相符，原词条是味精，召回结果是小米苟杞粥\" }',\n",
       " '{\"判断相符\":\\'2\\',\\'原因\\':\"召回结果部分满足原词条，原词条是山药红枣养胃粥，召回结果是红糖红枣枸杞补血粥，缺少了山药，且目的从养胃变为补血\" }',\n",
       " '{\"判断相符\":\\'3\\',\\'原因\\':\"召回结果和原词条完全不相符，原词条是鸡皮暖性粥，召回结果是姜丝枸杞驱寒粥，两者成分和功效完全不同\" }',\n",
       " '{\"判断相符\":\\'2\\',\\'原因\\':\"召回结果部分满足原词条，原词条的是小油菜，召回结果是没有小油菜\" }',\n",
       " '{\"判断相符\":\\'1\\',\\'原因\\':\"召回结果符合原词条，召回结果比原词条具体，但依然属于汤面的范畴\" }',\n",
       " '{\"判断相符\":\\'1\\',\\'原因\\':\"召回结果符合原词条，召回结果比原词条大，但是可以覆盖原词条\" }',\n",
       " '{\"判断相符\":\\'2\\',\\'原因\\':\"召回结果部分满足原词条，原词条的是拌面，召回结果多了虾仁\" }',\n",
       " '{\"判断相符\":\\'1\\',\\'原因\\':\"召回结果符合原词条，召回结果使用了更可爱的名字\\'皮皮蛋\\'，但实质内容与原词条一致\" }',\n",
       " '{\"判断相符\":\\'1\\',\\'原因\\':\"召回结果符合原词条，召回结果比原词条大，但是和原词条相符\" }',\n",
       " '{\"判断相符\":\\'3\\',\\'原因\\':\"召回结果和原词条完全不相符，原词条是燕尾皮蛋粥，召回结果是八宝豆沙粥\" }',\n",
       " '{\"判断相符\":\\'2\\',\\'原因\\':\"召回结果部分满足原词条，原词条的是清淡菜品，召回结果是清水鱼加白菜，范围比原词条小\" }',\n",
       " '{\"判断相符\":\\'1\\',\\'原因\\':\"召回结果符合原词条，召回结果比原词条大，但是和原词条相符\" }',\n",
       " '{\"判断相符\":\\'2\\',\\'原因\\':\"召回结果部分满足原词条，原词条是菠菜，召回结果是芹菜和木耳\" }',\n",
       " '{\"判断相符\":\\'2\\',\\'原因\\':\"召回结果部分满足原词条，原词条是小米粥，召回结果多了绿豆和百合\" }',\n",
       " '{\"判断相符\":\\'2\\',\\'原因\\':\"召回结果部分满足原词条，原词条的是油菜，召回结果是卷心菜\" }',\n",
       " '{\"判断相符\":\\'2\\',\\'原因\\':\"召回结果部分满足原词条，原词条是小米粥，召回结果多了糯米\" }',\n",
       " '{\"判断相符\":\\'1\\',\\'原因\\':\"召回结果符合原词条，召回结果比原词条大，但是可以覆盖原词条\" }',\n",
       " '{\"判断相符\":\\'2\\',\\'原因\\':\"召回结果部分满足原词条，原词条的是地瓜，召回结果是玉米南瓜\" }',\n",
       " '{\"判断相符\":\\'1\\',\\'原因\\':\"召回结果符合原词条，召回结果和原词条相符，只是少了\\'炖\\'字，但不影响整体意思\" }',\n",
       " '{\"判断相符\":\\'3\\',\\'原因\\':\"召回结果和原词条完全不相符，原词条是家长第三线，召回结果是番茄炒蛋丨天生一对\" }',\n",
       " '{\"判断相符\":\\'1\\',\\'原因\\':\"召回结果符合原词条\" }',\n",
       " '{\"判断相符\":\\'1\\',\\'原因\\':\"召回结果符合原词条，虽然召回结果的名称略有不同，但主要内容和大白菜、豆腐、拆骨肉与原词条的柴骨肉、白菜、豆腐相符，且都是炖菜\" }',\n",
       " '{\"判断相符\":\\'1\\',\\'原因\\':\"召回结果符合原词条，召回结果比原词条大，但是和原词条相符\" }',\n",
       " '{\"判断相符\":\\'1\\',\\'原因\\':\"召回结果符合原词条，召回结果比原词条更具体，但依然属于热粥的范畴\" }',\n",
       " '{\"判断相符\":\\'3\\',\\'原因\\':\"召回结果和原词条完全不相符，原词条是虾米草原白菜，召回结果是虫草花拌菠菜，两者食材完全不同\" }',\n",
       " '{\"判断相符\":\\'1\\',\\'原因\\':\"召回结果符合原词条，召回结果比原词条大，但是和原词条相符\" }',\n",
       " '{\"判断相符\":\\'1\\',\\'原因\\':\"召回结果符合原词条，召回结果比原词条多加了小米，但整体符合原词条的要求\" }',\n",
       " '{\"判断相符\":\\'2\\',\\'原因\\':\"召回结果部分满足原词条，原词条是黑米，召回结果是小米红糖红枣，虽然都是养胃粥但主料不同\" }',\n",
       " '{\"判断相符\":\\'3\\',\\'原因\\':\"召回结果和原词条完全不相符，原词条是岳父娃娃菜炖豆腐，召回结果是巴沙鱼单人餐鱼豆腐丸子娃娃菜金针菇米饭，内容完全不同\" }',\n",
       " '{\"判断相符\":\\'2\\',\\'原因\\':\"召回结果部分满足原词条，原词条是挪威小米粥，召回结果多了燕麦和南瓜\" }',\n",
       " '{\"判断相符\":\\'3\\',\\'原因\\':\"召回结果和原词条完全不相符，原词条是关于天猫精灵的内容，而召回结果是关于食物的\" }',\n",
       " '{\"判断相符\":\\'1\\',\\'原因\\':\"召回结果符合原词条，召回结果比原词条大，但是和原词条相符\" }',\n",
       " '{\"判断相符\":\\'2\\',\\'原因\\':\"召回结果部分满足原词条，召回结果比原词条多了花旗参、枸杞和鸽子，少了花生\" }',\n",
       " '{\"判断相符\":\\'1\\',\\'原因\\':\"召回结果符合原词条，召回结果比原词条多加了红糖，但基本覆盖了原词条的内容\" }',\n",
       " '{\"判断相符\":\\'1\\',\\'原因\\':\"召回结果符合原词条，召回结果与原词条完全一致\" }',\n",
       " '{\"判断相符\":\\'2\\',\\'原因\\':\"召回结果部分满足原词条，原词条的是卤汁面，召回结果是没有卤汁但有菠菜\" }',\n",
       " '{\"判断相符\":\\'2\\',\\'原因\\':\"召回结果部分满足原词条，原词条是莴笋肉丝炒饭，召回结果少了莴笋，多了鸡蛋和青菜\" }',\n",
       " '{\"判断相符\":\\'2\\',\\'原因\\':\"召回结果部分满足原词条，原词条是酸辣粉丝炒包菜，召回结果多了肉丝，少了辣味\" }',\n",
       " '{\"判断相符\":\\'3\\',\\'原因\\':\"召回结果和原词条完全不相符，原词条是热乎的汤，召回结果是油豆腐炖了一个小时，两者内容不相关\" }',\n",
       " '{\"判断相符\":\\'2\\',\\'原因\\':\"召回结果部分满足原词条，原词条包含山芋和面，召回结果中没有这些成分\" }',\n",
       " '{\"判断相符\":\\'1\\',\\'原因\\':\"召回结果符合原词条，召回结果比原词条大，增加了红糖和南瓜，但基本元素红枣和小米粥保持一致\" }',\n",
       " '{\"判断相符\":\\'1\\',\\'原因\\':\"召回结果符合原词条，召回结果比原词条大，但是可以覆盖原词条\" }',\n",
       " '{\"判断相符\":\\'3\\',\\'原因\\':\"召回结果和原词条完全不相符，原词条是糕点，召回结果是番茄炒鸡蛋\" }',\n",
       " '{\"判断相符\":\\'1\\',\\'原因\\':\"召回结果符合原词条，召回结果比原词条大，但是可以覆盖原词条\" }',\n",
       " '{\"判断相符\":\\'1\\',\\'原因\\':\"召回结果符合原词条，召回结果比原词条多加了‘家常’二字，但内容相符\"}',\n",
       " '{\"判断相符\":\\'1\\',\\'原因\\':\"召回结果符合原词条，召回结果比原词条多了一个清炒的做法，但是可以覆盖原词条\" }',\n",
       " '{\"判断相符\":\\'2\\',\\'原因\\':\"召回结果部分满足原词条，原词条的是浇头饭，召回结果是盖饭，且增加了肉末\" }',\n",
       " '{\"判断相符\":\\'2\\',\\'原因\\':\"召回结果部分满足原词条，原词条是砂锅豆腐汤，召回结果多了西兰花和鸡蛋\" }',\n",
       " '{\"判断相符\":\\'1\\',\\'原因\\':\"召回结果符合原词条，召回结果使用了更可爱的名字\\'皮皮蛋\\'，但实质内容与原词条一致\" }',\n",
       " '{\"判断相符\":\\'2\\',\\'原因\\':\"召回结果部分满足原词条，原词条是黑米杂粮，召回结果是小米南瓜，虽然都是养生粥但杂粮种类不同\"}',\n",
       " '{\"判断相符\":\\'2\\',\\'原因\\':\"召回结果部分满足原词条，原词条的是鲜香，召回结果是香菇\" }',\n",
       " '{\"判断相符\":\\'1\\',\\'原因\\':\"召回结果符合原词条，召回结果比原词条大，但是可以覆盖原词条\" }',\n",
       " '{\"判断相符\":\\'3\\',\\'原因\\':\"召回结果和原词条完全不相符，原词条是腰果干香寿司包菜板，召回结果是紫米肉松紫菜包饭，两者在主要成分和风味上完全不同\" }',\n",
       " '{\"判断相符\":\\'2\\',\\'原因\\':\"召回结果部分满足原词条，原词条是酸汤，召回结果是酸辣鸡蛋汤，多了辣和鸡蛋\" }',\n",
       " '{\"判断相符\":\\'1\\',\\'原因\\':\"召回结果符合原词条，召回结果比原词条更具体，但核心内容一致\" }',\n",
       " '{\"判断相符\":\\'2\\',\\'原因\\':\"召回结果部分满足原词条，召回结果多了榨菜\" }',\n",
       " '{\"判断相符\":\\'1\\',\\'原因\\':\"召回结果符合原词条\" }',\n",
       " '{\"判断相符\":\\'1\\',\\'原因\\':\"召回结果符合原词条，召回结果比原词条大，增加了香菇和砂锅的细节，但和原词条相符\"}',\n",
       " '{\"判断相符\":\\'1\\',\\'原因\\':\"召回结果符合原词条，召回结果与原词条描述的食物相同，只是表述方式不同\" }',\n",
       " '{\"判断相符\":\\'2\\',\\'原因\\':\"召回结果部分满足原词条，原词条是青椒鸡蛋，召回结果是鸡蛋木耳炒大葱，缺少青椒，多了木耳和大葱\" }',\n",
       " '{\"判断相符\":\\'2\\',\\'原因\\':\"召回结果部分满足原词条，原词条的是荷叶甜粥，召回结果是桂花雪梨粥，口味和部分材料不一致\" }',\n",
       " '{\"判断相符\":\\'2\\',\\'原因\\':\"召回结果部分满足原词条，原词条的是公斤菜，召回结果是芥兰苗，虽然都是蔬菜类，但不完全相同\" }',\n",
       " '{\"判断相符\":\\'2\\',\\'原因\\':\"召回结果部分满足原词条，原词条包含肉片，召回结果没有肉片但有莲子\" }',\n",
       " '{\"判断相符\":\\'2\\',\\'原因\\':\"召回结果部分满足原词条，原词条是鲜味粥，召回结果是蛋花青菜粥，口味和配料不完全一致\"}',\n",
       " '{\"判断相符\":\\'2\\',\\'原因\\':\"召回结果部分满足原词条，原词条是香菇，召回结果是猴头菇\" }',\n",
       " '{\"判断相符\":\\'1\\',\\'原因\\':\"召回结果符合原词条，召回结果比原词条更具体，但核心内容一致\" }',\n",
       " '{\"判断相符\":\\'1\\',\\'原因\\':\"召回结果符合原词条，召回结果详细描述了原词条的内容\" }',\n",
       " '{\"判断相符\":\\'1\\',\\'原因\\':\"召回结果符合原词条，召回结果比原词条大，但是可以覆盖原词条\" }',\n",
       " '{\"判断相符\":\\'3\\',\\'原因\\':\"召回结果和原词条完全不相符，原词条与召回结果在内容和主题上无任何关联\" }',\n",
       " '{\"判断相符\":\\'1\\',\\'原因\\':\"召回结果符合原词条，召回结果比原词条更具体，但都属于健康杂粮米饭的范畴\" }',\n",
       " '{\"判断相符\":\\'2\\',\\'原因\\':\"召回结果部分满足原词条，原词条的是浇面，召回结果多了菠菜\" }',\n",
       " '{\"判断相符\":\\'3\\',\\'原因\\':\"召回结果和原词条完全不相符，原词条是软面，召回结果是刀削面\" }',\n",
       " '{\"判断相符\":\\'2\\',\\'原因\\':\"召回结果部分满足原词条，原词条是鲜鱼，召回结果是鱼丸，且增加了海带\" }',\n",
       " '{\"判断相符\":\\'2\\',\\'原因\\':\"召回结果部分满足原词条，原词条的是鸡胸肉，召回结果是低脂火腿\" }',\n",
       " '{\"判断相符\":\\'1\\',\\'原因\\':\"召回结果符合原词条，召回结果比原词条大，增加了玉米，但基本覆盖了原词条的内容\" }',\n",
       " '{\"判断相符\":\\'2\\',\\'原因\\':\"召回结果部分满足原词条，召回结果多了榨菜，但基本符合原词条的内容\" }',\n",
       " '{\"判断相符\":\\'3\\',\\'原因\\':\"召回结果和原词条完全不相符，原词条是舞蹈相关的，召回结果是食物\" }',\n",
       " '{\"判断相符\":\\'1\\',\\'原因\\':\"召回结果符合原词条，召回结果与原词条基本一致，只是表述上略有不同\" }',\n",
       " '{\"判断相符\":\\'1\\',\\'原因\\':\"召回结果符合原词条，虽然顺序不同，但包含所有原词条的关键成分\" }',\n",
       " '{\"判断相符\":\\'1\\',\\'原因\\':\"召回结果符合原词条，召回结果和原词条相符，只是甜味的来源描述不同\" }',\n",
       " '{\"判断相符\":\\'1\\',\\'原因\\':\"召回结果符合原词条，召回结果只是商家起的更可爱的名字，实质内容与原词条一致\" }',\n",
       " '{\"判断相符\":\\'1\\',\\'原因\\':\"召回结果符合原词条，召回结果和原词条相符，只是词语顺序不同\" }',\n",
       " '{\"判断相符\":\\'3\\',\\'原因\\':\"召回结果和原词条完全不相符，原词条是土豆豆角炒饭，召回结果是干豆腐炒土豆粉\" }',\n",
       " '{\"判断相符\":\\'1\\',\\'原因\\':\"召回结果符合原词条，召回结果比原词条多了一个\\'鲜炒\\'的烹饪方式描述，但主要内容一致\" }',\n",
       " '{\"判断相符\":\\'3\\',\\'原因\\':\"召回结果和原词条完全不相符，原词条是枸杞炖卤鸽，召回结果是淮山杞子炖竹丝鸡，两者主料完全不同\" }',\n",
       " '{\"判断相符\":\\'1\\',\\'原因\\':\"召回结果符合原词条\" }',\n",
       " '{\"判断相符\":\\'1\\',\\'原因\\':\"召回结果完全符合原词条\" }',\n",
       " '{\"判断相符\":\\'1\\',\\'原因\\':\"召回结果符合原词条，召回结果比原词条更具体，但本质上是相同的食物\" }',\n",
       " '{\"判断相符\":\\'2\\',\\'原因\\':\"召回结果部分满足原词条，原词条是新家干贝玉米粥，召回结果是双人干贝鲜虾砂锅粥，多了鲜虾少了玉米\" }',\n",
       " '{\"判断相符\":\\'1\\',\\'原因\\':\"召回结果符合原词条，召回结果比原词条多加了红枣，但基本成分一致\" }',\n",
       " '{\"判断相符\":\\'2\\',\\'原因\\':\"召回结果部分满足原词条，召回结果比原词条多加了糯米\" }',\n",
       " '{\"判断相符\":\\'1\\',\\'原因\\':\"召回结果符合原词条，召回结果的蒜茸和原词条的蒜香是同一食材的不同表述方式，且都是炒油麦菜\" }',\n",
       " '{\"判断相符\":\\'3\\',\\'原因\\':\"召回结果和原词条完全不相符，原词条是深海鱼豆腐汤，召回结果是海带豆腐味噌汤，两者主要成分不同\" }',\n",
       " '{\"判断相符\":\\'1\\',\\'原因\\':\"召回结果符合原词条，召回结果使用了更可爱的名字\\'皮皮蛋\\'，但实质内容与原词条一致\"}',\n",
       " '{\"判断相符\":\\'1\\',\\'原因\\':\"召回结果符合原词条，召回结果的范围和原词条相符，都是鸡汤面\" }',\n",
       " '{\"判断相符\":\\'3\\',\\'原因\\':\"召回结果和原词条完全不相符，原词条是蒜香油菜，召回结果是蒜黄香干炒肉丝，两者主要食材和做法完全不同\" }',\n",
       " '{\"判断相符\":\\'1\\',\\'原因\\':\"召回结果符合原词条，虽然召回结果比原词条详细，但可以覆盖原词条的内容\" }',\n",
       " '{\"判断相符\":\\'3\\',\\'原因\\':\"召回结果和原词条完全不相符，原词条是姜汤，召回结果是牛肉当归粥，两者在主要成分和风味上完全不同\" }',\n",
       " '{\"判断相符\":\\'1\\',\\'原因\\':\"召回结果符合原词条，召回结果的范围比原词条大一些，但可以覆盖原词条\" }',\n",
       " '{\"判断相符\":\\'1\\',\\'原因\\':\"召回结果符合原词条，召回结果比原词条大，但是和原词条相符\" }',\n",
       " '{\"判断相符\":\\'2\\',\\'原因\\':\"召回结果部分满足原词条，原词条是家常粉丝炒包菜，召回结果多了酸和肉丝\" }',\n",
       " '{\"判断相符\":\\'1\\',\\'原因\\':\"召回结果符合原词条，召回结果比原词条更具体，但本质上是相同的\" }',\n",
       " '{\"判断相符\":\\'1\\',\\'原因\\':\"召回结果符合原词条，召回结果比原词条大，但是可以覆盖原词条\" }',\n",
       " '{\"判断相符\":\\'1\\',\\'原因\\':\"召回结果符合原词条，召回结果比原词条更具体，增加了胡萝卜，但整体相符\"}',\n",
       " '{\"判断相符\":\\'1\\',\\'原因\\':\"召回结果符合原词条，召回结果范围比原词条大，但是可以覆盖原词条\" }',\n",
       " '{\"判断相符\":\\'2\\',\\'原因\\':\"召回结果部分满足原词条，原词条是炒肉，召回结果是炖豆腐，且增加了五花肉和豆腐\" }',\n",
       " '{\"判断相符\":\\'1\\',\\'原因\\':\"召回结果符合原词条，召回结果使用了更可爱的名字\\'皮皮蛋\\'，但实质内容与原词条一致\" }',\n",
       " '{\"判断相符\":\\'3\\',\\'原因\\':\"召回结果和原词条完全不相符，原词条指的是蛋宝，召回结果是八宝粥\" }',\n",
       " '{\"判断相符\":\\'2\\',\\'原因\\':\"召回结果部分满足原词条，原词条是暖心包，召回结果是炖菜，缺少了包的形式\" }',\n",
       " '{\"判断相符\":\\'1\\',\\'原因\\':\"召回结果符合原词条，召回结果比原词条大，增加了红枣，但基本覆盖原词条\" }',\n",
       " '{\"判断相符\":\\'1\\',\\'原因\\':\"召回结果符合原词条，召回结果比原词条大，但是和原词条相符\" }',\n",
       " '{\"判断相符\":\\'1\\',\\'原因\\':\"召回结果符合原词条，召回结果比原词条大，但是和原词条相符\" }',\n",
       " '{\"判断相符\":\\'1\\',\\'原因\\':\"召回结果符合原词条，召回结果使用了更可爱的名字\\'皮皮蛋\\'，但实质内容与原词条一致\"}',\n",
       " '{\"判断相符\":\\'1\\',\\'原因\\':\"召回结果符合原词条，召回结果比原词条大，但是和原词条相符\" }',\n",
       " '{\"判断相符\":\\'1\\',\\'原因\\':\"召回结果符合原词条，召回结果使用了更可爱的名字\\'皮皮蛋\\'，但实质内容与原词条一致\" }',\n",
       " '{\"判断相符\":\\'1\\',\\'原因\\':\"召回结果符合原词条，虽然顺序不同但食材和烹饪方法一致\" }',\n",
       " '{\"判断相符\":\\'2\\',\\'原因\\':\"召回结果部分满足原词条，原词条包含银耳，召回结果没有银耳，但都包含红枣和枸杞\" }',\n",
       " '{\"判断相符\":\\'2\\',\\'原因\\':\"召回结果部分满足原词条，原词条是雪菜肉丝，召回结果是小白菜和粉条，缺少雪菜\" }',\n",
       " '{\"判断相符\":\\'2\\',\\'原因\\':\"召回结果部分满足原词条，原词条包含小米油菜和香锅，召回结果只有洋白菜和酱爆，缺少小米油菜和香锅元素\"}',\n",
       " '{\"判断相符\":\\'3\\',\\'原因\\':\"召回结果和原词条完全不相符\" }',\n",
       " '{\"判断相符\":\\'2\\',\\'原因\\':\"召回结果部分满足原词条，原词条的范围更广，召回结果只是家常菜中的一种\" }',\n",
       " '{\"判断相符\":\\'1\\',\\'原因\\':\"召回结果符合原词条，召回结果比原词条大，但是和原词条相符\" }',\n",
       " '{\"判断相符\":\\'1\\',\\'原因\\':\"召回结果符合原词条，召回结果和原词条描述的是同一道菜，只是名称略有不同\" }',\n",
       " '{\"判断相符\":\\'2\\',\\'原因\\':\"召回结果部分满足原词条，原词条的是橄榄，召回结果是卷心菜\" }',\n",
       " '{\"判断相符\":\\'1\\',\\'原因\\':\"召回结果符合原词条，虽然顺序不同，但所有关键成分都一致\" }',\n",
       " '{\"判断相符\":\\'2\\',\\'原因\\':\"召回结果部分满足原词条，原词条的是粉条，召回结果是豆腐粉丝汤，虽然都含有粉丝，但多了豆腐\" }',\n",
       " '{\"判断相符\":\\'3\\',\\'原因\\':\"召回结果和原词条完全不相符，原词条是轩鱼南热粥，召回结果是广式荔湾艇仔粥，两者在主要成分和风味上没有关联\" }',\n",
       " '{\"判断相符\":\\'1\\',\\'原因\\':\"召回结果符合原词条，召回结果比原词条多加了红豆，但主要成分黑米和花生与原词条相符\" }',\n",
       " '{\"判断相符\":\\'3\\',\\'原因\\':\"召回结果和原词条完全不相符，原词条是奶白菜豆腐包，召回结果是干豆腐炒土豆粉\" }',\n",
       " '{\"判断相符\":\\'3\\',\\'原因\\':\"召回结果和原词条完全不相符，原词条是寿司宝钗，召回结果是苹果紫菜饭，两者无关联\" }',\n",
       " '{\"判断相符\":\\'1\\',\\'原因\\':\"召回结果符合原词条，召回结果范围比原词条大，但是可以覆盖原词条\" }',\n",
       " '{\"判断相符\":\\'2\\',\\'原因\\':\"召回结果部分满足原词条，原词条是虎皮蛋，召回结果是皮蛋，虽然都是蛋类，但具体种类不同\" }',\n",
       " '{\"判断相符\":\\'1\\',\\'原因\\':\"召回结果符合原词条，召回结果比原词条多了\\'小份农家\\'的描述，但核心内容\\'手撕包菜\\'与原词条一致\" }',\n",
       " '{\"判断相符\":\\'2\\',\\'原因\\':\"召回结果部分满足原词条，原词条是羊肉，召回结果是排骨，且增加了羊肚菌\" }',\n",
       " '{\"判断相符\":\\'1\\',\\'原因\\':\"召回结果符合原词条，召回结果比原词条更具体，但核心内容一致\" }',\n",
       " '{\"判断相符\":\\'1\\',\\'原因\\':\"召回结果符合原词条，召回结果比原词条大，但是和原词条相符\" }',\n",
       " '{\"判断相符\":\\'1\\',\\'原因\\':\"召回结果符合原词条，召回结果比原词条大，但可以覆盖原词条\" }',\n",
       " '{\"判断相符\":\\'1\\',\\'原因\\':\"召回结果符合原词条，召回结果比原词条大，但是和原词条相符\" }',\n",
       " ...]"
      ]
     },
     "execution_count": 2,
     "metadata": {},
     "output_type": "execute_result"
    }
   ],
   "source": [
    "data"
   ]
  },
  {
   "cell_type": "code",
   "execution_count": 3,
   "id": "488cd200",
   "metadata": {},
   "outputs": [],
   "source": [
    "one = 0\n",
    "two = 0\n",
    "three = 0\n",
    "\n",
    "for line in data:\n",
    "    if '1' in line:\n",
    "        one += 1\n",
    "    if '2' in line:\n",
    "        two += 1\n",
    "    if '3' in line:\n",
    "        three += 1\n",
    "         "
   ]
  },
  {
   "cell_type": "code",
   "execution_count": 4,
   "id": "8658c1d5",
   "metadata": {},
   "outputs": [
    {
     "data": {
      "text/plain": [
       "(1126, 518, 334)"
      ]
     },
     "execution_count": 4,
     "metadata": {},
     "output_type": "execute_result"
    }
   ],
   "source": [
    "one,two,three"
   ]
  },
  {
   "cell_type": "code",
   "execution_count": 5,
   "id": "b6758e22",
   "metadata": {},
   "outputs": [
    {
     "name": "stdout",
     "output_type": "stream",
     "text": [
      "0.8311425682507584\n"
     ]
    }
   ],
   "source": [
    "print((one+two)/(one+two+three))"
   ]
  }
 ],
 "metadata": {
  "kernelspec": {
   "display_name": ".venv",
   "language": "python",
   "name": "python3"
  },
  "language_info": {
   "codemirror_mode": {
    "name": "ipython",
    "version": 3
   },
   "file_extension": ".py",
   "mimetype": "text/x-python",
   "name": "python",
   "nbconvert_exporter": "python",
   "pygments_lexer": "ipython3",
   "version": "3.9.22"
  }
 },
 "nbformat": 4,
 "nbformat_minor": 5
}
